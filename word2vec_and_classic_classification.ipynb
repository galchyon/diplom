{
  "nbformat": 4,
  "nbformat_minor": 0,
  "metadata": {
    "colab": {
      "provenance": []
    },
    "kernelspec": {
      "name": "python3",
      "display_name": "Python 3"
    },
    "language_info": {
      "name": "python"
    }
  },
  "cells": [
    {
      "cell_type": "code",
      "execution_count": null,
      "metadata": {
        "colab": {
          "base_uri": "https://localhost:8080/"
        },
        "id": "OjVagb4r6Fep",
        "outputId": "995a964e-f7d6-4ba9-ec21-73850bc8ef95"
      },
      "outputs": [
        {
          "output_type": "stream",
          "name": "stdout",
          "text": [
            "Mounted at /content/drive\n"
          ]
        }
      ],
      "source": [
        "from google.colab import drive\n",
        "drive.mount('/content/drive')\n",
        "\n",
        "import numpy as np\n",
        "import pandas as pd\n",
        "import torch\n",
        "import itertools\n",
        "import string\n",
        "import numpy as np\n",
        "from IPython.display import clear_output\n",
        "from matplotlib import pyplot as plt\n",
        "from gensim.models import word2vec\n",
        "from collections import Counter\n",
        "\n",
        "from sklearn.model_selection import train_test_split\n",
        "from sklearn.linear_model import LogisticRegression\n",
        "from sklearn.model_selection import GridSearchCV\n",
        "from sklearn.model_selection import cross_val_score\n",
        "from sklearn.model_selection import train_test_split\n",
        "from sklearn.pipeline import Pipeline\n",
        "from sklearn.feature_extraction.text import TfidfVectorizer\n",
        "from sklearn.linear_model import SGDClassifier\n",
        "\n",
        "from sklearn import metrics\n",
        "from sklearn.model_selection import GridSearchCV\n",
        "\n",
        "from sklearn.ensemble import RandomForestClassifier\n",
        "\n",
        "from sklearn.manifold import TSNE\n",
        "import plotly.express as px"
      ]
    },
    {
      "cell_type": "code",
      "source": [
        "df = pd.read_csv('/content/drive/MyDrive/df_difficult_26_01.csv')\n",
        "target_names = list(set(df['doc_name'].tolist()))\n",
        "label2idx = {label: idx for idx, label in enumerate(target_names)}\n",
        "print(label2idx)\n",
        "df['doc_name_enc']=df['doc_name'].replace(label2idx)\n",
        "df"
      ],
      "metadata": {
        "colab": {
          "base_uri": "https://localhost:8080/",
          "height": 635
        },
        "id": "4pD_HTk66LMX",
        "outputId": "cb82154b-3527-4a21-ef7a-b2d411a3b924"
      },
      "execution_count": null,
      "outputs": [
        {
          "output_type": "stream",
          "name": "stdout",
          "text": [
            "{'Указ, региональный уровень, глава исполнительной власти': 0, 'Постановление, региональный уровень, органы исполнительной власти': 1, 'Распоряжение, региональный уровень, правительство': 2, 'Закон, федеральный уровень, законодательный орган': 3, 'Приказ, федеральный уровень, органы исполнительной власти': 4, 'Указ, федеральный уровень, глава исполнительной власти': 5, 'Постановление, региональный уровень, правительство': 6, 'Приказ, региональный уровень, органы исполнительной власти': 7, 'Постановление, региональный уровень, глава исполнительной власти': 8, 'Распоряжение, федеральный уровень, глава исполнительной власти': 9, 'Постановление, региональный уровень, законодательный орган': 10, 'Постановление, федеральный уровень, правительство': 11, 'Закон, региональный уровень, законодательный орган': 12, 'Распоряжение, региональный уровень, глава исполнительной власти': 13, 'Распоряжение, федеральный уровень, правительство': 14}\n"
          ]
        },
        {
          "output_type": "execute_result",
          "data": {
            "text/plain": [
              "                                                doc_name  \\\n",
              "0      Распоряжение, федеральный уровень, глава испол...   \n",
              "1      Распоряжение, федеральный уровень, глава испол...   \n",
              "2      Указ, федеральный уровень, глава исполнительно...   \n",
              "3      Распоряжение, федеральный уровень, глава испол...   \n",
              "4      Распоряжение, федеральный уровень, глава испол...   \n",
              "...                                                  ...   \n",
              "22886  Указ, региональный уровень, глава исполнительн...   \n",
              "22887  Указ, региональный уровень, глава исполнительн...   \n",
              "22888  Указ, региональный уровень, глава исполнительн...   \n",
              "22889  Указ, региональный уровень, глава исполнительн...   \n",
              "22890  Указ, региональный уровень, глава исполнительн...   \n",
              "\n",
              "                                                doc_text  \\\n",
              "0      распоряжение президента российской федерации о...   \n",
              "1      распоряжение президента российской федерации о...   \n",
              "2      указ президента российской федерации об освобо...   \n",
              "3      распоряжение президента российской федерации о...   \n",
              "4      распоряжение президента российской федерации о...   \n",
              "...                                                  ...   \n",
              "22886  губернатор орловской области у к аз о мерах по...   \n",
              "22887  ммжхжчмитжкъщ  а  г х м  башкортостан республи...   \n",
              "22888  у к а з губернатора пермского края   об отмене...   \n",
              "22889  у к а з губернатора пермского края   г об утве...   \n",
              "22890  указ об отмене ограничительных мероприятий кар...   \n",
              "\n",
              "                                              text_token  \\\n",
              "0      распоряжение президент российский федерация ус...   \n",
              "1      распоряжение президент российский федерация пр...   \n",
              "2      указ президент российский федерация освобожден...   \n",
              "3      распоряжение президент российский федерация по...   \n",
              "4      распоряжение президент российский федерация по...   \n",
              "...                                                  ...   \n",
              "22886  губернатор орловский область мера проведение к...   \n",
              "22887  ммжхжчмитжкъщий башкортостан республикаь респу...   \n",
              "22888  губернатор пермский край отмена ограничение ка...   \n",
              "22889  губернатор пермский край утверждение порядок п...   \n",
              "22890  указ отмена ограничительный мероприятие карант...   \n",
              "\n",
              "                                      text_token_filtred  \\\n",
              "0      распоряжение президент российский федерация ус...   \n",
              "1      распоряжение президент российский федерация пр...   \n",
              "2      указ президент российский федерация освобожден...   \n",
              "3      распоряжение президент российский федерация по...   \n",
              "4      распоряжение президент российский федерация по...   \n",
              "...                                                  ...   \n",
              "22886  губернатор орловский область мера проведение к...   \n",
              "22887  ммжхжчмитжкъщий башкортостан республикаь респу...   \n",
              "22888  губернатор пермский край отмена ограничение ка...   \n",
              "22889  губернатор пермский край утверждение порядок п...   \n",
              "22890  указ отмена ограничительный мероприятие карант...   \n",
              "\n",
              "                                          text_difficult  doc_name_enc  \n",
              "0      комитет российский федерация установить числен...             9  \n",
              "1      российский федерация контроль оборот наркотик ...             9  \n",
              "2      федерация контроль оборот наркотик освободить ...             5  \n",
              "3      многолетний плодотворный деятельность наградит...             9  \n",
              "4      молодёжь объявить благодарность андропов игорь...             9  \n",
              "...                                                  ...           ...  \n",
              "22886  проживать инвалид ветеран великий отечественны...             0  \n",
              "22887  должность заместитель премьер министр правител...             0  \n",
              "22888  посёлок октябрьский соответствие закон российс...             0  \n",
              "22889  должность пермский край отдельный должность го...             0  \n",
              "22890  область соответствие закон российский федераши...             0  \n",
              "\n",
              "[22891 rows x 6 columns]"
            ],
            "text/html": [
              "\n",
              "  <div id=\"df-0402c0f9-2461-4458-9901-f6abc74ac5be\" class=\"colab-df-container\">\n",
              "    <div>\n",
              "<style scoped>\n",
              "    .dataframe tbody tr th:only-of-type {\n",
              "        vertical-align: middle;\n",
              "    }\n",
              "\n",
              "    .dataframe tbody tr th {\n",
              "        vertical-align: top;\n",
              "    }\n",
              "\n",
              "    .dataframe thead th {\n",
              "        text-align: right;\n",
              "    }\n",
              "</style>\n",
              "<table border=\"1\" class=\"dataframe\">\n",
              "  <thead>\n",
              "    <tr style=\"text-align: right;\">\n",
              "      <th></th>\n",
              "      <th>doc_name</th>\n",
              "      <th>doc_text</th>\n",
              "      <th>text_token</th>\n",
              "      <th>text_token_filtred</th>\n",
              "      <th>text_difficult</th>\n",
              "      <th>doc_name_enc</th>\n",
              "    </tr>\n",
              "  </thead>\n",
              "  <tbody>\n",
              "    <tr>\n",
              "      <th>0</th>\n",
              "      <td>Распоряжение, федеральный уровень, глава испол...</td>\n",
              "      <td>распоряжение президента российской федерации о...</td>\n",
              "      <td>распоряжение президент российский федерация ус...</td>\n",
              "      <td>распоряжение президент российский федерация ус...</td>\n",
              "      <td>комитет российский федерация установить числен...</td>\n",
              "      <td>9</td>\n",
              "    </tr>\n",
              "    <tr>\n",
              "      <th>1</th>\n",
              "      <td>Распоряжение, федеральный уровень, глава испол...</td>\n",
              "      <td>распоряжение президента российской федерации о...</td>\n",
              "      <td>распоряжение президент российский федерация пр...</td>\n",
              "      <td>распоряжение президент российский федерация пр...</td>\n",
              "      <td>российский федерация контроль оборот наркотик ...</td>\n",
              "      <td>9</td>\n",
              "    </tr>\n",
              "    <tr>\n",
              "      <th>2</th>\n",
              "      <td>Указ, федеральный уровень, глава исполнительно...</td>\n",
              "      <td>указ президента российской федерации об освобо...</td>\n",
              "      <td>указ президент российский федерация освобожден...</td>\n",
              "      <td>указ президент российский федерация освобожден...</td>\n",
              "      <td>федерация контроль оборот наркотик освободить ...</td>\n",
              "      <td>5</td>\n",
              "    </tr>\n",
              "    <tr>\n",
              "      <th>3</th>\n",
              "      <td>Распоряжение, федеральный уровень, глава испол...</td>\n",
              "      <td>распоряжение президента российской федерации о...</td>\n",
              "      <td>распоряжение президент российский федерация по...</td>\n",
              "      <td>распоряжение президент российский федерация по...</td>\n",
              "      <td>многолетний плодотворный деятельность наградит...</td>\n",
              "      <td>9</td>\n",
              "    </tr>\n",
              "    <tr>\n",
              "      <th>4</th>\n",
              "      <td>Распоряжение, федеральный уровень, глава испол...</td>\n",
              "      <td>распоряжение президента российской федерации о...</td>\n",
              "      <td>распоряжение президент российский федерация по...</td>\n",
              "      <td>распоряжение президент российский федерация по...</td>\n",
              "      <td>молодёжь объявить благодарность андропов игорь...</td>\n",
              "      <td>9</td>\n",
              "    </tr>\n",
              "    <tr>\n",
              "      <th>...</th>\n",
              "      <td>...</td>\n",
              "      <td>...</td>\n",
              "      <td>...</td>\n",
              "      <td>...</td>\n",
              "      <td>...</td>\n",
              "      <td>...</td>\n",
              "    </tr>\n",
              "    <tr>\n",
              "      <th>22886</th>\n",
              "      <td>Указ, региональный уровень, глава исполнительн...</td>\n",
              "      <td>губернатор орловской области у к аз о мерах по...</td>\n",
              "      <td>губернатор орловский область мера проведение к...</td>\n",
              "      <td>губернатор орловский область мера проведение к...</td>\n",
              "      <td>проживать инвалид ветеран великий отечественны...</td>\n",
              "      <td>0</td>\n",
              "    </tr>\n",
              "    <tr>\n",
              "      <th>22887</th>\n",
              "      <td>Указ, региональный уровень, глава исполнительн...</td>\n",
              "      <td>ммжхжчмитжкъщ  а  г х м  башкортостан республи...</td>\n",
              "      <td>ммжхжчмитжкъщий башкортостан республикаь респу...</td>\n",
              "      <td>ммжхжчмитжкъщий башкортостан республикаь респу...</td>\n",
              "      <td>должность заместитель премьер министр правител...</td>\n",
              "      <td>0</td>\n",
              "    </tr>\n",
              "    <tr>\n",
              "      <th>22888</th>\n",
              "      <td>Указ, региональный уровень, глава исполнительн...</td>\n",
              "      <td>у к а з губернатора пермского края   об отмене...</td>\n",
              "      <td>губернатор пермский край отмена ограничение ка...</td>\n",
              "      <td>губернатор пермский край отмена ограничение ка...</td>\n",
              "      <td>посёлок октябрьский соответствие закон российс...</td>\n",
              "      <td>0</td>\n",
              "    </tr>\n",
              "    <tr>\n",
              "      <th>22889</th>\n",
              "      <td>Указ, региональный уровень, глава исполнительн...</td>\n",
              "      <td>у к а з губернатора пермского края   г об утве...</td>\n",
              "      <td>губернатор пермский край утверждение порядок п...</td>\n",
              "      <td>губернатор пермский край утверждение порядок п...</td>\n",
              "      <td>должность пермский край отдельный должность го...</td>\n",
              "      <td>0</td>\n",
              "    </tr>\n",
              "    <tr>\n",
              "      <th>22890</th>\n",
              "      <td>Указ, региональный уровень, глава исполнительн...</td>\n",
              "      <td>указ об отмене ограничительных мероприятий кар...</td>\n",
              "      <td>указ отмена ограничительный мероприятие карант...</td>\n",
              "      <td>указ отмена ограничительный мероприятие карант...</td>\n",
              "      <td>область соответствие закон российский федераши...</td>\n",
              "      <td>0</td>\n",
              "    </tr>\n",
              "  </tbody>\n",
              "</table>\n",
              "<p>22891 rows × 6 columns</p>\n",
              "</div>\n",
              "    <div class=\"colab-df-buttons\">\n",
              "\n",
              "  <div class=\"colab-df-container\">\n",
              "    <button class=\"colab-df-convert\" onclick=\"convertToInteractive('df-0402c0f9-2461-4458-9901-f6abc74ac5be')\"\n",
              "            title=\"Convert this dataframe to an interactive table.\"\n",
              "            style=\"display:none;\">\n",
              "\n",
              "  <svg xmlns=\"http://www.w3.org/2000/svg\" height=\"24px\" viewBox=\"0 -960 960 960\">\n",
              "    <path d=\"M120-120v-720h720v720H120Zm60-500h600v-160H180v160Zm220 220h160v-160H400v160Zm0 220h160v-160H400v160ZM180-400h160v-160H180v160Zm440 0h160v-160H620v160ZM180-180h160v-160H180v160Zm440 0h160v-160H620v160Z\"/>\n",
              "  </svg>\n",
              "    </button>\n",
              "\n",
              "  <style>\n",
              "    .colab-df-container {\n",
              "      display:flex;\n",
              "      gap: 12px;\n",
              "    }\n",
              "\n",
              "    .colab-df-convert {\n",
              "      background-color: #E8F0FE;\n",
              "      border: none;\n",
              "      border-radius: 50%;\n",
              "      cursor: pointer;\n",
              "      display: none;\n",
              "      fill: #1967D2;\n",
              "      height: 32px;\n",
              "      padding: 0 0 0 0;\n",
              "      width: 32px;\n",
              "    }\n",
              "\n",
              "    .colab-df-convert:hover {\n",
              "      background-color: #E2EBFA;\n",
              "      box-shadow: 0px 1px 2px rgba(60, 64, 67, 0.3), 0px 1px 3px 1px rgba(60, 64, 67, 0.15);\n",
              "      fill: #174EA6;\n",
              "    }\n",
              "\n",
              "    .colab-df-buttons div {\n",
              "      margin-bottom: 4px;\n",
              "    }\n",
              "\n",
              "    [theme=dark] .colab-df-convert {\n",
              "      background-color: #3B4455;\n",
              "      fill: #D2E3FC;\n",
              "    }\n",
              "\n",
              "    [theme=dark] .colab-df-convert:hover {\n",
              "      background-color: #434B5C;\n",
              "      box-shadow: 0px 1px 3px 1px rgba(0, 0, 0, 0.15);\n",
              "      filter: drop-shadow(0px 1px 2px rgba(0, 0, 0, 0.3));\n",
              "      fill: #FFFFFF;\n",
              "    }\n",
              "  </style>\n",
              "\n",
              "    <script>\n",
              "      const buttonEl =\n",
              "        document.querySelector('#df-0402c0f9-2461-4458-9901-f6abc74ac5be button.colab-df-convert');\n",
              "      buttonEl.style.display =\n",
              "        google.colab.kernel.accessAllowed ? 'block' : 'none';\n",
              "\n",
              "      async function convertToInteractive(key) {\n",
              "        const element = document.querySelector('#df-0402c0f9-2461-4458-9901-f6abc74ac5be');\n",
              "        const dataTable =\n",
              "          await google.colab.kernel.invokeFunction('convertToInteractive',\n",
              "                                                    [key], {});\n",
              "        if (!dataTable) return;\n",
              "\n",
              "        const docLinkHtml = 'Like what you see? Visit the ' +\n",
              "          '<a target=\"_blank\" href=https://colab.research.google.com/notebooks/data_table.ipynb>data table notebook</a>'\n",
              "          + ' to learn more about interactive tables.';\n",
              "        element.innerHTML = '';\n",
              "        dataTable['output_type'] = 'display_data';\n",
              "        await google.colab.output.renderOutput(dataTable, element);\n",
              "        const docLink = document.createElement('div');\n",
              "        docLink.innerHTML = docLinkHtml;\n",
              "        element.appendChild(docLink);\n",
              "      }\n",
              "    </script>\n",
              "  </div>\n",
              "\n",
              "\n",
              "<div id=\"df-161d2dda-91b8-400e-9333-11786e8d92f4\">\n",
              "  <button class=\"colab-df-quickchart\" onclick=\"quickchart('df-161d2dda-91b8-400e-9333-11786e8d92f4')\"\n",
              "            title=\"Suggest charts\"\n",
              "            style=\"display:none;\">\n",
              "\n",
              "<svg xmlns=\"http://www.w3.org/2000/svg\" height=\"24px\"viewBox=\"0 0 24 24\"\n",
              "     width=\"24px\">\n",
              "    <g>\n",
              "        <path d=\"M19 3H5c-1.1 0-2 .9-2 2v14c0 1.1.9 2 2 2h14c1.1 0 2-.9 2-2V5c0-1.1-.9-2-2-2zM9 17H7v-7h2v7zm4 0h-2V7h2v10zm4 0h-2v-4h2v4z\"/>\n",
              "    </g>\n",
              "</svg>\n",
              "  </button>\n",
              "\n",
              "<style>\n",
              "  .colab-df-quickchart {\n",
              "      --bg-color: #E8F0FE;\n",
              "      --fill-color: #1967D2;\n",
              "      --hover-bg-color: #E2EBFA;\n",
              "      --hover-fill-color: #174EA6;\n",
              "      --disabled-fill-color: #AAA;\n",
              "      --disabled-bg-color: #DDD;\n",
              "  }\n",
              "\n",
              "  [theme=dark] .colab-df-quickchart {\n",
              "      --bg-color: #3B4455;\n",
              "      --fill-color: #D2E3FC;\n",
              "      --hover-bg-color: #434B5C;\n",
              "      --hover-fill-color: #FFFFFF;\n",
              "      --disabled-bg-color: #3B4455;\n",
              "      --disabled-fill-color: #666;\n",
              "  }\n",
              "\n",
              "  .colab-df-quickchart {\n",
              "    background-color: var(--bg-color);\n",
              "    border: none;\n",
              "    border-radius: 50%;\n",
              "    cursor: pointer;\n",
              "    display: none;\n",
              "    fill: var(--fill-color);\n",
              "    height: 32px;\n",
              "    padding: 0;\n",
              "    width: 32px;\n",
              "  }\n",
              "\n",
              "  .colab-df-quickchart:hover {\n",
              "    background-color: var(--hover-bg-color);\n",
              "    box-shadow: 0 1px 2px rgba(60, 64, 67, 0.3), 0 1px 3px 1px rgba(60, 64, 67, 0.15);\n",
              "    fill: var(--button-hover-fill-color);\n",
              "  }\n",
              "\n",
              "  .colab-df-quickchart-complete:disabled,\n",
              "  .colab-df-quickchart-complete:disabled:hover {\n",
              "    background-color: var(--disabled-bg-color);\n",
              "    fill: var(--disabled-fill-color);\n",
              "    box-shadow: none;\n",
              "  }\n",
              "\n",
              "  .colab-df-spinner {\n",
              "    border: 2px solid var(--fill-color);\n",
              "    border-color: transparent;\n",
              "    border-bottom-color: var(--fill-color);\n",
              "    animation:\n",
              "      spin 1s steps(1) infinite;\n",
              "  }\n",
              "\n",
              "  @keyframes spin {\n",
              "    0% {\n",
              "      border-color: transparent;\n",
              "      border-bottom-color: var(--fill-color);\n",
              "      border-left-color: var(--fill-color);\n",
              "    }\n",
              "    20% {\n",
              "      border-color: transparent;\n",
              "      border-left-color: var(--fill-color);\n",
              "      border-top-color: var(--fill-color);\n",
              "    }\n",
              "    30% {\n",
              "      border-color: transparent;\n",
              "      border-left-color: var(--fill-color);\n",
              "      border-top-color: var(--fill-color);\n",
              "      border-right-color: var(--fill-color);\n",
              "    }\n",
              "    40% {\n",
              "      border-color: transparent;\n",
              "      border-right-color: var(--fill-color);\n",
              "      border-top-color: var(--fill-color);\n",
              "    }\n",
              "    60% {\n",
              "      border-color: transparent;\n",
              "      border-right-color: var(--fill-color);\n",
              "    }\n",
              "    80% {\n",
              "      border-color: transparent;\n",
              "      border-right-color: var(--fill-color);\n",
              "      border-bottom-color: var(--fill-color);\n",
              "    }\n",
              "    90% {\n",
              "      border-color: transparent;\n",
              "      border-bottom-color: var(--fill-color);\n",
              "    }\n",
              "  }\n",
              "</style>\n",
              "\n",
              "  <script>\n",
              "    async function quickchart(key) {\n",
              "      const quickchartButtonEl =\n",
              "        document.querySelector('#' + key + ' button');\n",
              "      quickchartButtonEl.disabled = true;  // To prevent multiple clicks.\n",
              "      quickchartButtonEl.classList.add('colab-df-spinner');\n",
              "      try {\n",
              "        const charts = await google.colab.kernel.invokeFunction(\n",
              "            'suggestCharts', [key], {});\n",
              "      } catch (error) {\n",
              "        console.error('Error during call to suggestCharts:', error);\n",
              "      }\n",
              "      quickchartButtonEl.classList.remove('colab-df-spinner');\n",
              "      quickchartButtonEl.classList.add('colab-df-quickchart-complete');\n",
              "    }\n",
              "    (() => {\n",
              "      let quickchartButtonEl =\n",
              "        document.querySelector('#df-161d2dda-91b8-400e-9333-11786e8d92f4 button');\n",
              "      quickchartButtonEl.style.display =\n",
              "        google.colab.kernel.accessAllowed ? 'block' : 'none';\n",
              "    })();\n",
              "  </script>\n",
              "</div>\n",
              "    </div>\n",
              "  </div>\n"
            ]
          },
          "metadata": {},
          "execution_count": 2
        }
      ]
    },
    {
      "cell_type": "code",
      "source": [
        "import gensim.downloader as api\n",
        "print(\"\\n\".join(api.info()['models'].keys()))"
      ],
      "metadata": {
        "colab": {
          "base_uri": "https://localhost:8080/"
        },
        "id": "TvSbm7nj6PvR",
        "outputId": "a047f4ce-385d-4fa7-fc4c-4443fd2b2365"
      },
      "execution_count": null,
      "outputs": [
        {
          "output_type": "stream",
          "name": "stdout",
          "text": [
            "fasttext-wiki-news-subwords-300\n",
            "conceptnet-numberbatch-17-06-300\n",
            "word2vec-ruscorpora-300\n",
            "word2vec-google-news-300\n",
            "glove-wiki-gigaword-50\n",
            "glove-wiki-gigaword-100\n",
            "glove-wiki-gigaword-200\n",
            "glove-wiki-gigaword-300\n",
            "glove-twitter-25\n",
            "glove-twitter-50\n",
            "glove-twitter-100\n",
            "glove-twitter-200\n",
            "__testing_word2vec-matrix-synopsis\n"
          ]
        }
      ]
    },
    {
      "cell_type": "code",
      "source": [
        "word2vec_pre = api.load(\"glove-twitter-50\")\n",
        "tok = df['text_token_filtred'][:3].str.split().tolist()\n",
        "word2vec_pre.most_similar(positive=['президент'])"
      ],
      "metadata": {
        "colab": {
          "base_uri": "https://localhost:8080/"
        },
        "id": "3qDG7Bjj6SXw",
        "outputId": "1e51db63-ace5-40bc-a20e-f006b74b43d1"
      },
      "execution_count": null,
      "outputs": [
        {
          "output_type": "stream",
          "name": "stdout",
          "text": [
            "[==================================================] 100.0% 199.5/199.5MB downloaded\n"
          ]
        },
        {
          "output_type": "execute_result",
          "data": {
            "text/plain": [
              "[('премьер-министр', 0.864189863204956),\n",
              " ('путин', 0.8365647196769714),\n",
              " ('глава', 0.8298710584640503),\n",
              " ('заявил', 0.8257015943527222),\n",
              " ('мид', 0.8176457285881042),\n",
              " ('владимир', 0.8131812810897827),\n",
              " ('посол', 0.810960590839386),\n",
              " ('украины', 0.8079652190208435),\n",
              " ('янукович', 0.8058887720108032),\n",
              " ('грузии', 0.8036628365516663)]"
            ]
          },
          "metadata": {},
          "execution_count": 4
        }
      ]
    },
    {
      "cell_type": "markdown",
      "source": [
        "Своя модель"
      ],
      "metadata": {
        "id": "Z1CLcDzI6YZE"
      }
    },
    {
      "cell_type": "code",
      "source": [
        "data_train, data_valid = train_test_split(df, test_size=0.2, random_state=42)"
      ],
      "metadata": {
        "id": "sq3PHtRq0Q_9"
      },
      "execution_count": null,
      "outputs": []
    },
    {
      "cell_type": "code",
      "source": [
        "texts = data_train['text_token_filtred'].tolist()\n",
        "words = [i.split() for i in texts]\n",
        "count_words = Counter()\n",
        "for text in words:\n",
        "  for i in text:\n",
        "    count_words[i]+=1\n",
        "more_10 = [k for k, v in count_words.items() if v>5]\n",
        "words_more_10 = []\n",
        "for t in words:\n",
        "  passed = [i for i in t if i in more_10]\n",
        "  words_more_10.append(passed)\n",
        "X = np.array(words_more_10)"
      ],
      "metadata": {
        "colab": {
          "base_uri": "https://localhost:8080/"
        },
        "id": "Zlq-XSP96Xvh",
        "outputId": "320ab7f6-6983-4668-e5c0-39d76314f796"
      },
      "execution_count": null,
      "outputs": [
        {
          "output_type": "stream",
          "name": "stderr",
          "text": [
            "<ipython-input-7-b7df34ee5619>:12: VisibleDeprecationWarning: Creating an ndarray from ragged nested sequences (which is a list-or-tuple of lists-or-tuples-or ndarrays with different lengths or shapes) is deprecated. If you meant to do this, you must specify 'dtype=object' when creating the ndarray.\n",
            "  X = np.array(words_more_10)\n"
          ]
        }
      ]
    },
    {
      "cell_type": "code",
      "source": [
        "model_wv = word2vec.Word2Vec(X, vector_size=50, window=5, min_count=1, workers=4)\n",
        "model_wv.wv.most_similar(positive=['президент'])"
      ],
      "metadata": {
        "colab": {
          "base_uri": "https://localhost:8080/"
        },
        "id": "MRXwNqSr6X24",
        "outputId": "8e45f71f-434f-418b-cd44-33712fc2d9f4"
      },
      "execution_count": null,
      "outputs": [
        {
          "output_type": "execute_result",
          "data": {
            "text/plain": [
              "[('глава', 0.5278041362762451),\n",
              " ('федерация', 0.48572176694869995),\n",
              " ('москва', 0.4805662930011749),\n",
              " ('российский', 0.44668683409690857),\n",
              " ('рпref', 0.446634441614151),\n",
              " ('президиум', 0.43792077898979187),\n",
              " ('правительство', 0.42805320024490356),\n",
              " ('россия', 0.4264129400253296),\n",
              " ('консульский', 0.4087441563606262),\n",
              " ('проводы', 0.3894404470920563)]"
            ]
          },
          "metadata": {},
          "execution_count": 8
        }
      ]
    },
    {
      "cell_type": "code",
      "source": [
        "texts = data_train['text_difficult'].tolist()\n",
        "words = [i.split() for i in texts]\n",
        "count_words = Counter()\n",
        "for text in words:\n",
        "  for i in text:\n",
        "    count_words[i]+=1\n",
        "more_10 = [k for k, v in count_words.items() if v>5]\n",
        "words_more_10 = []\n",
        "for t in words:\n",
        "  passed = [i for i in t if i in more_10]\n",
        "  words_more_10.append(passed)\n",
        "X = np.array(words_more_10)\n",
        "model_wv_dif = word2vec.Word2Vec(X, vector_size=50, window=5, min_count=1, workers=4)\n",
        "model_wv_dif.wv.most_similar(positive=['президент'])"
      ],
      "metadata": {
        "colab": {
          "base_uri": "https://localhost:8080/"
        },
        "id": "Z9fzkHbR6laZ",
        "outputId": "487e26e7-1a38-4bf5-b82a-e430b27497ec"
      },
      "execution_count": null,
      "outputs": [
        {
          "output_type": "stream",
          "name": "stderr",
          "text": [
            "<ipython-input-9-cf65957199d8>:12: VisibleDeprecationWarning: Creating an ndarray from ragged nested sequences (which is a list-or-tuple of lists-or-tuples-or ndarrays with different lengths or shapes) is deprecated. If you meant to do this, you must specify 'dtype=object' when creating the ndarray.\n",
            "  X = np.array(words_more_10)\n"
          ]
        },
        {
          "output_type": "execute_result",
          "data": {
            "text/plain": [
              "[('презь', 0.5889976024627686),\n",
              " ('глава', 0.4857938885688782),\n",
              " ('рref', 0.47697287797927856),\n",
              " ('правительство', 0.4720378816127777),\n",
              " ('август', 0.4498530328273773),\n",
              " ('рпref', 0.44389697909355164),\n",
              " ('россия', 0.42638644576072693),\n",
              " ('правоприменение', 0.4101848900318146),\n",
              " ('федерация', 0.4092530906200409),\n",
              " ('казачество', 0.4049685299396515)]"
            ]
          },
          "metadata": {},
          "execution_count": 9
        }
      ]
    },
    {
      "cell_type": "code",
      "source": [
        "tfidf  = TfidfVectorizer()\n",
        "tfidf.fit([' '.join(i) for i in data_train['text_token_filtred'].str.split()])\n",
        "tf_dict=dict(zip(tfidf.get_feature_names_out(), tfidf.idf_))\n",
        "\n",
        "tfidf_dif  = TfidfVectorizer()\n",
        "tfidf_dif.fit([' '.join(i) for i in data_train['text_difficult'].str.split()])\n",
        "tf_dict_dif=dict(zip(tfidf_dif.get_feature_names_out(), tfidf_dif.idf_))"
      ],
      "metadata": {
        "id": "QtsdpIduCHkb"
      },
      "execution_count": null,
      "outputs": []
    },
    {
      "cell_type": "code",
      "source": [
        "def average_emb(w2v, text):\n",
        "\n",
        "    doc = [word for word in text.split() if word in w2v.wv]\n",
        "\n",
        "    return np.mean(w2v.wv[doc], axis=0)\n",
        "\n",
        "def average_emb_tdidf(w2v, td_dict, text):\n",
        "\n",
        "    doc = [word for word in text.split() if word in w2v.wv]\n",
        "    tf = np.array([td_dict[word] for word in text.split() if word in w2v.wv])\n",
        "    #print(w2v.wv[doc].dot(tf[0]))\n",
        "    return np.mean(w2v.wv[doc].dot(tf[0]), axis=0)\n",
        "\n",
        "def average_emb_pre(w2v, text):\n",
        "\n",
        "    doc = [word for word in text.split() if word in w2v]\n",
        "\n",
        "    return np.mean(w2v[doc], axis=0)\n",
        "\n",
        "def average_emb_tdidf_pre(w2v, td_dict, text):\n",
        "\n",
        "    doc = [word for word in text.split() if word in w2v]\n",
        "    tf = np.array([td_dict[word] for word in text.split() if word in td_dict.keys()])\n",
        "\n",
        "    return np.mean(w2v[doc].dot(tf[0]), axis=0)"
      ],
      "metadata": {
        "id": "mOmnb2V___cx"
      },
      "execution_count": null,
      "outputs": []
    },
    {
      "cell_type": "code",
      "source": [
        "df_w2v = df[['doc_name', 'text_token_filtred','text_difficult']].copy()\n",
        "df_w2v['w2v_simple'] = df_w2v.apply(lambda x: average_emb(model_wv, x['text_token_filtred']),axis=1)\n",
        "df_w2v['w2v_simple_idf'] = df_w2v.apply(lambda x: average_emb_tdidf(model_wv,tf_dict, x['text_token_filtred']),axis=1)\n",
        "df_w2v['w2v_dif'] = df_w2v.apply(lambda x: average_emb(model_wv_dif, x['text_difficult']),axis=1)\n",
        "df_w2v['w2v_dif_idf'] = df_w2v.apply(lambda x: average_emb_tdidf(model_wv_dif,tf_dict_dif, x['text_difficult']),axis=1)\n",
        "\n",
        "df_w2v['w2v_simple_pre'] = df_w2v.apply(lambda x: average_emb_pre(word2vec_pre, x['text_token_filtred']),axis=1)\n",
        "df_w2v['w2v_simple_idf_pre'] = df_w2v.apply(lambda x: average_emb_tdidf_pre(word2vec_pre,tf_dict, x['text_token_filtred']),axis=1)\n",
        "df_w2v['w2v_dif_pre'] = df_w2v.apply(lambda x: average_emb_pre(word2vec_pre, x['text_difficult']),axis=1)\n",
        "df_w2v['w2v_dif_idf_pre'] = df_w2v.apply(lambda x: average_emb_tdidf_pre(word2vec_pre,tf_dict_dif, x['text_difficult']),axis=1)"
      ],
      "metadata": {
        "id": "hf7ncXCRD_Li"
      },
      "execution_count": null,
      "outputs": []
    },
    {
      "cell_type": "code",
      "source": [
        "df.shape"
      ],
      "metadata": {
        "colab": {
          "base_uri": "https://localhost:8080/"
        },
        "id": "IhF28C2b3BCF",
        "outputId": "79b625cc-c285-4c79-9233-f2d47e973b7f"
      },
      "execution_count": null,
      "outputs": [
        {
          "output_type": "execute_result",
          "data": {
            "text/plain": [
              "(22891, 6)"
            ]
          },
          "metadata": {},
          "execution_count": 15
        }
      ]
    },
    {
      "cell_type": "markdown",
      "source": [
        "Визуализация"
      ],
      "metadata": {
        "id": "_GQ_a-F8yD1o"
      }
    },
    {
      "cell_type": "code",
      "source": [
        "X_train, X_test, y_train, y_test = train_test_split(df_w2v['w2v_simple'], df_w2v['doc_name'], test_size=0.2, random_state=42)\n",
        "X_train = np.vstack(X_train)\n",
        "X_test = np.vstack(X_test)"
      ],
      "metadata": {
        "id": "J-HMvg6DGWEF"
      },
      "execution_count": null,
      "outputs": []
    },
    {
      "cell_type": "code",
      "source": [
        "from sklearn.manifold import TSNE\n",
        "import plotly.express as px"
      ],
      "metadata": {
        "id": "C2XAm5q_5gJ9"
      },
      "execution_count": null,
      "outputs": []
    },
    {
      "cell_type": "code",
      "source": [
        "tsne = TSNE(n_components=2, verbose=1, perplexity=40, n_iter=300, init='random')\n",
        "tsne_results = tsne.fit_transform(X_train[:1500])\n",
        "fig = px.scatter(\n",
        "    tsne_results, x=0, y=1,\n",
        "    color=y_train[:1500], labels={'color': 'Вид НПА'}\n",
        ")\n",
        "fig.show()"
      ],
      "metadata": {
        "colab": {
          "base_uri": "https://localhost:8080/",
          "height": 681
        },
        "id": "NsE4SL_FyG0e",
        "outputId": "5d09add8-121b-4a52-d4d5-902de43c72fa"
      },
      "execution_count": null,
      "outputs": [
        {
          "output_type": "stream",
          "name": "stdout",
          "text": [
            "[t-SNE] Computing 121 nearest neighbors...\n",
            "[t-SNE] Indexed 1500 samples in 0.001s...\n",
            "[t-SNE] Computed neighbors for 1500 samples in 0.123s...\n",
            "[t-SNE] Computed conditional probabilities for sample 1000 / 1500\n",
            "[t-SNE] Computed conditional probabilities for sample 1500 / 1500\n",
            "[t-SNE] Mean sigma: 1.526476\n",
            "[t-SNE] KL divergence after 250 iterations with early exaggeration: 67.628891\n",
            "[t-SNE] KL divergence after 300 iterations: 1.345856\n"
          ]
        },
        {
          "output_type": "display_data",
          "data": {
            "text/html": [
              "<html>\n",
              "<head><meta charset=\"utf-8\" /></head>\n",
              "<body>\n",
              "    <div>            <script src=\"https://cdnjs.cloudflare.com/ajax/libs/mathjax/2.7.5/MathJax.js?config=TeX-AMS-MML_SVG\"></script><script type=\"text/javascript\">if (window.MathJax && window.MathJax.Hub && window.MathJax.Hub.Config) {window.MathJax.Hub.Config({SVG: {font: \"STIX-Web\"}});}</script>                <script type=\"text/javascript\">window.PlotlyConfig = {MathJaxConfig: 'local'};</script>\n",
              "        <script charset=\"utf-8\" src=\"https://cdn.plot.ly/plotly-2.24.1.min.js\"></script>                <div id=\"ae97d6ce-cbc9-45d9-bf3a-c2b0959b2a39\" class=\"plotly-graph-div\" style=\"height:525px; width:100%;\"></div>            <script type=\"text/javascript\">                                    window.PLOTLYENV=window.PLOTLYENV || {};                                    if (document.getElementById(\"ae97d6ce-cbc9-45d9-bf3a-c2b0959b2a39\")) {                    Plotly.newPlot(                        \"ae97d6ce-cbc9-45d9-bf3a-c2b0959b2a39\",                        [{\"hovertemplate\":\"\\u0412\\u0438\\u0434 \\u041d\\u041f\\u0410=\\u041f\\u043e\\u0441\\u0442\\u0430\\u043d\\u043e\\u0432\\u043b\\u0435\\u043d\\u0438\\u0435, \\u0440\\u0435\\u0433\\u0438\\u043e\\u043d\\u0430\\u043b\\u044c\\u043d\\u044b\\u0439 \\u0443\\u0440\\u043e\\u0432\\u0435\\u043d\\u044c, \\u0433\\u043b\\u0430\\u0432\\u0430 \\u0438\\u0441\\u043f\\u043e\\u043b\\u043d\\u0438\\u0442\\u0435\\u043b\\u044c\\u043d\\u043e\\u0439 \\u0432\\u043b\\u0430\\u0441\\u0442\\u0438\\u003cbr\\u003e0=%{x}\\u003cbr\\u003e1=%{y}\\u003cextra\\u003e\\u003c\\u002fextra\\u003e\",\"legendgroup\":\"\\u041f\\u043e\\u0441\\u0442\\u0430\\u043d\\u043e\\u0432\\u043b\\u0435\\u043d\\u0438\\u0435, \\u0440\\u0435\\u0433\\u0438\\u043e\\u043d\\u0430\\u043b\\u044c\\u043d\\u044b\\u0439 \\u0443\\u0440\\u043e\\u0432\\u0435\\u043d\\u044c, \\u0433\\u043b\\u0430\\u0432\\u0430 \\u0438\\u0441\\u043f\\u043e\\u043b\\u043d\\u0438\\u0442\\u0435\\u043b\\u044c\\u043d\\u043e\\u0439 \\u0432\\u043b\\u0430\\u0441\\u0442\\u0438\",\"marker\":{\"color\":\"#636efa\",\"symbol\":\"circle\"},\"mode\":\"markers\",\"name\":\"\\u041f\\u043e\\u0441\\u0442\\u0430\\u043d\\u043e\\u0432\\u043b\\u0435\\u043d\\u0438\\u0435, \\u0440\\u0435\\u0433\\u0438\\u043e\\u043d\\u0430\\u043b\\u044c\\u043d\\u044b\\u0439 \\u0443\\u0440\\u043e\\u0432\\u0435\\u043d\\u044c, \\u0433\\u043b\\u0430\\u0432\\u0430 \\u0438\\u0441\\u043f\\u043e\\u043b\\u043d\\u0438\\u0442\\u0435\\u043b\\u044c\\u043d\\u043e\\u0439 \\u0432\\u043b\\u0430\\u0441\\u0442\\u0438\",\"showlegend\":true,\"x\":[8.887476921081543,-0.43654635548591614,-0.3749995529651642,9.707898139953613,4.986578464508057,-0.3136751353740692,-0.6665218472480774,9.48071002960205,2.225990056991577,2.1085259914398193,4.232606410980225,2.1770787239074707,-3.596011161804199,9.759784698486328,4.731826305389404,0.2606677711009979,9.471918106079102,4.904044151306152,5.322035789489746,3.5462453365325928,9.200176239013672,9.909584045410156,8.761124610900879,-0.5730056762695312,-0.22377917170524597,-3.5884780883789062,2.1537294387817383,-1.5986515283584595,10.065693855285645,-0.4559144377708435,2.3528501987457275,9.76163387298584,2.334989547729492,10.60881233215332,10.545608520507812,3.923473596572876,-2.0303213596343994,3.0174882411956787,-0.5592287182807922,0.6329899430274963,8.789813041687012,3.9292855262756348,-0.9746851325035095,-3.7572224140167236,4.168790817260742,9.030102729797363,9.80894660949707,9.85316276550293,9.605436325073242,9.325177192687988,2.4159233570098877,-2.283337354660034,1.2554866075515747,6.312353134155273,3.179297685623169,-2.8296358585357666,-0.9741708040237427,8.751859664916992,2.841536521911621,3.3130593299865723,4.419430732727051,9.689576148986816,9.959031105041504,8.740172386169434,-0.5487186312675476,0.002341562882065773,9.240386962890625,-0.44941791892051697,9.598342895507812,8.985466003417969,9.657489776611328,10.604275703430176,-0.6246368885040283,0.7705193161964417,8.8349609375,4.8949737548828125,9.745622634887695,3.8952839374542236,3.5276670455932617,9.74537467956543,-1.1550863981246948,6.700060844421387,0.7040459513664246,-0.5674476623535156,-3.59665846824646,6.954798698425293,4.272435188293457,5.284515380859375,3.7077624797821045,8.808318138122559,4.657989025115967,4.335883617401123,2.017017364501953,10.264288902282715,4.381913661956787,8.659601211547852,-0.5523682236671448,0.47140198945999146,8.484564781188965,6.40863037109375,-1.825810432434082,2.3563382625579834,2.3777289390563965,0.31082022190093994,1.5855365991592407,8.950943946838379,4.476137161254883,5.341083526611328],\"xaxis\":\"x\",\"y\":[6.618472099304199,2.7606894969940186,8.984491348266602,5.975089073181152,5.451103210449219,8.938386917114258,9.887943267822266,7.043595790863037,5.315019130706787,2.775718927383423,6.5540008544921875,2.7519569396972656,2.470313549041748,5.965297698974609,5.923234462738037,3.019409656524658,7.1186676025390625,3.74405837059021,5.25253963470459,4.046490669250488,5.957572937011719,6.120090007781982,6.945287704467773,8.364130973815918,9.552266120910645,2.481602668762207,3.995436668395996,1.4762887954711914,6.638570785522461,9.201666831970215,7.46733283996582,5.942150115966797,7.202744007110596,-0.9743396043777466,-1.0076525211334229,6.922374248504639,-0.910666823387146,-0.3689287304878235,8.775979995727539,8.47382926940918,7.758306503295898,6.863218784332275,2.93131685256958,4.9145073890686035,6.326882362365723,7.000377178192139,5.845972537994385,5.483912467956543,5.949897289276123,6.825598239898682,6.3334455490112305,3.8024606704711914,5.594761848449707,-6.456185817718506,3.5016160011291504,-1.2748503684997559,2.8677451610565186,7.758683204650879,4.984166145324707,5.39659309387207,5.870405673980713,5.327632427215576,6.201649188995361,6.742671966552734,8.649094581604004,6.11149263381958,5.738701343536377,9.352917671203613,6.4852423667907715,6.958340644836426,6.191717624664307,-0.9734484553337097,10.027449607849121,0.8665140867233276,7.154850482940674,5.667055130004883,5.516145706176758,6.304994106292725,5.524218559265137,5.846057415008545,4.220526695251465,-6.265300750732422,8.090368270874023,9.553256034851074,2.4744679927825928,-6.249889373779297,2.1675546169281006,4.651831150054932,6.108965873718262,6.800265312194824,6.0684661865234375,4.278886795043945,2.0375559329986572,-1.194512128829956,6.359546661376953,5.631977558135986,8.700949668884277,1.3523327112197876,6.345639705657959,-6.479092121124268,-1.103933334350586,4.895167827606201,3.1664843559265137,4.015627384185791,4.98048210144043,5.903557777404785,-7.522093772888184,5.1473388671875],\"yaxis\":\"y\",\"type\":\"scattergl\"},{\"hovertemplate\":\"\\u0412\\u0438\\u0434 \\u041d\\u041f\\u0410=\\u0423\\u043a\\u0430\\u0437, \\u0444\\u0435\\u0434\\u0435\\u0440\\u0430\\u043b\\u044c\\u043d\\u044b\\u0439 \\u0443\\u0440\\u043e\\u0432\\u0435\\u043d\\u044c, \\u0433\\u043b\\u0430\\u0432\\u0430 \\u0438\\u0441\\u043f\\u043e\\u043b\\u043d\\u0438\\u0442\\u0435\\u043b\\u044c\\u043d\\u043e\\u0439 \\u0432\\u043b\\u0430\\u0441\\u0442\\u0438\\u003cbr\\u003e0=%{x}\\u003cbr\\u003e1=%{y}\\u003cextra\\u003e\\u003c\\u002fextra\\u003e\",\"legendgroup\":\"\\u0423\\u043a\\u0430\\u0437, \\u0444\\u0435\\u0434\\u0435\\u0440\\u0430\\u043b\\u044c\\u043d\\u044b\\u0439 \\u0443\\u0440\\u043e\\u0432\\u0435\\u043d\\u044c, \\u0433\\u043b\\u0430\\u0432\\u0430 \\u0438\\u0441\\u043f\\u043e\\u043b\\u043d\\u0438\\u0442\\u0435\\u043b\\u044c\\u043d\\u043e\\u0439 \\u0432\\u043b\\u0430\\u0441\\u0442\\u0438\",\"marker\":{\"color\":\"#EF553B\",\"symbol\":\"circle\"},\"mode\":\"markers\",\"name\":\"\\u0423\\u043a\\u0430\\u0437, \\u0444\\u0435\\u0434\\u0435\\u0440\\u0430\\u043b\\u044c\\u043d\\u044b\\u0439 \\u0443\\u0440\\u043e\\u0432\\u0435\\u043d\\u044c, \\u0433\\u043b\\u0430\\u0432\\u0430 \\u0438\\u0441\\u043f\\u043e\\u043b\\u043d\\u0438\\u0442\\u0435\\u043b\\u044c\\u043d\\u043e\\u0439 \\u0432\\u043b\\u0430\\u0441\\u0442\\u0438\",\"showlegend\":true,\"x\":[-4.807372570037842,-6.345450401306152,-6.216654300689697,-6.729452133178711,-2.4219815731048584,-5.340858459472656,-2.237661361694336,-0.8244687914848328,4.798875331878662,-2.9644534587860107,-2.7429306507110596,-2.141023635864258,-2.395521640777588,4.717271327972412,2.4038796424865723,-3.9854071140289307,-5.088515758514404,-1.8222715854644775,2.5425338745117188,-8.220580101013184,2.1698720455169678,-0.6478307843208313,-5.580167293548584,-5.919394493103027,9.2586088180542,-7.498239517211914,4.535899639129639,-4.6070075035095215,4.00455379486084,-3.120558261871338,-3.4462506771087646,-4.811616897583008,0.27074259519577026,0.4862934947013855,3.460789203643799,-8.054081916809082,-6.057440757751465,-5.475251197814941,2.829540252685547,-4.096335411071777,-0.49759823083877563,-5.738720417022705,-5.693394184112549,-2.3119137287139893,-5.663123607635498,0.7471092939376831,3.732656240463257,2.7787396907806396,2.9245266914367676,-2.436650514602661,0.1354418396949768,-4.929171085357666,2.224302291870117,4.449225425720215,4.412677764892578,2.8132309913635254,-7.919469833374023,-5.411777496337891,2.7491953372955322,-5.3887176513671875,-2.8489482402801514,4.683308124542236,4.118011474609375,3.7126715183258057,3.453488349914551,0.29547157883644104,-0.8679884672164917,-0.07229917496442795,-0.11449204385280609,-5.678349018096924,-5.88458251953125,4.240178108215332],\"xaxis\":\"x\",\"y\":[-8.797481536865234,-8.415148735046387,-8.438413619995117,-6.869399070739746,-10.471089363098145,-9.26795482635498,-10.55750846862793,-10.422005653381348,-7.1909661293029785,-10.322434425354004,-10.226669311523438,-2.348733425140381,-10.4889497756958,-7.315680503845215,-9.225927352905273,-8.536404609680176,-9.044697761535645,-10.402621269226074,-8.970101356506348,-4.234104633331299,-8.705695152282715,-7.301283359527588,-8.957038879394531,-8.163137435913086,-0.7219850420951843,-2.758275270462036,-8.035747528076172,-8.682876586914062,-8.144269943237305,-9.217052459716797,-9.955094337463379,-2.771794319152832,-7.771465301513672,-4.110606670379639,-8.233124732971191,-3.373521566390991,-8.552383422851562,-8.55900764465332,-8.818436622619629,-1.3018474578857422,-7.215261936187744,-8.761066436767578,-8.856925010681152,-10.492465019226074,-8.522810935974121,-9.767940521240234,-8.129941940307617,-8.838027000427246,-8.692146301269531,-10.507582664489746,-5.049331188201904,-9.034860610961914,-8.715292930603027,-6.8220906257629395,0.000900225481018424,-8.842384338378906,-0.5598661303520203,-8.75628662109375,-8.804781913757324,-9.000316619873047,-7.813459396362305,-7.293112277984619,-8.25526237487793,-8.00635051727295,-8.59814453125,-7.778286457061768,-8.233495712280273,-7.423960208892822,-7.516322612762451,-8.915596961975098,-7.912798881530762,-8.291448593139648],\"yaxis\":\"y\",\"type\":\"scattergl\"},{\"hovertemplate\":\"\\u0412\\u0438\\u0434 \\u041d\\u041f\\u0410=\\u041f\\u043e\\u0441\\u0442\\u0430\\u043d\\u043e\\u0432\\u043b\\u0435\\u043d\\u0438\\u0435, \\u0440\\u0435\\u0433\\u0438\\u043e\\u043d\\u0430\\u043b\\u044c\\u043d\\u044b\\u0439 \\u0443\\u0440\\u043e\\u0432\\u0435\\u043d\\u044c, \\u0437\\u0430\\u043a\\u043e\\u043d\\u043e\\u0434\\u0430\\u0442\\u0435\\u043b\\u044c\\u043d\\u044b\\u0439 \\u043e\\u0440\\u0433\\u0430\\u043d\\u003cbr\\u003e0=%{x}\\u003cbr\\u003e1=%{y}\\u003cextra\\u003e\\u003c\\u002fextra\\u003e\",\"legendgroup\":\"\\u041f\\u043e\\u0441\\u0442\\u0430\\u043d\\u043e\\u0432\\u043b\\u0435\\u043d\\u0438\\u0435, \\u0440\\u0435\\u0433\\u0438\\u043e\\u043d\\u0430\\u043b\\u044c\\u043d\\u044b\\u0439 \\u0443\\u0440\\u043e\\u0432\\u0435\\u043d\\u044c, \\u0437\\u0430\\u043a\\u043e\\u043d\\u043e\\u0434\\u0430\\u0442\\u0435\\u043b\\u044c\\u043d\\u044b\\u0439 \\u043e\\u0440\\u0433\\u0430\\u043d\",\"marker\":{\"color\":\"#00cc96\",\"symbol\":\"circle\"},\"mode\":\"markers\",\"name\":\"\\u041f\\u043e\\u0441\\u0442\\u0430\\u043d\\u043e\\u0432\\u043b\\u0435\\u043d\\u0438\\u0435, \\u0440\\u0435\\u0433\\u0438\\u043e\\u043d\\u0430\\u043b\\u044c\\u043d\\u044b\\u0439 \\u0443\\u0440\\u043e\\u0432\\u0435\\u043d\\u044c, \\u0437\\u0430\\u043a\\u043e\\u043d\\u043e\\u0434\\u0430\\u0442\\u0435\\u043b\\u044c\\u043d\\u044b\\u0439 \\u043e\\u0440\\u0433\\u0430\\u043d\",\"showlegend\":true,\"x\":[5.679099082946777,5.81836462020874,5.906313419342041,5.5816755294799805,-2.7591350078582764,10.619945526123047,8.260988235473633,5.755961894989014,7.59954833984375,6.915373802185059,7.443307399749756,7.123940944671631,10.631619453430176,7.130491256713867,4.953934669494629,10.595453262329102,-2.2813308238983154,5.625899791717529,0.43770042061805725,4.800617218017578,5.766671657562256,6.000627517700195,7.601141452789307,10.57664680480957,5.219638824462891,5.95062780380249,6.708315849304199,8.254091262817383,10.632603645324707,0.9600754976272583,10.630411148071289,5.782311916351318,10.621707916259766,10.640908241271973,10.63173770904541,1.4699393510818481,7.6264753341674805,10.634955406188965,5.775181770324707,-0.8755475878715515,8.256686210632324,5.618996620178223,5.502947807312012,4.424734592437744,7.264771461486816,5.6330246925354,5.791436195373535,5.850683689117432,1.0831739902496338,7.611201286315918,6.041646480560303,5.808783054351807,0.08256508409976959,2.3600478172302246,2.994223117828369,6.594442844390869,6.801974296569824,7.620904922485352,10.59735107421875,5.664494514465332,6.426845550537109,8.264604568481445,2.479250192642212,10.635169982910156,2.5474328994750977,10.620866775512695,6.435869216918945,-0.5946827530860901,5.987356185913086,10.631902694702148,5.165903568267822,5.75662088394165,7.645593643188477,7.623987674713135,1.2158019542694092,10.537652015686035,5.661705017089844,-0.48674556612968445,7.082242488861084,10.592601776123047,8.266112327575684,7.148338317871094,7.595410346984863,10.635578155517578,5.563920497894287,6.845162868499756,6.818281173706055,7.865365982055664,5.6683855056762695,2.690699338912964,7.191082954406738,6.309447288513184,10.617399215698242,5.784426689147949,10.631146430969238,6.489322185516357,10.622540473937988,5.728973865509033,5.790187835693359,8.269911766052246,6.608293056488037,5.778737545013428,10.62462043762207,5.846490383148193,10.599507331848145,10.628753662109375,6.688458442687988,7.101235866546631,6.915958404541016,8.261622428894043,2.3368914127349854,6.891623497009277,7.052637577056885,10.626069068908691,5.8784332275390625,5.862198352813721,6.8790740966796875,7.053547382354736,6.0327911376953125,8.258893966674805,7.6227192878723145,8.261542320251465,7.805476665496826,0.4192439019680023],\"xaxis\":\"x\",\"y\":[1.7983222007751465,-2.469545602798462,-0.5020778775215149,-1.8075329065322876,-1.3338954448699951,-0.9728079438209534,-3.3320326805114746,-2.6471996307373047,0.763893723487854,0.7673341035842896,-1.6991525888442993,-1.6657140254974365,-0.9699410200119019,-1.7119585275650024,1.6172168254852295,-0.9734556078910828,2.090502977371216,-1.0750021934509277,-2.249907970428467,-6.858673572540283,-2.6012814044952393,-1.2469933032989502,0.7801777124404907,-0.9758464694023132,2.0306949615478516,-2.4160869121551514,0.14794713258743286,-3.33768367767334,-0.9683700203895569,1.276947259902954,-0.9707522988319397,-2.5694692134857178,-0.9710726737976074,-0.9664151668548584,-0.9693902730941772,0.3459070324897766,0.7761591076850891,-0.967951238155365,-2.6265499591827393,5.164522647857666,-3.365056037902832,1.6922101974487305,-0.9109535813331604,2.041217803955078,-1.8952476978302002,-0.955307126045227,-2.6034603118896484,1.3028662204742432,1.2931653261184692,0.7609823346138,0.1594184935092926,-2.5255486965179443,1.4571868181228638,0.018052928149700165,3.4755630493164062,1.3090457916259766,0.8461037278175354,0.7636744976043701,-0.9819283485412598,-1.4456707239151,0.2810005843639374,-3.346066951751709,-0.03623080998659134,-0.9678637385368347,3.2676572799682617,-0.9695569276809692,0.19196917116641998,-3.952443838119507,-0.39332130551338196,-0.9689818024635315,1.6874887943267822,-2.6268813610076904,0.7726576924324036,0.7677136659622192,1.267362117767334,-0.9626213908195496,1.3662080764770508,9.18161392211914,-1.8407834768295288,-0.9722946882247925,-3.3380064964294434,-1.7482072114944458,0.7597452998161316,-0.9673172831535339,-1.4924812316894531,-0.2721570134162903,0.1739424169063568,-1.433646321296692,-2.644061326980591,1.4130231142044067,-1.7626181840896606,0.14274661242961884,-0.9747844338417053,-2.6185967922210693,-0.9662070274353027,0.22999310493469238,-0.973945677280426,-2.639620065689087,-2.541271448135376,-3.3632869720458984,-1.1249107122421265,-6.093283653259277,-0.9720935821533203,-2.5423948764801025,-0.969513475894928,-0.9703126549720764,0.5972200632095337,-1.6456947326660156,-0.9031285047531128,-3.329739809036255,0.026441622525453568,-1.1092020273208618,-1.629685878753662,-0.9710773229598999,0.2877958118915558,-2.3202743530273438,-1.4635109901428223,-1.7347849607467651,0.0681893602013588,-3.3190667629241943,0.7544822096824646,-3.3169620037078857,-1.4868289232254028,-2.235483407974243],\"yaxis\":\"y\",\"type\":\"scattergl\"},{\"hovertemplate\":\"\\u0412\\u0438\\u0434 \\u041d\\u041f\\u0410=\\u0420\\u0430\\u0441\\u043f\\u043e\\u0440\\u044f\\u0436\\u0435\\u043d\\u0438\\u0435, \\u0444\\u0435\\u0434\\u0435\\u0440\\u0430\\u043b\\u044c\\u043d\\u044b\\u0439 \\u0443\\u0440\\u043e\\u0432\\u0435\\u043d\\u044c, \\u043f\\u0440\\u0430\\u0432\\u0438\\u0442\\u0435\\u043b\\u044c\\u0441\\u0442\\u0432\\u043e\\u003cbr\\u003e0=%{x}\\u003cbr\\u003e1=%{y}\\u003cextra\\u003e\\u003c\\u002fextra\\u003e\",\"legendgroup\":\"\\u0420\\u0430\\u0441\\u043f\\u043e\\u0440\\u044f\\u0436\\u0435\\u043d\\u0438\\u0435, \\u0444\\u0435\\u0434\\u0435\\u0440\\u0430\\u043b\\u044c\\u043d\\u044b\\u0439 \\u0443\\u0440\\u043e\\u0432\\u0435\\u043d\\u044c, \\u043f\\u0440\\u0430\\u0432\\u0438\\u0442\\u0435\\u043b\\u044c\\u0441\\u0442\\u0432\\u043e\",\"marker\":{\"color\":\"#ab63fa\",\"symbol\":\"circle\"},\"mode\":\"markers\",\"name\":\"\\u0420\\u0430\\u0441\\u043f\\u043e\\u0440\\u044f\\u0436\\u0435\\u043d\\u0438\\u0435, \\u0444\\u0435\\u0434\\u0435\\u0440\\u0430\\u043b\\u044c\\u043d\\u044b\\u0439 \\u0443\\u0440\\u043e\\u0432\\u0435\\u043d\\u044c, \\u043f\\u0440\\u0430\\u0432\\u0438\\u0442\\u0435\\u043b\\u044c\\u0441\\u0442\\u0432\\u043e\",\"showlegend\":true,\"x\":[-3.166888475418091,-2.4915313720703125,-3.8687970638275146,-4.167601585388184,-6.733240127563477,-4.889944076538086,-2.1856324672698975,3.951829433441162,-4.748648166656494,-4.7416090965271,-7.639976501464844,-5.0828657150268555,2.123429298400879,-3.715872049331665,-4.740997314453125,-4.976632595062256,-2.067201614379883,-4.8530473709106445,-4.85284948348999,-4.708139419555664,2.7064640522003174,-5.891232013702393,-2.2256696224212646,-3.6952226161956787,-4.147640705108643,-0.6321532130241394,1.460970401763916,-4.139870643615723,-2.0915820598602295,-4.951127529144287,-4.398444652557373,-7.369067192077637,-4.667909622192383,-3.184159278869629,-6.589367866516113,-4.54979133605957,-4.329164505004883,-1.7371946573257446,-2.104349136352539,-4.783932209014893,-3.053541898727417,-5.894118309020996,-0.3252338171005249,1.210385799407959,-4.569390296936035,-6.589914321899414,-2.150054454803467,-4.230785369873047,0.05068252980709076,-6.379504680633545,-7.623984336853027,-6.182149887084961,0.8016741275787354,-7.69481897354126,-5.939084529876709,-5.740978240966797,-3.681528091430664,-3.7090678215026855,-7.630016803741455,-6.676433086395264,-4.155657768249512,-4.629737854003906,-4.656087398529053,-4.385836601257324,-2.1825687885284424,-2.3339476585388184,-4.714690208435059,-4.76382303237915,-4.275048732757568,-3.7258927822113037,0.061819277703762054,-3.0381813049316406,-4.779301643371582,-5.5751872062683105,4.410933971405029,-3.1722640991210938,-4.140629291534424,-5.3458051681518555,-4.863621234893799,-2.0284178256988525,-3.5448617935180664,-4.7424235343933105,-7.517990589141846,-4.788275718688965,-4.764056205749512,0.8706963062286377,-4.666369438171387,-4.474653720855713,-2.023721218109131,-0.9454190731048584,-3.8089423179626465],\"xaxis\":\"x\",\"y\":[0.29990828037261963,-9.834846496582031,-0.8318856954574585,-7.878839015960693,-2.57700777053833,-7.222685813903809,-10.656661033630371,-8.080097198486328,-2.608201742172241,-6.542211055755615,-5.105834484100342,-7.05726432800293,-5.835914134979248,2.3174917697906494,-6.402262210845947,-6.155712604522705,-10.53888988494873,-2.5650222301483154,0.2955869734287262,0.3528652787208557,-9.066900253295898,-3.094953775405884,2.07924222946167,2.328178882598877,-0.7194512486457825,-8.049656867980957,-9.730666160583496,-1.4513471126556396,-10.572759628295898,-6.988761901855469,-1.3990925550460815,-1.8327683210372925,0.2470545917749405,1.0003540515899658,-2.6629247665405273,-6.345215320587158,-1.446245789527893,-10.645367622375488,-10.554498672485352,-6.45510721206665,1.1756768226623535,-2.5484395027160645,-9.625929832458496,-6.376797676086426,0.2773788571357727,-2.544613838195801,-10.534215927124023,-1.2353507280349731,-10.076980590820312,-4.481384754180908,-5.070509910583496,-2.5382986068725586,-9.764730453491211,-4.49973201751709,-3.2343051433563232,-3.1780219078063965,2.0103354454040527,2.318218946456909,-5.239518165588379,-3.5895705223083496,0.48872697353363037,-6.460619926452637,-6.817875862121582,-6.241942405700684,-10.432683944702148,-10.58725643157959,-6.621727466583252,-6.777176856994629,-1.3590008020401,2.302563428878784,-7.41787576675415,0.2240380048751831,0.28550949692726135,-1.4232163429260254,-7.666252613067627,0.9826197624206543,-1.3162593841552734,-0.5017404556274414,-6.860546588897705,-10.488703727722168,0.8263189196586609,0.3874205946922302,-5.659323215484619,-6.744153022766113,-6.575626373291016,-10.129761695861816,-6.225369930267334,-0.011612046509981155,-2.2475759983062744,-8.801976203918457,-0.9573777318000793],\"yaxis\":\"y\",\"type\":\"scattergl\"},{\"hovertemplate\":\"\\u0412\\u0438\\u0434 \\u041d\\u041f\\u0410=\\u041f\\u043e\\u0441\\u0442\\u0430\\u043d\\u043e\\u0432\\u043b\\u0435\\u043d\\u0438\\u0435, \\u0444\\u0435\\u0434\\u0435\\u0440\\u0430\\u043b\\u044c\\u043d\\u044b\\u0439 \\u0443\\u0440\\u043e\\u0432\\u0435\\u043d\\u044c, \\u043f\\u0440\\u0430\\u0432\\u0438\\u0442\\u0435\\u043b\\u044c\\u0441\\u0442\\u0432\\u043e\\u003cbr\\u003e0=%{x}\\u003cbr\\u003e1=%{y}\\u003cextra\\u003e\\u003c\\u002fextra\\u003e\",\"legendgroup\":\"\\u041f\\u043e\\u0441\\u0442\\u0430\\u043d\\u043e\\u0432\\u043b\\u0435\\u043d\\u0438\\u0435, \\u0444\\u0435\\u0434\\u0435\\u0440\\u0430\\u043b\\u044c\\u043d\\u044b\\u0439 \\u0443\\u0440\\u043e\\u0432\\u0435\\u043d\\u044c, \\u043f\\u0440\\u0430\\u0432\\u0438\\u0442\\u0435\\u043b\\u044c\\u0441\\u0442\\u0432\\u043e\",\"marker\":{\"color\":\"#FFA15A\",\"symbol\":\"circle\"},\"mode\":\"markers\",\"name\":\"\\u041f\\u043e\\u0441\\u0442\\u0430\\u043d\\u043e\\u0432\\u043b\\u0435\\u043d\\u0438\\u0435, \\u0444\\u0435\\u0434\\u0435\\u0440\\u0430\\u043b\\u044c\\u043d\\u044b\\u0439 \\u0443\\u0440\\u043e\\u0432\\u0435\\u043d\\u044c, \\u043f\\u0440\\u0430\\u0432\\u0438\\u0442\\u0435\\u043b\\u044c\\u0441\\u0442\\u0432\\u043e\",\"showlegend\":true,\"x\":[-7.298066139221191,-6.506759166717529,-6.616252899169922,-1.7029794454574585,-5.762504577636719,-2.075415849685669,-3.5414562225341797,-5.420372009277344,-6.759998798370361,-7.28533411026001,-1.3806073665618896,-3.9495246410369873,-2.3438870906829834,-7.565269947052002,-4.43092679977417,-4.468393802642822,-7.5608062744140625,-7.7679548263549805,-4.670392990112305,-6.184271812438965,-7.435433864593506,-6.273242950439453,-6.255868911743164,-5.3903889656066895,-8.135841369628906,-7.726740837097168,-7.365025520324707,-5.783349514007568,-6.859201431274414,-2.7380452156066895,-6.19748067855835,-8.185141563415527,-4.167355060577393,-8.13404369354248,-3.8954081535339355,-7.4057440757751465,-7.502492904663086,-7.276313304901123,-7.563179016113281,-7.668808937072754,-7.0533127784729,-7.956579685211182,-5.936220169067383,-5.806403636932373,-1.8298513889312744,-4.552818775177002,-7.569032192230225,-7.614724636077881,-4.479140281677246,-2.68862247467041,-7.021932125091553,-6.9100165367126465,-2.742854356765747,-7.563353538513184,0.3517427146434784,-2.331864595413208,-4.494370460510254,-6.849615097045898,-6.776634216308594,-5.889074802398682,-3.3637444972991943,-7.6101555824279785,-5.9178786277771,-6.269763946533203,-7.807787895202637,-2.0728366374969482,-7.620607376098633,-6.6457414627075195,-6.7837982177734375,-4.61819314956665,-7.467331886291504,-7.417858600616455,-1.6595723628997803,-7.482585906982422,-7.801947593688965,-9.44629192352295,-8.086435317993164,-6.485753059387207,-4.4827375411987305,-7.533210277557373,-2.394042730331421,-5.095931053161621,-5.307440757751465,-6.637424468994141,-2.150927782058716,-4.741984844207764,-6.4096527099609375,-4.849165439605713,-4.325405120849609,-2.2779908180236816,-5.985218524932861,-6.0329389572143555,-7.668686389923096,-6.633020401000977,-7.932408809661865,-7.644904613494873,-7.787135124206543,-3.59159779548645,-4.6278533935546875,-7.32857608795166,-8.015944480895996,-6.454604148864746,-1.7676156759262085,-6.631091117858887,-4.0059356689453125,-8.481515884399414,-7.426687240600586,-7.172183990478516],\"xaxis\":\"x\",\"y\":[-2.673278331756592,-2.521583080291748,0.048338279128074646,-1.1510320901870728,-1.5365276336669922,-7.9020514488220215,-2.0086190700531006,-4.232084274291992,-2.7188267707824707,-1.6545002460479736,-0.5139325857162476,-1.240065336227417,-2.483774185180664,-4.775581359863281,-7.176328182220459,-7.200657367706299,-4.6406683921813965,-3.5394132137298584,0.28617310523986816,-3.372467041015625,-5.805957794189453,-4.421106815338135,-5.819385051727295,-2.16703462600708,-3.3480918407440186,-5.985965728759766,-2.6809298992156982,-3.0921847820281982,-3.6047189235687256,3.3684420585632324,-7.6330413818359375,-3.573697090148926,-0.6062787771224976,-3.631457567214966,-1.6638197898864746,-4.557451248168945,-4.969776630401611,-2.4355337619781494,-4.197877407073975,-4.175296306610107,-1.5179136991500854,-3.9426941871643066,-2.3735644817352295,-2.6580495834350586,-0.6839953064918518,-2.405686616897583,-4.989235877990723,-5.503604888916016,-7.211422443389893,-2.198660135269165,-1.053196668624878,-2.8143815994262695,-7.731060028076172,-5.507338523864746,-6.275575637817383,-2.6475300788879395,-7.0433268547058105,-2.9409964084625244,-2.8083913326263428,-1.210312008857727,-2.077247381210327,-4.927272796630859,-1.1565074920654297,-5.85380220413208,-5.464015007019043,-1.1305640935897827,-5.088193416595459,-3.9281957149505615,-2.6088433265686035,-6.876766681671143,-5.124156475067139,-5.096293926239014,2.6418509483337402,-1.785794973373413,-5.6908464431762695,2.0570321083068848,-3.1442224979400635,-3.9482388496398926,-7.081254005432129,-4.444825172424316,-8.123619079589844,-2.0012359619140625,-2.1342711448669434,-2.4298744201660156,-2.3448565006256104,-0.7335799932479858,-4.716037750244141,-2.7393240928649902,-2.005833864212036,-3.6435439586639404,-1.6246938705444336,-3.397831678390503,-5.3029866218566895,-3.8122172355651855,-4.611711025238037,-3.7476589679718018,-4.463581085205078,1.0074557065963745,-7.118110656738281,-5.716587066650391,-3.9832723140716553,-1.8861342668533325,-1.0385096073150635,-2.1196699142456055,-1.2167713642120361,-3.5789742469787598,-4.781541347503662,-1.709349513053894],\"yaxis\":\"y\",\"type\":\"scattergl\"},{\"hovertemplate\":\"\\u0412\\u0438\\u0434 \\u041d\\u041f\\u0410=\\u041f\\u0440\\u0438\\u043a\\u0430\\u0437, \\u0444\\u0435\\u0434\\u0435\\u0440\\u0430\\u043b\\u044c\\u043d\\u044b\\u0439 \\u0443\\u0440\\u043e\\u0432\\u0435\\u043d\\u044c, \\u043e\\u0440\\u0433\\u0430\\u043d\\u044b \\u0438\\u0441\\u043f\\u043e\\u043b\\u043d\\u0438\\u0442\\u0435\\u043b\\u044c\\u043d\\u043e\\u0439 \\u0432\\u043b\\u0430\\u0441\\u0442\\u0438\\u003cbr\\u003e0=%{x}\\u003cbr\\u003e1=%{y}\\u003cextra\\u003e\\u003c\\u002fextra\\u003e\",\"legendgroup\":\"\\u041f\\u0440\\u0438\\u043a\\u0430\\u0437, \\u0444\\u0435\\u0434\\u0435\\u0440\\u0430\\u043b\\u044c\\u043d\\u044b\\u0439 \\u0443\\u0440\\u043e\\u0432\\u0435\\u043d\\u044c, \\u043e\\u0440\\u0433\\u0430\\u043d\\u044b \\u0438\\u0441\\u043f\\u043e\\u043b\\u043d\\u0438\\u0442\\u0435\\u043b\\u044c\\u043d\\u043e\\u0439 \\u0432\\u043b\\u0430\\u0441\\u0442\\u0438\",\"marker\":{\"color\":\"#19d3f3\",\"symbol\":\"circle\"},\"mode\":\"markers\",\"name\":\"\\u041f\\u0440\\u0438\\u043a\\u0430\\u0437, \\u0444\\u0435\\u0434\\u0435\\u0440\\u0430\\u043b\\u044c\\u043d\\u044b\\u0439 \\u0443\\u0440\\u043e\\u0432\\u0435\\u043d\\u044c, \\u043e\\u0440\\u0433\\u0430\\u043d\\u044b \\u0438\\u0441\\u043f\\u043e\\u043b\\u043d\\u0438\\u0442\\u0435\\u043b\\u044c\\u043d\\u043e\\u0439 \\u0432\\u043b\\u0430\\u0441\\u0442\\u0438\",\"showlegend\":true,\"x\":[-9.318802833557129,-8.211901664733887,-6.339925765991211,-9.712924003601074,-7.2151007652282715,-6.561375141143799,-8.724297523498535,-3.679626226425171,-9.355022430419922,-7.940324783325195,-9.202858924865723,-5.9816203117370605,-6.583339691162109,-9.587358474731445,-9.56729507446289,-7.13887357711792,-8.521711349487305,-8.051102638244629,-8.961408615112305,-8.604727745056152,-6.195220947265625,-9.105548858642578,3.294875383377075,-7.8131914138793945,-9.083170890808105,-8.94373607635498,-9.143089294433594,-9.530763626098633,-9.566764831542969,-8.786080360412598,-7.370543479919434,-6.302269458770752,-7.1359477043151855,-6.515524864196777,-8.02146053314209,-9.339677810668945,-7.867209434509277,-5.52461576461792,-9.58780288696289,-7.227437973022461,-9.148561477661133,-6.016294479370117,-6.419488430023193,-6.385972023010254,-6.971897602081299,-5.893235206604004,-5.785833835601807,-9.224910736083984,-2.8985629081726074,-9.810461044311523,-6.806176662445068,-7.722566604614258,-6.023995399475098,-0.965660035610199,-9.174508094787598,-8.102060317993164,-7.446763038635254,-5.441472053527832,-8.37012004852295,-7.785617828369141,-6.970837116241455,-9.145713806152344,-6.514920711517334,-6.528470039367676,-8.881793022155762,-5.490323066711426,-9.837574005126953,-5.547831058502197,-4.674274921417236,-9.723031997680664,-9.502420425415039,-8.549972534179688,-6.911215305328369,-9.45995807647705,-7.196176052093506,-9.743450164794922,-7.578299522399902,-7.305819988250732,-7.881162166595459,-9.312942504882812,-9.826973915100098,-7.355175971984863,-0.26325538754463196,-6.128701686859131,-7.5547404289245605,-9.653318405151367,-7.185312271118164,-7.688901424407959,-9.420639991760254,-6.885397911071777,-7.893703937530518,-9.26845645904541,-7.7217278480529785,-9.818901062011719,-7.717397689819336,-9.381491661071777,-7.192009449005127,-6.720265865325928,-2.587636709213257,-6.484227180480957,-7.846469402313232,-7.695986270904541,-9.064899444580078,-9.533079147338867],\"xaxis\":\"x\",\"y\":[-1.4137413501739502,-2.7116098403930664,-3.7653775215148926,1.357838749885559,0.7558625936508179,0.21260374784469604,-1.8873902559280396,-1.208567500114441,-0.8846384882926941,0.6633591055870056,2.845397710800171,1.021304726600647,0.5882622599601746,1.8651783466339111,1.8935770988464355,-1.7324802875518799,-0.23865513503551483,-0.9278056621551514,-2.3295350074768066,-2.7305426597595215,-0.4555376470088959,-1.1696839332580566,-9.557615280151367,0.7657471299171448,-2.2810006141662598,-0.010579691268503666,-1.271327257156372,1.9458009004592896,1.9279930591583252,-3.7498714923858643,0.4512169063091278,0.4291751980781555,0.8625931143760681,1.0454802513122559,-3.0094985961914062,2.2797799110412598,0.7404994964599609,-1.5218608379364014,1.8533930778503418,0.7773226499557495,-1.893156886100769,1.040708065032959,-0.16675058007240295,-1.3688687086105347,-0.29217782616615295,-1.3065431118011475,0.5608943104743958,-0.8423315286636353,-1.4307005405426025,-2.951533555984497,1.0634702444076538,-0.5771880149841309,-1.6454272270202637,0.38757261633872986,-1.6944783926010132,-0.913467526435852,0.4042167067527771,2.165022373199463,-0.7670111060142517,0.7669206857681274,-0.25251689553260803,-2.173314332962036,-1.3204915523529053,-0.22551333904266357,-1.1494810581207275,1.9595921039581299,-2.944354772567749,-0.2599938213825226,0.31932228803634644,1.4083337783813477,2.032474994659424,-0.5756028294563293,-0.2565547525882721,1.9603540897369385,0.8751444816589355,-2.8463821411132812,-0.631183385848999,-0.11850953102111816,0.7547965049743652,-1.1965214014053345,-2.9078357219696045,-6.9157586097717285,6.274921894073486,-1.5410614013671875,-0.6276078820228577,1.7369930744171143,0.6587232351303101,0.70130455493927,2.2710866928100586,0.8867591619491577,0.753873884677887,-0.8837988376617432,1.2209097146987915,-3.0079383850097656,-1.5670901536941528,-1.4394108057022095,-0.45292070508003235,1.029165506362915,-3.8881614208221436,0.5993413329124451,1.2960331439971924,-1.0104014873504639,-5.456567764282227,1.9585756063461304],\"yaxis\":\"y\",\"type\":\"scattergl\"},{\"hovertemplate\":\"\\u0412\\u0438\\u0434 \\u041d\\u041f\\u0410=\\u0420\\u0430\\u0441\\u043f\\u043e\\u0440\\u044f\\u0436\\u0435\\u043d\\u0438\\u0435, \\u0440\\u0435\\u0433\\u0438\\u043e\\u043d\\u0430\\u043b\\u044c\\u043d\\u044b\\u0439 \\u0443\\u0440\\u043e\\u0432\\u0435\\u043d\\u044c, \\u043f\\u0440\\u0430\\u0432\\u0438\\u0442\\u0435\\u043b\\u044c\\u0441\\u0442\\u0432\\u043e\\u003cbr\\u003e0=%{x}\\u003cbr\\u003e1=%{y}\\u003cextra\\u003e\\u003c\\u002fextra\\u003e\",\"legendgroup\":\"\\u0420\\u0430\\u0441\\u043f\\u043e\\u0440\\u044f\\u0436\\u0435\\u043d\\u0438\\u0435, \\u0440\\u0435\\u0433\\u0438\\u043e\\u043d\\u0430\\u043b\\u044c\\u043d\\u044b\\u0439 \\u0443\\u0440\\u043e\\u0432\\u0435\\u043d\\u044c, \\u043f\\u0440\\u0430\\u0432\\u0438\\u0442\\u0435\\u043b\\u044c\\u0441\\u0442\\u0432\\u043e\",\"marker\":{\"color\":\"#FF6692\",\"symbol\":\"circle\"},\"mode\":\"markers\",\"name\":\"\\u0420\\u0430\\u0441\\u043f\\u043e\\u0440\\u044f\\u0436\\u0435\\u043d\\u0438\\u0435, \\u0440\\u0435\\u0433\\u0438\\u043e\\u043d\\u0430\\u043b\\u044c\\u043d\\u044b\\u0439 \\u0443\\u0440\\u043e\\u0432\\u0435\\u043d\\u044c, \\u043f\\u0440\\u0430\\u0432\\u0438\\u0442\\u0435\\u043b\\u044c\\u0441\\u0442\\u0432\\u043e\",\"showlegend\":true,\"x\":[0.5953826904296875,0.7568557262420654,-0.5258007645606995,2.829359769821167,1.6370006799697876,2.1050150394439697,6.126242160797119,-2.7187066078186035,2.0071308612823486,-0.3836882412433624,1.1485984325408936,1.4463282823562622,-0.2527521252632141,0.8830069303512573,1.9145346879959106,0.9776778221130371,1.3640376329421997,4.2271599769592285,0.7200900316238403,9.836527824401855,-2.7095131874084473,-1.383872151374817,5.106860637664795,2.191101551055908,-2.7085375785827637,5.070403575897217,-2.7619447708129883,1.6008869409561157,-3.2814555168151855,9.729225158691406,3.1172592639923096,-2.73575758934021,1.9451419115066528,5.278415203094482,3.7063021659851074,6.134969234466553,-0.059218958020210266,-0.11241200566291809,-6.4526896476745605,5.755544185638428,1.7221475839614868,2.0037927627563477,-5.518489837646484,-2.715280532836914,1.0955815315246582,-3.0383899211883545,-3.4225714206695557,9.70676040649414,5.085535526275635,3.2602853775024414,4.4750285148620605,2.5778937339782715,2.0900075435638428,6.168039798736572,-1.0683982372283936,3.281276226043701,5.961021900177002,5.5594482421875,3.936591625213623,-2.7120680809020996,1.507266640663147,4.005069255828857,1.3714070320129395,1.2180488109588623,1.29715895652771,-2.7597110271453857,3.046099901199341,-1.435205101966858,3.4878151416778564,5.7551164627075195,6.0064921379089355,6.053204536437988,-3.3716964721679688,2.21761155128479,-2.7295448780059814,6.902835369110107,3.131333112716675,0.43474280834198,1.1719292402267456,1.9310531616210938,5.249174118041992,1.6266450881958008,5.917402744293213,-2.8818070888519287,-1.6488765478134155,-0.2578345239162445,-0.4477638602256775,-1.4437031745910645,0.40833911299705505,-2.504375457763672,2.4590566158294678,1.904891014099121,2.0939133167266846,2.9829421043395996,1.405008316040039,5.37251615524292,4.902257919311523,3.5238635540008545,1.6032495498657227,0.4674072563648224,2.009145736694336,2.204524517059326,9.225665092468262,1.3550693988800049,0.9938200116157532,0.6925408244132996,0.6219902634620667,6.118000030517578,0.4221038222312927,1.6174328327178955,3.75753116607666,5.100406169891357,1.4740136861801147,2.231102228164673,-2.6565845012664795,3.0680108070373535,2.48481822013855,6.11720085144043,9.837074279785156,-2.2204790115356445,-3.347705602645874],\"xaxis\":\"x\",\"y\":[4.108276844024658,5.280846118927002,7.72960901260376,5.415937423706055,-3.309323787689209,-2.500575542449951,2.235529661178589,4.756382465362549,-2.3402516841888428,8.494987487792969,4.237331390380859,-2.1562423706054688,1.7179902791976929,-0.9486645460128784,-2.5169878005981445,-2.3392109870910645,-3.349310874938965,4.184895992279053,-0.5474056005477905,6.150119781494141,4.896403789520264,2.5933141708374023,4.365128993988037,4.857357978820801,0.8293255567550659,4.7063703536987305,1.8982473611831665,5.037847995758057,2.4210762977600098,7.528708457946777,-4.703186511993408,4.749958038330078,-3.9284005165100098,5.491295337677002,3.972095012664795,2.233429193496704,-3.0144882202148438,4.9216437339782715,2.1217639446258545,4.3644185066223145,-3.9982399940490723,-2.5213639736175537,-0.9775403141975403,4.990537166595459,3.458118200302124,1.614168405532837,2.3091659545898438,7.533821105957031,4.554992198944092,2.460726022720337,1.2580668926239014,5.1756672859191895,6.721991062164307,2.2854244709014893,3.9826066493988037,2.4702463150024414,8.7273530960083,4.832891941070557,-7.871811866760254,5.0285844802856445,4.95446252822876,-7.763699531555176,4.716370105743408,4.9217705726623535,4.617654323577881,5.023212909698486,-2.3466503620147705,0.6637870073318481,4.183023452758789,-6.419308185577393,8.696310997009277,2.2132492065429688,2.4128146171569824,-8.542905807495117,4.916450500488281,8.026179313659668,-7.700486183166504,-2.220158815383911,4.514493942260742,-1.27232027053833,6.734218120574951,-3.206571340560913,4.218238830566406,-0.4751923382282257,0.36056947708129883,8.521491050720215,1.886030673980713,2.5621771812438965,-2.2473015785217285,1.7775120735168457,7.5175604820251465,-2.578329086303711,-2.4903006553649902,-6.745341777801514,-3.544844388961792,6.613944053649902,4.446521282196045,4.877349853515625,-2.403447151184082,-2.1831159591674805,-2.4201571941375732,-3.0494158267974854,5.704431533813477,-2.189481258392334,-2.354407548904419,-1.671351671218872,1.3072699308395386,2.233487129211426,-2.2354495525360107,-2.1427812576293945,6.130210876464844,2.1606972217559814,4.826389312744141,6.57534646987915,5.015916347503662,5.0302605628967285,-4.6269307136535645,2.233353614807129,7.557301044464111,3.385822296142578,2.2582459449768066],\"yaxis\":\"y\",\"type\":\"scattergl\"},{\"hovertemplate\":\"\\u0412\\u0438\\u0434 \\u041d\\u041f\\u0410=\\u041f\\u043e\\u0441\\u0442\\u0430\\u043d\\u043e\\u0432\\u043b\\u0435\\u043d\\u0438\\u0435, \\u0440\\u0435\\u0433\\u0438\\u043e\\u043d\\u0430\\u043b\\u044c\\u043d\\u044b\\u0439 \\u0443\\u0440\\u043e\\u0432\\u0435\\u043d\\u044c, \\u043f\\u0440\\u0430\\u0432\\u0438\\u0442\\u0435\\u043b\\u044c\\u0441\\u0442\\u0432\\u043e\\u003cbr\\u003e0=%{x}\\u003cbr\\u003e1=%{y}\\u003cextra\\u003e\\u003c\\u002fextra\\u003e\",\"legendgroup\":\"\\u041f\\u043e\\u0441\\u0442\\u0430\\u043d\\u043e\\u0432\\u043b\\u0435\\u043d\\u0438\\u0435, \\u0440\\u0435\\u0433\\u0438\\u043e\\u043d\\u0430\\u043b\\u044c\\u043d\\u044b\\u0439 \\u0443\\u0440\\u043e\\u0432\\u0435\\u043d\\u044c, \\u043f\\u0440\\u0430\\u0432\\u0438\\u0442\\u0435\\u043b\\u044c\\u0441\\u0442\\u0432\\u043e\",\"marker\":{\"color\":\"#B6E880\",\"symbol\":\"circle\"},\"mode\":\"markers\",\"name\":\"\\u041f\\u043e\\u0441\\u0442\\u0430\\u043d\\u043e\\u0432\\u043b\\u0435\\u043d\\u0438\\u0435, \\u0440\\u0435\\u0433\\u0438\\u043e\\u043d\\u0430\\u043b\\u044c\\u043d\\u044b\\u0439 \\u0443\\u0440\\u043e\\u0432\\u0435\\u043d\\u044c, \\u043f\\u0440\\u0430\\u0432\\u0438\\u0442\\u0435\\u043b\\u044c\\u0441\\u0442\\u0432\\u043e\",\"showlegend\":true,\"x\":[1.1467753648757935,-0.8650673627853394,-0.1583382785320282,-0.9597431421279907,2.5684845447540283,-3.9560153484344482,4.201123237609863,1.0393426418304443,2.637474298477173,0.37462833523750305,1.2807061672210693,1.241599678993225,-0.9108901023864746,-0.1437567174434662,3.2786996364593506,-0.1542840152978897,0.4359370172023773,1.5582854747772217,-0.9625934958457947,2.433530569076538,2.420642852783203,0.9014808535575867,-0.9716208577156067,2.3442976474761963,2.692368984222412,2.3113529682159424,-1.71949303150177,-1.909328579902649,-0.4688732624053955,-4.80457878112793,-0.0787077248096466,0.9533789753913879,1.492306113243103,-3.5260095596313477,-0.9778541922569275,1.0792855024337769,3.01507306098938,-2.096541166305542,-2.0390396118164062,2.4873220920562744,0.08109097182750702,-0.7069696187973022,-3.5473742485046387,-0.9326168298721313,-0.43215885758399963,4.3922624588012695,0.2683510482311249,0.7713394165039062,2.225435972213745,4.455852031707764,0.7102223634719849,-3.873065948486328,-0.9094648957252502,4.310175895690918,1.3086438179016113,0.5299818515777588,-0.15135760605335236,0.46558064222335815,-1.4990817308425903,1.670289397239685,2.7195515632629395,-0.23774105310440063,-1.521832823753357,-0.8414831757545471,5.331898212432861,5.509552001953125,2.066683530807495,2.1514713764190674,1.187943458557129,0.7010198831558228,2.2629075050354004,-1.9095544815063477,2.382113218307495,1.2143884897232056,-0.8469074964523315,-1.4327774047851562,1.919073224067688,2.1844353675842285,1.3651875257492065,2.0371146202087402,1.8100128173828125,-0.36416250467300415,3.1615800857543945,3.8677546977996826,3.5176351070404053,1.3963403701782227,2.8878285884857178,-0.29140138626098633,1.163015365600586,2.9477181434631348,-0.24338099360466003,-0.13584686815738678,-1.0602328777313232,3.5212790966033936,1.7158904075622559,-3.7629759311676025,-0.06833527982234955,-0.4491860866546631,2.7762391567230225,-1.6898393630981445,1.691809892654419,-0.33042359352111816,3.7121989727020264,2.617642879486084,1.603529691696167,5.618791580200195,-1.212580680847168,1.3340175151824951,-1.9709116220474243,2.9407622814178467,2.9619405269622803,0.7519644498825073,2.7244908809661865,1.5753107070922852,2.865595579147339,3.3911449909210205,0.7195410132408142],\"xaxis\":\"x\",\"y\":[1.474387288093567,3.6491100788116455,4.507326126098633,-0.35330846905708313,-4.559981346130371,9.396843910217285,3.636814832687378,3.4512293338775635,6.223989486694336,4.689488410949707,3.421642303466797,-3.658104181289673,4.9529008865356445,4.0285844802856445,6.257585048675537,-1.0664852857589722,9.66802978515625,5.2004594802856445,3.783966302871704,4.041269779205322,7.024720668792725,5.010862350463867,9.883933067321777,-4.711034774780273,2.034335136413574,4.1037726402282715,3.2945122718811035,3.289647340774536,1.7764967679977417,1.3368511199951172,4.337150573730469,5.605257987976074,-3.4707393646240234,4.91234016418457,1.1978806257247925,0.7301537394523621,-3.74800443649292,2.616302967071533,1.0212997198104858,-4.692349910736084,4.623127460479736,9.81404972076416,2.5224339962005615,3.3236582279205322,3.103485107421875,3.2926723957061768,1.9823628664016724,0.5540521144866943,7.312716960906982,1.755188226699829,5.041390419006348,6.311213970184326,3.210838556289673,3.252211332321167,-2.427849531173706,2.1833293437957764,3.816396713256836,3.7061712741851807,6.63449764251709,2.8277204036712646,6.742721080780029,4.7402663230896,6.298849105834961,2.9120054244995117,5.061655044555664,4.920727252960205,2.1863930225372314,4.212686061859131,-4.232284069061279,5.401938438415527,6.954941749572754,2.701101064682007,5.286347389221191,-4.294028282165527,3.65364408493042,2.826195478439331,3.6740736961364746,2.755561590194702,3.4970171451568604,1.858447551727295,-3.899775981903076,9.438939094543457,5.9002180099487305,6.704885482788086,7.592300891876221,-3.723384380340576,6.900939464569092,-1.0700345039367676,3.5730834007263184,4.9734673500061035,1.9584165811538696,1.4466713666915894,3.0336246490478516,7.574000835418701,4.430325031280518,4.92159366607666,4.742138385772705,3.9154064655303955,4.978262901306152,1.4961931705474854,-2.4877638816833496,4.032773017883301,1.9446085691452026,6.756257057189941,5.816824913024902,4.854881286621094,3.5598249435424805,-2.2560219764709473,2.0369677543640137,6.870398044586182,6.344355583190918,-1.552339792251587,6.741106986999512,-3.822369337081909,-0.6823511123657227,5.207607269287109,4.141436576843262],\"yaxis\":\"y\",\"type\":\"scattergl\"},{\"hovertemplate\":\"\\u0412\\u0438\\u0434 \\u041d\\u041f\\u0410=\\u041f\\u0440\\u0438\\u043a\\u0430\\u0437, \\u0440\\u0435\\u0433\\u0438\\u043e\\u043d\\u0430\\u043b\\u044c\\u043d\\u044b\\u0439 \\u0443\\u0440\\u043e\\u0432\\u0435\\u043d\\u044c, \\u043e\\u0440\\u0433\\u0430\\u043d\\u044b \\u0438\\u0441\\u043f\\u043e\\u043b\\u043d\\u0438\\u0442\\u0435\\u043b\\u044c\\u043d\\u043e\\u0439 \\u0432\\u043b\\u0430\\u0441\\u0442\\u0438\\u003cbr\\u003e0=%{x}\\u003cbr\\u003e1=%{y}\\u003cextra\\u003e\\u003c\\u002fextra\\u003e\",\"legendgroup\":\"\\u041f\\u0440\\u0438\\u043a\\u0430\\u0437, \\u0440\\u0435\\u0433\\u0438\\u043e\\u043d\\u0430\\u043b\\u044c\\u043d\\u044b\\u0439 \\u0443\\u0440\\u043e\\u0432\\u0435\\u043d\\u044c, \\u043e\\u0440\\u0433\\u0430\\u043d\\u044b \\u0438\\u0441\\u043f\\u043e\\u043b\\u043d\\u0438\\u0442\\u0435\\u043b\\u044c\\u043d\\u043e\\u0439 \\u0432\\u043b\\u0430\\u0441\\u0442\\u0438\",\"marker\":{\"color\":\"#FF97FF\",\"symbol\":\"circle\"},\"mode\":\"markers\",\"name\":\"\\u041f\\u0440\\u0438\\u043a\\u0430\\u0437, \\u0440\\u0435\\u0433\\u0438\\u043e\\u043d\\u0430\\u043b\\u044c\\u043d\\u044b\\u0439 \\u0443\\u0440\\u043e\\u0432\\u0435\\u043d\\u044c, \\u043e\\u0440\\u0433\\u0430\\u043d\\u044b \\u0438\\u0441\\u043f\\u043e\\u043b\\u043d\\u0438\\u0442\\u0435\\u043b\\u044c\\u043d\\u043e\\u0439 \\u0432\\u043b\\u0430\\u0441\\u0442\\u0438\",\"showlegend\":true,\"x\":[-7.413769245147705,1.4115763902664185,-3.9693806171417236,6.243569374084473,-0.49153366684913635,-7.008667469024658,0.34404218196868896,0.18023282289505005,-6.8096160888671875,0.8918296694755554,-6.768095970153809,-7.499835968017578,4.616542816162109,-5.34771728515625,1.4172090291976929,1.3178027868270874,-6.933316707611084,-1.1137282848358154,-7.021642208099365,0.06320236623287201,-0.5828174352645874,-0.7506276965141296,-6.953290939331055,1.155191421508789,0.0885053351521492,-6.770737648010254,-6.946070671081543,-7.4731292724609375,-5.473569393157959,6.122457504272461,-1.1309195756912231,-0.4359121024608612,-7.7046685218811035,-0.7816662788391113,1.0900379419326782,-1.1309727430343628,-5.350630760192871,-5.424226760864258,0.4197275936603546,0.012138072401285172,-0.733322262763977,0.8004308938980103,-5.344120502471924,0.28223371505737305,-6.866293430328369,-7.63985538482666,-6.911829948425293,-6.653724193572998,-7.51782751083374,-1.2395892143249512,-6.737391948699951,-6.96077299118042,-1.1062861680984497,-2.3901584148406982,-7.382264137268066,0.3003707528114319,-7.320308685302734,-1.0449974536895752,1.2241290807724,0.2058989554643631,-7.100204944610596,-1.4918831586837769,-7.086825847625732,-0.7746426463127136,-8.698753356933594,0.4594789445400238,1.428204894065857,-7.508874893188477,1.2481803894042969,-4.882349967956543,-6.778013706207275,-6.938061714172363,4.716439247131348,-6.868044376373291,3.2750418186187744,1.6757690906524658,0.19980253279209137,-2.38938307762146,1.2391287088394165,-6.861390113830566,-1.8111605644226074,-0.7944574952125549,1.2721846103668213,-7.22593355178833,0.7982801198959351,6.109257221221924,-2.1646127700805664,-6.941096305847168,-6.9557085037231445,-6.885682582855225,-2.2565858364105225,0.6358680725097656,1.162246823310852,1.4560331106185913,-6.951882362365723,-7.022693157196045,-2.3851141929626465,-5.348674297332764,0.5742494463920593,-2.5473709106445312,-0.220118448138237,-6.8452982902526855,-7.075051307678223,-3.57053542137146,-7.366725444793701,-3.61747670173645,-0.9013477563858032,-1.6764719486236572],\"xaxis\":\"x\",\"y\":[7.066566467285156,3.076308250427246,9.383028030395508,4.319239139556885,5.509650707244873,6.092878818511963,5.208763599395752,5.53188943862915,5.329440593719482,4.322861194610596,6.607962608337402,7.092034339904785,7.54082727432251,5.714125156402588,6.680569171905518,6.687774658203125,5.513069152832031,7.202794551849365,6.082353591918945,5.693814277648926,5.602451324462891,4.718685626983643,5.932672500610352,4.179469108581543,6.604785442352295,5.485996246337891,5.454076290130615,7.105956077575684,4.316544532775879,4.517651557922363,7.211012363433838,5.564032077789307,-0.8518009781837463,4.6362457275390625,3.087062120437622,7.0551676750183105,5.6916704177856445,5.662356853485107,6.841937065124512,6.470592021942139,5.307590484619141,5.513462066650391,5.717757701873779,7.021503448486328,5.741920471191406,7.055154323577881,5.4212822914123535,5.003700256347656,7.121603012084961,7.246353626251221,6.605339527130127,5.774515628814697,7.135213375091553,4.021924018859863,7.0087666511535645,5.562809467315674,7.022389888763428,7.276840686798096,3.5305519104003906,7.054137229919434,6.168044567108154,6.871105194091797,7.0865607261657715,5.496096611022949,-1.123443365097046,6.764434337615967,3.010410785675049,7.120806694030762,3.495692253112793,4.380396842956543,6.617208003997803,5.4011054039001465,7.4821672439575195,5.867897987365723,4.74583101272583,2.94277286529541,6.564935684204102,4.379617214202881,3.5101170539855957,5.426666736602783,3.7161612510681152,4.822120666503906,3.227607488632202,6.377554893493652,4.234507083892822,4.321255207061768,2.6647071838378906,5.441273212432861,5.355254173278809,6.729963302612305,1.3641670942306519,6.621586799621582,-4.2618608474731445,2.806614637374878,5.438941478729248,6.653159141540527,3.9571380615234375,5.716255187988281,5.578741550445557,8.196822166442871,5.582413673400879,5.298710823059082,6.046603679656982,2.5425188541412354,7.003231525421143,2.46706223487854,7.957657814025879,3.9792168140411377],\"yaxis\":\"y\",\"type\":\"scattergl\"},{\"hovertemplate\":\"\\u0412\\u0438\\u0434 \\u041d\\u041f\\u0410=\\u0420\\u0430\\u0441\\u043f\\u043e\\u0440\\u044f\\u0436\\u0435\\u043d\\u0438\\u0435, \\u0444\\u0435\\u0434\\u0435\\u0440\\u0430\\u043b\\u044c\\u043d\\u044b\\u0439 \\u0443\\u0440\\u043e\\u0432\\u0435\\u043d\\u044c, \\u0433\\u043b\\u0430\\u0432\\u0430 \\u0438\\u0441\\u043f\\u043e\\u043b\\u043d\\u0438\\u0442\\u0435\\u043b\\u044c\\u043d\\u043e\\u0439 \\u0432\\u043b\\u0430\\u0441\\u0442\\u0438\\u003cbr\\u003e0=%{x}\\u003cbr\\u003e1=%{y}\\u003cextra\\u003e\\u003c\\u002fextra\\u003e\",\"legendgroup\":\"\\u0420\\u0430\\u0441\\u043f\\u043e\\u0440\\u044f\\u0436\\u0435\\u043d\\u0438\\u0435, \\u0444\\u0435\\u0434\\u0435\\u0440\\u0430\\u043b\\u044c\\u043d\\u044b\\u0439 \\u0443\\u0440\\u043e\\u0432\\u0435\\u043d\\u044c, \\u0433\\u043b\\u0430\\u0432\\u0430 \\u0438\\u0441\\u043f\\u043e\\u043b\\u043d\\u0438\\u0442\\u0435\\u043b\\u044c\\u043d\\u043e\\u0439 \\u0432\\u043b\\u0430\\u0441\\u0442\\u0438\",\"marker\":{\"color\":\"#FECB52\",\"symbol\":\"circle\"},\"mode\":\"markers\",\"name\":\"\\u0420\\u0430\\u0441\\u043f\\u043e\\u0440\\u044f\\u0436\\u0435\\u043d\\u0438\\u0435, \\u0444\\u0435\\u0434\\u0435\\u0440\\u0430\\u043b\\u044c\\u043d\\u044b\\u0439 \\u0443\\u0440\\u043e\\u0432\\u0435\\u043d\\u044c, \\u0433\\u043b\\u0430\\u0432\\u0430 \\u0438\\u0441\\u043f\\u043e\\u043b\\u043d\\u0438\\u0442\\u0435\\u043b\\u044c\\u043d\\u043e\\u0439 \\u0432\\u043b\\u0430\\u0441\\u0442\\u0438\",\"showlegend\":true,\"x\":[0.6098207831382751,-6.821091175079346,0.5363324880599976,4.076389789581299,3.3155159950256348,-2.1230862140655518,0.5225086808204651,-6.748024940490723,-0.3820968568325043,0.4518261253833771,0.4239974319934845,2.6238906383514404,-2.247645139694214,0.5695154070854187,-2.2107019424438477,0.5595874786376953,3.7738254070281982,-4.006814956665039,-2.0794224739074707,-4.067598342895508,-3.4405529499053955,-0.4519573748111725,3.340759038925171,-1.814141035079956,-2.1071064472198486,-0.45412716269493103,4.234783172607422,2.3840489387512207,3.384998321533203,4.287308216094971,0.6968876123428345,4.437340259552002,-0.5237299799919128,-1.7403509616851807,3.993029832839966,4.198501110076904,-1.7699825763702393,4.384860515594482,-2.1397242546081543,-0.6117987036705017,-0.6244131326675415,-5.907467365264893,-2.028118371963501,-0.5355731248855591,-1.2337404489517212,-0.7954739928245544,-2.2166080474853516,-6.1405439376831055,3.300872325897217,-0.6705798506736755,-2.0853960514068604,0.6690434813499451,-0.8243708610534668,-2.2822425365448,-1.7309058904647827,0.5438589453697205,-2.152831792831421,-2.048982858657837,-0.003985104151070118,-0.8023735880851746,0.4407401978969574,-4.1687846183776855,-0.9749070405960083,-3.97475528717041,0.23225773870944977,-1.4796302318572998,-4.014797687530518,-0.137257382273674,-4.005570888519287,-4.004150867462158,0.6943066120147705,-0.9766883850097656,-0.6543450951576233,-2.1190128326416016,2.2101404666900635,2.5648000240325928,3.544934034347534,0.5142024755477905,4.05769157409668,-0.09889556467533112,0.8189603686332703,3.76216197013855,0.39958009123802185,-0.2635010778903961,-0.5872723460197449,3.381070375442505],\"xaxis\":\"x\",\"y\":[-6.0515456199646,-8.07523250579834,-6.127578258514404,-8.544425010681152,-8.389603614807129,-8.14057731628418,-6.130363464355469,-8.084354400634766,-10.455864906311035,-7.272233009338379,-7.62529182434082,-9.000393867492676,-8.023438453674316,-6.06201171875,-8.01929759979248,-8.48634147644043,-8.43237590789795,-10.134801864624023,-8.117923736572266,-10.124411582946777,-10.064482688903809,-8.057208061218262,-8.652223587036133,-9.636730194091797,-8.146747589111328,-8.274965286254883,-7.87967586517334,-9.182595252990723,-8.311325073242188,-7.4990339279174805,-8.691885948181152,-8.144980430603027,-8.151144027709961,-9.523709297180176,-8.062986373901367,-8.596992492675781,-8.261157989501953,-7.980300426483154,-7.880945682525635,-8.104761123657227,-8.415512084960938,-9.017158508300781,-10.774724006652832,-7.8894758224487305,-9.38257122039795,-8.680122375488281,-8.017549514770508,-8.373786926269531,-9.371004104614258,-8.483758926391602,-8.123723030090332,-8.771173477172852,-8.593823432922363,-8.054889678955078,-7.731807231903076,-6.123193264007568,-8.023303031921387,-8.194403648376465,-9.987707138061523,-8.72171688079834,-6.275378227233887,-1.321422815322876,-8.713497161865234,-10.135710716247559,-6.1673583984375,-9.57841682434082,-10.135477066040039,-9.913372039794922,-10.123306274414062,-10.135849952697754,-6.054589748382568,-8.032727241516113,-8.460017204284668,-8.024944305419922,-5.8557562828063965,-9.065987586975098,-8.657551765441895,-6.137220859527588,-7.840956687927246,-9.926203727722168,-8.665249824523926,-8.371464729309082,-7.408567428588867,-10.238628387451172,-8.475985527038574,-8.779735565185547],\"yaxis\":\"y\",\"type\":\"scattergl\"},{\"hovertemplate\":\"\\u0412\\u0438\\u0434 \\u041d\\u041f\\u0410=\\u041f\\u043e\\u0441\\u0442\\u0430\\u043d\\u043e\\u0432\\u043b\\u0435\\u043d\\u0438\\u0435, \\u0440\\u0435\\u0433\\u0438\\u043e\\u043d\\u0430\\u043b\\u044c\\u043d\\u044b\\u0439 \\u0443\\u0440\\u043e\\u0432\\u0435\\u043d\\u044c, \\u043e\\u0440\\u0433\\u0430\\u043d\\u044b \\u0438\\u0441\\u043f\\u043e\\u043b\\u043d\\u0438\\u0442\\u0435\\u043b\\u044c\\u043d\\u043e\\u0439 \\u0432\\u043b\\u0430\\u0441\\u0442\\u0438\\u003cbr\\u003e0=%{x}\\u003cbr\\u003e1=%{y}\\u003cextra\\u003e\\u003c\\u002fextra\\u003e\",\"legendgroup\":\"\\u041f\\u043e\\u0441\\u0442\\u0430\\u043d\\u043e\\u0432\\u043b\\u0435\\u043d\\u0438\\u0435, \\u0440\\u0435\\u0433\\u0438\\u043e\\u043d\\u0430\\u043b\\u044c\\u043d\\u044b\\u0439 \\u0443\\u0440\\u043e\\u0432\\u0435\\u043d\\u044c, \\u043e\\u0440\\u0433\\u0430\\u043d\\u044b \\u0438\\u0441\\u043f\\u043e\\u043b\\u043d\\u0438\\u0442\\u0435\\u043b\\u044c\\u043d\\u043e\\u0439 \\u0432\\u043b\\u0430\\u0441\\u0442\\u0438\",\"marker\":{\"color\":\"#636efa\",\"symbol\":\"circle\"},\"mode\":\"markers\",\"name\":\"\\u041f\\u043e\\u0441\\u0442\\u0430\\u043d\\u043e\\u0432\\u043b\\u0435\\u043d\\u0438\\u0435, \\u0440\\u0435\\u0433\\u0438\\u043e\\u043d\\u0430\\u043b\\u044c\\u043d\\u044b\\u0439 \\u0443\\u0440\\u043e\\u0432\\u0435\\u043d\\u044c, \\u043e\\u0440\\u0433\\u0430\\u043d\\u044b \\u0438\\u0441\\u043f\\u043e\\u043b\\u043d\\u0438\\u0442\\u0435\\u043b\\u044c\\u043d\\u043e\\u0439 \\u0432\\u043b\\u0430\\u0441\\u0442\\u0438\",\"showlegend\":true,\"x\":[-4.6524763107299805,-4.622180461883545,-6.8703694343566895,-6.454290390014648,-5.061364650726318,-7.214801788330078,-5.958780288696289,3.2737040519714355,2.958885669708252,-4.610414981842041,-6.630396366119385,-4.872740745544434,-6.119325160980225,-5.4497785568237305,0.9823814034461975,-3.7803351879119873,1.20822012424469,-4.7258477210998535,-6.695199012756348,0.7798658013343811,0.9440361261367798,-5.028454303741455,-6.537707805633545,-6.519418716430664,2.4359748363494873,0.9016594886779785,-6.668642044067383,-6.50908899307251,-6.490681171417236,5.772594451904297,-5.068608283996582,-4.890219688415527,-6.519418716430664,-6.676003932952881,-6.50572395324707,-6.643863677978516,-4.935094356536865,-6.4633307456970215,-6.497775554656982,-6.733633041381836,-6.529131889343262,-6.479208469390869,-4.701889514923096,0.8538864254951477,-4.943905353546143,-6.327316761016846,-5.063010215759277,-5.959946155548096,3.011749744415283,-4.594080448150635,-6.380618095397949,-4.548399925231934,-6.0153985023498535,-5.910471439361572,-6.699704170227051,5.852282524108887,-6.424367427825928,-0.9074648022651672,-6.4442291259765625,-6.4597907066345215,-4.789029121398926,-4.480859279632568,-7.01502799987793,-6.908296585083008,-4.607141971588135,-6.460697174072266,-7.0496697425842285,-6.516568660736084,-4.603560924530029,-4.644240856170654,-6.461554050445557,-4.6374945640563965,-5.4448323249816895,-6.447207927703857,-4.202146530151367,-4.509581565856934,-4.6991472244262695,-6.708632469177246,-6.655318260192871,-6.992885112762451,-4.35222053527832,1.1178003549575806,-4.476264953613281,-6.484753608703613],\"xaxis\":\"x\",\"y\":[7.333779811859131,7.371077537536621,7.673169136047363,7.9576497077941895,8.953287124633789,8.182933807373047,9.239906311035156,6.119266033172607,4.292233467102051,6.262825965881348,7.657148361206055,6.815679550170898,8.434552192687988,4.407120227813721,7.148916244506836,3.87338924407959,7.37760591506958,5.978823661804199,7.6258087158203125,7.220944881439209,6.084827899932861,8.955123901367188,8.617321968078613,8.715771675109863,3.693002700805664,5.934620380401611,7.636531352996826,8.681670188903809,8.233083724975586,0.8408438563346863,8.922710418701172,6.794911861419678,8.715774536132812,7.5068583488464355,8.68195915222168,7.723250865936279,8.990118980407715,8.006292343139648,8.261520385742188,7.560025215148926,8.130668640136719,8.189347267150879,7.105404376983643,5.873318195343018,8.99045467376709,8.58899974822998,8.921615600585938,9.242074966430664,4.265892028808594,7.509244918823242,7.746550559997559,7.404379844665527,6.223742485046387,9.225802421569824,7.103306293487549,1.8429627418518066,7.998973846435547,3.902719020843506,7.949765682220459,8.208989143371582,7.038443565368652,7.636553764343262,8.027050018310547,7.599013805389404,7.3054375648498535,8.365309715270996,7.716535568237305,7.670405864715576,7.489386081695557,6.213583946228027,7.8192033767700195,7.252410411834717,4.372690200805664,8.106002807617188,5.812043190002441,7.424679756164551,7.179730415344238,7.546167850494385,7.6442694664001465,7.517606735229492,7.6465163230896,6.705170154571533,7.6375651359558105,7.834498882293701],\"yaxis\":\"y\",\"type\":\"scattergl\"},{\"hovertemplate\":\"\\u0412\\u0438\\u0434 \\u041d\\u041f\\u0410=\\u0417\\u0430\\u043a\\u043e\\u043d, \\u0440\\u0435\\u0433\\u0438\\u043e\\u043d\\u0430\\u043b\\u044c\\u043d\\u044b\\u0439 \\u0443\\u0440\\u043e\\u0432\\u0435\\u043d\\u044c, \\u0437\\u0430\\u043a\\u043e\\u043d\\u043e\\u0434\\u0430\\u0442\\u0435\\u043b\\u044c\\u043d\\u044b\\u0439 \\u043e\\u0440\\u0433\\u0430\\u043d\\u003cbr\\u003e0=%{x}\\u003cbr\\u003e1=%{y}\\u003cextra\\u003e\\u003c\\u002fextra\\u003e\",\"legendgroup\":\"\\u0417\\u0430\\u043a\\u043e\\u043d, \\u0440\\u0435\\u0433\\u0438\\u043e\\u043d\\u0430\\u043b\\u044c\\u043d\\u044b\\u0439 \\u0443\\u0440\\u043e\\u0432\\u0435\\u043d\\u044c, \\u0437\\u0430\\u043a\\u043e\\u043d\\u043e\\u0434\\u0430\\u0442\\u0435\\u043b\\u044c\\u043d\\u044b\\u0439 \\u043e\\u0440\\u0433\\u0430\\u043d\",\"marker\":{\"color\":\"#EF553B\",\"symbol\":\"circle\"},\"mode\":\"markers\",\"name\":\"\\u0417\\u0430\\u043a\\u043e\\u043d, \\u0440\\u0435\\u0433\\u0438\\u043e\\u043d\\u0430\\u043b\\u044c\\u043d\\u044b\\u0439 \\u0443\\u0440\\u043e\\u0432\\u0435\\u043d\\u044c, \\u0437\\u0430\\u043a\\u043e\\u043d\\u043e\\u0434\\u0430\\u0442\\u0435\\u043b\\u044c\\u043d\\u044b\\u0439 \\u043e\\u0440\\u0433\\u0430\\u043d\",\"showlegend\":true,\"x\":[3.881193161010742,4.525563716888428,4.391807556152344,-0.7132700681686401,3.716622829437256,4.230258464813232,-0.40361079573631287,-0.44290459156036377,-0.13366493582725525,3.636563539505005,0.12548241019248962,3.594914197921753,4.833122730255127,2.1199331283569336,3.6678719520568848,2.3252265453338623,2.1375575065612793,3.7177340984344482,4.5849738121032715,1.095494270324707,-0.3891046643257141,-1.0205330848693848,4.412883281707764,2.5682573318481445,1.769233226776123,4.598027229309082,4.333657264709473,2.810076951980591,2.9030609130859375,1.0119860172271729,0.06063024699687958,6.075272083282471,-0.48300492763519287,1.819710612297058,-2.0372488498687744,-1.2623867988586426,4.380514621734619,4.010775566101074,-0.5580390691757202,-0.5362342596054077,-0.09436705708503723,-0.35122379660606384,3.8235795497894287,4.164849758148193,-0.4171706736087799,-2.4105725288391113,0.5981655120849609,-0.07851363718509674,4.059571266174316,-0.5616587996482849,3.8104875087738037,-0.6066673398017883,3.264436960220337,5.077295303344727,2.2496771812438965,0.8101921081542969,3.4880588054656982,2.8301010131835938,-0.2840741276741028,2.282274007797241,4.947643756866455,4.05968713760376,0.06325323134660721,-1.7350335121154785,4.206492900848389,3.0648114681243896,1.4051990509033203,2.9223546981811523,3.186901569366455,1.3388996124267578,3.46358585357666,5.891359329223633,5.188758373260498,0.11542817205190659,4.2558274269104,4.532284259796143,2.901470899581909,-0.4382489323616028,-0.9902368783950806,-0.4780655801296234,0.33321669697761536,-0.7201988697052002,-0.7280376553535461,1.9499603509902954,1.576755404472351,0.1297677457332611,-0.8369861245155334,2.2579891681671143,-0.193966805934906,3.224581241607666,3.23404860496521,4.572756290435791,-0.7415606379508972,2.2809689044952393,3.731285572052002,6.801268577575684,3.4643852710723877,2.266094207763672,5.091500759124756],\"xaxis\":\"x\",\"y\":[0.36994874477386475,1.4360451698303223,0.09615689516067505,-0.3229336440563202,0.12182585150003433,1.3524119853973389,-3.51170015335083,0.16847456991672516,-2.6704699993133545,1.3784962892532349,-2.6843907833099365,0.14032945036888123,1.3747823238372803,0.5802047252655029,-0.15156908333301544,1.3694642782211304,-0.17800107598304749,0.17740759253501892,0.633400022983551,0.14240355789661407,8.900259971618652,-1.3722470998764038,1.2422568798065186,7.492173194885254,0.34637829661369324,1.5751487016677856,0.3884202837944031,1.3240095376968384,-0.7999711632728577,1.0291467905044556,-0.5974462032318115,0.5727358460426331,-3.6095046997070312,0.7370897531509399,3.24259877204895,-3.2325267791748047,3.235758066177368,0.4554475247859955,-2.289642095565796,-2.137996196746826,2.350588798522949,-1.0014322996139526,1.339107871055603,0.25067171454429626,-2.504283905029297,-2.4528212547302246,1.70181405544281,-2.9765663146972656,0.24659845232963562,-3.5016207695007324,0.3333040177822113,-2.294982433319092,-3.6449873447418213,1.4309747219085693,-0.1687014400959015,2.5533359050750732,-0.7200720906257629,-0.528022050857544,-3.4232535362243652,-0.27691417932510376,-0.025142237544059753,-0.016198890283703804,1.4053469896316528,4.715127468109131,1.9680671691894531,1.451385498046875,0.9302740097045898,-0.8397861123085022,-3.7037835121154785,-1.0083237886428833,-0.6287410855293274,0.6823622584342957,-0.35473573207855225,1.3531689643859863,0.22479677200317383,1.3794108629226685,-0.8088565468788147,-3.545421838760376,-1.9479647874832153,-3.528110980987549,0.2630006968975067,-0.6162018775939941,-0.37711411714553833,0.050207238644361496,0.41365596652030945,-2.7292559146881104,2.223459243774414,2.5719990730285645,-2.6622064113616943,-3.6568057537078857,0.582721471786499,1.1613821983337402,-1.3365840911865234,-0.4081425070762634,1.0998380184173584,8.041669845581055,-0.28058484196662903,-0.3485557436943054,-0.22278597950935364],\"yaxis\":\"y\",\"type\":\"scattergl\"},{\"hovertemplate\":\"\\u0412\\u0438\\u0434 \\u041d\\u041f\\u0410=\\u0420\\u0430\\u0441\\u043f\\u043e\\u0440\\u044f\\u0436\\u0435\\u043d\\u0438\\u0435, \\u0440\\u0435\\u0433\\u0438\\u043e\\u043d\\u0430\\u043b\\u044c\\u043d\\u044b\\u0439 \\u0443\\u0440\\u043e\\u0432\\u0435\\u043d\\u044c, \\u0433\\u043b\\u0430\\u0432\\u0430 \\u0438\\u0441\\u043f\\u043e\\u043b\\u043d\\u0438\\u0442\\u0435\\u043b\\u044c\\u043d\\u043e\\u0439 \\u0432\\u043b\\u0430\\u0441\\u0442\\u0438\\u003cbr\\u003e0=%{x}\\u003cbr\\u003e1=%{y}\\u003cextra\\u003e\\u003c\\u002fextra\\u003e\",\"legendgroup\":\"\\u0420\\u0430\\u0441\\u043f\\u043e\\u0440\\u044f\\u0436\\u0435\\u043d\\u0438\\u0435, \\u0440\\u0435\\u0433\\u0438\\u043e\\u043d\\u0430\\u043b\\u044c\\u043d\\u044b\\u0439 \\u0443\\u0440\\u043e\\u0432\\u0435\\u043d\\u044c, \\u0433\\u043b\\u0430\\u0432\\u0430 \\u0438\\u0441\\u043f\\u043e\\u043b\\u043d\\u0438\\u0442\\u0435\\u043b\\u044c\\u043d\\u043e\\u0439 \\u0432\\u043b\\u0430\\u0441\\u0442\\u0438\",\"marker\":{\"color\":\"#00cc96\",\"symbol\":\"circle\"},\"mode\":\"markers\",\"name\":\"\\u0420\\u0430\\u0441\\u043f\\u043e\\u0440\\u044f\\u0436\\u0435\\u043d\\u0438\\u0435, \\u0440\\u0435\\u0433\\u0438\\u043e\\u043d\\u0430\\u043b\\u044c\\u043d\\u044b\\u0439 \\u0443\\u0440\\u043e\\u0432\\u0435\\u043d\\u044c, \\u0433\\u043b\\u0430\\u0432\\u0430 \\u0438\\u0441\\u043f\\u043e\\u043b\\u043d\\u0438\\u0442\\u0435\\u043b\\u044c\\u043d\\u043e\\u0439 \\u0432\\u043b\\u0430\\u0441\\u0442\\u0438\",\"showlegend\":true,\"x\":[5.982508182525635,7.220810413360596,8.05681037902832,8.098320007324219,8.692306518554688,5.359277248382568,5.950503826141357,-1.2695435285568237,4.608492851257324,8.691337585449219,3.366372585296631,5.604824542999268,8.959138870239258,7.872893333435059,5.563914775848389,7.984219551086426,3.3870222568511963,5.17874002456665,6.5490617752075195,3.364476442337036,0.7050595283508301,9.539532661437988,8.822604179382324,0.6385607719421387,5.935214519500732,-1.941023588180542,6.336219310760498,-2.814439058303833,6.72804069519043,7.353006362915039,9.503400802612305,8.147631645202637,0.5618533492088318,1.0944744348526,7.976104259490967,2.581953763961792,8.067216873168945,8.075336456298828,5.513610363006592,8.124295234680176,3.3603694438934326,4.311946392059326,7.930988788604736,6.150984764099121,-0.7021100521087646,8.084918022155762,1.9595059156417847,8.078482627868652,7.986957550048828,-0.6473976969718933,8.052765846252441,2.660433769226074,5.359846591949463,4.467770576477051,8.063652038574219,9.132242202758789,-2.346050977706909,0.6462051868438721,8.147377014160156,8.04350757598877,5.564629554748535,0.4924285411834717,8.067537307739258,5.094634532928467,5.88086462020874,4.903096675872803,4.041123867034912,4.330000400543213,7.755515098571777,-0.7252683043479919,8.09223461151123,7.671877861022949,3.0219833850860596,7.631007671356201,-0.6575971841812134,8.051280975341797,3.392688751220703,5.227926254272461,8.09696102142334,5.9180073738098145,6.148631572723389,2.5085859298706055,6.182116985321045,3.5009729862213135,2.875476837158203,7.8784260749816895,0.6633777022361755,5.942296981811523,8.011740684509277,-0.3739669620990753,1.6972171068191528,2.7854762077331543,1.78834867477417,5.9304890632629395],\"xaxis\":\"x\",\"y\":[6.835940837860107,-6.712469100952148,-6.34375,-6.3369526863098145,6.008896350860596,6.659107685089111,-6.1170125007629395,3.7967071533203125,6.408798694610596,7.353630065917969,2.7274184226989746,-6.124829292297363,5.842922687530518,-6.364285945892334,-5.993953227996826,-6.361255168914795,-2.400458812713623,5.6618733406066895,-6.518712997436523,2.58103084564209,-3.603147506713867,6.441633224487305,6.200526714324951,9.511338233947754,-7.016312599182129,2.4406402111053467,-6.607129096984863,1.8805022239685059,-6.472923278808594,-6.570601940155029,6.476629257202148,-6.32262659072876,0.7685598134994507,-3.5098307132720947,-6.3450140953063965,-4.138674259185791,-6.332805156707764,-6.3387298583984375,-5.707882881164551,-6.3282623291015625,2.618858575820923,6.6100754737854,-6.372259616851807,-6.710987091064453,9.920924186706543,-6.32816219329834,4.335263729095459,-6.339807033538818,-6.3439202308654785,1.878150463104248,-6.342532157897949,-4.605231285095215,6.556814670562744,-8.014676094055176,-6.347927093505859,6.668033123016357,3.930955410003662,9.374929428100586,-6.329042911529541,-6.343856334686279,-5.8433732986450195,-2.873350143432617,-6.3375091552734375,3.8542699813842773,-6.814298629760742,-7.128307342529297,4.142679214477539,4.198466777801514,-6.3826775550842285,9.952892303466797,-6.331020832061768,-6.419095039367676,3.6805591583251953,-6.431825160980225,10.057034492492676,-6.346127510070801,-3.6050808429718018,5.053049564361572,-6.331862449645996,4.556187152862549,-6.717635631561279,-4.532314300537109,4.407699108123779,2.677023410797119,4.93253231048584,-6.341858863830566,9.622321128845215,-6.54703426361084,-6.342331886291504,8.642369270324707,-2.3451650142669678,-4.135194778442383,-4.090887069702148,-6.918492317199707],\"yaxis\":\"y\",\"type\":\"scattergl\"},{\"hovertemplate\":\"\\u0412\\u0438\\u0434 \\u041d\\u041f\\u0410=\\u0417\\u0430\\u043a\\u043e\\u043d, \\u0444\\u0435\\u0434\\u0435\\u0440\\u0430\\u043b\\u044c\\u043d\\u044b\\u0439 \\u0443\\u0440\\u043e\\u0432\\u0435\\u043d\\u044c, \\u0437\\u0430\\u043a\\u043e\\u043d\\u043e\\u0434\\u0430\\u0442\\u0435\\u043b\\u044c\\u043d\\u044b\\u0439 \\u043e\\u0440\\u0433\\u0430\\u043d\\u003cbr\\u003e0=%{x}\\u003cbr\\u003e1=%{y}\\u003cextra\\u003e\\u003c\\u002fextra\\u003e\",\"legendgroup\":\"\\u0417\\u0430\\u043a\\u043e\\u043d, \\u0444\\u0435\\u0434\\u0435\\u0440\\u0430\\u043b\\u044c\\u043d\\u044b\\u0439 \\u0443\\u0440\\u043e\\u0432\\u0435\\u043d\\u044c, \\u0437\\u0430\\u043a\\u043e\\u043d\\u043e\\u0434\\u0430\\u0442\\u0435\\u043b\\u044c\\u043d\\u044b\\u0439 \\u043e\\u0440\\u0433\\u0430\\u043d\",\"marker\":{\"color\":\"#ab63fa\",\"symbol\":\"circle\"},\"mode\":\"markers\",\"name\":\"\\u0417\\u0430\\u043a\\u043e\\u043d, \\u0444\\u0435\\u0434\\u0435\\u0440\\u0430\\u043b\\u044c\\u043d\\u044b\\u0439 \\u0443\\u0440\\u043e\\u0432\\u0435\\u043d\\u044c, \\u0437\\u0430\\u043a\\u043e\\u043d\\u043e\\u0434\\u0430\\u0442\\u0435\\u043b\\u044c\\u043d\\u044b\\u0439 \\u043e\\u0440\\u0433\\u0430\\u043d\",\"showlegend\":true,\"x\":[-2.290168046951294,-2.682861566543579,-3.1761622428894043,-2.3043065071105957,-2.651740312576294,-3.0176618099212646,-3.414172649383545,-3.212106704711914,-2.6995975971221924,-3.654247999191284,-3.2935547828674316,-3.069443941116333,-2.615508556365967,-3.143888235092163,-1.9499270915985107,-2.232509136199951,-3.0411579608917236,-3.2606418132781982,-3.7139999866485596,-2.9391682147979736,-2.3479015827178955,-2.3957762718200684,-2.863729953765869,-3.1532342433929443,-3.1218857765197754,-2.35235333442688,-3.015936851501465,-1.740159511566162,-2.534895181655884,-2.49810791015625,-2.3400156497955322,-2.5193660259246826,-3.4017999172210693,-3.4350616931915283,-2.9726250171661377,-3.690530776977539,-3.3063809871673584,-3.3372602462768555,-3.9045660495758057,-3.634110927581787,-2.9627163410186768,-3.948354959487915,-3.2510669231414795,-3.3541133403778076,-2.4270994663238525,-3.492175579071045,-3.4559335708618164,-3.408128023147583,-3.058821678161621,-2.6807096004486084,-3.1456809043884277,-3.269534111022949,-3.2880914211273193,-3.393667221069336,-2.255929946899414,-2.906026840209961,-2.5606648921966553,-2.6878182888031006,-2.9881296157836914,-2.075930595397949,-3.439835786819458,-1.9883428812026978,-2.488373279571533,-2.407419443130493,-3.2509124279022217,-2.9259450435638428,-3.0275027751922607,-2.139152765274048,-3.6630799770355225,-2.4379212856292725,-2.8427534103393555,-2.6932291984558105,-3.090855598449707,-2.921201229095459,-2.449312210083008,-3.4377481937408447,-2.3260836601257324,-2.376392364501953,-2.4155945777893066,-3.0792338848114014,-3.2818245887756348,-3.2303431034088135,-2.2613627910614014,-2.4397025108337402,-4.474877834320068],\"xaxis\":\"x\",\"y\":[-7.815074443817139,-7.295341491699219,-4.173776626586914,-5.100612163543701,-5.093777179718018,-5.487692832946777,-4.49847936630249,-2.831416606903076,-4.280178546905518,-4.850203514099121,-3.22806978225708,-5.391717433929443,-4.25308084487915,-3.923997402191162,-0.6635672450065613,-7.955819606781006,-5.602858543395996,-5.478498458862305,-5.0328545570373535,-4.003128528594971,-5.619466304779053,-5.7329583168029785,-5.063443183898926,-5.056911945343018,-4.535913467407227,-4.656949996948242,-2.6684768199920654,0.2398870289325714,-5.1675567626953125,-5.537486553192139,-4.536447048187256,-5.104508876800537,-4.1914896965026855,-2.5936946868896484,-4.252494812011719,-1.3142787218093872,-5.834191799163818,-5.4983601570129395,-3.429187536239624,-3.5841622352600098,-4.410224437713623,-4.530265808105469,-5.431565284729004,-3.1074182987213135,-7.912083625793457,-4.171146392822266,-7.433078765869141,-5.054713249206543,-2.8435661792755127,-3.797898530960083,-4.396230697631836,-4.332492351531982,-4.040975570678711,-5.639743328094482,-4.894136905670166,-4.097992420196533,-5.526796340942383,-3.375701904296875,-3.5329484939575195,-5.371009826660156,-5.684902191162109,-0.7071269154548645,-4.755720138549805,-5.651606559753418,-5.383235454559326,-5.562713623046875,-3.9704644680023193,-4.9500250816345215,-4.233508586883545,-5.614140033721924,-3.7878596782684326,-3.923044443130493,-4.205193519592285,-5.049707889556885,-4.886330604553223,-5.471747398376465,-5.030310153961182,-4.017251014709473,-4.733644485473633,-2.4707491397857666,-3.2083098888397217,-3.9612128734588623,-4.960916996002197,-5.704416751861572,-7.158701419830322],\"yaxis\":\"y\",\"type\":\"scattergl\"},{\"hovertemplate\":\"\\u0412\\u0438\\u0434 \\u041d\\u041f\\u0410=\\u0423\\u043a\\u0430\\u0437, \\u0440\\u0435\\u0433\\u0438\\u043e\\u043d\\u0430\\u043b\\u044c\\u043d\\u044b\\u0439 \\u0443\\u0440\\u043e\\u0432\\u0435\\u043d\\u044c, \\u0433\\u043b\\u0430\\u0432\\u0430 \\u0438\\u0441\\u043f\\u043e\\u043b\\u043d\\u0438\\u0442\\u0435\\u043b\\u044c\\u043d\\u043e\\u0439 \\u0432\\u043b\\u0430\\u0441\\u0442\\u0438\\u003cbr\\u003e0=%{x}\\u003cbr\\u003e1=%{y}\\u003cextra\\u003e\\u003c\\u002fextra\\u003e\",\"legendgroup\":\"\\u0423\\u043a\\u0430\\u0437, \\u0440\\u0435\\u0433\\u0438\\u043e\\u043d\\u0430\\u043b\\u044c\\u043d\\u044b\\u0439 \\u0443\\u0440\\u043e\\u0432\\u0435\\u043d\\u044c, \\u0433\\u043b\\u0430\\u0432\\u0430 \\u0438\\u0441\\u043f\\u043e\\u043b\\u043d\\u0438\\u0442\\u0435\\u043b\\u044c\\u043d\\u043e\\u0439 \\u0432\\u043b\\u0430\\u0441\\u0442\\u0438\",\"marker\":{\"color\":\"#FFA15A\",\"symbol\":\"circle\"},\"mode\":\"markers\",\"name\":\"\\u0423\\u043a\\u0430\\u0437, \\u0440\\u0435\\u0433\\u0438\\u043e\\u043d\\u0430\\u043b\\u044c\\u043d\\u044b\\u0439 \\u0443\\u0440\\u043e\\u0432\\u0435\\u043d\\u044c, \\u0433\\u043b\\u0430\\u0432\\u0430 \\u0438\\u0441\\u043f\\u043e\\u043b\\u043d\\u0438\\u0442\\u0435\\u043b\\u044c\\u043d\\u043e\\u0439 \\u0432\\u043b\\u0430\\u0441\\u0442\\u0438\",\"showlegend\":true,\"x\":[9.636948585510254,2.4317240715026855,5.422184467315674,6.078991889953613,9.240581512451172,9.425909042358398,4.912571430206299,8.972766876220703,9.691773414611816,9.829878807067871,8.883123397827148,2.731727361679077,4.0857930183410645,8.05018424987793,8.868551254272461,1.6108386516571045,9.236556053161621,1.5256658792495728,9.47257137298584,-0.63470858335495,1.0255366563796997,9.856081008911133,2.050891399383545,9.856572151184082,2.0543999671936035,8.307499885559082,4.4962873458862305,6.716544151306152,9.5901460647583,8.014643669128418,4.756117820739746,3.2358596324920654,3.3282461166381836,9.827741622924805,1.7354434728622437,2.978820323944092,4.695071697235107,9.472894668579102,4.74412727355957,8.93880844116211,6.732163429260254,4.205115795135498,8.899065017700195,3.3293192386627197,9.802980422973633,5.357948303222656,5.309614181518555,4.583564758300781,1.1968989372253418,1.664958119392395,1.0345754623413086,4.100863933563232,9.044378280639648,9.79224967956543,8.669093132019043,1.8999860286712646,1.8644253015518188,-3.889925479888916,2.2575905323028564,-0.12314204126596451,9.194747924804688,2.3028740882873535,0.35741502046585083,8.972729682922363,2.250523805618286,9.747147560119629,5.254204273223877,1.8769069910049438,9.817678451538086,1.1420843601226807,1.9292410612106323,1.7327126264572144,9.760702133178711,5.1221208572387695,8.123250007629395,2.2300572395324707,2.3680036067962646,3.6227049827575684,2.088567018508911,9.856289863586426,4.655217170715332,1.7515919208526611,3.219970703125,9.548885345458984,3.9449031352996826,0.9602708220481873,9.396466255187988,5.17509126663208,2.1874094009399414,1.751486897468567,9.915196418762207,5.296492576599121,-0.30012425780296326,5.617507457733154,-0.30434346199035645,3.321484327316284,8.27680492401123,9.596593856811523,3.357656240463257],\"xaxis\":\"x\",\"y\":[6.970505714416504,-4.546632289886475,4.944421768188477,-6.596543312072754,7.698723793029785,6.648401737213135,5.667790412902832,7.325242519378662,6.441910266876221,5.911386966705322,7.751808166503906,-3.941103458404541,6.232045650482178,7.555592060089111,7.75351095199585,-4.732685565948486,7.414128303527832,-3.2550294399261475,6.614139080047607,8.492366790771484,-3.574312210083008,6.753767967224121,-4.6637372970581055,5.878244400024414,3.325237989425659,7.068972110748291,5.800364971160889,-4.526374340057373,6.390467643737793,7.584025859832764,-7.897063255310059,2.8388845920562744,2.5667333602905273,5.735922813415527,-4.509301662445068,-7.869212627410889,3.1100270748138428,7.746425151824951,5.399514198303223,7.218044281005859,-4.486247539520264,6.083164215087891,7.803911209106445,0.641061544418335,6.196259498596191,-7.59651517868042,4.894842624664307,6.185185432434082,-3.6809022426605225,2.630887985229492,-1.3448818922042847,6.026665687561035,7.317786693572998,5.93346643447876,7.084845542907715,5.647618770599365,1.791892170906067,5.049901008605957,-4.497237682342529,0.37110310792922974,7.422828674316406,-4.511701583862305,0.6370337605476379,7.405898571014404,-4.213250637054443,6.715776443481445,5.58994722366333,2.4270427227020264,6.734711647033691,-1.2092152833938599,2.880988836288452,4.148526668548584,5.911455154418945,5.466817855834961,7.104236125946045,-4.364548206329346,-4.748414993286133,7.396217346191406,2.7319698333740234,5.6829681396484375,6.102084636688232,-4.464696884155273,-3.759941339492798,7.107143402099609,6.57004976272583,-1.4009859561920166,6.664988994598389,4.048693656921387,4.33790397644043,-4.632284164428711,5.842803478240967,3.8863258361816406,8.919047355651855,5.186328411102295,9.186490058898926,-1.9470648765563965,6.962535858154297,6.604305744171143,2.562079668045044],\"yaxis\":\"y\",\"type\":\"scattergl\"}],                        {\"template\":{\"data\":{\"histogram2dcontour\":[{\"type\":\"histogram2dcontour\",\"colorbar\":{\"outlinewidth\":0,\"ticks\":\"\"},\"colorscale\":[[0.0,\"#0d0887\"],[0.1111111111111111,\"#46039f\"],[0.2222222222222222,\"#7201a8\"],[0.3333333333333333,\"#9c179e\"],[0.4444444444444444,\"#bd3786\"],[0.5555555555555556,\"#d8576b\"],[0.6666666666666666,\"#ed7953\"],[0.7777777777777778,\"#fb9f3a\"],[0.8888888888888888,\"#fdca26\"],[1.0,\"#f0f921\"]]}],\"choropleth\":[{\"type\":\"choropleth\",\"colorbar\":{\"outlinewidth\":0,\"ticks\":\"\"}}],\"histogram2d\":[{\"type\":\"histogram2d\",\"colorbar\":{\"outlinewidth\":0,\"ticks\":\"\"},\"colorscale\":[[0.0,\"#0d0887\"],[0.1111111111111111,\"#46039f\"],[0.2222222222222222,\"#7201a8\"],[0.3333333333333333,\"#9c179e\"],[0.4444444444444444,\"#bd3786\"],[0.5555555555555556,\"#d8576b\"],[0.6666666666666666,\"#ed7953\"],[0.7777777777777778,\"#fb9f3a\"],[0.8888888888888888,\"#fdca26\"],[1.0,\"#f0f921\"]]}],\"heatmap\":[{\"type\":\"heatmap\",\"colorbar\":{\"outlinewidth\":0,\"ticks\":\"\"},\"colorscale\":[[0.0,\"#0d0887\"],[0.1111111111111111,\"#46039f\"],[0.2222222222222222,\"#7201a8\"],[0.3333333333333333,\"#9c179e\"],[0.4444444444444444,\"#bd3786\"],[0.5555555555555556,\"#d8576b\"],[0.6666666666666666,\"#ed7953\"],[0.7777777777777778,\"#fb9f3a\"],[0.8888888888888888,\"#fdca26\"],[1.0,\"#f0f921\"]]}],\"heatmapgl\":[{\"type\":\"heatmapgl\",\"colorbar\":{\"outlinewidth\":0,\"ticks\":\"\"},\"colorscale\":[[0.0,\"#0d0887\"],[0.1111111111111111,\"#46039f\"],[0.2222222222222222,\"#7201a8\"],[0.3333333333333333,\"#9c179e\"],[0.4444444444444444,\"#bd3786\"],[0.5555555555555556,\"#d8576b\"],[0.6666666666666666,\"#ed7953\"],[0.7777777777777778,\"#fb9f3a\"],[0.8888888888888888,\"#fdca26\"],[1.0,\"#f0f921\"]]}],\"contourcarpet\":[{\"type\":\"contourcarpet\",\"colorbar\":{\"outlinewidth\":0,\"ticks\":\"\"}}],\"contour\":[{\"type\":\"contour\",\"colorbar\":{\"outlinewidth\":0,\"ticks\":\"\"},\"colorscale\":[[0.0,\"#0d0887\"],[0.1111111111111111,\"#46039f\"],[0.2222222222222222,\"#7201a8\"],[0.3333333333333333,\"#9c179e\"],[0.4444444444444444,\"#bd3786\"],[0.5555555555555556,\"#d8576b\"],[0.6666666666666666,\"#ed7953\"],[0.7777777777777778,\"#fb9f3a\"],[0.8888888888888888,\"#fdca26\"],[1.0,\"#f0f921\"]]}],\"surface\":[{\"type\":\"surface\",\"colorbar\":{\"outlinewidth\":0,\"ticks\":\"\"},\"colorscale\":[[0.0,\"#0d0887\"],[0.1111111111111111,\"#46039f\"],[0.2222222222222222,\"#7201a8\"],[0.3333333333333333,\"#9c179e\"],[0.4444444444444444,\"#bd3786\"],[0.5555555555555556,\"#d8576b\"],[0.6666666666666666,\"#ed7953\"],[0.7777777777777778,\"#fb9f3a\"],[0.8888888888888888,\"#fdca26\"],[1.0,\"#f0f921\"]]}],\"mesh3d\":[{\"type\":\"mesh3d\",\"colorbar\":{\"outlinewidth\":0,\"ticks\":\"\"}}],\"scatter\":[{\"fillpattern\":{\"fillmode\":\"overlay\",\"size\":10,\"solidity\":0.2},\"type\":\"scatter\"}],\"parcoords\":[{\"type\":\"parcoords\",\"line\":{\"colorbar\":{\"outlinewidth\":0,\"ticks\":\"\"}}}],\"scatterpolargl\":[{\"type\":\"scatterpolargl\",\"marker\":{\"colorbar\":{\"outlinewidth\":0,\"ticks\":\"\"}}}],\"bar\":[{\"error_x\":{\"color\":\"#2a3f5f\"},\"error_y\":{\"color\":\"#2a3f5f\"},\"marker\":{\"line\":{\"color\":\"#E5ECF6\",\"width\":0.5},\"pattern\":{\"fillmode\":\"overlay\",\"size\":10,\"solidity\":0.2}},\"type\":\"bar\"}],\"scattergeo\":[{\"type\":\"scattergeo\",\"marker\":{\"colorbar\":{\"outlinewidth\":0,\"ticks\":\"\"}}}],\"scatterpolar\":[{\"type\":\"scatterpolar\",\"marker\":{\"colorbar\":{\"outlinewidth\":0,\"ticks\":\"\"}}}],\"histogram\":[{\"marker\":{\"pattern\":{\"fillmode\":\"overlay\",\"size\":10,\"solidity\":0.2}},\"type\":\"histogram\"}],\"scattergl\":[{\"type\":\"scattergl\",\"marker\":{\"colorbar\":{\"outlinewidth\":0,\"ticks\":\"\"}}}],\"scatter3d\":[{\"type\":\"scatter3d\",\"line\":{\"colorbar\":{\"outlinewidth\":0,\"ticks\":\"\"}},\"marker\":{\"colorbar\":{\"outlinewidth\":0,\"ticks\":\"\"}}}],\"scattermapbox\":[{\"type\":\"scattermapbox\",\"marker\":{\"colorbar\":{\"outlinewidth\":0,\"ticks\":\"\"}}}],\"scatterternary\":[{\"type\":\"scatterternary\",\"marker\":{\"colorbar\":{\"outlinewidth\":0,\"ticks\":\"\"}}}],\"scattercarpet\":[{\"type\":\"scattercarpet\",\"marker\":{\"colorbar\":{\"outlinewidth\":0,\"ticks\":\"\"}}}],\"carpet\":[{\"aaxis\":{\"endlinecolor\":\"#2a3f5f\",\"gridcolor\":\"white\",\"linecolor\":\"white\",\"minorgridcolor\":\"white\",\"startlinecolor\":\"#2a3f5f\"},\"baxis\":{\"endlinecolor\":\"#2a3f5f\",\"gridcolor\":\"white\",\"linecolor\":\"white\",\"minorgridcolor\":\"white\",\"startlinecolor\":\"#2a3f5f\"},\"type\":\"carpet\"}],\"table\":[{\"cells\":{\"fill\":{\"color\":\"#EBF0F8\"},\"line\":{\"color\":\"white\"}},\"header\":{\"fill\":{\"color\":\"#C8D4E3\"},\"line\":{\"color\":\"white\"}},\"type\":\"table\"}],\"barpolar\":[{\"marker\":{\"line\":{\"color\":\"#E5ECF6\",\"width\":0.5},\"pattern\":{\"fillmode\":\"overlay\",\"size\":10,\"solidity\":0.2}},\"type\":\"barpolar\"}],\"pie\":[{\"automargin\":true,\"type\":\"pie\"}]},\"layout\":{\"autotypenumbers\":\"strict\",\"colorway\":[\"#636efa\",\"#EF553B\",\"#00cc96\",\"#ab63fa\",\"#FFA15A\",\"#19d3f3\",\"#FF6692\",\"#B6E880\",\"#FF97FF\",\"#FECB52\"],\"font\":{\"color\":\"#2a3f5f\"},\"hovermode\":\"closest\",\"hoverlabel\":{\"align\":\"left\"},\"paper_bgcolor\":\"white\",\"plot_bgcolor\":\"#E5ECF6\",\"polar\":{\"bgcolor\":\"#E5ECF6\",\"angularaxis\":{\"gridcolor\":\"white\",\"linecolor\":\"white\",\"ticks\":\"\"},\"radialaxis\":{\"gridcolor\":\"white\",\"linecolor\":\"white\",\"ticks\":\"\"}},\"ternary\":{\"bgcolor\":\"#E5ECF6\",\"aaxis\":{\"gridcolor\":\"white\",\"linecolor\":\"white\",\"ticks\":\"\"},\"baxis\":{\"gridcolor\":\"white\",\"linecolor\":\"white\",\"ticks\":\"\"},\"caxis\":{\"gridcolor\":\"white\",\"linecolor\":\"white\",\"ticks\":\"\"}},\"coloraxis\":{\"colorbar\":{\"outlinewidth\":0,\"ticks\":\"\"}},\"colorscale\":{\"sequential\":[[0.0,\"#0d0887\"],[0.1111111111111111,\"#46039f\"],[0.2222222222222222,\"#7201a8\"],[0.3333333333333333,\"#9c179e\"],[0.4444444444444444,\"#bd3786\"],[0.5555555555555556,\"#d8576b\"],[0.6666666666666666,\"#ed7953\"],[0.7777777777777778,\"#fb9f3a\"],[0.8888888888888888,\"#fdca26\"],[1.0,\"#f0f921\"]],\"sequentialminus\":[[0.0,\"#0d0887\"],[0.1111111111111111,\"#46039f\"],[0.2222222222222222,\"#7201a8\"],[0.3333333333333333,\"#9c179e\"],[0.4444444444444444,\"#bd3786\"],[0.5555555555555556,\"#d8576b\"],[0.6666666666666666,\"#ed7953\"],[0.7777777777777778,\"#fb9f3a\"],[0.8888888888888888,\"#fdca26\"],[1.0,\"#f0f921\"]],\"diverging\":[[0,\"#8e0152\"],[0.1,\"#c51b7d\"],[0.2,\"#de77ae\"],[0.3,\"#f1b6da\"],[0.4,\"#fde0ef\"],[0.5,\"#f7f7f7\"],[0.6,\"#e6f5d0\"],[0.7,\"#b8e186\"],[0.8,\"#7fbc41\"],[0.9,\"#4d9221\"],[1,\"#276419\"]]},\"xaxis\":{\"gridcolor\":\"white\",\"linecolor\":\"white\",\"ticks\":\"\",\"title\":{\"standoff\":15},\"zerolinecolor\":\"white\",\"automargin\":true,\"zerolinewidth\":2},\"yaxis\":{\"gridcolor\":\"white\",\"linecolor\":\"white\",\"ticks\":\"\",\"title\":{\"standoff\":15},\"zerolinecolor\":\"white\",\"automargin\":true,\"zerolinewidth\":2},\"scene\":{\"xaxis\":{\"backgroundcolor\":\"#E5ECF6\",\"gridcolor\":\"white\",\"linecolor\":\"white\",\"showbackground\":true,\"ticks\":\"\",\"zerolinecolor\":\"white\",\"gridwidth\":2},\"yaxis\":{\"backgroundcolor\":\"#E5ECF6\",\"gridcolor\":\"white\",\"linecolor\":\"white\",\"showbackground\":true,\"ticks\":\"\",\"zerolinecolor\":\"white\",\"gridwidth\":2},\"zaxis\":{\"backgroundcolor\":\"#E5ECF6\",\"gridcolor\":\"white\",\"linecolor\":\"white\",\"showbackground\":true,\"ticks\":\"\",\"zerolinecolor\":\"white\",\"gridwidth\":2}},\"shapedefaults\":{\"line\":{\"color\":\"#2a3f5f\"}},\"annotationdefaults\":{\"arrowcolor\":\"#2a3f5f\",\"arrowhead\":0,\"arrowwidth\":1},\"geo\":{\"bgcolor\":\"white\",\"landcolor\":\"#E5ECF6\",\"subunitcolor\":\"white\",\"showland\":true,\"showlakes\":true,\"lakecolor\":\"white\"},\"title\":{\"x\":0.05},\"mapbox\":{\"style\":\"light\"}}},\"xaxis\":{\"anchor\":\"y\",\"domain\":[0.0,1.0],\"title\":{\"text\":\"0\"}},\"yaxis\":{\"anchor\":\"x\",\"domain\":[0.0,1.0],\"title\":{\"text\":\"1\"}},\"legend\":{\"title\":{\"text\":\"\\u0412\\u0438\\u0434 \\u041d\\u041f\\u0410\"},\"tracegroupgap\":0},\"margin\":{\"t\":60}},                        {\"responsive\": true}                    ).then(function(){\n",
              "                            \n",
              "var gd = document.getElementById('ae97d6ce-cbc9-45d9-bf3a-c2b0959b2a39');\n",
              "var x = new MutationObserver(function (mutations, observer) {{\n",
              "        var display = window.getComputedStyle(gd).display;\n",
              "        if (!display || display === 'none') {{\n",
              "            console.log([gd, 'removed!']);\n",
              "            Plotly.purge(gd);\n",
              "            observer.disconnect();\n",
              "        }}\n",
              "}});\n",
              "\n",
              "// Listen for the removal of the full notebook cells\n",
              "var notebookContainer = gd.closest('#notebook-container');\n",
              "if (notebookContainer) {{\n",
              "    x.observe(notebookContainer, {childList: true});\n",
              "}}\n",
              "\n",
              "// Listen for the clearing of the current output cell\n",
              "var outputEl = gd.closest('.output');\n",
              "if (outputEl) {{\n",
              "    x.observe(outputEl, {childList: true});\n",
              "}}\n",
              "\n",
              "                        })                };                            </script>        </div>\n",
              "</body>\n",
              "</html>"
            ]
          },
          "metadata": {}
        }
      ]
    },
    {
      "cell_type": "code",
      "source": [
        "X_train, X_test, y_train, y_test = train_test_split(df_w2v['w2v_simple_pre'], df_w2v['doc_name'], test_size=0.2, random_state=42)\n",
        "X_train = np.vstack(X_train)\n",
        "X_test = np.vstack(X_test)\n",
        "tsne = TSNE(n_components=2, verbose=1, perplexity=40, n_iter=300, init='random')\n",
        "tsne_results = tsne.fit_transform(X_train[:1500])\n",
        "fig = px.scatter(\n",
        "    tsne_results, x=0, y=1,\n",
        "    color=y_train[:1500], labels={'color': 'Вид НПА'}\n",
        ")\n",
        "fig.show()"
      ],
      "metadata": {
        "colab": {
          "base_uri": "https://localhost:8080/",
          "height": 681
        },
        "id": "KEvSDycUyG7A",
        "outputId": "795b4692-90ea-49b4-bc5e-c941ca56999c"
      },
      "execution_count": null,
      "outputs": [
        {
          "output_type": "stream",
          "name": "stdout",
          "text": [
            "[t-SNE] Computing 121 nearest neighbors...\n",
            "[t-SNE] Indexed 1500 samples in 0.001s...\n",
            "[t-SNE] Computed neighbors for 1500 samples in 0.069s...\n",
            "[t-SNE] Computed conditional probabilities for sample 1000 / 1500\n",
            "[t-SNE] Computed conditional probabilities for sample 1500 / 1500\n",
            "[t-SNE] Mean sigma: 0.309285\n",
            "[t-SNE] KL divergence after 250 iterations with early exaggeration: 69.615715\n",
            "[t-SNE] KL divergence after 300 iterations: 1.735183\n"
          ]
        },
        {
          "output_type": "display_data",
          "data": {
            "text/html": [
              "<html>\n",
              "<head><meta charset=\"utf-8\" /></head>\n",
              "<body>\n",
              "    <div>            <script src=\"https://cdnjs.cloudflare.com/ajax/libs/mathjax/2.7.5/MathJax.js?config=TeX-AMS-MML_SVG\"></script><script type=\"text/javascript\">if (window.MathJax && window.MathJax.Hub && window.MathJax.Hub.Config) {window.MathJax.Hub.Config({SVG: {font: \"STIX-Web\"}});}</script>                <script type=\"text/javascript\">window.PlotlyConfig = {MathJaxConfig: 'local'};</script>\n",
              "        <script charset=\"utf-8\" src=\"https://cdn.plot.ly/plotly-2.24.1.min.js\"></script>                <div id=\"02d81fa9-5e41-4d6a-bf3b-a71e2008516a\" class=\"plotly-graph-div\" style=\"height:525px; width:100%;\"></div>            <script type=\"text/javascript\">                                    window.PLOTLYENV=window.PLOTLYENV || {};                                    if (document.getElementById(\"02d81fa9-5e41-4d6a-bf3b-a71e2008516a\")) {                    Plotly.newPlot(                        \"02d81fa9-5e41-4d6a-bf3b-a71e2008516a\",                        [{\"hovertemplate\":\"\\u0412\\u0438\\u0434 \\u041d\\u041f\\u0410=\\u041f\\u043e\\u0441\\u0442\\u0430\\u043d\\u043e\\u0432\\u043b\\u0435\\u043d\\u0438\\u0435, \\u0440\\u0435\\u0433\\u0438\\u043e\\u043d\\u0430\\u043b\\u044c\\u043d\\u044b\\u0439 \\u0443\\u0440\\u043e\\u0432\\u0435\\u043d\\u044c, \\u0433\\u043b\\u0430\\u0432\\u0430 \\u0438\\u0441\\u043f\\u043e\\u043b\\u043d\\u0438\\u0442\\u0435\\u043b\\u044c\\u043d\\u043e\\u0439 \\u0432\\u043b\\u0430\\u0441\\u0442\\u0438\\u003cbr\\u003e0=%{x}\\u003cbr\\u003e1=%{y}\\u003cextra\\u003e\\u003c\\u002fextra\\u003e\",\"legendgroup\":\"\\u041f\\u043e\\u0441\\u0442\\u0430\\u043d\\u043e\\u0432\\u043b\\u0435\\u043d\\u0438\\u0435, \\u0440\\u0435\\u0433\\u0438\\u043e\\u043d\\u0430\\u043b\\u044c\\u043d\\u044b\\u0439 \\u0443\\u0440\\u043e\\u0432\\u0435\\u043d\\u044c, \\u0433\\u043b\\u0430\\u0432\\u0430 \\u0438\\u0441\\u043f\\u043e\\u043b\\u043d\\u0438\\u0442\\u0435\\u043b\\u044c\\u043d\\u043e\\u0439 \\u0432\\u043b\\u0430\\u0441\\u0442\\u0438\",\"marker\":{\"color\":\"#636efa\",\"symbol\":\"circle\"},\"mode\":\"markers\",\"name\":\"\\u041f\\u043e\\u0441\\u0442\\u0430\\u043d\\u043e\\u0432\\u043b\\u0435\\u043d\\u0438\\u0435, \\u0440\\u0435\\u0433\\u0438\\u043e\\u043d\\u0430\\u043b\\u044c\\u043d\\u044b\\u0439 \\u0443\\u0440\\u043e\\u0432\\u0435\\u043d\\u044c, \\u0433\\u043b\\u0430\\u0432\\u0430 \\u0438\\u0441\\u043f\\u043e\\u043b\\u043d\\u0438\\u0442\\u0435\\u043b\\u044c\\u043d\\u043e\\u0439 \\u0432\\u043b\\u0430\\u0441\\u0442\\u0438\",\"showlegend\":true,\"x\":[1.246042013168335,-0.6496381759643555,0.8149262070655823,1.6110974550247192,5.834701061248779,1.8209402561187744,1.460392713546753,3.402008533477783,2.1144585609436035,1.2902568578720093,5.272407054901123,3.285526752471924,-2.5528604984283447,1.9313383102416992,5.612847328186035,-1.7222481966018677,3.453831672668457,2.211761474609375,4.904193878173828,2.0970070362091064,2.451691150665283,2.9495668411254883,2.04610538482666,1.42021644115448,2.0187325477600098,-2.5106356143951416,2.7383761405944824,-0.10140717774629593,1.1186623573303223,1.9278321266174316,4.017731666564941,1.9423810243606567,-0.5872275233268738,1.439118504524231,1.4532912969589233,4.754015922546387,-1.7563397884368896,1.4276412725448608,1.7649576663970947,4.875361919403076,3.8378474712371826,4.839171409606934,-0.22620658576488495,-4.239583969116211,5.45485258102417,2.2433583736419678,1.8829349279403687,2.4900519847869873,2.2316808700561523,1.9894520044326782,2.190776824951172,-1.6894299983978271,1.1189830303192139,5.814276218414307,-0.29561346769332886,-1.901258111000061,-0.7747647762298584,4.563596725463867,3.0430288314819336,2.6403393745422363,5.641979694366455,2.686877489089966,2.868765115737915,1.2838443517684937,2.0277929306030273,1.0871862173080444,2.8235418796539307,1.9839882850646973,1.7584302425384521,2.2650322914123535,2.0057811737060547,1.4448950290679932,1.5911680459976196,1.0506582260131836,1.8562318086624146,3.688819169998169,2.5988364219665527,4.456182479858398,2.681840658187866,1.8503081798553467,-1.0900665521621704,5.974795818328857,2.4152753353118896,2.026759386062622,-2.543893337249756,6.436765193939209,3.3020243644714355,4.560704708099365,4.563021659851074,2.091081380844116,5.052523136138916,4.740514278411865,0.6671427488327026,1.4565529823303223,4.715750217437744,0.40980014204978943,1.8688459396362305,-2.270660877227783,2.376438856124878,5.790700435638428,0.819038987159729,0.2679918706417084,1.8395570516586304,-2.291661262512207,0.8170978426933289,2.588653564453125,4.032467842102051,2.747124671936035],\"xaxis\":\"x\",\"y\":[-8.5829496383667,0.6625910997390747,-6.843605995178223,-9.114872932434082,-1.7534284591674805,-6.453037738800049,-6.671686172485352,-8.271400451660156,-1.8614344596862793,0.7631420493125916,-1.7496548891067505,-1.5046998262405396,-1.436327338218689,-9.076025009155273,-2.2870523929595947,-1.459446668624878,-8.260605812072754,1.1107392311096191,-1.0120497941970825,-1.198209524154663,-8.256614685058594,-8.482367515563965,-8.39639663696289,-5.871594429016113,-5.524154186248779,-1.4482899904251099,-2.294893980026245,-4.691741466522217,-9.298693656921387,-5.685863494873047,1.6374486684799194,-9.088753700256348,-1.3511261940002441,-11.97391414642334,-11.950230598449707,-1.9233129024505615,7.82891321182251,-11.919896125793457,-5.877284049987793,-2.9424970149993896,-6.890514373779297,-2.3473918437957764,-6.978560447692871,-4.05499267578125,-2.19775390625,-8.369202613830566,-8.962198257446289,-9.152697563171387,-9.358336448669434,-8.947783470153809,-1.806144118309021,-0.861132800579071,-0.8732719421386719,-4.911495685577393,1.3035616874694824,1.512062907218933,-0.5384074449539185,-5.173192977905273,-0.7548182606697083,-0.5632693767547607,-1.3582855463027954,-9.021222114562988,-8.439921379089355,-8.454314231872559,-5.82169771194458,-2.3272998332977295,-8.246318817138672,-5.823493003845215,-8.982783317565918,-8.23663330078125,-9.051965713500977,-11.991559028625488,-6.596298694610596,-8.185199737548828,-7.921957492828369,-0.8101580739021301,-9.120491027832031,-1.5494074821472168,0.25304412841796875,-8.890595436096191,-0.6065065860748291,-4.648533821105957,-5.440300941467285,-5.897696018218994,-1.437278151512146,-3.492445945739746,-3.5972769260406494,-1.8736424446105957,-0.8980977535247803,-8.547137260437012,-0.8523727655410767,-2.3953115940093994,1.2580204010009766,-11.94503402709961,-1.2723820209503174,-8.161371231079102,-5.824004173278809,-1.2441766262054443,-8.140227317810059,-4.337461471557617,1.990687608718872,-1.6664607524871826,-1.6400262117385864,-0.49462854862213135,-1.557474136352539,-8.274901390075684,5.235228538513184,-1.2429773807525635],\"yaxis\":\"y\",\"type\":\"scattergl\"},{\"hovertemplate\":\"\\u0412\\u0438\\u0434 \\u041d\\u041f\\u0410=\\u0423\\u043a\\u0430\\u0437, \\u0444\\u0435\\u0434\\u0435\\u0440\\u0430\\u043b\\u044c\\u043d\\u044b\\u0439 \\u0443\\u0440\\u043e\\u0432\\u0435\\u043d\\u044c, \\u0433\\u043b\\u0430\\u0432\\u0430 \\u0438\\u0441\\u043f\\u043e\\u043b\\u043d\\u0438\\u0442\\u0435\\u043b\\u044c\\u043d\\u043e\\u0439 \\u0432\\u043b\\u0430\\u0441\\u0442\\u0438\\u003cbr\\u003e0=%{x}\\u003cbr\\u003e1=%{y}\\u003cextra\\u003e\\u003c\\u002fextra\\u003e\",\"legendgroup\":\"\\u0423\\u043a\\u0430\\u0437, \\u0444\\u0435\\u0434\\u0435\\u0440\\u0430\\u043b\\u044c\\u043d\\u044b\\u0439 \\u0443\\u0440\\u043e\\u0432\\u0435\\u043d\\u044c, \\u0433\\u043b\\u0430\\u0432\\u0430 \\u0438\\u0441\\u043f\\u043e\\u043b\\u043d\\u0438\\u0442\\u0435\\u043b\\u044c\\u043d\\u043e\\u0439 \\u0432\\u043b\\u0430\\u0441\\u0442\\u0438\",\"marker\":{\"color\":\"#EF553B\",\"symbol\":\"circle\"},\"mode\":\"markers\",\"name\":\"\\u0423\\u043a\\u0430\\u0437, \\u0444\\u0435\\u0434\\u0435\\u0440\\u0430\\u043b\\u044c\\u043d\\u044b\\u0439 \\u0443\\u0440\\u043e\\u0432\\u0435\\u043d\\u044c, \\u0433\\u043b\\u0430\\u0432\\u0430 \\u0438\\u0441\\u043f\\u043e\\u043b\\u043d\\u0438\\u0442\\u0435\\u043b\\u044c\\u043d\\u043e\\u0439 \\u0432\\u043b\\u0430\\u0441\\u0442\\u0438\",\"showlegend\":true,\"x\":[-1.5106287002563477,-2.254404306411743,-2.2179999351501465,-1.7519229650497437,-1.9952586889266968,-2.3401904106140137,-1.9216432571411133,-2.028613805770874,5.340897083282471,-2.049873113632202,-1.9615976810455322,1.7522480487823486,-1.8983757495880127,5.33331298828125,-0.7984688878059387,-1.7168859243392944,-2.1678097248077393,-1.9404925107955933,0.7412049174308777,-1.192751169204712,0.4758903980255127,0.5556575059890747,-2.2285099029541016,-3.6007320880889893,2.4032979011535645,-1.9858094453811646,4.8986592292785645,-1.3010543584823608,1.6130263805389404,-1.7065320014953613,-2.1217217445373535,0.42894333600997925,3.946964979171753,0.9221516847610474,5.27971076965332,-0.6770036220550537,-1.7523512840270996,-1.827250599861145,0.340467244386673,-1.590280532836914,-2.960186004638672,-2.426772117614746,-1.8673418760299683,-1.9183690547943115,-2.237853527069092,-0.30356675386428833,1.2431596517562866,0.32720381021499634,0.5249390602111816,-2.0093934535980225,0.36373355984687805,-2.139249324798584,0.4633868336677551,6.664109706878662,5.765169620513916,0.4109005331993103,-2.2392826080322266,-2.4374845027923584,0.38897639513015747,-2.621250867843628,0.18030227720737457,5.326208114624023,1.3613622188568115,1.1907539367675781,1.4478977918624878,-4.887761116027832,-1.6978293657302856,-2.7666938304901123,-0.4513818919658661,-2.2282912731170654,-3.348419427871704,1.5692371129989624],\"xaxis\":\"x\",\"y\":[9.244132995605469,8.405182838439941,8.956954002380371,8.229132652282715,9.725988388061523,9.16858196258545,10.019209861755371,10.089394569396973,5.015134811401367,9.815322875976562,9.923015594482422,5.611843109130859,9.884963035583496,5.012702465057373,10.642595291137695,7.943628311157227,9.243904113769531,9.331917762756348,9.46628189086914,6.214053630828857,9.284324645996094,7.329574108123779,8.851551055908203,4.308935642242432,2.071262836456299,4.361727714538574,-4.7638325691223145,9.026921272277832,9.562721252441406,10.288198471069336,9.202425003051758,3.878997802734375,-6.916099548339844,-4.213101387023926,4.998733043670654,6.2970075607299805,8.667277336120605,8.294069290161133,10.25372314453125,4.57403039932251,3.4316983222961426,8.306503295898438,8.512887954711914,9.813905715942383,8.38750171661377,10.595138549804688,9.680191040039062,10.246968269348145,10.012358665466309,9.817633628845215,1.7620413303375244,9.56031322479248,9.301539421081543,-5.018974781036377,-1.915542483329773,10.170727729797363,3.4506211280822754,8.78813648223877,10.320514678955078,8.780552864074707,6.90706205368042,5.020832061767578,9.916126251220703,9.341113090515137,9.483607292175293,8.03021240234375,7.966716766357422,4.631416320800781,8.961640357971191,8.600752830505371,4.001540184020996,9.873321533203125],\"yaxis\":\"y\",\"type\":\"scattergl\"},{\"hovertemplate\":\"\\u0412\\u0438\\u0434 \\u041d\\u041f\\u0410=\\u041f\\u043e\\u0441\\u0442\\u0430\\u043d\\u043e\\u0432\\u043b\\u0435\\u043d\\u0438\\u0435, \\u0440\\u0435\\u0433\\u0438\\u043e\\u043d\\u0430\\u043b\\u044c\\u043d\\u044b\\u0439 \\u0443\\u0440\\u043e\\u0432\\u0435\\u043d\\u044c, \\u0437\\u0430\\u043a\\u043e\\u043d\\u043e\\u0434\\u0430\\u0442\\u0435\\u043b\\u044c\\u043d\\u044b\\u0439 \\u043e\\u0440\\u0433\\u0430\\u043d\\u003cbr\\u003e0=%{x}\\u003cbr\\u003e1=%{y}\\u003cextra\\u003e\\u003c\\u002fextra\\u003e\",\"legendgroup\":\"\\u041f\\u043e\\u0441\\u0442\\u0430\\u043d\\u043e\\u0432\\u043b\\u0435\\u043d\\u0438\\u0435, \\u0440\\u0435\\u0433\\u0438\\u043e\\u043d\\u0430\\u043b\\u044c\\u043d\\u044b\\u0439 \\u0443\\u0440\\u043e\\u0432\\u0435\\u043d\\u044c, \\u0437\\u0430\\u043a\\u043e\\u043d\\u043e\\u0434\\u0430\\u0442\\u0435\\u043b\\u044c\\u043d\\u044b\\u0439 \\u043e\\u0440\\u0433\\u0430\\u043d\",\"marker\":{\"color\":\"#00cc96\",\"symbol\":\"circle\"},\"mode\":\"markers\",\"name\":\"\\u041f\\u043e\\u0441\\u0442\\u0430\\u043d\\u043e\\u0432\\u043b\\u0435\\u043d\\u0438\\u0435, \\u0440\\u0435\\u0433\\u0438\\u043e\\u043d\\u0430\\u043b\\u044c\\u043d\\u044b\\u0439 \\u0443\\u0440\\u043e\\u0432\\u0435\\u043d\\u044c, \\u0437\\u0430\\u043a\\u043e\\u043d\\u043e\\u0434\\u0430\\u0442\\u0435\\u043b\\u044c\\u043d\\u044b\\u0439 \\u043e\\u0440\\u0433\\u0430\\u043d\",\"showlegend\":true,\"x\":[1.906118392944336,2.627833843231201,2.4728097915649414,2.4480323791503906,-0.8435838222503662,1.4447370767593384,4.417325496673584,2.666935920715332,3.9201948642730713,5.354757308959961,4.099001407623291,3.705143690109253,1.440158486366272,3.5299365520477295,1.9333893060684204,1.3517094850540161,0.8990443348884583,6.4025774002075195,0.10142870247364044,6.403316020965576,2.699040651321411,3.3851633071899414,3.8959076404571533,1.409467101097107,2.9712607860565186,2.629624366760254,4.888038635253906,4.347784996032715,1.4373637437820435,1.767265796661377,1.4407110214233398,2.574626922607422,1.4424821138381958,1.4425345659255981,1.4387537240982056,-0.7950317859649658,3.9380733966827393,1.4408937692642212,2.67981219291687,-2.2731261253356934,5.835159778594971,3.804140567779541,1.4061795473098755,3.6501150131225586,3.4393913745880127,2.050471305847168,2.681790828704834,1.6370530128479004,2.3446290493011475,3.9850425720214844,2.5500030517578125,2.644106149673462,2.938716173171997,1.7392611503601074,3.9345595836639404,3.3607358932495117,4.30141019821167,3.9977145195007324,1.4444330930709839,6.611138343811035,5.105135440826416,4.366544723510742,1.9196443557739258,1.4414989948272705,3.3463423252105713,1.4224761724472046,5.221928596496582,2.4585165977478027,2.588860511779785,1.4393186569213867,4.372529029846191,2.6752943992614746,3.890155792236328,3.9447007179260254,2.016862154006958,1.4444103240966797,1.6921792030334473,1.9503592252731323,3.2527403831481934,1.4414187669754028,4.40261697769165,3.413783073425293,3.9237208366394043,1.4411424398422241,6.580018520355225,4.435303211212158,-2.506044864654541,4.143515110015869,2.077840566635132,2.0597381591796875,3.444319486618042,4.774302959442139,1.4388190507888794,2.6401870250701904,1.4392404556274414,3.061938524246216,1.4384500980377197,2.8299317359924316,2.6190876960754395,4.361926555633545,4.604694843292236,5.627002716064453,1.4390226602554321,2.6570494174957275,1.4343775510787964,1.4410570859909058,4.942050457000732,3.507436752319336,4.426385402679443,4.380377769470215,1.705457329750061,4.310429573059082,3.2886886596679688,1.4413846731185913,3.7178213596343994,2.5823938846588135,3.516258955001831,3.176889657974243,2.712442398071289,4.400028228759766,4.036459445953369,4.39664363861084,4.104705333709717,0.1299331784248352],\"xaxis\":\"x\",\"y\":[1.0414495468139648,4.731647491455078,-6.663195610046387,5.061206340789795,1.4585354328155518,-12.042722702026367,2.803757905960083,4.71348237991333,-3.111274242401123,-2.899118185043335,2.3642773628234863,2.670755386352539,-12.015645980834961,3.0718703269958496,1.457506537437439,-11.727229118347168,-8.304241180419922,-2.182868719100952,-4.778850078582764,-3.7969815731048584,4.648777008056641,2.4296867847442627,-3.1567273139953613,-11.90359878540039,-7.791147708892822,4.812930107116699,-2.258620500564575,2.796006679534912,-12.016915321350098,-7.191895008087158,-12.029026985168457,4.802131652832031,-12.017786026000977,-12.028159141540527,-12.015532493591309,-0.1256103515625,-3.173219680786133,-12.020681381225586,4.6839470863342285,1.0399141311645508,-2.599167823791504,-4.165823936462402,1.066843867301941,2.2119574546813965,3.4732327461242676,-6.631774425506592,4.7027812004089355,2.233818531036377,-6.046943664550781,-3.1011178493499756,-0.20434057712554932,4.7496538162231445,0.5548532605171204,1.5753741264343262,-1.8729987144470215,-0.47538504004478455,0.40310388803482056,-3.143791675567627,-12.021178245544434,-1.94939124584198,-3.10347056388855,2.7840189933776855,1.8043103218078613,-12.02586841583252,-1.3295789957046509,-11.944440841674805,-3.090304136276245,-3.857011318206787,-6.61450719833374,-12.023077964782715,-1.6419121026992798,4.691572189331055,-3.1647613048553467,-3.108898162841797,-6.026390075683594,-11.932358741760254,2.439707040786743,-6.064069747924805,3.5324485301971436,-11.974764823913574,2.785616636276245,3.3416390419006348,-3.1922218799591064,-12.026515007019043,-1.9773869514465332,2.616746425628662,10.695263862609863,2.1688148975372314,5.039129257202148,2.200550079345703,3.3116135597229004,-2.1204710006713867,-12.010418891906738,4.76999044418335,-12.026676177978516,3.1829445362091064,-12.017740249633789,4.5294694900512695,4.7436676025390625,2.751587390899658,-0.32530540227890015,-4.722980499267578,-12.01824951171875,4.720661640167236,-11.992205619812012,-12.024320602416992,-1.856589436531067,2.4764697551727295,1.756485939025879,2.7894022464752197,1.5889033079147339,1.580663800239563,2.3584916591644287,-12.021895408630371,2.2305057048797607,4.6791229248046875,2.6309611797332764,3.262535572052002,-0.500972330570221,2.8296074867248535,-3.1009488105773926,2.8355579376220703,2.272200584411621,-4.79119873046875],\"yaxis\":\"y\",\"type\":\"scattergl\"},{\"hovertemplate\":\"\\u0412\\u0438\\u0434 \\u041d\\u041f\\u0410=\\u0420\\u0430\\u0441\\u043f\\u043e\\u0440\\u044f\\u0436\\u0435\\u043d\\u0438\\u0435, \\u0444\\u0435\\u0434\\u0435\\u0440\\u0430\\u043b\\u044c\\u043d\\u044b\\u0439 \\u0443\\u0440\\u043e\\u0432\\u0435\\u043d\\u044c, \\u043f\\u0440\\u0430\\u0432\\u0438\\u0442\\u0435\\u043b\\u044c\\u0441\\u0442\\u0432\\u043e\\u003cbr\\u003e0=%{x}\\u003cbr\\u003e1=%{y}\\u003cextra\\u003e\\u003c\\u002fextra\\u003e\",\"legendgroup\":\"\\u0420\\u0430\\u0441\\u043f\\u043e\\u0440\\u044f\\u0436\\u0435\\u043d\\u0438\\u0435, \\u0444\\u0435\\u0434\\u0435\\u0440\\u0430\\u043b\\u044c\\u043d\\u044b\\u0439 \\u0443\\u0440\\u043e\\u0432\\u0435\\u043d\\u044c, \\u043f\\u0440\\u0430\\u0432\\u0438\\u0442\\u0435\\u043b\\u044c\\u0441\\u0442\\u0432\\u043e\",\"marker\":{\"color\":\"#ab63fa\",\"symbol\":\"circle\"},\"mode\":\"markers\",\"name\":\"\\u0420\\u0430\\u0441\\u043f\\u043e\\u0440\\u044f\\u0436\\u0435\\u043d\\u0438\\u0435, \\u0444\\u0435\\u0434\\u0435\\u0440\\u0430\\u043b\\u044c\\u043d\\u044b\\u0439 \\u0443\\u0440\\u043e\\u0432\\u0435\\u043d\\u044c, \\u043f\\u0440\\u0430\\u0432\\u0438\\u0442\\u0435\\u043b\\u044c\\u0441\\u0442\\u0432\\u043e\",\"showlegend\":true,\"x\":[-1.2811644077301025,-2.2103993892669678,0.08322747051715851,-2.7350070476531982,-0.14029310643672943,-2.7899770736694336,-1.7774782180786133,0.6469757556915283,-3.4489598274230957,-3.215801239013672,-2.422473669052124,-2.9237828254699707,-0.6177718639373779,-2.7010257244110107,-3.4744110107421875,-0.8989164233207703,-1.91190767288208,-2.583773374557495,-0.5127036571502686,-0.4942438304424286,-0.1638185679912567,0.01768164336681366,2.8279402256011963,-2.693145275115967,1.6097246408462524,-1.3664524555206299,0.06189020723104477,-0.2821827828884125,-1.9610817432403564,-2.8372340202331543,-0.29311370849609375,0.2547518312931061,-0.5923066139221191,-1.513599157333374,-0.24120460450649261,-3.9854416847229004,-0.14992567896842957,-0.9773992896080017,-2.023982524871826,-3.4089999198913574,-1.5332152843475342,-0.10002987086772919,-0.6967114806175232,4.589837074279785,-0.41677746176719666,-0.1150679886341095,-2.273164987564087,0.19295324385166168,-1.2603421211242676,1.0623952150344849,-2.572873830795288,1.5436081886291504,-1.4567468166351318,-2.136420249938965,-0.9333833456039429,-4.7623372077941895,0.7894524335861206,-2.6690242290496826,-3.953059196472168,-1.7624821662902832,-1.3023492097854614,-3.6113297939300537,-3.47052001953125,-4.243538856506348,-1.9415438175201416,-2.0918421745300293,-3.333038806915283,-3.2653372287750244,2.954707384109497,-2.6822071075439453,1.7303861379623413,1.0416922569274902,-0.5643920302391052,-0.4163771867752075,1.6120507717132568,-1.4493188858032227,-0.7036579847335815,1.320890188217163,-3.5087969303131104,-2.0378007888793945,-2.733052968978882,-0.4633641839027405,-4.0215840339660645,-3.2294764518737793,-3.25823712348938,-2.315359592437744,-0.13723713159561157,1.5719666481018066,3.8818576335906982,-1.4754829406738281,-2.7525148391723633],\"xaxis\":\"x\",\"y\":[0.2647949457168579,8.970154762268066,2.4999802112579346,6.92387056350708,5.870645999908447,7.521218776702881,8.462554931640625,9.1878080368042,4.072845935821533,6.434154987335205,6.86474084854126,6.915128707885742,8.371593475341797,-1.5352437496185303,5.970762252807617,5.737356662750244,8.836689949035645,7.6751790046691895,1.4916539192199707,1.6686432361602783,10.559893608093262,6.4096455574035645,5.153688430786133,-1.5326952934265137,6.47039794921875,8.516054153442383,9.779274940490723,4.5035319328308105,9.116140365600586,6.949004173278809,4.403428077697754,4.463259696960449,2.460932493209839,0.41280344128608704,5.357161045074463,6.108463287353516,4.489434719085693,10.008218765258789,9.219599723815918,6.071987152099609,-5.609508514404297,4.187479496002197,7.889875411987305,-3.4581758975982666,1.5525295734405518,6.061397552490234,8.6870756149292,4.5881805419921875,10.093826293945312,7.418734073638916,6.806650161743164,-4.658139705657959,8.948086738586426,7.831450462341309,3.7934885025024414,8.012805938720703,3.8150534629821777,-1.5052567720413208,7.365134239196777,6.709693431854248,2.4968912601470947,6.165606498718262,6.1125102043151855,6.01780891418457,9.394821166992188,9.293758392333984,6.245524883270264,6.356785774230957,4.166336536407471,-1.5199768543243408,6.457969665527344,4.1170196533203125,1.7725238800048828,4.857326507568359,9.118176460266113,0.26448777318000793,5.8418288230896,7.851994514465332,6.602592945098877,8.936010360717773,-1.0827494859695435,1.7539423704147339,6.945452690124512,6.4779582023620605,6.3888092041015625,9.0581636428833,6.208049774169922,6.320743560791016,5.196922302246094,8.01243782043457,1.957963466644287],\"yaxis\":\"y\",\"type\":\"scattergl\"},{\"hovertemplate\":\"\\u0412\\u0438\\u0434 \\u041d\\u041f\\u0410=\\u041f\\u043e\\u0441\\u0442\\u0430\\u043d\\u043e\\u0432\\u043b\\u0435\\u043d\\u0438\\u0435, \\u0444\\u0435\\u0434\\u0435\\u0440\\u0430\\u043b\\u044c\\u043d\\u044b\\u0439 \\u0443\\u0440\\u043e\\u0432\\u0435\\u043d\\u044c, \\u043f\\u0440\\u0430\\u0432\\u0438\\u0442\\u0435\\u043b\\u044c\\u0441\\u0442\\u0432\\u043e\\u003cbr\\u003e0=%{x}\\u003cbr\\u003e1=%{y}\\u003cextra\\u003e\\u003c\\u002fextra\\u003e\",\"legendgroup\":\"\\u041f\\u043e\\u0441\\u0442\\u0430\\u043d\\u043e\\u0432\\u043b\\u0435\\u043d\\u0438\\u0435, \\u0444\\u0435\\u0434\\u0435\\u0440\\u0430\\u043b\\u044c\\u043d\\u044b\\u0439 \\u0443\\u0440\\u043e\\u0432\\u0435\\u043d\\u044c, \\u043f\\u0440\\u0430\\u0432\\u0438\\u0442\\u0435\\u043b\\u044c\\u0441\\u0442\\u0432\\u043e\",\"marker\":{\"color\":\"#FFA15A\",\"symbol\":\"circle\"},\"mode\":\"markers\",\"name\":\"\\u041f\\u043e\\u0441\\u0442\\u0430\\u043d\\u043e\\u0432\\u043b\\u0435\\u043d\\u0438\\u0435, \\u0444\\u0435\\u0434\\u0435\\u0440\\u0430\\u043b\\u044c\\u043d\\u044b\\u0439 \\u0443\\u0440\\u043e\\u0432\\u0435\\u043d\\u044c, \\u043f\\u0440\\u0430\\u0432\\u0438\\u0442\\u0435\\u043b\\u044c\\u0441\\u0442\\u0432\\u043e\",\"showlegend\":true,\"x\":[-1.169103980064392,-0.9764552116394043,-0.4679875373840332,-0.7389522194862366,0.699185311794281,-0.40872329473495483,-0.42899712920188904,-3.9587957859039307,-0.7817319631576538,0.2748727798461914,-2.7220828533172607,-0.18331454694271088,-1.6861779689788818,-2.5628836154937744,-2.8881328105926514,-1.9359763860702515,-1.8829054832458496,-2.230814218521118,1.3057419061660767,-4.908856391906738,-2.3068747520446777,-4.727363586425781,-2.429849147796631,-3.468296527862549,-2.173491954803467,-2.8198726177215576,-2.5009665489196777,-3.7063887119293213,-1.673008918762207,-1.6848952770233154,-3.9898598194122314,-1.5263231992721558,0.8434613943099976,-1.4420013427734375,-1.123643159866333,-4.026710033416748,-2.300095558166504,-1.6572144031524658,-2.2727744579315186,-3.0097899436950684,-0.5245158672332764,-2.0458974838256836,-3.509284734725952,-0.8110291361808777,-2.1195623874664307,-3.4972712993621826,-4.305200099945068,-2.231907367706299,-1.8344686031341553,-3.3576319217681885,-0.5732176303863525,-1.6890208721160889,-0.05410994216799736,-4.016575813293457,-2.188985586166382,-1.9870452880859375,-0.3172760009765625,-1.7813421487808228,-1.4782532453536987,1.622399091720581,-0.6483721137046814,-2.6257436275482178,1.633030891418457,-2.647658109664917,-2.481389284133911,-1.8478468656539917,-4.313971996307373,-0.8607444763183594,-1.0144118070602417,-3.309950828552246,-4.834009647369385,-4.172487735748291,-0.11561307311058044,-1.3346155881881714,-2.640477180480957,-1.369165062904358,-1.5318948030471802,-0.842854380607605,-2.6639299392700195,-1.9117321968078613,-1.905410647392273,-1.3909258842468262,-3.46231746673584,-1.7857959270477295,0.05464643985033035,0.8573371767997742,-4.671328067779541,-1.8053333759307861,-0.6335980892181396,-4.877613067626953,-0.3234601318836212,-3.233578681945801,-3.016731023788452,-0.06465518474578857,-3.018826484680176,-1.9030609130859375,-2.2247695922851562,-2.507063627243042,-2.8367481231689453,-2.676848888397217,-2.2012879848480225,-1.549926519393921,-0.6576486825942993,-1.0177037715911865,-0.2161269187927246,-1.541471004486084,-2.7238399982452393,-0.21994684636592865],\"xaxis\":\"x\",\"y\":[6.112586975097656,4.627236366271973,3.335536241531372,5.338547706604004,3.9250519275665283,7.1101603507995605,3.836996555328369,4.6379313468933105,6.41963005065918,3.8380930423736572,0.6256272196769714,3.4277589321136475,3.8874385356903076,5.932244300842285,5.788523197174072,7.07210111618042,6.700700759887695,5.780327796936035,4.68793249130249,7.115031719207764,6.574917316436768,6.8997392654418945,5.810451984405518,7.5510478019714355,6.396798610687256,7.157835960388184,5.181341648101807,7.512720584869385,5.905716419219971,2.1447980403900146,6.686327934265137,6.668357849121094,5.440458297729492,6.16328763961792,3.981766939163208,5.73121452331543,6.237926483154297,5.6886725425720215,6.283695697784424,6.22892951965332,3.950655221939087,6.6303510665893555,4.216411113739014,4.032393932342529,1.937928557395935,6.050815582275391,7.299415111541748,6.187010765075684,7.069058418273926,3.280224561691284,5.532246112823486,4.599668502807617,6.798264026641846,6.755317211151123,4.831419467926025,3.7906687259674072,5.647111892700195,6.143477439880371,4.59105110168457,5.58647346496582,3.798177719116211,5.910566329956055,5.555722713470459,6.425099849700928,6.410454750061035,7.922943115234375,7.334612846374512,7.120391845703125,5.063610076904297,6.461357116699219,2.749647617340088,6.714832782745361,-2.0832695960998535,5.811234951019287,6.648796081542969,3.531903028488159,5.774953842163086,7.1648149490356445,6.779209613800049,4.567152976989746,9.004666328430176,4.28933048248291,7.522421836853027,5.814703941345215,6.193909168243408,4.362529754638672,6.973010540008545,2.1070406436920166,4.747376441955566,3.7809200286865234,4.373806476593018,4.718860626220703,5.942703723907471,5.407916069030762,5.806980133056641,5.888258457183838,6.424427032470703,-0.8952495455741882,7.046945095062256,7.093086242675781,6.550099849700928,4.907517433166504,5.194846153259277,4.334438800811768,3.895674228668213,6.629166603088379,5.759387016296387,5.2869462966918945],\"yaxis\":\"y\",\"type\":\"scattergl\"},{\"hovertemplate\":\"\\u0412\\u0438\\u0434 \\u041d\\u041f\\u0410=\\u041f\\u0440\\u0438\\u043a\\u0430\\u0437, \\u0444\\u0435\\u0434\\u0435\\u0440\\u0430\\u043b\\u044c\\u043d\\u044b\\u0439 \\u0443\\u0440\\u043e\\u0432\\u0435\\u043d\\u044c, \\u043e\\u0440\\u0433\\u0430\\u043d\\u044b \\u0438\\u0441\\u043f\\u043e\\u043b\\u043d\\u0438\\u0442\\u0435\\u043b\\u044c\\u043d\\u043e\\u0439 \\u0432\\u043b\\u0430\\u0441\\u0442\\u0438\\u003cbr\\u003e0=%{x}\\u003cbr\\u003e1=%{y}\\u003cextra\\u003e\\u003c\\u002fextra\\u003e\",\"legendgroup\":\"\\u041f\\u0440\\u0438\\u043a\\u0430\\u0437, \\u0444\\u0435\\u0434\\u0435\\u0440\\u0430\\u043b\\u044c\\u043d\\u044b\\u0439 \\u0443\\u0440\\u043e\\u0432\\u0435\\u043d\\u044c, \\u043e\\u0440\\u0433\\u0430\\u043d\\u044b \\u0438\\u0441\\u043f\\u043e\\u043b\\u043d\\u0438\\u0442\\u0435\\u043b\\u044c\\u043d\\u043e\\u0439 \\u0432\\u043b\\u0430\\u0441\\u0442\\u0438\",\"marker\":{\"color\":\"#19d3f3\",\"symbol\":\"circle\"},\"mode\":\"markers\",\"name\":\"\\u041f\\u0440\\u0438\\u043a\\u0430\\u0437, \\u0444\\u0435\\u0434\\u0435\\u0440\\u0430\\u043b\\u044c\\u043d\\u044b\\u0439 \\u0443\\u0440\\u043e\\u0432\\u0435\\u043d\\u044c, \\u043e\\u0440\\u0433\\u0430\\u043d\\u044b \\u0438\\u0441\\u043f\\u043e\\u043b\\u043d\\u0438\\u0442\\u0435\\u043b\\u044c\\u043d\\u043e\\u0439 \\u0432\\u043b\\u0430\\u0441\\u0442\\u0438\",\"showlegend\":true,\"x\":[-1.0927826166152954,-1.5548573732376099,-3.1302359104156494,-0.9509559869766235,-0.6409368515014648,-1.414971947669983,-1.4378432035446167,-1.8416131734848022,-0.41801637411117554,-2.10766339302063,-3.3784079551696777,-0.2042827308177948,-1.334697961807251,-5.570095539093018,-5.562668323516846,1.6109737157821655,-2.493149518966675,-2.6426517963409424,-1.6731650829315186,-4.410582542419434,-0.972678005695343,-2.4778480529785156,-1.2865419387817383,-2.0558719635009766,-1.6938421726226807,-5.359616279602051,-2.5207607746124268,-5.51082181930542,-5.554677963256836,-1.850049376487732,-1.74660062789917,-0.7458885908126831,-1.2367814779281616,-2.4023585319519043,-2.478598117828369,0.9535238146781921,-1.9650801420211792,-0.33191150426864624,-5.550405025482178,-1.8466510772705078,-1.6013023853302002,-0.4006054997444153,-1.891680121421814,-0.22153307497501373,-1.2272627353668213,-0.7906052470207214,-0.5601686835289001,-1.9809690713882446,-2.651827573776245,3.063772201538086,-0.9825335144996643,-0.6932021975517273,-0.9412316083908081,0.14137601852416992,-0.957116961479187,-0.7327219247817993,-1.8577288389205933,0.5276032090187073,-1.3229858875274658,-2.298677921295166,-1.7660603523254395,-1.6219900846481323,-0.466582328081131,-1.2764326333999634,-2.4148573875427246,0.10236901044845581,3.2428839206695557,0.7241743803024292,-0.7615269422531128,-0.8816665410995483,-5.496323585510254,-0.42438367009162903,-0.798764705657959,-5.338075637817383,-0.7062655687332153,3.037149429321289,-3.8037784099578857,-2.346400499343872,-4.324725151062012,-1.153183937072754,3.088958740234375,-3.660555601119995,1.086166501045227,-0.9863271713256836,-0.7003278136253357,-2.388704538345337,-1.5119563341140747,-1.480875849723816,-5.144963264465332,-0.9835596084594727,-2.2647924423217773,-1.067633032798767,-2.4090263843536377,3.1668808460235596,-1.5002715587615967,-2.8756942749023438,-0.7616823315620422,-0.9564767479896545,-5.140552520751953,-0.6008307337760925,-2.469514846801758,-1.3748348951339722,-2.7293875217437744,-5.493102550506592],\"xaxis\":\"x\",\"y\":[4.542254447937012,4.667215824127197,3.2657227516174316,4.151017665863037,2.6369712352752686,2.361427068710327,4.843156814575195,3.521637439727783,6.245063304901123,3.2430901527404785,-3.0021779537200928,3.121685266494751,2.4642763137817383,0.9384527206420898,0.9694647192955017,5.349099636077881,3.314929962158203,3.2481703758239746,5.339376926422119,-6.018179416656494,3.7558906078338623,4.595686435699463,2.9866011142730713,2.673727035522461,5.416860103607178,1.508942723274231,4.563175201416016,0.9240637421607971,0.9511692523956299,6.735451698303223,2.929641008377075,2.938401222229004,2.514667510986328,2.5664830207824707,6.032687187194824,3.7209086418151855,3.648416042327881,4.472445487976074,0.9650289416313171,2.685206890106201,5.2781500816345215,8.2626314163208,2.1163582801818848,3.988657236099243,1.5473706722259521,3.7336294651031494,2.545922040939331,3.2055397033691406,2.48587703704834,5.977644920349121,2.9340245723724365,4.553371906280518,4.402925491333008,1.949462652206421,6.002717018127441,4.227793216705322,3.0354621410369873,2.857003927230835,3.052870273590088,3.0406932830810547,3.3037304878234863,5.2798309326171875,3.763422966003418,2.5692529678344727,3.522247076034546,3.313795328140259,5.954648971557617,5.502629280090332,3.0168800354003906,4.374626159667969,0.9002472162246704,3.4197051525115967,-0.7717925906181335,0.9613204002380371,2.643913507461548,5.955300331115723,3.3508975505828857,3.4230241775512695,4.118176460266113,5.126402378082275,5.966135501861572,8.466683387756348,-1.0785061120986938,3.2387382984161377,5.801496982574463,6.177651882171631,4.279318809509277,2.9899659156799316,0.8386387825012207,3.0579893589019775,3.232276439666748,3.202793598175049,2.295926332473755,5.974715232849121,5.258373260498047,7.497026443481445,5.081921577453613,2.892700433731079,3.060269832611084,2.719435453414917,2.2784111499786377,0.6864312887191772,5.550628185272217,0.86346435546875],\"yaxis\":\"y\",\"type\":\"scattergl\"},{\"hovertemplate\":\"\\u0412\\u0438\\u0434 \\u041d\\u041f\\u0410=\\u0420\\u0430\\u0441\\u043f\\u043e\\u0440\\u044f\\u0436\\u0435\\u043d\\u0438\\u0435, \\u0440\\u0435\\u0433\\u0438\\u043e\\u043d\\u0430\\u043b\\u044c\\u043d\\u044b\\u0439 \\u0443\\u0440\\u043e\\u0432\\u0435\\u043d\\u044c, \\u043f\\u0440\\u0430\\u0432\\u0438\\u0442\\u0435\\u043b\\u044c\\u0441\\u0442\\u0432\\u043e\\u003cbr\\u003e0=%{x}\\u003cbr\\u003e1=%{y}\\u003cextra\\u003e\\u003c\\u002fextra\\u003e\",\"legendgroup\":\"\\u0420\\u0430\\u0441\\u043f\\u043e\\u0440\\u044f\\u0436\\u0435\\u043d\\u0438\\u0435, \\u0440\\u0435\\u0433\\u0438\\u043e\\u043d\\u0430\\u043b\\u044c\\u043d\\u044b\\u0439 \\u0443\\u0440\\u043e\\u0432\\u0435\\u043d\\u044c, \\u043f\\u0440\\u0430\\u0432\\u0438\\u0442\\u0435\\u043b\\u044c\\u0441\\u0442\\u0432\\u043e\",\"marker\":{\"color\":\"#FF6692\",\"symbol\":\"circle\"},\"mode\":\"markers\",\"name\":\"\\u0420\\u0430\\u0441\\u043f\\u043e\\u0440\\u044f\\u0436\\u0435\\u043d\\u0438\\u0435, \\u0440\\u0435\\u0433\\u0438\\u043e\\u043d\\u0430\\u043b\\u044c\\u043d\\u044b\\u0439 \\u0443\\u0440\\u043e\\u0432\\u0435\\u043d\\u044c, \\u043f\\u0440\\u0430\\u0432\\u0438\\u0442\\u0435\\u043b\\u044c\\u0441\\u0442\\u0432\\u043e\",\"showlegend\":true,\"x\":[0.7170594930648804,0.7234824299812317,1.162388563156128,1.365770697593689,0.40110111236572266,-1.64864981174469,3.3429975509643555,-0.5554455518722534,-1.5526095628738403,2.278059720993042,-0.7807651162147522,-1.8505542278289795,-4.471549987792969,-1.7080763578414917,-1.6278514862060547,-0.3744061291217804,0.1752203106880188,-0.2598828971385956,0.5379764437675476,1.9171063899993896,1.2371888160705566,-0.29082486033439636,5.838887691497803,1.5147978067398071,-2.5353035926818848,3.861738443374634,-1.1498770713806152,0.5717811584472656,-1.5062625408172607,1.9620252847671509,5.00905704498291,0.22472943365573883,0.29467982053756714,4.821691513061523,0.5349957942962646,3.45715069770813,0.6137025952339172,0.5513905882835388,1.4284309148788452,5.9664692878723145,-0.2449341118335724,-1.7999930381774902,0.40686938166618347,1.6041425466537476,0.8268007040023804,-1.173805832862854,-2.43489670753479,2.0071702003479004,5.739921569824219,-0.5495595335960388,3.581923723220825,2.533919334411621,1.7569622993469238,3.342233657836914,-1.4880719184875488,-0.5003485679626465,0.46443989872932434,5.093991756439209,0.8920263051986694,1.6728765964508057,1.299902081489563,0.9986957907676697,0.5827315449714661,1.7091971635818481,0.7724732160568237,2.3310136795043945,-0.5129024982452393,-1.0059278011322021,2.4414901733398438,4.681724548339844,0.36717602610588074,3.3571219444274902,-2.502965211868286,-0.23398162424564362,1.9318034648895264,0.5169838070869446,-0.22392667829990387,0.03301772475242615,0.8972243070602417,3.5233192443847656,4.040172576904297,-0.16719983518123627,2.72723126411438,-1.4114222526550293,-1.0359573364257812,2.276991605758667,-3.6025049686431885,-0.6106650233268738,0.09392660856246948,0.5953812003135681,4.864181041717529,-0.8374513387680054,-1.7642651796340942,0.6278373599052429,1.4666062593460083,3.948058843612671,5.702119827270508,3.266364574432373,-0.4240795969963074,0.0534643828868866,-1.732422113418579,0.12868645787239075,1.1103646755218506,-0.7260987162590027,-0.3354169726371765,-1.1647274494171143,-0.3232380747795105,3.357296943664551,0.0013874191790819168,-1.2558248043060303,4.122251987457275,4.828300476074219,0.6148993372917175,2.145296812057495,0.856608510017395,0.3045719265937805,1.8976279497146606,3.3869264125823975,1.9512642621994019,-0.1487317979335785,-2.347834587097168],\"xaxis\":\"x\",\"y\":[-1.7739005088806152,0.6805793046951294,-5.600985527038574,3.8246960639953613,-3.2742650508880615,-5.55349588394165,-3.937777519226074,-2.850853204727173,-5.3819169998168945,-5.785280704498291,-0.39505577087402344,-1.2851154804229736,0.8595268726348877,-5.368000507354736,-5.3700361251831055,-4.835498332977295,-4.679691314697266,-9.05127239227295,-3.135899543762207,-8.952293395996094,-3.1568784713745117,-0.20118685066699982,-0.7929884195327759,-1.433390498161316,-0.7051445841789246,-1.3985916376113892,-3.559581995010376,-1.990593671798706,-1.2336899042129517,-8.823744773864746,-2.4675307273864746,-3.0041069984436035,-3.687906503677368,-0.8388216495513916,-1.3102418184280396,-3.888796806335449,-3.7108213901519775,0.600511908531189,3.5576653480529785,-2.5488319396972656,-3.929387331008911,-5.440122127532959,3.165268659591675,-3.3801894187927246,0.7934672236442566,-3.2751221656799316,-1.5037307739257812,-8.771520614624023,-0.7786788940429688,-7.190998554229736,-6.052369594573975,-1.5133804082870483,-1.792059302330017,-4.107200622558594,1.0476360321044922,-7.133555889129639,-2.725996971130371,-1.582145094871521,-4.690936088562012,-3.4077069759368896,-1.7197574377059937,-4.594633102416992,-1.406973958015442,-0.5834916830062866,0.6972907185554504,-3.7287912368774414,1.020839810371399,1.0324381589889526,-1.2414089441299438,-5.010779857635498,-2.9023520946502686,-3.7727785110473633,-1.395969033241272,-3.102924346923828,-3.6781885623931885,-9.128181457519531,-5.032893657684326,-4.679573059082031,-2.46551775932312,-7.557108402252197,-1.1474405527114868,-3.8352408409118652,-5.303374290466309,1.2208123207092285,0.9304997324943542,-6.115278244018555,1.0034757852554321,-6.663277626037598,-4.758365154266357,-9.612905502319336,-3.1174769401550293,-4.064103603363037,-5.614890098571777,-4.817256450653076,-2.481327533721924,-1.1428866386413574,-0.7719659805297852,-1.1705182790756226,-4.637194633483887,-4.685169696807861,-5.488011360168457,-3.6355373859405518,-8.972917556762695,-4.361459732055664,-4.811509132385254,-5.086042404174805,-6.7837347984313965,-3.9175612926483154,-4.725569725036621,-3.6635215282440186,-1.5916370153427124,-2.833974838256836,-2.312356472015381,-0.642288327217102,-2.771869421005249,0.029705632477998734,-3.4153549671173096,-3.964303731918335,-8.847685813903809,-2.0827951431274414,-1.592814326286316],\"yaxis\":\"y\",\"type\":\"scattergl\"},{\"hovertemplate\":\"\\u0412\\u0438\\u0434 \\u041d\\u041f\\u0410=\\u041f\\u043e\\u0441\\u0442\\u0430\\u043d\\u043e\\u0432\\u043b\\u0435\\u043d\\u0438\\u0435, \\u0440\\u0435\\u0433\\u0438\\u043e\\u043d\\u0430\\u043b\\u044c\\u043d\\u044b\\u0439 \\u0443\\u0440\\u043e\\u0432\\u0435\\u043d\\u044c, \\u043f\\u0440\\u0430\\u0432\\u0438\\u0442\\u0435\\u043b\\u044c\\u0441\\u0442\\u0432\\u043e\\u003cbr\\u003e0=%{x}\\u003cbr\\u003e1=%{y}\\u003cextra\\u003e\\u003c\\u002fextra\\u003e\",\"legendgroup\":\"\\u041f\\u043e\\u0441\\u0442\\u0430\\u043d\\u043e\\u0432\\u043b\\u0435\\u043d\\u0438\\u0435, \\u0440\\u0435\\u0433\\u0438\\u043e\\u043d\\u0430\\u043b\\u044c\\u043d\\u044b\\u0439 \\u0443\\u0440\\u043e\\u0432\\u0435\\u043d\\u044c, \\u043f\\u0440\\u0430\\u0432\\u0438\\u0442\\u0435\\u043b\\u044c\\u0441\\u0442\\u0432\\u043e\",\"marker\":{\"color\":\"#B6E880\",\"symbol\":\"circle\"},\"mode\":\"markers\",\"name\":\"\\u041f\\u043e\\u0441\\u0442\\u0430\\u043d\\u043e\\u0432\\u043b\\u0435\\u043d\\u0438\\u0435, \\u0440\\u0435\\u0433\\u0438\\u043e\\u043d\\u0430\\u043b\\u044c\\u043d\\u044b\\u0439 \\u0443\\u0440\\u043e\\u0432\\u0435\\u043d\\u044c, \\u043f\\u0440\\u0430\\u0432\\u0438\\u0442\\u0435\\u043b\\u044c\\u0441\\u0442\\u0432\\u043e\",\"showlegend\":true,\"x\":[-2.8248422145843506,-0.43139806389808655,-0.5671303272247314,-3.7643542289733887,0.9181936383247375,-2.867266893386841,1.5474672317504883,-0.897352397441864,3.696077823638916,2.581568717956543,0.5369329452514648,-0.12899497151374817,-2.3418166637420654,-0.3348314166069031,3.991922616958618,-2.673833131790161,1.9074513912200928,1.9193432331085205,-0.11920702457427979,1.375623345375061,3.413724899291992,2.8729782104492188,1.3691459894180298,1.09816575050354,0.9564337134361267,1.8283205032348633,-1.1891247034072876,-1.6731160879135132,-2.4652750492095947,-3.6800224781036377,-0.4961455166339874,2.7080132961273193,0.7004209756851196,-3.755704402923584,-1.5494635105133057,-0.7253336310386658,0.5185366272926331,0.4437841773033142,-3.0120737552642822,1.822705864906311,-1.6131144762039185,1.5345168113708496,-1.5086921453475952,-0.5502461791038513,2.9023361206054688,1.7096010446548462,2.863576650619507,-3.743396759033203,4.0484161376953125,3.3184092044830322,1.6137758493423462,0.23598173260688782,-1.489733099937439,-4.497829914093018,0.5024121999740601,0.519015908241272,-0.09657366573810577,2.946983575820923,-3.3819267749786377,0.6119669079780579,1.6935315132141113,-2.342987060546875,-0.08227315545082092,-1.4633458852767944,3.6263363361358643,2.741016149520874,0.2700153887271881,0.6366878747940063,-0.3436778783798218,3.1230952739715576,4.175069808959961,1.0458048582077026,2.680147409439087,-0.19205494225025177,2.9468986988067627,1.1937001943588257,1.720876693725586,1.6747243404388428,1.1440266370773315,0.8528679609298706,-0.19627419114112854,1.9308608770370483,3.5416338443756104,4.92299222946167,4.5507378578186035,1.3923946619033813,3.2026708126068115,-2.6773910522460938,-0.028234651312232018,2.507495880126953,-4.487201690673828,-3.732785940170288,2.340895652770996,4.5908966064453125,0.03989033028483391,-4.277288436889648,1.683591604232788,-0.5824854969978333,2.6059818267822266,-3.461940288543701,2.5810346603393555,-0.00112156942486763,3.5108230113983154,3.230998992919922,1.1409993171691895,5.2830610275268555,-0.06487170606851578,-0.6056733131408691,-1.5931659936904907,3.7502260208129883,3.3920445442199707,-2.069972276687622,3.4495654106140137,0.9345901608467102,-4.442264556884766,3.9490320682525635,0.704871654510498],\"xaxis\":\"x\",\"y\":[-6.603056907653809,-0.7865602970123291,-0.06799690425395966,0.9498305320739746,-2.873774766921997,-2.5005507469177246,-1.3205227851867676,2.1520779132843018,-2.2625555992126465,-2.6040194034576416,-0.95186448097229,-4.4792585372924805,1.1487194299697876,-0.9243242740631104,-1.8124339580535889,-6.671078681945801,-6.345600605010986,-1.0904783010482788,-0.07982079684734344,-1.3568097352981567,-1.7279253005981445,-0.3379107117652893,-6.6936516761779785,6.881399631500244,-2.039555311203003,-0.7586005330085754,-0.07258719950914383,0.03005305677652359,0.4981234073638916,1.9394688606262207,0.4532201290130615,-2.505790948867798,-3.5506198406219482,-0.9649033546447754,1.05939781665802,0.7916380763053894,-5.133405685424805,-1.521740436553955,-1.5150295495986938,-3.606607437133789,-0.040918659418821335,-6.585944652557373,-2.4279916286468506,-0.4926532208919525,-1.0720752477645874,-0.26066386699676514,0.6678590774536133,0.2973077893257141,-0.6285584568977356,-3.898695707321167,-0.21686062216758728,-6.984661102294922,0.4106024205684662,0.7153886556625366,-3.0842936038970947,1.2898751497268677,-1.8485143184661865,-1.2295478582382202,-0.9396282434463501,-0.1854310929775238,-1.3760777711868286,-0.7837475538253784,-0.527792751789093,-1.0859899520874023,-1.1547820568084717,-1.200042963027954,0.21600158512592316,-0.7399522662162781,-4.243381977081299,-0.22049766778945923,-0.9648895859718323,-1.2345776557922363,-1.335509181022644,-4.715761661529541,-2.4375808238983154,-1.1354721784591675,-1.2880851030349731,0.829790472984314,-1.0225419998168945,1.524431824684143,-4.5851731300354,-6.118887424468994,-0.43114250898361206,-0.5736103653907776,-1.8303526639938354,-3.2962489128112793,-2.7454142570495605,-6.5910964012146,0.0064775217324495316,0.2192445993423462,0.8334570527076721,1.1484483480453491,-1.2376461029052734,-1.985910415649414,0.12634782493114471,-4.06955623626709,-1.6517966985702515,-1.1445984840393066,0.30827510356903076,-1.1865657567977905,-4.191648006439209,-0.9815726280212402,-3.1699469089508057,-2.1262176036834717,-0.38274168968200684,-2.0691258907318115,-0.6354671716690063,-4.530760288238525,-1.4699984788894653,-1.809762716293335,-1.2598979473114014,-0.6040999889373779,-1.71750009059906,-3.838825225830078,2.8119702339172363,-0.3379383683204651,-0.1849815547466278],\"yaxis\":\"y\",\"type\":\"scattergl\"},{\"hovertemplate\":\"\\u0412\\u0438\\u0434 \\u041d\\u041f\\u0410=\\u041f\\u0440\\u0438\\u043a\\u0430\\u0437, \\u0440\\u0435\\u0433\\u0438\\u043e\\u043d\\u0430\\u043b\\u044c\\u043d\\u044b\\u0439 \\u0443\\u0440\\u043e\\u0432\\u0435\\u043d\\u044c, \\u043e\\u0440\\u0433\\u0430\\u043d\\u044b \\u0438\\u0441\\u043f\\u043e\\u043b\\u043d\\u0438\\u0442\\u0435\\u043b\\u044c\\u043d\\u043e\\u0439 \\u0432\\u043b\\u0430\\u0441\\u0442\\u0438\\u003cbr\\u003e0=%{x}\\u003cbr\\u003e1=%{y}\\u003cextra\\u003e\\u003c\\u002fextra\\u003e\",\"legendgroup\":\"\\u041f\\u0440\\u0438\\u043a\\u0430\\u0437, \\u0440\\u0435\\u0433\\u0438\\u043e\\u043d\\u0430\\u043b\\u044c\\u043d\\u044b\\u0439 \\u0443\\u0440\\u043e\\u0432\\u0435\\u043d\\u044c, \\u043e\\u0440\\u0433\\u0430\\u043d\\u044b \\u0438\\u0441\\u043f\\u043e\\u043b\\u043d\\u0438\\u0442\\u0435\\u043b\\u044c\\u043d\\u043e\\u0439 \\u0432\\u043b\\u0430\\u0441\\u0442\\u0438\",\"marker\":{\"color\":\"#FF97FF\",\"symbol\":\"circle\"},\"mode\":\"markers\",\"name\":\"\\u041f\\u0440\\u0438\\u043a\\u0430\\u0437, \\u0440\\u0435\\u0433\\u0438\\u043e\\u043d\\u0430\\u043b\\u044c\\u043d\\u044b\\u0439 \\u0443\\u0440\\u043e\\u0432\\u0435\\u043d\\u044c, \\u043e\\u0440\\u0433\\u0430\\u043d\\u044b \\u0438\\u0441\\u043f\\u043e\\u043b\\u043d\\u0438\\u0442\\u0435\\u043b\\u044c\\u043d\\u043e\\u0439 \\u0432\\u043b\\u0430\\u0441\\u0442\\u0438\",\"showlegend\":true,\"x\":[-4.0918049812316895,2.1167378425598145,-2.8664019107818604,3.527820110321045,0.9454591274261475,-2.953303813934326,2.5493438243865967,-0.5666783452033997,-2.241499900817871,2.5033457279205322,-3.5159261226654053,-4.083893775939941,3.801840305328369,-5.016012191772461,2.40559720993042,2.2951362133026123,-2.3673791885375977,-3.4831466674804688,-3.2097461223602295,2.8532750606536865,0.5019171237945557,-0.11171786487102509,-2.974461317062378,1.5048861503601074,1.6630756855010986,-2.404043436050415,-2.2773823738098145,-4.13444709777832,-3.378239393234253,2.791592836380005,-1.269031286239624,0.7286797761917114,0.0714084580540657,-0.05333579704165459,-0.2829931378364563,-1.2844561338424683,-5.019290447235107,-4.7014946937561035,-0.06090664863586426,0.14645220339298248,-2.212343692779541,2.307154655456543,-4.952621936798096,2.4891226291656494,-2.647569179534912,-3.2246785163879395,-2.406290054321289,1.4145680665969849,-4.112208843231201,-1.3158687353134155,-3.5190727710723877,-2.447455644607544,-1.5527873039245605,-0.2927691638469696,-4.027430057525635,-1.3483967781066895,-3.469230890274048,-1.5812023878097534,1.379271388053894,2.199587106704712,-3.1735055446624756,0.8186659216880798,-3.8812758922576904,-0.14205987751483917,-0.21535001695156097,3.549694299697876,1.8791648149490356,-4.120733261108398,0.9220326542854309,-1.3611207008361816,-3.515820026397705,-2.381927013397217,3.7769036293029785,-3.383772611618042,2.1389682292938232,0.8636869192123413,0.7596685886383057,-1.0608258247375488,1.4290796518325806,-2.67167067527771,-2.143033981323242,-3.3979835510253906,0.19684110581874847,-4.107453346252441,1.4992622137069702,3.425200939178467,-1.9854025840759277,-2.183978319168091,-2.265167236328125,-3.5543792247772217,-1.6076734066009521,-0.1783236563205719,-1.3575975894927979,2.116391181945801,-2.2272751331329346,-3.7434918880462646,-1.6399805545806885,-4.962234020233154,0.799911618232727,-1.4903202056884766,2.144160032272339,-2.1265602111816406,-2.8849282264709473,-2.4963531494140625,-4.049408435821533,-2.489797830581665,0.996374249458313,-1.1990141868591309],\"xaxis\":\"x\",\"y\":[-2.4656383991241455,-1.3539849519729614,-2.4870855808258057,-2.7376339435577393,-1.9510462284088135,-3.0476272106170654,-2.590155601501465,2.4625542163848877,-3.169677495956421,-2.600738525390625,-2.588176727294922,-2.5999536514282227,-1.5836119651794434,-1.3346518278121948,-1.8193632364273071,-1.7298504114151,-3.085850477218628,0.24918155372142792,-3.3742313385009766,-0.9579958915710449,0.3678458631038666,0.6374583840370178,-3.2979683876037598,-0.04246528446674347,0.002417750656604767,-2.924302816390991,-3.1373565196990967,-2.4817864894866943,-0.49066391587257385,-0.8490685224533081,-6.96344518661499,0.27144554257392883,3.8902926445007324,0.4974112808704376,2.0356717109680176,-7.062746047973633,-1.303302526473999,-1.4783612489700317,-0.733509361743927,-1.2809453010559082,1.038292646408081,-1.3128323554992676,-1.3476029634475708,-2.6568105220794678,-2.973228693008423,-2.1972882747650146,-3.1987006664276123,-1.7023847103118896,-2.4857237339019775,-7.065034866333008,-2.650376796722412,-2.9767959117889404,-7.0702362060546875,-1.8797682523727417,-2.5173566341400146,-1.6420587301254272,-2.7767560482025146,-7.038478374481201,-1.0350202322006226,-2.5099546909332275,-3.326927900314331,-6.490162372589111,-2.7829747200012207,-0.005914655514061451,3.1469204425811768,-1.8298009634017944,-1.1910547018051147,-2.484349012374878,0.3756254315376282,-2.3245575428009033,-2.5987508296966553,-3.1552915573120117,-1.7130464315414429,-2.7887802124023438,-2.3682610988616943,0.3964338004589081,-1.1455833911895752,-1.8259702920913696,-0.9532510638237,-3.1622092723846436,0.1979287564754486,1.4261318445205688,0.01201204489916563,-2.684896469116211,-1.6654207706451416,-2.651240825653076,0.42965829372406006,-3.2295761108398438,-3.12265682220459,-2.56015682220459,-7.248514652252197,-1.0384608507156372,-1.4660403728485107,0.09037171304225922,-3.1551778316497803,-2.460742712020874,-0.8287351131439209,-1.3487838506698608,-1.8110716342926025,-7.162415504455566,-1.152898907661438,-3.4213545322418213,-3.1219613552093506,-1.4541664123535156,-2.4763240814208984,-1.398087739944458,-6.079971790313721,-2.708233594894409],\"yaxis\":\"y\",\"type\":\"scattergl\"},{\"hovertemplate\":\"\\u0412\\u0438\\u0434 \\u041d\\u041f\\u0410=\\u0420\\u0430\\u0441\\u043f\\u043e\\u0440\\u044f\\u0436\\u0435\\u043d\\u0438\\u0435, \\u0444\\u0435\\u0434\\u0435\\u0440\\u0430\\u043b\\u044c\\u043d\\u044b\\u0439 \\u0443\\u0440\\u043e\\u0432\\u0435\\u043d\\u044c, \\u0433\\u043b\\u0430\\u0432\\u0430 \\u0438\\u0441\\u043f\\u043e\\u043b\\u043d\\u0438\\u0442\\u0435\\u043b\\u044c\\u043d\\u043e\\u0439 \\u0432\\u043b\\u0430\\u0441\\u0442\\u0438\\u003cbr\\u003e0=%{x}\\u003cbr\\u003e1=%{y}\\u003cextra\\u003e\\u003c\\u002fextra\\u003e\",\"legendgroup\":\"\\u0420\\u0430\\u0441\\u043f\\u043e\\u0440\\u044f\\u0436\\u0435\\u043d\\u0438\\u0435, \\u0444\\u0435\\u0434\\u0435\\u0440\\u0430\\u043b\\u044c\\u043d\\u044b\\u0439 \\u0443\\u0440\\u043e\\u0432\\u0435\\u043d\\u044c, \\u0433\\u043b\\u0430\\u0432\\u0430 \\u0438\\u0441\\u043f\\u043e\\u043b\\u043d\\u0438\\u0442\\u0435\\u043b\\u044c\\u043d\\u043e\\u0439 \\u0432\\u043b\\u0430\\u0441\\u0442\\u0438\",\"marker\":{\"color\":\"#FECB52\",\"symbol\":\"circle\"},\"mode\":\"markers\",\"name\":\"\\u0420\\u0430\\u0441\\u043f\\u043e\\u0440\\u044f\\u0436\\u0435\\u043d\\u0438\\u0435, \\u0444\\u0435\\u0434\\u0435\\u0440\\u0430\\u043b\\u044c\\u043d\\u044b\\u0439 \\u0443\\u0440\\u043e\\u0432\\u0435\\u043d\\u044c, \\u0433\\u043b\\u0430\\u0432\\u0430 \\u0438\\u0441\\u043f\\u043e\\u043b\\u043d\\u0438\\u0442\\u0435\\u043b\\u044c\\u043d\\u043e\\u0439 \\u0432\\u043b\\u0430\\u0441\\u0442\\u0438\",\"showlegend\":true,\"x\":[0.6061966419219971,-2.358081102371216,0.6180869340896606,1.6463907957077026,1.1726142168045044,0.44724053144454956,0.6567100882530212,-2.256500005722046,-0.6937931776046753,-0.8799012899398804,3.1675593852996826,-0.7236481308937073,0.31882137060165405,0.6579065918922424,0.4091184437274933,-0.3940718173980713,1.211637020111084,-0.773697018623352,0.4632975459098816,-1.7405177354812622,-2.085023880004883,-1.032279133796692,0.6128256320953369,-3.7174553871154785,0.42914992570877075,-0.8523651361465454,1.3932826519012451,-0.6225531101226807,1.1037533283233643,1.6161524057388306,-0.2611076533794403,6.271114349365234,-0.6701415181159973,-3.460040807723999,1.3122106790542603,1.3059543371200562,0.35211652517318726,1.461267352104187,-1.583102822303772,-1.0767594575881958,-1.0091214179992676,-2.640855312347412,-0.9375762939453125,-0.010501611977815628,-2.490372896194458,-1.726510763168335,0.3587379455566406,-1.8083823919296265,2.839526414871216,-1.6630849838256836,0.45422449707984924,-0.29900527000427246,-1.4023432731628418,0.4980604946613312,0.5356597304344177,0.7316730618476868,0.41831862926483154,0.3819419741630554,-1.1527107954025269,-1.697110891342163,0.5570725202560425,0.3013801872730255,-1.4617120027542114,-0.8032601475715637,1.5109527111053467,-1.9162161350250244,-0.7430629134178162,-1.8838084936141968,-0.7728276252746582,-0.7868092060089111,1.981835961341858,-1.6343632936477661,-0.9819275140762329,0.4726232886314392,4.984250545501709,0.9322388172149658,1.235880970954895,0.8772063851356506,1.378733515739441,-1.8889613151550293,-0.4411676228046417,1.196074366569519,-0.0643945038318634,-2.622833490371704,-1.0867021083831787,0.07084787636995316],\"xaxis\":\"x\",\"y\":[4.884177207946777,8.060619354248047,5.629158973693848,9.755287170410156,9.75914478302002,7.134618759155273,6.0276312828063965,8.008709907531738,10.819308280944824,7.7038655281066895,1.1774828433990479,10.048394203186035,7.245835781097412,5.053711414337158,7.084059715270996,9.12260913848877,9.700102806091309,10.790789604187012,7.2099409103393555,10.105942726135254,9.8966703414917,7.958813667297363,9.3038969039917,8.373809814453125,7.223435401916504,8.555115699768066,9.411276817321777,9.817093849182129,9.549851417541504,9.6327543258667,9.126361846923828,-5.306870460510254,8.16787338256836,8.48344612121582,9.527580261230469,9.574070930480957,7.111573219299316,9.243977546691895,3.7475221157073975,7.77492618560791,8.512611389160156,8.750311851501465,10.074010848999023,7.103692531585693,8.413334846496582,9.21906852722168,7.193694114685059,8.239861488342285,8.829742431640625,8.940385818481445,7.212777614593506,9.084066390991211,8.236244201660156,7.201900005340576,6.921884059906006,5.791625022888184,7.1540069580078125,7.293529510498047,10.481796264648438,9.337327003479004,6.294734001159668,3.5055832862854004,8.074288368225098,10.784881591796875,6.173361778259277,9.888785362243652,10.808297157287598,10.323241233825684,10.774617195129395,10.792985916137695,7.344444274902344,7.107845306396484,8.615246772766113,7.214349269866943,5.13845157623291,9.821479797363281,9.613988876342773,5.905097961425781,9.4081449508667,10.331295013427734,9.237499237060547,9.905546188354492,8.644058227539062,9.684578895568848,8.156486511230469,9.247681617736816],\"yaxis\":\"y\",\"type\":\"scattergl\"},{\"hovertemplate\":\"\\u0412\\u0438\\u0434 \\u041d\\u041f\\u0410=\\u041f\\u043e\\u0441\\u0442\\u0430\\u043d\\u043e\\u0432\\u043b\\u0435\\u043d\\u0438\\u0435, \\u0440\\u0435\\u0433\\u0438\\u043e\\u043d\\u0430\\u043b\\u044c\\u043d\\u044b\\u0439 \\u0443\\u0440\\u043e\\u0432\\u0435\\u043d\\u044c, \\u043e\\u0440\\u0433\\u0430\\u043d\\u044b \\u0438\\u0441\\u043f\\u043e\\u043b\\u043d\\u0438\\u0442\\u0435\\u043b\\u044c\\u043d\\u043e\\u0439 \\u0432\\u043b\\u0430\\u0441\\u0442\\u0438\\u003cbr\\u003e0=%{x}\\u003cbr\\u003e1=%{y}\\u003cextra\\u003e\\u003c\\u002fextra\\u003e\",\"legendgroup\":\"\\u041f\\u043e\\u0441\\u0442\\u0430\\u043d\\u043e\\u0432\\u043b\\u0435\\u043d\\u0438\\u0435, \\u0440\\u0435\\u0433\\u0438\\u043e\\u043d\\u0430\\u043b\\u044c\\u043d\\u044b\\u0439 \\u0443\\u0440\\u043e\\u0432\\u0435\\u043d\\u044c, \\u043e\\u0440\\u0433\\u0430\\u043d\\u044b \\u0438\\u0441\\u043f\\u043e\\u043b\\u043d\\u0438\\u0442\\u0435\\u043b\\u044c\\u043d\\u043e\\u0439 \\u0432\\u043b\\u0430\\u0441\\u0442\\u0438\",\"marker\":{\"color\":\"#636efa\",\"symbol\":\"circle\"},\"mode\":\"markers\",\"name\":\"\\u041f\\u043e\\u0441\\u0442\\u0430\\u043d\\u043e\\u0432\\u043b\\u0435\\u043d\\u0438\\u0435, \\u0440\\u0435\\u0433\\u0438\\u043e\\u043d\\u0430\\u043b\\u044c\\u043d\\u044b\\u0439 \\u0443\\u0440\\u043e\\u0432\\u0435\\u043d\\u044c, \\u043e\\u0440\\u0433\\u0430\\u043d\\u044b \\u0438\\u0441\\u043f\\u043e\\u043b\\u043d\\u0438\\u0442\\u0435\\u043b\\u044c\\u043d\\u043e\\u0439 \\u0432\\u043b\\u0430\\u0441\\u0442\\u0438\",\"showlegend\":true,\"x\":[-0.3514511287212372,-0.2547946572303772,-3.6554718017578125,-3.8124818801879883,-5.24798583984375,-3.4971587657928467,-3.5575807094573975,0.13523004949092865,2.2855632305145264,-0.962439239025116,-3.56478214263916,-0.568408727645874,-3.3152010440826416,-3.529472827911377,3.6869335174560547,-1.4541449546813965,3.8392724990844727,-2.7667794227600098,-3.5515377521514893,3.0667176246643066,-0.07237972319126129,-5.23889684677124,-3.7861545085906982,-3.831087350845337,1.9308346509933472,-0.4323360025882721,-3.692610025405884,-3.828702688217163,-3.7669966220855713,-4.623363494873047,-5.221579551696777,-0.545785665512085,-3.831087350845337,-3.712890386581421,-3.847600221633911,-3.4956440925598145,-5.343864440917969,-3.8420352935791016,-3.7890102863311768,-3.6188173294067383,-3.7914609909057617,-3.8660502433776855,-0.4610418677330017,-0.28324946761131287,-5.341639041900635,-3.8521344661712646,-5.333279609680176,-3.543947696685791,1.5360687971115112,-0.45810285210609436,-3.2628543376922607,0.015326596796512604,-3.9074835777282715,-3.64597487449646,-3.3715765476226807,3.4789655208587646,-3.765517234802246,-0.2044944018125534,-3.8421237468719482,-3.8394393920898438,-0.8378013968467712,0.6511499881744385,-3.485236167907715,-3.2561938762664795,0.07415519654750824,-3.8019113540649414,-3.4710593223571777,-3.429994583129883,-0.4951116740703583,-1.1705243587493896,-3.8270702362060547,-0.29155153036117554,-3.5354104042053223,-3.8383219242095947,-1.7561217546463013,0.11813321709632874,-0.27677521109580994,-3.7874643802642822,-3.4482481479644775,-3.446037769317627,0.6583073735237122,3.608398675918579,0.6681761145591736,-3.8417136669158936],\"xaxis\":\"x\",\"y\":[-6.798459053039551,-6.832633018493652,-2.9229516983032227,-4.311152935028076,0.5597241520881653,-4.0925445556640625,-5.21038293838501,-2.8574891090393066,0.590808093547821,-5.94456672668457,-3.3593528270721436,-6.600194454193115,-4.138177394866943,-2.22517466545105,-1.8148218393325806,-2.869225263595581,-2.406308174133301,-1.9571161270141602,-3.321291923522949,-2.561288833618164,-0.1122094988822937,0.5751482248306274,-4.471566677093506,-4.431506156921387,-0.14836080372333527,-0.6364735960960388,-3.5005199909210205,-4.413550853729248,-4.395758628845215,2.507213830947876,0.5421602725982666,-6.63588285446167,-4.431506156921387,-2.9693825244903564,-4.356215000152588,-3.333745002746582,0.5365504026412964,-4.322259426116943,-4.378317832946777,-2.8850302696228027,-4.325326919555664,-4.3582587242126465,-6.7579450607299805,0.0650629997253418,0.6170976758003235,-4.561313629150391,0.5202711820602417,-5.229586601257324,1.4241243600845337,-6.726747035980225,-2.7270348072052,-6.930635929107666,-4.315579414367676,-5.120241165161133,-2.598135232925415,-3.9095652103424072,-4.376748085021973,-1.6472516059875488,-4.292612552642822,-4.425919055938721,-6.528975009918213,-6.814468860626221,-3.733431339263916,-2.5436291694641113,-6.899416923522949,-4.25249719619751,-3.7431042194366455,-2.9014816284179688,-6.702373027801514,-5.712405681610107,-4.338833332061768,-6.826155185699463,-2.2218847274780273,-4.416618347167969,-2.026261329650879,-6.8781280517578125,-6.884655952453613,-3.2408230304718018,-3.2370285987854004,-3.2563910484313965,-6.8773651123046875,-1.8378595113754272,-6.813188076019287,-4.24166202545166],\"yaxis\":\"y\",\"type\":\"scattergl\"},{\"hovertemplate\":\"\\u0412\\u0438\\u0434 \\u041d\\u041f\\u0410=\\u0417\\u0430\\u043a\\u043e\\u043d, \\u0440\\u0435\\u0433\\u0438\\u043e\\u043d\\u0430\\u043b\\u044c\\u043d\\u044b\\u0439 \\u0443\\u0440\\u043e\\u0432\\u0435\\u043d\\u044c, \\u0437\\u0430\\u043a\\u043e\\u043d\\u043e\\u0434\\u0430\\u0442\\u0435\\u043b\\u044c\\u043d\\u044b\\u0439 \\u043e\\u0440\\u0433\\u0430\\u043d\\u003cbr\\u003e0=%{x}\\u003cbr\\u003e1=%{y}\\u003cextra\\u003e\\u003c\\u002fextra\\u003e\",\"legendgroup\":\"\\u0417\\u0430\\u043a\\u043e\\u043d, \\u0440\\u0435\\u0433\\u0438\\u043e\\u043d\\u0430\\u043b\\u044c\\u043d\\u044b\\u0439 \\u0443\\u0440\\u043e\\u0432\\u0435\\u043d\\u044c, \\u0437\\u0430\\u043a\\u043e\\u043d\\u043e\\u0434\\u0430\\u0442\\u0435\\u043b\\u044c\\u043d\\u044b\\u0439 \\u043e\\u0440\\u0433\\u0430\\u043d\",\"marker\":{\"color\":\"#EF553B\",\"symbol\":\"circle\"},\"mode\":\"markers\",\"name\":\"\\u0417\\u0430\\u043a\\u043e\\u043d, \\u0440\\u0435\\u0433\\u0438\\u043e\\u043d\\u0430\\u043b\\u044c\\u043d\\u044b\\u0439 \\u0443\\u0440\\u043e\\u0432\\u0435\\u043d\\u044c, \\u0437\\u0430\\u043a\\u043e\\u043d\\u043e\\u0434\\u0430\\u0442\\u0435\\u043b\\u044c\\u043d\\u044b\\u0439 \\u043e\\u0440\\u0433\\u0430\\u043d\",\"showlegend\":true,\"x\":[1.2686896324157715,-1.4381424188613892,-0.19379256665706635,-2.731086492538452,-3.7365195751190186,-1.6212491989135742,-0.1069922000169754,-3.6496598720550537,-1.133653163909912,-1.8469033241271973,-1.952125072479248,0.3742569088935852,-1.5521990060806274,-2.757819652557373,-4.317935943603516,-0.5755115747451782,-4.885366916656494,-2.4491560459136963,1.675827980041504,-2.776021718978882,1.4396568536758423,-2.6914281845092773,2.715301513671875,1.4393104314804077,-1.1137452125549316,-0.29706549644470215,0.0664372444152832,0.28022268414497375,1.3962035179138184,1.968062400817871,-0.15867526829242706,1.6716336011886597,-0.11238560825586319,-1.4387022256851196,-2.2249326705932617,-1.3897223472595215,2.664426565170288,0.10496079921722412,-4.3375020027160645,-2.174522876739502,-0.16594424843788147,-3.509493589401245,-2.5482335090637207,0.7457683682441711,-0.22254398465156555,-2.781747817993164,-3.9907681941986084,-0.27560073137283325,-3.40391206741333,-5.74407434463501,0.3250161409378052,-4.359470844268799,0.69948410987854,4.2139892578125,-3.336397171020508,-0.4560665488243103,-4.417220115661621,-0.13782091438770294,-0.10922081768512726,-3.237339735031128,2.5433876514434814,-6.268232822418213,-0.0865182876586914,-1.2311174869537354,2.4769580364227295,-1.6535799503326416,-2.503041982650757,-4.629845142364502,0.6752290725708008,2.749997615814209,-4.39672327041626,-3.717026472091675,4.664644241333008,-2.7764642238616943,4.278515815734863,-1.3938876390457153,-4.656370162963867,-0.15171784162521362,-1.2415663003921509,-0.12267304956912994,-0.21745499968528748,-2.164323091506958,-2.4104793071746826,-4.0901384353637695,-3.6510543823242188,0.7266461849212646,-3.8338491916656494,2.8980727195739746,-2.501147985458374,0.7098957896232605,-3.249614953994751,-0.04051141440868378,-2.72470760345459,1.9103648662567139,-2.365549325942993,0.4855392575263977,-4.363716125488281,1.9473472833633423,4.24868106842041],\"xaxis\":\"x\",\"y\":[-2.6019692420959473,-2.695744514465332,-0.1718665212392807,0.8686028718948364,0.7249327301979065,-0.6956332921981812,-5.194594383239746,1.034432291984558,-4.795706272125244,0.16043929755687714,-0.5218088030815125,-0.14101119339466095,-0.6117178797721863,0.9822224974632263,-6.041784286499023,2.3894121646881104,-0.11102870106697083,0.14541685581207275,1.468984603881836,0.3066551983356476,-6.240917205810547,-0.18777798116207123,-5.726301670074463,-3.128340244293213,1.031087875366211,-2.9789319038391113,-2.8947696685791016,-0.06883736699819565,-11.923816680908203,-5.954897403717041,-0.9352681636810303,0.07126371562480927,-5.235990524291992,0.02400103211402893,0.5086358189582825,3.4221646785736084,-2.7809197902679443,-0.6946069002151489,-6.046056747436523,-0.4745326638221741,1.1095948219299316,0.7072442173957825,0.06129948049783707,-3.0614843368530273,-5.228909969329834,0.39457565546035767,0.9984265565872192,-4.501486301422119,0.6968817114830017,1.5216994285583496,-0.1457870751619339,-6.0369062423706055,-5.219884872436523,-0.8702300190925598,-6.223021507263184,-1.4878255128860474,-6.054354667663574,2.5659046173095703,-5.129047870635986,-6.217552661895752,-2.1139705181121826,3.1903116703033447,2.7593438625335693,-5.266200065612793,-3.060960531234741,-0.17797017097473145,0.08028241246938705,-5.983959197998047,-5.186993598937988,-4.183977127075195,-6.044020175933838,1.2367233037948608,-1.4439520835876465,0.9520348906517029,-0.5879647135734558,-2.535468339920044,-5.994049072265625,-5.300673007965088,1.3294414281845093,-5.143758296966553,-2.068502187728882,-0.48320597410202026,0.6476839184761047,0.6642448902130127,0.566959798336029,0.3175298273563385,0.08426172286272049,-1.5268551111221313,-0.3393585979938507,-5.204260349273682,0.33766233921051025,-2.9734184741973877,-6.766971111297607,-6.26530122756958,0.06984581053256989,-9.042533874511719,-6.06641960144043,-6.298397064208984,-1.5886101722717285],\"yaxis\":\"y\",\"type\":\"scattergl\"},{\"hovertemplate\":\"\\u0412\\u0438\\u0434 \\u041d\\u041f\\u0410=\\u0420\\u0430\\u0441\\u043f\\u043e\\u0440\\u044f\\u0436\\u0435\\u043d\\u0438\\u0435, \\u0440\\u0435\\u0433\\u0438\\u043e\\u043d\\u0430\\u043b\\u044c\\u043d\\u044b\\u0439 \\u0443\\u0440\\u043e\\u0432\\u0435\\u043d\\u044c, \\u0433\\u043b\\u0430\\u0432\\u0430 \\u0438\\u0441\\u043f\\u043e\\u043b\\u043d\\u0438\\u0442\\u0435\\u043b\\u044c\\u043d\\u043e\\u0439 \\u0432\\u043b\\u0430\\u0441\\u0442\\u0438\\u003cbr\\u003e0=%{x}\\u003cbr\\u003e1=%{y}\\u003cextra\\u003e\\u003c\\u002fextra\\u003e\",\"legendgroup\":\"\\u0420\\u0430\\u0441\\u043f\\u043e\\u0440\\u044f\\u0436\\u0435\\u043d\\u0438\\u0435, \\u0440\\u0435\\u0433\\u0438\\u043e\\u043d\\u0430\\u043b\\u044c\\u043d\\u044b\\u0439 \\u0443\\u0440\\u043e\\u0432\\u0435\\u043d\\u044c, \\u0433\\u043b\\u0430\\u0432\\u0430 \\u0438\\u0441\\u043f\\u043e\\u043b\\u043d\\u0438\\u0442\\u0435\\u043b\\u044c\\u043d\\u043e\\u0439 \\u0432\\u043b\\u0430\\u0441\\u0442\\u0438\",\"marker\":{\"color\":\"#00cc96\",\"symbol\":\"circle\"},\"mode\":\"markers\",\"name\":\"\\u0420\\u0430\\u0441\\u043f\\u043e\\u0440\\u044f\\u0436\\u0435\\u043d\\u0438\\u0435, \\u0440\\u0435\\u0433\\u0438\\u043e\\u043d\\u0430\\u043b\\u044c\\u043d\\u044b\\u0439 \\u0443\\u0440\\u043e\\u0432\\u0435\\u043d\\u044c, \\u0433\\u043b\\u0430\\u0432\\u0430 \\u0438\\u0441\\u043f\\u043e\\u043b\\u043d\\u0438\\u0442\\u0435\\u043b\\u044c\\u043d\\u043e\\u0439 \\u0432\\u043b\\u0430\\u0441\\u0442\\u0438\",\"showlegend\":true,\"x\":[4.701850891113281,6.550886631011963,6.952609062194824,6.914398193359375,3.2021231651306152,5.448423862457275,4.804906368255615,-0.3414589762687683,4.672034740447998,3.2411909103393555,0.5749635100364685,1.7895236015319824,3.108973503112793,6.911257743835449,1.7380859851837158,6.812426567077637,1.5702041387557983,5.615203380584717,6.3294358253479,0.41684556007385254,0.6392682194709778,1.5330531597137451,1.6046297550201416,1.880466341972351,6.053049564361572,0.3754640221595764,4.052337169647217,-1.3959022760391235,5.476129531860352,5.674224376678467,1.4648970365524292,6.891815185546875,1.3086799383163452,0.6029142737388611,6.9034857749938965,0.4551910161972046,6.919882774353027,6.891310214996338,1.5467779636383057,6.924534797668457,0.3279227912425995,4.4939799308776855,6.900137424468994,5.637331485748291,1.895279884338379,6.793422698974609,0.6548926830291748,6.8839497566223145,6.854325294494629,-1.138931155204773,6.8289008140563965,2.4507546424865723,3.9343783855438232,1.0261874198913574,6.973429203033447,1.665901780128479,-1.6375460624694824,1.875809669494629,6.8997673988342285,6.879944801330566,-0.26572385430336,-0.4542314410209656,6.890630722045898,5.324334621429443,5.49685525894165,3.998870849609375,2.497222423553467,5.9298200607299805,6.677611351013184,1.9024062156677246,6.924170017242432,6.791163444519043,-0.17199116945266724,6.698252201080322,1.6453089714050293,6.8927717208862305,0.9430648684501648,3.5904722213745117,6.905341625213623,2.895263433456421,5.606451988220215,0.5126408338546753,5.391439914703369,2.8128201961517334,3.6237218379974365,6.71907377243042,1.9386800527572632,5.636390686035156,6.882930755615234,1.054013729095459,-1.445528268814087,0.7000827193260193,0.873468279838562,5.655776500701904],\"xaxis\":\"x\",\"y\":[-3.689694404602051,-3.95009446144104,-4.148415565490723,-4.136114120483398,-7.972377777099609,-1.6436536312103271,-4.74604606628418,0.8206239342689514,-1.102776288986206,-7.706564903259277,-1.2001935243606567,2.183706283569336,-7.862411022186279,-4.1273193359375,2.209412097930908,-4.092584609985352,-4.240762233734131,-1.4332454204559326,-4.248814105987549,-1.4164416790008545,-3.334400177001953,-8.995344161987305,-8.965825080871582,-6.568877220153809,-4.146912574768066,-9.296277046203613,5.108689785003662,-2.5525636672973633,-4.230257511138916,-4.049465179443359,-9.02155876159668,-4.156418323516846,0.9794849157333374,-4.299369812011719,-4.121812343597412,-4.5993828773498535,-4.137516021728516,-4.124364852905273,2.13156795501709,-4.145112991333008,-1.2401295900344849,-2.004875659942627,-4.09170389175415,-4.325438022613525,-6.489459037780762,-4.135184288024902,1.1355961561203003,-4.147091865539551,-4.173924446105957,0.3054402768611908,-4.060227394104004,0.6328099370002747,-1.1785390377044678,-4.684656620025635,-4.16439151763916,-8.741032600402832,-1.0939362049102783,-6.5270209312438965,-4.183423042297363,-4.096610069274902,-7.100980758666992,-1.9495428800582886,-4.121670246124268,-1.3522038459777832,-4.249125003814697,5.128968238830566,-1.3384085893630981,-0.7562059164047241,-4.00753927230835,-6.503286838531494,-4.1530985832214355,-4.075974941253662,-0.827049195766449,-4.091102123260498,-6.5613861083984375,-4.145057201385498,-4.991981506347656,-1.3070993423461914,-4.141786575317383,-5.419271945953369,-4.39284610748291,-4.574479103088379,-4.095205783843994,-7.720933437347412,-0.35182633996009827,-4.182504177093506,-6.6072096824646,-4.348484039306641,-4.1608076095581055,-6.659518241882324,-2.044701337814331,-4.763115406036377,-0.007310613989830017,-4.221857070922852],\"yaxis\":\"y\",\"type\":\"scattergl\"},{\"hovertemplate\":\"\\u0412\\u0438\\u0434 \\u041d\\u041f\\u0410=\\u0417\\u0430\\u043a\\u043e\\u043d, \\u0444\\u0435\\u0434\\u0435\\u0440\\u0430\\u043b\\u044c\\u043d\\u044b\\u0439 \\u0443\\u0440\\u043e\\u0432\\u0435\\u043d\\u044c, \\u0437\\u0430\\u043a\\u043e\\u043d\\u043e\\u0434\\u0430\\u0442\\u0435\\u043b\\u044c\\u043d\\u044b\\u0439 \\u043e\\u0440\\u0433\\u0430\\u043d\\u003cbr\\u003e0=%{x}\\u003cbr\\u003e1=%{y}\\u003cextra\\u003e\\u003c\\u002fextra\\u003e\",\"legendgroup\":\"\\u0417\\u0430\\u043a\\u043e\\u043d, \\u0444\\u0435\\u0434\\u0435\\u0440\\u0430\\u043b\\u044c\\u043d\\u044b\\u0439 \\u0443\\u0440\\u043e\\u0432\\u0435\\u043d\\u044c, \\u0437\\u0430\\u043a\\u043e\\u043d\\u043e\\u0434\\u0430\\u0442\\u0435\\u043b\\u044c\\u043d\\u044b\\u0439 \\u043e\\u0440\\u0433\\u0430\\u043d\",\"marker\":{\"color\":\"#ab63fa\",\"symbol\":\"circle\"},\"mode\":\"markers\",\"name\":\"\\u0417\\u0430\\u043a\\u043e\\u043d, \\u0444\\u0435\\u0434\\u0435\\u0440\\u0430\\u043b\\u044c\\u043d\\u044b\\u0439 \\u0443\\u0440\\u043e\\u0432\\u0435\\u043d\\u044c, \\u0437\\u0430\\u043a\\u043e\\u043d\\u043e\\u0434\\u0430\\u0442\\u0435\\u043b\\u044c\\u043d\\u044b\\u0439 \\u043e\\u0440\\u0433\\u0430\\u043d\",\"showlegend\":true,\"x\":[0.9295406937599182,-3.388234853744507,-4.175752639770508,-5.600246429443359,-5.617595195770264,-4.658835411071777,-4.239355087280273,-3.4698166847229004,-4.463027477264404,-3.4487855434417725,-5.149764537811279,-5.057359218597412,-5.153163909912109,-4.6048903465271,-4.271880149841309,0.7192502617835999,-5.139684200286865,-5.492427825927734,-3.993469715118408,-4.640738010406494,-5.4626665115356445,-5.749361038208008,-5.369468688964844,-5.118055820465088,-5.567776203155518,-5.4637041091918945,-4.299761772155762,-0.693057119846344,-6.021437168121338,-5.9315643310546875,-5.459676265716553,-5.9192094802856445,-4.644240379333496,-1.3605886697769165,-4.715249538421631,-0.4546772837638855,-5.132812976837158,-5.602614879608154,-3.7630155086517334,-4.619716644287109,-5.369157791137695,-2.38995623588562,-5.552225589752197,-3.8082470893859863,0.7886620759963989,-4.305449485778809,-2.6967475414276123,-4.9045257568359375,-4.568195819854736,-4.241395950317383,-4.870089530944824,-5.256785869598389,-4.219155311584473,-5.092245101928711,-5.204864978790283,-4.869350910186768,-5.648452281951904,-4.410593509674072,-4.1164655685424805,-6.222404956817627,-4.21751070022583,-3.2135558128356934,-5.1656174659729,-5.851348400115967,-5.53098726272583,-4.744650363922119,-5.167743682861328,-5.593489170074463,-4.394298553466797,-5.626673221588135,-5.063486576080322,-4.934638977050781,-4.44853401184082,-5.816044807434082,-5.833634376525879,-4.945956230163574,-5.529342174530029,-4.654299259185791,-5.280677795410156,0.027677224949002266,-4.3192548751831055,-5.242116451263428,-5.185473442077637,-5.741867542266846,0.4235159754753113],\"xaxis\":\"x\",\"y\":[6.707485198974609,5.317176342010498,4.097082614898682,3.420733690261841,3.801764726638794,4.727479934692383,4.1262125968933105,3.286531925201416,3.665843963623047,4.442086219787598,3.754380464553833,3.947477102279663,3.3463234901428223,3.424800395965576,2.490457773208618,7.259298801422119,4.407196998596191,4.264134883880615,4.746191024780273,3.1537246704101562,3.7339282035827637,3.9597949981689453,2.6395928859710693,4.580114364624023,4.049060821533203,3.324561357498169,3.1337037086486816,1.3647013902664185,4.129380702972412,3.8622641563415527,3.0309557914733887,3.4799067974090576,3.9419267177581787,4.104869365692139,3.3709375858306885,3.0568675994873047,4.813481330871582,4.209502220153809,4.110716342926025,4.227085113525391,3.3963568210601807,8.171124458312988,4.26827335357666,2.95147705078125,7.040007591247559,4.07574462890625,9.62265396118164,3.882168769836426,2.9026787281036377,2.523404121398926,3.617487668991089,3.8601036071777344,3.7821333408355713,4.886104583740234,3.412904977798462,3.260317087173462,3.8192756175994873,3.212383508682251,3.3773348331451416,3.180253505706787,4.929300785064697,2.016836643218994,3.487863540649414,3.8080670833587646,4.24696683883667,3.8686723709106445,2.601954698562622,3.073131799697876,4.041235446929932,3.8243839740753174,2.7601430416107178,3.1655306816101074,3.9011850357055664,3.9642117023468018,3.736825942993164,4.646578311920166,3.246309518814087,2.8770503997802734,2.851806640625,4.505350112915039,3.3669543266296387,2.617480516433716,3.4775898456573486,3.8841474056243896,6.990306377410889],\"yaxis\":\"y\",\"type\":\"scattergl\"},{\"hovertemplate\":\"\\u0412\\u0438\\u0434 \\u041d\\u041f\\u0410=\\u0423\\u043a\\u0430\\u0437, \\u0440\\u0435\\u0433\\u0438\\u043e\\u043d\\u0430\\u043b\\u044c\\u043d\\u044b\\u0439 \\u0443\\u0440\\u043e\\u0432\\u0435\\u043d\\u044c, \\u0433\\u043b\\u0430\\u0432\\u0430 \\u0438\\u0441\\u043f\\u043e\\u043b\\u043d\\u0438\\u0442\\u0435\\u043b\\u044c\\u043d\\u043e\\u0439 \\u0432\\u043b\\u0430\\u0441\\u0442\\u0438\\u003cbr\\u003e0=%{x}\\u003cbr\\u003e1=%{y}\\u003cextra\\u003e\\u003c\\u002fextra\\u003e\",\"legendgroup\":\"\\u0423\\u043a\\u0430\\u0437, \\u0440\\u0435\\u0433\\u0438\\u043e\\u043d\\u0430\\u043b\\u044c\\u043d\\u044b\\u0439 \\u0443\\u0440\\u043e\\u0432\\u0435\\u043d\\u044c, \\u0433\\u043b\\u0430\\u0432\\u0430 \\u0438\\u0441\\u043f\\u043e\\u043b\\u043d\\u0438\\u0442\\u0435\\u043b\\u044c\\u043d\\u043e\\u0439 \\u0432\\u043b\\u0430\\u0441\\u0442\\u0438\",\"marker\":{\"color\":\"#FFA15A\",\"symbol\":\"circle\"},\"mode\":\"markers\",\"name\":\"\\u0423\\u043a\\u0430\\u0437, \\u0440\\u0435\\u0433\\u0438\\u043e\\u043d\\u0430\\u043b\\u044c\\u043d\\u044b\\u0439 \\u0443\\u0440\\u043e\\u0432\\u0435\\u043d\\u044c, \\u0433\\u043b\\u0430\\u0432\\u0430 \\u0438\\u0441\\u043f\\u043e\\u043b\\u043d\\u0438\\u0442\\u0435\\u043b\\u044c\\u043d\\u043e\\u0439 \\u0432\\u043b\\u0430\\u0441\\u0442\\u0438\",\"showlegend\":true,\"x\":[2.5922231674194336,0.8315781950950623,5.961483955383301,5.8059163093566895,2.1844680309295654,1.419649362564087,3.035142660140991,2.6981356143951416,2.0657806396484375,1.8044228553771973,3.8435418605804443,0.586275577545166,5.3951849937438965,2.1345090866088867,3.8438730239868164,0.8769645690917969,1.8664112091064453,-0.2601138949394226,1.8782613277435303,1.73884117603302,0.1434735357761383,1.599316954612732,0.7343900203704834,2.0575003623962402,1.8829736709594727,1.7511615753173828,5.277207374572754,2.9771411418914795,1.851753830909729,2.1590168476104736,5.03707218170166,2.8382558822631836,0.6660974621772766,2.2266995906829834,0.6844576001167297,0.9639244079589844,6.621427059173584,2.2383458614349365,3.961904287338257,2.3002870082855225,2.3932251930236816,4.699970722198486,3.8649072647094727,-0.4159572124481201,2.2925925254821777,5.359763145446777,5.014626979827881,4.562608242034912,0.06349454820156097,2.071303367614746,-1.0271345376968384,2.8247742652893066,2.695706367492676,1.7662359476089478,-0.3411087095737457,2.10019850730896,0.007180813699960709,-4.121518135070801,0.6906209588050842,-1.562156319618225,1.8658561706542969,1.0373646020889282,1.0926039218902588,2.8685922622680664,0.9225884675979614,1.3440394401550293,5.729467868804932,1.4132999181747437,1.9945796728134155,0.294626384973526,2.910353899002075,-0.07674470543861389,2.199331760406494,5.7198100090026855,-0.21303296089172363,0.9273572564125061,1.1408504247665405,5.302422046661377,3.0664141178131104,2.2314398288726807,4.959717750549316,0.6050313115119934,0.7270506620407104,2.5866763591766357,5.553520679473877,-0.47200676798820496,1.3760123252868652,1.9579570293426514,1.3138151168823242,0.4327448308467865,2.2440643310546875,2.110318183898926,1.8783001899719238,4.93961763381958,2.0104622840881348,1.618760108947754,1.6685316562652588,1.279205322265625,0.5299075245857239],\"xaxis\":\"x\",\"y\":[-8.959686279296875,-4.218987464904785,-2.167661428451538,-4.397040367126465,-8.58200454711914,-9.085562705993652,-0.906819224357605,-8.832792282104492,-9.002174377441406,-8.982495307922363,-6.978606700897217,-4.979825973510742,-2.0433406829833984,-6.904372692108154,-6.923750400543213,-4.130699634552002,-8.772305488586426,-4.355676651000977,-8.952120780944824,-6.232900619506836,-3.0889036655426025,-9.14034652709961,-4.403217792510986,-8.979713439941406,-0.11627794802188873,-7.159325122833252,-1.2099148035049438,-1.1526758670806885,-9.06321907043457,-6.864687442779541,-4.863870143890381,-3.390305280685425,-1.5797028541564941,-9.10197925567627,-4.414514541625977,-4.66693639755249,-3.954712390899658,-8.856786727905273,-2.2997920513153076,-8.38694953918457,-0.6590102910995483,-0.9986191391944885,-6.977105617523193,0.6769868731498718,-8.637350082397461,4.878818511962891,-1.6908384561538696,-0.5438373684883118,-3.096802234649658,0.37462112307548523,-1.919592261314392,-2.799269914627075,-8.751609802246094,-8.948488235473633,-2.413090229034424,-1.3535130023956299,0.8794190883636475,-3.996731758117676,-3.557389259338379,1.0261813402175903,-8.690311431884766,-4.069812774658203,0.754501461982727,-7.852219104766846,-4.202672958374023,-9.174525260925293,-2.117172956466675,0.9111384749412537,-9.096144676208496,-4.1928277015686035,-0.5537981390953064,0.7707188725471497,-9.263567924499512,-2.1635873317718506,-2.641400098800659,-4.151925086975098,-3.859201431274414,-2.1163082122802734,-1.474522352218628,-9.200819969177246,-1.678728461265564,-4.4827399253845215,-5.119300842285156,-8.958842277526855,-2.0956366062164307,-4.647842884063721,-9.11081600189209,2.720913887023926,0.12342256307601929,-4.735213279724121,-8.957732200622559,0.5053039193153381,-6.216598033905029,-1.605177640914917,-6.5084757804870605,-3.81280255317688,-7.360409259796143,-9.165797233581543,-1.538252353668213],\"yaxis\":\"y\",\"type\":\"scattergl\"}],                        {\"template\":{\"data\":{\"histogram2dcontour\":[{\"type\":\"histogram2dcontour\",\"colorbar\":{\"outlinewidth\":0,\"ticks\":\"\"},\"colorscale\":[[0.0,\"#0d0887\"],[0.1111111111111111,\"#46039f\"],[0.2222222222222222,\"#7201a8\"],[0.3333333333333333,\"#9c179e\"],[0.4444444444444444,\"#bd3786\"],[0.5555555555555556,\"#d8576b\"],[0.6666666666666666,\"#ed7953\"],[0.7777777777777778,\"#fb9f3a\"],[0.8888888888888888,\"#fdca26\"],[1.0,\"#f0f921\"]]}],\"choropleth\":[{\"type\":\"choropleth\",\"colorbar\":{\"outlinewidth\":0,\"ticks\":\"\"}}],\"histogram2d\":[{\"type\":\"histogram2d\",\"colorbar\":{\"outlinewidth\":0,\"ticks\":\"\"},\"colorscale\":[[0.0,\"#0d0887\"],[0.1111111111111111,\"#46039f\"],[0.2222222222222222,\"#7201a8\"],[0.3333333333333333,\"#9c179e\"],[0.4444444444444444,\"#bd3786\"],[0.5555555555555556,\"#d8576b\"],[0.6666666666666666,\"#ed7953\"],[0.7777777777777778,\"#fb9f3a\"],[0.8888888888888888,\"#fdca26\"],[1.0,\"#f0f921\"]]}],\"heatmap\":[{\"type\":\"heatmap\",\"colorbar\":{\"outlinewidth\":0,\"ticks\":\"\"},\"colorscale\":[[0.0,\"#0d0887\"],[0.1111111111111111,\"#46039f\"],[0.2222222222222222,\"#7201a8\"],[0.3333333333333333,\"#9c179e\"],[0.4444444444444444,\"#bd3786\"],[0.5555555555555556,\"#d8576b\"],[0.6666666666666666,\"#ed7953\"],[0.7777777777777778,\"#fb9f3a\"],[0.8888888888888888,\"#fdca26\"],[1.0,\"#f0f921\"]]}],\"heatmapgl\":[{\"type\":\"heatmapgl\",\"colorbar\":{\"outlinewidth\":0,\"ticks\":\"\"},\"colorscale\":[[0.0,\"#0d0887\"],[0.1111111111111111,\"#46039f\"],[0.2222222222222222,\"#7201a8\"],[0.3333333333333333,\"#9c179e\"],[0.4444444444444444,\"#bd3786\"],[0.5555555555555556,\"#d8576b\"],[0.6666666666666666,\"#ed7953\"],[0.7777777777777778,\"#fb9f3a\"],[0.8888888888888888,\"#fdca26\"],[1.0,\"#f0f921\"]]}],\"contourcarpet\":[{\"type\":\"contourcarpet\",\"colorbar\":{\"outlinewidth\":0,\"ticks\":\"\"}}],\"contour\":[{\"type\":\"contour\",\"colorbar\":{\"outlinewidth\":0,\"ticks\":\"\"},\"colorscale\":[[0.0,\"#0d0887\"],[0.1111111111111111,\"#46039f\"],[0.2222222222222222,\"#7201a8\"],[0.3333333333333333,\"#9c179e\"],[0.4444444444444444,\"#bd3786\"],[0.5555555555555556,\"#d8576b\"],[0.6666666666666666,\"#ed7953\"],[0.7777777777777778,\"#fb9f3a\"],[0.8888888888888888,\"#fdca26\"],[1.0,\"#f0f921\"]]}],\"surface\":[{\"type\":\"surface\",\"colorbar\":{\"outlinewidth\":0,\"ticks\":\"\"},\"colorscale\":[[0.0,\"#0d0887\"],[0.1111111111111111,\"#46039f\"],[0.2222222222222222,\"#7201a8\"],[0.3333333333333333,\"#9c179e\"],[0.4444444444444444,\"#bd3786\"],[0.5555555555555556,\"#d8576b\"],[0.6666666666666666,\"#ed7953\"],[0.7777777777777778,\"#fb9f3a\"],[0.8888888888888888,\"#fdca26\"],[1.0,\"#f0f921\"]]}],\"mesh3d\":[{\"type\":\"mesh3d\",\"colorbar\":{\"outlinewidth\":0,\"ticks\":\"\"}}],\"scatter\":[{\"fillpattern\":{\"fillmode\":\"overlay\",\"size\":10,\"solidity\":0.2},\"type\":\"scatter\"}],\"parcoords\":[{\"type\":\"parcoords\",\"line\":{\"colorbar\":{\"outlinewidth\":0,\"ticks\":\"\"}}}],\"scatterpolargl\":[{\"type\":\"scatterpolargl\",\"marker\":{\"colorbar\":{\"outlinewidth\":0,\"ticks\":\"\"}}}],\"bar\":[{\"error_x\":{\"color\":\"#2a3f5f\"},\"error_y\":{\"color\":\"#2a3f5f\"},\"marker\":{\"line\":{\"color\":\"#E5ECF6\",\"width\":0.5},\"pattern\":{\"fillmode\":\"overlay\",\"size\":10,\"solidity\":0.2}},\"type\":\"bar\"}],\"scattergeo\":[{\"type\":\"scattergeo\",\"marker\":{\"colorbar\":{\"outlinewidth\":0,\"ticks\":\"\"}}}],\"scatterpolar\":[{\"type\":\"scatterpolar\",\"marker\":{\"colorbar\":{\"outlinewidth\":0,\"ticks\":\"\"}}}],\"histogram\":[{\"marker\":{\"pattern\":{\"fillmode\":\"overlay\",\"size\":10,\"solidity\":0.2}},\"type\":\"histogram\"}],\"scattergl\":[{\"type\":\"scattergl\",\"marker\":{\"colorbar\":{\"outlinewidth\":0,\"ticks\":\"\"}}}],\"scatter3d\":[{\"type\":\"scatter3d\",\"line\":{\"colorbar\":{\"outlinewidth\":0,\"ticks\":\"\"}},\"marker\":{\"colorbar\":{\"outlinewidth\":0,\"ticks\":\"\"}}}],\"scattermapbox\":[{\"type\":\"scattermapbox\",\"marker\":{\"colorbar\":{\"outlinewidth\":0,\"ticks\":\"\"}}}],\"scatterternary\":[{\"type\":\"scatterternary\",\"marker\":{\"colorbar\":{\"outlinewidth\":0,\"ticks\":\"\"}}}],\"scattercarpet\":[{\"type\":\"scattercarpet\",\"marker\":{\"colorbar\":{\"outlinewidth\":0,\"ticks\":\"\"}}}],\"carpet\":[{\"aaxis\":{\"endlinecolor\":\"#2a3f5f\",\"gridcolor\":\"white\",\"linecolor\":\"white\",\"minorgridcolor\":\"white\",\"startlinecolor\":\"#2a3f5f\"},\"baxis\":{\"endlinecolor\":\"#2a3f5f\",\"gridcolor\":\"white\",\"linecolor\":\"white\",\"minorgridcolor\":\"white\",\"startlinecolor\":\"#2a3f5f\"},\"type\":\"carpet\"}],\"table\":[{\"cells\":{\"fill\":{\"color\":\"#EBF0F8\"},\"line\":{\"color\":\"white\"}},\"header\":{\"fill\":{\"color\":\"#C8D4E3\"},\"line\":{\"color\":\"white\"}},\"type\":\"table\"}],\"barpolar\":[{\"marker\":{\"line\":{\"color\":\"#E5ECF6\",\"width\":0.5},\"pattern\":{\"fillmode\":\"overlay\",\"size\":10,\"solidity\":0.2}},\"type\":\"barpolar\"}],\"pie\":[{\"automargin\":true,\"type\":\"pie\"}]},\"layout\":{\"autotypenumbers\":\"strict\",\"colorway\":[\"#636efa\",\"#EF553B\",\"#00cc96\",\"#ab63fa\",\"#FFA15A\",\"#19d3f3\",\"#FF6692\",\"#B6E880\",\"#FF97FF\",\"#FECB52\"],\"font\":{\"color\":\"#2a3f5f\"},\"hovermode\":\"closest\",\"hoverlabel\":{\"align\":\"left\"},\"paper_bgcolor\":\"white\",\"plot_bgcolor\":\"#E5ECF6\",\"polar\":{\"bgcolor\":\"#E5ECF6\",\"angularaxis\":{\"gridcolor\":\"white\",\"linecolor\":\"white\",\"ticks\":\"\"},\"radialaxis\":{\"gridcolor\":\"white\",\"linecolor\":\"white\",\"ticks\":\"\"}},\"ternary\":{\"bgcolor\":\"#E5ECF6\",\"aaxis\":{\"gridcolor\":\"white\",\"linecolor\":\"white\",\"ticks\":\"\"},\"baxis\":{\"gridcolor\":\"white\",\"linecolor\":\"white\",\"ticks\":\"\"},\"caxis\":{\"gridcolor\":\"white\",\"linecolor\":\"white\",\"ticks\":\"\"}},\"coloraxis\":{\"colorbar\":{\"outlinewidth\":0,\"ticks\":\"\"}},\"colorscale\":{\"sequential\":[[0.0,\"#0d0887\"],[0.1111111111111111,\"#46039f\"],[0.2222222222222222,\"#7201a8\"],[0.3333333333333333,\"#9c179e\"],[0.4444444444444444,\"#bd3786\"],[0.5555555555555556,\"#d8576b\"],[0.6666666666666666,\"#ed7953\"],[0.7777777777777778,\"#fb9f3a\"],[0.8888888888888888,\"#fdca26\"],[1.0,\"#f0f921\"]],\"sequentialminus\":[[0.0,\"#0d0887\"],[0.1111111111111111,\"#46039f\"],[0.2222222222222222,\"#7201a8\"],[0.3333333333333333,\"#9c179e\"],[0.4444444444444444,\"#bd3786\"],[0.5555555555555556,\"#d8576b\"],[0.6666666666666666,\"#ed7953\"],[0.7777777777777778,\"#fb9f3a\"],[0.8888888888888888,\"#fdca26\"],[1.0,\"#f0f921\"]],\"diverging\":[[0,\"#8e0152\"],[0.1,\"#c51b7d\"],[0.2,\"#de77ae\"],[0.3,\"#f1b6da\"],[0.4,\"#fde0ef\"],[0.5,\"#f7f7f7\"],[0.6,\"#e6f5d0\"],[0.7,\"#b8e186\"],[0.8,\"#7fbc41\"],[0.9,\"#4d9221\"],[1,\"#276419\"]]},\"xaxis\":{\"gridcolor\":\"white\",\"linecolor\":\"white\",\"ticks\":\"\",\"title\":{\"standoff\":15},\"zerolinecolor\":\"white\",\"automargin\":true,\"zerolinewidth\":2},\"yaxis\":{\"gridcolor\":\"white\",\"linecolor\":\"white\",\"ticks\":\"\",\"title\":{\"standoff\":15},\"zerolinecolor\":\"white\",\"automargin\":true,\"zerolinewidth\":2},\"scene\":{\"xaxis\":{\"backgroundcolor\":\"#E5ECF6\",\"gridcolor\":\"white\",\"linecolor\":\"white\",\"showbackground\":true,\"ticks\":\"\",\"zerolinecolor\":\"white\",\"gridwidth\":2},\"yaxis\":{\"backgroundcolor\":\"#E5ECF6\",\"gridcolor\":\"white\",\"linecolor\":\"white\",\"showbackground\":true,\"ticks\":\"\",\"zerolinecolor\":\"white\",\"gridwidth\":2},\"zaxis\":{\"backgroundcolor\":\"#E5ECF6\",\"gridcolor\":\"white\",\"linecolor\":\"white\",\"showbackground\":true,\"ticks\":\"\",\"zerolinecolor\":\"white\",\"gridwidth\":2}},\"shapedefaults\":{\"line\":{\"color\":\"#2a3f5f\"}},\"annotationdefaults\":{\"arrowcolor\":\"#2a3f5f\",\"arrowhead\":0,\"arrowwidth\":1},\"geo\":{\"bgcolor\":\"white\",\"landcolor\":\"#E5ECF6\",\"subunitcolor\":\"white\",\"showland\":true,\"showlakes\":true,\"lakecolor\":\"white\"},\"title\":{\"x\":0.05},\"mapbox\":{\"style\":\"light\"}}},\"xaxis\":{\"anchor\":\"y\",\"domain\":[0.0,1.0],\"title\":{\"text\":\"0\"}},\"yaxis\":{\"anchor\":\"x\",\"domain\":[0.0,1.0],\"title\":{\"text\":\"1\"}},\"legend\":{\"title\":{\"text\":\"\\u0412\\u0438\\u0434 \\u041d\\u041f\\u0410\"},\"tracegroupgap\":0},\"margin\":{\"t\":60}},                        {\"responsive\": true}                    ).then(function(){\n",
              "                            \n",
              "var gd = document.getElementById('02d81fa9-5e41-4d6a-bf3b-a71e2008516a');\n",
              "var x = new MutationObserver(function (mutations, observer) {{\n",
              "        var display = window.getComputedStyle(gd).display;\n",
              "        if (!display || display === 'none') {{\n",
              "            console.log([gd, 'removed!']);\n",
              "            Plotly.purge(gd);\n",
              "            observer.disconnect();\n",
              "        }}\n",
              "}});\n",
              "\n",
              "// Listen for the removal of the full notebook cells\n",
              "var notebookContainer = gd.closest('#notebook-container');\n",
              "if (notebookContainer) {{\n",
              "    x.observe(notebookContainer, {childList: true});\n",
              "}}\n",
              "\n",
              "// Listen for the clearing of the current output cell\n",
              "var outputEl = gd.closest('.output');\n",
              "if (outputEl) {{\n",
              "    x.observe(outputEl, {childList: true});\n",
              "}}\n",
              "\n",
              "                        })                };                            </script>        </div>\n",
              "</body>\n",
              "</html>"
            ]
          },
          "metadata": {}
        }
      ]
    },
    {
      "cell_type": "code",
      "source": [
        "X_train, X_test, y_train, y_test = train_test_split(df_w2v['w2v_simple'], df_w2v['doc_name'], test_size=0.2, random_state=42)\n",
        "X_train = np.vstack(X_train)\n",
        "X_test = np.vstack(X_test)"
      ],
      "metadata": {
        "id": "IQCNb8YXyG97"
      },
      "execution_count": null,
      "outputs": []
    },
    {
      "cell_type": "code",
      "source": [
        "lr_ppl_clf = Pipeline([\n",
        "\n",
        "    ('lr_clf', LogisticRegression(random_state=42))\n",
        "])\n",
        "\n",
        "parameters = {\n",
        "              'lr_clf__solver':['lbfgs', 'newton-cg', 'sag', 'saga'],\n",
        "              'lr_clf__class_weight':[None, 'balanced'],\n",
        "              'lr_clf__penalty':[None, 'l2', 'l1', 'elasticnet'],\n",
        "              }\n",
        "\n",
        "model = GridSearchCV(lr_ppl_clf, parameters, cv=4, n_jobs=-1).fit(X_train[:2000], y_train[:2000])\n",
        "print('Best score and parameter combination:')\n",
        "print(model.best_score_, model.best_params_)"
      ],
      "metadata": {
        "colab": {
          "base_uri": "https://localhost:8080/"
        },
        "id": "e2lei6lBJt68",
        "outputId": "8b844166-69c4-40d4-fa02-4b035dab372f"
      },
      "execution_count": null,
      "outputs": [
        {
          "output_type": "stream",
          "name": "stderr",
          "text": [
            "/usr/local/lib/python3.10/dist-packages/sklearn/model_selection/_validation.py:378: FitFailedWarning:\n",
            "\n",
            "\n",
            "56 fits failed out of a total of 128.\n",
            "The score on these train-test partitions for these parameters will be set to nan.\n",
            "If these failures are not expected, you can try to debug them by setting error_score='raise'.\n",
            "\n",
            "Below are more details about the failures:\n",
            "--------------------------------------------------------------------------------\n",
            "8 fits failed with the following error:\n",
            "Traceback (most recent call last):\n",
            "  File \"/usr/local/lib/python3.10/dist-packages/sklearn/model_selection/_validation.py\", line 686, in _fit_and_score\n",
            "    estimator.fit(X_train, y_train, **fit_params)\n",
            "  File \"/usr/local/lib/python3.10/dist-packages/sklearn/pipeline.py\", line 405, in fit\n",
            "    self._final_estimator.fit(Xt, y, **fit_params_last_step)\n",
            "  File \"/usr/local/lib/python3.10/dist-packages/sklearn/linear_model/_logistic.py\", line 1162, in fit\n",
            "    solver = _check_solver(self.solver, self.penalty, self.dual)\n",
            "  File \"/usr/local/lib/python3.10/dist-packages/sklearn/linear_model/_logistic.py\", line 54, in _check_solver\n",
            "    raise ValueError(\n",
            "ValueError: Solver lbfgs supports only 'l2' or 'none' penalties, got l1 penalty.\n",
            "\n",
            "--------------------------------------------------------------------------------\n",
            "8 fits failed with the following error:\n",
            "Traceback (most recent call last):\n",
            "  File \"/usr/local/lib/python3.10/dist-packages/sklearn/model_selection/_validation.py\", line 686, in _fit_and_score\n",
            "    estimator.fit(X_train, y_train, **fit_params)\n",
            "  File \"/usr/local/lib/python3.10/dist-packages/sklearn/pipeline.py\", line 405, in fit\n",
            "    self._final_estimator.fit(Xt, y, **fit_params_last_step)\n",
            "  File \"/usr/local/lib/python3.10/dist-packages/sklearn/linear_model/_logistic.py\", line 1162, in fit\n",
            "    solver = _check_solver(self.solver, self.penalty, self.dual)\n",
            "  File \"/usr/local/lib/python3.10/dist-packages/sklearn/linear_model/_logistic.py\", line 54, in _check_solver\n",
            "    raise ValueError(\n",
            "ValueError: Solver newton-cg supports only 'l2' or 'none' penalties, got l1 penalty.\n",
            "\n",
            "--------------------------------------------------------------------------------\n",
            "8 fits failed with the following error:\n",
            "Traceback (most recent call last):\n",
            "  File \"/usr/local/lib/python3.10/dist-packages/sklearn/model_selection/_validation.py\", line 686, in _fit_and_score\n",
            "    estimator.fit(X_train, y_train, **fit_params)\n",
            "  File \"/usr/local/lib/python3.10/dist-packages/sklearn/pipeline.py\", line 405, in fit\n",
            "    self._final_estimator.fit(Xt, y, **fit_params_last_step)\n",
            "  File \"/usr/local/lib/python3.10/dist-packages/sklearn/linear_model/_logistic.py\", line 1162, in fit\n",
            "    solver = _check_solver(self.solver, self.penalty, self.dual)\n",
            "  File \"/usr/local/lib/python3.10/dist-packages/sklearn/linear_model/_logistic.py\", line 54, in _check_solver\n",
            "    raise ValueError(\n",
            "ValueError: Solver sag supports only 'l2' or 'none' penalties, got l1 penalty.\n",
            "\n",
            "--------------------------------------------------------------------------------\n",
            "8 fits failed with the following error:\n",
            "Traceback (most recent call last):\n",
            "  File \"/usr/local/lib/python3.10/dist-packages/sklearn/model_selection/_validation.py\", line 686, in _fit_and_score\n",
            "    estimator.fit(X_train, y_train, **fit_params)\n",
            "  File \"/usr/local/lib/python3.10/dist-packages/sklearn/pipeline.py\", line 405, in fit\n",
            "    self._final_estimator.fit(Xt, y, **fit_params_last_step)\n",
            "  File \"/usr/local/lib/python3.10/dist-packages/sklearn/linear_model/_logistic.py\", line 1162, in fit\n",
            "    solver = _check_solver(self.solver, self.penalty, self.dual)\n",
            "  File \"/usr/local/lib/python3.10/dist-packages/sklearn/linear_model/_logistic.py\", line 54, in _check_solver\n",
            "    raise ValueError(\n",
            "ValueError: Solver lbfgs supports only 'l2' or 'none' penalties, got elasticnet penalty.\n",
            "\n",
            "--------------------------------------------------------------------------------\n",
            "8 fits failed with the following error:\n",
            "Traceback (most recent call last):\n",
            "  File \"/usr/local/lib/python3.10/dist-packages/sklearn/model_selection/_validation.py\", line 686, in _fit_and_score\n",
            "    estimator.fit(X_train, y_train, **fit_params)\n",
            "  File \"/usr/local/lib/python3.10/dist-packages/sklearn/pipeline.py\", line 405, in fit\n",
            "    self._final_estimator.fit(Xt, y, **fit_params_last_step)\n",
            "  File \"/usr/local/lib/python3.10/dist-packages/sklearn/linear_model/_logistic.py\", line 1162, in fit\n",
            "    solver = _check_solver(self.solver, self.penalty, self.dual)\n",
            "  File \"/usr/local/lib/python3.10/dist-packages/sklearn/linear_model/_logistic.py\", line 54, in _check_solver\n",
            "    raise ValueError(\n",
            "ValueError: Solver newton-cg supports only 'l2' or 'none' penalties, got elasticnet penalty.\n",
            "\n",
            "--------------------------------------------------------------------------------\n",
            "8 fits failed with the following error:\n",
            "Traceback (most recent call last):\n",
            "  File \"/usr/local/lib/python3.10/dist-packages/sklearn/model_selection/_validation.py\", line 686, in _fit_and_score\n",
            "    estimator.fit(X_train, y_train, **fit_params)\n",
            "  File \"/usr/local/lib/python3.10/dist-packages/sklearn/pipeline.py\", line 405, in fit\n",
            "    self._final_estimator.fit(Xt, y, **fit_params_last_step)\n",
            "  File \"/usr/local/lib/python3.10/dist-packages/sklearn/linear_model/_logistic.py\", line 1162, in fit\n",
            "    solver = _check_solver(self.solver, self.penalty, self.dual)\n",
            "  File \"/usr/local/lib/python3.10/dist-packages/sklearn/linear_model/_logistic.py\", line 54, in _check_solver\n",
            "    raise ValueError(\n",
            "ValueError: Solver sag supports only 'l2' or 'none' penalties, got elasticnet penalty.\n",
            "\n",
            "--------------------------------------------------------------------------------\n",
            "8 fits failed with the following error:\n",
            "Traceback (most recent call last):\n",
            "  File \"/usr/local/lib/python3.10/dist-packages/sklearn/model_selection/_validation.py\", line 686, in _fit_and_score\n",
            "    estimator.fit(X_train, y_train, **fit_params)\n",
            "  File \"/usr/local/lib/python3.10/dist-packages/sklearn/pipeline.py\", line 405, in fit\n",
            "    self._final_estimator.fit(Xt, y, **fit_params_last_step)\n",
            "  File \"/usr/local/lib/python3.10/dist-packages/sklearn/linear_model/_logistic.py\", line 1291, in fit\n",
            "    fold_coefs_ = Parallel(n_jobs=self.n_jobs, verbose=self.verbose, prefer=prefer)(\n",
            "  File \"/usr/local/lib/python3.10/dist-packages/sklearn/utils/parallel.py\", line 63, in __call__\n",
            "    return super().__call__(iterable_with_config)\n",
            "  File \"/usr/local/lib/python3.10/dist-packages/joblib/parallel.py\", line 1863, in __call__\n",
            "    return output if self.return_generator else list(output)\n",
            "  File \"/usr/local/lib/python3.10/dist-packages/joblib/parallel.py\", line 1792, in _get_sequential_output\n",
            "    res = func(*args, **kwargs)\n",
            "  File \"/usr/local/lib/python3.10/dist-packages/sklearn/utils/parallel.py\", line 123, in __call__\n",
            "    return self.function(*args, **kwargs)\n",
            "  File \"/usr/local/lib/python3.10/dist-packages/sklearn/linear_model/_logistic.py\", line 521, in _logistic_regression_path\n",
            "    alpha = (1.0 / C) * (1 - l1_ratio)\n",
            "TypeError: unsupported operand type(s) for -: 'int' and 'NoneType'\n",
            "\n",
            "\n",
            "/usr/local/lib/python3.10/dist-packages/sklearn/model_selection/_search.py:952: UserWarning:\n",
            "\n",
            "One or more of the test scores are non-finite: [0.769  0.757  0.797  0.801  0.7965 0.7975 0.796  0.7975    nan    nan\n",
            "    nan 0.789     nan    nan    nan    nan 0.767  0.7575 0.7955 0.801\n",
            " 0.7985 0.7995 0.799  0.799     nan    nan    nan 0.7875    nan    nan\n",
            "    nan    nan]\n",
            "\n"
          ]
        },
        {
          "output_type": "stream",
          "name": "stdout",
          "text": [
            "Best score and parameter combination:\n",
            "0.801 {'lr_clf__class_weight': None, 'lr_clf__penalty': None, 'lr_clf__solver': 'saga'}\n"
          ]
        },
        {
          "output_type": "stream",
          "name": "stderr",
          "text": [
            "/usr/local/lib/python3.10/dist-packages/sklearn/linear_model/_sag.py:350: ConvergenceWarning:\n",
            "\n",
            "The max_iter was reached which means the coef_ did not converge\n",
            "\n"
          ]
        }
      ]
    },
    {
      "cell_type": "code",
      "source": [
        "lr_ppl_clf = Pipeline([\n",
        "\n",
        "    ('lr_clf', LogisticRegression(solver='saga',penalty=None, class_weight=None, random_state=42))\n",
        "])\n",
        "lr_ppl_clf.fit(X_train, y_train)"
      ],
      "metadata": {
        "colab": {
          "base_uri": "https://localhost:8080/",
          "height": 160
        },
        "id": "XCvVH723KEtu",
        "outputId": "e8806ef1-a730-481b-842c-9ef2ec6aae5c"
      },
      "execution_count": null,
      "outputs": [
        {
          "output_type": "stream",
          "name": "stderr",
          "text": [
            "/usr/local/lib/python3.10/dist-packages/sklearn/linear_model/_sag.py:350: ConvergenceWarning:\n",
            "\n",
            "The max_iter was reached which means the coef_ did not converge\n",
            "\n"
          ]
        },
        {
          "output_type": "execute_result",
          "data": {
            "text/plain": [
              "Pipeline(steps=[('lr_clf',\n",
              "                 LogisticRegression(penalty=None, random_state=42,\n",
              "                                    solver='saga'))])"
            ],
            "text/html": [
              "<style>#sk-container-id-1 {color: black;background-color: white;}#sk-container-id-1 pre{padding: 0;}#sk-container-id-1 div.sk-toggleable {background-color: white;}#sk-container-id-1 label.sk-toggleable__label {cursor: pointer;display: block;width: 100%;margin-bottom: 0;padding: 0.3em;box-sizing: border-box;text-align: center;}#sk-container-id-1 label.sk-toggleable__label-arrow:before {content: \"▸\";float: left;margin-right: 0.25em;color: #696969;}#sk-container-id-1 label.sk-toggleable__label-arrow:hover:before {color: black;}#sk-container-id-1 div.sk-estimator:hover label.sk-toggleable__label-arrow:before {color: black;}#sk-container-id-1 div.sk-toggleable__content {max-height: 0;max-width: 0;overflow: hidden;text-align: left;background-color: #f0f8ff;}#sk-container-id-1 div.sk-toggleable__content pre {margin: 0.2em;color: black;border-radius: 0.25em;background-color: #f0f8ff;}#sk-container-id-1 input.sk-toggleable__control:checked~div.sk-toggleable__content {max-height: 200px;max-width: 100%;overflow: auto;}#sk-container-id-1 input.sk-toggleable__control:checked~label.sk-toggleable__label-arrow:before {content: \"▾\";}#sk-container-id-1 div.sk-estimator input.sk-toggleable__control:checked~label.sk-toggleable__label {background-color: #d4ebff;}#sk-container-id-1 div.sk-label input.sk-toggleable__control:checked~label.sk-toggleable__label {background-color: #d4ebff;}#sk-container-id-1 input.sk-hidden--visually {border: 0;clip: rect(1px 1px 1px 1px);clip: rect(1px, 1px, 1px, 1px);height: 1px;margin: -1px;overflow: hidden;padding: 0;position: absolute;width: 1px;}#sk-container-id-1 div.sk-estimator {font-family: monospace;background-color: #f0f8ff;border: 1px dotted black;border-radius: 0.25em;box-sizing: border-box;margin-bottom: 0.5em;}#sk-container-id-1 div.sk-estimator:hover {background-color: #d4ebff;}#sk-container-id-1 div.sk-parallel-item::after {content: \"\";width: 100%;border-bottom: 1px solid gray;flex-grow: 1;}#sk-container-id-1 div.sk-label:hover label.sk-toggleable__label {background-color: #d4ebff;}#sk-container-id-1 div.sk-serial::before {content: \"\";position: absolute;border-left: 1px solid gray;box-sizing: border-box;top: 0;bottom: 0;left: 50%;z-index: 0;}#sk-container-id-1 div.sk-serial {display: flex;flex-direction: column;align-items: center;background-color: white;padding-right: 0.2em;padding-left: 0.2em;position: relative;}#sk-container-id-1 div.sk-item {position: relative;z-index: 1;}#sk-container-id-1 div.sk-parallel {display: flex;align-items: stretch;justify-content: center;background-color: white;position: relative;}#sk-container-id-1 div.sk-item::before, #sk-container-id-1 div.sk-parallel-item::before {content: \"\";position: absolute;border-left: 1px solid gray;box-sizing: border-box;top: 0;bottom: 0;left: 50%;z-index: -1;}#sk-container-id-1 div.sk-parallel-item {display: flex;flex-direction: column;z-index: 1;position: relative;background-color: white;}#sk-container-id-1 div.sk-parallel-item:first-child::after {align-self: flex-end;width: 50%;}#sk-container-id-1 div.sk-parallel-item:last-child::after {align-self: flex-start;width: 50%;}#sk-container-id-1 div.sk-parallel-item:only-child::after {width: 0;}#sk-container-id-1 div.sk-dashed-wrapped {border: 1px dashed gray;margin: 0 0.4em 0.5em 0.4em;box-sizing: border-box;padding-bottom: 0.4em;background-color: white;}#sk-container-id-1 div.sk-label label {font-family: monospace;font-weight: bold;display: inline-block;line-height: 1.2em;}#sk-container-id-1 div.sk-label-container {text-align: center;}#sk-container-id-1 div.sk-container {/* jupyter's `normalize.less` sets `[hidden] { display: none; }` but bootstrap.min.css set `[hidden] { display: none !important; }` so we also need the `!important` here to be able to override the default hidden behavior on the sphinx rendered scikit-learn.org. See: https://github.com/scikit-learn/scikit-learn/issues/21755 */display: inline-block !important;position: relative;}#sk-container-id-1 div.sk-text-repr-fallback {display: none;}</style><div id=\"sk-container-id-1\" class=\"sk-top-container\"><div class=\"sk-text-repr-fallback\"><pre>Pipeline(steps=[(&#x27;lr_clf&#x27;,\n",
              "                 LogisticRegression(penalty=None, random_state=42,\n",
              "                                    solver=&#x27;saga&#x27;))])</pre><b>In a Jupyter environment, please rerun this cell to show the HTML representation or trust the notebook. <br />On GitHub, the HTML representation is unable to render, please try loading this page with nbviewer.org.</b></div><div class=\"sk-container\" hidden><div class=\"sk-item sk-dashed-wrapped\"><div class=\"sk-label-container\"><div class=\"sk-label sk-toggleable\"><input class=\"sk-toggleable__control sk-hidden--visually\" id=\"sk-estimator-id-1\" type=\"checkbox\" ><label for=\"sk-estimator-id-1\" class=\"sk-toggleable__label sk-toggleable__label-arrow\">Pipeline</label><div class=\"sk-toggleable__content\"><pre>Pipeline(steps=[(&#x27;lr_clf&#x27;,\n",
              "                 LogisticRegression(penalty=None, random_state=42,\n",
              "                                    solver=&#x27;saga&#x27;))])</pre></div></div></div><div class=\"sk-serial\"><div class=\"sk-item\"><div class=\"sk-estimator sk-toggleable\"><input class=\"sk-toggleable__control sk-hidden--visually\" id=\"sk-estimator-id-2\" type=\"checkbox\" ><label for=\"sk-estimator-id-2\" class=\"sk-toggleable__label sk-toggleable__label-arrow\">LogisticRegression</label><div class=\"sk-toggleable__content\"><pre>LogisticRegression(penalty=None, random_state=42, solver=&#x27;saga&#x27;)</pre></div></div></div></div></div></div></div>"
            ]
          },
          "metadata": {},
          "execution_count": 22
        }
      ]
    },
    {
      "cell_type": "code",
      "source": [
        "predicted_lr = lr_ppl_clf.predict(X_test)\n",
        "print(metrics.classification_report(y_test, predicted_lr))\n",
        "print(metrics.accuracy_score(y_test, predicted_lr))\n",
        "print(metrics.precision_score(y_test, predicted_lr, average='macro'))\n",
        "print(metrics.recall_score(y_test, predicted_lr, average='macro'))\n",
        "print(metrics.f1_score(y_test, predicted_lr, average='macro'))"
      ],
      "metadata": {
        "colab": {
          "base_uri": "https://localhost:8080/"
        },
        "id": "dfB4Xw4-KOEc",
        "outputId": "7a147c8e-39a1-47e2-e237-985fd40542c0"
      },
      "execution_count": null,
      "outputs": [
        {
          "output_type": "stream",
          "name": "stdout",
          "text": [
            "                                                                   precision    recall  f1-score   support\n",
            "\n",
            "               Закон, региональный уровень, законодательный орган       0.91      0.89      0.90       329\n",
            "                Закон, федеральный уровень, законодательный орган       0.96      0.96      0.96       347\n",
            " Постановление, региональный уровень, глава исполнительной власти       0.78      0.69      0.73       318\n",
            "       Постановление, региональный уровень, законодательный орган       0.94      0.95      0.94       302\n",
            "Постановление, региональный уровень, органы исполнительной власти       0.96      0.92      0.94       244\n",
            "               Постановление, региональный уровень, правительство       0.73      0.76      0.74       318\n",
            "                Постановление, федеральный уровень, правительство       0.90      0.92      0.91       314\n",
            "       Приказ, региональный уровень, органы исполнительной власти       0.93      0.92      0.92       325\n",
            "        Приказ, федеральный уровень, органы исполнительной власти       0.93      0.95      0.94       315\n",
            "  Распоряжение, региональный уровень, глава исполнительной власти       0.72      0.73      0.73       330\n",
            "                Распоряжение, региональный уровень, правительство       0.74      0.75      0.74       323\n",
            "   Распоряжение, федеральный уровень, глава исполнительной власти       0.88      0.85      0.86       272\n",
            "                 Распоряжение, федеральный уровень, правительство       0.89      0.87      0.88       324\n",
            "          Указ, региональный уровень, глава исполнительной власти       0.75      0.78      0.77       296\n",
            "           Указ, федеральный уровень, глава исполнительной власти       0.84      0.87      0.85       222\n",
            "\n",
            "                                                         accuracy                           0.85      4579\n",
            "                                                        macro avg       0.86      0.86      0.85      4579\n",
            "                                                     weighted avg       0.85      0.85      0.85      4579\n",
            "\n",
            "0.8541166193492029\n",
            "0.8554698569687972\n",
            "0.855095789381758\n",
            "0.8549966162626655\n"
          ]
        }
      ]
    },
    {
      "cell_type": "code",
      "source": [],
      "metadata": {
        "id": "uZ4sKFzhx_xL"
      },
      "execution_count": null,
      "outputs": []
    },
    {
      "cell_type": "code",
      "source": [
        "sgd_ppl_clf = Pipeline([\n",
        "\n",
        "    ('sgd_clf', SGDClassifier(random_state=42))\n",
        "])\n",
        "\n",
        "parameters = {\n",
        "              'sgd_clf__loss':['hinge', 'log', 'modified_huber', 'squared_hinge', 'perceptron'],\n",
        "              'sgd_clf__class_weight':[None, 'balanced'],\n",
        "              'sgd_clf__penalty':[None, 'l2', 'l1', 'elasticnet'],\n",
        "\n",
        "              }\n",
        "model = GridSearchCV(sgd_ppl_clf, parameters, cv=4, n_jobs=-1).fit(X_train[:2000], y_train[:2000])\n",
        "print('Best score and parameter combination:')\n",
        "print(model.best_score_, model.best_params_)"
      ],
      "metadata": {
        "colab": {
          "base_uri": "https://localhost:8080/"
        },
        "id": "z2t8z1Rqx_zc",
        "outputId": "ebf9d026-ba27-41d2-ff0e-fff90c50f3bd"
      },
      "execution_count": null,
      "outputs": [
        {
          "output_type": "stream",
          "name": "stdout",
          "text": [
            "Best score and parameter combination:\n",
            "0.742 {'sgd_clf__class_weight': None, 'sgd_clf__loss': 'hinge', 'sgd_clf__penalty': None}\n"
          ]
        }
      ]
    },
    {
      "cell_type": "code",
      "source": [
        "sgd_ppl_clf = Pipeline([\n",
        "\n",
        "    ('sgd_clf', SGDClassifier(loss='hinge',penalty=None, class_weight=None, random_state=42))\n",
        "])\n",
        "sgd_ppl_clf.fit(X_train, y_train)\n",
        "\n",
        "\n",
        "predicted_sgd_val = sgd_ppl_clf.predict(X_test)\n",
        "print(metrics.classification_report(y_test, predicted_sgd_val))\n",
        "print(metrics.accuracy_score(y_test, predicted_sgd_val), 'accuracy')\n",
        "print(metrics.precision_score(y_test, predicted_sgd_val, average='macro'), 'precision')\n",
        "print(metrics.recall_score(y_test, predicted_sgd_val, average='macro'), 'recall')\n",
        "print(metrics.f1_score(y_test, predicted_sgd_val, average='macro'), 'f1')"
      ],
      "metadata": {
        "colab": {
          "base_uri": "https://localhost:8080/"
        },
        "id": "vju3kocSx_2m",
        "outputId": "72e6c713-3216-4ffb-e6ac-c0cdd768a34e"
      },
      "execution_count": null,
      "outputs": [
        {
          "output_type": "stream",
          "name": "stdout",
          "text": [
            "                                                                   precision    recall  f1-score   support\n",
            "\n",
            "               Закон, региональный уровень, законодательный орган       0.92      0.86      0.89       329\n",
            "                Закон, федеральный уровень, законодательный орган       0.98      0.90      0.94       347\n",
            " Постановление, региональный уровень, глава исполнительной власти       0.54      0.71      0.61       318\n",
            "       Постановление, региональный уровень, законодательный орган       0.96      0.91      0.94       302\n",
            "Постановление, региональный уровень, органы исполнительной власти       0.93      0.91      0.92       244\n",
            "               Постановление, региональный уровень, правительство       0.65      0.59      0.62       318\n",
            "                Постановление, федеральный уровень, правительство       0.85      0.84      0.85       314\n",
            "       Приказ, региональный уровень, органы исполнительной власти       0.93      0.84      0.88       325\n",
            "        Приказ, федеральный уровень, органы исполнительной власти       0.95      0.94      0.94       315\n",
            "  Распоряжение, региональный уровень, глава исполнительной власти       0.69      0.63      0.66       330\n",
            "                Распоряжение, региональный уровень, правительство       0.63      0.68      0.65       323\n",
            "   Распоряжение, федеральный уровень, глава исполнительной власти       0.85      0.78      0.81       272\n",
            "                 Распоряжение, федеральный уровень, правительство       0.74      0.80      0.77       324\n",
            "          Указ, региональный уровень, глава исполнительной власти       0.68      0.77      0.72       296\n",
            "           Указ, федеральный уровень, глава исполнительной власти       0.80      0.77      0.78       222\n",
            "\n",
            "                                                         accuracy                           0.80      4579\n",
            "                                                        macro avg       0.81      0.80      0.80      4579\n",
            "                                                     weighted avg       0.81      0.80      0.80      4579\n",
            "\n",
            "0.7955885564533741 accuracy\n",
            "0.806414531524548 precision\n",
            "0.7968180827277417 recall\n",
            "0.7999113924521077 f1\n"
          ]
        }
      ]
    },
    {
      "cell_type": "code",
      "source": [
        "fr_ppl_clf = Pipeline([\n",
        "\n",
        "    ('rf_clf', RandomForestClassifier(random_state=42))\n",
        "])\n",
        "\n",
        "parameters = {\n",
        "              'rf_clf__n_estimators':[300, 500, 700],\n",
        "              'rf_clf__max_depth':[3, 5, 8, 11],\n",
        "\n",
        "\n",
        "              }\n",
        "model = GridSearchCV(fr_ppl_clf, parameters, cv=4, n_jobs=-1).fit(X_train[:2000], y_train[:2000])\n",
        "print('Best score and parameter combination:')\n",
        "print(model.best_score_, model.best_params_)"
      ],
      "metadata": {
        "colab": {
          "base_uri": "https://localhost:8080/"
        },
        "id": "DqyeaFH77Ls0",
        "outputId": "e9fd5021-86eb-48be-aaea-47435676dc96"
      },
      "execution_count": null,
      "outputs": [
        {
          "output_type": "stream",
          "name": "stdout",
          "text": [
            "Best score and parameter combination:\n",
            "0.754 {'rf_clf__max_depth': 11, 'rf_clf__n_estimators': 700}\n"
          ]
        }
      ]
    },
    {
      "cell_type": "code",
      "source": [
        "fr_ppl_clf = Pipeline([\n",
        "\n",
        "    ('sgd_clf', RandomForestClassifier(n_estimators=700,max_depth=11,  random_state=42))\n",
        "])\n",
        "fr_ppl_clf.fit(X_train, y_train)\n",
        "\n",
        "\n",
        "ppredicted_fr_val = fr_ppl_clf.predict(X_test)\n",
        "print(metrics.classification_report(y_test, ppredicted_fr_val))\n",
        "print(metrics.accuracy_score(y_test, ppredicted_fr_val), 'accuracy')\n",
        "print(metrics.precision_score(y_test, ppredicted_fr_val, average='macro'), 'precision')\n",
        "print(metrics.recall_score(y_test, ppredicted_fr_val, average='macro'), 'recall')\n",
        "print(metrics.f1_score(y_test, ppredicted_fr_val, average='macro'), 'f1')"
      ],
      "metadata": {
        "colab": {
          "base_uri": "https://localhost:8080/"
        },
        "id": "7ZgpjSS37U2j",
        "outputId": "2b6277e1-5c3b-44c6-f191-aa4feffe0e6e"
      },
      "execution_count": null,
      "outputs": [
        {
          "output_type": "stream",
          "name": "stdout",
          "text": [
            "                                                                   precision    recall  f1-score   support\n",
            "\n",
            "               Закон, региональный уровень, законодательный орган       0.82      0.94      0.87       329\n",
            "                Закон, федеральный уровень, законодательный орган       0.96      0.96      0.96       347\n",
            " Постановление, региональный уровень, глава исполнительной власти       0.73      0.65      0.69       318\n",
            "       Постановление, региональный уровень, законодательный орган       0.98      0.87      0.92       302\n",
            "Постановление, региональный уровень, органы исполнительной власти       1.00      0.86      0.93       244\n",
            "               Постановление, региональный уровень, правительство       0.60      0.72      0.65       318\n",
            "                Постановление, федеральный уровень, правительство       0.87      0.89      0.88       314\n",
            "       Приказ, региональный уровень, органы исполнительной власти       0.87      0.88      0.87       325\n",
            "        Приказ, федеральный уровень, органы исполнительной власти       0.90      0.94      0.92       315\n",
            "  Распоряжение, региональный уровень, глава исполнительной власти       0.77      0.68      0.72       330\n",
            "                Распоряжение, региональный уровень, правительство       0.66      0.73      0.69       323\n",
            "   Распоряжение, федеральный уровень, глава исполнительной власти       0.84      0.87      0.86       272\n",
            "                 Распоряжение, федеральный уровень, правительство       0.82      0.88      0.85       324\n",
            "          Указ, региональный уровень, глава исполнительной власти       0.77      0.72      0.74       296\n",
            "           Указ, федеральный уровень, глава исполнительной власти       0.92      0.73      0.82       222\n",
            "\n",
            "                                                         accuracy                           0.82      4579\n",
            "                                                        macro avg       0.83      0.82      0.82      4579\n",
            "                                                     weighted avg       0.83      0.82      0.82      4579\n",
            "\n",
            "0.8226687049574143 accuracy\n",
            "0.8329699924111652 precision\n",
            "0.8210284026691544 recall\n",
            "0.8245389481413867 f1\n"
          ]
        }
      ]
    },
    {
      "cell_type": "markdown",
      "source": [
        "Вместе с td-idf"
      ],
      "metadata": {
        "id": "mBRotpB1_v6F"
      }
    },
    {
      "cell_type": "code",
      "source": [
        "X_train, X_test, y_train, y_test = train_test_split(df_w2v['w2v_simple_idf'], df_w2v['doc_name'], test_size=0.2, random_state=42)\n",
        "X_train = np.vstack(X_train)\n",
        "X_test = np.vstack(X_test)"
      ],
      "metadata": {
        "id": "kaxVhIqn_lik"
      },
      "execution_count": null,
      "outputs": []
    },
    {
      "cell_type": "code",
      "source": [
        "lr_ppl_clf = Pipeline([\n",
        "\n",
        "    ('lr_clf', LogisticRegression(random_state=42))\n",
        "])\n",
        "\n",
        "parameters = {\n",
        "              'lr_clf__solver':['lbfgs', 'newton-cg', 'sag', 'saga'],\n",
        "              'lr_clf__class_weight':[None, 'balanced'],\n",
        "              'lr_clf__penalty':[None, 'l2', 'l1', 'elasticnet'],\n",
        "              }\n",
        "\n",
        "model = GridSearchCV(lr_ppl_clf, parameters, cv=4, n_jobs=-1).fit(X_train[:2000], y_train[:2000])\n",
        "print('Best score and parameter combination:')\n",
        "print(model.best_score_, model.best_params_)"
      ],
      "metadata": {
        "colab": {
          "base_uri": "https://localhost:8080/"
        },
        "id": "ieFiTx8U_2js",
        "outputId": "b3604967-2299-4ce6-fabe-de2eb26d6ad4"
      },
      "execution_count": null,
      "outputs": [
        {
          "output_type": "stream",
          "name": "stderr",
          "text": [
            "/usr/local/lib/python3.10/dist-packages/sklearn/model_selection/_validation.py:378: FitFailedWarning:\n",
            "\n",
            "\n",
            "56 fits failed out of a total of 128.\n",
            "The score on these train-test partitions for these parameters will be set to nan.\n",
            "If these failures are not expected, you can try to debug them by setting error_score='raise'.\n",
            "\n",
            "Below are more details about the failures:\n",
            "--------------------------------------------------------------------------------\n",
            "8 fits failed with the following error:\n",
            "Traceback (most recent call last):\n",
            "  File \"/usr/local/lib/python3.10/dist-packages/sklearn/model_selection/_validation.py\", line 686, in _fit_and_score\n",
            "    estimator.fit(X_train, y_train, **fit_params)\n",
            "  File \"/usr/local/lib/python3.10/dist-packages/sklearn/pipeline.py\", line 405, in fit\n",
            "    self._final_estimator.fit(Xt, y, **fit_params_last_step)\n",
            "  File \"/usr/local/lib/python3.10/dist-packages/sklearn/linear_model/_logistic.py\", line 1162, in fit\n",
            "    solver = _check_solver(self.solver, self.penalty, self.dual)\n",
            "  File \"/usr/local/lib/python3.10/dist-packages/sklearn/linear_model/_logistic.py\", line 54, in _check_solver\n",
            "    raise ValueError(\n",
            "ValueError: Solver lbfgs supports only 'l2' or 'none' penalties, got l1 penalty.\n",
            "\n",
            "--------------------------------------------------------------------------------\n",
            "8 fits failed with the following error:\n",
            "Traceback (most recent call last):\n",
            "  File \"/usr/local/lib/python3.10/dist-packages/sklearn/model_selection/_validation.py\", line 686, in _fit_and_score\n",
            "    estimator.fit(X_train, y_train, **fit_params)\n",
            "  File \"/usr/local/lib/python3.10/dist-packages/sklearn/pipeline.py\", line 405, in fit\n",
            "    self._final_estimator.fit(Xt, y, **fit_params_last_step)\n",
            "  File \"/usr/local/lib/python3.10/dist-packages/sklearn/linear_model/_logistic.py\", line 1162, in fit\n",
            "    solver = _check_solver(self.solver, self.penalty, self.dual)\n",
            "  File \"/usr/local/lib/python3.10/dist-packages/sklearn/linear_model/_logistic.py\", line 54, in _check_solver\n",
            "    raise ValueError(\n",
            "ValueError: Solver newton-cg supports only 'l2' or 'none' penalties, got l1 penalty.\n",
            "\n",
            "--------------------------------------------------------------------------------\n",
            "8 fits failed with the following error:\n",
            "Traceback (most recent call last):\n",
            "  File \"/usr/local/lib/python3.10/dist-packages/sklearn/model_selection/_validation.py\", line 686, in _fit_and_score\n",
            "    estimator.fit(X_train, y_train, **fit_params)\n",
            "  File \"/usr/local/lib/python3.10/dist-packages/sklearn/pipeline.py\", line 405, in fit\n",
            "    self._final_estimator.fit(Xt, y, **fit_params_last_step)\n",
            "  File \"/usr/local/lib/python3.10/dist-packages/sklearn/linear_model/_logistic.py\", line 1162, in fit\n",
            "    solver = _check_solver(self.solver, self.penalty, self.dual)\n",
            "  File \"/usr/local/lib/python3.10/dist-packages/sklearn/linear_model/_logistic.py\", line 54, in _check_solver\n",
            "    raise ValueError(\n",
            "ValueError: Solver sag supports only 'l2' or 'none' penalties, got l1 penalty.\n",
            "\n",
            "--------------------------------------------------------------------------------\n",
            "8 fits failed with the following error:\n",
            "Traceback (most recent call last):\n",
            "  File \"/usr/local/lib/python3.10/dist-packages/sklearn/model_selection/_validation.py\", line 686, in _fit_and_score\n",
            "    estimator.fit(X_train, y_train, **fit_params)\n",
            "  File \"/usr/local/lib/python3.10/dist-packages/sklearn/pipeline.py\", line 405, in fit\n",
            "    self._final_estimator.fit(Xt, y, **fit_params_last_step)\n",
            "  File \"/usr/local/lib/python3.10/dist-packages/sklearn/linear_model/_logistic.py\", line 1162, in fit\n",
            "    solver = _check_solver(self.solver, self.penalty, self.dual)\n",
            "  File \"/usr/local/lib/python3.10/dist-packages/sklearn/linear_model/_logistic.py\", line 54, in _check_solver\n",
            "    raise ValueError(\n",
            "ValueError: Solver lbfgs supports only 'l2' or 'none' penalties, got elasticnet penalty.\n",
            "\n",
            "--------------------------------------------------------------------------------\n",
            "8 fits failed with the following error:\n",
            "Traceback (most recent call last):\n",
            "  File \"/usr/local/lib/python3.10/dist-packages/sklearn/model_selection/_validation.py\", line 686, in _fit_and_score\n",
            "    estimator.fit(X_train, y_train, **fit_params)\n",
            "  File \"/usr/local/lib/python3.10/dist-packages/sklearn/pipeline.py\", line 405, in fit\n",
            "    self._final_estimator.fit(Xt, y, **fit_params_last_step)\n",
            "  File \"/usr/local/lib/python3.10/dist-packages/sklearn/linear_model/_logistic.py\", line 1162, in fit\n",
            "    solver = _check_solver(self.solver, self.penalty, self.dual)\n",
            "  File \"/usr/local/lib/python3.10/dist-packages/sklearn/linear_model/_logistic.py\", line 54, in _check_solver\n",
            "    raise ValueError(\n",
            "ValueError: Solver newton-cg supports only 'l2' or 'none' penalties, got elasticnet penalty.\n",
            "\n",
            "--------------------------------------------------------------------------------\n",
            "8 fits failed with the following error:\n",
            "Traceback (most recent call last):\n",
            "  File \"/usr/local/lib/python3.10/dist-packages/sklearn/model_selection/_validation.py\", line 686, in _fit_and_score\n",
            "    estimator.fit(X_train, y_train, **fit_params)\n",
            "  File \"/usr/local/lib/python3.10/dist-packages/sklearn/pipeline.py\", line 405, in fit\n",
            "    self._final_estimator.fit(Xt, y, **fit_params_last_step)\n",
            "  File \"/usr/local/lib/python3.10/dist-packages/sklearn/linear_model/_logistic.py\", line 1162, in fit\n",
            "    solver = _check_solver(self.solver, self.penalty, self.dual)\n",
            "  File \"/usr/local/lib/python3.10/dist-packages/sklearn/linear_model/_logistic.py\", line 54, in _check_solver\n",
            "    raise ValueError(\n",
            "ValueError: Solver sag supports only 'l2' or 'none' penalties, got elasticnet penalty.\n",
            "\n",
            "--------------------------------------------------------------------------------\n",
            "8 fits failed with the following error:\n",
            "Traceback (most recent call last):\n",
            "  File \"/usr/local/lib/python3.10/dist-packages/sklearn/model_selection/_validation.py\", line 686, in _fit_and_score\n",
            "    estimator.fit(X_train, y_train, **fit_params)\n",
            "  File \"/usr/local/lib/python3.10/dist-packages/sklearn/pipeline.py\", line 405, in fit\n",
            "    self._final_estimator.fit(Xt, y, **fit_params_last_step)\n",
            "  File \"/usr/local/lib/python3.10/dist-packages/sklearn/linear_model/_logistic.py\", line 1291, in fit\n",
            "    fold_coefs_ = Parallel(n_jobs=self.n_jobs, verbose=self.verbose, prefer=prefer)(\n",
            "  File \"/usr/local/lib/python3.10/dist-packages/sklearn/utils/parallel.py\", line 63, in __call__\n",
            "    return super().__call__(iterable_with_config)\n",
            "  File \"/usr/local/lib/python3.10/dist-packages/joblib/parallel.py\", line 1863, in __call__\n",
            "    return output if self.return_generator else list(output)\n",
            "  File \"/usr/local/lib/python3.10/dist-packages/joblib/parallel.py\", line 1792, in _get_sequential_output\n",
            "    res = func(*args, **kwargs)\n",
            "  File \"/usr/local/lib/python3.10/dist-packages/sklearn/utils/parallel.py\", line 123, in __call__\n",
            "    return self.function(*args, **kwargs)\n",
            "  File \"/usr/local/lib/python3.10/dist-packages/sklearn/linear_model/_logistic.py\", line 521, in _logistic_regression_path\n",
            "    alpha = (1.0 / C) * (1 - l1_ratio)\n",
            "TypeError: unsupported operand type(s) for -: 'int' and 'NoneType'\n",
            "\n",
            "\n",
            "/usr/local/lib/python3.10/dist-packages/sklearn/model_selection/_search.py:952: UserWarning:\n",
            "\n",
            "One or more of the test scores are non-finite: [0.778  0.7515 0.7965 0.7795 0.8095 0.81   0.796  0.778     nan    nan\n",
            "    nan 0.778     nan    nan    nan    nan 0.775  0.7505 0.795  0.781\n",
            " 0.811  0.814  0.7935 0.7805    nan    nan    nan 0.7785    nan    nan\n",
            "    nan    nan]\n",
            "\n"
          ]
        },
        {
          "output_type": "stream",
          "name": "stdout",
          "text": [
            "Best score and parameter combination:\n",
            "0.8140000000000001 {'lr_clf__class_weight': 'balanced', 'lr_clf__penalty': 'l2', 'lr_clf__solver': 'newton-cg'}\n"
          ]
        }
      ]
    },
    {
      "cell_type": "code",
      "source": [
        "lr_ppl_clf = Pipeline([\n",
        "\n",
        "    ('lr_clf', LogisticRegression(solver='newton-cg',penalty='l2', class_weight='balanced', random_state=42))\n",
        "])\n",
        "lr_ppl_clf.fit(X_train, y_train)\n",
        "predicted_lr = lr_ppl_clf.predict(X_test)\n",
        "print(metrics.classification_report(y_test, predicted_lr))\n",
        "print(metrics.accuracy_score(y_test, predicted_lr))\n",
        "print(metrics.precision_score(y_test, predicted_lr, average='macro'))\n",
        "print(metrics.recall_score(y_test, predicted_lr, average='macro'))\n",
        "print(metrics.f1_score(y_test, predicted_lr, average='macro'))"
      ],
      "metadata": {
        "colab": {
          "base_uri": "https://localhost:8080/"
        },
        "id": "vRF497un_7Ez",
        "outputId": "23bde766-9014-41f0-bc6c-236d655aedb2"
      },
      "execution_count": null,
      "outputs": [
        {
          "output_type": "stream",
          "name": "stdout",
          "text": [
            "                                                                   precision    recall  f1-score   support\n",
            "\n",
            "               Закон, региональный уровень, законодательный орган       0.91      0.93      0.92       329\n",
            "                Закон, федеральный уровень, законодательный орган       0.98      0.98      0.98       347\n",
            " Постановление, региональный уровень, глава исполнительной власти       0.76      0.71      0.73       318\n",
            "       Постановление, региональный уровень, законодательный орган       0.96      0.95      0.96       302\n",
            "Постановление, региональный уровень, органы исполнительной власти       0.95      0.93      0.94       244\n",
            "               Постановление, региональный уровень, правительство       0.71      0.74      0.72       318\n",
            "                Постановление, федеральный уровень, правительство       0.90      0.93      0.91       314\n",
            "       Приказ, региональный уровень, органы исполнительной власти       0.93      0.93      0.93       325\n",
            "        Приказ, федеральный уровень, органы исполнительной власти       0.96      0.96      0.96       315\n",
            "  Распоряжение, региональный уровень, глава исполнительной власти       0.76      0.75      0.75       330\n",
            "                Распоряжение, региональный уровень, правительство       0.73      0.77      0.75       323\n",
            "   Распоряжение, федеральный уровень, глава исполнительной власти       0.96      0.94      0.95       272\n",
            "                 Распоряжение, федеральный уровень, правительство       0.90      0.90      0.90       324\n",
            "          Указ, региональный уровень, глава исполнительной власти       0.80      0.77      0.79       296\n",
            "           Указ, федеральный уровень, глава исполнительной власти       0.93      0.94      0.94       222\n",
            "\n",
            "                                                         accuracy                           0.87      4579\n",
            "                                                        macro avg       0.88      0.87      0.87      4579\n",
            "                                                     weighted avg       0.87      0.87      0.87      4579\n",
            "\n",
            "0.8720244594889713\n",
            "0.8753821933256674\n",
            "0.8742879493511118\n",
            "0.8746717322507624\n"
          ]
        }
      ]
    },
    {
      "cell_type": "code",
      "source": [
        "sgd_ppl_clf = Pipeline([\n",
        "\n",
        "    ('sgd_clf', SGDClassifier(random_state=42))\n",
        "])\n",
        "\n",
        "parameters = {\n",
        "              'sgd_clf__loss':['hinge', 'log', 'modified_huber', 'squared_hinge', 'perceptron'],\n",
        "              'sgd_clf__class_weight':[None, 'balanced'],\n",
        "              'sgd_clf__penalty':[None, 'l2', 'l1', 'elasticnet'],\n",
        "\n",
        "              }\n",
        "model = GridSearchCV(sgd_ppl_clf, parameters, cv=4, n_jobs=-1).fit(X_train[:2000], y_train[:2000])\n",
        "print('Best score and parameter combination:')\n",
        "print(model.best_score_, model.best_params_)"
      ],
      "metadata": {
        "colab": {
          "base_uri": "https://localhost:8080/"
        },
        "id": "QmVrN_r9ABac",
        "outputId": "d1305f5b-7de9-4fd9-fef9-910a6cdfda2c"
      },
      "execution_count": null,
      "outputs": [
        {
          "output_type": "stream",
          "name": "stdout",
          "text": [
            "Best score and parameter combination:\n",
            "0.7675000000000001 {'sgd_clf__class_weight': 'balanced', 'sgd_clf__loss': 'hinge', 'sgd_clf__penalty': None}\n"
          ]
        }
      ]
    },
    {
      "cell_type": "code",
      "source": [
        "sgd_ppl_clf = Pipeline([\n",
        "\n",
        "    ('sgd_clf', SGDClassifier(loss='hinge',penalty=None, class_weight='balanced', random_state=42))\n",
        "])\n",
        "sgd_ppl_clf.fit(X_train, y_train)\n",
        "\n",
        "\n",
        "predicted_sgd_val = sgd_ppl_clf.predict(X_test)\n",
        "print(metrics.classification_report(y_test, predicted_sgd_val))\n",
        "print(metrics.accuracy_score(y_test, predicted_sgd_val), 'accuracy')\n",
        "print(metrics.precision_score(y_test, predicted_sgd_val, average='macro'), 'precision')\n",
        "print(metrics.recall_score(y_test, predicted_sgd_val, average='macro'), 'recall')\n",
        "print(metrics.f1_score(y_test, predicted_sgd_val, average='macro'), 'f1')"
      ],
      "metadata": {
        "colab": {
          "base_uri": "https://localhost:8080/"
        },
        "id": "DL2OyNtOAE-T",
        "outputId": "c159e710-8567-4783-ba6b-7d804e0b510b"
      },
      "execution_count": null,
      "outputs": [
        {
          "output_type": "stream",
          "name": "stdout",
          "text": [
            "                                                                   precision    recall  f1-score   support\n",
            "\n",
            "               Закон, региональный уровень, законодательный орган       0.90      0.84      0.87       329\n",
            "                Закон, федеральный уровень, законодательный орган       0.99      0.90      0.94       347\n",
            " Постановление, региональный уровень, глава исполнительной власти       0.76      0.22      0.35       318\n",
            "       Постановление, региональный уровень, законодательный орган       0.94      0.92      0.93       302\n",
            "Постановление, региональный уровень, органы исполнительной власти       0.93      0.89      0.91       244\n",
            "               Постановление, региональный уровень, правительство       0.46      0.68      0.55       318\n",
            "                Постановление, федеральный уровень, правительство       0.89      0.85      0.87       314\n",
            "       Приказ, региональный уровень, органы исполнительной власти       0.93      0.82      0.87       325\n",
            "        Приказ, федеральный уровень, органы исполнительной власти       0.96      0.93      0.95       315\n",
            "  Распоряжение, региональный уровень, глава исполнительной власти       0.56      0.70      0.62       330\n",
            "                Распоряжение, региональный уровень, правительство       0.44      0.72      0.54       323\n",
            "   Распоряжение, федеральный уровень, глава исполнительной власти       0.87      0.75      0.80       272\n",
            "                 Распоряжение, федеральный уровень, правительство       0.85      0.65      0.74       324\n",
            "          Указ, региональный уровень, глава исполнительной власти       0.66      0.76      0.71       296\n",
            "           Указ, федеральный уровень, глава исполнительной власти       0.85      0.82      0.83       222\n",
            "\n",
            "                                                         accuracy                           0.76      4579\n",
            "                                                        macro avg       0.80      0.76      0.76      4579\n",
            "                                                     weighted avg       0.80      0.76      0.76      4579\n",
            "\n",
            "0.7593360995850622 accuracy\n",
            "0.7996467761091265 precision\n",
            "0.7623715053483049 recall\n",
            "0.7648734633747851 f1\n"
          ]
        }
      ]
    },
    {
      "cell_type": "code",
      "source": [
        "fr_ppl_clf = Pipeline([\n",
        "\n",
        "    ('rf_clf', RandomForestClassifier(random_state=42))\n",
        "])\n",
        "\n",
        "parameters = {\n",
        "              'rf_clf__n_estimators':[300, 500, 700],\n",
        "              'rf_clf__max_depth':[3, 5, 8, 11],\n",
        "\n",
        "\n",
        "              }\n",
        "model = GridSearchCV(fr_ppl_clf, parameters, cv=4, n_jobs=-1).fit(X_train[:2000], y_train[:2000])\n",
        "print('Best score and parameter combination:')\n",
        "print(model.best_score_, model.best_params_)"
      ],
      "metadata": {
        "colab": {
          "base_uri": "https://localhost:8080/"
        },
        "id": "StSfGyrmAJzu",
        "outputId": "18dfcba9-496e-4690-9d20-76cf174fcbf0"
      },
      "execution_count": null,
      "outputs": [
        {
          "output_type": "stream",
          "name": "stdout",
          "text": [
            "Best score and parameter combination:\n",
            "0.771 {'rf_clf__max_depth': 11, 'rf_clf__n_estimators': 500}\n"
          ]
        }
      ]
    },
    {
      "cell_type": "code",
      "source": [
        "fr_ppl_clf = Pipeline([\n",
        "\n",
        "    ('sgd_clf', RandomForestClassifier(n_estimators=500,max_depth=11,  random_state=42))\n",
        "])\n",
        "fr_ppl_clf.fit(X_train, y_train)\n",
        "\n",
        "\n",
        "ppredicted_fr_val = fr_ppl_clf.predict(X_test)\n",
        "print(metrics.classification_report(y_test, ppredicted_fr_val))\n",
        "print(metrics.accuracy_score(y_test, ppredicted_fr_val), 'accuracy')\n",
        "print(metrics.precision_score(y_test, ppredicted_fr_val, average='macro'), 'precision')\n",
        "print(metrics.recall_score(y_test, ppredicted_fr_val, average='macro'), 'recall')\n",
        "print(metrics.f1_score(y_test, ppredicted_fr_val, average='macro'), 'f1')"
      ],
      "metadata": {
        "colab": {
          "base_uri": "https://localhost:8080/"
        },
        "id": "vSxatP_qAM22",
        "outputId": "4ea7b459-c556-4f46-c5ea-e18062a5689e"
      },
      "execution_count": null,
      "outputs": [
        {
          "output_type": "stream",
          "name": "stdout",
          "text": [
            "                                                                   precision    recall  f1-score   support\n",
            "\n",
            "               Закон, региональный уровень, законодательный орган       0.82      0.92      0.87       329\n",
            "                Закон, федеральный уровень, законодательный орган       0.98      0.96      0.97       347\n",
            " Постановление, региональный уровень, глава исполнительной власти       0.72      0.68      0.70       318\n",
            "       Постановление, региональный уровень, законодательный орган       0.98      0.92      0.95       302\n",
            "Постановление, региональный уровень, органы исполнительной власти       0.98      0.87      0.92       244\n",
            "               Постановление, региональный уровень, правительство       0.61      0.67      0.64       318\n",
            "                Постановление, федеральный уровень, правительство       0.84      0.89      0.87       314\n",
            "       Приказ, региональный уровень, органы исполнительной власти       0.88      0.88      0.88       325\n",
            "        Приказ, федеральный уровень, органы исполнительной власти       0.92      0.94      0.93       315\n",
            "  Распоряжение, региональный уровень, глава исполнительной власти       0.84      0.72      0.78       330\n",
            "                Распоряжение, региональный уровень, правительство       0.71      0.80      0.75       323\n",
            "   Распоряжение, федеральный уровень, глава исполнительной власти       0.91      0.92      0.92       272\n",
            "                 Распоряжение, федеральный уровень, правительство       0.83      0.88      0.86       324\n",
            "          Указ, региональный уровень, глава исполнительной власти       0.76      0.73      0.74       296\n",
            "           Указ, федеральный уровень, глава исполнительной власти       0.97      0.84      0.90       222\n",
            "\n",
            "                                                         accuracy                           0.84      4579\n",
            "                                                        macro avg       0.85      0.84      0.84      4579\n",
            "                                                     weighted avg       0.85      0.84      0.84      4579\n",
            "\n",
            "0.8405765450971828 accuracy\n",
            "0.8496988714855622 precision\n",
            "0.8409485140005604 recall\n",
            "0.8438037552337981 f1\n"
          ]
        }
      ]
    },
    {
      "cell_type": "code",
      "source": [],
      "metadata": {
        "id": "KeKqO7yRAahy"
      },
      "execution_count": null,
      "outputs": []
    },
    {
      "cell_type": "markdown",
      "source": [
        "Преобученный"
      ],
      "metadata": {
        "id": "z34F6jBaBLNS"
      }
    },
    {
      "cell_type": "code",
      "source": [
        "X_train, X_test, y_train, y_test = train_test_split(df_w2v['w2v_simple_pre'], df_w2v['doc_name'], test_size=0.2, random_state=42)\n",
        "X_train = np.vstack(X_train)\n",
        "X_test = np.vstack(X_test)"
      ],
      "metadata": {
        "id": "AY_1FF5sBNNH"
      },
      "execution_count": null,
      "outputs": []
    },
    {
      "cell_type": "code",
      "source": [
        "lr_ppl_clf = Pipeline([\n",
        "\n",
        "    ('lr_clf', LogisticRegression(random_state=42))\n",
        "])\n",
        "\n",
        "parameters = {\n",
        "              'lr_clf__solver':['lbfgs', 'newton-cg', 'sag', 'saga'],\n",
        "              'lr_clf__class_weight':[None, 'balanced'],\n",
        "              'lr_clf__penalty':[None, 'l2', 'l1', 'elasticnet'],\n",
        "              }\n",
        "\n",
        "model = GridSearchCV(lr_ppl_clf, parameters, cv=4, n_jobs=-1).fit(X_train[:2000], y_train[:2000])\n",
        "print('Best score and parameter combination:')\n",
        "print(model.best_score_, model.best_params_)"
      ],
      "metadata": {
        "colab": {
          "base_uri": "https://localhost:8080/"
        },
        "id": "4Y0nnbceAamd",
        "outputId": "ad6db879-96e5-4289-e4a9-4a7ba5104179"
      },
      "execution_count": null,
      "outputs": [
        {
          "output_type": "stream",
          "name": "stderr",
          "text": [
            "/usr/local/lib/python3.10/dist-packages/sklearn/model_selection/_validation.py:378: FitFailedWarning:\n",
            "\n",
            "\n",
            "56 fits failed out of a total of 128.\n",
            "The score on these train-test partitions for these parameters will be set to nan.\n",
            "If these failures are not expected, you can try to debug them by setting error_score='raise'.\n",
            "\n",
            "Below are more details about the failures:\n",
            "--------------------------------------------------------------------------------\n",
            "8 fits failed with the following error:\n",
            "Traceback (most recent call last):\n",
            "  File \"/usr/local/lib/python3.10/dist-packages/sklearn/model_selection/_validation.py\", line 686, in _fit_and_score\n",
            "    estimator.fit(X_train, y_train, **fit_params)\n",
            "  File \"/usr/local/lib/python3.10/dist-packages/sklearn/pipeline.py\", line 405, in fit\n",
            "    self._final_estimator.fit(Xt, y, **fit_params_last_step)\n",
            "  File \"/usr/local/lib/python3.10/dist-packages/sklearn/linear_model/_logistic.py\", line 1162, in fit\n",
            "    solver = _check_solver(self.solver, self.penalty, self.dual)\n",
            "  File \"/usr/local/lib/python3.10/dist-packages/sklearn/linear_model/_logistic.py\", line 54, in _check_solver\n",
            "    raise ValueError(\n",
            "ValueError: Solver lbfgs supports only 'l2' or 'none' penalties, got l1 penalty.\n",
            "\n",
            "--------------------------------------------------------------------------------\n",
            "8 fits failed with the following error:\n",
            "Traceback (most recent call last):\n",
            "  File \"/usr/local/lib/python3.10/dist-packages/sklearn/model_selection/_validation.py\", line 686, in _fit_and_score\n",
            "    estimator.fit(X_train, y_train, **fit_params)\n",
            "  File \"/usr/local/lib/python3.10/dist-packages/sklearn/pipeline.py\", line 405, in fit\n",
            "    self._final_estimator.fit(Xt, y, **fit_params_last_step)\n",
            "  File \"/usr/local/lib/python3.10/dist-packages/sklearn/linear_model/_logistic.py\", line 1162, in fit\n",
            "    solver = _check_solver(self.solver, self.penalty, self.dual)\n",
            "  File \"/usr/local/lib/python3.10/dist-packages/sklearn/linear_model/_logistic.py\", line 54, in _check_solver\n",
            "    raise ValueError(\n",
            "ValueError: Solver newton-cg supports only 'l2' or 'none' penalties, got l1 penalty.\n",
            "\n",
            "--------------------------------------------------------------------------------\n",
            "8 fits failed with the following error:\n",
            "Traceback (most recent call last):\n",
            "  File \"/usr/local/lib/python3.10/dist-packages/sklearn/model_selection/_validation.py\", line 686, in _fit_and_score\n",
            "    estimator.fit(X_train, y_train, **fit_params)\n",
            "  File \"/usr/local/lib/python3.10/dist-packages/sklearn/pipeline.py\", line 405, in fit\n",
            "    self._final_estimator.fit(Xt, y, **fit_params_last_step)\n",
            "  File \"/usr/local/lib/python3.10/dist-packages/sklearn/linear_model/_logistic.py\", line 1162, in fit\n",
            "    solver = _check_solver(self.solver, self.penalty, self.dual)\n",
            "  File \"/usr/local/lib/python3.10/dist-packages/sklearn/linear_model/_logistic.py\", line 54, in _check_solver\n",
            "    raise ValueError(\n",
            "ValueError: Solver sag supports only 'l2' or 'none' penalties, got l1 penalty.\n",
            "\n",
            "--------------------------------------------------------------------------------\n",
            "8 fits failed with the following error:\n",
            "Traceback (most recent call last):\n",
            "  File \"/usr/local/lib/python3.10/dist-packages/sklearn/model_selection/_validation.py\", line 686, in _fit_and_score\n",
            "    estimator.fit(X_train, y_train, **fit_params)\n",
            "  File \"/usr/local/lib/python3.10/dist-packages/sklearn/pipeline.py\", line 405, in fit\n",
            "    self._final_estimator.fit(Xt, y, **fit_params_last_step)\n",
            "  File \"/usr/local/lib/python3.10/dist-packages/sklearn/linear_model/_logistic.py\", line 1162, in fit\n",
            "    solver = _check_solver(self.solver, self.penalty, self.dual)\n",
            "  File \"/usr/local/lib/python3.10/dist-packages/sklearn/linear_model/_logistic.py\", line 54, in _check_solver\n",
            "    raise ValueError(\n",
            "ValueError: Solver lbfgs supports only 'l2' or 'none' penalties, got elasticnet penalty.\n",
            "\n",
            "--------------------------------------------------------------------------------\n",
            "8 fits failed with the following error:\n",
            "Traceback (most recent call last):\n",
            "  File \"/usr/local/lib/python3.10/dist-packages/sklearn/model_selection/_validation.py\", line 686, in _fit_and_score\n",
            "    estimator.fit(X_train, y_train, **fit_params)\n",
            "  File \"/usr/local/lib/python3.10/dist-packages/sklearn/pipeline.py\", line 405, in fit\n",
            "    self._final_estimator.fit(Xt, y, **fit_params_last_step)\n",
            "  File \"/usr/local/lib/python3.10/dist-packages/sklearn/linear_model/_logistic.py\", line 1162, in fit\n",
            "    solver = _check_solver(self.solver, self.penalty, self.dual)\n",
            "  File \"/usr/local/lib/python3.10/dist-packages/sklearn/linear_model/_logistic.py\", line 54, in _check_solver\n",
            "    raise ValueError(\n",
            "ValueError: Solver newton-cg supports only 'l2' or 'none' penalties, got elasticnet penalty.\n",
            "\n",
            "--------------------------------------------------------------------------------\n",
            "8 fits failed with the following error:\n",
            "Traceback (most recent call last):\n",
            "  File \"/usr/local/lib/python3.10/dist-packages/sklearn/model_selection/_validation.py\", line 686, in _fit_and_score\n",
            "    estimator.fit(X_train, y_train, **fit_params)\n",
            "  File \"/usr/local/lib/python3.10/dist-packages/sklearn/pipeline.py\", line 405, in fit\n",
            "    self._final_estimator.fit(Xt, y, **fit_params_last_step)\n",
            "  File \"/usr/local/lib/python3.10/dist-packages/sklearn/linear_model/_logistic.py\", line 1162, in fit\n",
            "    solver = _check_solver(self.solver, self.penalty, self.dual)\n",
            "  File \"/usr/local/lib/python3.10/dist-packages/sklearn/linear_model/_logistic.py\", line 54, in _check_solver\n",
            "    raise ValueError(\n",
            "ValueError: Solver sag supports only 'l2' or 'none' penalties, got elasticnet penalty.\n",
            "\n",
            "--------------------------------------------------------------------------------\n",
            "8 fits failed with the following error:\n",
            "Traceback (most recent call last):\n",
            "  File \"/usr/local/lib/python3.10/dist-packages/sklearn/model_selection/_validation.py\", line 686, in _fit_and_score\n",
            "    estimator.fit(X_train, y_train, **fit_params)\n",
            "  File \"/usr/local/lib/python3.10/dist-packages/sklearn/pipeline.py\", line 405, in fit\n",
            "    self._final_estimator.fit(Xt, y, **fit_params_last_step)\n",
            "  File \"/usr/local/lib/python3.10/dist-packages/sklearn/linear_model/_logistic.py\", line 1291, in fit\n",
            "    fold_coefs_ = Parallel(n_jobs=self.n_jobs, verbose=self.verbose, prefer=prefer)(\n",
            "  File \"/usr/local/lib/python3.10/dist-packages/sklearn/utils/parallel.py\", line 63, in __call__\n",
            "    return super().__call__(iterable_with_config)\n",
            "  File \"/usr/local/lib/python3.10/dist-packages/joblib/parallel.py\", line 1863, in __call__\n",
            "    return output if self.return_generator else list(output)\n",
            "  File \"/usr/local/lib/python3.10/dist-packages/joblib/parallel.py\", line 1792, in _get_sequential_output\n",
            "    res = func(*args, **kwargs)\n",
            "  File \"/usr/local/lib/python3.10/dist-packages/sklearn/utils/parallel.py\", line 123, in __call__\n",
            "    return self.function(*args, **kwargs)\n",
            "  File \"/usr/local/lib/python3.10/dist-packages/sklearn/linear_model/_logistic.py\", line 521, in _logistic_regression_path\n",
            "    alpha = (1.0 / C) * (1 - l1_ratio)\n",
            "TypeError: unsupported operand type(s) for -: 'int' and 'NoneType'\n",
            "\n",
            "\n",
            "/usr/local/lib/python3.10/dist-packages/sklearn/model_selection/_search.py:952: UserWarning:\n",
            "\n",
            "One or more of the test scores are non-finite: [0.6975 0.642  0.695  0.7035 0.659  0.655  0.656  0.6565    nan    nan\n",
            "    nan 0.6525    nan    nan    nan    nan 0.701  0.6415 0.7    0.7065\n",
            " 0.655  0.655  0.6545 0.6545    nan    nan    nan 0.652     nan    nan\n",
            "    nan    nan]\n",
            "\n"
          ]
        },
        {
          "output_type": "stream",
          "name": "stdout",
          "text": [
            "Best score and parameter combination:\n",
            "0.7064999999999999 {'lr_clf__class_weight': 'balanced', 'lr_clf__penalty': None, 'lr_clf__solver': 'saga'}\n"
          ]
        },
        {
          "output_type": "stream",
          "name": "stderr",
          "text": [
            "/usr/local/lib/python3.10/dist-packages/sklearn/linear_model/_sag.py:350: ConvergenceWarning:\n",
            "\n",
            "The max_iter was reached which means the coef_ did not converge\n",
            "\n"
          ]
        }
      ]
    },
    {
      "cell_type": "code",
      "source": [
        "lr_ppl_clf = Pipeline([\n",
        "\n",
        "    ('lr_clf', LogisticRegression(solver='saga',penalty=None, class_weight='balanced', random_state=42))\n",
        "])\n",
        "lr_ppl_clf.fit(X_train, y_train)\n",
        "predicted_lr = lr_ppl_clf.predict(X_test)\n",
        "print(metrics.classification_report(y_test, predicted_lr))\n",
        "print(metrics.accuracy_score(y_test, predicted_lr))\n",
        "print(metrics.precision_score(y_test, predicted_lr, average='macro'))\n",
        "print(metrics.recall_score(y_test, predicted_lr, average='macro'))\n",
        "print(metrics.f1_score(y_test, predicted_lr, average='macro'))"
      ],
      "metadata": {
        "colab": {
          "base_uri": "https://localhost:8080/"
        },
        "id": "C6W3YZQVAcRK",
        "outputId": "f4c5bad3-9d96-4bb6-f9ea-2cbd9ca02c19"
      },
      "execution_count": null,
      "outputs": [
        {
          "output_type": "stream",
          "name": "stderr",
          "text": [
            "/usr/local/lib/python3.10/dist-packages/sklearn/linear_model/_sag.py:350: ConvergenceWarning:\n",
            "\n",
            "The max_iter was reached which means the coef_ did not converge\n",
            "\n"
          ]
        },
        {
          "output_type": "stream",
          "name": "stdout",
          "text": [
            "                                                                   precision    recall  f1-score   support\n",
            "\n",
            "               Закон, региональный уровень, законодательный орган       0.82      0.86      0.84       329\n",
            "                Закон, федеральный уровень, законодательный орган       0.91      0.92      0.91       347\n",
            " Постановление, региональный уровень, глава исполнительной власти       0.66      0.61      0.64       318\n",
            "       Постановление, региональный уровень, законодательный орган       0.86      0.83      0.85       302\n",
            "Постановление, региональный уровень, органы исполнительной власти       0.82      0.89      0.86       244\n",
            "               Постановление, региональный уровень, правительство       0.65      0.62      0.63       318\n",
            "                Постановление, федеральный уровень, правительство       0.80      0.81      0.81       314\n",
            "       Приказ, региональный уровень, органы исполнительной власти       0.76      0.80      0.78       325\n",
            "        Приказ, федеральный уровень, органы исполнительной власти       0.81      0.82      0.81       315\n",
            "  Распоряжение, региональный уровень, глава исполнительной власти       0.70      0.62      0.66       330\n",
            "                Распоряжение, региональный уровень, правительство       0.60      0.60      0.60       323\n",
            "   Распоряжение, федеральный уровень, глава исполнительной власти       0.76      0.80      0.78       272\n",
            "                 Распоряжение, федеральный уровень, правительство       0.79      0.73      0.76       324\n",
            "          Указ, региональный уровень, глава исполнительной власти       0.63      0.69      0.66       296\n",
            "           Указ, федеральный уровень, глава исполнительной власти       0.73      0.75      0.74       222\n",
            "\n",
            "                                                         accuracy                           0.75      4579\n",
            "                                                        macro avg       0.75      0.76      0.75      4579\n",
            "                                                     weighted avg       0.75      0.75      0.75      4579\n",
            "\n",
            "0.7549683336973139\n",
            "0.7536941214921343\n",
            "0.7567842034673311\n",
            "0.7546510103516854\n"
          ]
        }
      ]
    },
    {
      "cell_type": "code",
      "source": [
        "sgd_ppl_clf = Pipeline([\n",
        "\n",
        "    ('sgd_clf', SGDClassifier(random_state=42))\n",
        "])\n",
        "\n",
        "parameters = {\n",
        "              'sgd_clf__loss':['hinge', 'log', 'modified_huber', 'squared_hinge', 'perceptron'],\n",
        "              'sgd_clf__class_weight':[None, 'balanced'],\n",
        "              'sgd_clf__penalty':[None, 'l2', 'l1', 'elasticnet'],\n",
        "\n",
        "              }\n",
        "model = GridSearchCV(sgd_ppl_clf, parameters, cv=4, n_jobs=-1).fit(X_train[:2000], y_train[:2000])\n",
        "print('Best score and parameter combination:')\n",
        "print(model.best_score_, model.best_params_)"
      ],
      "metadata": {
        "colab": {
          "base_uri": "https://localhost:8080/"
        },
        "id": "HnBtSOOTAcgi",
        "outputId": "ae90b0d4-2e26-4873-d807-ef5e9c8ce24f"
      },
      "execution_count": null,
      "outputs": [
        {
          "output_type": "stream",
          "name": "stderr",
          "text": [
            "/usr/local/lib/python3.10/dist-packages/sklearn/linear_model/_stochastic_gradient.py:163: FutureWarning:\n",
            "\n",
            "The loss 'log' was deprecated in v1.1 and will be removed in version 1.3. Use `loss='log_loss'` which is equivalent.\n",
            "\n"
          ]
        },
        {
          "output_type": "stream",
          "name": "stdout",
          "text": [
            "Best score and parameter combination:\n",
            "0.662 {'sgd_clf__class_weight': None, 'sgd_clf__loss': 'log', 'sgd_clf__penalty': 'l1'}\n"
          ]
        }
      ]
    },
    {
      "cell_type": "code",
      "source": [
        "sgd_ppl_clf = Pipeline([\n",
        "\n",
        "    ('sgd_clf', SGDClassifier(loss='log_loss',penalty='l1', class_weight=None, random_state=42))\n",
        "])\n",
        "sgd_ppl_clf.fit(X_train, y_train)\n",
        "\n",
        "\n",
        "predicted_sgd_val = sgd_ppl_clf.predict(X_test)\n",
        "print(metrics.classification_report(y_test, predicted_sgd_val))\n",
        "print(metrics.accuracy_score(y_test, predicted_sgd_val), 'accuracy')\n",
        "print(metrics.precision_score(y_test, predicted_sgd_val, average='macro'), 'precision')\n",
        "print(metrics.recall_score(y_test, predicted_sgd_val, average='macro'), 'recall')\n",
        "print(metrics.f1_score(y_test, predicted_sgd_val, average='macro'), 'f1')"
      ],
      "metadata": {
        "colab": {
          "base_uri": "https://localhost:8080/"
        },
        "id": "FeskllhUAz5Z",
        "outputId": "e7f066f1-a756-4974-c33e-35f37b347c74"
      },
      "execution_count": null,
      "outputs": [
        {
          "output_type": "stream",
          "name": "stdout",
          "text": [
            "                                                                   precision    recall  f1-score   support\n",
            "\n",
            "               Закон, региональный уровень, законодательный орган       0.80      0.81      0.81       329\n",
            "                Закон, федеральный уровень, законодательный орган       0.91      0.89      0.90       347\n",
            " Постановление, региональный уровень, глава исполнительной власти       0.59      0.56      0.58       318\n",
            "       Постановление, региональный уровень, законодательный орган       0.82      0.84      0.83       302\n",
            "Постановление, региональный уровень, органы исполнительной власти       0.89      0.85      0.87       244\n",
            "               Постановление, региональный уровень, правительство       0.62      0.56      0.59       318\n",
            "                Постановление, федеральный уровень, правительство       0.76      0.82      0.79       314\n",
            "       Приказ, региональный уровень, органы исполнительной власти       0.76      0.76      0.76       325\n",
            "        Приказ, федеральный уровень, органы исполнительной власти       0.77      0.76      0.76       315\n",
            "  Распоряжение, региональный уровень, глава исполнительной власти       0.69      0.60      0.64       330\n",
            "                Распоряжение, региональный уровень, правительство       0.54      0.62      0.58       323\n",
            "   Распоряжение, федеральный уровень, глава исполнительной власти       0.76      0.74      0.75       272\n",
            "                 Распоряжение, федеральный уровень, правительство       0.73      0.68      0.70       324\n",
            "          Указ, региональный уровень, глава исполнительной власти       0.57      0.67      0.62       296\n",
            "           Указ, федеральный уровень, глава исполнительной власти       0.71      0.72      0.71       222\n",
            "\n",
            "                                                         accuracy                           0.72      4579\n",
            "                                                        macro avg       0.73      0.73      0.73      4579\n",
            "                                                     weighted avg       0.73      0.72      0.72      4579\n",
            "\n",
            "0.7239571958943001 accuracy\n",
            "0.7276351075955751 precision\n",
            "0.7253694884338782 recall\n",
            "0.7255245692482883 f1\n"
          ]
        }
      ]
    },
    {
      "cell_type": "code",
      "source": [
        "fr_ppl_clf = Pipeline([\n",
        "\n",
        "    ('rf_clf', RandomForestClassifier(random_state=42))\n",
        "])\n",
        "\n",
        "parameters = {\n",
        "              'rf_clf__n_estimators':[300, 500, 700],\n",
        "              'rf_clf__max_depth':[3, 5, 8, 11],\n",
        "\n",
        "\n",
        "              }\n",
        "model = GridSearchCV(fr_ppl_clf, parameters, cv=4, n_jobs=-1).fit(X_train[:2000], y_train[:2000])\n",
        "print('Best score and parameter combination:')\n",
        "print(model.best_score_, model.best_params_)"
      ],
      "metadata": {
        "colab": {
          "base_uri": "https://localhost:8080/"
        },
        "id": "jDMY7qO_Az77",
        "outputId": "7af91721-dc99-404f-b0cf-8a865e9575cf"
      },
      "execution_count": null,
      "outputs": [
        {
          "output_type": "stream",
          "name": "stdout",
          "text": [
            "Best score and parameter combination:\n",
            "0.6765 {'rf_clf__max_depth': 11, 'rf_clf__n_estimators': 500}\n"
          ]
        }
      ]
    },
    {
      "cell_type": "code",
      "source": [
        "fr_ppl_clf = Pipeline([\n",
        "\n",
        "    ('sgd_clf', RandomForestClassifier(n_estimators=500,max_depth=11,  random_state=42))\n",
        "])\n",
        "fr_ppl_clf.fit(X_train, y_train)\n",
        "\n",
        "\n",
        "ppredicted_fr_val = fr_ppl_clf.predict(X_test)\n",
        "print(metrics.classification_report(y_test, ppredicted_fr_val))\n",
        "print(metrics.accuracy_score(y_test, ppredicted_fr_val), 'accuracy')\n",
        "print(metrics.precision_score(y_test, ppredicted_fr_val, average='macro'), 'precision')\n",
        "print(metrics.recall_score(y_test, ppredicted_fr_val, average='macro'), 'recall')\n",
        "print(metrics.f1_score(y_test, ppredicted_fr_val, average='macro'), 'f1')"
      ],
      "metadata": {
        "colab": {
          "base_uri": "https://localhost:8080/"
        },
        "id": "2xzLgPPFAcmo",
        "outputId": "8f876552-5ca5-472a-b6ba-18768952b511"
      },
      "execution_count": null,
      "outputs": [
        {
          "output_type": "stream",
          "name": "stdout",
          "text": [
            "                                                                   precision    recall  f1-score   support\n",
            "\n",
            "               Закон, региональный уровень, законодательный орган       0.73      0.90      0.80       329\n",
            "                Закон, федеральный уровень, законодательный орган       0.93      0.90      0.92       347\n",
            " Постановление, региональный уровень, глава исполнительной власти       0.69      0.58      0.63       318\n",
            "       Постановление, региональный уровень, законодательный орган       0.92      0.80      0.86       302\n",
            "Постановление, региональный уровень, органы исполнительной власти       0.97      0.86      0.91       244\n",
            "               Постановление, региональный уровень, правительство       0.55      0.64      0.59       318\n",
            "                Постановление, федеральный уровень, правительство       0.74      0.85      0.79       314\n",
            "       Приказ, региональный уровень, органы исполнительной власти       0.74      0.82      0.78       325\n",
            "        Приказ, федеральный уровень, органы исполнительной власти       0.77      0.89      0.83       315\n",
            "  Распоряжение, региональный уровень, глава исполнительной власти       0.79      0.64      0.70       330\n",
            "                Распоряжение, региональный уровень, правительство       0.61      0.64      0.63       323\n",
            "   Распоряжение, федеральный уровень, глава исполнительной власти       0.85      0.81      0.83       272\n",
            "                 Распоряжение, федеральный уровень, правительство       0.81      0.74      0.77       324\n",
            "          Указ, региональный уровень, глава исполнительной власти       0.67      0.64      0.65       296\n",
            "           Указ, федеральный уровень, глава исполнительной власти       0.83      0.71      0.77       222\n",
            "\n",
            "                                                         accuracy                           0.76      4579\n",
            "                                                        macro avg       0.77      0.76      0.76      4579\n",
            "                                                     weighted avg       0.77      0.76      0.76      4579\n",
            "\n",
            "0.7617383708233239 accuracy\n",
            "0.7726855891499559 precision\n",
            "0.7616056802957349 recall\n",
            "0.7638945486887042 f1\n"
          ]
        }
      ]
    },
    {
      "cell_type": "code",
      "source": [],
      "metadata": {
        "id": "i5Q5WfqeAcsN"
      },
      "execution_count": null,
      "outputs": []
    },
    {
      "cell_type": "code",
      "source": [],
      "metadata": {
        "id": "L-kcdFG4Acww"
      },
      "execution_count": null,
      "outputs": []
    },
    {
      "cell_type": "markdown",
      "source": [
        "Предобученный с td-idf"
      ],
      "metadata": {
        "id": "QGGcL1y5BO22"
      }
    },
    {
      "cell_type": "code",
      "source": [
        "X_train, X_test, y_train, y_test = train_test_split(df_w2v['w2v_simple_idf_pre'], df_w2v['doc_name'], test_size=0.2, random_state=42)\n",
        "X_train = np.vstack(X_train)\n",
        "X_test = np.vstack(X_test)"
      ],
      "metadata": {
        "id": "t58r0AILBRrI"
      },
      "execution_count": null,
      "outputs": []
    },
    {
      "cell_type": "code",
      "source": [
        "lr_ppl_clf = Pipeline([\n",
        "\n",
        "    ('lr_clf', LogisticRegression(random_state=42))\n",
        "])\n",
        "\n",
        "parameters = {\n",
        "              'lr_clf__solver':['lbfgs', 'newton-cg', 'sag', 'saga'],\n",
        "              'lr_clf__class_weight':[None, 'balanced'],\n",
        "              'lr_clf__penalty':[None, 'l2', 'l1', 'elasticnet'],\n",
        "              }\n",
        "\n",
        "model = GridSearchCV(lr_ppl_clf, parameters, cv=4, n_jobs=-1).fit(X_train[:2000], y_train[:2000])\n",
        "print('Best score and parameter combination:')\n",
        "print(model.best_score_, model.best_params_)"
      ],
      "metadata": {
        "colab": {
          "base_uri": "https://localhost:8080/"
        },
        "id": "18kOzWqoAc3V",
        "outputId": "2f01c55c-64e7-4d50-e014-2fef4df9895b"
      },
      "execution_count": null,
      "outputs": [
        {
          "output_type": "stream",
          "name": "stderr",
          "text": [
            "/usr/local/lib/python3.10/dist-packages/sklearn/model_selection/_validation.py:378: FitFailedWarning:\n",
            "\n",
            "\n",
            "56 fits failed out of a total of 128.\n",
            "The score on these train-test partitions for these parameters will be set to nan.\n",
            "If these failures are not expected, you can try to debug them by setting error_score='raise'.\n",
            "\n",
            "Below are more details about the failures:\n",
            "--------------------------------------------------------------------------------\n",
            "8 fits failed with the following error:\n",
            "Traceback (most recent call last):\n",
            "  File \"/usr/local/lib/python3.10/dist-packages/sklearn/model_selection/_validation.py\", line 686, in _fit_and_score\n",
            "    estimator.fit(X_train, y_train, **fit_params)\n",
            "  File \"/usr/local/lib/python3.10/dist-packages/sklearn/pipeline.py\", line 405, in fit\n",
            "    self._final_estimator.fit(Xt, y, **fit_params_last_step)\n",
            "  File \"/usr/local/lib/python3.10/dist-packages/sklearn/linear_model/_logistic.py\", line 1162, in fit\n",
            "    solver = _check_solver(self.solver, self.penalty, self.dual)\n",
            "  File \"/usr/local/lib/python3.10/dist-packages/sklearn/linear_model/_logistic.py\", line 54, in _check_solver\n",
            "    raise ValueError(\n",
            "ValueError: Solver lbfgs supports only 'l2' or 'none' penalties, got l1 penalty.\n",
            "\n",
            "--------------------------------------------------------------------------------\n",
            "8 fits failed with the following error:\n",
            "Traceback (most recent call last):\n",
            "  File \"/usr/local/lib/python3.10/dist-packages/sklearn/model_selection/_validation.py\", line 686, in _fit_and_score\n",
            "    estimator.fit(X_train, y_train, **fit_params)\n",
            "  File \"/usr/local/lib/python3.10/dist-packages/sklearn/pipeline.py\", line 405, in fit\n",
            "    self._final_estimator.fit(Xt, y, **fit_params_last_step)\n",
            "  File \"/usr/local/lib/python3.10/dist-packages/sklearn/linear_model/_logistic.py\", line 1162, in fit\n",
            "    solver = _check_solver(self.solver, self.penalty, self.dual)\n",
            "  File \"/usr/local/lib/python3.10/dist-packages/sklearn/linear_model/_logistic.py\", line 54, in _check_solver\n",
            "    raise ValueError(\n",
            "ValueError: Solver newton-cg supports only 'l2' or 'none' penalties, got l1 penalty.\n",
            "\n",
            "--------------------------------------------------------------------------------\n",
            "8 fits failed with the following error:\n",
            "Traceback (most recent call last):\n",
            "  File \"/usr/local/lib/python3.10/dist-packages/sklearn/model_selection/_validation.py\", line 686, in _fit_and_score\n",
            "    estimator.fit(X_train, y_train, **fit_params)\n",
            "  File \"/usr/local/lib/python3.10/dist-packages/sklearn/pipeline.py\", line 405, in fit\n",
            "    self._final_estimator.fit(Xt, y, **fit_params_last_step)\n",
            "  File \"/usr/local/lib/python3.10/dist-packages/sklearn/linear_model/_logistic.py\", line 1162, in fit\n",
            "    solver = _check_solver(self.solver, self.penalty, self.dual)\n",
            "  File \"/usr/local/lib/python3.10/dist-packages/sklearn/linear_model/_logistic.py\", line 54, in _check_solver\n",
            "    raise ValueError(\n",
            "ValueError: Solver sag supports only 'l2' or 'none' penalties, got l1 penalty.\n",
            "\n",
            "--------------------------------------------------------------------------------\n",
            "8 fits failed with the following error:\n",
            "Traceback (most recent call last):\n",
            "  File \"/usr/local/lib/python3.10/dist-packages/sklearn/model_selection/_validation.py\", line 686, in _fit_and_score\n",
            "    estimator.fit(X_train, y_train, **fit_params)\n",
            "  File \"/usr/local/lib/python3.10/dist-packages/sklearn/pipeline.py\", line 405, in fit\n",
            "    self._final_estimator.fit(Xt, y, **fit_params_last_step)\n",
            "  File \"/usr/local/lib/python3.10/dist-packages/sklearn/linear_model/_logistic.py\", line 1162, in fit\n",
            "    solver = _check_solver(self.solver, self.penalty, self.dual)\n",
            "  File \"/usr/local/lib/python3.10/dist-packages/sklearn/linear_model/_logistic.py\", line 54, in _check_solver\n",
            "    raise ValueError(\n",
            "ValueError: Solver lbfgs supports only 'l2' or 'none' penalties, got elasticnet penalty.\n",
            "\n",
            "--------------------------------------------------------------------------------\n",
            "8 fits failed with the following error:\n",
            "Traceback (most recent call last):\n",
            "  File \"/usr/local/lib/python3.10/dist-packages/sklearn/model_selection/_validation.py\", line 686, in _fit_and_score\n",
            "    estimator.fit(X_train, y_train, **fit_params)\n",
            "  File \"/usr/local/lib/python3.10/dist-packages/sklearn/pipeline.py\", line 405, in fit\n",
            "    self._final_estimator.fit(Xt, y, **fit_params_last_step)\n",
            "  File \"/usr/local/lib/python3.10/dist-packages/sklearn/linear_model/_logistic.py\", line 1162, in fit\n",
            "    solver = _check_solver(self.solver, self.penalty, self.dual)\n",
            "  File \"/usr/local/lib/python3.10/dist-packages/sklearn/linear_model/_logistic.py\", line 54, in _check_solver\n",
            "    raise ValueError(\n",
            "ValueError: Solver newton-cg supports only 'l2' or 'none' penalties, got elasticnet penalty.\n",
            "\n",
            "--------------------------------------------------------------------------------\n",
            "8 fits failed with the following error:\n",
            "Traceback (most recent call last):\n",
            "  File \"/usr/local/lib/python3.10/dist-packages/sklearn/model_selection/_validation.py\", line 686, in _fit_and_score\n",
            "    estimator.fit(X_train, y_train, **fit_params)\n",
            "  File \"/usr/local/lib/python3.10/dist-packages/sklearn/pipeline.py\", line 405, in fit\n",
            "    self._final_estimator.fit(Xt, y, **fit_params_last_step)\n",
            "  File \"/usr/local/lib/python3.10/dist-packages/sklearn/linear_model/_logistic.py\", line 1162, in fit\n",
            "    solver = _check_solver(self.solver, self.penalty, self.dual)\n",
            "  File \"/usr/local/lib/python3.10/dist-packages/sklearn/linear_model/_logistic.py\", line 54, in _check_solver\n",
            "    raise ValueError(\n",
            "ValueError: Solver sag supports only 'l2' or 'none' penalties, got elasticnet penalty.\n",
            "\n",
            "--------------------------------------------------------------------------------\n",
            "8 fits failed with the following error:\n",
            "Traceback (most recent call last):\n",
            "  File \"/usr/local/lib/python3.10/dist-packages/sklearn/model_selection/_validation.py\", line 686, in _fit_and_score\n",
            "    estimator.fit(X_train, y_train, **fit_params)\n",
            "  File \"/usr/local/lib/python3.10/dist-packages/sklearn/pipeline.py\", line 405, in fit\n",
            "    self._final_estimator.fit(Xt, y, **fit_params_last_step)\n",
            "  File \"/usr/local/lib/python3.10/dist-packages/sklearn/linear_model/_logistic.py\", line 1291, in fit\n",
            "    fold_coefs_ = Parallel(n_jobs=self.n_jobs, verbose=self.verbose, prefer=prefer)(\n",
            "  File \"/usr/local/lib/python3.10/dist-packages/sklearn/utils/parallel.py\", line 63, in __call__\n",
            "    return super().__call__(iterable_with_config)\n",
            "  File \"/usr/local/lib/python3.10/dist-packages/joblib/parallel.py\", line 1863, in __call__\n",
            "    return output if self.return_generator else list(output)\n",
            "  File \"/usr/local/lib/python3.10/dist-packages/joblib/parallel.py\", line 1792, in _get_sequential_output\n",
            "    res = func(*args, **kwargs)\n",
            "  File \"/usr/local/lib/python3.10/dist-packages/sklearn/utils/parallel.py\", line 123, in __call__\n",
            "    return self.function(*args, **kwargs)\n",
            "  File \"/usr/local/lib/python3.10/dist-packages/sklearn/linear_model/_logistic.py\", line 521, in _logistic_regression_path\n",
            "    alpha = (1.0 / C) * (1 - l1_ratio)\n",
            "TypeError: unsupported operand type(s) for -: 'int' and 'NoneType'\n",
            "\n",
            "\n",
            "/usr/local/lib/python3.10/dist-packages/sklearn/model_selection/_search.py:952: UserWarning:\n",
            "\n",
            "One or more of the test scores are non-finite: [0.701  0.651  0.6945 0.681  0.7095 0.716  0.694  0.6815    nan    nan\n",
            "    nan 0.6805    nan    nan    nan    nan 0.703  0.6505 0.7025 0.68\n",
            " 0.7095 0.715  0.699  0.6795    nan    nan    nan 0.674     nan    nan\n",
            "    nan    nan]\n",
            "\n"
          ]
        },
        {
          "output_type": "stream",
          "name": "stdout",
          "text": [
            "Best score and parameter combination:\n",
            "0.716 {'lr_clf__class_weight': None, 'lr_clf__penalty': 'l2', 'lr_clf__solver': 'newton-cg'}\n"
          ]
        }
      ]
    },
    {
      "cell_type": "code",
      "source": [
        "lr_ppl_clf = Pipeline([\n",
        "\n",
        "    ('lr_clf', LogisticRegression(solver='newton-cg',penalty='l2', class_weight='balanced', random_state=42))\n",
        "])\n",
        "lr_ppl_clf.fit(X_train, y_train)\n",
        "predicted_lr = lr_ppl_clf.predict(X_test)\n",
        "print(metrics.classification_report(y_test, predicted_lr))\n",
        "print(metrics.accuracy_score(y_test, predicted_lr))\n",
        "print(metrics.precision_score(y_test, predicted_lr, average='macro'))\n",
        "print(metrics.recall_score(y_test, predicted_lr, average='macro'))\n",
        "print(metrics.f1_score(y_test, predicted_lr, average='macro'))"
      ],
      "metadata": {
        "colab": {
          "base_uri": "https://localhost:8080/"
        },
        "id": "IFBG1BgxAhl0",
        "outputId": "206bb038-b82d-4848-eab7-fac80364a994"
      },
      "execution_count": null,
      "outputs": [
        {
          "output_type": "stream",
          "name": "stdout",
          "text": [
            "                                                                   precision    recall  f1-score   support\n",
            "\n",
            "               Закон, региональный уровень, законодательный орган       0.81      0.87      0.84       329\n",
            "                Закон, федеральный уровень, законодательный орган       0.95      0.99      0.97       347\n",
            " Постановление, региональный уровень, глава исполнительной власти       0.63      0.62      0.62       318\n",
            "       Постановление, региональный уровень, законодательный орган       0.91      0.81      0.86       302\n",
            "Постановление, региональный уровень, органы исполнительной власти       0.82      0.89      0.85       244\n",
            "               Постановление, региональный уровень, правительство       0.62      0.63      0.63       318\n",
            "                Постановление, федеральный уровень, правительство       0.82      0.88      0.85       314\n",
            "       Приказ, региональный уровень, органы исполнительной власти       0.80      0.80      0.80       325\n",
            "        Приказ, федеральный уровень, органы исполнительной власти       0.86      0.88      0.87       315\n",
            "  Распоряжение, региональный уровень, глава исполнительной власти       0.71      0.61      0.66       330\n",
            "                Распоряжение, региональный уровень, правительство       0.61      0.65      0.63       323\n",
            "   Распоряжение, федеральный уровень, глава исполнительной власти       0.87      0.88      0.87       272\n",
            "                 Распоряжение, федеральный уровень, правительство       0.81      0.82      0.82       324\n",
            "          Указ, региональный уровень, глава исполнительной власти       0.68      0.62      0.65       296\n",
            "           Указ, федеральный уровень, глава исполнительной власти       0.87      0.83      0.85       222\n",
            "\n",
            "                                                         accuracy                           0.78      4579\n",
            "                                                        macro avg       0.78      0.78      0.78      4579\n",
            "                                                     weighted avg       0.78      0.78      0.78      4579\n",
            "\n",
            "0.7824852587901289\n",
            "0.7842483571417844\n",
            "0.7845271841267613\n",
            "0.783530912034698\n"
          ]
        }
      ]
    },
    {
      "cell_type": "code",
      "source": [],
      "metadata": {
        "id": "WIfP2pdqAxfv"
      },
      "execution_count": null,
      "outputs": []
    },
    {
      "cell_type": "code",
      "source": [
        "sgd_ppl_clf = Pipeline([\n",
        "\n",
        "    ('sgd_clf', SGDClassifier(random_state=42))\n",
        "])\n",
        "\n",
        "parameters = {\n",
        "              'sgd_clf__loss':['hinge', 'log', 'modified_huber', 'squared_hinge', 'perceptron'],\n",
        "              'sgd_clf__class_weight':[None, 'balanced'],\n",
        "              'sgd_clf__penalty':[None, 'l2', 'l1', 'elasticnet'],\n",
        "\n",
        "              }\n",
        "model = GridSearchCV(sgd_ppl_clf, parameters, cv=4, n_jobs=-1).fit(X_train[:2000], y_train[:2000])\n",
        "print('Best score and parameter combination:')\n",
        "print(model.best_score_, model.best_params_)"
      ],
      "metadata": {
        "colab": {
          "base_uri": "https://localhost:8080/"
        },
        "id": "BlpctC_aAxiI",
        "outputId": "0815a243-0908-4462-811a-c70ad6fc4234"
      },
      "execution_count": null,
      "outputs": [
        {
          "output_type": "stream",
          "name": "stdout",
          "text": [
            "Best score and parameter combination:\n",
            "0.664 {'sgd_clf__class_weight': None, 'sgd_clf__loss': 'perceptron', 'sgd_clf__penalty': None}\n"
          ]
        }
      ]
    },
    {
      "cell_type": "code",
      "source": [
        "sgd_ppl_clf = Pipeline([\n",
        "\n",
        "    ('sgd_clf', SGDClassifier(loss='perceptron',penalty='l1', class_weight=None, random_state=42))\n",
        "])\n",
        "sgd_ppl_clf.fit(X_train, y_train)\n",
        "\n",
        "\n",
        "predicted_sgd_val = sgd_ppl_clf.predict(X_test)\n",
        "print(metrics.classification_report(y_test, predicted_sgd_val))\n",
        "print(metrics.accuracy_score(y_test, predicted_sgd_val), 'accuracy')\n",
        "print(metrics.precision_score(y_test, predicted_sgd_val, average='macro'), 'precision')\n",
        "print(metrics.recall_score(y_test, predicted_sgd_val, average='macro'), 'recall')\n",
        "print(metrics.f1_score(y_test, predicted_sgd_val, average='macro'), 'f1')"
      ],
      "metadata": {
        "colab": {
          "base_uri": "https://localhost:8080/"
        },
        "id": "mnF4WMxpA4cE",
        "outputId": "d7b9bb73-5ac2-4213-bbc7-3671294b5744"
      },
      "execution_count": null,
      "outputs": [
        {
          "output_type": "stream",
          "name": "stdout",
          "text": [
            "                                                                   precision    recall  f1-score   support\n",
            "\n",
            "               Закон, региональный уровень, законодательный орган       0.86      0.75      0.80       329\n",
            "                Закон, федеральный уровень, законодательный орган       0.99      0.96      0.97       347\n",
            " Постановление, региональный уровень, глава исполнительной власти       0.28      0.85      0.42       318\n",
            "       Постановление, региональный уровень, законодательный орган       0.89      0.79      0.84       302\n",
            "Постановление, региональный уровень, органы исполнительной власти       0.83      0.79      0.81       244\n",
            "               Постановление, региональный уровень, правительство       0.83      0.19      0.32       318\n",
            "                Постановление, федеральный уровень, правительство       0.85      0.78      0.81       314\n",
            "       Приказ, региональный уровень, органы исполнительной власти       0.80      0.70      0.75       325\n",
            "        Приказ, федеральный уровень, органы исполнительной власти       0.85      0.69      0.76       315\n",
            "  Распоряжение, региональный уровень, глава исполнительной власти       0.32      0.53      0.40       330\n",
            "                Распоряжение, региональный уровень, правительство       0.54      0.49      0.51       323\n",
            "   Распоряжение, федеральный уровень, глава исполнительной власти       0.80      0.59      0.68       272\n",
            "                 Распоряжение, федеральный уровень, правительство       0.79      0.51      0.62       324\n",
            "          Указ, региональный уровень, глава исполнительной власти       0.81      0.30      0.44       296\n",
            "           Указ, федеральный уровень, глава исполнительной власти       0.73      0.66      0.70       222\n",
            "\n",
            "                                                         accuracy                           0.64      4579\n",
            "                                                        macro avg       0.74      0.64      0.65      4579\n",
            "                                                     weighted avg       0.74      0.64      0.65      4579\n",
            "\n",
            "0.6394409259663683 accuracy\n",
            "0.7432572363342157 precision\n",
            "0.6391013843890858 recall\n",
            "0.653887869858649 f1\n"
          ]
        }
      ]
    },
    {
      "cell_type": "code",
      "source": [
        "fr_ppl_clf = Pipeline([\n",
        "\n",
        "    ('rf_clf', RandomForestClassifier(random_state=42))\n",
        "])\n",
        "\n",
        "parameters = {\n",
        "              'rf_clf__n_estimators':[300, 500, 700],\n",
        "              'rf_clf__max_depth':[3, 5, 8, 11],\n",
        "\n",
        "\n",
        "              }\n",
        "model = GridSearchCV(fr_ppl_clf, parameters, cv=4, n_jobs=-1).fit(X_train[:2000], y_train[:2000])\n",
        "print('Best score and parameter combination:')\n",
        "print(model.best_score_, model.best_params_)"
      ],
      "metadata": {
        "colab": {
          "base_uri": "https://localhost:8080/"
        },
        "id": "tRXgufWEBAJH",
        "outputId": "530cf1f4-5f9d-4ebb-db3c-c58452653f66"
      },
      "execution_count": null,
      "outputs": [
        {
          "output_type": "stream",
          "name": "stdout",
          "text": [
            "Best score and parameter combination:\n",
            "0.7545 {'rf_clf__max_depth': 11, 'rf_clf__n_estimators': 700}\n"
          ]
        }
      ]
    },
    {
      "cell_type": "code",
      "source": [
        "fr_ppl_clf = Pipeline([\n",
        "\n",
        "    ('sgd_clf', RandomForestClassifier(n_estimators=700,max_depth=11,  random_state=42))\n",
        "])\n",
        "fr_ppl_clf.fit(X_train, y_train)\n",
        "\n",
        "\n",
        "ppredicted_fr_val = fr_ppl_clf.predict(X_test)\n",
        "print(metrics.classification_report(y_test, ppredicted_fr_val))\n",
        "print(metrics.accuracy_score(y_test, ppredicted_fr_val), 'accuracy')\n",
        "print(metrics.precision_score(y_test, ppredicted_fr_val, average='macro'), 'precision')\n",
        "print(metrics.recall_score(y_test, ppredicted_fr_val, average='macro'), 'recall')\n",
        "print(metrics.f1_score(y_test, ppredicted_fr_val, average='macro'), 'f1')"
      ],
      "metadata": {
        "colab": {
          "base_uri": "https://localhost:8080/"
        },
        "id": "Vfe0hrWrBFU7",
        "outputId": "975121ba-0efb-43bd-ac09-438f064ef435"
      },
      "execution_count": null,
      "outputs": [
        {
          "output_type": "stream",
          "name": "stdout",
          "text": [
            "                                                                   precision    recall  f1-score   support\n",
            "\n",
            "               Закон, региональный уровень, законодательный орган       0.79      0.87      0.83       329\n",
            "                Закон, федеральный уровень, законодательный орган       0.95      0.99      0.97       347\n",
            " Постановление, региональный уровень, глава исполнительной власти       0.77      0.72      0.75       318\n",
            "       Постановление, региональный уровень, законодательный орган       0.88      0.86      0.87       302\n",
            "Постановление, региональный уровень, органы исполнительной власти       0.98      0.82      0.89       244\n",
            "               Постановление, региональный уровень, правительство       0.66      0.55      0.60       318\n",
            "                Постановление, федеральный уровень, правительство       0.82      0.90      0.86       314\n",
            "       Приказ, региональный уровень, органы исполнительной власти       0.71      0.87      0.78       325\n",
            "        Приказ, федеральный уровень, органы исполнительной власти       0.88      0.79      0.83       315\n",
            "  Распоряжение, региональный уровень, глава исполнительной власти       0.82      0.79      0.80       330\n",
            "                Распоряжение, региональный уровень, правительство       0.73      0.73      0.73       323\n",
            "   Распоряжение, федеральный уровень, глава исполнительной власти       0.95      0.97      0.96       272\n",
            "                 Распоряжение, федеральный уровень, правительство       0.86      0.84      0.85       324\n",
            "          Указ, региональный уровень, глава исполнительной власти       0.67      0.67      0.67       296\n",
            "           Указ, федеральный уровень, глава исполнительной власти       0.95      0.94      0.95       222\n",
            "\n",
            "                                                         accuracy                           0.82      4579\n",
            "                                                        macro avg       0.83      0.82      0.82      4579\n",
            "                                                     weighted avg       0.82      0.82      0.82      4579\n",
            "\n",
            "0.8187377156584407 accuracy\n",
            "0.8256433767700381 precision\n",
            "0.8209622037610701 recall\n",
            "0.8213771404429475 f1\n"
          ]
        }
      ]
    }
  ]
}