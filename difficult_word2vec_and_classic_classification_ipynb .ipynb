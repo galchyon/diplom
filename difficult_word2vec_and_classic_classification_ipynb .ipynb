{
  "nbformat": 4,
  "nbformat_minor": 0,
  "metadata": {
    "colab": {
      "provenance": []
    },
    "kernelspec": {
      "name": "python3",
      "display_name": "Python 3"
    },
    "language_info": {
      "name": "python"
    }
  },
  "cells": [
    {
      "cell_type": "code",
      "execution_count": null,
      "metadata": {
        "colab": {
          "base_uri": "https://localhost:8080/"
        },
        "id": "OjVagb4r6Fep",
        "outputId": "04d6ce81-f17a-47f3-be43-b58102d8ba29"
      },
      "outputs": [
        {
          "output_type": "stream",
          "name": "stdout",
          "text": [
            "Mounted at /content/drive\n"
          ]
        }
      ],
      "source": [
        "from google.colab import drive\n",
        "drive.mount('/content/drive')\n",
        "\n",
        "import numpy as np\n",
        "import pandas as pd\n",
        "import torch\n",
        "import itertools\n",
        "import string\n",
        "import numpy as np\n",
        "from IPython.display import clear_output\n",
        "from matplotlib import pyplot as plt\n",
        "from gensim.models import word2vec\n",
        "from collections import Counter\n",
        "\n",
        "from sklearn.model_selection import train_test_split\n",
        "from sklearn.linear_model import LogisticRegression\n",
        "from sklearn.model_selection import GridSearchCV\n",
        "from sklearn.model_selection import cross_val_score\n",
        "from sklearn.model_selection import train_test_split\n",
        "from sklearn.pipeline import Pipeline\n",
        "from sklearn.feature_extraction.text import TfidfVectorizer\n",
        "from sklearn.linear_model import SGDClassifier\n",
        "\n",
        "from sklearn import metrics\n",
        "from sklearn.model_selection import GridSearchCV\n",
        "\n",
        "from sklearn.ensemble import RandomForestClassifier"
      ]
    },
    {
      "cell_type": "code",
      "source": [
        "df = pd.read_csv('/content/drive/MyDrive/df_difficult_26_01.csv')\n",
        "target_names = list(set(df['doc_name'].tolist()))\n",
        "label2idx = {label: idx for idx, label in enumerate(target_names)}\n",
        "print(label2idx)\n",
        "df['doc_name_enc']=df['doc_name'].replace(label2idx)\n",
        "df"
      ],
      "metadata": {
        "colab": {
          "base_uri": "https://localhost:8080/",
          "height": 635
        },
        "id": "4pD_HTk66LMX",
        "outputId": "57ee6861-cf08-4c93-fbdf-6ba42349efbd"
      },
      "execution_count": null,
      "outputs": [
        {
          "output_type": "stream",
          "name": "stdout",
          "text": [
            "{'Указ, федеральный уровень, глава исполнительной власти': 0, 'Постановление, региональный уровень, глава исполнительной власти': 1, 'Закон, региональный уровень, законодательный орган': 2, 'Постановление, региональный уровень, законодательный орган': 3, 'Распоряжение, федеральный уровень, глава исполнительной власти': 4, 'Распоряжение, региональный уровень, глава исполнительной власти': 5, 'Постановление, региональный уровень, органы исполнительной власти': 6, 'Постановление, региональный уровень, правительство': 7, 'Закон, федеральный уровень, законодательный орган': 8, 'Распоряжение, федеральный уровень, правительство': 9, 'Приказ, федеральный уровень, органы исполнительной власти': 10, 'Указ, региональный уровень, глава исполнительной власти': 11, 'Распоряжение, региональный уровень, правительство': 12, 'Приказ, региональный уровень, органы исполнительной власти': 13, 'Постановление, федеральный уровень, правительство': 14}\n"
          ]
        },
        {
          "output_type": "execute_result",
          "data": {
            "text/plain": [
              "                                                doc_name  \\\n",
              "0      Распоряжение, федеральный уровень, глава испол...   \n",
              "1      Распоряжение, федеральный уровень, глава испол...   \n",
              "2      Указ, федеральный уровень, глава исполнительно...   \n",
              "3      Распоряжение, федеральный уровень, глава испол...   \n",
              "4      Распоряжение, федеральный уровень, глава испол...   \n",
              "...                                                  ...   \n",
              "22886  Указ, региональный уровень, глава исполнительн...   \n",
              "22887  Указ, региональный уровень, глава исполнительн...   \n",
              "22888  Указ, региональный уровень, глава исполнительн...   \n",
              "22889  Указ, региональный уровень, глава исполнительн...   \n",
              "22890  Указ, региональный уровень, глава исполнительн...   \n",
              "\n",
              "                                                doc_text  \\\n",
              "0      распоряжение президента российской федерации о...   \n",
              "1      распоряжение президента российской федерации о...   \n",
              "2      указ президента российской федерации об освобо...   \n",
              "3      распоряжение президента российской федерации о...   \n",
              "4      распоряжение президента российской федерации о...   \n",
              "...                                                  ...   \n",
              "22886  губернатор орловской области у к аз о мерах по...   \n",
              "22887  ммжхжчмитжкъщ  а  г х м  башкортостан республи...   \n",
              "22888  у к а з губернатора пермского края   об отмене...   \n",
              "22889  у к а з губернатора пермского края   г об утве...   \n",
              "22890  указ об отмене ограничительных мероприятий кар...   \n",
              "\n",
              "                                              text_token  \\\n",
              "0      распоряжение президент российский федерация ус...   \n",
              "1      распоряжение президент российский федерация пр...   \n",
              "2      указ президент российский федерация освобожден...   \n",
              "3      распоряжение президент российский федерация по...   \n",
              "4      распоряжение президент российский федерация по...   \n",
              "...                                                  ...   \n",
              "22886  губернатор орловский область мера проведение к...   \n",
              "22887  ммжхжчмитжкъщий башкортостан республикаь респу...   \n",
              "22888  губернатор пермский край отмена ограничение ка...   \n",
              "22889  губернатор пермский край утверждение порядок п...   \n",
              "22890  указ отмена ограничительный мероприятие карант...   \n",
              "\n",
              "                                      text_token_filtred  \\\n",
              "0      распоряжение президент российский федерация ус...   \n",
              "1      распоряжение президент российский федерация пр...   \n",
              "2      указ президент российский федерация освобожден...   \n",
              "3      распоряжение президент российский федерация по...   \n",
              "4      распоряжение президент российский федерация по...   \n",
              "...                                                  ...   \n",
              "22886  губернатор орловский область мера проведение к...   \n",
              "22887  ммжхжчмитжкъщий башкортостан республикаь респу...   \n",
              "22888  губернатор пермский край отмена ограничение ка...   \n",
              "22889  губернатор пермский край утверждение порядок п...   \n",
              "22890  указ отмена ограничительный мероприятие карант...   \n",
              "\n",
              "                                          text_difficult  doc_name_enc  \n",
              "0      комитет российский федерация установить числен...             4  \n",
              "1      российский федерация контроль оборот наркотик ...             4  \n",
              "2      федерация контроль оборот наркотик освободить ...             0  \n",
              "3      многолетний плодотворный деятельность наградит...             4  \n",
              "4      молодёжь объявить благодарность андропов игорь...             4  \n",
              "...                                                  ...           ...  \n",
              "22886  проживать инвалид ветеран великий отечественны...            11  \n",
              "22887  должность заместитель премьер министр правител...            11  \n",
              "22888  посёлок октябрьский соответствие закон российс...            11  \n",
              "22889  должность пермский край отдельный должность го...            11  \n",
              "22890  область соответствие закон российский федераши...            11  \n",
              "\n",
              "[22891 rows x 6 columns]"
            ],
            "text/html": [
              "\n",
              "  <div id=\"df-3438d2d5-721c-4e31-b999-51c3062ec5f0\" class=\"colab-df-container\">\n",
              "    <div>\n",
              "<style scoped>\n",
              "    .dataframe tbody tr th:only-of-type {\n",
              "        vertical-align: middle;\n",
              "    }\n",
              "\n",
              "    .dataframe tbody tr th {\n",
              "        vertical-align: top;\n",
              "    }\n",
              "\n",
              "    .dataframe thead th {\n",
              "        text-align: right;\n",
              "    }\n",
              "</style>\n",
              "<table border=\"1\" class=\"dataframe\">\n",
              "  <thead>\n",
              "    <tr style=\"text-align: right;\">\n",
              "      <th></th>\n",
              "      <th>doc_name</th>\n",
              "      <th>doc_text</th>\n",
              "      <th>text_token</th>\n",
              "      <th>text_token_filtred</th>\n",
              "      <th>text_difficult</th>\n",
              "      <th>doc_name_enc</th>\n",
              "    </tr>\n",
              "  </thead>\n",
              "  <tbody>\n",
              "    <tr>\n",
              "      <th>0</th>\n",
              "      <td>Распоряжение, федеральный уровень, глава испол...</td>\n",
              "      <td>распоряжение президента российской федерации о...</td>\n",
              "      <td>распоряжение президент российский федерация ус...</td>\n",
              "      <td>распоряжение президент российский федерация ус...</td>\n",
              "      <td>комитет российский федерация установить числен...</td>\n",
              "      <td>4</td>\n",
              "    </tr>\n",
              "    <tr>\n",
              "      <th>1</th>\n",
              "      <td>Распоряжение, федеральный уровень, глава испол...</td>\n",
              "      <td>распоряжение президента российской федерации о...</td>\n",
              "      <td>распоряжение президент российский федерация пр...</td>\n",
              "      <td>распоряжение президент российский федерация пр...</td>\n",
              "      <td>российский федерация контроль оборот наркотик ...</td>\n",
              "      <td>4</td>\n",
              "    </tr>\n",
              "    <tr>\n",
              "      <th>2</th>\n",
              "      <td>Указ, федеральный уровень, глава исполнительно...</td>\n",
              "      <td>указ президента российской федерации об освобо...</td>\n",
              "      <td>указ президент российский федерация освобожден...</td>\n",
              "      <td>указ президент российский федерация освобожден...</td>\n",
              "      <td>федерация контроль оборот наркотик освободить ...</td>\n",
              "      <td>0</td>\n",
              "    </tr>\n",
              "    <tr>\n",
              "      <th>3</th>\n",
              "      <td>Распоряжение, федеральный уровень, глава испол...</td>\n",
              "      <td>распоряжение президента российской федерации о...</td>\n",
              "      <td>распоряжение президент российский федерация по...</td>\n",
              "      <td>распоряжение президент российский федерация по...</td>\n",
              "      <td>многолетний плодотворный деятельность наградит...</td>\n",
              "      <td>4</td>\n",
              "    </tr>\n",
              "    <tr>\n",
              "      <th>4</th>\n",
              "      <td>Распоряжение, федеральный уровень, глава испол...</td>\n",
              "      <td>распоряжение президента российской федерации о...</td>\n",
              "      <td>распоряжение президент российский федерация по...</td>\n",
              "      <td>распоряжение президент российский федерация по...</td>\n",
              "      <td>молодёжь объявить благодарность андропов игорь...</td>\n",
              "      <td>4</td>\n",
              "    </tr>\n",
              "    <tr>\n",
              "      <th>...</th>\n",
              "      <td>...</td>\n",
              "      <td>...</td>\n",
              "      <td>...</td>\n",
              "      <td>...</td>\n",
              "      <td>...</td>\n",
              "      <td>...</td>\n",
              "    </tr>\n",
              "    <tr>\n",
              "      <th>22886</th>\n",
              "      <td>Указ, региональный уровень, глава исполнительн...</td>\n",
              "      <td>губернатор орловской области у к аз о мерах по...</td>\n",
              "      <td>губернатор орловский область мера проведение к...</td>\n",
              "      <td>губернатор орловский область мера проведение к...</td>\n",
              "      <td>проживать инвалид ветеран великий отечественны...</td>\n",
              "      <td>11</td>\n",
              "    </tr>\n",
              "    <tr>\n",
              "      <th>22887</th>\n",
              "      <td>Указ, региональный уровень, глава исполнительн...</td>\n",
              "      <td>ммжхжчмитжкъщ  а  г х м  башкортостан республи...</td>\n",
              "      <td>ммжхжчмитжкъщий башкортостан республикаь респу...</td>\n",
              "      <td>ммжхжчмитжкъщий башкортостан республикаь респу...</td>\n",
              "      <td>должность заместитель премьер министр правител...</td>\n",
              "      <td>11</td>\n",
              "    </tr>\n",
              "    <tr>\n",
              "      <th>22888</th>\n",
              "      <td>Указ, региональный уровень, глава исполнительн...</td>\n",
              "      <td>у к а з губернатора пермского края   об отмене...</td>\n",
              "      <td>губернатор пермский край отмена ограничение ка...</td>\n",
              "      <td>губернатор пермский край отмена ограничение ка...</td>\n",
              "      <td>посёлок октябрьский соответствие закон российс...</td>\n",
              "      <td>11</td>\n",
              "    </tr>\n",
              "    <tr>\n",
              "      <th>22889</th>\n",
              "      <td>Указ, региональный уровень, глава исполнительн...</td>\n",
              "      <td>у к а з губернатора пермского края   г об утве...</td>\n",
              "      <td>губернатор пермский край утверждение порядок п...</td>\n",
              "      <td>губернатор пермский край утверждение порядок п...</td>\n",
              "      <td>должность пермский край отдельный должность го...</td>\n",
              "      <td>11</td>\n",
              "    </tr>\n",
              "    <tr>\n",
              "      <th>22890</th>\n",
              "      <td>Указ, региональный уровень, глава исполнительн...</td>\n",
              "      <td>указ об отмене ограничительных мероприятий кар...</td>\n",
              "      <td>указ отмена ограничительный мероприятие карант...</td>\n",
              "      <td>указ отмена ограничительный мероприятие карант...</td>\n",
              "      <td>область соответствие закон российский федераши...</td>\n",
              "      <td>11</td>\n",
              "    </tr>\n",
              "  </tbody>\n",
              "</table>\n",
              "<p>22891 rows × 6 columns</p>\n",
              "</div>\n",
              "    <div class=\"colab-df-buttons\">\n",
              "\n",
              "  <div class=\"colab-df-container\">\n",
              "    <button class=\"colab-df-convert\" onclick=\"convertToInteractive('df-3438d2d5-721c-4e31-b999-51c3062ec5f0')\"\n",
              "            title=\"Convert this dataframe to an interactive table.\"\n",
              "            style=\"display:none;\">\n",
              "\n",
              "  <svg xmlns=\"http://www.w3.org/2000/svg\" height=\"24px\" viewBox=\"0 -960 960 960\">\n",
              "    <path d=\"M120-120v-720h720v720H120Zm60-500h600v-160H180v160Zm220 220h160v-160H400v160Zm0 220h160v-160H400v160ZM180-400h160v-160H180v160Zm440 0h160v-160H620v160ZM180-180h160v-160H180v160Zm440 0h160v-160H620v160Z\"/>\n",
              "  </svg>\n",
              "    </button>\n",
              "\n",
              "  <style>\n",
              "    .colab-df-container {\n",
              "      display:flex;\n",
              "      gap: 12px;\n",
              "    }\n",
              "\n",
              "    .colab-df-convert {\n",
              "      background-color: #E8F0FE;\n",
              "      border: none;\n",
              "      border-radius: 50%;\n",
              "      cursor: pointer;\n",
              "      display: none;\n",
              "      fill: #1967D2;\n",
              "      height: 32px;\n",
              "      padding: 0 0 0 0;\n",
              "      width: 32px;\n",
              "    }\n",
              "\n",
              "    .colab-df-convert:hover {\n",
              "      background-color: #E2EBFA;\n",
              "      box-shadow: 0px 1px 2px rgba(60, 64, 67, 0.3), 0px 1px 3px 1px rgba(60, 64, 67, 0.15);\n",
              "      fill: #174EA6;\n",
              "    }\n",
              "\n",
              "    .colab-df-buttons div {\n",
              "      margin-bottom: 4px;\n",
              "    }\n",
              "\n",
              "    [theme=dark] .colab-df-convert {\n",
              "      background-color: #3B4455;\n",
              "      fill: #D2E3FC;\n",
              "    }\n",
              "\n",
              "    [theme=dark] .colab-df-convert:hover {\n",
              "      background-color: #434B5C;\n",
              "      box-shadow: 0px 1px 3px 1px rgba(0, 0, 0, 0.15);\n",
              "      filter: drop-shadow(0px 1px 2px rgba(0, 0, 0, 0.3));\n",
              "      fill: #FFFFFF;\n",
              "    }\n",
              "  </style>\n",
              "\n",
              "    <script>\n",
              "      const buttonEl =\n",
              "        document.querySelector('#df-3438d2d5-721c-4e31-b999-51c3062ec5f0 button.colab-df-convert');\n",
              "      buttonEl.style.display =\n",
              "        google.colab.kernel.accessAllowed ? 'block' : 'none';\n",
              "\n",
              "      async function convertToInteractive(key) {\n",
              "        const element = document.querySelector('#df-3438d2d5-721c-4e31-b999-51c3062ec5f0');\n",
              "        const dataTable =\n",
              "          await google.colab.kernel.invokeFunction('convertToInteractive',\n",
              "                                                    [key], {});\n",
              "        if (!dataTable) return;\n",
              "\n",
              "        const docLinkHtml = 'Like what you see? Visit the ' +\n",
              "          '<a target=\"_blank\" href=https://colab.research.google.com/notebooks/data_table.ipynb>data table notebook</a>'\n",
              "          + ' to learn more about interactive tables.';\n",
              "        element.innerHTML = '';\n",
              "        dataTable['output_type'] = 'display_data';\n",
              "        await google.colab.output.renderOutput(dataTable, element);\n",
              "        const docLink = document.createElement('div');\n",
              "        docLink.innerHTML = docLinkHtml;\n",
              "        element.appendChild(docLink);\n",
              "      }\n",
              "    </script>\n",
              "  </div>\n",
              "\n",
              "\n",
              "<div id=\"df-fecf6c32-1f6d-4eb2-b6a3-d7445020946c\">\n",
              "  <button class=\"colab-df-quickchart\" onclick=\"quickchart('df-fecf6c32-1f6d-4eb2-b6a3-d7445020946c')\"\n",
              "            title=\"Suggest charts\"\n",
              "            style=\"display:none;\">\n",
              "\n",
              "<svg xmlns=\"http://www.w3.org/2000/svg\" height=\"24px\"viewBox=\"0 0 24 24\"\n",
              "     width=\"24px\">\n",
              "    <g>\n",
              "        <path d=\"M19 3H5c-1.1 0-2 .9-2 2v14c0 1.1.9 2 2 2h14c1.1 0 2-.9 2-2V5c0-1.1-.9-2-2-2zM9 17H7v-7h2v7zm4 0h-2V7h2v10zm4 0h-2v-4h2v4z\"/>\n",
              "    </g>\n",
              "</svg>\n",
              "  </button>\n",
              "\n",
              "<style>\n",
              "  .colab-df-quickchart {\n",
              "      --bg-color: #E8F0FE;\n",
              "      --fill-color: #1967D2;\n",
              "      --hover-bg-color: #E2EBFA;\n",
              "      --hover-fill-color: #174EA6;\n",
              "      --disabled-fill-color: #AAA;\n",
              "      --disabled-bg-color: #DDD;\n",
              "  }\n",
              "\n",
              "  [theme=dark] .colab-df-quickchart {\n",
              "      --bg-color: #3B4455;\n",
              "      --fill-color: #D2E3FC;\n",
              "      --hover-bg-color: #434B5C;\n",
              "      --hover-fill-color: #FFFFFF;\n",
              "      --disabled-bg-color: #3B4455;\n",
              "      --disabled-fill-color: #666;\n",
              "  }\n",
              "\n",
              "  .colab-df-quickchart {\n",
              "    background-color: var(--bg-color);\n",
              "    border: none;\n",
              "    border-radius: 50%;\n",
              "    cursor: pointer;\n",
              "    display: none;\n",
              "    fill: var(--fill-color);\n",
              "    height: 32px;\n",
              "    padding: 0;\n",
              "    width: 32px;\n",
              "  }\n",
              "\n",
              "  .colab-df-quickchart:hover {\n",
              "    background-color: var(--hover-bg-color);\n",
              "    box-shadow: 0 1px 2px rgba(60, 64, 67, 0.3), 0 1px 3px 1px rgba(60, 64, 67, 0.15);\n",
              "    fill: var(--button-hover-fill-color);\n",
              "  }\n",
              "\n",
              "  .colab-df-quickchart-complete:disabled,\n",
              "  .colab-df-quickchart-complete:disabled:hover {\n",
              "    background-color: var(--disabled-bg-color);\n",
              "    fill: var(--disabled-fill-color);\n",
              "    box-shadow: none;\n",
              "  }\n",
              "\n",
              "  .colab-df-spinner {\n",
              "    border: 2px solid var(--fill-color);\n",
              "    border-color: transparent;\n",
              "    border-bottom-color: var(--fill-color);\n",
              "    animation:\n",
              "      spin 1s steps(1) infinite;\n",
              "  }\n",
              "\n",
              "  @keyframes spin {\n",
              "    0% {\n",
              "      border-color: transparent;\n",
              "      border-bottom-color: var(--fill-color);\n",
              "      border-left-color: var(--fill-color);\n",
              "    }\n",
              "    20% {\n",
              "      border-color: transparent;\n",
              "      border-left-color: var(--fill-color);\n",
              "      border-top-color: var(--fill-color);\n",
              "    }\n",
              "    30% {\n",
              "      border-color: transparent;\n",
              "      border-left-color: var(--fill-color);\n",
              "      border-top-color: var(--fill-color);\n",
              "      border-right-color: var(--fill-color);\n",
              "    }\n",
              "    40% {\n",
              "      border-color: transparent;\n",
              "      border-right-color: var(--fill-color);\n",
              "      border-top-color: var(--fill-color);\n",
              "    }\n",
              "    60% {\n",
              "      border-color: transparent;\n",
              "      border-right-color: var(--fill-color);\n",
              "    }\n",
              "    80% {\n",
              "      border-color: transparent;\n",
              "      border-right-color: var(--fill-color);\n",
              "      border-bottom-color: var(--fill-color);\n",
              "    }\n",
              "    90% {\n",
              "      border-color: transparent;\n",
              "      border-bottom-color: var(--fill-color);\n",
              "    }\n",
              "  }\n",
              "</style>\n",
              "\n",
              "  <script>\n",
              "    async function quickchart(key) {\n",
              "      const quickchartButtonEl =\n",
              "        document.querySelector('#' + key + ' button');\n",
              "      quickchartButtonEl.disabled = true;  // To prevent multiple clicks.\n",
              "      quickchartButtonEl.classList.add('colab-df-spinner');\n",
              "      try {\n",
              "        const charts = await google.colab.kernel.invokeFunction(\n",
              "            'suggestCharts', [key], {});\n",
              "      } catch (error) {\n",
              "        console.error('Error during call to suggestCharts:', error);\n",
              "      }\n",
              "      quickchartButtonEl.classList.remove('colab-df-spinner');\n",
              "      quickchartButtonEl.classList.add('colab-df-quickchart-complete');\n",
              "    }\n",
              "    (() => {\n",
              "      let quickchartButtonEl =\n",
              "        document.querySelector('#df-fecf6c32-1f6d-4eb2-b6a3-d7445020946c button');\n",
              "      quickchartButtonEl.style.display =\n",
              "        google.colab.kernel.accessAllowed ? 'block' : 'none';\n",
              "    })();\n",
              "  </script>\n",
              "</div>\n",
              "    </div>\n",
              "  </div>\n"
            ]
          },
          "metadata": {},
          "execution_count": 2
        }
      ]
    },
    {
      "cell_type": "code",
      "source": [
        "import gensim.downloader as api\n",
        "print(\"\\n\".join(api.info()['models'].keys()))"
      ],
      "metadata": {
        "colab": {
          "base_uri": "https://localhost:8080/"
        },
        "id": "TvSbm7nj6PvR",
        "outputId": "4a8a38a5-0673-477f-b71d-5118c828d30a"
      },
      "execution_count": null,
      "outputs": [
        {
          "output_type": "stream",
          "name": "stdout",
          "text": [
            "fasttext-wiki-news-subwords-300\n",
            "conceptnet-numberbatch-17-06-300\n",
            "word2vec-ruscorpora-300\n",
            "word2vec-google-news-300\n",
            "glove-wiki-gigaword-50\n",
            "glove-wiki-gigaword-100\n",
            "glove-wiki-gigaword-200\n",
            "glove-wiki-gigaword-300\n",
            "glove-twitter-25\n",
            "glove-twitter-50\n",
            "glove-twitter-100\n",
            "glove-twitter-200\n",
            "__testing_word2vec-matrix-synopsis\n"
          ]
        }
      ]
    },
    {
      "cell_type": "code",
      "source": [
        "word2vec_pre = api.load(\"glove-twitter-50\")\n",
        "tok = df['text_token_filtred'][:3].str.split().tolist()\n",
        "word2vec_pre.most_similar(positive=['президент'])"
      ],
      "metadata": {
        "colab": {
          "base_uri": "https://localhost:8080/"
        },
        "id": "3qDG7Bjj6SXw",
        "outputId": "47baf288-c1f6-4a30-a7d1-7bf531287f60"
      },
      "execution_count": null,
      "outputs": [
        {
          "output_type": "stream",
          "name": "stdout",
          "text": [
            "[==================================================] 100.0% 199.5/199.5MB downloaded\n"
          ]
        },
        {
          "output_type": "execute_result",
          "data": {
            "text/plain": [
              "[('премьер-министр', 0.864189863204956),\n",
              " ('путин', 0.8365647196769714),\n",
              " ('глава', 0.8298710584640503),\n",
              " ('заявил', 0.8257015943527222),\n",
              " ('мид', 0.8176457285881042),\n",
              " ('владимир', 0.8131812810897827),\n",
              " ('посол', 0.810960590839386),\n",
              " ('украины', 0.8079652190208435),\n",
              " ('янукович', 0.8058887720108032),\n",
              " ('грузии', 0.8036628365516663)]"
            ]
          },
          "metadata": {},
          "execution_count": 4
        }
      ]
    },
    {
      "cell_type": "markdown",
      "source": [
        "Своя модель"
      ],
      "metadata": {
        "id": "Z1CLcDzI6YZE"
      }
    },
    {
      "cell_type": "code",
      "source": [
        "texts = df['text_difficult'].tolist()\n",
        "words = [i.split() for i in texts]\n",
        "count_words = Counter()\n",
        "for text in words:\n",
        "  for i in text:\n",
        "    count_words[i]+=1\n",
        "more_10 = [k for k, v in count_words.items() if v>10]\n",
        "words_more_10 = []\n",
        "for t in words:\n",
        "  passed = [i for i in t if i in more_10]\n",
        "  words_more_10.append(passed)\n",
        "X = np.array(words_more_10)\n",
        "model_wv_dif = word2vec.Word2Vec(X, vector_size=50, window=5, min_count=1, workers=4)\n",
        "model_wv_dif.wv.most_similar(positive=['президент'])"
      ],
      "metadata": {
        "colab": {
          "base_uri": "https://localhost:8080/"
        },
        "id": "Z9fzkHbR6laZ",
        "outputId": "e2553f64-9f05-49da-dff6-5479ddc39bbf"
      },
      "execution_count": null,
      "outputs": [
        {
          "output_type": "stream",
          "name": "stderr",
          "text": [
            "<ipython-input-5-31f3a9fa9ad4>:12: VisibleDeprecationWarning: Creating an ndarray from ragged nested sequences (which is a list-or-tuple of lists-or-tuples-or ndarrays with different lengths or shapes) is deprecated. If you meant to do this, you must specify 'dtype=object' when creating the ndarray.\n",
            "  X = np.array(words_more_10)\n"
          ]
        },
        {
          "output_type": "execute_result",
          "data": {
            "text/plain": [
              "[('глава', 0.5370832681655884),\n",
              " ('правительство', 0.5321834087371826),\n",
              " ('губернатор', 0.4876767694950104),\n",
              " ('федерация', 0.44561415910720825),\n",
              " ('коррупция', 0.4324455261230469),\n",
              " ('противодействие', 0.4177606999874115),\n",
              " ('палата', 0.4115430414676666),\n",
              " ('российский', 0.4110330045223236),\n",
              " ('ndот', 0.4023815989494324),\n",
              " ('август', 0.3951947093009949)]"
            ]
          },
          "metadata": {},
          "execution_count": 5
        }
      ]
    },
    {
      "cell_type": "code",
      "source": [
        "\n",
        "tfidf_dif  = TfidfVectorizer()\n",
        "tfidf_dif.fit([' '.join(i) for i in df['text_difficult'].str.split()])\n",
        "tf_dict_dif=dict(zip(tfidf_dif.get_feature_names_out(), tfidf_dif.idf_))"
      ],
      "metadata": {
        "id": "QtsdpIduCHkb"
      },
      "execution_count": null,
      "outputs": []
    },
    {
      "cell_type": "code",
      "source": [
        "def average_emb(w2v, text):\n",
        "\n",
        "    doc = [word for word in text.split() if word in w2v.wv]\n",
        "\n",
        "    return np.mean(w2v.wv[doc], axis=0)\n",
        "\n",
        "def average_emb_tdidf(w2v, td_dict, text):\n",
        "\n",
        "    doc = [word for word in text.split() if word in w2v.wv]\n",
        "    tf = np.array([td_dict[word] for word in text.split() if word in w2v.wv])\n",
        "    #print(w2v.wv[doc].dot(tf[0]))\n",
        "    return np.mean(w2v.wv[doc].dot(tf[0]), axis=0)\n",
        "\n",
        "def average_emb_pre(w2v, text):\n",
        "\n",
        "    doc = [word for word in text.split() if word in w2v]\n",
        "\n",
        "    return np.mean(w2v[doc], axis=0)\n",
        "\n",
        "def average_emb_tdidf_pre(w2v, td_dict, text):\n",
        "\n",
        "    doc = [word for word in text.split() if word in w2v]\n",
        "    tf = np.array([td_dict[word] for word in text.split() if word in w2v])\n",
        "\n",
        "    return np.mean(w2v[doc].dot(tf[0]), axis=0)"
      ],
      "metadata": {
        "id": "mOmnb2V___cx"
      },
      "execution_count": null,
      "outputs": []
    },
    {
      "cell_type": "code",
      "source": [
        "df_w2v = df[['doc_name', 'text_difficult']].copy()\n",
        "\n",
        "df_w2v['w2v_dif'] = df_w2v.apply(lambda x: average_emb(model_wv_dif, x['text_difficult']),axis=1)\n",
        "df_w2v['w2v_dif_idf'] = df_w2v.apply(lambda x: average_emb_tdidf(model_wv_dif,tf_dict_dif, x['text_difficult']),axis=1)\n",
        "\n",
        "df_w2v['w2v_dif_pre'] = df_w2v.apply(lambda x: average_emb_pre(word2vec_pre, x['text_difficult']),axis=1)\n",
        "df_w2v['w2v_dif_idf_pre'] = df_w2v.apply(lambda x: average_emb_tdidf_pre(word2vec_pre,tf_dict_dif, x['text_difficult']),axis=1)"
      ],
      "metadata": {
        "id": "hf7ncXCRD_Li"
      },
      "execution_count": null,
      "outputs": []
    },
    {
      "cell_type": "code",
      "source": [
        "X_train, X_test, y_train, y_test = train_test_split(df_w2v['w2v_dif'], df_w2v['doc_name'], test_size=0.2, random_state=42)\n",
        "X_train = np.vstack(X_train)\n",
        "X_test = np.vstack(X_test)"
      ],
      "metadata": {
        "id": "IQCNb8YXyG97"
      },
      "execution_count": null,
      "outputs": []
    },
    {
      "cell_type": "code",
      "source": [
        "lr_ppl_clf = Pipeline([\n",
        "\n",
        "    ('lr_clf', LogisticRegression(random_state=42))\n",
        "])\n",
        "\n",
        "parameters = {\n",
        "              'lr_clf__solver':['lbfgs', 'newton-cg', 'sag', 'saga'],\n",
        "              'lr_clf__class_weight':[None, 'balanced'],\n",
        "              'lr_clf__penalty':[None, 'l2', 'l1', 'elasticnet'],\n",
        "              }\n",
        "\n",
        "model = GridSearchCV(lr_ppl_clf, parameters, cv=4, n_jobs=-1).fit(X_train[:2000], y_train[:2000])\n",
        "print('Best score and parameter combination:')\n",
        "print(model.best_score_, model.best_params_)"
      ],
      "metadata": {
        "colab": {
          "base_uri": "https://localhost:8080/"
        },
        "id": "e2lei6lBJt68",
        "outputId": "ab1bf35f-d990-499a-edbc-935f04c4f664"
      },
      "execution_count": null,
      "outputs": [
        {
          "output_type": "stream",
          "name": "stderr",
          "text": [
            "/usr/local/lib/python3.10/dist-packages/sklearn/model_selection/_validation.py:378: FitFailedWarning: \n",
            "56 fits failed out of a total of 128.\n",
            "The score on these train-test partitions for these parameters will be set to nan.\n",
            "If these failures are not expected, you can try to debug them by setting error_score='raise'.\n",
            "\n",
            "Below are more details about the failures:\n",
            "--------------------------------------------------------------------------------\n",
            "8 fits failed with the following error:\n",
            "Traceback (most recent call last):\n",
            "  File \"/usr/local/lib/python3.10/dist-packages/sklearn/model_selection/_validation.py\", line 686, in _fit_and_score\n",
            "    estimator.fit(X_train, y_train, **fit_params)\n",
            "  File \"/usr/local/lib/python3.10/dist-packages/sklearn/pipeline.py\", line 405, in fit\n",
            "    self._final_estimator.fit(Xt, y, **fit_params_last_step)\n",
            "  File \"/usr/local/lib/python3.10/dist-packages/sklearn/linear_model/_logistic.py\", line 1162, in fit\n",
            "    solver = _check_solver(self.solver, self.penalty, self.dual)\n",
            "  File \"/usr/local/lib/python3.10/dist-packages/sklearn/linear_model/_logistic.py\", line 54, in _check_solver\n",
            "    raise ValueError(\n",
            "ValueError: Solver lbfgs supports only 'l2' or 'none' penalties, got l1 penalty.\n",
            "\n",
            "--------------------------------------------------------------------------------\n",
            "8 fits failed with the following error:\n",
            "Traceback (most recent call last):\n",
            "  File \"/usr/local/lib/python3.10/dist-packages/sklearn/model_selection/_validation.py\", line 686, in _fit_and_score\n",
            "    estimator.fit(X_train, y_train, **fit_params)\n",
            "  File \"/usr/local/lib/python3.10/dist-packages/sklearn/pipeline.py\", line 405, in fit\n",
            "    self._final_estimator.fit(Xt, y, **fit_params_last_step)\n",
            "  File \"/usr/local/lib/python3.10/dist-packages/sklearn/linear_model/_logistic.py\", line 1162, in fit\n",
            "    solver = _check_solver(self.solver, self.penalty, self.dual)\n",
            "  File \"/usr/local/lib/python3.10/dist-packages/sklearn/linear_model/_logistic.py\", line 54, in _check_solver\n",
            "    raise ValueError(\n",
            "ValueError: Solver newton-cg supports only 'l2' or 'none' penalties, got l1 penalty.\n",
            "\n",
            "--------------------------------------------------------------------------------\n",
            "8 fits failed with the following error:\n",
            "Traceback (most recent call last):\n",
            "  File \"/usr/local/lib/python3.10/dist-packages/sklearn/model_selection/_validation.py\", line 686, in _fit_and_score\n",
            "    estimator.fit(X_train, y_train, **fit_params)\n",
            "  File \"/usr/local/lib/python3.10/dist-packages/sklearn/pipeline.py\", line 405, in fit\n",
            "    self._final_estimator.fit(Xt, y, **fit_params_last_step)\n",
            "  File \"/usr/local/lib/python3.10/dist-packages/sklearn/linear_model/_logistic.py\", line 1162, in fit\n",
            "    solver = _check_solver(self.solver, self.penalty, self.dual)\n",
            "  File \"/usr/local/lib/python3.10/dist-packages/sklearn/linear_model/_logistic.py\", line 54, in _check_solver\n",
            "    raise ValueError(\n",
            "ValueError: Solver sag supports only 'l2' or 'none' penalties, got l1 penalty.\n",
            "\n",
            "--------------------------------------------------------------------------------\n",
            "8 fits failed with the following error:\n",
            "Traceback (most recent call last):\n",
            "  File \"/usr/local/lib/python3.10/dist-packages/sklearn/model_selection/_validation.py\", line 686, in _fit_and_score\n",
            "    estimator.fit(X_train, y_train, **fit_params)\n",
            "  File \"/usr/local/lib/python3.10/dist-packages/sklearn/pipeline.py\", line 405, in fit\n",
            "    self._final_estimator.fit(Xt, y, **fit_params_last_step)\n",
            "  File \"/usr/local/lib/python3.10/dist-packages/sklearn/linear_model/_logistic.py\", line 1162, in fit\n",
            "    solver = _check_solver(self.solver, self.penalty, self.dual)\n",
            "  File \"/usr/local/lib/python3.10/dist-packages/sklearn/linear_model/_logistic.py\", line 54, in _check_solver\n",
            "    raise ValueError(\n",
            "ValueError: Solver lbfgs supports only 'l2' or 'none' penalties, got elasticnet penalty.\n",
            "\n",
            "--------------------------------------------------------------------------------\n",
            "8 fits failed with the following error:\n",
            "Traceback (most recent call last):\n",
            "  File \"/usr/local/lib/python3.10/dist-packages/sklearn/model_selection/_validation.py\", line 686, in _fit_and_score\n",
            "    estimator.fit(X_train, y_train, **fit_params)\n",
            "  File \"/usr/local/lib/python3.10/dist-packages/sklearn/pipeline.py\", line 405, in fit\n",
            "    self._final_estimator.fit(Xt, y, **fit_params_last_step)\n",
            "  File \"/usr/local/lib/python3.10/dist-packages/sklearn/linear_model/_logistic.py\", line 1162, in fit\n",
            "    solver = _check_solver(self.solver, self.penalty, self.dual)\n",
            "  File \"/usr/local/lib/python3.10/dist-packages/sklearn/linear_model/_logistic.py\", line 54, in _check_solver\n",
            "    raise ValueError(\n",
            "ValueError: Solver newton-cg supports only 'l2' or 'none' penalties, got elasticnet penalty.\n",
            "\n",
            "--------------------------------------------------------------------------------\n",
            "8 fits failed with the following error:\n",
            "Traceback (most recent call last):\n",
            "  File \"/usr/local/lib/python3.10/dist-packages/sklearn/model_selection/_validation.py\", line 686, in _fit_and_score\n",
            "    estimator.fit(X_train, y_train, **fit_params)\n",
            "  File \"/usr/local/lib/python3.10/dist-packages/sklearn/pipeline.py\", line 405, in fit\n",
            "    self._final_estimator.fit(Xt, y, **fit_params_last_step)\n",
            "  File \"/usr/local/lib/python3.10/dist-packages/sklearn/linear_model/_logistic.py\", line 1162, in fit\n",
            "    solver = _check_solver(self.solver, self.penalty, self.dual)\n",
            "  File \"/usr/local/lib/python3.10/dist-packages/sklearn/linear_model/_logistic.py\", line 54, in _check_solver\n",
            "    raise ValueError(\n",
            "ValueError: Solver sag supports only 'l2' or 'none' penalties, got elasticnet penalty.\n",
            "\n",
            "--------------------------------------------------------------------------------\n",
            "8 fits failed with the following error:\n",
            "Traceback (most recent call last):\n",
            "  File \"/usr/local/lib/python3.10/dist-packages/sklearn/model_selection/_validation.py\", line 686, in _fit_and_score\n",
            "    estimator.fit(X_train, y_train, **fit_params)\n",
            "  File \"/usr/local/lib/python3.10/dist-packages/sklearn/pipeline.py\", line 405, in fit\n",
            "    self._final_estimator.fit(Xt, y, **fit_params_last_step)\n",
            "  File \"/usr/local/lib/python3.10/dist-packages/sklearn/linear_model/_logistic.py\", line 1291, in fit\n",
            "    fold_coefs_ = Parallel(n_jobs=self.n_jobs, verbose=self.verbose, prefer=prefer)(\n",
            "  File \"/usr/local/lib/python3.10/dist-packages/sklearn/utils/parallel.py\", line 63, in __call__\n",
            "    return super().__call__(iterable_with_config)\n",
            "  File \"/usr/local/lib/python3.10/dist-packages/joblib/parallel.py\", line 1863, in __call__\n",
            "    return output if self.return_generator else list(output)\n",
            "  File \"/usr/local/lib/python3.10/dist-packages/joblib/parallel.py\", line 1792, in _get_sequential_output\n",
            "    res = func(*args, **kwargs)\n",
            "  File \"/usr/local/lib/python3.10/dist-packages/sklearn/utils/parallel.py\", line 123, in __call__\n",
            "    return self.function(*args, **kwargs)\n",
            "  File \"/usr/local/lib/python3.10/dist-packages/sklearn/linear_model/_logistic.py\", line 521, in _logistic_regression_path\n",
            "    alpha = (1.0 / C) * (1 - l1_ratio)\n",
            "TypeError: unsupported operand type(s) for -: 'int' and 'NoneType'\n",
            "\n",
            "  warnings.warn(some_fits_failed_message, FitFailedWarning)\n",
            "/usr/local/lib/python3.10/dist-packages/sklearn/model_selection/_search.py:952: UserWarning: One or more of the test scores are non-finite: [0.6375 0.6205 0.6415 0.6435 0.6545 0.654  0.6535 0.6525    nan    nan\n",
            "    nan 0.651     nan    nan    nan    nan 0.6325 0.6155 0.638  0.6435\n",
            " 0.651  0.654  0.6535 0.653     nan    nan    nan 0.6485    nan    nan\n",
            "    nan    nan]\n",
            "  warnings.warn(\n"
          ]
        },
        {
          "output_type": "stream",
          "name": "stdout",
          "text": [
            "Best score and parameter combination:\n",
            "0.6545 {'lr_clf__class_weight': None, 'lr_clf__penalty': 'l2', 'lr_clf__solver': 'lbfgs'}\n"
          ]
        },
        {
          "output_type": "stream",
          "name": "stderr",
          "text": [
            "/usr/local/lib/python3.10/dist-packages/sklearn/linear_model/_logistic.py:458: ConvergenceWarning: lbfgs failed to converge (status=1):\n",
            "STOP: TOTAL NO. of ITERATIONS REACHED LIMIT.\n",
            "\n",
            "Increase the number of iterations (max_iter) or scale the data as shown in:\n",
            "    https://scikit-learn.org/stable/modules/preprocessing.html\n",
            "Please also refer to the documentation for alternative solver options:\n",
            "    https://scikit-learn.org/stable/modules/linear_model.html#logistic-regression\n",
            "  n_iter_i = _check_optimize_result(\n"
          ]
        }
      ]
    },
    {
      "cell_type": "code",
      "source": [
        "lr_ppl_clf = Pipeline([\n",
        "\n",
        "    ('lr_clf', LogisticRegression(solver='lbfgs',penalty='l2', class_weight=None, random_state=42))\n",
        "])\n",
        "lr_ppl_clf.fit(X_train, y_train)"
      ],
      "metadata": {
        "colab": {
          "base_uri": "https://localhost:8080/",
          "height": 230
        },
        "id": "XCvVH723KEtu",
        "outputId": "fafb9292-aa8e-40f2-feef-9ce7cb1009df"
      },
      "execution_count": null,
      "outputs": [
        {
          "output_type": "stream",
          "name": "stderr",
          "text": [
            "/usr/local/lib/python3.10/dist-packages/sklearn/linear_model/_logistic.py:458: ConvergenceWarning: lbfgs failed to converge (status=1):\n",
            "STOP: TOTAL NO. of ITERATIONS REACHED LIMIT.\n",
            "\n",
            "Increase the number of iterations (max_iter) or scale the data as shown in:\n",
            "    https://scikit-learn.org/stable/modules/preprocessing.html\n",
            "Please also refer to the documentation for alternative solver options:\n",
            "    https://scikit-learn.org/stable/modules/linear_model.html#logistic-regression\n",
            "  n_iter_i = _check_optimize_result(\n"
          ]
        },
        {
          "output_type": "execute_result",
          "data": {
            "text/plain": [
              "Pipeline(steps=[('lr_clf', LogisticRegression(random_state=42))])"
            ],
            "text/html": [
              "<style>#sk-container-id-1 {color: black;background-color: white;}#sk-container-id-1 pre{padding: 0;}#sk-container-id-1 div.sk-toggleable {background-color: white;}#sk-container-id-1 label.sk-toggleable__label {cursor: pointer;display: block;width: 100%;margin-bottom: 0;padding: 0.3em;box-sizing: border-box;text-align: center;}#sk-container-id-1 label.sk-toggleable__label-arrow:before {content: \"▸\";float: left;margin-right: 0.25em;color: #696969;}#sk-container-id-1 label.sk-toggleable__label-arrow:hover:before {color: black;}#sk-container-id-1 div.sk-estimator:hover label.sk-toggleable__label-arrow:before {color: black;}#sk-container-id-1 div.sk-toggleable__content {max-height: 0;max-width: 0;overflow: hidden;text-align: left;background-color: #f0f8ff;}#sk-container-id-1 div.sk-toggleable__content pre {margin: 0.2em;color: black;border-radius: 0.25em;background-color: #f0f8ff;}#sk-container-id-1 input.sk-toggleable__control:checked~div.sk-toggleable__content {max-height: 200px;max-width: 100%;overflow: auto;}#sk-container-id-1 input.sk-toggleable__control:checked~label.sk-toggleable__label-arrow:before {content: \"▾\";}#sk-container-id-1 div.sk-estimator input.sk-toggleable__control:checked~label.sk-toggleable__label {background-color: #d4ebff;}#sk-container-id-1 div.sk-label input.sk-toggleable__control:checked~label.sk-toggleable__label {background-color: #d4ebff;}#sk-container-id-1 input.sk-hidden--visually {border: 0;clip: rect(1px 1px 1px 1px);clip: rect(1px, 1px, 1px, 1px);height: 1px;margin: -1px;overflow: hidden;padding: 0;position: absolute;width: 1px;}#sk-container-id-1 div.sk-estimator {font-family: monospace;background-color: #f0f8ff;border: 1px dotted black;border-radius: 0.25em;box-sizing: border-box;margin-bottom: 0.5em;}#sk-container-id-1 div.sk-estimator:hover {background-color: #d4ebff;}#sk-container-id-1 div.sk-parallel-item::after {content: \"\";width: 100%;border-bottom: 1px solid gray;flex-grow: 1;}#sk-container-id-1 div.sk-label:hover label.sk-toggleable__label {background-color: #d4ebff;}#sk-container-id-1 div.sk-serial::before {content: \"\";position: absolute;border-left: 1px solid gray;box-sizing: border-box;top: 0;bottom: 0;left: 50%;z-index: 0;}#sk-container-id-1 div.sk-serial {display: flex;flex-direction: column;align-items: center;background-color: white;padding-right: 0.2em;padding-left: 0.2em;position: relative;}#sk-container-id-1 div.sk-item {position: relative;z-index: 1;}#sk-container-id-1 div.sk-parallel {display: flex;align-items: stretch;justify-content: center;background-color: white;position: relative;}#sk-container-id-1 div.sk-item::before, #sk-container-id-1 div.sk-parallel-item::before {content: \"\";position: absolute;border-left: 1px solid gray;box-sizing: border-box;top: 0;bottom: 0;left: 50%;z-index: -1;}#sk-container-id-1 div.sk-parallel-item {display: flex;flex-direction: column;z-index: 1;position: relative;background-color: white;}#sk-container-id-1 div.sk-parallel-item:first-child::after {align-self: flex-end;width: 50%;}#sk-container-id-1 div.sk-parallel-item:last-child::after {align-self: flex-start;width: 50%;}#sk-container-id-1 div.sk-parallel-item:only-child::after {width: 0;}#sk-container-id-1 div.sk-dashed-wrapped {border: 1px dashed gray;margin: 0 0.4em 0.5em 0.4em;box-sizing: border-box;padding-bottom: 0.4em;background-color: white;}#sk-container-id-1 div.sk-label label {font-family: monospace;font-weight: bold;display: inline-block;line-height: 1.2em;}#sk-container-id-1 div.sk-label-container {text-align: center;}#sk-container-id-1 div.sk-container {/* jupyter's `normalize.less` sets `[hidden] { display: none; }` but bootstrap.min.css set `[hidden] { display: none !important; }` so we also need the `!important` here to be able to override the default hidden behavior on the sphinx rendered scikit-learn.org. See: https://github.com/scikit-learn/scikit-learn/issues/21755 */display: inline-block !important;position: relative;}#sk-container-id-1 div.sk-text-repr-fallback {display: none;}</style><div id=\"sk-container-id-1\" class=\"sk-top-container\"><div class=\"sk-text-repr-fallback\"><pre>Pipeline(steps=[(&#x27;lr_clf&#x27;, LogisticRegression(random_state=42))])</pre><b>In a Jupyter environment, please rerun this cell to show the HTML representation or trust the notebook. <br />On GitHub, the HTML representation is unable to render, please try loading this page with nbviewer.org.</b></div><div class=\"sk-container\" hidden><div class=\"sk-item sk-dashed-wrapped\"><div class=\"sk-label-container\"><div class=\"sk-label sk-toggleable\"><input class=\"sk-toggleable__control sk-hidden--visually\" id=\"sk-estimator-id-1\" type=\"checkbox\" ><label for=\"sk-estimator-id-1\" class=\"sk-toggleable__label sk-toggleable__label-arrow\">Pipeline</label><div class=\"sk-toggleable__content\"><pre>Pipeline(steps=[(&#x27;lr_clf&#x27;, LogisticRegression(random_state=42))])</pre></div></div></div><div class=\"sk-serial\"><div class=\"sk-item\"><div class=\"sk-estimator sk-toggleable\"><input class=\"sk-toggleable__control sk-hidden--visually\" id=\"sk-estimator-id-2\" type=\"checkbox\" ><label for=\"sk-estimator-id-2\" class=\"sk-toggleable__label sk-toggleable__label-arrow\">LogisticRegression</label><div class=\"sk-toggleable__content\"><pre>LogisticRegression(random_state=42)</pre></div></div></div></div></div></div></div>"
            ]
          },
          "metadata": {},
          "execution_count": 11
        }
      ]
    },
    {
      "cell_type": "code",
      "source": [
        "predicted_lr = lr_ppl_clf.predict(X_test)\n",
        "print(metrics.classification_report(y_test, predicted_lr))\n",
        "print(metrics.accuracy_score(y_test, predicted_lr))\n",
        "print(metrics.precision_score(y_test, predicted_lr, average='macro'))\n",
        "print(metrics.recall_score(y_test, predicted_lr, average='macro'))\n",
        "print(metrics.f1_score(y_test, predicted_lr, average='macro'))"
      ],
      "metadata": {
        "colab": {
          "base_uri": "https://localhost:8080/"
        },
        "id": "dfB4Xw4-KOEc",
        "outputId": "56125c87-8aa7-460c-9cd9-79c9bfae1452"
      },
      "execution_count": null,
      "outputs": [
        {
          "output_type": "stream",
          "name": "stdout",
          "text": [
            "                                                                   precision    recall  f1-score   support\n",
            "\n",
            "               Закон, региональный уровень, законодательный орган       0.83      0.84      0.83       329\n",
            "                Закон, федеральный уровень, законодательный орган       0.91      0.92      0.91       347\n",
            " Постановление, региональный уровень, глава исполнительной власти       0.56      0.50      0.53       318\n",
            "       Постановление, региональный уровень, законодательный орган       0.89      0.89      0.89       302\n",
            "Постановление, региональный уровень, органы исполнительной власти       0.88      0.87      0.87       244\n",
            "               Постановление, региональный уровень, правительство       0.62      0.61      0.62       318\n",
            "                Постановление, федеральный уровень, правительство       0.74      0.80      0.77       314\n",
            "       Приказ, региональный уровень, органы исполнительной власти       0.71      0.72      0.72       325\n",
            "        Приказ, федеральный уровень, органы исполнительной власти       0.81      0.83      0.82       315\n",
            "  Распоряжение, региональный уровень, глава исполнительной власти       0.63      0.58      0.61       330\n",
            "                Распоряжение, региональный уровень, правительство       0.51      0.54      0.52       323\n",
            "   Распоряжение, федеральный уровень, глава исполнительной власти       0.75      0.75      0.75       272\n",
            "                 Распоряжение, федеральный уровень, правительство       0.69      0.67      0.68       324\n",
            "          Указ, региональный уровень, глава исполнительной власти       0.54      0.59      0.56       296\n",
            "           Указ, федеральный уровень, глава исполнительной власти       0.65      0.62      0.63       222\n",
            "\n",
            "                                                         accuracy                           0.72      4579\n",
            "                                                        macro avg       0.71      0.72      0.71      4579\n",
            "                                                     weighted avg       0.71      0.72      0.71      4579\n",
            "\n",
            "0.7150032758244158\n",
            "0.7148073045924637\n",
            "0.7150535838046893\n",
            "0.7145326209712778\n"
          ]
        }
      ]
    },
    {
      "cell_type": "code",
      "source": [],
      "metadata": {
        "id": "uZ4sKFzhx_xL"
      },
      "execution_count": null,
      "outputs": []
    },
    {
      "cell_type": "code",
      "source": [
        "sgd_ppl_clf = Pipeline([\n",
        "\n",
        "    ('sgd_clf', SGDClassifier(random_state=42))\n",
        "])\n",
        "\n",
        "parameters = {\n",
        "              'sgd_clf__loss':['hinge', 'log', 'modified_huber', 'squared_hinge', 'perceptron'],\n",
        "              'sgd_clf__class_weight':[None, 'balanced'],\n",
        "              'sgd_clf__penalty':[None, 'l2', 'l1', 'elasticnet'],\n",
        "\n",
        "              }\n",
        "model = GridSearchCV(sgd_ppl_clf, parameters, cv=4, n_jobs=-1).fit(X_train[:2000], y_train[:2000])\n",
        "print('Best score and parameter combination:')\n",
        "print(model.best_score_, model.best_params_)"
      ],
      "metadata": {
        "colab": {
          "base_uri": "https://localhost:8080/"
        },
        "id": "z2t8z1Rqx_zc",
        "outputId": "4404357a-cf1b-421e-931f-cb0b607c4586"
      },
      "execution_count": null,
      "outputs": [
        {
          "output_type": "stream",
          "name": "stderr",
          "text": [
            "/usr/local/lib/python3.10/dist-packages/sklearn/linear_model/_stochastic_gradient.py:163: FutureWarning: The loss 'log' was deprecated in v1.1 and will be removed in version 1.3. Use `loss='log_loss'` which is equivalent.\n",
            "  warnings.warn(\n"
          ]
        },
        {
          "output_type": "stream",
          "name": "stdout",
          "text": [
            "Best score and parameter combination:\n",
            "0.571 {'sgd_clf__class_weight': None, 'sgd_clf__loss': 'log', 'sgd_clf__penalty': 'elasticnet'}\n"
          ]
        }
      ]
    },
    {
      "cell_type": "code",
      "source": [
        "sgd_ppl_clf = Pipeline([\n",
        "\n",
        "    ('sgd_clf', SGDClassifier(loss='log_loss',penalty='elasticnet', class_weight=None, random_state=42))\n",
        "])\n",
        "sgd_ppl_clf.fit(X_train, y_train)\n",
        "\n",
        "\n",
        "predicted_sgd_val = sgd_ppl_clf.predict(X_test)\n",
        "print(metrics.classification_report(y_test, predicted_sgd_val))\n",
        "print(metrics.accuracy_score(y_test, predicted_sgd_val), 'accuracy')\n",
        "print(metrics.precision_score(y_test, predicted_sgd_val, average='macro'), 'precision')\n",
        "print(metrics.recall_score(y_test, predicted_sgd_val, average='macro'), 'recall')\n",
        "print(metrics.f1_score(y_test, predicted_sgd_val, average='macro'), 'f1')"
      ],
      "metadata": {
        "colab": {
          "base_uri": "https://localhost:8080/"
        },
        "id": "vju3kocSx_2m",
        "outputId": "5da802de-d66d-4fba-c37e-a0c2138f2243"
      },
      "execution_count": null,
      "outputs": [
        {
          "output_type": "stream",
          "name": "stdout",
          "text": [
            "                                                                   precision    recall  f1-score   support\n",
            "\n",
            "               Закон, региональный уровень, законодательный орган       0.78      0.79      0.78       329\n",
            "                Закон, федеральный уровень, законодательный орган       0.89      0.91      0.90       347\n",
            " Постановление, региональный уровень, глава исполнительной власти       0.55      0.54      0.55       318\n",
            "       Постановление, региональный уровень, законодательный орган       0.83      0.90      0.86       302\n",
            "Постановление, региональный уровень, органы исполнительной власти       0.87      0.88      0.88       244\n",
            "               Постановление, региональный уровень, правительство       0.51      0.63      0.56       318\n",
            "                Постановление, федеральный уровень, правительство       0.70      0.82      0.75       314\n",
            "       Приказ, региональный уровень, органы исполнительной власти       0.86      0.60      0.71       325\n",
            "        Приказ, федеральный уровень, органы исполнительной власти       0.78      0.84      0.81       315\n",
            "  Распоряжение, региональный уровень, глава исполнительной власти       0.63      0.60      0.61       330\n",
            "                Распоряжение, региональный уровень, правительство       0.48      0.48      0.48       323\n",
            "   Распоряжение, федеральный уровень, глава исполнительной власти       0.58      0.87      0.70       272\n",
            "                 Распоряжение, федеральный уровень, правительство       0.78      0.51      0.61       324\n",
            "          Указ, региональный уровень, глава исполнительной власти       0.53      0.51      0.52       296\n",
            "           Указ, федеральный уровень, глава исполнительной власти       0.69      0.44      0.53       222\n",
            "\n",
            "                                                         accuracy                           0.69      4579\n",
            "                                                        macro avg       0.70      0.69      0.68      4579\n",
            "                                                     weighted avg       0.70      0.69      0.68      4579\n",
            "\n",
            "0.6879231273203756 accuracy\n",
            "0.697114972047464 precision\n",
            "0.6868442325817516 recall\n",
            "0.6837758164384816 f1\n"
          ]
        }
      ]
    },
    {
      "cell_type": "code",
      "source": [
        "from sklearn.ensemble import RandomForestClassifier"
      ],
      "metadata": {
        "id": "_VEBg3jt7Lq2"
      },
      "execution_count": null,
      "outputs": []
    },
    {
      "cell_type": "code",
      "source": [
        "fr_ppl_clf = Pipeline([\n",
        "\n",
        "    ('rf_clf', RandomForestClassifier(random_state=42))\n",
        "])\n",
        "\n",
        "parameters = {\n",
        "              'rf_clf__n_estimators':[300, 500, 700],\n",
        "              'rf_clf__max_depth':[3, 5, 8, 11],\n",
        "\n",
        "\n",
        "              }\n",
        "model = GridSearchCV(fr_ppl_clf, parameters, cv=4, n_jobs=-1).fit(X_train[:2000], y_train[:2000])\n",
        "print('Best score and parameter combination:')\n",
        "print(model.best_score_, model.best_params_)"
      ],
      "metadata": {
        "colab": {
          "base_uri": "https://localhost:8080/"
        },
        "id": "DqyeaFH77Ls0",
        "outputId": "20263b47-69e6-4aa4-df2f-ba5d698b9867"
      },
      "execution_count": null,
      "outputs": [
        {
          "output_type": "stream",
          "name": "stdout",
          "text": [
            "Best score and parameter combination:\n",
            "0.638 {'rf_clf__max_depth': 11, 'rf_clf__n_estimators': 700}\n"
          ]
        }
      ]
    },
    {
      "cell_type": "code",
      "source": [
        "fr_ppl_clf = Pipeline([\n",
        "\n",
        "    ('sgd_clf', RandomForestClassifier(n_estimators=700,max_depth=11,  random_state=42))\n",
        "])\n",
        "fr_ppl_clf.fit(X_train, y_train)\n",
        "\n",
        "\n",
        "ppredicted_fr_val = fr_ppl_clf.predict(X_test)\n",
        "print(metrics.classification_report(y_test, ppredicted_fr_val))\n",
        "print(metrics.accuracy_score(y_test, ppredicted_fr_val), 'accuracy')\n",
        "print(metrics.precision_score(y_test, ppredicted_fr_val, average='macro'), 'precision')\n",
        "print(metrics.recall_score(y_test, ppredicted_fr_val, average='macro'), 'recall')\n",
        "print(metrics.f1_score(y_test, ppredicted_fr_val, average='macro'), 'f1')"
      ],
      "metadata": {
        "colab": {
          "base_uri": "https://localhost:8080/"
        },
        "id": "7ZgpjSS37U2j",
        "outputId": "0a415238-66a6-44d0-9c3d-d607c6eed611"
      },
      "execution_count": null,
      "outputs": [
        {
          "output_type": "stream",
          "name": "stdout",
          "text": [
            "                                                                   precision    recall  f1-score   support\n",
            "\n",
            "               Закон, региональный уровень, законодательный орган       0.74      0.83      0.78       329\n",
            "                Закон, федеральный уровень, законодательный орган       0.88      0.90      0.89       347\n",
            " Постановление, региональный уровень, глава исполнительной власти       0.59      0.60      0.60       318\n",
            "       Постановление, региональный уровень, законодательный орган       0.94      0.82      0.87       302\n",
            "Постановление, региональный уровень, органы исполнительной власти       0.95      0.86      0.90       244\n",
            "               Постановление, региональный уровень, правительство       0.46      0.64      0.54       318\n",
            "                Постановление, федеральный уровень, правительство       0.72      0.82      0.76       314\n",
            "       Приказ, региональный уровень, органы исполнительной власти       0.80      0.66      0.73       325\n",
            "        Приказ, федеральный уровень, органы исполнительной власти       0.79      0.89      0.84       315\n",
            "  Распоряжение, региональный уровень, глава исполнительной власти       0.74      0.67      0.70       330\n",
            "                Распоряжение, региональный уровень, правительство       0.59      0.59      0.59       323\n",
            "   Распоряжение, федеральный уровень, глава исполнительной власти       0.79      0.84      0.82       272\n",
            "                 Распоряжение, федеральный уровень, правительство       0.74      0.78      0.76       324\n",
            "          Указ, региональный уровень, глава исполнительной власти       0.66      0.51      0.58       296\n",
            "           Указ, федеральный уровень, глава исполнительной власти       0.91      0.61      0.73       222\n",
            "\n",
            "                                                         accuracy                           0.74      4579\n",
            "                                                        macro avg       0.75      0.73      0.74      4579\n",
            "                                                     weighted avg       0.75      0.74      0.74      4579\n",
            "\n",
            "0.735313387202446 accuracy\n",
            "0.754079454309889 precision\n",
            "0.7342612694048986 recall\n",
            "0.7389718359164182 f1\n"
          ]
        }
      ]
    },
    {
      "cell_type": "markdown",
      "source": [
        "Вместе с td-idf"
      ],
      "metadata": {
        "id": "mBRotpB1_v6F"
      }
    },
    {
      "cell_type": "code",
      "source": [
        "X_train, X_test, y_train, y_test = train_test_split(df_w2v['w2v_dif_idf'], df_w2v['doc_name'], test_size=0.2, random_state=42)\n",
        "X_train = np.vstack(X_train)\n",
        "X_test = np.vstack(X_test)"
      ],
      "metadata": {
        "id": "kaxVhIqn_lik"
      },
      "execution_count": null,
      "outputs": []
    },
    {
      "cell_type": "code",
      "source": [
        "lr_ppl_clf = Pipeline([\n",
        "\n",
        "    ('lr_clf', LogisticRegression(random_state=42))\n",
        "])\n",
        "\n",
        "parameters = {\n",
        "              'lr_clf__solver':['lbfgs', 'newton-cg', 'sag', 'saga'],\n",
        "              'lr_clf__class_weight':[None, 'balanced'],\n",
        "              'lr_clf__penalty':[None, 'l2', 'l1', 'elasticnet'],\n",
        "              }\n",
        "\n",
        "model = GridSearchCV(lr_ppl_clf, parameters, cv=4, n_jobs=-1).fit(X_train[:2000], y_train[:2000])\n",
        "print('Best score and parameter combination:')\n",
        "print(model.best_score_, model.best_params_)"
      ],
      "metadata": {
        "colab": {
          "base_uri": "https://localhost:8080/"
        },
        "id": "ieFiTx8U_2js",
        "outputId": "d28566be-9a09-417e-a1b9-83d97daf7ccc"
      },
      "execution_count": null,
      "outputs": [
        {
          "output_type": "stream",
          "name": "stderr",
          "text": [
            "/usr/local/lib/python3.10/dist-packages/sklearn/model_selection/_validation.py:378: FitFailedWarning: \n",
            "56 fits failed out of a total of 128.\n",
            "The score on these train-test partitions for these parameters will be set to nan.\n",
            "If these failures are not expected, you can try to debug them by setting error_score='raise'.\n",
            "\n",
            "Below are more details about the failures:\n",
            "--------------------------------------------------------------------------------\n",
            "8 fits failed with the following error:\n",
            "Traceback (most recent call last):\n",
            "  File \"/usr/local/lib/python3.10/dist-packages/sklearn/model_selection/_validation.py\", line 686, in _fit_and_score\n",
            "    estimator.fit(X_train, y_train, **fit_params)\n",
            "  File \"/usr/local/lib/python3.10/dist-packages/sklearn/pipeline.py\", line 405, in fit\n",
            "    self._final_estimator.fit(Xt, y, **fit_params_last_step)\n",
            "  File \"/usr/local/lib/python3.10/dist-packages/sklearn/linear_model/_logistic.py\", line 1162, in fit\n",
            "    solver = _check_solver(self.solver, self.penalty, self.dual)\n",
            "  File \"/usr/local/lib/python3.10/dist-packages/sklearn/linear_model/_logistic.py\", line 54, in _check_solver\n",
            "    raise ValueError(\n",
            "ValueError: Solver lbfgs supports only 'l2' or 'none' penalties, got l1 penalty.\n",
            "\n",
            "--------------------------------------------------------------------------------\n",
            "8 fits failed with the following error:\n",
            "Traceback (most recent call last):\n",
            "  File \"/usr/local/lib/python3.10/dist-packages/sklearn/model_selection/_validation.py\", line 686, in _fit_and_score\n",
            "    estimator.fit(X_train, y_train, **fit_params)\n",
            "  File \"/usr/local/lib/python3.10/dist-packages/sklearn/pipeline.py\", line 405, in fit\n",
            "    self._final_estimator.fit(Xt, y, **fit_params_last_step)\n",
            "  File \"/usr/local/lib/python3.10/dist-packages/sklearn/linear_model/_logistic.py\", line 1162, in fit\n",
            "    solver = _check_solver(self.solver, self.penalty, self.dual)\n",
            "  File \"/usr/local/lib/python3.10/dist-packages/sklearn/linear_model/_logistic.py\", line 54, in _check_solver\n",
            "    raise ValueError(\n",
            "ValueError: Solver newton-cg supports only 'l2' or 'none' penalties, got l1 penalty.\n",
            "\n",
            "--------------------------------------------------------------------------------\n",
            "8 fits failed with the following error:\n",
            "Traceback (most recent call last):\n",
            "  File \"/usr/local/lib/python3.10/dist-packages/sklearn/model_selection/_validation.py\", line 686, in _fit_and_score\n",
            "    estimator.fit(X_train, y_train, **fit_params)\n",
            "  File \"/usr/local/lib/python3.10/dist-packages/sklearn/pipeline.py\", line 405, in fit\n",
            "    self._final_estimator.fit(Xt, y, **fit_params_last_step)\n",
            "  File \"/usr/local/lib/python3.10/dist-packages/sklearn/linear_model/_logistic.py\", line 1162, in fit\n",
            "    solver = _check_solver(self.solver, self.penalty, self.dual)\n",
            "  File \"/usr/local/lib/python3.10/dist-packages/sklearn/linear_model/_logistic.py\", line 54, in _check_solver\n",
            "    raise ValueError(\n",
            "ValueError: Solver sag supports only 'l2' or 'none' penalties, got l1 penalty.\n",
            "\n",
            "--------------------------------------------------------------------------------\n",
            "8 fits failed with the following error:\n",
            "Traceback (most recent call last):\n",
            "  File \"/usr/local/lib/python3.10/dist-packages/sklearn/model_selection/_validation.py\", line 686, in _fit_and_score\n",
            "    estimator.fit(X_train, y_train, **fit_params)\n",
            "  File \"/usr/local/lib/python3.10/dist-packages/sklearn/pipeline.py\", line 405, in fit\n",
            "    self._final_estimator.fit(Xt, y, **fit_params_last_step)\n",
            "  File \"/usr/local/lib/python3.10/dist-packages/sklearn/linear_model/_logistic.py\", line 1162, in fit\n",
            "    solver = _check_solver(self.solver, self.penalty, self.dual)\n",
            "  File \"/usr/local/lib/python3.10/dist-packages/sklearn/linear_model/_logistic.py\", line 54, in _check_solver\n",
            "    raise ValueError(\n",
            "ValueError: Solver lbfgs supports only 'l2' or 'none' penalties, got elasticnet penalty.\n",
            "\n",
            "--------------------------------------------------------------------------------\n",
            "8 fits failed with the following error:\n",
            "Traceback (most recent call last):\n",
            "  File \"/usr/local/lib/python3.10/dist-packages/sklearn/model_selection/_validation.py\", line 686, in _fit_and_score\n",
            "    estimator.fit(X_train, y_train, **fit_params)\n",
            "  File \"/usr/local/lib/python3.10/dist-packages/sklearn/pipeline.py\", line 405, in fit\n",
            "    self._final_estimator.fit(Xt, y, **fit_params_last_step)\n",
            "  File \"/usr/local/lib/python3.10/dist-packages/sklearn/linear_model/_logistic.py\", line 1162, in fit\n",
            "    solver = _check_solver(self.solver, self.penalty, self.dual)\n",
            "  File \"/usr/local/lib/python3.10/dist-packages/sklearn/linear_model/_logistic.py\", line 54, in _check_solver\n",
            "    raise ValueError(\n",
            "ValueError: Solver newton-cg supports only 'l2' or 'none' penalties, got elasticnet penalty.\n",
            "\n",
            "--------------------------------------------------------------------------------\n",
            "8 fits failed with the following error:\n",
            "Traceback (most recent call last):\n",
            "  File \"/usr/local/lib/python3.10/dist-packages/sklearn/model_selection/_validation.py\", line 686, in _fit_and_score\n",
            "    estimator.fit(X_train, y_train, **fit_params)\n",
            "  File \"/usr/local/lib/python3.10/dist-packages/sklearn/pipeline.py\", line 405, in fit\n",
            "    self._final_estimator.fit(Xt, y, **fit_params_last_step)\n",
            "  File \"/usr/local/lib/python3.10/dist-packages/sklearn/linear_model/_logistic.py\", line 1162, in fit\n",
            "    solver = _check_solver(self.solver, self.penalty, self.dual)\n",
            "  File \"/usr/local/lib/python3.10/dist-packages/sklearn/linear_model/_logistic.py\", line 54, in _check_solver\n",
            "    raise ValueError(\n",
            "ValueError: Solver sag supports only 'l2' or 'none' penalties, got elasticnet penalty.\n",
            "\n",
            "--------------------------------------------------------------------------------\n",
            "8 fits failed with the following error:\n",
            "Traceback (most recent call last):\n",
            "  File \"/usr/local/lib/python3.10/dist-packages/sklearn/model_selection/_validation.py\", line 686, in _fit_and_score\n",
            "    estimator.fit(X_train, y_train, **fit_params)\n",
            "  File \"/usr/local/lib/python3.10/dist-packages/sklearn/pipeline.py\", line 405, in fit\n",
            "    self._final_estimator.fit(Xt, y, **fit_params_last_step)\n",
            "  File \"/usr/local/lib/python3.10/dist-packages/sklearn/linear_model/_logistic.py\", line 1291, in fit\n",
            "    fold_coefs_ = Parallel(n_jobs=self.n_jobs, verbose=self.verbose, prefer=prefer)(\n",
            "  File \"/usr/local/lib/python3.10/dist-packages/sklearn/utils/parallel.py\", line 63, in __call__\n",
            "    return super().__call__(iterable_with_config)\n",
            "  File \"/usr/local/lib/python3.10/dist-packages/joblib/parallel.py\", line 1863, in __call__\n",
            "    return output if self.return_generator else list(output)\n",
            "  File \"/usr/local/lib/python3.10/dist-packages/joblib/parallel.py\", line 1792, in _get_sequential_output\n",
            "    res = func(*args, **kwargs)\n",
            "  File \"/usr/local/lib/python3.10/dist-packages/sklearn/utils/parallel.py\", line 123, in __call__\n",
            "    return self.function(*args, **kwargs)\n",
            "  File \"/usr/local/lib/python3.10/dist-packages/sklearn/linear_model/_logistic.py\", line 521, in _logistic_regression_path\n",
            "    alpha = (1.0 / C) * (1 - l1_ratio)\n",
            "TypeError: unsupported operand type(s) for -: 'int' and 'NoneType'\n",
            "\n",
            "  warnings.warn(some_fits_failed_message, FitFailedWarning)\n",
            "/usr/local/lib/python3.10/dist-packages/sklearn/model_selection/_search.py:952: UserWarning: One or more of the test scores are non-finite: [0.6205 0.603  0.637  0.6385 0.628  0.6265 0.6375 0.637     nan    nan\n",
            "    nan 0.637     nan    nan    nan    nan 0.624  0.601  0.6365 0.639\n",
            " 0.6265 0.6245 0.6385 0.6395    nan    nan    nan 0.64      nan    nan\n",
            "    nan    nan]\n",
            "  warnings.warn(\n"
          ]
        },
        {
          "output_type": "stream",
          "name": "stdout",
          "text": [
            "Best score and parameter combination:\n",
            "0.64 {'lr_clf__class_weight': 'balanced', 'lr_clf__penalty': 'l1', 'lr_clf__solver': 'saga'}\n"
          ]
        },
        {
          "output_type": "stream",
          "name": "stderr",
          "text": [
            "/usr/local/lib/python3.10/dist-packages/sklearn/linear_model/_sag.py:350: ConvergenceWarning: The max_iter was reached which means the coef_ did not converge\n",
            "  warnings.warn(\n"
          ]
        }
      ]
    },
    {
      "cell_type": "code",
      "source": [
        "lr_ppl_clf = Pipeline([\n",
        "\n",
        "    ('lr_clf', LogisticRegression(solver='saga',penalty='l1', class_weight='balanced', random_state=42))\n",
        "])\n",
        "lr_ppl_clf.fit(X_train, y_train)\n",
        "predicted_lr = lr_ppl_clf.predict(X_test)\n",
        "print(metrics.classification_report(y_test, predicted_lr))\n",
        "print(metrics.accuracy_score(y_test, predicted_lr))\n",
        "print(metrics.precision_score(y_test, predicted_lr, average='macro'))\n",
        "print(metrics.recall_score(y_test, predicted_lr, average='macro'))\n",
        "print(metrics.f1_score(y_test, predicted_lr, average='macro'))"
      ],
      "metadata": {
        "colab": {
          "base_uri": "https://localhost:8080/"
        },
        "id": "vRF497un_7Ez",
        "outputId": "9bb3d714-ae58-49af-e85e-be0c7cd3ed0d"
      },
      "execution_count": null,
      "outputs": [
        {
          "output_type": "stream",
          "name": "stderr",
          "text": [
            "/usr/local/lib/python3.10/dist-packages/sklearn/linear_model/_sag.py:350: ConvergenceWarning: The max_iter was reached which means the coef_ did not converge\n",
            "  warnings.warn(\n"
          ]
        },
        {
          "output_type": "stream",
          "name": "stdout",
          "text": [
            "                                                                   precision    recall  f1-score   support\n",
            "\n",
            "               Закон, региональный уровень, законодательный орган       0.81      0.83      0.82       329\n",
            "                Закон, федеральный уровень, законодательный орган       0.90      0.91      0.91       347\n",
            " Постановление, региональный уровень, глава исполнительной власти       0.57      0.54      0.56       318\n",
            "       Постановление, региональный уровень, законодательный орган       0.87      0.88      0.87       302\n",
            "Постановление, региональный уровень, органы исполнительной власти       0.85      0.88      0.86       244\n",
            "               Постановление, региональный уровень, правительство       0.60      0.61      0.61       318\n",
            "                Постановление, федеральный уровень, правительство       0.70      0.81      0.75       314\n",
            "       Приказ, региональный уровень, органы исполнительной власти       0.71      0.72      0.71       325\n",
            "        Приказ, федеральный уровень, органы исполнительной власти       0.84      0.79      0.81       315\n",
            "  Распоряжение, региональный уровень, глава исполнительной власти       0.67      0.57      0.61       330\n",
            "                Распоряжение, региональный уровень, правительство       0.54      0.55      0.54       323\n",
            "   Распоряжение, федеральный уровень, глава исполнительной власти       0.72      0.74      0.73       272\n",
            "                 Распоряжение, федеральный уровень, правительство       0.72      0.63      0.67       324\n",
            "          Указ, региональный уровень, глава исполнительной власти       0.57      0.57      0.57       296\n",
            "           Указ, федеральный уровень, глава исполнительной власти       0.60      0.67      0.63       222\n",
            "\n",
            "                                                         accuracy                           0.71      4579\n",
            "                                                        macro avg       0.71      0.71      0.71      4579\n",
            "                                                     weighted avg       0.71      0.71      0.71      4579\n",
            "\n",
            "0.711945839702992\n",
            "0.7105132413688147\n",
            "0.7130708601708585\n",
            "0.7108168448380311\n"
          ]
        }
      ]
    },
    {
      "cell_type": "code",
      "source": [
        "sgd_ppl_clf = Pipeline([\n",
        "\n",
        "    ('sgd_clf', SGDClassifier(random_state=42))\n",
        "])\n",
        "\n",
        "parameters = {\n",
        "              'sgd_clf__loss':['hinge', 'log', 'modified_huber', 'squared_hinge', 'perceptron'],\n",
        "              'sgd_clf__class_weight':[None, 'balanced'],\n",
        "              'sgd_clf__penalty':[None, 'l2', 'l1', 'elasticnet'],\n",
        "\n",
        "              }\n",
        "model = GridSearchCV(sgd_ppl_clf, parameters, cv=4, n_jobs=-1).fit(X_train[:2000], y_train[:2000])\n",
        "print('Best score and parameter combination:')\n",
        "print(model.best_score_, model.best_params_)"
      ],
      "metadata": {
        "colab": {
          "base_uri": "https://localhost:8080/"
        },
        "id": "QmVrN_r9ABac",
        "outputId": "d33147fc-135f-47cf-8eb8-f4616746ee8e"
      },
      "execution_count": null,
      "outputs": [
        {
          "output_type": "stream",
          "name": "stdout",
          "text": [
            "Best score and parameter combination:\n",
            "0.538 {'sgd_clf__class_weight': None, 'sgd_clf__loss': 'hinge', 'sgd_clf__penalty': None}\n"
          ]
        }
      ]
    },
    {
      "cell_type": "code",
      "source": [
        "sgd_ppl_clf = Pipeline([\n",
        "\n",
        "    ('sgd_clf', SGDClassifier(loss='hinge',penalty=None, class_weight=None, random_state=42))\n",
        "])\n",
        "sgd_ppl_clf.fit(X_train, y_train)\n",
        "\n",
        "\n",
        "predicted_sgd_val = sgd_ppl_clf.predict(X_test)\n",
        "print(metrics.classification_report(y_test, predicted_sgd_val))\n",
        "print(metrics.accuracy_score(y_test, predicted_sgd_val), 'accuracy')\n",
        "print(metrics.precision_score(y_test, predicted_sgd_val, average='macro'), 'precision')\n",
        "print(metrics.recall_score(y_test, predicted_sgd_val, average='macro'), 'recall')\n",
        "print(metrics.f1_score(y_test, predicted_sgd_val, average='macro'), 'f1')"
      ],
      "metadata": {
        "colab": {
          "base_uri": "https://localhost:8080/"
        },
        "id": "DL2OyNtOAE-T",
        "outputId": "8d7d2d3a-6c8b-4ad0-bf94-2bec21662377"
      },
      "execution_count": null,
      "outputs": [
        {
          "output_type": "stream",
          "name": "stderr",
          "text": [
            "/usr/local/lib/python3.10/dist-packages/sklearn/linear_model/_stochastic_gradient.py:702: ConvergenceWarning: Maximum number of iteration reached before convergence. Consider increasing max_iter to improve the fit.\n",
            "  warnings.warn(\n"
          ]
        },
        {
          "output_type": "stream",
          "name": "stdout",
          "text": [
            "                                                                   precision    recall  f1-score   support\n",
            "\n",
            "               Закон, региональный уровень, законодательный орган       0.63      0.80      0.70       329\n",
            "                Закон, федеральный уровень, законодательный орган       0.86      0.85      0.86       347\n",
            " Постановление, региональный уровень, глава исполнительной власти       0.47      0.23      0.31       318\n",
            "       Постановление, региональный уровень, законодательный орган       0.82      0.82      0.82       302\n",
            "Постановление, региональный уровень, органы исполнительной власти       0.82      0.84      0.83       244\n",
            "               Постановление, региональный уровень, правительство       0.61      0.04      0.08       318\n",
            "                Постановление, федеральный уровень, правительство       0.59      0.71      0.65       314\n",
            "       Приказ, региональный уровень, органы исполнительной власти       0.43      0.72      0.54       325\n",
            "        Приказ, федеральный уровень, органы исполнительной власти       0.78      0.76      0.77       315\n",
            "  Распоряжение, региональный уровень, глава исполнительной власти       0.49      0.57      0.53       330\n",
            "                Распоряжение, региональный уровень, правительство       0.46      0.32      0.37       323\n",
            "   Распоряжение, федеральный уровень, глава исполнительной власти       0.60      0.77      0.67       272\n",
            "                 Распоряжение, федеральный уровень, правительство       0.64      0.47      0.54       324\n",
            "          Указ, региональный уровень, глава исполнительной власти       0.38      0.58      0.46       296\n",
            "           Указ, федеральный уровень, глава исполнительной власти       0.53      0.50      0.51       222\n",
            "\n",
            "                                                         accuracy                           0.60      4579\n",
            "                                                        macro avg       0.61      0.60      0.58      4579\n",
            "                                                     weighted avg       0.61      0.60      0.57      4579\n",
            "\n",
            "0.5964184319720462 accuracy\n",
            "0.6078461331162954 precision\n",
            "0.5991706521601619 recall\n",
            "0.5768056149414759 f1\n"
          ]
        }
      ]
    },
    {
      "cell_type": "code",
      "source": [
        "fr_ppl_clf = Pipeline([\n",
        "\n",
        "    ('rf_clf', RandomForestClassifier(random_state=42))\n",
        "])\n",
        "\n",
        "parameters = {\n",
        "              'rf_clf__n_estimators':[300, 500, 700],\n",
        "              'rf_clf__max_depth':[3, 5, 8, 11],\n",
        "\n",
        "\n",
        "              }\n",
        "model = GridSearchCV(fr_ppl_clf, parameters, cv=4, n_jobs=-1).fit(X_train[:2000], y_train[:2000])\n",
        "print('Best score and parameter combination:')\n",
        "print(model.best_score_, model.best_params_)"
      ],
      "metadata": {
        "colab": {
          "base_uri": "https://localhost:8080/"
        },
        "id": "StSfGyrmAJzu",
        "outputId": "06aa1af8-9188-4fd0-cf56-d1d18776822d"
      },
      "execution_count": null,
      "outputs": [
        {
          "output_type": "stream",
          "name": "stdout",
          "text": [
            "Best score and parameter combination:\n",
            "0.6164999999999999 {'rf_clf__max_depth': 11, 'rf_clf__n_estimators': 700}\n"
          ]
        }
      ]
    },
    {
      "cell_type": "code",
      "source": [
        "fr_ppl_clf = Pipeline([\n",
        "\n",
        "    ('sgd_clf', RandomForestClassifier(n_estimators=700,max_depth=11,  random_state=42))\n",
        "])\n",
        "fr_ppl_clf.fit(X_train, y_train)\n",
        "\n",
        "\n",
        "ppredicted_fr_val = fr_ppl_clf.predict(X_test)\n",
        "print(metrics.classification_report(y_test, ppredicted_fr_val))\n",
        "print(metrics.accuracy_score(y_test, ppredicted_fr_val), 'accuracy')\n",
        "print(metrics.precision_score(y_test, ppredicted_fr_val, average='macro'), 'precision')\n",
        "print(metrics.recall_score(y_test, ppredicted_fr_val, average='macro'), 'recall')\n",
        "print(metrics.f1_score(y_test, ppredicted_fr_val, average='macro'), 'f1')"
      ],
      "metadata": {
        "colab": {
          "base_uri": "https://localhost:8080/"
        },
        "id": "vSxatP_qAM22",
        "outputId": "95b0da33-5cca-447b-8f93-43573548c63a"
      },
      "execution_count": null,
      "outputs": [
        {
          "output_type": "stream",
          "name": "stdout",
          "text": [
            "                                                                   precision    recall  f1-score   support\n",
            "\n",
            "               Закон, региональный уровень, законодательный орган       0.71      0.81      0.76       329\n",
            "                Закон, федеральный уровень, законодательный орган       0.85      0.87      0.86       347\n",
            " Постановление, региональный уровень, глава исполнительной власти       0.58      0.60      0.59       318\n",
            "       Постановление, региональный уровень, законодательный орган       0.90      0.83      0.86       302\n",
            "Постановление, региональный уровень, органы исполнительной власти       0.92      0.86      0.89       244\n",
            "               Постановление, региональный уровень, правительство       0.43      0.62      0.50       318\n",
            "                Постановление, федеральный уровень, правительство       0.64      0.78      0.70       314\n",
            "       Приказ, региональный уровень, органы исполнительной власти       0.84      0.68      0.75       325\n",
            "        Приказ, федеральный уровень, органы исполнительной власти       0.69      0.86      0.77       315\n",
            "  Распоряжение, региональный уровень, глава исполнительной власти       0.76      0.67      0.71       330\n",
            "                Распоряжение, региональный уровень, правительство       0.66      0.52      0.58       323\n",
            "   Распоряжение, федеральный уровень, глава исполнительной власти       0.83      0.82      0.83       272\n",
            "                 Распоряжение, федеральный уровень, правительство       0.79      0.79      0.79       324\n",
            "          Указ, региональный уровень, глава исполнительной власти       0.67      0.49      0.57       296\n",
            "           Указ, федеральный уровень, глава исполнительной власти       0.85      0.61      0.71       222\n",
            "\n",
            "                                                         accuracy                           0.72      4579\n",
            "                                                        macro avg       0.74      0.72      0.72      4579\n",
            "                                                     weighted avg       0.74      0.72      0.72      4579\n",
            "\n",
            "0.7206813714784888 accuracy\n",
            "0.7412405686911112 precision\n",
            "0.7201687102017978 recall\n",
            "0.7244709876026418 f1\n"
          ]
        }
      ]
    },
    {
      "cell_type": "code",
      "source": [],
      "metadata": {
        "id": "KeKqO7yRAahy"
      },
      "execution_count": null,
      "outputs": []
    },
    {
      "cell_type": "markdown",
      "source": [
        "Преобученный"
      ],
      "metadata": {
        "id": "z34F6jBaBLNS"
      }
    },
    {
      "cell_type": "code",
      "source": [
        "X_train, X_test, y_train, y_test = train_test_split(df_w2v['w2v_dif_pre'], df_w2v['doc_name'], test_size=0.2, random_state=42)\n",
        "X_train = np.vstack(X_train)\n",
        "X_test = np.vstack(X_test)"
      ],
      "metadata": {
        "id": "AY_1FF5sBNNH"
      },
      "execution_count": null,
      "outputs": []
    },
    {
      "cell_type": "code",
      "source": [
        "lr_ppl_clf = Pipeline([\n",
        "\n",
        "    ('lr_clf', LogisticRegression(random_state=42))\n",
        "])\n",
        "\n",
        "parameters = {\n",
        "              'lr_clf__solver':['lbfgs', 'newton-cg', 'sag', 'saga'],\n",
        "              'lr_clf__class_weight':[None, 'balanced'],\n",
        "              'lr_clf__penalty':[None, 'l2', 'l1', 'elasticnet'],\n",
        "              }\n",
        "\n",
        "model = GridSearchCV(lr_ppl_clf, parameters, cv=4, n_jobs=-1).fit(X_train[:2000], y_train[:2000])\n",
        "print('Best score and parameter combination:')\n",
        "print(model.best_score_, model.best_params_)"
      ],
      "metadata": {
        "colab": {
          "base_uri": "https://localhost:8080/"
        },
        "id": "4Y0nnbceAamd",
        "outputId": "d51ee498-b891-44f7-d53a-5b17a6277eff"
      },
      "execution_count": null,
      "outputs": [
        {
          "output_type": "stream",
          "name": "stderr",
          "text": [
            "/usr/local/lib/python3.10/dist-packages/sklearn/model_selection/_validation.py:378: FitFailedWarning: \n",
            "56 fits failed out of a total of 128.\n",
            "The score on these train-test partitions for these parameters will be set to nan.\n",
            "If these failures are not expected, you can try to debug them by setting error_score='raise'.\n",
            "\n",
            "Below are more details about the failures:\n",
            "--------------------------------------------------------------------------------\n",
            "8 fits failed with the following error:\n",
            "Traceback (most recent call last):\n",
            "  File \"/usr/local/lib/python3.10/dist-packages/sklearn/model_selection/_validation.py\", line 686, in _fit_and_score\n",
            "    estimator.fit(X_train, y_train, **fit_params)\n",
            "  File \"/usr/local/lib/python3.10/dist-packages/sklearn/pipeline.py\", line 405, in fit\n",
            "    self._final_estimator.fit(Xt, y, **fit_params_last_step)\n",
            "  File \"/usr/local/lib/python3.10/dist-packages/sklearn/linear_model/_logistic.py\", line 1162, in fit\n",
            "    solver = _check_solver(self.solver, self.penalty, self.dual)\n",
            "  File \"/usr/local/lib/python3.10/dist-packages/sklearn/linear_model/_logistic.py\", line 54, in _check_solver\n",
            "    raise ValueError(\n",
            "ValueError: Solver lbfgs supports only 'l2' or 'none' penalties, got l1 penalty.\n",
            "\n",
            "--------------------------------------------------------------------------------\n",
            "8 fits failed with the following error:\n",
            "Traceback (most recent call last):\n",
            "  File \"/usr/local/lib/python3.10/dist-packages/sklearn/model_selection/_validation.py\", line 686, in _fit_and_score\n",
            "    estimator.fit(X_train, y_train, **fit_params)\n",
            "  File \"/usr/local/lib/python3.10/dist-packages/sklearn/pipeline.py\", line 405, in fit\n",
            "    self._final_estimator.fit(Xt, y, **fit_params_last_step)\n",
            "  File \"/usr/local/lib/python3.10/dist-packages/sklearn/linear_model/_logistic.py\", line 1162, in fit\n",
            "    solver = _check_solver(self.solver, self.penalty, self.dual)\n",
            "  File \"/usr/local/lib/python3.10/dist-packages/sklearn/linear_model/_logistic.py\", line 54, in _check_solver\n",
            "    raise ValueError(\n",
            "ValueError: Solver newton-cg supports only 'l2' or 'none' penalties, got l1 penalty.\n",
            "\n",
            "--------------------------------------------------------------------------------\n",
            "8 fits failed with the following error:\n",
            "Traceback (most recent call last):\n",
            "  File \"/usr/local/lib/python3.10/dist-packages/sklearn/model_selection/_validation.py\", line 686, in _fit_and_score\n",
            "    estimator.fit(X_train, y_train, **fit_params)\n",
            "  File \"/usr/local/lib/python3.10/dist-packages/sklearn/pipeline.py\", line 405, in fit\n",
            "    self._final_estimator.fit(Xt, y, **fit_params_last_step)\n",
            "  File \"/usr/local/lib/python3.10/dist-packages/sklearn/linear_model/_logistic.py\", line 1162, in fit\n",
            "    solver = _check_solver(self.solver, self.penalty, self.dual)\n",
            "  File \"/usr/local/lib/python3.10/dist-packages/sklearn/linear_model/_logistic.py\", line 54, in _check_solver\n",
            "    raise ValueError(\n",
            "ValueError: Solver sag supports only 'l2' or 'none' penalties, got l1 penalty.\n",
            "\n",
            "--------------------------------------------------------------------------------\n",
            "8 fits failed with the following error:\n",
            "Traceback (most recent call last):\n",
            "  File \"/usr/local/lib/python3.10/dist-packages/sklearn/model_selection/_validation.py\", line 686, in _fit_and_score\n",
            "    estimator.fit(X_train, y_train, **fit_params)\n",
            "  File \"/usr/local/lib/python3.10/dist-packages/sklearn/pipeline.py\", line 405, in fit\n",
            "    self._final_estimator.fit(Xt, y, **fit_params_last_step)\n",
            "  File \"/usr/local/lib/python3.10/dist-packages/sklearn/linear_model/_logistic.py\", line 1162, in fit\n",
            "    solver = _check_solver(self.solver, self.penalty, self.dual)\n",
            "  File \"/usr/local/lib/python3.10/dist-packages/sklearn/linear_model/_logistic.py\", line 54, in _check_solver\n",
            "    raise ValueError(\n",
            "ValueError: Solver lbfgs supports only 'l2' or 'none' penalties, got elasticnet penalty.\n",
            "\n",
            "--------------------------------------------------------------------------------\n",
            "8 fits failed with the following error:\n",
            "Traceback (most recent call last):\n",
            "  File \"/usr/local/lib/python3.10/dist-packages/sklearn/model_selection/_validation.py\", line 686, in _fit_and_score\n",
            "    estimator.fit(X_train, y_train, **fit_params)\n",
            "  File \"/usr/local/lib/python3.10/dist-packages/sklearn/pipeline.py\", line 405, in fit\n",
            "    self._final_estimator.fit(Xt, y, **fit_params_last_step)\n",
            "  File \"/usr/local/lib/python3.10/dist-packages/sklearn/linear_model/_logistic.py\", line 1162, in fit\n",
            "    solver = _check_solver(self.solver, self.penalty, self.dual)\n",
            "  File \"/usr/local/lib/python3.10/dist-packages/sklearn/linear_model/_logistic.py\", line 54, in _check_solver\n",
            "    raise ValueError(\n",
            "ValueError: Solver newton-cg supports only 'l2' or 'none' penalties, got elasticnet penalty.\n",
            "\n",
            "--------------------------------------------------------------------------------\n",
            "8 fits failed with the following error:\n",
            "Traceback (most recent call last):\n",
            "  File \"/usr/local/lib/python3.10/dist-packages/sklearn/model_selection/_validation.py\", line 686, in _fit_and_score\n",
            "    estimator.fit(X_train, y_train, **fit_params)\n",
            "  File \"/usr/local/lib/python3.10/dist-packages/sklearn/pipeline.py\", line 405, in fit\n",
            "    self._final_estimator.fit(Xt, y, **fit_params_last_step)\n",
            "  File \"/usr/local/lib/python3.10/dist-packages/sklearn/linear_model/_logistic.py\", line 1162, in fit\n",
            "    solver = _check_solver(self.solver, self.penalty, self.dual)\n",
            "  File \"/usr/local/lib/python3.10/dist-packages/sklearn/linear_model/_logistic.py\", line 54, in _check_solver\n",
            "    raise ValueError(\n",
            "ValueError: Solver sag supports only 'l2' or 'none' penalties, got elasticnet penalty.\n",
            "\n",
            "--------------------------------------------------------------------------------\n",
            "8 fits failed with the following error:\n",
            "Traceback (most recent call last):\n",
            "  File \"/usr/local/lib/python3.10/dist-packages/sklearn/model_selection/_validation.py\", line 686, in _fit_and_score\n",
            "    estimator.fit(X_train, y_train, **fit_params)\n",
            "  File \"/usr/local/lib/python3.10/dist-packages/sklearn/pipeline.py\", line 405, in fit\n",
            "    self._final_estimator.fit(Xt, y, **fit_params_last_step)\n",
            "  File \"/usr/local/lib/python3.10/dist-packages/sklearn/linear_model/_logistic.py\", line 1291, in fit\n",
            "    fold_coefs_ = Parallel(n_jobs=self.n_jobs, verbose=self.verbose, prefer=prefer)(\n",
            "  File \"/usr/local/lib/python3.10/dist-packages/sklearn/utils/parallel.py\", line 63, in __call__\n",
            "    return super().__call__(iterable_with_config)\n",
            "  File \"/usr/local/lib/python3.10/dist-packages/joblib/parallel.py\", line 1863, in __call__\n",
            "    return output if self.return_generator else list(output)\n",
            "  File \"/usr/local/lib/python3.10/dist-packages/joblib/parallel.py\", line 1792, in _get_sequential_output\n",
            "    res = func(*args, **kwargs)\n",
            "  File \"/usr/local/lib/python3.10/dist-packages/sklearn/utils/parallel.py\", line 123, in __call__\n",
            "    return self.function(*args, **kwargs)\n",
            "  File \"/usr/local/lib/python3.10/dist-packages/sklearn/linear_model/_logistic.py\", line 521, in _logistic_regression_path\n",
            "    alpha = (1.0 / C) * (1 - l1_ratio)\n",
            "TypeError: unsupported operand type(s) for -: 'int' and 'NoneType'\n",
            "\n",
            "  warnings.warn(some_fits_failed_message, FitFailedWarning)\n",
            "/usr/local/lib/python3.10/dist-packages/sklearn/model_selection/_search.py:952: UserWarning: One or more of the test scores are non-finite: [0.5965 0.572  0.5995 0.6035 0.578  0.581  0.581  0.5815    nan    nan\n",
            "    nan 0.5595    nan    nan    nan    nan 0.599  0.5665 0.5985 0.5995\n",
            " 0.575  0.573  0.572  0.572     nan    nan    nan 0.5525    nan    nan\n",
            "    nan    nan]\n",
            "  warnings.warn(\n"
          ]
        },
        {
          "output_type": "stream",
          "name": "stdout",
          "text": [
            "Best score and parameter combination:\n",
            "0.6034999999999999 {'lr_clf__class_weight': None, 'lr_clf__penalty': None, 'lr_clf__solver': 'saga'}\n"
          ]
        },
        {
          "output_type": "stream",
          "name": "stderr",
          "text": [
            "/usr/local/lib/python3.10/dist-packages/sklearn/linear_model/_sag.py:350: ConvergenceWarning: The max_iter was reached which means the coef_ did not converge\n",
            "  warnings.warn(\n"
          ]
        }
      ]
    },
    {
      "cell_type": "code",
      "source": [
        "lr_ppl_clf = Pipeline([\n",
        "\n",
        "    ('lr_clf', LogisticRegression(solver='saga',penalty=None, class_weight=None, random_state=42))\n",
        "])\n",
        "lr_ppl_clf.fit(X_train, y_train)\n",
        "predicted_lr = lr_ppl_clf.predict(X_test)\n",
        "print(metrics.classification_report(y_test, predicted_lr))\n",
        "print(metrics.accuracy_score(y_test, predicted_lr))\n",
        "print(metrics.precision_score(y_test, predicted_lr, average='macro'))\n",
        "print(metrics.recall_score(y_test, predicted_lr, average='macro'))\n",
        "print(metrics.f1_score(y_test, predicted_lr, average='macro'))"
      ],
      "metadata": {
        "colab": {
          "base_uri": "https://localhost:8080/"
        },
        "id": "C6W3YZQVAcRK",
        "outputId": "d767260d-15e8-462d-eb0d-64475c8914ee"
      },
      "execution_count": null,
      "outputs": [
        {
          "output_type": "stream",
          "name": "stderr",
          "text": [
            "/usr/local/lib/python3.10/dist-packages/sklearn/linear_model/_sag.py:350: ConvergenceWarning: The max_iter was reached which means the coef_ did not converge\n",
            "  warnings.warn(\n"
          ]
        },
        {
          "output_type": "stream",
          "name": "stdout",
          "text": [
            "                                                                   precision    recall  f1-score   support\n",
            "\n",
            "               Закон, региональный уровень, законодательный орган       0.73      0.80      0.77       329\n",
            "                Закон, федеральный уровень, законодательный орган       0.85      0.84      0.84       347\n",
            " Постановление, региональный уровень, глава исполнительной власти       0.52      0.47      0.50       318\n",
            "       Постановление, региональный уровень, законодательный орган       0.76      0.76      0.76       302\n",
            "Постановление, региональный уровень, органы исполнительной власти       0.85      0.85      0.85       244\n",
            "               Постановление, региональный уровень, правительство       0.52      0.52      0.52       318\n",
            "                Постановление, федеральный уровень, правительство       0.66      0.72      0.68       314\n",
            "       Приказ, региональный уровень, органы исполнительной власти       0.65      0.70      0.67       325\n",
            "        Приказ, федеральный уровень, органы исполнительной власти       0.71      0.71      0.71       315\n",
            "  Распоряжение, региональный уровень, глава исполнительной власти       0.65      0.56      0.60       330\n",
            "                Распоряжение, региональный уровень, правительство       0.49      0.46      0.48       323\n",
            "   Распоряжение, федеральный уровень, глава исполнительной власти       0.70      0.64      0.67       272\n",
            "                 Распоряжение, федеральный уровень, правительство       0.59      0.58      0.59       324\n",
            "          Указ, региональный уровень, глава исполнительной власти       0.52      0.56      0.54       296\n",
            "           Указ, федеральный уровень, глава исполнительной власти       0.60      0.63      0.61       222\n",
            "\n",
            "                                                         accuracy                           0.65      4579\n",
            "                                                        macro avg       0.65      0.65      0.65      4579\n",
            "                                                     weighted avg       0.65      0.65      0.65      4579\n",
            "\n",
            "0.6514522821576764\n",
            "0.651625880530995\n",
            "0.6529534773417518\n",
            "0.6515580201865857\n"
          ]
        }
      ]
    },
    {
      "cell_type": "code",
      "source": [
        "sgd_ppl_clf = Pipeline([\n",
        "\n",
        "    ('sgd_clf', SGDClassifier(random_state=42))\n",
        "])\n",
        "\n",
        "parameters = {\n",
        "              'sgd_clf__loss':['hinge', 'log', 'modified_huber', 'squared_hinge', 'perceptron'],\n",
        "              'sgd_clf__class_weight':[None, 'balanced'],\n",
        "              'sgd_clf__penalty':[None, 'l2', 'l1', 'elasticnet'],\n",
        "\n",
        "              }\n",
        "model = GridSearchCV(sgd_ppl_clf, parameters, cv=4, n_jobs=-1).fit(X_train[:2000], y_train[:2000])\n",
        "print('Best score and parameter combination:')\n",
        "print(model.best_score_, model.best_params_)"
      ],
      "metadata": {
        "colab": {
          "base_uri": "https://localhost:8080/"
        },
        "id": "HnBtSOOTAcgi",
        "outputId": "3d7dedea-65e4-4c8f-f76a-d6b671100b7b"
      },
      "execution_count": null,
      "outputs": [
        {
          "output_type": "stream",
          "name": "stderr",
          "text": [
            "/usr/local/lib/python3.10/dist-packages/sklearn/linear_model/_stochastic_gradient.py:163: FutureWarning: The loss 'log' was deprecated in v1.1 and will be removed in version 1.3. Use `loss='log_loss'` which is equivalent.\n",
            "  warnings.warn(\n"
          ]
        },
        {
          "output_type": "stream",
          "name": "stdout",
          "text": [
            "Best score and parameter combination:\n",
            "0.5485 {'sgd_clf__class_weight': None, 'sgd_clf__loss': 'log', 'sgd_clf__penalty': 'l1'}\n"
          ]
        }
      ]
    },
    {
      "cell_type": "code",
      "source": [
        "sgd_ppl_clf = Pipeline([\n",
        "\n",
        "    ('sgd_clf', SGDClassifier(loss='log_loss',penalty='l1', class_weight=None, random_state=42))\n",
        "])\n",
        "sgd_ppl_clf.fit(X_train, y_train)\n",
        "\n",
        "\n",
        "predicted_sgd_val = sgd_ppl_clf.predict(X_test)\n",
        "print(metrics.classification_report(y_test, predicted_sgd_val))\n",
        "print(metrics.accuracy_score(y_test, predicted_sgd_val), 'accuracy')\n",
        "print(metrics.precision_score(y_test, predicted_sgd_val, average='macro'), 'precision')\n",
        "print(metrics.recall_score(y_test, predicted_sgd_val, average='macro'), 'recall')\n",
        "print(metrics.f1_score(y_test, predicted_sgd_val, average='macro'), 'f1')"
      ],
      "metadata": {
        "colab": {
          "base_uri": "https://localhost:8080/"
        },
        "id": "FeskllhUAz5Z",
        "outputId": "f3694ddd-ce06-4970-cfd9-e5270ebf0e0d"
      },
      "execution_count": null,
      "outputs": [
        {
          "output_type": "stream",
          "name": "stdout",
          "text": [
            "                                                                   precision    recall  f1-score   support\n",
            "\n",
            "               Закон, региональный уровень, законодательный орган       0.68      0.80      0.74       329\n",
            "                Закон, федеральный уровень, законодательный орган       0.82      0.86      0.84       347\n",
            " Постановление, региональный уровень, глава исполнительной власти       0.49      0.14      0.21       318\n",
            "       Постановление, региональный уровень, законодательный орган       0.73      0.76      0.75       302\n",
            "Постановление, региональный уровень, органы исполнительной власти       0.88      0.84      0.86       244\n",
            "               Постановление, региональный уровень, правительство       0.60      0.31      0.40       318\n",
            "                Постановление, федеральный уровень, правительство       0.68      0.68      0.68       314\n",
            "       Приказ, региональный уровень, органы исполнительной власти       0.59      0.68      0.63       325\n",
            "        Приказ, федеральный уровень, органы исполнительной власти       0.55      0.77      0.64       315\n",
            "  Распоряжение, региональный уровень, глава исполнительной власти       0.67      0.55      0.60       330\n",
            "                Распоряжение, региональный уровень, правительство       0.41      0.49      0.44       323\n",
            "   Распоряжение, федеральный уровень, глава исполнительной власти       0.67      0.61      0.64       272\n",
            "                 Распоряжение, федеральный уровень, правительство       0.53      0.54      0.54       324\n",
            "          Указ, региональный уровень, глава исполнительной власти       0.38      0.68      0.48       296\n",
            "           Указ, федеральный уровень, глава исполнительной власти       0.73      0.44      0.55       222\n",
            "\n",
            "                                                         accuracy                           0.61      4579\n",
            "                                                        macro avg       0.63      0.61      0.60      4579\n",
            "                                                     weighted avg       0.62      0.61      0.60      4579\n",
            "\n",
            "0.6103952828128413 accuracy\n",
            "0.6281021429787462 precision\n",
            "0.6097433402492747 recall\n",
            "0.6010665875937704 f1\n"
          ]
        }
      ]
    },
    {
      "cell_type": "code",
      "source": [
        "fr_ppl_clf = Pipeline([\n",
        "\n",
        "    ('rf_clf', RandomForestClassifier(random_state=42))\n",
        "])\n",
        "\n",
        "parameters = {\n",
        "              'rf_clf__n_estimators':[300, 500, 700],\n",
        "              'rf_clf__max_depth':[3, 5, 8, 11],\n",
        "\n",
        "\n",
        "              }\n",
        "model = GridSearchCV(fr_ppl_clf, parameters, cv=4, n_jobs=-1).fit(X_train[:2000], y_train[:2000])\n",
        "print('Best score and parameter combination:')\n",
        "print(model.best_score_, model.best_params_)"
      ],
      "metadata": {
        "colab": {
          "base_uri": "https://localhost:8080/"
        },
        "id": "jDMY7qO_Az77",
        "outputId": "3b5fa66a-b02c-406f-c728-b7993efa4ef6"
      },
      "execution_count": null,
      "outputs": [
        {
          "output_type": "stream",
          "name": "stdout",
          "text": [
            "Best score and parameter combination:\n",
            "0.6 {'rf_clf__max_depth': 11, 'rf_clf__n_estimators': 700}\n"
          ]
        }
      ]
    },
    {
      "cell_type": "code",
      "source": [
        "fr_ppl_clf = Pipeline([\n",
        "\n",
        "    ('sgd_clf', RandomForestClassifier(n_estimators=700,max_depth=11,  random_state=42))\n",
        "])\n",
        "fr_ppl_clf.fit(X_train, y_train)\n",
        "\n",
        "\n",
        "ppredicted_fr_val = fr_ppl_clf.predict(X_test)\n",
        "print(metrics.classification_report(y_test, ppredicted_fr_val))\n",
        "print(metrics.accuracy_score(y_test, ppredicted_fr_val), 'accuracy')\n",
        "print(metrics.precision_score(y_test, ppredicted_fr_val, average='macro'), 'precision')\n",
        "print(metrics.recall_score(y_test, ppredicted_fr_val, average='macro'), 'recall')\n",
        "print(metrics.f1_score(y_test, ppredicted_fr_val, average='macro'), 'f1')"
      ],
      "metadata": {
        "colab": {
          "base_uri": "https://localhost:8080/"
        },
        "id": "2xzLgPPFAcmo",
        "outputId": "09f6e578-51bb-469d-aba9-f9c3fb0936cf"
      },
      "execution_count": null,
      "outputs": [
        {
          "output_type": "stream",
          "name": "stdout",
          "text": [
            "                                                                   precision    recall  f1-score   support\n",
            "\n",
            "               Закон, региональный уровень, законодательный орган       0.65      0.84      0.73       329\n",
            "                Закон, федеральный уровень, законодательный орган       0.82      0.86      0.84       347\n",
            " Постановление, региональный уровень, глава исполнительной власти       0.65      0.51      0.57       318\n",
            "       Постановление, региональный уровень, законодательный орган       0.85      0.76      0.80       302\n",
            "Постановление, региональный уровень, органы исполнительной власти       0.94      0.86      0.90       244\n",
            "               Постановление, региональный уровень, правительство       0.48      0.58      0.52       318\n",
            "                Постановление, федеральный уровень, правительство       0.65      0.80      0.71       314\n",
            "       Приказ, региональный уровень, органы исполнительной власти       0.69      0.72      0.70       325\n",
            "        Приказ, федеральный уровень, органы исполнительной власти       0.71      0.84      0.77       315\n",
            "  Распоряжение, региональный уровень, глава исполнительной власти       0.73      0.61      0.66       330\n",
            "                Распоряжение, региональный уровень, правительство       0.57      0.57      0.57       323\n",
            "   Распоряжение, федеральный уровень, глава исполнительной власти       0.82      0.79      0.81       272\n",
            "                 Распоряжение, федеральный уровень, правительство       0.80      0.66      0.73       324\n",
            "          Указ, региональный уровень, глава исполнительной власти       0.58      0.53      0.56       296\n",
            "           Указ, федеральный уровень, глава исполнительной власти       0.82      0.63      0.71       222\n",
            "\n",
            "                                                         accuracy                           0.70      4579\n",
            "                                                        macro avg       0.72      0.70      0.71      4579\n",
            "                                                     weighted avg       0.71      0.70      0.70      4579\n",
            "\n",
            "0.7034286962218825 accuracy\n",
            "0.717543505771133 precision\n",
            "0.7039272177712567 recall\n",
            "0.7062542271922397 f1\n"
          ]
        }
      ]
    },
    {
      "cell_type": "code",
      "source": [],
      "metadata": {
        "id": "i5Q5WfqeAcsN"
      },
      "execution_count": null,
      "outputs": []
    },
    {
      "cell_type": "code",
      "source": [],
      "metadata": {
        "id": "L-kcdFG4Acww"
      },
      "execution_count": null,
      "outputs": []
    },
    {
      "cell_type": "markdown",
      "source": [
        "Предобученный с td-idf"
      ],
      "metadata": {
        "id": "QGGcL1y5BO22"
      }
    },
    {
      "cell_type": "code",
      "source": [
        "X_train, X_test, y_train, y_test = train_test_split(df_w2v['w2v_dif_idf_pre'], df_w2v['doc_name'], test_size=0.2, random_state=42)\n",
        "X_train = np.vstack(X_train)\n",
        "X_test = np.vstack(X_test)"
      ],
      "metadata": {
        "id": "t58r0AILBRrI"
      },
      "execution_count": null,
      "outputs": []
    },
    {
      "cell_type": "code",
      "source": [
        "lr_ppl_clf = Pipeline([\n",
        "\n",
        "    ('lr_clf', LogisticRegression(random_state=42))\n",
        "])\n",
        "\n",
        "parameters = {\n",
        "              'lr_clf__solver':['lbfgs', 'newton-cg', 'sag', 'saga'],\n",
        "              'lr_clf__class_weight':[None, 'balanced'],\n",
        "              'lr_clf__penalty':[None, 'l2', 'l1', 'elasticnet'],\n",
        "              }\n",
        "\n",
        "model = GridSearchCV(lr_ppl_clf, parameters, cv=4, n_jobs=-1).fit(X_train[:2000], y_train[:2000])\n",
        "print('Best score and parameter combination:')\n",
        "print(model.best_score_, model.best_params_)"
      ],
      "metadata": {
        "colab": {
          "base_uri": "https://localhost:8080/"
        },
        "id": "18kOzWqoAc3V",
        "outputId": "fc24f4a2-8a6c-4d6d-f20b-c5c23b9a080d"
      },
      "execution_count": null,
      "outputs": [
        {
          "output_type": "stream",
          "name": "stderr",
          "text": [
            "/usr/local/lib/python3.10/dist-packages/sklearn/model_selection/_validation.py:378: FitFailedWarning: \n",
            "56 fits failed out of a total of 128.\n",
            "The score on these train-test partitions for these parameters will be set to nan.\n",
            "If these failures are not expected, you can try to debug them by setting error_score='raise'.\n",
            "\n",
            "Below are more details about the failures:\n",
            "--------------------------------------------------------------------------------\n",
            "8 fits failed with the following error:\n",
            "Traceback (most recent call last):\n",
            "  File \"/usr/local/lib/python3.10/dist-packages/sklearn/model_selection/_validation.py\", line 686, in _fit_and_score\n",
            "    estimator.fit(X_train, y_train, **fit_params)\n",
            "  File \"/usr/local/lib/python3.10/dist-packages/sklearn/pipeline.py\", line 405, in fit\n",
            "    self._final_estimator.fit(Xt, y, **fit_params_last_step)\n",
            "  File \"/usr/local/lib/python3.10/dist-packages/sklearn/linear_model/_logistic.py\", line 1162, in fit\n",
            "    solver = _check_solver(self.solver, self.penalty, self.dual)\n",
            "  File \"/usr/local/lib/python3.10/dist-packages/sklearn/linear_model/_logistic.py\", line 54, in _check_solver\n",
            "    raise ValueError(\n",
            "ValueError: Solver lbfgs supports only 'l2' or 'none' penalties, got l1 penalty.\n",
            "\n",
            "--------------------------------------------------------------------------------\n",
            "8 fits failed with the following error:\n",
            "Traceback (most recent call last):\n",
            "  File \"/usr/local/lib/python3.10/dist-packages/sklearn/model_selection/_validation.py\", line 686, in _fit_and_score\n",
            "    estimator.fit(X_train, y_train, **fit_params)\n",
            "  File \"/usr/local/lib/python3.10/dist-packages/sklearn/pipeline.py\", line 405, in fit\n",
            "    self._final_estimator.fit(Xt, y, **fit_params_last_step)\n",
            "  File \"/usr/local/lib/python3.10/dist-packages/sklearn/linear_model/_logistic.py\", line 1162, in fit\n",
            "    solver = _check_solver(self.solver, self.penalty, self.dual)\n",
            "  File \"/usr/local/lib/python3.10/dist-packages/sklearn/linear_model/_logistic.py\", line 54, in _check_solver\n",
            "    raise ValueError(\n",
            "ValueError: Solver newton-cg supports only 'l2' or 'none' penalties, got l1 penalty.\n",
            "\n",
            "--------------------------------------------------------------------------------\n",
            "8 fits failed with the following error:\n",
            "Traceback (most recent call last):\n",
            "  File \"/usr/local/lib/python3.10/dist-packages/sklearn/model_selection/_validation.py\", line 686, in _fit_and_score\n",
            "    estimator.fit(X_train, y_train, **fit_params)\n",
            "  File \"/usr/local/lib/python3.10/dist-packages/sklearn/pipeline.py\", line 405, in fit\n",
            "    self._final_estimator.fit(Xt, y, **fit_params_last_step)\n",
            "  File \"/usr/local/lib/python3.10/dist-packages/sklearn/linear_model/_logistic.py\", line 1162, in fit\n",
            "    solver = _check_solver(self.solver, self.penalty, self.dual)\n",
            "  File \"/usr/local/lib/python3.10/dist-packages/sklearn/linear_model/_logistic.py\", line 54, in _check_solver\n",
            "    raise ValueError(\n",
            "ValueError: Solver sag supports only 'l2' or 'none' penalties, got l1 penalty.\n",
            "\n",
            "--------------------------------------------------------------------------------\n",
            "8 fits failed with the following error:\n",
            "Traceback (most recent call last):\n",
            "  File \"/usr/local/lib/python3.10/dist-packages/sklearn/model_selection/_validation.py\", line 686, in _fit_and_score\n",
            "    estimator.fit(X_train, y_train, **fit_params)\n",
            "  File \"/usr/local/lib/python3.10/dist-packages/sklearn/pipeline.py\", line 405, in fit\n",
            "    self._final_estimator.fit(Xt, y, **fit_params_last_step)\n",
            "  File \"/usr/local/lib/python3.10/dist-packages/sklearn/linear_model/_logistic.py\", line 1162, in fit\n",
            "    solver = _check_solver(self.solver, self.penalty, self.dual)\n",
            "  File \"/usr/local/lib/python3.10/dist-packages/sklearn/linear_model/_logistic.py\", line 54, in _check_solver\n",
            "    raise ValueError(\n",
            "ValueError: Solver lbfgs supports only 'l2' or 'none' penalties, got elasticnet penalty.\n",
            "\n",
            "--------------------------------------------------------------------------------\n",
            "8 fits failed with the following error:\n",
            "Traceback (most recent call last):\n",
            "  File \"/usr/local/lib/python3.10/dist-packages/sklearn/model_selection/_validation.py\", line 686, in _fit_and_score\n",
            "    estimator.fit(X_train, y_train, **fit_params)\n",
            "  File \"/usr/local/lib/python3.10/dist-packages/sklearn/pipeline.py\", line 405, in fit\n",
            "    self._final_estimator.fit(Xt, y, **fit_params_last_step)\n",
            "  File \"/usr/local/lib/python3.10/dist-packages/sklearn/linear_model/_logistic.py\", line 1162, in fit\n",
            "    solver = _check_solver(self.solver, self.penalty, self.dual)\n",
            "  File \"/usr/local/lib/python3.10/dist-packages/sklearn/linear_model/_logistic.py\", line 54, in _check_solver\n",
            "    raise ValueError(\n",
            "ValueError: Solver newton-cg supports only 'l2' or 'none' penalties, got elasticnet penalty.\n",
            "\n",
            "--------------------------------------------------------------------------------\n",
            "8 fits failed with the following error:\n",
            "Traceback (most recent call last):\n",
            "  File \"/usr/local/lib/python3.10/dist-packages/sklearn/model_selection/_validation.py\", line 686, in _fit_and_score\n",
            "    estimator.fit(X_train, y_train, **fit_params)\n",
            "  File \"/usr/local/lib/python3.10/dist-packages/sklearn/pipeline.py\", line 405, in fit\n",
            "    self._final_estimator.fit(Xt, y, **fit_params_last_step)\n",
            "  File \"/usr/local/lib/python3.10/dist-packages/sklearn/linear_model/_logistic.py\", line 1162, in fit\n",
            "    solver = _check_solver(self.solver, self.penalty, self.dual)\n",
            "  File \"/usr/local/lib/python3.10/dist-packages/sklearn/linear_model/_logistic.py\", line 54, in _check_solver\n",
            "    raise ValueError(\n",
            "ValueError: Solver sag supports only 'l2' or 'none' penalties, got elasticnet penalty.\n",
            "\n",
            "--------------------------------------------------------------------------------\n",
            "8 fits failed with the following error:\n",
            "Traceback (most recent call last):\n",
            "  File \"/usr/local/lib/python3.10/dist-packages/sklearn/model_selection/_validation.py\", line 686, in _fit_and_score\n",
            "    estimator.fit(X_train, y_train, **fit_params)\n",
            "  File \"/usr/local/lib/python3.10/dist-packages/sklearn/pipeline.py\", line 405, in fit\n",
            "    self._final_estimator.fit(Xt, y, **fit_params_last_step)\n",
            "  File \"/usr/local/lib/python3.10/dist-packages/sklearn/linear_model/_logistic.py\", line 1291, in fit\n",
            "    fold_coefs_ = Parallel(n_jobs=self.n_jobs, verbose=self.verbose, prefer=prefer)(\n",
            "  File \"/usr/local/lib/python3.10/dist-packages/sklearn/utils/parallel.py\", line 63, in __call__\n",
            "    return super().__call__(iterable_with_config)\n",
            "  File \"/usr/local/lib/python3.10/dist-packages/joblib/parallel.py\", line 1863, in __call__\n",
            "    return output if self.return_generator else list(output)\n",
            "  File \"/usr/local/lib/python3.10/dist-packages/joblib/parallel.py\", line 1792, in _get_sequential_output\n",
            "    res = func(*args, **kwargs)\n",
            "  File \"/usr/local/lib/python3.10/dist-packages/sklearn/utils/parallel.py\", line 123, in __call__\n",
            "    return self.function(*args, **kwargs)\n",
            "  File \"/usr/local/lib/python3.10/dist-packages/sklearn/linear_model/_logistic.py\", line 521, in _logistic_regression_path\n",
            "    alpha = (1.0 / C) * (1 - l1_ratio)\n",
            "TypeError: unsupported operand type(s) for -: 'int' and 'NoneType'\n",
            "\n",
            "  warnings.warn(some_fits_failed_message, FitFailedWarning)\n",
            "/usr/local/lib/python3.10/dist-packages/sklearn/model_selection/_search.py:952: UserWarning: One or more of the test scores are non-finite: [0.561  0.559  0.58   0.5745 0.577  0.579  0.5765 0.573     nan    nan\n",
            "    nan 0.5725    nan    nan    nan    nan 0.5685 0.5615 0.5775 0.5695\n",
            " 0.572  0.575  0.5725 0.568     nan    nan    nan 0.569     nan    nan\n",
            "    nan    nan]\n",
            "  warnings.warn(\n"
          ]
        },
        {
          "output_type": "stream",
          "name": "stdout",
          "text": [
            "Best score and parameter combination:\n",
            "0.58 {'lr_clf__class_weight': None, 'lr_clf__penalty': None, 'lr_clf__solver': 'sag'}\n"
          ]
        },
        {
          "output_type": "stream",
          "name": "stderr",
          "text": [
            "/usr/local/lib/python3.10/dist-packages/sklearn/linear_model/_sag.py:350: ConvergenceWarning: The max_iter was reached which means the coef_ did not converge\n",
            "  warnings.warn(\n"
          ]
        }
      ]
    },
    {
      "cell_type": "code",
      "source": [
        "lr_ppl_clf = Pipeline([\n",
        "\n",
        "    ('lr_clf', LogisticRegression(solver='sag',penalty=None, class_weight=None, random_state=42))\n",
        "])\n",
        "lr_ppl_clf.fit(X_train, y_train)\n",
        "predicted_lr = lr_ppl_clf.predict(X_test)\n",
        "print(metrics.classification_report(y_test, predicted_lr))\n",
        "print(metrics.accuracy_score(y_test, predicted_lr))\n",
        "print(metrics.precision_score(y_test, predicted_lr, average='macro'))\n",
        "print(metrics.recall_score(y_test, predicted_lr, average='macro'))\n",
        "print(metrics.f1_score(y_test, predicted_lr, average='macro'))"
      ],
      "metadata": {
        "colab": {
          "base_uri": "https://localhost:8080/"
        },
        "id": "IFBG1BgxAhl0",
        "outputId": "59c439c8-1cc8-4dab-da7f-d32252a4ea6d"
      },
      "execution_count": null,
      "outputs": [
        {
          "output_type": "stream",
          "name": "stderr",
          "text": [
            "/usr/local/lib/python3.10/dist-packages/sklearn/linear_model/_sag.py:350: ConvergenceWarning: The max_iter was reached which means the coef_ did not converge\n",
            "  warnings.warn(\n"
          ]
        },
        {
          "output_type": "stream",
          "name": "stdout",
          "text": [
            "                                                                   precision    recall  f1-score   support\n",
            "\n",
            "               Закон, региональный уровень, законодательный орган       0.70      0.79      0.74       329\n",
            "                Закон, федеральный уровень, законодательный орган       0.83      0.84      0.83       347\n",
            " Постановление, региональный уровень, глава исполнительной власти       0.53      0.44      0.48       318\n",
            "       Постановление, региональный уровень, законодательный орган       0.73      0.75      0.74       302\n",
            "Постановление, региональный уровень, органы исполнительной власти       0.83      0.86      0.85       244\n",
            "               Постановление, региональный уровень, правительство       0.50      0.56      0.53       318\n",
            "                Постановление, федеральный уровень, правительство       0.62      0.72      0.67       314\n",
            "       Приказ, региональный уровень, органы исполнительной власти       0.65      0.68      0.66       325\n",
            "        Приказ, федеральный уровень, органы исполнительной власти       0.70      0.69      0.69       315\n",
            "  Распоряжение, региональный уровень, глава исполнительной власти       0.69      0.55      0.61       330\n",
            "                Распоряжение, региональный уровень, правительство       0.52      0.46      0.49       323\n",
            "   Распоряжение, федеральный уровень, глава исполнительной власти       0.69      0.59      0.63       272\n",
            "                 Распоряжение, федеральный уровень, правительство       0.58      0.55      0.56       324\n",
            "          Указ, региональный уровень, глава исполнительной власти       0.51      0.55      0.53       296\n",
            "           Указ, федеральный уровень, глава исполнительной власти       0.56      0.61      0.59       222\n",
            "\n",
            "                                                         accuracy                           0.64      4579\n",
            "                                                        macro avg       0.64      0.64      0.64      4579\n",
            "                                                     weighted avg       0.64      0.64      0.64      4579\n",
            "\n",
            "0.6418431972046298\n",
            "0.6419639471230648\n",
            "0.6431390458426443\n",
            "0.6405799854155979\n"
          ]
        }
      ]
    },
    {
      "cell_type": "code",
      "source": [],
      "metadata": {
        "id": "WIfP2pdqAxfv"
      },
      "execution_count": null,
      "outputs": []
    },
    {
      "cell_type": "code",
      "source": [
        "sgd_ppl_clf = Pipeline([\n",
        "\n",
        "    ('sgd_clf', SGDClassifier(random_state=42))\n",
        "])\n",
        "\n",
        "parameters = {\n",
        "              'sgd_clf__loss':['hinge', 'log', 'modified_huber', 'squared_hinge', 'perceptron'],\n",
        "              'sgd_clf__class_weight':[None, 'balanced'],\n",
        "              'sgd_clf__penalty':[None, 'l2', 'l1', 'elasticnet'],\n",
        "\n",
        "              }\n",
        "model = GridSearchCV(sgd_ppl_clf, parameters, cv=4, n_jobs=-1).fit(X_train[:2000], y_train[:2000])\n",
        "print('Best score and parameter combination:')\n",
        "print(model.best_score_, model.best_params_)"
      ],
      "metadata": {
        "colab": {
          "base_uri": "https://localhost:8080/"
        },
        "id": "BlpctC_aAxiI",
        "outputId": "d0378b1a-6d98-47bf-ad0a-32b1b8f688d9"
      },
      "execution_count": null,
      "outputs": [
        {
          "output_type": "stream",
          "name": "stdout",
          "text": [
            "Best score and parameter combination:\n",
            "0.52 {'sgd_clf__class_weight': None, 'sgd_clf__loss': 'squared_hinge', 'sgd_clf__penalty': None}\n"
          ]
        }
      ]
    },
    {
      "cell_type": "code",
      "source": [
        "sgd_ppl_clf = Pipeline([\n",
        "\n",
        "    ('sgd_clf', SGDClassifier(loss='squared_hinge',penalty=None, class_weight=None, random_state=42))\n",
        "])\n",
        "sgd_ppl_clf.fit(X_train, y_train)\n",
        "\n",
        "\n",
        "predicted_sgd_val = sgd_ppl_clf.predict(X_test)\n",
        "print(metrics.classification_report(y_test, predicted_sgd_val))\n",
        "print(metrics.accuracy_score(y_test, predicted_sgd_val), 'accuracy')\n",
        "print(metrics.precision_score(y_test, predicted_sgd_val, average='macro'), 'precision')\n",
        "print(metrics.recall_score(y_test, predicted_sgd_val, average='macro'), 'recall')\n",
        "print(metrics.f1_score(y_test, predicted_sgd_val, average='macro'), 'f1')"
      ],
      "metadata": {
        "colab": {
          "base_uri": "https://localhost:8080/"
        },
        "id": "mnF4WMxpA4cE",
        "outputId": "44e6bc54-0753-41a9-cfb9-88853f608069"
      },
      "execution_count": null,
      "outputs": [
        {
          "output_type": "stream",
          "name": "stderr",
          "text": [
            "/usr/local/lib/python3.10/dist-packages/sklearn/linear_model/_stochastic_gradient.py:702: ConvergenceWarning: Maximum number of iteration reached before convergence. Consider increasing max_iter to improve the fit.\n",
            "  warnings.warn(\n"
          ]
        },
        {
          "output_type": "stream",
          "name": "stdout",
          "text": [
            "                                                                   precision    recall  f1-score   support\n",
            "\n",
            "               Закон, региональный уровень, законодательный орган       0.32      0.71      0.44       329\n",
            "                Закон, федеральный уровень, законодательный орган       0.76      0.79      0.77       347\n",
            " Постановление, региональный уровень, глава исполнительной власти       0.31      0.58      0.40       318\n",
            "       Постановление, региональный уровень, законодательный орган       0.66      0.40      0.50       302\n",
            "Постановление, региональный уровень, органы исполнительной власти       0.76      0.75      0.76       244\n",
            "               Постановление, региональный уровень, правительство       0.51      0.29      0.37       318\n",
            "                Постановление, федеральный уровень, правительство       0.56      0.64      0.60       314\n",
            "       Приказ, региональный уровень, органы исполнительной власти       0.25      0.63      0.36       325\n",
            "        Приказ, федеральный уровень, органы исполнительной власти       0.43      0.01      0.02       315\n",
            "  Распоряжение, региональный уровень, глава исполнительной власти       0.72      0.47      0.57       330\n",
            "                Распоряжение, региональный уровень, правительство       0.47      0.06      0.10       323\n",
            "   Распоряжение, федеральный уровень, глава исполнительной власти       0.50      0.65      0.57       272\n",
            "                 Распоряжение, федеральный уровень, правительство       0.49      0.29      0.37       324\n",
            "          Указ, региональный уровень, глава исполнительной власти       0.51      0.33      0.40       296\n",
            "           Указ, федеральный уровень, глава исполнительной власти       0.65      0.32      0.43       222\n",
            "\n",
            "                                                         accuracy                           0.46      4579\n",
            "                                                        macro avg       0.53      0.46      0.44      4579\n",
            "                                                     weighted avg       0.52      0.46      0.44      4579\n",
            "\n",
            "0.46167285433500765 accuracy\n",
            "0.5273918151185916 precision\n",
            "0.46209592263266536 recall\n",
            "0.4438318100545197 f1\n"
          ]
        }
      ]
    },
    {
      "cell_type": "code",
      "source": [
        "fr_ppl_clf = Pipeline([\n",
        "\n",
        "    ('rf_clf', RandomForestClassifier(random_state=42))\n",
        "])\n",
        "\n",
        "parameters = {\n",
        "              'rf_clf__n_estimators':[300, 500, 700],\n",
        "              'rf_clf__max_depth':[3, 5, 8, 11],\n",
        "\n",
        "\n",
        "              }\n",
        "model = GridSearchCV(fr_ppl_clf, parameters, cv=4, n_jobs=-1).fit(X_train[:2000], y_train[:2000])\n",
        "print('Best score and parameter combination:')\n",
        "print(model.best_score_, model.best_params_)"
      ],
      "metadata": {
        "colab": {
          "base_uri": "https://localhost:8080/"
        },
        "id": "tRXgufWEBAJH",
        "outputId": "dbecc4b2-ea78-4a03-99b6-6a05f0b0925a"
      },
      "execution_count": null,
      "outputs": [
        {
          "output_type": "stream",
          "name": "stdout",
          "text": [
            "Best score and parameter combination:\n",
            "0.5415000000000001 {'rf_clf__max_depth': 11, 'rf_clf__n_estimators': 700}\n"
          ]
        }
      ]
    },
    {
      "cell_type": "code",
      "source": [
        "fr_ppl_clf = Pipeline([\n",
        "\n",
        "    ('sgd_clf', RandomForestClassifier(n_estimators=700,max_depth=11,  random_state=42))\n",
        "])\n",
        "fr_ppl_clf.fit(X_train, y_train)\n",
        "\n",
        "\n",
        "ppredicted_fr_val = fr_ppl_clf.predict(X_test)\n",
        "print(metrics.classification_report(y_test, ppredicted_fr_val))\n",
        "print(metrics.accuracy_score(y_test, ppredicted_fr_val), 'accuracy')\n",
        "print(metrics.precision_score(y_test, ppredicted_fr_val, average='macro'), 'precision')\n",
        "print(metrics.recall_score(y_test, ppredicted_fr_val, average='macro'), 'recall')\n",
        "print(metrics.f1_score(y_test, ppredicted_fr_val, average='macro'), 'f1')"
      ],
      "metadata": {
        "colab": {
          "base_uri": "https://localhost:8080/"
        },
        "id": "Vfe0hrWrBFU7",
        "outputId": "fde811bd-a4f2-4c06-a85f-78249919e526"
      },
      "execution_count": null,
      "outputs": [
        {
          "output_type": "stream",
          "name": "stdout",
          "text": [
            "                                                                   precision    recall  f1-score   support\n",
            "\n",
            "               Закон, региональный уровень, законодательный орган       0.59      0.76      0.66       329\n",
            "                Закон, федеральный уровень, законодательный орган       0.76      0.87      0.81       347\n",
            " Постановление, региональный уровень, глава исполнительной власти       0.59      0.49      0.54       318\n",
            "       Постановление, региональный уровень, законодательный орган       0.79      0.74      0.76       302\n",
            "Постановление, региональный уровень, органы исполнительной власти       0.94      0.84      0.88       244\n",
            "               Постановление, региональный уровень, правительство       0.41      0.50      0.45       318\n",
            "                Постановление, федеральный уровень, правительство       0.65      0.74      0.69       314\n",
            "       Приказ, региональный уровень, органы исполнительной власти       0.63      0.70      0.66       325\n",
            "        Приказ, федеральный уровень, органы исполнительной власти       0.65      0.79      0.71       315\n",
            "  Распоряжение, региональный уровень, глава исполнительной власти       0.68      0.60      0.64       330\n",
            "                Распоряжение, региональный уровень, правительство       0.58      0.47      0.52       323\n",
            "   Распоряжение, федеральный уровень, глава исполнительной власти       0.71      0.71      0.71       272\n",
            "                 Распоряжение, федеральный уровень, правительство       0.80      0.62      0.70       324\n",
            "          Указ, региональный уровень, глава исполнительной власти       0.55      0.50      0.52       296\n",
            "           Указ, федеральный уровень, глава исполнительной власти       0.78      0.58      0.66       222\n",
            "\n",
            "                                                         accuracy                           0.66      4579\n",
            "                                                        macro avg       0.67      0.66      0.66      4579\n",
            "                                                     weighted avg       0.67      0.66      0.66      4579\n",
            "\n",
            "0.6597510373443983 accuracy\n",
            "0.6739254144849488 precision\n",
            "0.6598184808331577 recall\n",
            "0.6619197767468084 f1\n"
          ]
        }
      ]
    }
  ]
}