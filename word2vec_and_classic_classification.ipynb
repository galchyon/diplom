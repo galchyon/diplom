{
  "nbformat": 4,
  "nbformat_minor": 0,
  "metadata": {
    "colab": {
      "provenance": []
    },
    "kernelspec": {
      "name": "python3",
      "display_name": "Python 3"
    },
    "language_info": {
      "name": "python"
    }
  },
  "cells": [
    {
      "cell_type": "code",
      "execution_count": null,
      "metadata": {
        "colab": {
          "base_uri": "https://localhost:8080/"
        },
        "id": "OjVagb4r6Fep",
        "outputId": "c87abf6b-1a3a-487e-955f-3943d6d37e47"
      },
      "outputs": [
        {
          "output_type": "stream",
          "name": "stdout",
          "text": [
            "Mounted at /content/drive\n"
          ]
        }
      ],
      "source": [
        "from google.colab import drive\n",
        "drive.mount('/content/drive')\n",
        "\n",
        "import numpy as np\n",
        "import pandas as pd\n",
        "import torch\n",
        "import itertools\n",
        "import string\n",
        "import numpy as np\n",
        "from IPython.display import clear_output\n",
        "from matplotlib import pyplot as plt\n",
        "from gensim.models import word2vec\n",
        "from collections import Counter\n",
        "\n",
        "from sklearn.model_selection import train_test_split\n",
        "from sklearn.linear_model import LogisticRegression\n",
        "from sklearn.model_selection import GridSearchCV\n",
        "from sklearn.model_selection import cross_val_score\n",
        "from sklearn.model_selection import train_test_split\n",
        "from sklearn.pipeline import Pipeline\n",
        "from sklearn.feature_extraction.text import TfidfVectorizer\n",
        "from sklearn.linear_model import SGDClassifier\n",
        "\n",
        "from sklearn import metrics\n",
        "from sklearn.model_selection import GridSearchCV\n",
        "\n",
        "from sklearn.ensemble import RandomForestClassifier"
      ]
    },
    {
      "cell_type": "code",
      "source": [
        "df = pd.read_csv('/content/drive/MyDrive/df_difficult_26_01.csv')\n",
        "target_names = list(set(df['doc_name'].tolist()))\n",
        "label2idx = {label: idx for idx, label in enumerate(target_names)}\n",
        "print(label2idx)\n",
        "df['doc_name_enc']=df['doc_name'].replace(label2idx)\n",
        "df"
      ],
      "metadata": {
        "colab": {
          "base_uri": "https://localhost:8080/",
          "height": 635
        },
        "id": "4pD_HTk66LMX",
        "outputId": "b6078ed5-5c59-4a6e-92b6-3694a50967fc"
      },
      "execution_count": null,
      "outputs": [
        {
          "output_type": "stream",
          "name": "stdout",
          "text": [
            "{'Распоряжение, региональный уровень, глава исполнительной власти': 0, 'Закон, федеральный уровень, законодательный орган': 1, 'Распоряжение, федеральный уровень, глава исполнительной власти': 2, 'Постановление, региональный уровень, органы исполнительной власти': 3, 'Постановление, региональный уровень, законодательный орган': 4, 'Постановление, федеральный уровень, правительство': 5, 'Закон, региональный уровень, законодательный орган': 6, 'Постановление, региональный уровень, глава исполнительной власти': 7, 'Постановление, региональный уровень, правительство': 8, 'Распоряжение, региональный уровень, правительство': 9, 'Распоряжение, федеральный уровень, правительство': 10, 'Указ, региональный уровень, глава исполнительной власти': 11, 'Приказ, федеральный уровень, органы исполнительной власти': 12, 'Приказ, региональный уровень, органы исполнительной власти': 13, 'Указ, федеральный уровень, глава исполнительной власти': 14}\n"
          ]
        },
        {
          "output_type": "execute_result",
          "data": {
            "text/plain": [
              "                                                doc_name  \\\n",
              "0      Распоряжение, федеральный уровень, глава испол...   \n",
              "1      Распоряжение, федеральный уровень, глава испол...   \n",
              "2      Указ, федеральный уровень, глава исполнительно...   \n",
              "3      Распоряжение, федеральный уровень, глава испол...   \n",
              "4      Распоряжение, федеральный уровень, глава испол...   \n",
              "...                                                  ...   \n",
              "22886  Указ, региональный уровень, глава исполнительн...   \n",
              "22887  Указ, региональный уровень, глава исполнительн...   \n",
              "22888  Указ, региональный уровень, глава исполнительн...   \n",
              "22889  Указ, региональный уровень, глава исполнительн...   \n",
              "22890  Указ, региональный уровень, глава исполнительн...   \n",
              "\n",
              "                                                doc_text  \\\n",
              "0      распоряжение президента российской федерации о...   \n",
              "1      распоряжение президента российской федерации о...   \n",
              "2      указ президента российской федерации об освобо...   \n",
              "3      распоряжение президента российской федерации о...   \n",
              "4      распоряжение президента российской федерации о...   \n",
              "...                                                  ...   \n",
              "22886  губернатор орловской области у к аз о мерах по...   \n",
              "22887  ммжхжчмитжкъщ  а  г х м  башкортостан республи...   \n",
              "22888  у к а з губернатора пермского края   об отмене...   \n",
              "22889  у к а з губернатора пермского края   г об утве...   \n",
              "22890  указ об отмене ограничительных мероприятий кар...   \n",
              "\n",
              "                                              text_token  \\\n",
              "0      распоряжение президент российский федерация ус...   \n",
              "1      распоряжение президент российский федерация пр...   \n",
              "2      указ президент российский федерация освобожден...   \n",
              "3      распоряжение президент российский федерация по...   \n",
              "4      распоряжение президент российский федерация по...   \n",
              "...                                                  ...   \n",
              "22886  губернатор орловский область мера проведение к...   \n",
              "22887  ммжхжчмитжкъщий башкортостан республикаь респу...   \n",
              "22888  губернатор пермский край отмена ограничение ка...   \n",
              "22889  губернатор пермский край утверждение порядок п...   \n",
              "22890  указ отмена ограничительный мероприятие карант...   \n",
              "\n",
              "                                      text_token_filtred  \\\n",
              "0      распоряжение президент российский федерация ус...   \n",
              "1      распоряжение президент российский федерация пр...   \n",
              "2      указ президент российский федерация освобожден...   \n",
              "3      распоряжение президент российский федерация по...   \n",
              "4      распоряжение президент российский федерация по...   \n",
              "...                                                  ...   \n",
              "22886  губернатор орловский область мера проведение к...   \n",
              "22887  ммжхжчмитжкъщий башкортостан республикаь респу...   \n",
              "22888  губернатор пермский край отмена ограничение ка...   \n",
              "22889  губернатор пермский край утверждение порядок п...   \n",
              "22890  указ отмена ограничительный мероприятие карант...   \n",
              "\n",
              "                                          text_difficult  doc_name_enc  \n",
              "0      комитет российский федерация установить числен...             2  \n",
              "1      российский федерация контроль оборот наркотик ...             2  \n",
              "2      федерация контроль оборот наркотик освободить ...            14  \n",
              "3      многолетний плодотворный деятельность наградит...             2  \n",
              "4      молодёжь объявить благодарность андропов игорь...             2  \n",
              "...                                                  ...           ...  \n",
              "22886  проживать инвалид ветеран великий отечественны...            11  \n",
              "22887  должность заместитель премьер министр правител...            11  \n",
              "22888  посёлок октябрьский соответствие закон российс...            11  \n",
              "22889  должность пермский край отдельный должность го...            11  \n",
              "22890  область соответствие закон российский федераши...            11  \n",
              "\n",
              "[22891 rows x 6 columns]"
            ],
            "text/html": [
              "\n",
              "  <div id=\"df-3f1054fe-b2ac-4ec7-b1fc-3933966ea13d\" class=\"colab-df-container\">\n",
              "    <div>\n",
              "<style scoped>\n",
              "    .dataframe tbody tr th:only-of-type {\n",
              "        vertical-align: middle;\n",
              "    }\n",
              "\n",
              "    .dataframe tbody tr th {\n",
              "        vertical-align: top;\n",
              "    }\n",
              "\n",
              "    .dataframe thead th {\n",
              "        text-align: right;\n",
              "    }\n",
              "</style>\n",
              "<table border=\"1\" class=\"dataframe\">\n",
              "  <thead>\n",
              "    <tr style=\"text-align: right;\">\n",
              "      <th></th>\n",
              "      <th>doc_name</th>\n",
              "      <th>doc_text</th>\n",
              "      <th>text_token</th>\n",
              "      <th>text_token_filtred</th>\n",
              "      <th>text_difficult</th>\n",
              "      <th>doc_name_enc</th>\n",
              "    </tr>\n",
              "  </thead>\n",
              "  <tbody>\n",
              "    <tr>\n",
              "      <th>0</th>\n",
              "      <td>Распоряжение, федеральный уровень, глава испол...</td>\n",
              "      <td>распоряжение президента российской федерации о...</td>\n",
              "      <td>распоряжение президент российский федерация ус...</td>\n",
              "      <td>распоряжение президент российский федерация ус...</td>\n",
              "      <td>комитет российский федерация установить числен...</td>\n",
              "      <td>2</td>\n",
              "    </tr>\n",
              "    <tr>\n",
              "      <th>1</th>\n",
              "      <td>Распоряжение, федеральный уровень, глава испол...</td>\n",
              "      <td>распоряжение президента российской федерации о...</td>\n",
              "      <td>распоряжение президент российский федерация пр...</td>\n",
              "      <td>распоряжение президент российский федерация пр...</td>\n",
              "      <td>российский федерация контроль оборот наркотик ...</td>\n",
              "      <td>2</td>\n",
              "    </tr>\n",
              "    <tr>\n",
              "      <th>2</th>\n",
              "      <td>Указ, федеральный уровень, глава исполнительно...</td>\n",
              "      <td>указ президента российской федерации об освобо...</td>\n",
              "      <td>указ президент российский федерация освобожден...</td>\n",
              "      <td>указ президент российский федерация освобожден...</td>\n",
              "      <td>федерация контроль оборот наркотик освободить ...</td>\n",
              "      <td>14</td>\n",
              "    </tr>\n",
              "    <tr>\n",
              "      <th>3</th>\n",
              "      <td>Распоряжение, федеральный уровень, глава испол...</td>\n",
              "      <td>распоряжение президента российской федерации о...</td>\n",
              "      <td>распоряжение президент российский федерация по...</td>\n",
              "      <td>распоряжение президент российский федерация по...</td>\n",
              "      <td>многолетний плодотворный деятельность наградит...</td>\n",
              "      <td>2</td>\n",
              "    </tr>\n",
              "    <tr>\n",
              "      <th>4</th>\n",
              "      <td>Распоряжение, федеральный уровень, глава испол...</td>\n",
              "      <td>распоряжение президента российской федерации о...</td>\n",
              "      <td>распоряжение президент российский федерация по...</td>\n",
              "      <td>распоряжение президент российский федерация по...</td>\n",
              "      <td>молодёжь объявить благодарность андропов игорь...</td>\n",
              "      <td>2</td>\n",
              "    </tr>\n",
              "    <tr>\n",
              "      <th>...</th>\n",
              "      <td>...</td>\n",
              "      <td>...</td>\n",
              "      <td>...</td>\n",
              "      <td>...</td>\n",
              "      <td>...</td>\n",
              "      <td>...</td>\n",
              "    </tr>\n",
              "    <tr>\n",
              "      <th>22886</th>\n",
              "      <td>Указ, региональный уровень, глава исполнительн...</td>\n",
              "      <td>губернатор орловской области у к аз о мерах по...</td>\n",
              "      <td>губернатор орловский область мера проведение к...</td>\n",
              "      <td>губернатор орловский область мера проведение к...</td>\n",
              "      <td>проживать инвалид ветеран великий отечественны...</td>\n",
              "      <td>11</td>\n",
              "    </tr>\n",
              "    <tr>\n",
              "      <th>22887</th>\n",
              "      <td>Указ, региональный уровень, глава исполнительн...</td>\n",
              "      <td>ммжхжчмитжкъщ  а  г х м  башкортостан республи...</td>\n",
              "      <td>ммжхжчмитжкъщий башкортостан республикаь респу...</td>\n",
              "      <td>ммжхжчмитжкъщий башкортостан республикаь респу...</td>\n",
              "      <td>должность заместитель премьер министр правител...</td>\n",
              "      <td>11</td>\n",
              "    </tr>\n",
              "    <tr>\n",
              "      <th>22888</th>\n",
              "      <td>Указ, региональный уровень, глава исполнительн...</td>\n",
              "      <td>у к а з губернатора пермского края   об отмене...</td>\n",
              "      <td>губернатор пермский край отмена ограничение ка...</td>\n",
              "      <td>губернатор пермский край отмена ограничение ка...</td>\n",
              "      <td>посёлок октябрьский соответствие закон российс...</td>\n",
              "      <td>11</td>\n",
              "    </tr>\n",
              "    <tr>\n",
              "      <th>22889</th>\n",
              "      <td>Указ, региональный уровень, глава исполнительн...</td>\n",
              "      <td>у к а з губернатора пермского края   г об утве...</td>\n",
              "      <td>губернатор пермский край утверждение порядок п...</td>\n",
              "      <td>губернатор пермский край утверждение порядок п...</td>\n",
              "      <td>должность пермский край отдельный должность го...</td>\n",
              "      <td>11</td>\n",
              "    </tr>\n",
              "    <tr>\n",
              "      <th>22890</th>\n",
              "      <td>Указ, региональный уровень, глава исполнительн...</td>\n",
              "      <td>указ об отмене ограничительных мероприятий кар...</td>\n",
              "      <td>указ отмена ограничительный мероприятие карант...</td>\n",
              "      <td>указ отмена ограничительный мероприятие карант...</td>\n",
              "      <td>область соответствие закон российский федераши...</td>\n",
              "      <td>11</td>\n",
              "    </tr>\n",
              "  </tbody>\n",
              "</table>\n",
              "<p>22891 rows × 6 columns</p>\n",
              "</div>\n",
              "    <div class=\"colab-df-buttons\">\n",
              "\n",
              "  <div class=\"colab-df-container\">\n",
              "    <button class=\"colab-df-convert\" onclick=\"convertToInteractive('df-3f1054fe-b2ac-4ec7-b1fc-3933966ea13d')\"\n",
              "            title=\"Convert this dataframe to an interactive table.\"\n",
              "            style=\"display:none;\">\n",
              "\n",
              "  <svg xmlns=\"http://www.w3.org/2000/svg\" height=\"24px\" viewBox=\"0 -960 960 960\">\n",
              "    <path d=\"M120-120v-720h720v720H120Zm60-500h600v-160H180v160Zm220 220h160v-160H400v160Zm0 220h160v-160H400v160ZM180-400h160v-160H180v160Zm440 0h160v-160H620v160ZM180-180h160v-160H180v160Zm440 0h160v-160H620v160Z\"/>\n",
              "  </svg>\n",
              "    </button>\n",
              "\n",
              "  <style>\n",
              "    .colab-df-container {\n",
              "      display:flex;\n",
              "      gap: 12px;\n",
              "    }\n",
              "\n",
              "    .colab-df-convert {\n",
              "      background-color: #E8F0FE;\n",
              "      border: none;\n",
              "      border-radius: 50%;\n",
              "      cursor: pointer;\n",
              "      display: none;\n",
              "      fill: #1967D2;\n",
              "      height: 32px;\n",
              "      padding: 0 0 0 0;\n",
              "      width: 32px;\n",
              "    }\n",
              "\n",
              "    .colab-df-convert:hover {\n",
              "      background-color: #E2EBFA;\n",
              "      box-shadow: 0px 1px 2px rgba(60, 64, 67, 0.3), 0px 1px 3px 1px rgba(60, 64, 67, 0.15);\n",
              "      fill: #174EA6;\n",
              "    }\n",
              "\n",
              "    .colab-df-buttons div {\n",
              "      margin-bottom: 4px;\n",
              "    }\n",
              "\n",
              "    [theme=dark] .colab-df-convert {\n",
              "      background-color: #3B4455;\n",
              "      fill: #D2E3FC;\n",
              "    }\n",
              "\n",
              "    [theme=dark] .colab-df-convert:hover {\n",
              "      background-color: #434B5C;\n",
              "      box-shadow: 0px 1px 3px 1px rgba(0, 0, 0, 0.15);\n",
              "      filter: drop-shadow(0px 1px 2px rgba(0, 0, 0, 0.3));\n",
              "      fill: #FFFFFF;\n",
              "    }\n",
              "  </style>\n",
              "\n",
              "    <script>\n",
              "      const buttonEl =\n",
              "        document.querySelector('#df-3f1054fe-b2ac-4ec7-b1fc-3933966ea13d button.colab-df-convert');\n",
              "      buttonEl.style.display =\n",
              "        google.colab.kernel.accessAllowed ? 'block' : 'none';\n",
              "\n",
              "      async function convertToInteractive(key) {\n",
              "        const element = document.querySelector('#df-3f1054fe-b2ac-4ec7-b1fc-3933966ea13d');\n",
              "        const dataTable =\n",
              "          await google.colab.kernel.invokeFunction('convertToInteractive',\n",
              "                                                    [key], {});\n",
              "        if (!dataTable) return;\n",
              "\n",
              "        const docLinkHtml = 'Like what you see? Visit the ' +\n",
              "          '<a target=\"_blank\" href=https://colab.research.google.com/notebooks/data_table.ipynb>data table notebook</a>'\n",
              "          + ' to learn more about interactive tables.';\n",
              "        element.innerHTML = '';\n",
              "        dataTable['output_type'] = 'display_data';\n",
              "        await google.colab.output.renderOutput(dataTable, element);\n",
              "        const docLink = document.createElement('div');\n",
              "        docLink.innerHTML = docLinkHtml;\n",
              "        element.appendChild(docLink);\n",
              "      }\n",
              "    </script>\n",
              "  </div>\n",
              "\n",
              "\n",
              "<div id=\"df-ff6dce21-8130-44d8-baed-7c7449e9ab45\">\n",
              "  <button class=\"colab-df-quickchart\" onclick=\"quickchart('df-ff6dce21-8130-44d8-baed-7c7449e9ab45')\"\n",
              "            title=\"Suggest charts\"\n",
              "            style=\"display:none;\">\n",
              "\n",
              "<svg xmlns=\"http://www.w3.org/2000/svg\" height=\"24px\"viewBox=\"0 0 24 24\"\n",
              "     width=\"24px\">\n",
              "    <g>\n",
              "        <path d=\"M19 3H5c-1.1 0-2 .9-2 2v14c0 1.1.9 2 2 2h14c1.1 0 2-.9 2-2V5c0-1.1-.9-2-2-2zM9 17H7v-7h2v7zm4 0h-2V7h2v10zm4 0h-2v-4h2v4z\"/>\n",
              "    </g>\n",
              "</svg>\n",
              "  </button>\n",
              "\n",
              "<style>\n",
              "  .colab-df-quickchart {\n",
              "      --bg-color: #E8F0FE;\n",
              "      --fill-color: #1967D2;\n",
              "      --hover-bg-color: #E2EBFA;\n",
              "      --hover-fill-color: #174EA6;\n",
              "      --disabled-fill-color: #AAA;\n",
              "      --disabled-bg-color: #DDD;\n",
              "  }\n",
              "\n",
              "  [theme=dark] .colab-df-quickchart {\n",
              "      --bg-color: #3B4455;\n",
              "      --fill-color: #D2E3FC;\n",
              "      --hover-bg-color: #434B5C;\n",
              "      --hover-fill-color: #FFFFFF;\n",
              "      --disabled-bg-color: #3B4455;\n",
              "      --disabled-fill-color: #666;\n",
              "  }\n",
              "\n",
              "  .colab-df-quickchart {\n",
              "    background-color: var(--bg-color);\n",
              "    border: none;\n",
              "    border-radius: 50%;\n",
              "    cursor: pointer;\n",
              "    display: none;\n",
              "    fill: var(--fill-color);\n",
              "    height: 32px;\n",
              "    padding: 0;\n",
              "    width: 32px;\n",
              "  }\n",
              "\n",
              "  .colab-df-quickchart:hover {\n",
              "    background-color: var(--hover-bg-color);\n",
              "    box-shadow: 0 1px 2px rgba(60, 64, 67, 0.3), 0 1px 3px 1px rgba(60, 64, 67, 0.15);\n",
              "    fill: var(--button-hover-fill-color);\n",
              "  }\n",
              "\n",
              "  .colab-df-quickchart-complete:disabled,\n",
              "  .colab-df-quickchart-complete:disabled:hover {\n",
              "    background-color: var(--disabled-bg-color);\n",
              "    fill: var(--disabled-fill-color);\n",
              "    box-shadow: none;\n",
              "  }\n",
              "\n",
              "  .colab-df-spinner {\n",
              "    border: 2px solid var(--fill-color);\n",
              "    border-color: transparent;\n",
              "    border-bottom-color: var(--fill-color);\n",
              "    animation:\n",
              "      spin 1s steps(1) infinite;\n",
              "  }\n",
              "\n",
              "  @keyframes spin {\n",
              "    0% {\n",
              "      border-color: transparent;\n",
              "      border-bottom-color: var(--fill-color);\n",
              "      border-left-color: var(--fill-color);\n",
              "    }\n",
              "    20% {\n",
              "      border-color: transparent;\n",
              "      border-left-color: var(--fill-color);\n",
              "      border-top-color: var(--fill-color);\n",
              "    }\n",
              "    30% {\n",
              "      border-color: transparent;\n",
              "      border-left-color: var(--fill-color);\n",
              "      border-top-color: var(--fill-color);\n",
              "      border-right-color: var(--fill-color);\n",
              "    }\n",
              "    40% {\n",
              "      border-color: transparent;\n",
              "      border-right-color: var(--fill-color);\n",
              "      border-top-color: var(--fill-color);\n",
              "    }\n",
              "    60% {\n",
              "      border-color: transparent;\n",
              "      border-right-color: var(--fill-color);\n",
              "    }\n",
              "    80% {\n",
              "      border-color: transparent;\n",
              "      border-right-color: var(--fill-color);\n",
              "      border-bottom-color: var(--fill-color);\n",
              "    }\n",
              "    90% {\n",
              "      border-color: transparent;\n",
              "      border-bottom-color: var(--fill-color);\n",
              "    }\n",
              "  }\n",
              "</style>\n",
              "\n",
              "  <script>\n",
              "    async function quickchart(key) {\n",
              "      const quickchartButtonEl =\n",
              "        document.querySelector('#' + key + ' button');\n",
              "      quickchartButtonEl.disabled = true;  // To prevent multiple clicks.\n",
              "      quickchartButtonEl.classList.add('colab-df-spinner');\n",
              "      try {\n",
              "        const charts = await google.colab.kernel.invokeFunction(\n",
              "            'suggestCharts', [key], {});\n",
              "      } catch (error) {\n",
              "        console.error('Error during call to suggestCharts:', error);\n",
              "      }\n",
              "      quickchartButtonEl.classList.remove('colab-df-spinner');\n",
              "      quickchartButtonEl.classList.add('colab-df-quickchart-complete');\n",
              "    }\n",
              "    (() => {\n",
              "      let quickchartButtonEl =\n",
              "        document.querySelector('#df-ff6dce21-8130-44d8-baed-7c7449e9ab45 button');\n",
              "      quickchartButtonEl.style.display =\n",
              "        google.colab.kernel.accessAllowed ? 'block' : 'none';\n",
              "    })();\n",
              "  </script>\n",
              "</div>\n",
              "    </div>\n",
              "  </div>\n"
            ]
          },
          "metadata": {},
          "execution_count": 2
        }
      ]
    },
    {
      "cell_type": "code",
      "source": [
        "import gensim.downloader as api\n",
        "print(\"\\n\".join(api.info()['models'].keys()))"
      ],
      "metadata": {
        "colab": {
          "base_uri": "https://localhost:8080/"
        },
        "id": "TvSbm7nj6PvR",
        "outputId": "cb773cf1-df62-4179-a19e-a7a1d097622e"
      },
      "execution_count": null,
      "outputs": [
        {
          "output_type": "stream",
          "name": "stdout",
          "text": [
            "fasttext-wiki-news-subwords-300\n",
            "conceptnet-numberbatch-17-06-300\n",
            "word2vec-ruscorpora-300\n",
            "word2vec-google-news-300\n",
            "glove-wiki-gigaword-50\n",
            "glove-wiki-gigaword-100\n",
            "glove-wiki-gigaword-200\n",
            "glove-wiki-gigaword-300\n",
            "glove-twitter-25\n",
            "glove-twitter-50\n",
            "glove-twitter-100\n",
            "glove-twitter-200\n",
            "__testing_word2vec-matrix-synopsis\n"
          ]
        }
      ]
    },
    {
      "cell_type": "code",
      "source": [
        "word2vec_pre = api.load(\"glove-twitter-50\")\n",
        "tok = df['text_token_filtred'][:3].str.split().tolist()\n",
        "word2vec_pre.most_similar(positive=['президент'])"
      ],
      "metadata": {
        "colab": {
          "base_uri": "https://localhost:8080/"
        },
        "id": "3qDG7Bjj6SXw",
        "outputId": "516c0e04-ea74-48a5-abf3-7e117a93bd12"
      },
      "execution_count": null,
      "outputs": [
        {
          "output_type": "stream",
          "name": "stdout",
          "text": [
            "[==================================================] 100.0% 199.5/199.5MB downloaded\n"
          ]
        },
        {
          "output_type": "execute_result",
          "data": {
            "text/plain": [
              "[('премьер-министр', 0.864189863204956),\n",
              " ('путин', 0.8365647196769714),\n",
              " ('глава', 0.8298710584640503),\n",
              " ('заявил', 0.8257015943527222),\n",
              " ('мид', 0.8176457285881042),\n",
              " ('владимир', 0.8131812810897827),\n",
              " ('посол', 0.810960590839386),\n",
              " ('украины', 0.8079652190208435),\n",
              " ('янукович', 0.8058887720108032),\n",
              " ('грузии', 0.8036628365516663)]"
            ]
          },
          "metadata": {},
          "execution_count": 4
        }
      ]
    },
    {
      "cell_type": "markdown",
      "source": [
        "Своя модель"
      ],
      "metadata": {
        "id": "Z1CLcDzI6YZE"
      }
    },
    {
      "cell_type": "code",
      "source": [
        "texts = df['text_token_filtred'].tolist()\n",
        "words = [i.split() for i in texts]\n",
        "count_words = Counter()\n",
        "for text in words:\n",
        "  for i in text:\n",
        "    count_words[i]+=1\n",
        "more_10 = [k for k, v in count_words.items() if v>10]\n",
        "words_more_10 = []\n",
        "for t in words:\n",
        "  passed = [i for i in t if i in more_10]\n",
        "  words_more_10.append(passed)\n",
        "X = np.array(words_more_10)"
      ],
      "metadata": {
        "colab": {
          "base_uri": "https://localhost:8080/"
        },
        "id": "Zlq-XSP96Xvh",
        "outputId": "fa9c78de-f496-4074-aff1-cd8c9e19bd28"
      },
      "execution_count": null,
      "outputs": [
        {
          "output_type": "stream",
          "name": "stderr",
          "text": [
            "<ipython-input-5-c3905249f296>:12: VisibleDeprecationWarning: Creating an ndarray from ragged nested sequences (which is a list-or-tuple of lists-or-tuples-or ndarrays with different lengths or shapes) is deprecated. If you meant to do this, you must specify 'dtype=object' when creating the ndarray.\n",
            "  X = np.array(words_more_10)\n"
          ]
        }
      ]
    },
    {
      "cell_type": "code",
      "source": [
        "model_wv = word2vec.Word2Vec(X, vector_size=50, window=5, min_count=1, workers=4)\n",
        "model_wv.wv.most_similar(positive=['президент'])"
      ],
      "metadata": {
        "colab": {
          "base_uri": "https://localhost:8080/"
        },
        "id": "MRXwNqSr6X24",
        "outputId": "0cdafd24-3087-4f19-c892-7594d7818cc6"
      },
      "execution_count": null,
      "outputs": [
        {
          "output_type": "execute_result",
          "data": {
            "text/plain": [
              "[('правительство', 0.5443727374076843),\n",
              " ('глава', 0.5199514031410217),\n",
              " ('федерация', 0.4933665096759796),\n",
              " ('российский', 0.4725867807865143),\n",
              " ('губернатор', 0.4591428339481354),\n",
              " ('противодействие', 0.43001359701156616),\n",
              " ('рпref', 0.4090465009212494),\n",
              " ('россия', 0.4085592031478882),\n",
              " ('законодательство', 0.40310022234916687),\n",
              " ('казачество', 0.39708903431892395)]"
            ]
          },
          "metadata": {},
          "execution_count": 6
        }
      ]
    },
    {
      "cell_type": "code",
      "source": [
        "texts = df['text_difficult'].tolist()\n",
        "words = [i.split() for i in texts]\n",
        "count_words = Counter()\n",
        "for text in words:\n",
        "  for i in text:\n",
        "    count_words[i]+=1\n",
        "more_10 = [k for k, v in count_words.items() if v>10]\n",
        "words_more_10 = []\n",
        "for t in words:\n",
        "  passed = [i for i in t if i in more_10]\n",
        "  words_more_10.append(passed)\n",
        "X = np.array(words_more_10)\n",
        "model_wv_dif = word2vec.Word2Vec(X, vector_size=50, window=5, min_count=1, workers=4)\n",
        "model_wv_dif.wv.most_similar(positive=['президент'])"
      ],
      "metadata": {
        "colab": {
          "base_uri": "https://localhost:8080/"
        },
        "id": "Z9fzkHbR6laZ",
        "outputId": "f94bb213-edf8-4aa7-e099-a67887b19d60"
      },
      "execution_count": null,
      "outputs": [
        {
          "output_type": "stream",
          "name": "stderr",
          "text": [
            "<ipython-input-7-31f3a9fa9ad4>:12: VisibleDeprecationWarning: Creating an ndarray from ragged nested sequences (which is a list-or-tuple of lists-or-tuples-or ndarrays with different lengths or shapes) is deprecated. If you meant to do this, you must specify 'dtype=object' when creating the ndarray.\n",
            "  X = np.array(words_more_10)\n"
          ]
        },
        {
          "output_type": "execute_result",
          "data": {
            "text/plain": [
              "[('глава', 0.5796514749526978),\n",
              " ('правительство', 0.4950118958950043),\n",
              " ('губернатор', 0.4591008126735687),\n",
              " ('ndот', 0.4585178792476654),\n",
              " ('коррупция', 0.45592984557151794),\n",
              " ('переименование', 0.39629998803138733),\n",
              " ('законодательство', 0.38135209679603577),\n",
              " ('федерация', 0.3688575029373169),\n",
              " ('российский', 0.35982728004455566),\n",
              " ('август', 0.35238394141197205)]"
            ]
          },
          "metadata": {},
          "execution_count": 7
        }
      ]
    },
    {
      "cell_type": "code",
      "source": [
        "tfidf  = TfidfVectorizer()\n",
        "tfidf.fit([' '.join(i) for i in df['text_token_filtred'].str.split()])\n",
        "tf_dict=dict(zip(tfidf.get_feature_names_out(), tfidf.idf_))\n",
        "\n",
        "tfidf_dif  = TfidfVectorizer()\n",
        "tfidf_dif.fit([' '.join(i) for i in df['text_difficult'].str.split()])\n",
        "tf_dict_dif=dict(zip(tfidf_dif.get_feature_names_out(), tfidf_dif.idf_))"
      ],
      "metadata": {
        "id": "QtsdpIduCHkb"
      },
      "execution_count": null,
      "outputs": []
    },
    {
      "cell_type": "code",
      "source": [
        "def average_emb(w2v, text):\n",
        "\n",
        "    doc = [word for word in text.split() if word in w2v.wv]\n",
        "\n",
        "    return np.mean(w2v.wv[doc], axis=0)\n",
        "\n",
        "def average_emb_tdidf(w2v, td_dict, text):\n",
        "\n",
        "    doc = [word for word in text.split() if word in w2v.wv]\n",
        "    tf = np.array([td_dict[word] for word in text.split() if word in w2v.wv])\n",
        "    #print(w2v.wv[doc].dot(tf[0]))\n",
        "    return np.mean(w2v.wv[doc].dot(tf[0]), axis=0)\n",
        "\n",
        "def average_emb_pre(w2v, text):\n",
        "\n",
        "    doc = [word for word in text.split() if word in w2v]\n",
        "\n",
        "    return np.mean(w2v[doc], axis=0)\n",
        "\n",
        "def average_emb_tdidf_pre(w2v, td_dict, text):\n",
        "\n",
        "    doc = [word for word in text.split() if word in w2v]\n",
        "    tf = np.array([td_dict[word] for word in text.split() if word in w2v])\n",
        "\n",
        "    return np.mean(w2v[doc].dot(tf[0]), axis=0)"
      ],
      "metadata": {
        "id": "mOmnb2V___cx"
      },
      "execution_count": null,
      "outputs": []
    },
    {
      "cell_type": "code",
      "source": [
        "df_w2v = df[['doc_name', 'text_token_filtred','text_difficult']].copy()\n",
        "df_w2v['w2v_simple'] = df_w2v.apply(lambda x: average_emb(model_wv, x['text_token_filtred']),axis=1)\n",
        "df_w2v['w2v_simple_idf'] = df_w2v.apply(lambda x: average_emb_tdidf(model_wv,tf_dict, x['text_token_filtred']),axis=1)\n",
        "df_w2v['w2v_dif'] = df_w2v.apply(lambda x: average_emb(model_wv_dif, x['text_difficult']),axis=1)\n",
        "df_w2v['w2v_dif_idf'] = df_w2v.apply(lambda x: average_emb_tdidf(model_wv_dif,tf_dict_dif, x['text_difficult']),axis=1)\n",
        "\n",
        "df_w2v['w2v_simple_pre'] = df_w2v.apply(lambda x: average_emb_pre(word2vec_pre, x['text_token_filtred']),axis=1)\n",
        "df_w2v['w2v_simple_idf_pre'] = df_w2v.apply(lambda x: average_emb_tdidf_pre(word2vec_pre,tf_dict, x['text_token_filtred']),axis=1)\n",
        "df_w2v['w2v_dif_pre'] = df_w2v.apply(lambda x: average_emb_pre(word2vec_pre, x['text_difficult']),axis=1)\n",
        "df_w2v['w2v_dif_idf_pre'] = df_w2v.apply(lambda x: average_emb_tdidf_pre(word2vec_pre,tf_dict_dif, x['text_difficult']),axis=1)"
      ],
      "metadata": {
        "id": "hf7ncXCRD_Li"
      },
      "execution_count": null,
      "outputs": []
    },
    {
      "cell_type": "markdown",
      "source": [
        "Визуализация"
      ],
      "metadata": {
        "id": "_GQ_a-F8yD1o"
      }
    },
    {
      "cell_type": "code",
      "source": [
        "X_train, X_test, y_train, y_test = train_test_split(df_w2v['w2v_simple'], df_w2v['doc_name'], test_size=0.2, random_state=42)\n",
        "X_train = np.vstack(X_train)\n",
        "X_test = np.vstack(X_test)"
      ],
      "metadata": {
        "id": "J-HMvg6DGWEF"
      },
      "execution_count": null,
      "outputs": []
    },
    {
      "cell_type": "code",
      "source": [
        "from sklearn.manifold import TSNE\n",
        "import plotly.express as px"
      ],
      "metadata": {
        "id": "C2XAm5q_5gJ9"
      },
      "execution_count": null,
      "outputs": []
    },
    {
      "cell_type": "code",
      "source": [
        "tsne = TSNE(n_components=2, verbose=1, perplexity=40, n_iter=300, init='random')\n",
        "tsne_results = tsne.fit_transform(X_train[:1500])\n",
        "fig = px.scatter(\n",
        "    tsne_results, x=0, y=1,\n",
        "    color=y_train[:1500], labels={'color': 'Вид НПА'}\n",
        ")\n",
        "fig.show()"
      ],
      "metadata": {
        "colab": {
          "base_uri": "https://localhost:8080/",
          "height": 681
        },
        "id": "NsE4SL_FyG0e",
        "outputId": "8c6dff46-6a68-492b-b196-3b54fb7d26df"
      },
      "execution_count": null,
      "outputs": [
        {
          "output_type": "stream",
          "name": "stdout",
          "text": [
            "[t-SNE] Computing 121 nearest neighbors...\n",
            "[t-SNE] Indexed 1500 samples in 0.005s...\n",
            "[t-SNE] Computed neighbors for 1500 samples in 0.177s...\n",
            "[t-SNE] Computed conditional probabilities for sample 1000 / 1500\n",
            "[t-SNE] Computed conditional probabilities for sample 1500 / 1500\n",
            "[t-SNE] Mean sigma: 1.514523\n",
            "[t-SNE] KL divergence after 250 iterations with early exaggeration: 68.566742\n",
            "[t-SNE] KL divergence after 300 iterations: 1.440051\n"
          ]
        },
        {
          "output_type": "display_data",
          "data": {
            "text/html": [
              "<html>\n",
              "<head><meta charset=\"utf-8\" /></head>\n",
              "<body>\n",
              "    <div>            <script src=\"https://cdnjs.cloudflare.com/ajax/libs/mathjax/2.7.5/MathJax.js?config=TeX-AMS-MML_SVG\"></script><script type=\"text/javascript\">if (window.MathJax && window.MathJax.Hub && window.MathJax.Hub.Config) {window.MathJax.Hub.Config({SVG: {font: \"STIX-Web\"}});}</script>                <script type=\"text/javascript\">window.PlotlyConfig = {MathJaxConfig: 'local'};</script>\n",
              "        <script charset=\"utf-8\" src=\"https://cdn.plot.ly/plotly-2.24.1.min.js\"></script>                <div id=\"ae7390b7-b3b5-4531-80b4-4472cbf826ac\" class=\"plotly-graph-div\" style=\"height:525px; width:100%;\"></div>            <script type=\"text/javascript\">                                    window.PLOTLYENV=window.PLOTLYENV || {};                                    if (document.getElementById(\"ae7390b7-b3b5-4531-80b4-4472cbf826ac\")) {                    Plotly.newPlot(                        \"ae7390b7-b3b5-4531-80b4-4472cbf826ac\",                        [{\"hovertemplate\":\"\\u0412\\u0438\\u0434 \\u041d\\u041f\\u0410=\\u041f\\u043e\\u0441\\u0442\\u0430\\u043d\\u043e\\u0432\\u043b\\u0435\\u043d\\u0438\\u0435, \\u0440\\u0435\\u0433\\u0438\\u043e\\u043d\\u0430\\u043b\\u044c\\u043d\\u044b\\u0439 \\u0443\\u0440\\u043e\\u0432\\u0435\\u043d\\u044c, \\u0433\\u043b\\u0430\\u0432\\u0430 \\u0438\\u0441\\u043f\\u043e\\u043b\\u043d\\u0438\\u0442\\u0435\\u043b\\u044c\\u043d\\u043e\\u0439 \\u0432\\u043b\\u0430\\u0441\\u0442\\u0438\\u003cbr\\u003e0=%{x}\\u003cbr\\u003e1=%{y}\\u003cextra\\u003e\\u003c\\u002fextra\\u003e\",\"legendgroup\":\"\\u041f\\u043e\\u0441\\u0442\\u0430\\u043d\\u043e\\u0432\\u043b\\u0435\\u043d\\u0438\\u0435, \\u0440\\u0435\\u0433\\u0438\\u043e\\u043d\\u0430\\u043b\\u044c\\u043d\\u044b\\u0439 \\u0443\\u0440\\u043e\\u0432\\u0435\\u043d\\u044c, \\u0433\\u043b\\u0430\\u0432\\u0430 \\u0438\\u0441\\u043f\\u043e\\u043b\\u043d\\u0438\\u0442\\u0435\\u043b\\u044c\\u043d\\u043e\\u0439 \\u0432\\u043b\\u0430\\u0441\\u0442\\u0438\",\"marker\":{\"color\":\"#636efa\",\"symbol\":\"circle\"},\"mode\":\"markers\",\"name\":\"\\u041f\\u043e\\u0441\\u0442\\u0430\\u043d\\u043e\\u0432\\u043b\\u0435\\u043d\\u0438\\u0435, \\u0440\\u0435\\u0433\\u0438\\u043e\\u043d\\u0430\\u043b\\u044c\\u043d\\u044b\\u0439 \\u0443\\u0440\\u043e\\u0432\\u0435\\u043d\\u044c, \\u0433\\u043b\\u0430\\u0432\\u0430 \\u0438\\u0441\\u043f\\u043e\\u043b\\u043d\\u0438\\u0442\\u0435\\u043b\\u044c\\u043d\\u043e\\u0439 \\u0432\\u043b\\u0430\\u0441\\u0442\\u0438\",\"showlegend\":true,\"x\":[9.155797958374023,0.7057538032531738,-1.314240574836731,9.994796752929688,5.726267337799072,-1.3069289922714233,-1.6359349489212036,9.321194648742676,2.6053624153137207,0.24939551949501038,5.479058742523193,0.10534489899873734,4.078405380249023,10.095605850219727,5.99483060836792,2.766554117202759,9.288798332214355,5.155647277832031,6.151784896850586,3.3675031661987305,9.469362258911133,9.995795249938965,8.8668212890625,-0.677920937538147,-1.6529051065444946,4.075315475463867,1.5165451765060425,3.398724317550659,10.244829177856445,-1.2558015584945679,2.9384751319885254,10.086164474487305,2.6265039443969727,-8.909306526184082,-8.849369049072266,5.002322673797607,0.0699489414691925,-7.296449184417725,-0.8145475387573242,-0.2921554148197174,8.602313041687012,5.071229934692383,1.4354170560836792,-2.8238728046417236,5.17045783996582,9.0580472946167,10.107545852661133,10.268478393554688,10.033308029174805,9.367036819458008,2.717557430267334,1.0486726760864258,0.5282769203186035,7.629549980163574,2.977045774459839,-1.3728467226028442,0.9123444557189941,8.573346138000488,2.049262762069702,3.5384647846221924,5.2310099601745605,10.23315715789795,10.0059232711792,8.889184951782227,-0.7494040727615356,1.689375877380371,9.492894172668457,-1.2712827920913696,9.745613098144531,9.009821891784668,9.896956443786621,-8.90003490447998,-1.0490808486938477,1.9915028810501099,8.8104829788208,5.659214496612549,10.196264266967773,4.881339073181152,4.62476110458374,10.070735931396484,-0.6888554096221924,7.816704750061035,0.06950655579566956,-1.258971929550171,4.076494216918945,8.183338165283203,2.345329999923706,5.841793060302734,4.379493236541748,8.936827659606934,5.714053630828857,4.677012920379639,-0.8790979981422424,-8.461319923400879,5.813825607299805,9.14013957977295,-0.8265053033828735,3.2284700870513916,8.765769958496094,7.756911277770996,-3.0714566707611084,1.6213147640228271,0.09095039963722229,1.2028692960739136,1.4550502300262451,9.217684745788574,6.394054889678955,5.936707496643066],\"xaxis\":\"x\",\"y\":[5.505932807922363,2.624086856842041,6.525905609130859,5.154905319213867,2.9698967933654785,6.515936851501465,7.5851922035217285,6.055830478668213,2.681577682495117,0.5073243379592896,3.1915206909179688,0.4900728464126587,8.806964874267578,5.181403160095215,2.3231024742126465,2.258627414703369,6.121922492980957,0.929056704044342,2.053462028503418,1.4762217998504639,4.9790358543396,5.229832172393799,5.735193252563477,6.405266761779785,7.068534851074219,8.800898551940918,2.211266279220581,-1.5161956548690796,5.820384502410889,7.00449275970459,4.21421480178833,5.141570568084717,3.5876073837280273,4.473821640014648,4.491055011749268,3.556985378265381,-0.34416458010673523,3.722100019454956,6.693711280822754,8.104471206665039,6.440876483917236,3.603337287902832,5.4218621253967285,4.914139747619629,2.9644532203674316,5.867305278778076,5.1064300537109375,4.7888336181640625,5.146166801452637,5.766778945922852,3.548968553543091,6.003452301025391,3.6134603023529053,-5.224526882171631,1.0698318481445312,-1.5356600284576416,5.167549133300781,6.487724304199219,1.7318229675292969,2.3674001693725586,2.828728675842285,4.611953258514404,5.312119483947754,5.594623565673828,6.445528984069824,3.582280158996582,4.772835731506348,7.145069122314453,5.560294151306152,5.80899715423584,5.305661201477051,4.473238468170166,8.216449737548828,0.04884426295757294,5.973371982574463,2.916527509689331,4.7669548988342285,3.1043801307678223,3.0750386714935303,5.0790205001831055,2.8051395416259766,-4.8085503578186035,7.181626796722412,7.326566219329834,8.804555892944336,-4.556893348693848,2.8312582969665527,1.4983505010604858,3.052204132080078,5.630235195159912,2.844085216522217,1.4968364238739014,0.5776327848434448,4.599813461303711,3.088026523590088,4.38295841217041,6.502508163452148,2.279693841934204,5.215134143829346,-4.944114685058594,-0.976386547088623,1.6359095573425293,0.6828147768974304,-0.487525075674057,1.6871615648269653,4.86234712600708,-6.087455749511719,1.813961386680603],\"yaxis\":\"y\",\"type\":\"scattergl\"},{\"hovertemplate\":\"\\u0412\\u0438\\u0434 \\u041d\\u041f\\u0410=\\u0423\\u043a\\u0430\\u0437, \\u0444\\u0435\\u0434\\u0435\\u0440\\u0430\\u043b\\u044c\\u043d\\u044b\\u0439 \\u0443\\u0440\\u043e\\u0432\\u0435\\u043d\\u044c, \\u0433\\u043b\\u0430\\u0432\\u0430 \\u0438\\u0441\\u043f\\u043e\\u043b\\u043d\\u0438\\u0442\\u0435\\u043b\\u044c\\u043d\\u043e\\u0439 \\u0432\\u043b\\u0430\\u0441\\u0442\\u0438\\u003cbr\\u003e0=%{x}\\u003cbr\\u003e1=%{y}\\u003cextra\\u003e\\u003c\\u002fextra\\u003e\",\"legendgroup\":\"\\u0423\\u043a\\u0430\\u0437, \\u0444\\u0435\\u0434\\u0435\\u0440\\u0430\\u043b\\u044c\\u043d\\u044b\\u0439 \\u0443\\u0440\\u043e\\u0432\\u0435\\u043d\\u044c, \\u0433\\u043b\\u0430\\u0432\\u0430 \\u0438\\u0441\\u043f\\u043e\\u043b\\u043d\\u0438\\u0442\\u0435\\u043b\\u044c\\u043d\\u043e\\u0439 \\u0432\\u043b\\u0430\\u0441\\u0442\\u0438\",\"marker\":{\"color\":\"#EF553B\",\"symbol\":\"circle\"},\"mode\":\"markers\",\"name\":\"\\u0423\\u043a\\u0430\\u0437, \\u0444\\u0435\\u0434\\u0435\\u0440\\u0430\\u043b\\u044c\\u043d\\u044b\\u0439 \\u0443\\u0440\\u043e\\u0432\\u0435\\u043d\\u044c, \\u0433\\u043b\\u0430\\u0432\\u0430 \\u0438\\u0441\\u043f\\u043e\\u043b\\u043d\\u0438\\u0442\\u0435\\u043b\\u044c\\u043d\\u043e\\u0439 \\u0432\\u043b\\u0430\\u0441\\u0442\\u0438\",\"showlegend\":true,\"x\":[-3.5794332027435303,-5.563425064086914,-5.357132911682129,-6.0679802894592285,-0.6920815110206604,-4.9426045417785645,-0.5338013172149658,1.040318489074707,7.084532737731934,-1.0804780721664429,-0.9628532528877258,-0.4454893171787262,-0.6433923840522766,6.9586181640625,4.851757526397705,-3.066628932952881,-5.048796653747559,-0.4019371569156647,4.8692731857299805,-5.124966621398926,4.5227131843566895,-0.37175753712654114,-5.2242350578308105,-4.6002960205078125,-8.033019065856934,-4.858760833740234,6.388001918792725,-3.4229445457458496,6.071865081787109,-3.1711034774780273,-1.7100251913070679,-2.5016353130340576,0.8183921575546265,1.8534495830535889,6.005646228790283,-4.6469197273254395,-5.291056156158447,-4.356729507446289,5.0091657638549805,-1.3624293804168701,-0.07726651430130005,-4.792914390563965,-5.284626483917236,-0.596116840839386,-4.5532097816467285,3.058681011199951,5.934479236602783,4.928950786590576,5.1032586097717285,-0.6401394605636597,5.113656520843506,-3.613696575164795,4.5726237297058105,7.050408363342285,-2.731855869293213,4.955545425415039,-2.9109015464782715,-5.1326422691345215,4.9037909507751465,-4.9022722244262695,-1.6963566541671753,6.93004846572876,6.2169189453125,5.825625419616699,5.4434638023376465,0.8932268619537354,-0.8216694593429565,0.38403433561325073,0.193750262260437,-5.080048084259033,-3.1520767211914062,6.194434642791748],\"xaxis\":\"x\",\"y\":[-8.285686492919922,-8.159977912902832,-7.859044551849365,-6.769303321838379,-9.967307090759277,-8.87940788269043,-9.99429702758789,-9.372664451599121,-7.22467565536499,-9.93242359161377,-9.793869972229004,-4.87995719909668,-9.976008415222168,-7.227705955505371,-8.006742477416992,-7.946511268615723,-8.361231803894043,-9.786568641662598,-7.960761547088623,-6.609146595001221,-8.014307022094727,-6.183013439178467,-8.291985511779785,-8.189051628112793,4.082316875457764,-5.172509670257568,-6.693220138549805,-8.168448448181152,-6.8874192237854,-8.534815788269043,-9.658151626586914,-3.3232126235961914,-7.106081008911133,-4.158207893371582,-7.42745304107666,-5.35429573059082,-8.00399112701416,-7.932800769805908,-7.721350193023682,-3.5529074668884277,-5.932318210601807,-8.3321533203125,-8.273387908935547,-9.978954315185547,-7.880187511444092,-8.577325820922852,-7.047162055969238,-7.772448539733887,-7.594562530517578,-9.989041328430176,-3.0441668033599854,-8.478291511535645,-7.991642475128174,-7.2002272605896,2.6405794620513916,-7.747835636138916,-2.0272815227508545,-8.02384090423584,-7.75687837600708,-8.431057929992676,-5.917968273162842,-7.28584623336792,-7.133335590362549,-6.541604042053223,-7.528550624847412,-7.041736602783203,-6.893768310546875,-6.1353759765625,-6.195610046386719,-8.468280792236328,-6.276098251342773,-7.059142112731934],\"yaxis\":\"y\",\"type\":\"scattergl\"},{\"hovertemplate\":\"\\u0412\\u0438\\u0434 \\u041d\\u041f\\u0410=\\u041f\\u043e\\u0441\\u0442\\u0430\\u043d\\u043e\\u0432\\u043b\\u0435\\u043d\\u0438\\u0435, \\u0440\\u0435\\u0433\\u0438\\u043e\\u043d\\u0430\\u043b\\u044c\\u043d\\u044b\\u0439 \\u0443\\u0440\\u043e\\u0432\\u0435\\u043d\\u044c, \\u0437\\u0430\\u043a\\u043e\\u043d\\u043e\\u0434\\u0430\\u0442\\u0435\\u043b\\u044c\\u043d\\u044b\\u0439 \\u043e\\u0440\\u0433\\u0430\\u043d\\u003cbr\\u003e0=%{x}\\u003cbr\\u003e1=%{y}\\u003cextra\\u003e\\u003c\\u002fextra\\u003e\",\"legendgroup\":\"\\u041f\\u043e\\u0441\\u0442\\u0430\\u043d\\u043e\\u0432\\u043b\\u0435\\u043d\\u0438\\u0435, \\u0440\\u0435\\u0433\\u0438\\u043e\\u043d\\u0430\\u043b\\u044c\\u043d\\u044b\\u0439 \\u0443\\u0440\\u043e\\u0432\\u0435\\u043d\\u044c, \\u0437\\u0430\\u043a\\u043e\\u043d\\u043e\\u0434\\u0430\\u0442\\u0435\\u043b\\u044c\\u043d\\u044b\\u0439 \\u043e\\u0440\\u0433\\u0430\\u043d\",\"marker\":{\"color\":\"#00cc96\",\"symbol\":\"circle\"},\"mode\":\"markers\",\"name\":\"\\u041f\\u043e\\u0441\\u0442\\u0430\\u043d\\u043e\\u0432\\u043b\\u0435\\u043d\\u0438\\u0435, \\u0440\\u0435\\u0433\\u0438\\u043e\\u043d\\u0430\\u043b\\u044c\\u043d\\u044b\\u0439 \\u0443\\u0440\\u043e\\u0432\\u0435\\u043d\\u044c, \\u0437\\u0430\\u043a\\u043e\\u043d\\u043e\\u0434\\u0430\\u0442\\u0435\\u043b\\u044c\\u043d\\u044b\\u0439 \\u043e\\u0440\\u0433\\u0430\\u043d\",\"showlegend\":true,\"x\":[4.449762344360352,-8.786361694335938,8.532537460327148,-8.250059127807617,-1.520974040031433,-8.918902397155762,9.479633331298828,-8.920252799987793,7.214630603790283,7.050196647644043,-4.651922702789307,-4.6881561279296875,-8.953997611999512,-4.667351722717285,1.9752446413040161,-8.905569076538086,2.330634355545044,-5.858449459075928,2.1957015991210938,7.178805828094482,-8.879081726074219,-3.4404516220092773,7.227785587310791,-8.846170425415039,8.21771240234375,-8.714818000793457,6.622339248657227,9.468162536621094,-8.954307556152344,-1.0706074237823486,-8.946062088012695,-8.849808692932129,-8.918559074401855,-8.97419548034668,-8.946345329284668,-1.53956937789917,7.228228569030762,-8.95527172088623,-8.922335624694824,-0.24218451976776123,9.434174537658691,4.6211838722229,5.435268402099609,0.5428905487060547,-4.836531639099121,-5.8432087898254395,-8.889018058776855,4.737955093383789,-1.0081928968429565,7.239102840423584,6.370481491088867,-8.864399909973145,-0.6211481094360352,-3.3466882705688477,4.837708950042725,6.784794807434082,6.880934715270996,7.220526218414307,-8.908413887023926,-5.991133213043213,8.327674865722656,9.469708442687988,-3.3448164463043213,-8.959714889526367,0.7236367464065552,-8.91713809967041,8.325911521911621,1.3128260374069214,8.513777732849121,-8.949475288391113,4.6236653327941895,-8.913326263427734,7.237623691558838,7.236172199249268,-1.1720103025436401,-8.796215057373047,4.197808742523193,-1.1732745170593262,-4.809042453765869,-8.876944541931152,9.476241111755371,-4.72156286239624,7.2115254402160645,-8.96263599395752,-6.052199363708496,6.487951278686523,6.625732421875,-1.209720492362976,-8.848018646240234,-1.2209534645080566,-4.743339538574219,6.484676837921143,-8.893010139465332,-8.90863037109375,-8.950051307678223,8.26535415649414,-8.934174537658691,-8.971344947814941,-8.854738235473633,9.471983909606934,-3.7722556591033936,6.877820014953613,-8.92978286743164,-8.851916313171387,-8.87834644317627,-8.94443130493164,6.770496845245361,-4.606518268585205,-4.318473815917969,9.476515769958496,-3.3473174571990967,-4.4058427810668945,-4.507731914520264,-8.946908950805664,4.076396942138672,-8.661774635314941,-4.346093654632568,-4.680783271789551,6.412858009338379,9.478137016296387,7.221233367919922,9.481216430664062,-1.2860957384109497,2.192725658416748],\"xaxis\":\"x\",\"y\":[-0.1198013499379158,0.7601674199104309,0.014580311253666878,1.0247740745544434,-1.3938606977462769,4.473789215087891,-1.9024300575256348,0.6319500207901001,-0.7761530876159668,-0.4125036299228668,3.199937582015991,3.2729332447052,4.4852423667907715,3.2491605281829834,2.7892889976501465,4.476515769958496,6.58003044128418,2.698246717453003,-2.3573217391967773,-6.194331169128418,0.6614694595336914,3.356785297393799,-0.7700819969177246,4.455961227416992,1.702008843421936,0.8339066505432129,-0.46663445234298706,-1.9107236862182617,4.482733249664307,5.811051845550537,4.476440906524658,0.6905651688575745,4.472484111785889,4.490767002105713,4.482909202575684,2.3072681427001953,-0.7885991930961609,4.483680248260498,0.6485114693641663,1.913761854171753,-1.9361588954925537,6.17860221862793,0.15491878986358643,3.7816433906555176,3.24017596244812,2.677614688873291,0.6737650632858276,0.7134273648262024,5.879382610321045,-0.7835505604743958,-0.23624391853809357,0.7031784653663635,3.720897674560547,2.009491205215454,1.8189023733139038,-0.35640737414360046,-0.24057526886463165,-0.7535458207130432,4.486791610717773,2.670231819152832,-0.056368425488471985,-1.9150854349136353,2.0604336261749268,4.485232353210449,0.6787669062614441,4.472206115722656,-0.061995044350624084,-3.787334442138672,-0.005589580163359642,4.482282638549805,6.149284362792969,0.644018828868866,-0.7799343466758728,-0.7925435304641724,5.8627495765686035,4.428079128265381,0.6678689122200012,6.960268497467041,3.2456929683685303,4.468875885009766,-1.9022068977355957,3.253627300262451,-0.7509652376174927,4.485965728759766,2.59558367729187,-0.3027503490447998,0.06247475743293762,0.9549375176429749,0.5686126351356506,1.121519684791565,3.257107973098755,-0.3025747239589691,4.446044445037842,0.6638133525848389,4.47976016998291,-0.051956478506326675,4.486057281494141,0.6232122778892517,0.7078508734703064,-1.9232425689697266,3.3506741523742676,-5.1680684089660645,4.477166175842285,0.7271519899368286,4.455480098724365,4.483815670013428,0.045537568628787994,3.2527501583099365,3.2430100440979004,-1.9000773429870605,1.9992177486419678,3.2678639888763428,3.1980020999908447,4.48700475692749,4.102481842041016,0.8573732972145081,3.3046772480010986,3.2450778484344482,-0.33032628893852234,-1.8960368633270264,-0.7642614245414734,-1.8855348825454712,1.001905083656311,-2.344444751739502],\"yaxis\":\"y\",\"type\":\"scattergl\"},{\"hovertemplate\":\"\\u0412\\u0438\\u0434 \\u041d\\u041f\\u0410=\\u0420\\u0430\\u0441\\u043f\\u043e\\u0440\\u044f\\u0436\\u0435\\u043d\\u0438\\u0435, \\u0444\\u0435\\u0434\\u0435\\u0440\\u0430\\u043b\\u044c\\u043d\\u044b\\u0439 \\u0443\\u0440\\u043e\\u0432\\u0435\\u043d\\u044c, \\u043f\\u0440\\u0430\\u0432\\u0438\\u0442\\u0435\\u043b\\u044c\\u0441\\u0442\\u0432\\u043e\\u003cbr\\u003e0=%{x}\\u003cbr\\u003e1=%{y}\\u003cextra\\u003e\\u003c\\u002fextra\\u003e\",\"legendgroup\":\"\\u0420\\u0430\\u0441\\u043f\\u043e\\u0440\\u044f\\u0436\\u0435\\u043d\\u0438\\u0435, \\u0444\\u0435\\u0434\\u0435\\u0440\\u0430\\u043b\\u044c\\u043d\\u044b\\u0439 \\u0443\\u0440\\u043e\\u0432\\u0435\\u043d\\u044c, \\u043f\\u0440\\u0430\\u0432\\u0438\\u0442\\u0435\\u043b\\u044c\\u0441\\u0442\\u0432\\u043e\",\"marker\":{\"color\":\"#ab63fa\",\"symbol\":\"circle\"},\"mode\":\"markers\",\"name\":\"\\u0420\\u0430\\u0441\\u043f\\u043e\\u0440\\u044f\\u0436\\u0435\\u043d\\u0438\\u0435, \\u0444\\u0435\\u0434\\u0435\\u0440\\u0430\\u043b\\u044c\\u043d\\u044b\\u0439 \\u0443\\u0440\\u043e\\u0432\\u0435\\u043d\\u044c, \\u043f\\u0440\\u0430\\u0432\\u0438\\u0442\\u0435\\u043b\\u044c\\u0441\\u0442\\u0432\\u043e\",\"showlegend\":true,\"x\":[-1.4727301597595215,-1.078925609588623,-1.0493741035461426,-3.0467395782470703,-3.527921676635742,-7.881527900695801,-0.5713217258453369,5.875584602355957,-1.77527916431427,-8.031478881835938,-6.107030868530273,-7.740971565246582,0.34532424807548523,4.098306179046631,-7.857099533081055,-7.648843765258789,-0.46635499596595764,-1.5465933084487915,-0.3707372546195984,-0.2363799661397934,4.792627811431885,-2.6986422538757324,3.4034059047698975,4.090671539306641,-0.7818139791488647,-0.15080755949020386,2.72088885307312,-1.575978398323059,-0.4303322434425354,-7.994044303894043,-1.8090081214904785,-4.380766868591309,-0.44654953479766846,0.29910412430763245,-3.378754138946533,-8.218377113342285,-1.7797536849975586,-0.22176885604858398,-0.4109967052936554,-7.913358688354492,0.20802748203277588,-2.904196262359619,0.8771856427192688,5.319393634796143,-0.32061290740966797,-3.2836713790893555,-0.6197234392166138,-1.336919903755188,1.5031533241271973,-3.6943511962890625,-6.184972763061523,-3.165586233139038,1.6550259590148926,-5.227381706237793,-2.939307928085327,-2.8635482788085938,4.03633975982666,4.086868762969971,-6.219446659088135,-3.282944440841675,-0.17769011855125427,-8.043691635131836,-8.094123840332031,-8.277602195739746,-0.5267269015312195,-0.7003724575042725,-8.114583015441895,-8.154017448425293,-1.3782910108566284,4.101789474487305,0.4289426803588867,-1.7271511554718018,-0.32465100288391113,-2.3778531551361084,6.350444316864014,0.28235724568367004,-1.3244162797927856,-0.49471431970596313,-8.207502365112305,-0.3883712589740753,-0.06246635317802429,-0.2535794675350189,-6.617563247680664,-8.208703994750977,-8.055549621582031,1.2456403970718384,-8.201383590698242,-0.33104199171066284,-0.10773901641368866,-0.5955302715301514,-1.282940149307251],\"xaxis\":\"x\",\"y\":[-2.8556835651397705,-9.342118263244629,-3.6248719692230225,-7.826018810272217,-4.3468403816223145,-5.227261543273926,-10.053764343261719,-6.827061653137207,-5.285012245178223,-4.453445911407471,-6.840773105621338,-5.3050384521484375,-9.599650382995605,8.817028999328613,-4.376567840576172,-4.279112815856934,-9.939506530761719,-5.247373580932617,-3.186462640762329,-3.245656967163086,-8.00275993347168,-5.081577301025391,5.988907337188721,8.806634902954102,-4.120546817779541,-6.988775730133057,-8.610563278198242,-3.653268814086914,-9.965283393859863,-5.068403244018555,-3.8449814319610596,-3.393094778060913,-2.991332769393921,-1.547416090965271,-4.429012775421143,-4.013471603393555,-3.6863203048706055,-10.002680778503418,-9.939343452453613,-4.37021017074585,-1.5659610033035278,-3.4282052516937256,-8.599964141845703,-2.6569159030914307,-3.113769769668579,-4.435359954833984,-9.948081016540527,-3.6475651264190674,-9.100019454956055,-6.13151216506958,-6.854372024536133,-4.448073387145996,-8.8693208694458,-6.6377410888671875,-5.205079078674316,-5.214976787567139,8.562816619873047,8.8048677444458,-7.133889675140381,-5.601284980773926,-2.187464475631714,-4.318624973297119,-4.679025173187256,-3.784611701965332,-9.85851764678955,-10.042048454284668,-4.474152088165283,-4.701975345611572,-3.8126273155212402,8.825700759887695,-6.5401611328125,-2.86531925201416,-3.2380905151367188,-4.1065568923950195,-6.1912736892700195,-1.5670207738876343,-3.7152562141418457,-4.762310981750488,-4.90043830871582,-9.883618354797363,-1.9467843770980835,-3.3136990070343018,-7.405597686767578,-4.734438419342041,-4.5181732177734375,-9.131441116333008,-4.062666893005371,-3.8159902095794678,-4.710075855255127,-7.9441819190979,-3.440922737121582],\"yaxis\":\"y\",\"type\":\"scattergl\"},{\"hovertemplate\":\"\\u0412\\u0438\\u0434 \\u041d\\u041f\\u0410=\\u041f\\u043e\\u0441\\u0442\\u0430\\u043d\\u043e\\u0432\\u043b\\u0435\\u043d\\u0438\\u0435, \\u0444\\u0435\\u0434\\u0435\\u0440\\u0430\\u043b\\u044c\\u043d\\u044b\\u0439 \\u0443\\u0440\\u043e\\u0432\\u0435\\u043d\\u044c, \\u043f\\u0440\\u0430\\u0432\\u0438\\u0442\\u0435\\u043b\\u044c\\u0441\\u0442\\u0432\\u043e\\u003cbr\\u003e0=%{x}\\u003cbr\\u003e1=%{y}\\u003cextra\\u003e\\u003c\\u002fextra\\u003e\",\"legendgroup\":\"\\u041f\\u043e\\u0441\\u0442\\u0430\\u043d\\u043e\\u0432\\u043b\\u0435\\u043d\\u0438\\u0435, \\u0444\\u0435\\u0434\\u0435\\u0440\\u0430\\u043b\\u044c\\u043d\\u044b\\u0439 \\u0443\\u0440\\u043e\\u0432\\u0435\\u043d\\u044c, \\u043f\\u0440\\u0430\\u0432\\u0438\\u0442\\u0435\\u043b\\u044c\\u0441\\u0442\\u0432\\u043e\",\"marker\":{\"color\":\"#FFA15A\",\"symbol\":\"circle\"},\"mode\":\"markers\",\"name\":\"\\u041f\\u043e\\u0441\\u0442\\u0430\\u043d\\u043e\\u0432\\u043b\\u0435\\u043d\\u0438\\u0435, \\u0444\\u0435\\u0434\\u0435\\u0440\\u0430\\u043b\\u044c\\u043d\\u044b\\u0439 \\u0443\\u0440\\u043e\\u0432\\u0435\\u043d\\u044c, \\u043f\\u0440\\u0430\\u0432\\u0438\\u0442\\u0435\\u043b\\u044c\\u0441\\u0442\\u0432\\u043e\",\"showlegend\":true,\"x\":[-4.416712284088135,-3.4908742904663086,-1.70694100856781,-3.8048202991485596,-3.85453724861145,-1.39665687084198,-4.363875389099121,-6.142404079437256,-3.465749979019165,-4.203669548034668,-2.754765033721924,-1.4069374799728394,-4.786419868469238,-6.145394802093506,-8.055941581726074,-7.977585792541504,-6.084319114685059,-4.689801216125488,-0.27761217951774597,-3.920170783996582,-6.185445308685303,-5.493937969207764,-3.353635549545288,-1.59095299243927,-4.873710632324219,-6.807320594787598,-3.8144278526306152,-2.0217297077178955,-5.057226657867432,0.40453019738197327,-6.255075454711914,-5.275737762451172,-0.7095404863357544,-5.286451816558838,-1.8480638265609741,-5.6844024658203125,-6.087184429168701,-4.381595611572266,-4.761906147003174,-5.171665191650391,-4.099082946777344,-5.411560535430908,-4.497099876403809,-4.116086483001709,-2.7178242206573486,-2.7711386680603027,-5.785933971405029,-6.444369792938232,-7.982854843139648,-4.759640693664551,-3.159461498260498,-4.171408653259277,-1.8098182678222656,-6.446015357971191,5.079339981079102,-4.927107334136963,-8.127108573913574,-3.698293685913086,-4.244877815246582,-2.1923365592956543,-4.594501972198486,-6.199283123016357,-2.138371467590332,-3.3404695987701416,-6.556594371795654,0.3227095305919647,-6.083392143249512,-3.4722442626953125,-3.6504011154174805,-8.174609184265137,-6.547375202178955,-6.232829570770264,1.497762680053711,-4.293069362640381,-6.675487995147705,-6.746885776519775,-4.923973083496094,-3.2881274223327637,-8.105363845825195,-5.605318546295166,-1.4476747512817383,-1.927318811416626,-1.647434115409851,-3.2550549507141113,-0.43229541182518005,-1.1617258787155151,-5.707716941833496,-1.702359914779663,-2.28056263923645,-5.863105773925781,-2.8141086101531982,-2.8029062747955322,-6.569962978363037,-4.822690010070801,-6.093261241912842,-5.396636009216309,-5.596555709838867,-0.008181905373930931,-8.071708679199219,-6.200443744659424,-5.583889961242676,-3.2726736068725586,-3.718255043029785,-3.4475741386413574,-1.4689539670944214,-5.52501106262207,-6.262338161468506,-4.150801181793213],\"xaxis\":\"x\",\"y\":[-4.878003120422363,-4.309821128845215,-2.280301094055176,0.3702852129936218,-3.1812713146209717,-7.247520446777344,-1.113416314125061,-3.711561679840088,-4.507875919342041,-3.4387526512145996,-0.12639686465263367,-3.62888240814209,-0.755300760269165,-6.452360153198242,-5.205264091491699,-5.277480125427246,-5.684237003326416,-5.780210494995117,-3.407015085220337,-3.9162189960479736,-7.340916633605957,-4.324112415313721,-7.432433128356934,-5.081684112548828,-5.249916076660156,-7.426311492919922,-5.692795753479004,-5.34276008605957,-4.351948261260986,-0.5450555086135864,-4.61922550201416,-5.5667572021484375,-4.041347980499268,-5.578698635101318,-3.054839611053467,-5.529663562774658,-6.68911600112915,-4.25759220123291,-6.112569332122803,-6.345137596130371,-3.1679110527038574,-5.574864864349365,-3.032626152038574,-3.3448123931884766,-0.2317415326833725,-3.7035508155822754,-7.182514190673828,-7.026525497436523,-5.2652506828308105,-0.5261163711547852,-3.055732250213623,-4.556153774261475,-7.042394161224365,-7.195828437805176,-4.260794162750244,-0.7344585657119751,-5.033594131469727,-4.561842918395996,-4.593061447143555,-4.29918909072876,-0.8858436942100525,-6.668276309967041,-4.227810382843018,-7.503246307373047,-7.018120765686035,-9.685117721557617,-7.111757755279541,-5.6661481857299805,-4.559940814971924,-4.851851463317871,-6.592133522033691,-6.946511745452881,5.770731449127197,-4.516938209533691,-7.244511604309082,1.7095640897750854,-5.39310359954834,-5.7353901863098145,-5.112514495849609,-4.850464820861816,-7.576112747192383,-4.637836933135986,-4.860456466674805,-4.432590484619141,-4.836183071136475,-2.977483034133911,-4.45245885848999,-5.482549667358398,-3.6210131645202637,-0.9676195383071899,-4.277487754821777,-5.180591106414795,-6.755751132965088,-3.5229835510253906,-6.235782623291016,-5.392754554748535,-6.30025053024292,-1.9213086366653442,-5.1651692390441895,-7.4978508949279785,-5.819394111633301,-3.8212413787841797,0.33432793617248535,-4.223317623138428,-2.908940315246582,-5.66551399230957,-6.23244047164917,-2.9839189052581787],\"yaxis\":\"y\",\"type\":\"scattergl\"},{\"hovertemplate\":\"\\u0412\\u0438\\u0434 \\u041d\\u041f\\u0410=\\u041f\\u0440\\u0438\\u043a\\u0430\\u0437, \\u0444\\u0435\\u0434\\u0435\\u0440\\u0430\\u043b\\u044c\\u043d\\u044b\\u0439 \\u0443\\u0440\\u043e\\u0432\\u0435\\u043d\\u044c, \\u043e\\u0440\\u0433\\u0430\\u043d\\u044b \\u0438\\u0441\\u043f\\u043e\\u043b\\u043d\\u0438\\u0442\\u0435\\u043b\\u044c\\u043d\\u043e\\u0439 \\u0432\\u043b\\u0430\\u0441\\u0442\\u0438\\u003cbr\\u003e0=%{x}\\u003cbr\\u003e1=%{y}\\u003cextra\\u003e\\u003c\\u002fextra\\u003e\",\"legendgroup\":\"\\u041f\\u0440\\u0438\\u043a\\u0430\\u0437, \\u0444\\u0435\\u0434\\u0435\\u0440\\u0430\\u043b\\u044c\\u043d\\u044b\\u0439 \\u0443\\u0440\\u043e\\u0432\\u0435\\u043d\\u044c, \\u043e\\u0440\\u0433\\u0430\\u043d\\u044b \\u0438\\u0441\\u043f\\u043e\\u043b\\u043d\\u0438\\u0442\\u0435\\u043b\\u044c\\u043d\\u043e\\u0439 \\u0432\\u043b\\u0430\\u0441\\u0442\\u0438\",\"marker\":{\"color\":\"#19d3f3\",\"symbol\":\"circle\"},\"mode\":\"markers\",\"name\":\"\\u041f\\u0440\\u0438\\u043a\\u0430\\u0437, \\u0444\\u0435\\u0434\\u0435\\u0440\\u0430\\u043b\\u044c\\u043d\\u044b\\u0439 \\u0443\\u0440\\u043e\\u0432\\u0435\\u043d\\u044c, \\u043e\\u0440\\u0433\\u0430\\u043d\\u044b \\u0438\\u0441\\u043f\\u043e\\u043b\\u043d\\u0438\\u0442\\u0435\\u043b\\u044c\\u043d\\u043e\\u0439 \\u0432\\u043b\\u0430\\u0441\\u0442\\u0438\",\"showlegend\":true,\"x\":[-4.5055832862854,-5.024608135223389,-3.2118618488311768,-6.874489784240723,-2.3016772270202637,-1.6606340408325195,-5.20297384262085,-1.3110288381576538,-3.961029291152954,-2.9614133834838867,-5.550887107849121,2.181748628616333,-0.43977856636047363,-6.86379861831665,-6.855710029602051,-4.389900207519531,-4.040558338165283,-3.8035757541656494,-5.397549629211426,-6.567646026611328,-0.7921010851860046,-4.614097595214844,5.387660980224609,-2.972480535507202,-5.534170627593994,-5.372477054595947,-4.687612056732178,-6.829834938049316,-6.851532936096191,-7.019591331481934,-2.534513235092163,-0.635187029838562,-2.33719801902771,-0.02379351295530796,-4.53164005279541,-6.777957916259766,-3.065406560897827,-2.5760698318481445,-6.861795425415039,-2.622941732406616,-5.149723529815674,2.262462615966797,-3.3907840251922607,-3.301605701446533,-2.496983051300049,-2.6153793334960938,-0.5736019015312195,-4.204038619995117,-1.4690327644348145,-5.400140762329102,-0.7919696569442749,-2.272991895675659,-2.912123680114746,1.6662585735321045,-5.296797275543213,-4.621922969818115,-2.692352533340454,-3.6212878227233887,-4.478402137756348,-2.8511409759521484,-2.9973366260528564,-5.566033840179443,-3.675013303756714,-3.3141396045684814,-4.604200839996338,-3.6491496562957764,-5.336726665496826,-0.45140135288238525,-0.25815093517303467,-6.878447532653809,-6.818129539489746,-4.214447498321533,-2.89176344871521,-6.795999526977539,-2.2694478034973145,-5.412588119506836,-4.3171586990356445,-2.3030967712402344,-3.181535243988037,-4.323117733001709,-5.133554935455322,-4.886023044586182,4.654511451721191,-2.662846088409424,-4.2421770095825195,-6.870473384857178,-2.1304988861083984,-2.7547013759613037,-6.809137344360352,-1.5595816373825073,-3.0680885314941406,-4.060329437255859,-1.8492465019226074,-5.4820380210876465,-4.445001602172852,-4.763049602508545,-2.7129147052764893,-0.7228488326072693,-6.716578483581543,-1.1718531847000122,-1.9217334985733032,-4.480924129486084,-4.446492671966553,-6.834259986877441],\"xaxis\":\"x\",\"y\":[-6.591461181640625,-5.357860088348389,-6.038327693939209,1.2244508266448975,-1.8066052198410034,-2.3687245845794678,-5.441947937011719,-3.535369396209717,-6.870551109313965,-1.4269863367080688,7.482932090759277,-7.533645153045654,-5.0453267097473145,1.6321513652801514,1.6459404230117798,-4.453664302825928,-5.770473480224609,-5.206762313842773,-5.931897163391113,-7.1871018409729,-4.870752811431885,-6.189327239990234,-8.339601516723633,-1.3185704946517944,-6.099730014801025,-1.7382081747055054,-6.2602972984313965,1.6919918060302734,1.661126971244812,-5.557741641998291,-1.9996376037597656,-3.0387139320373535,-1.9291963577270508,-5.5245747566223145,-4.891566753387451,1.8649698495864868,-1.2580604553222656,-3.987544536590576,1.6216793060302734,-1.776545524597168,-6.140185356140137,-7.185749530792236,-2.742544412612915,-4.094158172607422,-3.027907133102417,-4.171107292175293,-2.23439621925354,-6.6401262283325195,-1.6470615863800049,-3.962700843811035,-2.3428432941436768,-2.94419527053833,-4.257181644439697,-0.36201953887939453,-5.979581832885742,-3.6595044136047363,-1.8323625326156616,-0.18072965741157532,-4.462514877319336,-1.4722551107406616,-2.7512362003326416,-6.20013952255249,-3.7407686710357666,-2.953305959701538,-6.025092124938965,-0.6619354486465454,-3.8448944091796875,-4.7780327796936035,-3.4831488132476807,1.2617038488388062,1.7434477806091309,-5.596959114074707,-2.791443347930908,1.7328132390975952,-1.7790426015853882,-4.125874042510986,-2.493410110473633,-2.8883845806121826,-1.1654869318008423,-6.643448352813721,-3.6582202911376953,-7.0572733879089355,-0.4389921724796295,-4.319901466369629,-5.259182453155518,1.5148693323135376,-2.068377733230591,-1.5209276676177979,1.8849098682403564,-2.181522846221924,-1.2635502815246582,-6.742128372192383,-1.9080924987792969,-4.045989990234375,-4.725859642028809,-6.669511795043945,-3.4620370864868164,-2.4022703170776367,-1.5213944911956787,-1.9827895164489746,-1.842325210571289,-3.56628680229187,-7.21971321105957,1.70106840133667],\"yaxis\":\"y\",\"type\":\"scattergl\"},{\"hovertemplate\":\"\\u0412\\u0438\\u0434 \\u041d\\u041f\\u0410=\\u0420\\u0430\\u0441\\u043f\\u043e\\u0440\\u044f\\u0436\\u0435\\u043d\\u0438\\u0435, \\u0440\\u0435\\u0433\\u0438\\u043e\\u043d\\u0430\\u043b\\u044c\\u043d\\u044b\\u0439 \\u0443\\u0440\\u043e\\u0432\\u0435\\u043d\\u044c, \\u043f\\u0440\\u0430\\u0432\\u0438\\u0442\\u0435\\u043b\\u044c\\u0441\\u0442\\u0432\\u043e\\u003cbr\\u003e0=%{x}\\u003cbr\\u003e1=%{y}\\u003cextra\\u003e\\u003c\\u002fextra\\u003e\",\"legendgroup\":\"\\u0420\\u0430\\u0441\\u043f\\u043e\\u0440\\u044f\\u0436\\u0435\\u043d\\u0438\\u0435, \\u0440\\u0435\\u0433\\u0438\\u043e\\u043d\\u0430\\u043b\\u044c\\u043d\\u044b\\u0439 \\u0443\\u0440\\u043e\\u0432\\u0435\\u043d\\u044c, \\u043f\\u0440\\u0430\\u0432\\u0438\\u0442\\u0435\\u043b\\u044c\\u0441\\u0442\\u0432\\u043e\",\"marker\":{\"color\":\"#FF6692\",\"symbol\":\"circle\"},\"mode\":\"markers\",\"name\":\"\\u0420\\u0430\\u0441\\u043f\\u043e\\u0440\\u044f\\u0436\\u0435\\u043d\\u0438\\u0435, \\u0440\\u0435\\u0433\\u0438\\u043e\\u043d\\u0430\\u043b\\u044c\\u043d\\u044b\\u0439 \\u0443\\u0440\\u043e\\u0432\\u0435\\u043d\\u044c, \\u043f\\u0440\\u0430\\u0432\\u0438\\u0442\\u0435\\u043b\\u044c\\u0441\\u0442\\u0432\\u043e\",\"showlegend\":true,\"x\":[1.5699882507324219,0.3602770268917084,-0.8071942925453186,2.019221782684326,2.8817973136901855,3.9580626487731934,4.601241588592529,2.513075828552246,3.968660354614258,-0.7010636329650879,0.882327139377594,3.607417583465576,-0.7574763894081116,3.3893887996673584,3.7143962383270264,2.634697675704956,2.365598678588867,4.540286540985107,3.240129232406616,10.024982452392578,2.5115163326263428,1.125803828239441,5.933742046356201,1.677894115447998,0.12908673286437988,5.653562545776367,2.9328739643096924,1.7563576698303223,3.9758706092834473,9.312833786010742,3.232513189315796,2.500332832336426,2.3854010105133057,6.180073261260986,3.7174370288848877,4.635334491729736,1.594685435295105,0.38256222009658813,-4.327281951904297,6.358839511871338,2.148961067199707,3.81111216545105,2.9560739994049072,2.537168025970459,1.9333772659301758,0.3730144202709198,3.976881980895996,9.27644157409668,5.738096237182617,3.3041088581085205,4.414892673492432,3.1867823600769043,3.4731898307800293,4.5316853523254395,-0.7386820912361145,3.317521572113037,6.4035186767578125,6.126678943634033,5.846836566925049,2.537752389907837,1.8787763118743896,5.9037699699401855,1.3165473937988281,1.2459256649017334,2.1607131958007812,2.5787246227264404,5.28014612197876,-0.7895426750183105,2.596437454223633,6.9811601638793945,6.432485103607178,4.6042914390563965,3.8907973766326904,4.584466457366943,2.503584623336792,6.830200672149658,4.892574787139893,2.1567764282226562,1.9739110469818115,3.094184160232544,5.54102087020874,2.9082415103912354,6.429347991943359,-0.9828009009361267,-0.880093514919281,-1.2117769718170166,-0.7990427613258362,1.2836229801177979,2.1485939025878906,-0.5322200059890747,3.210446834564209,3.7468786239624023,3.966299295425415,4.451694965362549,2.698716878890991,5.698981285095215,5.647785663604736,4.53408145904541,3.551147222518921,2.18146014213562,3.876673698425293,3.8287487030029297,9.417264938354492,3.3563473224639893,2.6441593170166016,2.3765203952789307,2.8628079891204834,4.607336044311523,2.1616196632385254,3.636983871459961,4.670170307159424,8.113847732543945,1.9973753690719604,3.4277617931365967,2.5297796726226807,3.133922815322876,2.7631044387817383,4.6272430419921875,9.407044410705566,1.1676713228225708,3.9272615909576416],\"xaxis\":\"x\",\"y\":[3.2670323848724365,3.571672201156616,6.189919471740723,4.655799388885498,-3.6352014541625977,-2.8780055046081543,6.565495491027832,7.856997489929199,-2.638111114501953,6.264776706695557,2.0964012145996094,-2.3750762939453125,0.5587294101715088,-1.5361334085464478,-2.7486841678619385,-2.4961633682250977,-3.9574522972106934,1.4819899797439575,-1.3457884788513184,5.33921480178833,7.915321350097656,5.49786901473999,1.2268168926239014,1.5904508829116821,-1.8518345355987549,1.6959712505340576,7.0298309326171875,1.4982465505599976,8.664117813110352,6.6182780265808105,-5.156514644622803,7.886289119720459,-5.163588523864746,2.397648334503174,1.5413975715637207,6.569881916046143,-2.934450387954712,3.9154536724090576,-2.293041467666626,1.2723571062088013,-5.249424934387207,-2.8001558780670166,-0.38489046692848206,7.9400410652160645,2.392686128616333,-1.4430357217788696,8.642609596252441,6.604065418243408,1.7237541675567627,2.541992425918579,5.9189300537109375,0.19275140762329102,3.9222664833068848,6.629769802093506,2.2964718341827393,2.542958974838257,6.793896198272705,1.5544284582138062,-6.739377021789551,7.942684173583984,1.343479871749878,-6.670841217041016,1.9947205781936646,2.47953724861145,1.133629560470581,7.995716571807861,-3.1182966232299805,-0.7448723912239075,2.2988412380218506,-5.338894367218018,6.756459712982178,6.466742992401123,8.587576866149902,-7.925544738769531,7.930624008178711,6.413436412811279,-7.357515811920166,-2.326619863510132,1.7091251611709595,-0.9408615827560425,3.9591617584228516,-3.4335925579071045,1.189805507659912,-1.8733769655227661,-0.8680453896522522,6.283100605010986,0.5763606429100037,5.648324966430664,-2.3461596965789795,-1.0970360040664673,3.9442367553710938,-2.773581027984619,-2.8392364978790283,-6.794548511505127,-3.8148887157440186,3.8431520462036133,1.5481828451156616,2.0933825969696045,-2.5548341274261475,-2.301947832107544,-2.6838231086730957,-3.3194704055786133,4.619089603424072,-2.2852659225463867,-2.487457036972046,-2.0699708461761475,1.276017189025879,6.53453254699707,-2.329836130142212,-2.2927639484405518,3.20866060256958,1.7952804565429688,1.2624764442443848,3.8230738639831543,7.91081428527832,2.1092967987060547,-5.3635382652282715,6.529489040374756,6.675850868225098,4.905406951904297,8.5587158203125],\"yaxis\":\"y\",\"type\":\"scattergl\"},{\"hovertemplate\":\"\\u0412\\u0438\\u0434 \\u041d\\u041f\\u0410=\\u041f\\u043e\\u0441\\u0442\\u0430\\u043d\\u043e\\u0432\\u043b\\u0435\\u043d\\u0438\\u0435, \\u0440\\u0435\\u0433\\u0438\\u043e\\u043d\\u0430\\u043b\\u044c\\u043d\\u044b\\u0439 \\u0443\\u0440\\u043e\\u0432\\u0435\\u043d\\u044c, \\u043f\\u0440\\u0430\\u0432\\u0438\\u0442\\u0435\\u043b\\u044c\\u0441\\u0442\\u0432\\u043e\\u003cbr\\u003e0=%{x}\\u003cbr\\u003e1=%{y}\\u003cextra\\u003e\\u003c\\u002fextra\\u003e\",\"legendgroup\":\"\\u041f\\u043e\\u0441\\u0442\\u0430\\u043d\\u043e\\u0432\\u043b\\u0435\\u043d\\u0438\\u0435, \\u0440\\u0435\\u0433\\u0438\\u043e\\u043d\\u0430\\u043b\\u044c\\u043d\\u044b\\u0439 \\u0443\\u0440\\u043e\\u0432\\u0435\\u043d\\u044c, \\u043f\\u0440\\u0430\\u0432\\u0438\\u0442\\u0435\\u043b\\u044c\\u0441\\u0442\\u0432\\u043e\",\"marker\":{\"color\":\"#B6E880\",\"symbol\":\"circle\"},\"mode\":\"markers\",\"name\":\"\\u041f\\u043e\\u0441\\u0442\\u0430\\u043d\\u043e\\u0432\\u043b\\u0435\\u043d\\u0438\\u0435, \\u0440\\u0435\\u0433\\u0438\\u043e\\u043d\\u0430\\u043b\\u044c\\u043d\\u044b\\u0439 \\u0443\\u0440\\u043e\\u0432\\u0435\\u043d\\u044c, \\u043f\\u0440\\u0430\\u0432\\u0438\\u0442\\u0435\\u043b\\u044c\\u0441\\u0442\\u0432\\u043e\",\"showlegend\":true,\"x\":[-3.1333298683166504,0.9525464773178101,0.23631742596626282,-4.385149955749512,2.821343183517456,-0.5092960596084595,4.399325370788574,1.419177532196045,2.7665960788726807,0.5518994927406311,0.2733903229236603,2.4158830642700195,-0.2991032600402832,1.9825814962387085,4.149697780609131,-3.339855194091797,-2.156334161758423,1.9553889036178589,0.2849140465259552,-0.34937572479248047,2.5152840614318848,0.8133717179298401,-1.6071808338165283,2.6130688190460205,-0.6076195240020752,0.9663735032081604,-0.33937007188796997,-0.3876092731952667,-0.7897136211395264,0.03333360701799393,0.14864958822727203,0.9049123525619507,2.879211902618408,-2.5101678371429443,-0.7510813474655151,-2.0836222171783447,3.484220504760742,0.7995692491531372,-2.1047885417938232,2.7575020790100098,0.2682739198207855,-1.4736132621765137,4.052073955535889,0.951842188835144,1.2300068140029907,4.380231857299805,0.12122993171215057,-2.1907989978790283,2.7785422801971436,4.221800804138184,-0.19064989686012268,-1.420761227607727,1.0142323970794678,3.43461537361145,2.9555823802948,-2.1105074882507324,1.0411925315856934,1.635033130645752,0.1324259638786316,0.21558964252471924,3.131826400756836,0.37543147802352905,-0.6445968151092529,0.12732858955860138,6.09898567199707,5.992064952850342,0.9108133316040039,1.7963018417358398,1.794149398803711,1.1386983394622803,1.8055236339569092,0.7746211886405945,1.8458950519561768,1.8608752489089966,0.9507926106452942,0.7883451581001282,0.10711181908845901,0.2359755039215088,1.5112274885177612,-0.7716030478477478,2.18558931350708,-1.3969975709915161,4.061666011810303,5.05202054977417,3.092586040496826,2.577562093734741,3.9159069061279297,-3.4293766021728516,1.4314972162246704,2.4028594493865967,-0.8126551508903503,-0.8346444964408875,0.7338948249816895,3.1422204971313477,1.031564712524414,-2.8119618892669678,1.6743072271347046,1.3248540163040161,2.350745439529419,-0.6815564632415771,3.6007261276245117,1.7582464218139648,2.0643880367279053,3.053696632385254,1.2646034955978394,6.176061630249023,1.0985171794891357,3.4977636337280273,2.0166828632354736,3.7713918685913086,3.7850043773651123,2.4094228744506836,3.378558397293091,2.293339729309082,-7.571094512939453,4.330112934112549,1.209777593612671],\"xaxis\":\"x\",\"y\":[1.031628131866455,5.072224140167236,4.052995681762695,-0.20094963908195496,-5.292853832244873,9.795929908752441,0.4638323187828064,1.184535264968872,3.0796570777893066,3.3945209980010986,2.42171573638916,-3.8402957916259766,1.9330134391784668,3.2871739864349365,3.5792782306671143,0.6258435845375061,6.415899276733398,2.242527723312378,3.1237728595733643,2.044372320175171,3.9641788005828857,3.370755195617676,7.712268829345703,-5.474476337432861,2.903538465499878,2.34686541557312,4.580997943878174,4.608433246612549,0.5140684247016907,2.2203192710876465,3.7846481800079346,3.6621053218841553,-3.543903350830078,4.639981269836426,-0.4370409846305847,1.712634801864624,-4.591339111328125,5.6154069900512695,-0.4058341979980469,-5.46488094329834,3.7391979694366455,7.426689147949219,8.755149841308594,5.1489434242248535,4.7578911781311035,0.19571518898010254,1.5910594463348389,1.8316673040390015,4.203454971313477,5.865020751953125,3.2734875679016113,5.417133331298828,4.928267002105713,0.577857255935669,-2.8418867588043213,1.5273313522338867,2.786297082901001,4.377804756164551,3.8629372119903564,0.5654037594795227,3.873429298400879,4.099595546722412,5.4542741775512695,5.061990737915039,1.855427622795105,1.453823208808899,1.6752523183822632,2.929307222366333,-5.146717548370361,2.1923532485961914,3.941469430923462,5.492238521575928,1.7501318454742432,-5.168506622314453,5.213565826416016,5.275766372680664,2.7416810989379883,0.5302127599716187,1.8224068880081177,1.2002263069152832,-5.257121562957764,7.1649017333984375,3.5109782218933105,3.3970320224761963,5.716053485870361,-3.9977059364318848,4.209802150726318,0.5927297472953796,1.1947921514511108,1.6972604990005493,0.8673346042633057,0.14768525958061218,5.294633865356445,5.661790370941162,2.3397648334503174,4.9018354415893555,3.843125104904175,3.4182043075561523,1.5238970518112183,2.129491090774536,-2.5807371139526367,3.4734034538269043,2.7136361598968506,3.89912748336792,3.6680519580841064,1.5242743492126465,5.4162139892578125,-2.550302028656006,6.123857498168945,4.043698310852051,3.787114381790161,-1.6222987174987793,4.030249118804932,-4.822917461395264,3.804625988006592,2.381587028503418,3.149430751800537],\"yaxis\":\"y\",\"type\":\"scattergl\"},{\"hovertemplate\":\"\\u0412\\u0438\\u0434 \\u041d\\u041f\\u0410=\\u041f\\u0440\\u0438\\u043a\\u0430\\u0437, \\u0440\\u0435\\u0433\\u0438\\u043e\\u043d\\u0430\\u043b\\u044c\\u043d\\u044b\\u0439 \\u0443\\u0440\\u043e\\u0432\\u0435\\u043d\\u044c, \\u043e\\u0440\\u0433\\u0430\\u043d\\u044b \\u0438\\u0441\\u043f\\u043e\\u043b\\u043d\\u0438\\u0442\\u0435\\u043b\\u044c\\u043d\\u043e\\u0439 \\u0432\\u043b\\u0430\\u0441\\u0442\\u0438\\u003cbr\\u003e0=%{x}\\u003cbr\\u003e1=%{y}\\u003cextra\\u003e\\u003c\\u002fextra\\u003e\",\"legendgroup\":\"\\u041f\\u0440\\u0438\\u043a\\u0430\\u0437, \\u0440\\u0435\\u0433\\u0438\\u043e\\u043d\\u0430\\u043b\\u044c\\u043d\\u044b\\u0439 \\u0443\\u0440\\u043e\\u0432\\u0435\\u043d\\u044c, \\u043e\\u0440\\u0433\\u0430\\u043d\\u044b \\u0438\\u0441\\u043f\\u043e\\u043b\\u043d\\u0438\\u0442\\u0435\\u043b\\u044c\\u043d\\u043e\\u0439 \\u0432\\u043b\\u0430\\u0441\\u0442\\u0438\",\"marker\":{\"color\":\"#FF97FF\",\"symbol\":\"circle\"},\"mode\":\"markers\",\"name\":\"\\u041f\\u0440\\u0438\\u043a\\u0430\\u0437, \\u0440\\u0435\\u0433\\u0438\\u043e\\u043d\\u0430\\u043b\\u044c\\u043d\\u044b\\u0439 \\u0443\\u0440\\u043e\\u0432\\u0435\\u043d\\u044c, \\u043e\\u0440\\u0433\\u0430\\u043d\\u044b \\u0438\\u0441\\u043f\\u043e\\u043b\\u043d\\u0438\\u0442\\u0435\\u043b\\u044c\\u043d\\u043e\\u0439 \\u0432\\u043b\\u0430\\u0441\\u0442\\u0438\",\"showlegend\":true,\"x\":[-5.593470573425293,0.8225635290145874,-0.5594727993011475,5.774440288543701,1.131798505783081,-4.723165988922119,1.201519250869751,1.2265509366989136,-3.8107125759124756,0.7615092992782593,-5.071471214294434,-5.6587371826171875,5.4725751876831055,-5.213652610778809,3.2237563133239746,3.15802264213562,-4.054783821105957,0.4131762385368347,-4.714978218078613,1.0565775632858276,0.8177558183670044,0.5509361028671265,-4.3314642906188965,1.1460936069488525,3.7623636722564697,-4.251804828643799,-3.9378278255462646,-5.6633124351501465,-4.01962947845459,4.8310227394104,0.3347570300102234,1.0144296884536743,-2.555684804916382,0.5428387522697449,1.650618314743042,0.00956046860665083,-5.1994404792785645,-4.509115695953369,3.2700858116149902,3.6897995471954346,-0.06408244371414185,0.35736143589019775,-5.231499195098877,2.160348415374756,-4.385996341705322,-5.675952911376953,-3.8221116065979004,-3.488039493560791,-5.716044902801514,0.06369227170944214,-5.095086097717285,-4.400595188140869,0.5403525829315186,1.1688162088394165,-5.528354167938232,1.2550039291381836,-5.37684440612793,0.3905269503593445,2.277477741241455,2.1431081295013428,-4.748335361480713,3.031451463699341,-5.226034164428711,-0.06239587813615799,-4.624111652374268,3.118698835372925,0.6196646094322205,-5.726782321929932,1.5058411359786987,0.3513110280036926,-5.065699577331543,-3.8156352043151855,5.690337657928467,-4.252738952636719,4.45325231552124,0.3521024286746979,3.6000492572784424,1.4022912979125977,2.2653589248657227,-3.9642155170440674,-0.43628406524658203,0.1039557158946991,1.4709595441818237,-5.111683368682861,2.730091094970703,5.8083319664001465,0.3348533511161804,-3.845367908477783,-3.890286445617676,-5.1158928871154785,2.757591485977173,2.4006762504577637,1.9742058515548706,0.37908869981765747,-3.924173593521118,-5.1394195556640625,1.060293197631836,-5.226284980773926,1.4005098342895508,-0.15941762924194336,1.4336074590682983,-3.755359649658203,-4.715260028839111,4.050405979156494,-5.5383620262146,4.070110321044922,-0.09081432223320007,-0.6042502522468567],\"xaxis\":\"x\",\"y\":[8.927918434143066,0.01816512458026409,9.784924507141113,0.9216028451919556,2.034095525741577,8.342529296875,0.6158704161643982,1.6503793001174927,7.647150993347168,0.41614776849746704,8.27975082397461,9.089889526367188,2.629483461380005,6.652350425720215,4.819329738616943,4.809767246246338,7.834003448486328,7.029385566711426,8.486064910888672,0.5203796625137329,2.0166451930999756,2.108254909515381,8.160364151000977,1.3901708126068115,0.9381167888641357,7.762342929840088,7.785521030426025,8.976910591125488,5.6575236320495605,0.8426316380500793,6.924749374389648,2.032761812210083,-3.2350809574127197,1.94106125831604,0.4994763433933258,6.601192474365234,6.647843360900879,7.10427188873291,4.525999069213867,0.8218622803688049,1.701245665550232,3.6181492805480957,6.64249324798584,6.518368721008301,7.90360164642334,9.655651092529297,7.751796722412109,7.506647109985352,8.990721702575684,6.8566436767578125,8.26382827758789,8.068551063537598,7.198646545410156,6.176524639129639,8.880890846252441,1.7952377796173096,9.017423629760742,7.159580707550049,0.3238537609577179,6.601667881011963,8.497867584228516,-0.1699334681034088,8.752189636230469,2.326024293899536,-5.572864532470703,4.700677871704102,0.08097962290048599,8.997979164123535,0.8125031590461731,8.108780860900879,8.303293228149414,7.73721981048584,2.2811334133148193,8.015711784362793,1.9146206378936768,0.3623468279838562,1.0269584655761719,6.436875820159912,0.32484209537506104,7.660468101501465,3.2524635791778564,2.100538969039917,0.6255643963813782,8.48716926574707,3.4109838008880615,0.9141926765441895,5.271402359008789,7.765925407409668,7.729877471923828,8.468439102172852,-0.4577236473560333,3.898308277130127,-5.201615810394287,0.03513660281896591,7.778160572052002,8.609175682067871,6.109952926635742,6.64814567565918,1.8839467763900757,7.724090099334717,1.765732765197754,7.699020862579346,8.285750389099121,8.786627769470215,8.951038360595703,8.79628849029541,7.006507396697998,2.438152551651001],\"yaxis\":\"y\",\"type\":\"scattergl\"},{\"hovertemplate\":\"\\u0412\\u0438\\u0434 \\u041d\\u041f\\u0410=\\u0420\\u0430\\u0441\\u043f\\u043e\\u0440\\u044f\\u0436\\u0435\\u043d\\u0438\\u0435, \\u0444\\u0435\\u0434\\u0435\\u0440\\u0430\\u043b\\u044c\\u043d\\u044b\\u0439 \\u0443\\u0440\\u043e\\u0432\\u0435\\u043d\\u044c, \\u0433\\u043b\\u0430\\u0432\\u0430 \\u0438\\u0441\\u043f\\u043e\\u043b\\u043d\\u0438\\u0442\\u0435\\u043b\\u044c\\u043d\\u043e\\u0439 \\u0432\\u043b\\u0430\\u0441\\u0442\\u0438\\u003cbr\\u003e0=%{x}\\u003cbr\\u003e1=%{y}\\u003cextra\\u003e\\u003c\\u002fextra\\u003e\",\"legendgroup\":\"\\u0420\\u0430\\u0441\\u043f\\u043e\\u0440\\u044f\\u0436\\u0435\\u043d\\u0438\\u0435, \\u0444\\u0435\\u0434\\u0435\\u0440\\u0430\\u043b\\u044c\\u043d\\u044b\\u0439 \\u0443\\u0440\\u043e\\u0432\\u0435\\u043d\\u044c, \\u0433\\u043b\\u0430\\u0432\\u0430 \\u0438\\u0441\\u043f\\u043e\\u043b\\u043d\\u0438\\u0442\\u0435\\u043b\\u044c\\u043d\\u043e\\u0439 \\u0432\\u043b\\u0430\\u0441\\u0442\\u0438\",\"marker\":{\"color\":\"#FECB52\",\"symbol\":\"circle\"},\"mode\":\"markers\",\"name\":\"\\u0420\\u0430\\u0441\\u043f\\u043e\\u0440\\u044f\\u0436\\u0435\\u043d\\u0438\\u0435, \\u0444\\u0435\\u0434\\u0435\\u0440\\u0430\\u043b\\u044c\\u043d\\u044b\\u0439 \\u0443\\u0440\\u043e\\u0432\\u0435\\u043d\\u044c, \\u0433\\u043b\\u0430\\u0432\\u0430 \\u0438\\u0441\\u043f\\u043e\\u043b\\u043d\\u0438\\u0442\\u0435\\u043b\\u044c\\u043d\\u043e\\u0439 \\u0432\\u043b\\u0430\\u0441\\u0442\\u0438\",\"showlegend\":true,\"x\":[5.085774898529053,-3.9271652698516846,5.023078918457031,6.044103145599365,5.445338249206543,-1.579689383506775,4.979388236999512,-3.9364261627197266,2.807286500930786,1.0263311862945557,1.0451174974441528,4.190606594085693,-1.5696526765823364,5.027627468109131,-1.56509530544281,0.9553089141845703,5.855712890625,-2.226334810256958,-1.5664699077606201,-2.3946681022644043,-1.5960997343063354,-0.013083087280392647,5.262787818908691,-1.0750890970230103,-1.60357666015625,0.1292331963777542,6.161832332611084,4.078006744384766,5.551936149597168,6.8142571449279785,1.2770391702651978,6.735372543334961,-0.037037670612335205,-1.0775699615478516,6.064455986022949,6.138533115386963,-1.104753017425537,6.3008880615234375,-1.6556140184402466,-0.1814998835325241,-0.06648815423250198,-6.284583568572998,-0.4155687391757965,-0.19467541575431824,-0.3973316252231598,-0.18849064409732819,-1.5490139722824097,-4.164937496185303,5.30379056930542,-0.11286576092243195,-1.5550947189331055,1.2757155895233154,-0.3170977234840393,-1.65976881980896,-1.2720504999160767,4.99511194229126,-1.5301320552825928,-1.3526633977890015,3.279886484146118,-0.20032942295074463,4.980108261108398,-1.3886826038360596,-0.4634799659252167,-2.1592226028442383,-0.02065698429942131,-0.6126829981803894,-2.2006375789642334,1.0397082567214966,-2.2272021770477295,-2.221034526824951,5.166632652282715,-1.0762423276901245,-0.07612226903438568,-1.6513999700546265,-1.053126573562622,4.925685405731201,5.451760292053223,5.038811206817627,6.125258922576904,1.072209358215332,1.245620846748352,5.761743068695068,0.9822565913200378,1.3742244243621826,-0.029016636312007904,5.255455493927002],\"xaxis\":\"x\",\"y\":[-3.581181526184082,-7.889585018157959,-3.6758131980895996,-7.175323486328125,-7.2912068367004395,-7.5706024169921875,-3.687533378601074,-7.863495349884033,-8.82616138458252,-6.553034782409668,-6.774581432342529,-8.060989379882812,-7.438869476318359,-3.6120011806488037,-7.441614151000977,-7.021799564361572,-7.175302028656006,-10.239583015441895,-7.497116565704346,-10.2134428024292,-9.780803680419922,-6.966785907745361,-7.525562286376953,-9.2317533493042,-7.483212471008301,-7.188576698303223,-6.619318962097168,-8.118475914001465,-7.203831672668457,-6.392885208129883,-7.374392509460449,-7.0259785652160645,-7.012620449066162,-9.181093215942383,-6.699399471282959,-7.030550003051758,-7.750227451324463,-6.58746862411499,-7.145130634307861,-6.905635833740234,-7.326064586639404,-8.112570762634277,-10.157220840454102,-6.6083984375,-8.596207618713379,-7.643818378448486,-7.423339366912842,-7.712844371795654,-8.145200729370117,-7.426816463470459,-7.51834774017334,-7.4923553466796875,-7.802170753479004,-7.537370681762695,-6.873716831207275,-3.6701254844665527,-7.42547607421875,-7.678901195526123,-8.566186904907227,-7.6744184494018555,-3.780921697616577,-3.700639247894287,-7.89512300491333,-10.256988525390625,-4.4158854484558105,-8.9144287109375,-10.258655548095703,-9.117530822753906,-10.234081268310547,-10.247825622558594,-3.5734307765960693,-6.447315216064453,-7.359489917755127,-7.43134069442749,-10.981629371643066,-8.054008483886719,-7.4929351806640625,-3.707043409347534,-6.392446517944336,-9.131975173950195,-7.292883396148682,-7.177465438842773,-6.623887062072754,-9.036455154418945,-7.549985408782959,-7.713648796081543],\"yaxis\":\"y\",\"type\":\"scattergl\"},{\"hovertemplate\":\"\\u0412\\u0438\\u0434 \\u041d\\u041f\\u0410=\\u041f\\u043e\\u0441\\u0442\\u0430\\u043d\\u043e\\u0432\\u043b\\u0435\\u043d\\u0438\\u0435, \\u0440\\u0435\\u0433\\u0438\\u043e\\u043d\\u0430\\u043b\\u044c\\u043d\\u044b\\u0439 \\u0443\\u0440\\u043e\\u0432\\u0435\\u043d\\u044c, \\u043e\\u0440\\u0433\\u0430\\u043d\\u044b \\u0438\\u0441\\u043f\\u043e\\u043b\\u043d\\u0438\\u0442\\u0435\\u043b\\u044c\\u043d\\u043e\\u0439 \\u0432\\u043b\\u0430\\u0441\\u0442\\u0438\\u003cbr\\u003e0=%{x}\\u003cbr\\u003e1=%{y}\\u003cextra\\u003e\\u003c\\u002fextra\\u003e\",\"legendgroup\":\"\\u041f\\u043e\\u0441\\u0442\\u0430\\u043d\\u043e\\u0432\\u043b\\u0435\\u043d\\u0438\\u0435, \\u0440\\u0435\\u0433\\u0438\\u043e\\u043d\\u0430\\u043b\\u044c\\u043d\\u044b\\u0439 \\u0443\\u0440\\u043e\\u0432\\u0435\\u043d\\u044c, \\u043e\\u0440\\u0433\\u0430\\u043d\\u044b \\u0438\\u0441\\u043f\\u043e\\u043b\\u043d\\u0438\\u0442\\u0435\\u043b\\u044c\\u043d\\u043e\\u0439 \\u0432\\u043b\\u0430\\u0441\\u0442\\u0438\",\"marker\":{\"color\":\"#636efa\",\"symbol\":\"circle\"},\"mode\":\"markers\",\"name\":\"\\u041f\\u043e\\u0441\\u0442\\u0430\\u043d\\u043e\\u0432\\u043b\\u0435\\u043d\\u0438\\u0435, \\u0440\\u0435\\u0433\\u0438\\u043e\\u043d\\u0430\\u043b\\u044c\\u043d\\u044b\\u0439 \\u0443\\u0440\\u043e\\u0432\\u0435\\u043d\\u044c, \\u043e\\u0440\\u0433\\u0430\\u043d\\u044b \\u0438\\u0441\\u043f\\u043e\\u043b\\u043d\\u0438\\u0442\\u0435\\u043b\\u044c\\u043d\\u043e\\u0439 \\u0432\\u043b\\u0430\\u0441\\u0442\\u0438\",\"showlegend\":true,\"x\":[-3.4359211921691895,-3.3406383991241455,-4.952351093292236,-4.8550944328308105,-2.3056907653808594,-4.588296413421631,-6.939977169036865,4.231086730957031,4.160428047180176,-3.461622953414917,-4.577387809753418,-3.49074649810791,-4.840677261352539,-3.964470148086548,2.6583290100097656,1.9527082443237305,2.7826647758483887,-3.478008270263672,-4.68475341796875,2.2649450302124023,0.02798083983361721,-2.27235746383667,-5.090127468109131,-5.161037445068359,3.496467351913452,0.13869480788707733,-4.8222737312316895,-5.127455711364746,-4.882171154022217,5.483882904052734,-2.3211779594421387,-3.4948174953460693,-5.161037921905518,-4.8473219871521,-5.198558330535889,-4.6625871658325195,-2.1969311237335205,-4.8815460205078125,-4.907604217529297,-4.961582660675049,-4.900073528289795,-4.945072650909424,-3.4384095668792725,0.14408132433891296,-2.202657461166382,-4.858963489532471,-2.345916748046875,-6.9454474449157715,3.0237855911254883,-3.378786087036133,-4.184964656829834,-3.2693042755126953,-4.487853050231934,-6.928677558898926,-4.905243873596191,4.947808265686035,-4.822360515594482,1.1935545206069946,-4.840963363647461,-4.917179107666016,-3.537764310836792,-3.1655611991882324,-4.582944869995117,-4.932468891143799,-3.3031723499298096,-4.952547073364258,-4.7507643699646,-4.371710777282715,-3.370335102081299,-3.4944934844970703,-4.8763508796691895,-3.3431203365325928,-3.969430923461914,-4.865174770355225,-2.1389126777648926,-3.2076518535614014,-3.4013283252716064,-4.751378536224365,-4.602630615234375,-4.716132164001465,-2.968435049057007,2.6322598457336426,-3.15987229347229,-4.864833354949951],\"xaxis\":\"x\",\"y\":[9.832395553588867,9.916115760803223,9.459086418151855,9.482027053833008,9.285658836364746,10.342329978942871,8.356096267700195,3.4331231117248535,1.9096403121948242,6.437382221221924,9.283708572387695,9.166024208068848,10.078424453735352,5.69518518447876,5.813609600067139,8.017098426818848,6.158066749572754,6.352671146392822,9.244324684143066,6.466733932495117,3.717961311340332,9.287571907043457,10.27181339263916,10.271506309509277,1.824150800704956,3.694376230239868,9.380197525024414,10.227034568786621,9.745423316955566,0.020989127457141876,9.266883850097656,9.141448020935059,10.271505355834961,9.198440551757812,10.171857833862305,9.423745155334473,9.216254234313965,9.554132461547852,9.757765769958496,9.342150688171387,9.580841064453125,9.857108116149902,9.472487449645996,3.711312770843506,9.245185852050781,10.03122329711914,9.282806396484375,8.349437713623047,1.0903922319412231,10.022327423095703,9.350994110107422,9.954912185668945,8.019721031188965,8.354565620422363,8.65729808807373,6.037836074829102,9.679082870483398,5.081110954284668,9.506403923034668,9.815997123718262,9.376863479614258,10.048745155334473,10.016463279724121,9.310537338256836,9.822868347167969,9.906295776367188,9.37032699584961,9.277679443359375,9.977752685546875,6.44546365737915,9.34725284576416,9.726273536682129,5.677844524383545,9.723904609680176,8.720096588134766,9.9464693069458,9.556339263916016,9.22823715209961,9.31850814819336,9.174027442932129,10.177773475646973,5.621614933013916,10.047595977783203,9.335582733154297],\"yaxis\":\"y\",\"type\":\"scattergl\"},{\"hovertemplate\":\"\\u0412\\u0438\\u0434 \\u041d\\u041f\\u0410=\\u0417\\u0430\\u043a\\u043e\\u043d, \\u0440\\u0435\\u0433\\u0438\\u043e\\u043d\\u0430\\u043b\\u044c\\u043d\\u044b\\u0439 \\u0443\\u0440\\u043e\\u0432\\u0435\\u043d\\u044c, \\u0437\\u0430\\u043a\\u043e\\u043d\\u043e\\u0434\\u0430\\u0442\\u0435\\u043b\\u044c\\u043d\\u044b\\u0439 \\u043e\\u0440\\u0433\\u0430\\u043d\\u003cbr\\u003e0=%{x}\\u003cbr\\u003e1=%{y}\\u003cextra\\u003e\\u003c\\u002fextra\\u003e\",\"legendgroup\":\"\\u0417\\u0430\\u043a\\u043e\\u043d, \\u0440\\u0435\\u0433\\u0438\\u043e\\u043d\\u0430\\u043b\\u044c\\u043d\\u044b\\u0439 \\u0443\\u0440\\u043e\\u0432\\u0435\\u043d\\u044c, \\u0437\\u0430\\u043a\\u043e\\u043d\\u043e\\u0434\\u0430\\u0442\\u0435\\u043b\\u044c\\u043d\\u044b\\u0439 \\u043e\\u0440\\u0433\\u0430\\u043d\",\"marker\":{\"color\":\"#EF553B\",\"symbol\":\"circle\"},\"mode\":\"markers\",\"name\":\"\\u0417\\u0430\\u043a\\u043e\\u043d, \\u0440\\u0435\\u0433\\u0438\\u043e\\u043d\\u0430\\u043b\\u044c\\u043d\\u044b\\u0439 \\u0443\\u0440\\u043e\\u0432\\u0435\\u043d\\u044c, \\u0437\\u0430\\u043a\\u043e\\u043d\\u043e\\u0434\\u0430\\u0442\\u0435\\u043b\\u044c\\u043d\\u044b\\u0439 \\u043e\\u0440\\u0433\\u0430\\u043d\",\"showlegend\":true,\"x\":[-1.5119843482971191,4.168288230895996,-2.7906908988952637,-2.330259323120117,-2.4015448093414307,3.950214385986328,1.596169114112854,-1.183729648590088,1.5288821458816528,2.033670425415039,2.2665176391601562,-2.743774652481079,4.435101509094238,-1.8177894353866577,-4.515349388122559,-1.3390183448791504,-2.7718617916107178,-2.4963817596435547,1.0819810628890991,-5.757486343383789,-1.2359110116958618,-4.276538848876953,4.236005783081055,3.2870750427246094,-2.2852632999420166,4.302963733673096,-2.591979503631592,-1.7633990049362183,-8.336864471435547,1.871280312538147,1.4051662683486938,6.204688549041748,1.4989959001541138,-1.645113229751587,-0.011261965148150921,-5.92874002456665,4.464223384857178,-2.103468656539917,-5.119624137878418,-2.1928882598876953,-0.18749433755874634,-2.232398271560669,3.6897358894348145,-1.0258047580718994,1.4530218839645386,-2.2331440448760986,0.1888517588376999,1.8170490264892578,-2.1787567138671875,-6.507241725921631,-2.4586400985717773,-5.20488166809082,3.858297348022461,4.516345024108887,-3.9781441688537598,-0.07546248286962509,-5.11909294128418,-8.062379837036133,1.6028867959976196,-4.028313636779785,3.588026762008667,-2.3947839736938477,-0.6870905756950378,-1.4046891927719116,0.4932880401611328,-1.0580368041992188,-2.0639915466308594,-7.759139537811279,3.7173733711242676,2.581908702850342,-5.071759223937988,5.727677822113037,-3.1345694065093994,-0.7326294779777527,-2.8334341049194336,4.22034215927124,-7.827231407165527,1.5122014284133911,-4.266644477844238,1.5402321815490723,-2.426132917404175,-2.3844597339630127,-1.3309595584869385,-2.5463078022003174,-2.192965269088745,1.8569775819778442,0.3441042900085449,-0.02684706263244152,1.680631160736084,3.7590126991271973,-2.116703748703003,4.2315826416015625,-3.659975528717041,-4.122991561889648,1.3315807580947876,6.735696792602539,-4.843719005584717,-4.048496246337891,-2.9963791370391846],\"xaxis\":\"x\",\"y\":[3.7154877185821533,5.966207504272461,3.4305801391601562,0.2842368185520172,3.180966377258301,5.915341854095459,-3.7742183208465576,0.06068333610892296,-2.9262027740478516,2.729201078414917,-3.057586431503296,2.696361780166626,6.117577075958252,2.9056763648986816,1.84906005859375,1.0432236194610596,1.693116307258606,3.0934786796569824,4.5721917152404785,-0.463705450296402,6.450052738189697,0.22982439398765564,5.951099395751953,4.1498894691467285,1.457093358039856,5.924001693725586,3.247859001159668,3.3654494285583496,4.1938796043396,0.28980231285095215,-1.3759268522262573,-0.14363425970077515,-3.8050997257232666,2.5046327114105225,4.438756465911865,-2.3580572605133057,0.11763447523117065,3.3131263256073,0.744624674320221,-0.2389211654663086,4.627443313598633,0.08871856331825256,5.803031921386719,3.6595516204833984,-3.4649648666381836,-1.048000454902649,1.4783953428268433,-3.4136295318603516,3.289985418319702,-0.4004892408847809,2.799875497817993,0.8614088892936707,-4.554893970489502,6.0375871658325195,4.442043304443359,3.9467923641204834,1.3928992748260498,2.7980141639709473,-3.7750463485717773,4.554494380950928,3.890472173690796,3.717256546020508,3.728127956390381,4.481980800628662,3.7552928924560547,1.2982820272445679,2.013122081756592,3.9469387531280518,-4.561453819274902,-0.967028796672821,1.3704192638397217,-0.13975630700588226,3.743384599685669,3.6705501079559326,3.3528199195861816,5.99205207824707,3.9819915294647217,-3.7577037811279297,-0.2811014652252197,-3.694530725479126,1.433504581451416,0.030755583196878433,-0.272461861371994,2.1936864852905273,1.8376638889312744,-3.183661699295044,5.370772838592529,0.5285627245903015,-2.909877300262451,-4.533426761627197,2.387888193130493,5.863182067871094,0.4745609164237976,4.556496620178223,4.558710098266602,6.42164945602417,1.618799090385437,4.599880218505859,3.555774688720703],\"yaxis\":\"y\",\"type\":\"scattergl\"},{\"hovertemplate\":\"\\u0412\\u0438\\u0434 \\u041d\\u041f\\u0410=\\u0420\\u0430\\u0441\\u043f\\u043e\\u0440\\u044f\\u0436\\u0435\\u043d\\u0438\\u0435, \\u0440\\u0435\\u0433\\u0438\\u043e\\u043d\\u0430\\u043b\\u044c\\u043d\\u044b\\u0439 \\u0443\\u0440\\u043e\\u0432\\u0435\\u043d\\u044c, \\u0433\\u043b\\u0430\\u0432\\u0430 \\u0438\\u0441\\u043f\\u043e\\u043b\\u043d\\u0438\\u0442\\u0435\\u043b\\u044c\\u043d\\u043e\\u0439 \\u0432\\u043b\\u0430\\u0441\\u0442\\u0438\\u003cbr\\u003e0=%{x}\\u003cbr\\u003e1=%{y}\\u003cextra\\u003e\\u003c\\u002fextra\\u003e\",\"legendgroup\":\"\\u0420\\u0430\\u0441\\u043f\\u043e\\u0440\\u044f\\u0436\\u0435\\u043d\\u0438\\u0435, \\u0440\\u0435\\u0433\\u0438\\u043e\\u043d\\u0430\\u043b\\u044c\\u043d\\u044b\\u0439 \\u0443\\u0440\\u043e\\u0432\\u0435\\u043d\\u044c, \\u0433\\u043b\\u0430\\u0432\\u0430 \\u0438\\u0441\\u043f\\u043e\\u043b\\u043d\\u0438\\u0442\\u0435\\u043b\\u044c\\u043d\\u043e\\u0439 \\u0432\\u043b\\u0430\\u0441\\u0442\\u0438\",\"marker\":{\"color\":\"#00cc96\",\"symbol\":\"circle\"},\"mode\":\"markers\",\"name\":\"\\u0420\\u0430\\u0441\\u043f\\u043e\\u0440\\u044f\\u0436\\u0435\\u043d\\u0438\\u0435, \\u0440\\u0435\\u0433\\u0438\\u043e\\u043d\\u0430\\u043b\\u044c\\u043d\\u044b\\u0439 \\u0443\\u0440\\u043e\\u0432\\u0435\\u043d\\u044c, \\u0433\\u043b\\u0430\\u0432\\u0430 \\u0438\\u0441\\u043f\\u043e\\u043b\\u043d\\u0438\\u0442\\u0435\\u043b\\u044c\\u043d\\u043e\\u0439 \\u0432\\u043b\\u0430\\u0441\\u0442\\u0438\",\"showlegend\":true,\"x\":[6.162308692932129,8.412240028381348,9.02185344696045,9.05749797821045,9.102099418640137,5.810252666473389,7.060111045837402,-1.0614056587219238,5.537532329559326,8.617427825927734,3.3087310791015625,6.90614652633667,9.174833297729492,8.843881607055664,6.89827823638916,8.926851272583008,5.538416385650635,6.103414535522461,7.262752056121826,3.3619515895843506,1.9757498502731323,9.745438575744629,9.152026176452637,-2.0536937713623047,7.3421406745910645,0.9934602975845337,7.158741474151611,3.0004560947418213,7.41010856628418,8.510972023010254,9.736156463623047,9.095878601074219,1.9127196073532104,2.0507397651672363,8.976766586303711,3.3044657707214355,9.025846481323242,9.058065414428711,6.838911533355713,9.087372779846191,3.342048168182373,5.228525638580322,8.892261505126953,7.6111884117126465,-1.2848327159881592,9.043950080871582,0.43134939670562744,9.033844947814941,8.95341968536377,-0.8611854314804077,9.00810718536377,3.0412371158599854,5.453003406524658,6.090779781341553,9.030986785888672,9.279860496520996,1.109168529510498,-1.8507431745529175,9.088873863220215,8.992782592773438,6.6311492919921875,1.9753459692001343,9.030228614807129,5.0650506019592285,7.093781471252441,6.393801212310791,4.323348522186279,4.351360321044922,8.764070510864258,-1.2856409549713135,9.05307388305664,8.69039535522461,2.8377556800842285,8.627009391784668,-1.0965911149978638,9.007067680358887,4.206377029418945,5.900481224060059,9.054577827453613,6.6064653396606445,7.603288173675537,2.7167108058929443,6.0005927085876465,5.906715393066406,2.4395179748535156,8.875402450561523,-2.2053582668304443,7.110852241516113,8.984587669372559,-1.0593900680541992,3.622070074081421,3.303518295288086,2.416520833969116,7.306276798248291],\"xaxis\":\"x\",\"y\":[4.325342178344727,-4.734645843505859,-4.026579856872559,-4.000286102294922,4.854189872741699,3.8363492488861084,-5.051546573638916,3.4152543544769287,3.3054001331329346,6.337432384490967,2.456047296524048,-5.031198024749756,4.854867935180664,-4.1353535652160645,-4.85308313369751,-4.07759952545166,-2.3188514709472656,2.520308256149292,-5.212146759033203,2.537825345993042,-3.7596166133880615,5.512974262237549,5.191285610198975,6.193047523498535,-5.778216361999512,5.681682586669922,-5.279523849487305,7.378165245056152,-5.069639682769775,-4.499157428741455,5.542971611022949,-3.9719619750976562,-0.013117258436977863,-3.7221837043762207,-4.034359931945801,-4.723382949829102,-4.011594772338867,-4.003215312957764,-4.307434558868408,-3.981081962585449,2.501706123352051,3.5485684871673584,-4.082055568695068,-5.254983425140381,7.800005912780762,-3.982144594192505,1.7173782587051392,-4.012639045715332,-4.063817977905273,5.038044452667236,-4.004775524139404,-5.186835289001465,4.029850959777832,-6.7623066902160645,-4.022154331207275,5.6171488761901855,6.073375225067139,6.085499286651611,-3.980332374572754,-4.00221586227417,-4.942230224609375,-2.9287052154541016,-4.011761665344238,1.5467579364776611,-5.734066009521484,-5.822819232940674,1.4873123168945312,1.7325149774551392,-4.119986057281494,7.877098560333252,-3.9934580326080322,-4.317206859588623,1.813302993774414,-4.372499942779541,8.18932819366455,-4.032189846038818,-4.583355903625488,1.822188377380371,-3.9914345741271973,1.5505492687225342,-5.290594577789307,-5.35051965713501,0.9768227934837341,5.063827037811279,1.6133992671966553,-4.1000165939331055,6.203855037689209,-5.403611183166504,-4.043061256408691,6.381507873535156,-2.3189282417297363,-4.8492608070373535,-5.2576189041137695,-5.684977054595947],\"yaxis\":\"y\",\"type\":\"scattergl\"},{\"hovertemplate\":\"\\u0412\\u0438\\u0434 \\u041d\\u041f\\u0410=\\u0417\\u0430\\u043a\\u043e\\u043d, \\u0444\\u0435\\u0434\\u0435\\u0440\\u0430\\u043b\\u044c\\u043d\\u044b\\u0439 \\u0443\\u0440\\u043e\\u0432\\u0435\\u043d\\u044c, \\u0437\\u0430\\u043a\\u043e\\u043d\\u043e\\u0434\\u0430\\u0442\\u0435\\u043b\\u044c\\u043d\\u044b\\u0439 \\u043e\\u0440\\u0433\\u0430\\u043d\\u003cbr\\u003e0=%{x}\\u003cbr\\u003e1=%{y}\\u003cextra\\u003e\\u003c\\u002fextra\\u003e\",\"legendgroup\":\"\\u0417\\u0430\\u043a\\u043e\\u043d, \\u0444\\u0435\\u0434\\u0435\\u0440\\u0430\\u043b\\u044c\\u043d\\u044b\\u0439 \\u0443\\u0440\\u043e\\u0432\\u0435\\u043d\\u044c, \\u0437\\u0430\\u043a\\u043e\\u043d\\u043e\\u0434\\u0430\\u0442\\u0435\\u043b\\u044c\\u043d\\u044b\\u0439 \\u043e\\u0440\\u0433\\u0430\\u043d\",\"marker\":{\"color\":\"#ab63fa\",\"symbol\":\"circle\"},\"mode\":\"markers\",\"name\":\"\\u0417\\u0430\\u043a\\u043e\\u043d, \\u0444\\u0435\\u0434\\u0435\\u0440\\u0430\\u043b\\u044c\\u043d\\u044b\\u0439 \\u0443\\u0440\\u043e\\u0432\\u0435\\u043d\\u044c, \\u0437\\u0430\\u043a\\u043e\\u043d\\u043e\\u0434\\u0430\\u0442\\u0435\\u043b\\u044c\\u043d\\u044b\\u0439 \\u043e\\u0440\\u0433\\u0430\\u043d\",\"showlegend\":true,\"x\":[-1.6688042879104614,-2.934004545211792,-6.470067977905273,-7.873912811279297,-7.951757907867432,-8.118681907653809,-6.914758205413818,-1.7831900119781494,-6.216128349304199,-7.400261878967285,-1.9803651571273804,-8.192252159118652,-7.046834945678711,-6.25828218460083,-2.7150990962982178,-1.569888710975647,-8.314743041992188,-8.678516387939453,-7.630774974822998,-6.278127193450928,-8.581222534179688,-8.67134952545166,-7.865399360656738,-7.9209723472595215,-7.088457107543945,-7.448775768280029,-3.9012954235076904,-0.8673904538154602,-8.193466186523438,-8.461153030395508,-7.335906505584717,-7.8921122550964355,-6.423102378845215,-1.8298590183258057,-6.505865097045898,-1.1686205863952637,-8.345358848571777,-8.715657234191895,-2.5003275871276855,-6.588333606719971,-6.714965343475342,-6.232737064361572,-8.657718658447266,-1.9542264938354492,-1.6868140697479248,-6.512040615081787,1.3876535892486572,-7.2613959312438965,-4.11025333404541,-6.27606201171875,-6.79802131652832,-6.581202030181885,-6.221715450286865,-8.151946067810059,-7.611573696136475,-6.601907253265381,-8.425647735595703,-6.466503143310547,-5.653872489929199,-8.092272758483887,-8.159964561462402,-2.8872175216674805,-7.564844131469727,-8.601425170898438,-8.676769256591797,-8.16368293762207,-6.209115028381348,-7.705824375152588,-6.316654205322266,-8.488920211791992,-6.109904766082764,-6.483794212341309,-6.444142818450928,-7.958853721618652,-7.699491024017334,-8.160618782043457,-7.817961692810059,-6.969474792480469,-7.373733043670654,-4.039474964141846,-1.9397497177124023,-6.1760711669921875,-7.643299579620361,-8.645944595336914,-8.083992958068848],\"xaxis\":\"x\",\"y\":[-7.179287433624268,-7.098737716674805,-2.390669107437134,-1.588344931602478,-2.0226521492004395,-2.738473415374756,-2.6834757328033447,-5.729339599609375,-1.3077770471572876,-3.0481324195861816,-5.720824241638184,-2.584871292114258,-1.595475673675537,-2.2561140060424805,-0.5754303336143494,-7.402765274047852,-2.707362651824951,-2.673598289489746,-3.117574453353882,-1.9983112812042236,-1.9336934089660645,-1.987614393234253,-2.2664549350738525,-2.470973253250122,-2.017937660217285,-1.4758498668670654,-1.4911662340164185,-0.9540367126464844,-1.7881931066513062,-2.0456430912017822,-1.404785394668579,-1.7668325901031494,-2.5918478965759277,-4.108407497406006,-2.1292636394500732,-2.702502727508545,-3.124100923538208,-2.689913272857666,-5.099803924560547,-3.075281858444214,-2.10654878616333,-3.1212637424468994,-2.666792631149292,-5.953018665313721,-7.462652683258057,-2.662088632583618,-8.239154815673828,-2.722923994064331,-1.7461600303649902,-1.6090447902679443,-2.351182222366333,-2.1483049392700195,-2.544066905975342,-3.2022078037261963,-1.509042739868164,-2.0634407997131348,-2.091451644897461,-1.312971830368042,-1.955139398574829,-1.4606695175170898,-3.1232268810272217,-0.3676467537879944,-1.630183458328247,-1.976729154586792,-2.6503355503082275,-2.4950006008148193,-2.0473203659057617,-1.4030088186264038,-2.7839162349700928,-1.9718705415725708,-1.8161976337432861,-1.6756125688552856,-2.140995979309082,-2.229991912841797,-1.6530650854110718,-2.9746742248535156,-1.5891166925430298,-1.2554212808609009,-1.6167832612991333,-1.565603256225586,-6.086599349975586,-2.3132665157318115,-1.5385713577270508,-2.0108938217163086,-5.300982475280762],\"yaxis\":\"y\",\"type\":\"scattergl\"},{\"hovertemplate\":\"\\u0412\\u0438\\u0434 \\u041d\\u041f\\u0410=\\u0423\\u043a\\u0430\\u0437, \\u0440\\u0435\\u0433\\u0438\\u043e\\u043d\\u0430\\u043b\\u044c\\u043d\\u044b\\u0439 \\u0443\\u0440\\u043e\\u0432\\u0435\\u043d\\u044c, \\u0433\\u043b\\u0430\\u0432\\u0430 \\u0438\\u0441\\u043f\\u043e\\u043b\\u043d\\u0438\\u0442\\u0435\\u043b\\u044c\\u043d\\u043e\\u0439 \\u0432\\u043b\\u0430\\u0441\\u0442\\u0438\\u003cbr\\u003e0=%{x}\\u003cbr\\u003e1=%{y}\\u003cextra\\u003e\\u003c\\u002fextra\\u003e\",\"legendgroup\":\"\\u0423\\u043a\\u0430\\u0437, \\u0440\\u0435\\u0433\\u0438\\u043e\\u043d\\u0430\\u043b\\u044c\\u043d\\u044b\\u0439 \\u0443\\u0440\\u043e\\u0432\\u0435\\u043d\\u044c, \\u0433\\u043b\\u0430\\u0432\\u0430 \\u0438\\u0441\\u043f\\u043e\\u043b\\u043d\\u0438\\u0442\\u0435\\u043b\\u044c\\u043d\\u043e\\u0439 \\u0432\\u043b\\u0430\\u0441\\u0442\\u0438\",\"marker\":{\"color\":\"#FFA15A\",\"symbol\":\"circle\"},\"mode\":\"markers\",\"name\":\"\\u0423\\u043a\\u0430\\u0437, \\u0440\\u0435\\u0433\\u0438\\u043e\\u043d\\u0430\\u043b\\u044c\\u043d\\u044b\\u0439 \\u0443\\u0440\\u043e\\u0432\\u0435\\u043d\\u044c, \\u0433\\u043b\\u0430\\u0432\\u0430 \\u0438\\u0441\\u043f\\u043e\\u043b\\u043d\\u0438\\u0442\\u0435\\u043b\\u044c\\u043d\\u043e\\u0439 \\u0432\\u043b\\u0430\\u0441\\u0442\\u0438\",\"showlegend\":true,\"x\":[9.591158866882324,2.814614772796631,6.034727573394775,7.456362724304199,9.032376289367676,9.583536148071289,5.472086429595947,8.959822654724121,9.66464900970459,10.100957870483398,8.63055419921875,3.4563307762145996,4.845601558685303,8.093907356262207,8.618592262268066,1.978994607925415,9.114273071289062,2.7301905155181885,9.538150787353516,-0.35145965218544006,2.228837728500366,9.885285377502441,2.156607151031494,10.167268753051758,1.7780070304870605,8.45875072479248,5.008175849914551,8.087024688720703,9.76056957244873,8.04610538482666,6.51509428024292,1.4017210006713867,3.3147149085998535,10.11246109008789,2.138779401779175,4.753488540649414,5.107414245605469,9.254658699035645,5.038366317749023,8.897200584411621,8.047070503234863,4.746209144592285,8.621289253234863,-2.210620880126953,9.941866874694824,7.047491073608398,5.839001178741455,5.16027307510376,2.287867546081543,0.08670365810394287,2.6465280055999756,4.401909828186035,9.007427215576172,10.076449394226074,8.694710731506348,2.2903695106506348,-1.743754267692566,-2.8558990955352783,2.7193026542663574,0.40353989601135254,9.059964179992676,2.6736714839935303,1.513812780380249,8.82563591003418,2.258074998855591,9.793824195861816,6.118364334106445,-0.18063950538635254,9.846786499023438,2.8202712535858154,0.26110613346099854,1.0864078998565674,10.012411117553711,5.815711498260498,8.036943435668945,2.5490336418151855,2.7574493885040283,4.695711612701416,0.11618925631046295,10.185562133789062,6.1306257247924805,2.14609694480896,3.8850955963134766,9.496406555175781,4.908665180206299,2.6870481967926025,9.533939361572266,5.344268321990967,0.6604404449462891,2.126132011413574,10.240079879760742,5.310670852661133,-1.283225655555725,6.4057230949401855,-1.3999972343444824,5.6603899002075195,8.454044342041016,9.755709648132324,3.3485007286071777],\"xaxis\":\"x\",\"y\":[6.170466899871826,-4.967859745025635,1.6659640073776245,-5.177088260650635,6.645213603973389,5.67005729675293,2.305539131164551,6.282467365264893,5.513367176055908,5.172659873962402,6.554876804351807,-4.652669429779053,3.190009832382202,6.25389289855957,6.550919055938721,-4.2165327072143555,6.38128137588501,-3.361539602279663,5.60879373550415,6.998741626739502,-3.6247241497039795,5.868124961853027,-4.465029239654541,5.1074676513671875,0.7717931270599365,5.747823715209961,2.591049909591675,-3.1115376949310303,5.46734094619751,6.296125411987305,-6.598572731018066,5.4515557289123535,2.4784419536590576,5.0047149658203125,-4.12293815612793,-7.369173526763916,-0.2720727324485779,6.728118896484375,2.0780067443847656,6.026669979095459,-3.031078338623047,3.1566526889801025,6.577091693878174,2.616257905960083,5.321574687957764,-6.828845977783203,1.844635248184204,3.1092476844787598,-3.655648946762085,0.26306772232055664,-1.1650784015655518,3.432849884033203,6.291867733001709,5.18356990814209,5.832901477813721,3.51857852935791,0.08510998636484146,4.997763633728027,-4.747905731201172,-0.8038542866706848,6.350452423095703,-4.744361877441406,-0.3575408160686493,6.255342483520508,-4.310545444488525,5.783199310302734,2.3708298206329346,0.3486210107803345,5.868168830871582,-0.9643915295600891,0.4129740595817566,1.5794931650161743,5.134402275085449,2.302921772003174,5.6395463943481445,-4.506035804748535,-5.4926605224609375,3.5902392864227295,0.510171115398407,4.973791122436523,2.8674356937408447,-4.3411126136779785,-4.62659215927124,6.338731288909912,3.365156650543213,-1.2283543348312378,5.699640274047852,1.0826075077056885,1.6656643152236938,-4.352275371551514,5.083086013793945,0.745876669883728,6.484029293060303,1.9115861654281616,6.800590515136719,-1.9880386590957642,5.696446895599365,5.72548770904541,2.541058301925659],\"yaxis\":\"y\",\"type\":\"scattergl\"}],                        {\"template\":{\"data\":{\"histogram2dcontour\":[{\"type\":\"histogram2dcontour\",\"colorbar\":{\"outlinewidth\":0,\"ticks\":\"\"},\"colorscale\":[[0.0,\"#0d0887\"],[0.1111111111111111,\"#46039f\"],[0.2222222222222222,\"#7201a8\"],[0.3333333333333333,\"#9c179e\"],[0.4444444444444444,\"#bd3786\"],[0.5555555555555556,\"#d8576b\"],[0.6666666666666666,\"#ed7953\"],[0.7777777777777778,\"#fb9f3a\"],[0.8888888888888888,\"#fdca26\"],[1.0,\"#f0f921\"]]}],\"choropleth\":[{\"type\":\"choropleth\",\"colorbar\":{\"outlinewidth\":0,\"ticks\":\"\"}}],\"histogram2d\":[{\"type\":\"histogram2d\",\"colorbar\":{\"outlinewidth\":0,\"ticks\":\"\"},\"colorscale\":[[0.0,\"#0d0887\"],[0.1111111111111111,\"#46039f\"],[0.2222222222222222,\"#7201a8\"],[0.3333333333333333,\"#9c179e\"],[0.4444444444444444,\"#bd3786\"],[0.5555555555555556,\"#d8576b\"],[0.6666666666666666,\"#ed7953\"],[0.7777777777777778,\"#fb9f3a\"],[0.8888888888888888,\"#fdca26\"],[1.0,\"#f0f921\"]]}],\"heatmap\":[{\"type\":\"heatmap\",\"colorbar\":{\"outlinewidth\":0,\"ticks\":\"\"},\"colorscale\":[[0.0,\"#0d0887\"],[0.1111111111111111,\"#46039f\"],[0.2222222222222222,\"#7201a8\"],[0.3333333333333333,\"#9c179e\"],[0.4444444444444444,\"#bd3786\"],[0.5555555555555556,\"#d8576b\"],[0.6666666666666666,\"#ed7953\"],[0.7777777777777778,\"#fb9f3a\"],[0.8888888888888888,\"#fdca26\"],[1.0,\"#f0f921\"]]}],\"heatmapgl\":[{\"type\":\"heatmapgl\",\"colorbar\":{\"outlinewidth\":0,\"ticks\":\"\"},\"colorscale\":[[0.0,\"#0d0887\"],[0.1111111111111111,\"#46039f\"],[0.2222222222222222,\"#7201a8\"],[0.3333333333333333,\"#9c179e\"],[0.4444444444444444,\"#bd3786\"],[0.5555555555555556,\"#d8576b\"],[0.6666666666666666,\"#ed7953\"],[0.7777777777777778,\"#fb9f3a\"],[0.8888888888888888,\"#fdca26\"],[1.0,\"#f0f921\"]]}],\"contourcarpet\":[{\"type\":\"contourcarpet\",\"colorbar\":{\"outlinewidth\":0,\"ticks\":\"\"}}],\"contour\":[{\"type\":\"contour\",\"colorbar\":{\"outlinewidth\":0,\"ticks\":\"\"},\"colorscale\":[[0.0,\"#0d0887\"],[0.1111111111111111,\"#46039f\"],[0.2222222222222222,\"#7201a8\"],[0.3333333333333333,\"#9c179e\"],[0.4444444444444444,\"#bd3786\"],[0.5555555555555556,\"#d8576b\"],[0.6666666666666666,\"#ed7953\"],[0.7777777777777778,\"#fb9f3a\"],[0.8888888888888888,\"#fdca26\"],[1.0,\"#f0f921\"]]}],\"surface\":[{\"type\":\"surface\",\"colorbar\":{\"outlinewidth\":0,\"ticks\":\"\"},\"colorscale\":[[0.0,\"#0d0887\"],[0.1111111111111111,\"#46039f\"],[0.2222222222222222,\"#7201a8\"],[0.3333333333333333,\"#9c179e\"],[0.4444444444444444,\"#bd3786\"],[0.5555555555555556,\"#d8576b\"],[0.6666666666666666,\"#ed7953\"],[0.7777777777777778,\"#fb9f3a\"],[0.8888888888888888,\"#fdca26\"],[1.0,\"#f0f921\"]]}],\"mesh3d\":[{\"type\":\"mesh3d\",\"colorbar\":{\"outlinewidth\":0,\"ticks\":\"\"}}],\"scatter\":[{\"fillpattern\":{\"fillmode\":\"overlay\",\"size\":10,\"solidity\":0.2},\"type\":\"scatter\"}],\"parcoords\":[{\"type\":\"parcoords\",\"line\":{\"colorbar\":{\"outlinewidth\":0,\"ticks\":\"\"}}}],\"scatterpolargl\":[{\"type\":\"scatterpolargl\",\"marker\":{\"colorbar\":{\"outlinewidth\":0,\"ticks\":\"\"}}}],\"bar\":[{\"error_x\":{\"color\":\"#2a3f5f\"},\"error_y\":{\"color\":\"#2a3f5f\"},\"marker\":{\"line\":{\"color\":\"#E5ECF6\",\"width\":0.5},\"pattern\":{\"fillmode\":\"overlay\",\"size\":10,\"solidity\":0.2}},\"type\":\"bar\"}],\"scattergeo\":[{\"type\":\"scattergeo\",\"marker\":{\"colorbar\":{\"outlinewidth\":0,\"ticks\":\"\"}}}],\"scatterpolar\":[{\"type\":\"scatterpolar\",\"marker\":{\"colorbar\":{\"outlinewidth\":0,\"ticks\":\"\"}}}],\"histogram\":[{\"marker\":{\"pattern\":{\"fillmode\":\"overlay\",\"size\":10,\"solidity\":0.2}},\"type\":\"histogram\"}],\"scattergl\":[{\"type\":\"scattergl\",\"marker\":{\"colorbar\":{\"outlinewidth\":0,\"ticks\":\"\"}}}],\"scatter3d\":[{\"type\":\"scatter3d\",\"line\":{\"colorbar\":{\"outlinewidth\":0,\"ticks\":\"\"}},\"marker\":{\"colorbar\":{\"outlinewidth\":0,\"ticks\":\"\"}}}],\"scattermapbox\":[{\"type\":\"scattermapbox\",\"marker\":{\"colorbar\":{\"outlinewidth\":0,\"ticks\":\"\"}}}],\"scatterternary\":[{\"type\":\"scatterternary\",\"marker\":{\"colorbar\":{\"outlinewidth\":0,\"ticks\":\"\"}}}],\"scattercarpet\":[{\"type\":\"scattercarpet\",\"marker\":{\"colorbar\":{\"outlinewidth\":0,\"ticks\":\"\"}}}],\"carpet\":[{\"aaxis\":{\"endlinecolor\":\"#2a3f5f\",\"gridcolor\":\"white\",\"linecolor\":\"white\",\"minorgridcolor\":\"white\",\"startlinecolor\":\"#2a3f5f\"},\"baxis\":{\"endlinecolor\":\"#2a3f5f\",\"gridcolor\":\"white\",\"linecolor\":\"white\",\"minorgridcolor\":\"white\",\"startlinecolor\":\"#2a3f5f\"},\"type\":\"carpet\"}],\"table\":[{\"cells\":{\"fill\":{\"color\":\"#EBF0F8\"},\"line\":{\"color\":\"white\"}},\"header\":{\"fill\":{\"color\":\"#C8D4E3\"},\"line\":{\"color\":\"white\"}},\"type\":\"table\"}],\"barpolar\":[{\"marker\":{\"line\":{\"color\":\"#E5ECF6\",\"width\":0.5},\"pattern\":{\"fillmode\":\"overlay\",\"size\":10,\"solidity\":0.2}},\"type\":\"barpolar\"}],\"pie\":[{\"automargin\":true,\"type\":\"pie\"}]},\"layout\":{\"autotypenumbers\":\"strict\",\"colorway\":[\"#636efa\",\"#EF553B\",\"#00cc96\",\"#ab63fa\",\"#FFA15A\",\"#19d3f3\",\"#FF6692\",\"#B6E880\",\"#FF97FF\",\"#FECB52\"],\"font\":{\"color\":\"#2a3f5f\"},\"hovermode\":\"closest\",\"hoverlabel\":{\"align\":\"left\"},\"paper_bgcolor\":\"white\",\"plot_bgcolor\":\"#E5ECF6\",\"polar\":{\"bgcolor\":\"#E5ECF6\",\"angularaxis\":{\"gridcolor\":\"white\",\"linecolor\":\"white\",\"ticks\":\"\"},\"radialaxis\":{\"gridcolor\":\"white\",\"linecolor\":\"white\",\"ticks\":\"\"}},\"ternary\":{\"bgcolor\":\"#E5ECF6\",\"aaxis\":{\"gridcolor\":\"white\",\"linecolor\":\"white\",\"ticks\":\"\"},\"baxis\":{\"gridcolor\":\"white\",\"linecolor\":\"white\",\"ticks\":\"\"},\"caxis\":{\"gridcolor\":\"white\",\"linecolor\":\"white\",\"ticks\":\"\"}},\"coloraxis\":{\"colorbar\":{\"outlinewidth\":0,\"ticks\":\"\"}},\"colorscale\":{\"sequential\":[[0.0,\"#0d0887\"],[0.1111111111111111,\"#46039f\"],[0.2222222222222222,\"#7201a8\"],[0.3333333333333333,\"#9c179e\"],[0.4444444444444444,\"#bd3786\"],[0.5555555555555556,\"#d8576b\"],[0.6666666666666666,\"#ed7953\"],[0.7777777777777778,\"#fb9f3a\"],[0.8888888888888888,\"#fdca26\"],[1.0,\"#f0f921\"]],\"sequentialminus\":[[0.0,\"#0d0887\"],[0.1111111111111111,\"#46039f\"],[0.2222222222222222,\"#7201a8\"],[0.3333333333333333,\"#9c179e\"],[0.4444444444444444,\"#bd3786\"],[0.5555555555555556,\"#d8576b\"],[0.6666666666666666,\"#ed7953\"],[0.7777777777777778,\"#fb9f3a\"],[0.8888888888888888,\"#fdca26\"],[1.0,\"#f0f921\"]],\"diverging\":[[0,\"#8e0152\"],[0.1,\"#c51b7d\"],[0.2,\"#de77ae\"],[0.3,\"#f1b6da\"],[0.4,\"#fde0ef\"],[0.5,\"#f7f7f7\"],[0.6,\"#e6f5d0\"],[0.7,\"#b8e186\"],[0.8,\"#7fbc41\"],[0.9,\"#4d9221\"],[1,\"#276419\"]]},\"xaxis\":{\"gridcolor\":\"white\",\"linecolor\":\"white\",\"ticks\":\"\",\"title\":{\"standoff\":15},\"zerolinecolor\":\"white\",\"automargin\":true,\"zerolinewidth\":2},\"yaxis\":{\"gridcolor\":\"white\",\"linecolor\":\"white\",\"ticks\":\"\",\"title\":{\"standoff\":15},\"zerolinecolor\":\"white\",\"automargin\":true,\"zerolinewidth\":2},\"scene\":{\"xaxis\":{\"backgroundcolor\":\"#E5ECF6\",\"gridcolor\":\"white\",\"linecolor\":\"white\",\"showbackground\":true,\"ticks\":\"\",\"zerolinecolor\":\"white\",\"gridwidth\":2},\"yaxis\":{\"backgroundcolor\":\"#E5ECF6\",\"gridcolor\":\"white\",\"linecolor\":\"white\",\"showbackground\":true,\"ticks\":\"\",\"zerolinecolor\":\"white\",\"gridwidth\":2},\"zaxis\":{\"backgroundcolor\":\"#E5ECF6\",\"gridcolor\":\"white\",\"linecolor\":\"white\",\"showbackground\":true,\"ticks\":\"\",\"zerolinecolor\":\"white\",\"gridwidth\":2}},\"shapedefaults\":{\"line\":{\"color\":\"#2a3f5f\"}},\"annotationdefaults\":{\"arrowcolor\":\"#2a3f5f\",\"arrowhead\":0,\"arrowwidth\":1},\"geo\":{\"bgcolor\":\"white\",\"landcolor\":\"#E5ECF6\",\"subunitcolor\":\"white\",\"showland\":true,\"showlakes\":true,\"lakecolor\":\"white\"},\"title\":{\"x\":0.05},\"mapbox\":{\"style\":\"light\"}}},\"xaxis\":{\"anchor\":\"y\",\"domain\":[0.0,1.0],\"title\":{\"text\":\"0\"}},\"yaxis\":{\"anchor\":\"x\",\"domain\":[0.0,1.0],\"title\":{\"text\":\"1\"}},\"legend\":{\"title\":{\"text\":\"\\u0412\\u0438\\u0434 \\u041d\\u041f\\u0410\"},\"tracegroupgap\":0},\"margin\":{\"t\":60}},                        {\"responsive\": true}                    ).then(function(){\n",
              "                            \n",
              "var gd = document.getElementById('ae7390b7-b3b5-4531-80b4-4472cbf826ac');\n",
              "var x = new MutationObserver(function (mutations, observer) {{\n",
              "        var display = window.getComputedStyle(gd).display;\n",
              "        if (!display || display === 'none') {{\n",
              "            console.log([gd, 'removed!']);\n",
              "            Plotly.purge(gd);\n",
              "            observer.disconnect();\n",
              "        }}\n",
              "}});\n",
              "\n",
              "// Listen for the removal of the full notebook cells\n",
              "var notebookContainer = gd.closest('#notebook-container');\n",
              "if (notebookContainer) {{\n",
              "    x.observe(notebookContainer, {childList: true});\n",
              "}}\n",
              "\n",
              "// Listen for the clearing of the current output cell\n",
              "var outputEl = gd.closest('.output');\n",
              "if (outputEl) {{\n",
              "    x.observe(outputEl, {childList: true});\n",
              "}}\n",
              "\n",
              "                        })                };                            </script>        </div>\n",
              "</body>\n",
              "</html>"
            ]
          },
          "metadata": {}
        }
      ]
    },
    {
      "cell_type": "code",
      "source": [
        "X_train, X_test, y_train, y_test = train_test_split(df_w2v['w2v_simple_pre'], df_w2v['doc_name'], test_size=0.2, random_state=42)\n",
        "X_train = np.vstack(X_train)\n",
        "X_test = np.vstack(X_test)\n",
        "tsne = TSNE(n_components=2, verbose=1, perplexity=40, n_iter=300, init='random')\n",
        "tsne_results = tsne.fit_transform(X_train[:1500])\n",
        "fig = px.scatter(\n",
        "    tsne_results, x=0, y=1,\n",
        "    color=y_train[:1500], labels={'color': 'Вид НПА'}\n",
        ")\n",
        "fig.show()"
      ],
      "metadata": {
        "colab": {
          "base_uri": "https://localhost:8080/",
          "height": 681
        },
        "id": "KEvSDycUyG7A",
        "outputId": "0a3f484c-9c35-4de3-99d0-35666571e2d0"
      },
      "execution_count": null,
      "outputs": [
        {
          "output_type": "stream",
          "name": "stdout",
          "text": [
            "[t-SNE] Computing 121 nearest neighbors...\n",
            "[t-SNE] Indexed 1500 samples in 0.000s...\n",
            "[t-SNE] Computed neighbors for 1500 samples in 0.070s...\n",
            "[t-SNE] Computed conditional probabilities for sample 1000 / 1500\n",
            "[t-SNE] Computed conditional probabilities for sample 1500 / 1500\n",
            "[t-SNE] Mean sigma: 0.309285\n",
            "[t-SNE] KL divergence after 250 iterations with early exaggeration: 69.614937\n",
            "[t-SNE] KL divergence after 300 iterations: 1.742991\n"
          ]
        },
        {
          "output_type": "display_data",
          "data": {
            "text/html": [
              "<html>\n",
              "<head><meta charset=\"utf-8\" /></head>\n",
              "<body>\n",
              "    <div>            <script src=\"https://cdnjs.cloudflare.com/ajax/libs/mathjax/2.7.5/MathJax.js?config=TeX-AMS-MML_SVG\"></script><script type=\"text/javascript\">if (window.MathJax && window.MathJax.Hub && window.MathJax.Hub.Config) {window.MathJax.Hub.Config({SVG: {font: \"STIX-Web\"}});}</script>                <script type=\"text/javascript\">window.PlotlyConfig = {MathJaxConfig: 'local'};</script>\n",
              "        <script charset=\"utf-8\" src=\"https://cdn.plot.ly/plotly-2.24.1.min.js\"></script>                <div id=\"cdacada0-6812-48c1-9170-38d65fa0398b\" class=\"plotly-graph-div\" style=\"height:525px; width:100%;\"></div>            <script type=\"text/javascript\">                                    window.PLOTLYENV=window.PLOTLYENV || {};                                    if (document.getElementById(\"cdacada0-6812-48c1-9170-38d65fa0398b\")) {                    Plotly.newPlot(                        \"cdacada0-6812-48c1-9170-38d65fa0398b\",                        [{\"hovertemplate\":\"\\u0412\\u0438\\u0434 \\u041d\\u041f\\u0410=\\u041f\\u043e\\u0441\\u0442\\u0430\\u043d\\u043e\\u0432\\u043b\\u0435\\u043d\\u0438\\u0435, \\u0440\\u0435\\u0433\\u0438\\u043e\\u043d\\u0430\\u043b\\u044c\\u043d\\u044b\\u0439 \\u0443\\u0440\\u043e\\u0432\\u0435\\u043d\\u044c, \\u0433\\u043b\\u0430\\u0432\\u0430 \\u0438\\u0441\\u043f\\u043e\\u043b\\u043d\\u0438\\u0442\\u0435\\u043b\\u044c\\u043d\\u043e\\u0439 \\u0432\\u043b\\u0430\\u0441\\u0442\\u0438\\u003cbr\\u003e0=%{x}\\u003cbr\\u003e1=%{y}\\u003cextra\\u003e\\u003c\\u002fextra\\u003e\",\"legendgroup\":\"\\u041f\\u043e\\u0441\\u0442\\u0430\\u043d\\u043e\\u0432\\u043b\\u0435\\u043d\\u0438\\u0435, \\u0440\\u0435\\u0433\\u0438\\u043e\\u043d\\u0430\\u043b\\u044c\\u043d\\u044b\\u0439 \\u0443\\u0440\\u043e\\u0432\\u0435\\u043d\\u044c, \\u0433\\u043b\\u0430\\u0432\\u0430 \\u0438\\u0441\\u043f\\u043e\\u043b\\u043d\\u0438\\u0442\\u0435\\u043b\\u044c\\u043d\\u043e\\u0439 \\u0432\\u043b\\u0430\\u0441\\u0442\\u0438\",\"marker\":{\"color\":\"#636efa\",\"symbol\":\"circle\"},\"mode\":\"markers\",\"name\":\"\\u041f\\u043e\\u0441\\u0442\\u0430\\u043d\\u043e\\u0432\\u043b\\u0435\\u043d\\u0438\\u0435, \\u0440\\u0435\\u0433\\u0438\\u043e\\u043d\\u0430\\u043b\\u044c\\u043d\\u044b\\u0439 \\u0443\\u0440\\u043e\\u0432\\u0435\\u043d\\u044c, \\u0433\\u043b\\u0430\\u0432\\u0430 \\u0438\\u0441\\u043f\\u043e\\u043b\\u043d\\u0438\\u0442\\u0435\\u043b\\u044c\\u043d\\u043e\\u0439 \\u0432\\u043b\\u0430\\u0441\\u0442\\u0438\",\"showlegend\":true,\"x\":[8.557188034057617,-0.005777303129434586,7.002186298370361,8.957279205322266,1.73372483253479,6.710417747497559,6.993720054626465,7.779013156890869,2.0218751430511475,-0.7858901023864746,1.4298518896102905,1.470910668373108,1.7419134378433228,8.881030082702637,1.9251419305801392,1.3517215251922607,7.76079797744751,-1.1854047775268555,0.8770973086357117,1.4150309562683105,7.9200873374938965,8.024744033813477,8.166980743408203,6.079660892486572,5.822784900665283,1.7516895532608032,2.2787342071533203,4.411038398742676,9.251399993896484,6.010105133056641,-1.917206048965454,8.892158508300781,1.666819453239441,11.76318645477295,11.74043083190918,1.2439168691635132,-7.8341803550720215,11.714102745056152,6.185396194458008,1.079407811164856,6.674251556396484,1.051222801208496,7.519432544708252,4.699706554412842,1.907297968864441,8.09667682647705,8.779402732849121,8.915075302124023,9.133018493652344,8.728622436523438,1.8600102663040161,0.8265335559844971,0.720304548740387,4.275627613067627,-1.439034104347229,-2.5747625827789307,0.5880692005157471,5.149228572845459,0.8724387884140015,0.5311998724937439,1.1539218425750732,8.769245147705078,8.012565612792969,8.445595741271973,6.165557861328125,2.4096527099609375,7.867605209350586,6.161499977111816,8.802165985107422,7.955951690673828,8.834697723388672,11.778955459594727,6.899857044219971,8.330621719360352,7.697362899780273,0.8809055089950562,8.876903533935547,1.204787015914917,-0.2834407687187195,8.723254203796387,0.873659610748291,4.0647101402282715,5.960170745849609,6.25032901763916,1.7416936159133911,3.23319411277771,2.881314754486084,1.8387658596038818,0.7002131342887878,8.326495170593262,0.6876891851425171,1.98236083984375,-1.2129813432693481,11.734976768493652,0.9094685316085815,8.46478271484375,6.1702094078063965,1.3241467475891113,7.82810640335083,3.7902560234069824,-2.4074010848999023,1.596933126449585,1.8943722248077393,0.6784659028053284,1.8819499015808105,7.949765205383301,-3.213284969329834,1.4864773750305176],\"xaxis\":\"x\",\"y\":[-1.9846793413162231,2.2233591079711914,-0.61253821849823,-2.5400044918060303,-5.50559139251709,-1.454690933227539,-1.2445595264434814,-4.061643600463867,-1.7544068098068237,-1.4258127212524414,-5.301825523376465,-3.2139065265655518,2.3500590324401855,-2.8214540481567383,-5.637379169464111,2.01690936088562,-4.107051372528076,-2.7194106578826904,-4.860278606414795,-1.8548914194107056,-3.227682590484619,-3.713148593902588,-2.8927104473114014,-0.6893258690834045,-1.1289715766906738,2.337905168533325,-2.22346568107605,-1.4188897609710693,-2.075632333755493,-1.2073047161102295,-3.9243085384368896,-2.8221285343170166,0.8479050397872925,-2.4358937740325928,-2.4464821815490723,-5.232542991638184,2.269641637802124,-2.415687322616577,-1.0417145490646362,-6.317635536193848,-4.143774509429932,-5.909265518188477,-0.7725516557693481,2.595325469970703,-5.418991565704346,-3.0820090770721436,-2.6968789100646973,-3.283447742462158,-2.997863531112671,-2.89288592338562,-1.8051366806030273,1.907568335533142,-1.2003182172775269,-5.621811389923096,0.44492295384407043,-0.08062033355236053,0.7043482065200806,-4.899705410003662,-2.7853851318359375,-2.5466065406799316,-5.538506507873535,-3.454166889190674,-3.6287121772766113,-1.934513807296753,-1.2419970035552979,-0.700878381729126,-3.5280675888061523,-1.411289930343628,-2.640089750289917,-3.0896341800689697,-2.848398208618164,-2.4454505443573,-1.4192757606506348,-1.5770528316497803,-2.767232894897461,-3.5669431686401367,-3.379600763320923,-4.558351516723633,-2.7950682640075684,-2.66877818107605,1.6735901832580566,-5.878011226654053,-1.530178427696228,-1.521988868713379,2.3658640384674072,-6.4240522384643555,-2.8658571243286133,-4.316528797149658,-4.557618141174316,-2.893355131149292,-5.060498237609863,-4.603037357330322,-0.031191080808639526,-2.4484126567840576,-4.5227508544921875,-1.01161527633667,-1.0666722059249878,1.9507801532745361,-3.2048532962799072,-5.764914512634277,0.7535978555679321,-0.6008514761924744,-1.500266432762146,3.3656914234161377,-0.4911462664604187,-3.32639741897583,-2.363981008529663,-2.6207621097564697],\"yaxis\":\"y\",\"type\":\"scattergl\"},{\"hovertemplate\":\"\\u0412\\u0438\\u0434 \\u041d\\u041f\\u0410=\\u0423\\u043a\\u0430\\u0437, \\u0444\\u0435\\u0434\\u0435\\u0440\\u0430\\u043b\\u044c\\u043d\\u044b\\u0439 \\u0443\\u0440\\u043e\\u0432\\u0435\\u043d\\u044c, \\u0433\\u043b\\u0430\\u0432\\u0430 \\u0438\\u0441\\u043f\\u043e\\u043b\\u043d\\u0438\\u0442\\u0435\\u043b\\u044c\\u043d\\u043e\\u0439 \\u0432\\u043b\\u0430\\u0441\\u0442\\u0438\\u003cbr\\u003e0=%{x}\\u003cbr\\u003e1=%{y}\\u003cextra\\u003e\\u003c\\u002fextra\\u003e\",\"legendgroup\":\"\\u0423\\u043a\\u0430\\u0437, \\u0444\\u0435\\u0434\\u0435\\u0440\\u0430\\u043b\\u044c\\u043d\\u044b\\u0439 \\u0443\\u0440\\u043e\\u0432\\u0435\\u043d\\u044c, \\u0433\\u043b\\u0430\\u0432\\u0430 \\u0438\\u0441\\u043f\\u043e\\u043b\\u043d\\u0438\\u0442\\u0435\\u043b\\u044c\\u043d\\u043e\\u0439 \\u0432\\u043b\\u0430\\u0441\\u0442\\u0438\",\"marker\":{\"color\":\"#EF553B\",\"symbol\":\"circle\"},\"mode\":\"markers\",\"name\":\"\\u0423\\u043a\\u0430\\u0437, \\u0444\\u0435\\u0434\\u0435\\u0440\\u0430\\u043b\\u044c\\u043d\\u044b\\u0439 \\u0443\\u0440\\u043e\\u0432\\u0435\\u043d\\u044c, \\u0433\\u043b\\u0430\\u0432\\u0430 \\u0438\\u0441\\u043f\\u043e\\u043b\\u043d\\u0438\\u0442\\u0435\\u043b\\u044c\\u043d\\u043e\\u0439 \\u0432\\u043b\\u0430\\u0441\\u0442\\u0438\",\"showlegend\":true,\"x\":[-9.122233390808105,-8.155634880065918,-8.674995422363281,-7.958696365356445,-9.547538757324219,-8.858519554138184,-9.860952377319336,-9.930403709411621,-3.18037486076355,-9.622576713562012,-9.751641273498535,-3.6870696544647217,-9.731254577636719,-3.168125867843628,-10.716841697692871,-7.956275463104248,-8.948712348937988,-9.08208179473877,-9.760666847229004,-5.784715175628662,-9.540020942687988,-7.2357916831970215,-8.560797691345215,-4.395193099975586,-1.8370838165283203,-4.111461162567139,3.616295337677002,-8.949003219604492,-10.492471694946289,-10.064445495605469,-8.921163558959961,-3.020378351211548,6.738013744354248,4.7171711921691895,-3.168856143951416,-5.89621114730835,-8.448137283325195,-8.100817680358887,-10.625016212463379,-3.9856038093566895,-3.104947805404663,-8.167898178100586,-8.1597261428833,-9.662238121032715,-8.073827743530273,-10.757883071899414,-10.429174423217773,-10.608750343322754,-10.445523262023926,-9.638404846191406,-1.2579797506332397,-9.290815353393555,-9.559287071228027,4.4032464027404785,1.9238020181655884,-10.563738822937012,-3.1323935985565186,-8.456805229187012,-10.698162078857422,-8.489775657653809,-7.19744873046875,-3.179957151412964,-10.552477836608887,-10.095117568969727,-10.294892311096191,-7.5743937492370605,-7.820948600769043,-5.53345251083374,-8.855886459350586,-8.351085662841797,-4.022283554077148,-10.628260612487793],\"xaxis\":\"x\",\"y\":[2.875171661376953,2.624030590057373,3.149474620819092,2.93509840965271,3.223639726638794,3.263253688812256,3.235548973083496,3.3474912643432617,-2.685856819152832,3.299522876739502,3.2303247451782227,4.333205223083496,3.188204526901245,-2.6804463863372803,2.2297394275665283,2.274336814880371,3.2531278133392334,3.145263195037842,0.6624629497528076,3.8215065002441406,0.9032620191574097,1.031010627746582,3.0217630863189697,0.9676662683486938,1.476833701133728,2.0057599544525146,-3.5362162590026855,2.7858877182006836,0.08180569857358932,3.0700418949127197,3.0278608798980713,4.55862283706665,-4.302903175354004,-3.2476840019226074,-2.703472137451172,3.8064141273498535,2.830286979675293,2.653456449508667,1.291573405265808,1.6994608640670776,1.2828023433685303,2.2317538261413574,3.084657669067383,3.2220258712768555,2.729616403579712,1.7912077903747559,0.46078604459762573,1.308679223060608,1.0832867622375488,3.277157783508301,2.2808685302734375,3.4720752239227295,0.9243188500404358,-6.712899684906006,-5.499144554138184,1.2201554775238037,1.952246904373169,3.1794707775115967,1.2830911874771118,2.6383416652679443,3.645076274871826,-2.6799869537353516,0.29041317105293274,0.49574294686317444,0.1948121041059494,1.6654114723205566,2.417880058288574,0.6976106762886047,1.1919894218444824,2.956345796585083,1.0431196689605713,0.08910167962312698],\"yaxis\":\"y\",\"type\":\"scattergl\"},{\"hovertemplate\":\"\\u0412\\u0438\\u0434 \\u041d\\u041f\\u0410=\\u041f\\u043e\\u0441\\u0442\\u0430\\u043d\\u043e\\u0432\\u043b\\u0435\\u043d\\u0438\\u0435, \\u0440\\u0435\\u0433\\u0438\\u043e\\u043d\\u0430\\u043b\\u044c\\u043d\\u044b\\u0439 \\u0443\\u0440\\u043e\\u0432\\u0435\\u043d\\u044c, \\u0437\\u0430\\u043a\\u043e\\u043d\\u043e\\u0434\\u0430\\u0442\\u0435\\u043b\\u044c\\u043d\\u044b\\u0439 \\u043e\\u0440\\u0433\\u0430\\u043d\\u003cbr\\u003e0=%{x}\\u003cbr\\u003e1=%{y}\\u003cextra\\u003e\\u003c\\u002fextra\\u003e\",\"legendgroup\":\"\\u041f\\u043e\\u0441\\u0442\\u0430\\u043d\\u043e\\u0432\\u043b\\u0435\\u043d\\u0438\\u0435, \\u0440\\u0435\\u0433\\u0438\\u043e\\u043d\\u0430\\u043b\\u044c\\u043d\\u044b\\u0439 \\u0443\\u0440\\u043e\\u0432\\u0435\\u043d\\u044c, \\u0437\\u0430\\u043a\\u043e\\u043d\\u043e\\u0434\\u0430\\u0442\\u0435\\u043b\\u044c\\u043d\\u044b\\u0439 \\u043e\\u0440\\u0433\\u0430\\u043d\",\"marker\":{\"color\":\"#00cc96\",\"symbol\":\"circle\"},\"mode\":\"markers\",\"name\":\"\\u041f\\u043e\\u0441\\u0442\\u0430\\u043d\\u043e\\u0432\\u043b\\u0435\\u043d\\u0438\\u0435, \\u0440\\u0435\\u0433\\u0438\\u043e\\u043d\\u0430\\u043b\\u044c\\u043d\\u044b\\u0439 \\u0443\\u0440\\u043e\\u0432\\u0435\\u043d\\u044c, \\u0437\\u0430\\u043a\\u043e\\u043d\\u043e\\u0434\\u0430\\u0442\\u0435\\u043b\\u044c\\u043d\\u044b\\u0439 \\u043e\\u0440\\u0433\\u0430\\u043d\",\"showlegend\":true,\"x\":[-0.8237047791481018,-6.831556797027588,6.770864009857178,-6.341609001159668,-2.552701950073242,11.825765609741211,-3.149980306625366,-6.872954845428467,2.6539316177368164,2.49715518951416,-2.62750244140625,-2.7634003162384033,11.801047325134277,-3.0896682739257812,-1.423306941986084,11.538983345031738,8.52336597442627,1.898841381072998,4.548011302947998,3.29106068611145,-6.8235015869140625,-2.42173171043396,2.702110767364502,11.69955825805664,7.3008880615234375,-6.90074348449707,1.7687968015670776,-3.1074302196502686,11.802358627319336,7.296452045440674,11.813345909118652,-6.687671184539795,11.802940368652344,11.812384605407715,11.80097770690918,0.3915081024169922,2.7199506759643555,11.805729866027832,-6.858676433563232,-0.22751829028129578,2.5255908966064453,3.4228880405426025,-1.0605413913726807,-2.314063787460327,-3.4849295616149902,6.789760589599609,-6.842556953430176,-3.0787811279296875,6.459880352020264,2.657813787460327,-0.14651590585708618,-6.83552360534668,-0.2661973536014557,-1.3590176105499268,1.3315993547439575,0.730108380317688,-0.6256256103515625,2.6904308795928955,11.805957794189453,1.7190037965774536,2.654693365097046,-3.103468656539917,-1.8839826583862305,11.810370445251465,1.559910774230957,11.736912727355957,2.656407117843628,3.438612937927246,6.709817886352539,11.807854652404785,1.252875566482544,-6.8551225662231445,2.7119228839874268,2.660078763961792,6.405266284942627,11.723981857299805,-3.2175731658935547,6.3991475105285645,-3.47357439994812,11.763862609863281,-3.1245675086975098,-3.354229211807251,2.737017869949341,11.81080436706543,1.759255051612854,-3.013294219970703,-10.434913635253906,-2.4591455459594727,-6.878388404846191,-2.5138204097747803,-3.336862325668335,1.5956546068191528,11.796126365661621,-6.866889476776123,11.810853004455566,-4.568499565124512,11.80308723449707,-6.846235752105713,-6.847660064697266,-3.0821645259857178,-0.036702752113342285,3.503359317779541,11.80346965789795,-6.814780235290527,11.78011417388916,11.809050559997559,1.2869009971618652,-2.4679174423217773,-2.1258230209350586,-3.125175714492798,-1.3677942752838135,-1.9339377880096436,-2.3458504676818848,11.806818008422852,-2.3607900142669678,-6.670474052429199,-2.6159582138061523,-3.1277503967285156,0.09309887140989304,-3.1706695556640625,2.6599643230438232,-3.17596435546875,-2.5291483402252197,4.556205749511719],\"xaxis\":\"x\",\"y\":[-1.3430050611495972,-1.7220726013183594,-2.2467076778411865,-1.947177767753601,-0.05374077707529068,-2.4519097805023193,-4.284114837646484,-1.771167278289795,-3.650373697280884,-5.4687042236328125,-4.115087509155273,-3.7990005016326904,-2.444512128829956,-3.7095279693603516,-1.850589632987976,-2.340579032897949,-1.473039150238037,-6.306535243988037,-1.7292062044143677,-6.548733711242676,-1.7934387922286987,-3.4612245559692383,-3.6549875736236572,-2.402402639389038,-3.643264055252075,-1.7940088510513306,-5.018451690673828,-4.225941181182861,-2.442214012145996,-1.7693957090377808,-2.4466190338134766,-1.743311882019043,-2.4469032287597656,-2.448537588119507,-2.443493366241455,1.5963737964630127,-3.667135238647461,-2.445807456970215,-1.7820603847503662,3.5085930824279785,-5.408878803253174,-3.4431185722351074,-2.050734043121338,-3.720841884613037,-3.720219135284424,-1.879837989807129,-1.8021594285964966,-1.3669078350067139,-1.5162814855575562,-3.7164623737335205,-2.8961434364318848,-1.7675209045410156,-2.566288948059082,-0.8429080247879028,-3.8928229808807373,-3.284189224243164,-3.933303117752075,-3.721129894256592,-2.4502668380737305,-6.463663101196289,-5.066818714141846,-4.2425031661987305,-1.7682957649230957,-2.4472403526306152,-2.8338167667388916,-2.4189364910125732,-5.177900314331055,-2.4100522994995117,-2.3539206981658936,-2.445319890975952,-4.343950271606445,-1.77182137966156,-3.634406805038452,-3.6871697902679443,-1.2466932535171509,-2.4318413734436035,-1.3829536437988281,-1.400046944618225,-3.562328577041626,-2.4384310245513916,-4.27388858795166,-3.6669790744781494,-3.673732042312622,-2.4475629329681396,-6.429261684417725,-4.31793737411499,3.530844211578369,-4.127745628356934,-1.1672295331954956,-1.105739712715149,-3.688852310180664,-4.985678195953369,-2.4420745372772217,-1.7610101699829102,-2.446537971496582,-3.3112330436706543,-2.4432942867279053,-1.8909715414047241,-1.7232767343521118,-4.2442426681518555,-4.6117024421691895,-3.252934455871582,-2.443964958190918,-1.7925809621810913,-2.435854196548462,-2.4466664791107178,-5.274016380310059,-3.610135555267334,-4.363270282745361,-4.257531642913818,-0.7975986003875732,-4.258470058441162,-3.351224899291992,-2.446355104446411,-3.7293009757995605,-1.8028391599655151,-3.64393949508667,-3.4149608612060547,-2.9208984375,-4.265506744384766,-3.7636990547180176,-4.259511470794678,-4.098086833953857,-1.7464768886566162],\"yaxis\":\"y\",\"type\":\"scattergl\"},{\"hovertemplate\":\"\\u0412\\u0438\\u0434 \\u041d\\u041f\\u0410=\\u0420\\u0430\\u0441\\u043f\\u043e\\u0440\\u044f\\u0436\\u0435\\u043d\\u0438\\u0435, \\u0444\\u0435\\u0434\\u0435\\u0440\\u0430\\u043b\\u044c\\u043d\\u044b\\u0439 \\u0443\\u0440\\u043e\\u0432\\u0435\\u043d\\u044c, \\u043f\\u0440\\u0430\\u0432\\u0438\\u0442\\u0435\\u043b\\u044c\\u0441\\u0442\\u0432\\u043e\\u003cbr\\u003e0=%{x}\\u003cbr\\u003e1=%{y}\\u003cextra\\u003e\\u003c\\u002fextra\\u003e\",\"legendgroup\":\"\\u0420\\u0430\\u0441\\u043f\\u043e\\u0440\\u044f\\u0436\\u0435\\u043d\\u0438\\u0435, \\u0444\\u0435\\u0434\\u0435\\u0440\\u0430\\u043b\\u044c\\u043d\\u044b\\u0439 \\u0443\\u0440\\u043e\\u0432\\u0435\\u043d\\u044c, \\u043f\\u0440\\u0430\\u0432\\u0438\\u0442\\u0435\\u043b\\u044c\\u0441\\u0442\\u0432\\u043e\",\"marker\":{\"color\":\"#ab63fa\",\"symbol\":\"circle\"},\"mode\":\"markers\",\"name\":\"\\u0420\\u0430\\u0441\\u043f\\u043e\\u0440\\u044f\\u0436\\u0435\\u043d\\u0438\\u0435, \\u0444\\u0435\\u0434\\u0435\\u0440\\u0430\\u043b\\u044c\\u043d\\u044b\\u0439 \\u0443\\u0440\\u043e\\u0432\\u0435\\u043d\\u044c, \\u043f\\u0440\\u0430\\u0432\\u0438\\u0442\\u0435\\u043b\\u044c\\u0441\\u0442\\u0432\\u043e\",\"showlegend\":true,\"x\":[-0.014862079173326492,-8.784889221191406,-2.6255791187286377,-6.964303493499756,-4.980513572692871,-8.460387229919434,-8.373275756835938,-9.779340744018555,-4.346594333648682,-6.529031753540039,-6.158633232116699,-6.837169647216797,-8.425809860229492,1.8175153732299805,-6.515583038330078,-5.348843574523926,-8.67160701751709,-6.786040306091309,-0.7504000067710876,-0.39690113067626953,-10.760001182556152,-5.602046012878418,-4.53206205368042,1.8126944303512573,-4.382800579071045,-8.005239486694336,-10.10033130645752,-3.503486156463623,-8.965888023376465,-6.854968547821045,-3.591461181640625,-3.1834239959716797,-1.652618408203125,-0.2671014666557312,-4.341172218322754,-6.685332775115967,-3.5919387340545654,-10.049914360046387,-9.082228660583496,-6.431734085083008,6.093315124511719,-3.484687089920044,-7.490621089935303,2.792419195175171,-0.588438868522644,-5.429447650909424,-8.58251953125,-3.6122488975524902,-10.078291893005371,-7.470040321350098,-6.111629962921143,4.437520980834961,-8.943879127502441,-7.743074893951416,-3.536971092224121,-7.523859977722168,-2.6497559547424316,1.792409062385559,-6.0965895652771,-6.008766174316406,-1.364064335823059,-6.604472637176514,-6.386886119842529,-6.603325366973877,-9.27136516571045,-9.171979904174805,-6.1885809898376465,-6.5201826095581055,-3.4086408615112305,1.7948375940322876,-4.224562168121338,-2.896129608154297,-0.7767634987831116,-3.5313775539398193,-10.199807167053223,-0.12092627584934235,-4.8817644119262695,-8.72802734375,-6.772808074951172,-8.822172164916992,1.1467043161392212,-1.6430829763412476,-6.116913795471191,-6.571738243103027,-6.473305702209473,-8.835051536560059,-5.404173374176025,-4.466241359710693,-3.119292974472046,-7.736470699310303,-2.4520626068115234],\"xaxis\":\"x\",\"y\":[0.46660900115966797,3.5209052562713623,0.9222965836524963,1.4592723846435547,3.6395621299743652,2.453770160675049,3.390791177749634,0.9364259839057922,0.429628849029541,0.7824487090110779,4.165538311004639,1.1866774559020996,1.1560620069503784,2.565380334854126,0.6033964157104492,2.161863327026367,3.4611294269561768,1.4046049118041992,2.377095937728882,2.86889910697937,1.673147201538086,3.2393133640289307,-3.298081874847412,2.5564987659454346,5.1987104415893555,4.126694679260254,1.4779688119888306,3.4415719509124756,3.336820125579834,1.3078482151031494,3.1395106315612793,5.066054344177246,3.4134886264801025,1.5650479793548584,4.043564319610596,-0.23052151501178741,3.5023136138916016,2.3779189586639404,3.348341703414917,0.5296530723571777,0.8531807661056519,3.5632741451263428,2.9895334243774414,-4.700885772705078,2.5847461223602295,4.005672454833984,3.662844657897949,3.635967493057251,2.650911331176758,0.46846744418144226,4.285231590270996,-2.0717403888702393,2.9813969135284424,3.651416540145874,2.488157272338867,1.8019211292266846,5.068013668060303,2.558262586593628,2.429981231689453,3.8526768684387207,4.284699440002441,0.19149935245513916,0.49317729473114014,-0.28676384687423706,3.2507784366607666,3.323624610900879,1.1013054847717285,0.6660820245742798,-2.2148425579071045,2.5592055320739746,5.263302803039551,4.606992721557617,2.8429911136627197,3.328768491744995,0.042511820793151855,1.365471363067627,3.1112046241760254,0.35390323400497437,0.3475654125213623,3.41074800491333,2.9801337718963623,1.7590574026107788,5.088621616363525,0.6808823943138123,0.8445211052894592,3.560438632965088,2.673386573791504,3.965041160583496,-2.1994457244873047,3.333405017852783,2.0691380500793457],\"yaxis\":\"y\",\"type\":\"scattergl\"},{\"hovertemplate\":\"\\u0412\\u0438\\u0434 \\u041d\\u041f\\u0410=\\u041f\\u043e\\u0441\\u0442\\u0430\\u043d\\u043e\\u0432\\u043b\\u0435\\u043d\\u0438\\u0435, \\u0444\\u0435\\u0434\\u0435\\u0440\\u0430\\u043b\\u044c\\u043d\\u044b\\u0439 \\u0443\\u0440\\u043e\\u0432\\u0435\\u043d\\u044c, \\u043f\\u0440\\u0430\\u0432\\u0438\\u0442\\u0435\\u043b\\u044c\\u0441\\u0442\\u0432\\u043e\\u003cbr\\u003e0=%{x}\\u003cbr\\u003e1=%{y}\\u003cextra\\u003e\\u003c\\u002fextra\\u003e\",\"legendgroup\":\"\\u041f\\u043e\\u0441\\u0442\\u0430\\u043d\\u043e\\u0432\\u043b\\u0435\\u043d\\u0438\\u0435, \\u0444\\u0435\\u0434\\u0435\\u0440\\u0430\\u043b\\u044c\\u043d\\u044b\\u0439 \\u0443\\u0440\\u043e\\u0432\\u0435\\u043d\\u044c, \\u043f\\u0440\\u0430\\u0432\\u0438\\u0442\\u0435\\u043b\\u044c\\u0441\\u0442\\u0432\\u043e\",\"marker\":{\"color\":\"#FFA15A\",\"symbol\":\"circle\"},\"mode\":\"markers\",\"name\":\"\\u041f\\u043e\\u0441\\u0442\\u0430\\u043d\\u043e\\u0432\\u043b\\u0435\\u043d\\u0438\\u0435, \\u0444\\u0435\\u0434\\u0435\\u0440\\u0430\\u043b\\u044c\\u043d\\u044b\\u0439 \\u0443\\u0440\\u043e\\u0432\\u0435\\u043d\\u044c, \\u043f\\u0440\\u0430\\u0432\\u0438\\u0442\\u0435\\u043b\\u044c\\u0441\\u0442\\u0432\\u043e\",\"showlegend\":true,\"x\":[-5.485561847686768,-4.049313545227051,-2.6948776245117188,-4.523404598236084,-3.2550089359283447,-6.531466960906982,-3.5368781089782715,-4.74020528793335,-5.663210391998291,-2.9018003940582275,-1.2914533615112305,-3.1618287563323975,-3.597871780395508,-5.293481349945068,-5.734634876251221,-6.481703281402588,-6.158071517944336,-5.334188461303711,-3.3368966579437256,-6.023825168609619,-5.964685916900635,-5.679584503173828,-5.233169078826904,-6.178581237792969,-5.757897853851318,-6.637025833129883,-4.610534191131592,-6.10722541809082,-5.239643573760986,-2.151822090148926,-6.338195323944092,-5.989373683929443,-3.6404664516448975,-5.449097633361816,-3.4796409606933594,-5.071048736572266,-5.589984893798828,-4.948794364929199,-5.662388324737549,-5.790772914886475,-3.2281718254089355,-5.88212776184082,-4.262548923492432,-3.541203737258911,-1.929053544998169,-5.311929225921631,-6.076949596405029,-5.582695007324219,-6.503840446472168,-3.5510573387145996,-4.368288040161133,-4.116262435913086,-6.1527838706970215,-6.080703258514404,-4.465291976928711,-3.5717933177948,-5.594907760620117,-5.4725775718688965,-4.188021183013916,-3.8002405166625977,-3.4966814517974854,-5.268847942352295,-3.7802445888519287,-5.754215240478516,-5.807328224182129,-8.023852348327637,-6.145326614379883,-6.863078594207764,-4.2089080810546875,-6.699200630187988,-3.7111902236938477,-6.0753583908081055,2.2653050422668457,-4.9749555587768555,-6.0073442459106445,-2.993661403656006,-5.026206970214844,-6.906956195831299,-6.502202033996582,-4.074024200439453,-8.832837104797363,-3.9152660369873047,-6.083602428436279,-5.188767910003662,-5.299810409545898,-3.82963228225708,-5.856716156005859,-2.1334445476531982,-4.090395450592041,-4.8633904457092285,-3.6002867221832275,-4.514980316162109,-5.517674446105957,-4.475327491760254,-5.254393577575684,-5.332637786865234,-5.7977728843688965,0.9287337064743042,-6.868037700653076,-6.53702974319458,-5.924724578857422,-4.251734256744385,-4.426692485809326,-3.7711076736450195,-3.4539356231689453,-6.0652594566345215,-5.161447525024414,-4.3631110191345215],\"xaxis\":\"x\",\"y\":[3.72151780128479,3.697269916534424,3.511866569519043,5.125453472137451,4.459722518920898,2.871917247772217,2.5064244270324707,1.2432262897491455,3.8177828788757324,4.7746381759643555,0.15801331400871277,2.8272249698638916,2.262263774871826,4.137358665466309,1.4001593589782715,2.0639052391052246,4.699281215667725,4.028384685516357,4.131279468536377,3.4379587173461914,4.064379692077637,3.6495718955993652,4.369152545928955,1.849588394165039,3.9379801750183105,4.42716646194458,3.7959773540496826,2.1392276287078857,4.088926792144775,1.7526768445968628,4.536473274230957,3.797912359237671,4.238752365112305,4.099600315093994,2.7266845703125,3.621147871017456,4.199351787567139,4.638076305389404,4.05219841003418,2.8674097061157227,3.323518991470337,4.3474273681640625,2.32989764213562,2.7858693599700928,2.3822028636932373,3.1803622245788574,2.8151543140411377,4.351583003997803,2.0529212951660156,1.7079817056655884,4.648568153381348,2.1026060581207275,2.764958143234253,4.918918609619141,5.798519611358643,2.0335373878479004,1.2873718738555908,4.58504581451416,2.2859694957733154,4.316205024719238,2.602774143218994,3.987426996231079,4.391926288604736,4.765054225921631,4.025860786437988,2.089996576309204,2.8991165161132812,4.009446620941162,3.1266872882843018,0.24583353102207184,-0.2893657088279724,5.060122489929199,0.1996120810508728,4.504068851470947,4.391106128692627,2.811044216156006,4.626181602478027,3.995098114013672,1.1581374406814575,2.727285623550415,3.3300952911376953,3.3055155277252197,1.8048095703125,4.057161331176758,3.2890889644622803,4.528170585632324,3.639150857925415,1.5825835466384888,3.1144847869873047,-0.3781222403049469,3.2039523124694824,1.825515627861023,2.55893611907959,4.065191268920898,2.5689878463745117,4.425690650939941,4.131514072418213,3.0895938873291016,1.2036261558532715,4.423547267913818,1.8422459363937378,3.8809456825256348,5.12040376663208,3.37569522857666,3.1240084171295166,4.337046146392822,3.951861619949341,5.277291774749756],\"yaxis\":\"y\",\"type\":\"scattergl\"},{\"hovertemplate\":\"\\u0412\\u0438\\u0434 \\u041d\\u041f\\u0410=\\u041f\\u0440\\u0438\\u043a\\u0430\\u0437, \\u0444\\u0435\\u0434\\u0435\\u0440\\u0430\\u043b\\u044c\\u043d\\u044b\\u0439 \\u0443\\u0440\\u043e\\u0432\\u0435\\u043d\\u044c, \\u043e\\u0440\\u0433\\u0430\\u043d\\u044b \\u0438\\u0441\\u043f\\u043e\\u043b\\u043d\\u0438\\u0442\\u0435\\u043b\\u044c\\u043d\\u043e\\u0439 \\u0432\\u043b\\u0430\\u0441\\u0442\\u0438\\u003cbr\\u003e0=%{x}\\u003cbr\\u003e1=%{y}\\u003cextra\\u003e\\u003c\\u002fextra\\u003e\",\"legendgroup\":\"\\u041f\\u0440\\u0438\\u043a\\u0430\\u0437, \\u0444\\u0435\\u0434\\u0435\\u0440\\u0430\\u043b\\u044c\\u043d\\u044b\\u0439 \\u0443\\u0440\\u043e\\u0432\\u0435\\u043d\\u044c, \\u043e\\u0440\\u0433\\u0430\\u043d\\u044b \\u0438\\u0441\\u043f\\u043e\\u043b\\u043d\\u0438\\u0442\\u0435\\u043b\\u044c\\u043d\\u043e\\u0439 \\u0432\\u043b\\u0430\\u0441\\u0442\\u0438\",\"marker\":{\"color\":\"#19d3f3\",\"symbol\":\"circle\"},\"mode\":\"markers\",\"name\":\"\\u041f\\u0440\\u0438\\u043a\\u0430\\u0437, \\u0444\\u0435\\u0434\\u0435\\u0440\\u0430\\u043b\\u044c\\u043d\\u044b\\u0439 \\u0443\\u0440\\u043e\\u0432\\u0435\\u043d\\u044c, \\u043e\\u0440\\u0433\\u0430\\u043d\\u044b \\u0438\\u0441\\u043f\\u043e\\u043b\\u043d\\u0438\\u0442\\u0435\\u043b\\u044c\\u043d\\u043e\\u0439 \\u0432\\u043b\\u0430\\u0441\\u0442\\u0438\",\"showlegend\":true,\"x\":[-3.2665963172912598,-3.734003782272339,-3.499098539352417,-2.619180679321289,-1.5792982578277588,-1.2417353391647339,-4.127659797668457,-3.2484896183013916,-5.7300825119018555,-2.8934197425842285,3.1784982681274414,-2.3245744705200195,-1.2871454954147339,-0.931097149848938,-0.9620168805122375,-3.715914487838745,-3.0318214893341064,-2.9323225021362305,-4.516585350036621,6.647921562194824,-2.9984681606292725,-4.837874412536621,-2.029067039489746,-2.478530168533325,-4.538114547729492,-1.847399115562439,-4.68589448928833,-0.9411521553993225,-0.9545577764511108,-6.153262615203857,-2.2396249771118164,-2.377448081970215,-1.3943495750427246,-2.2568321228027344,-5.982949256896973,-2.4911580085754395,-3.349496841430664,-3.728752613067627,-0.9699839949607849,-2.4100217819213867,-4.4056243896484375,-7.362991809844971,-1.0053355693817139,-3.1076924800872803,-1.6509126424789429,-3.066694736480713,-1.5039746761322021,-2.2783470153808594,-3.0355710983276367,-3.41611647605896,-2.0238826274871826,-4.235075950622559,-3.4916279315948486,-1.885534644126892,-5.187114715576172,-2.85855770111084,-2.397441864013672,-1.2188007831573486,-2.09542179107666,-2.7733638286590576,-2.4950244426727295,-4.330441474914551,-2.908212184906006,-1.4232561588287354,-2.995590925216675,-2.37298846244812,-3.332545518875122,-3.795405387878418,-2.2273738384246826,-2.8194868564605713,-0.9190654754638672,-2.6780712604522705,0.9891869425773621,-1.0502259731292725,-1.6172713041305542,-3.383941411972046,-3.870164632797241,-3.1219630241394043,-4.752120494842529,-3.6472702026367188,-3.3843636512756348,-7.665595531463623,0.8745694160461426,-2.2879269123077393,-4.562354564666748,-5.469875812530518,-4.885855674743652,-2.236604690551758,-0.8234556913375854,-2.0821754932403564,-2.9429678916931152,-2.2144229412078857,-1.4282746315002441,-3.400249481201172,-4.518571376800537,-7.294144153594971,-3.3756942749023438,-2.0309925079345703,-4.2919182777404785,-1.7361388206481934,-1.4413343667984009,-0.38651424646377563,-5.881509304046631,-0.8710770010948181],\"xaxis\":\"x\",\"y\":[5.4809746742248535,3.9558544158935547,1.7371628284454346,5.1615142822265625,3.823646306991577,4.346589088439941,6.213744163513184,2.1264467239379883,4.019921779632568,2.0276615619659424,3.2931020259857178,3.830153226852417,4.307651996612549,5.967051982879639,5.961223602294922,4.6698126792907715,1.8468743562698364,1.8018677234649658,5.760392665863037,3.3137412071228027,5.125542163848877,1.6841249465942383,3.787832736968994,1.5565038919448853,5.811408042907715,5.846339702606201,1.8220921754837036,5.901407718658447,5.950889587402344,4.025829315185547,2.936255931854248,3.3083887100219727,4.140352249145508,1.7924883365631104,1.0286638736724854,5.200411319732666,2.055788040161133,2.839022636413574,5.950432777404785,1.9262111186981201,5.7443647384643555,5.008658409118652,4.826224327087402,3.8351173400878906,1.4407464265823364,3.3012733459472656,4.037917613983154,2.9344677925109863,0.1406431645154953,6.550027847290039,3.671118974685669,1.9647620916366577,3.498901844024658,1.6553884744644165,4.984593868255615,5.154879093170166,2.727368116378784,4.396708965301514,3.4665896892547607,1.7416880130767822,5.315765380859375,5.9599928855896,3.975731372833252,4.28599214553833,2.1414966583251953,4.232908248901367,6.687560558319092,4.610191345214844,3.397402048110962,5.2656331062316895,5.881415843963623,3.55338978767395,1.410659670829773,5.708561897277832,3.809004783630371,6.487026691436768,1.0128452777862549,2.0108389854431152,0.1476372480392456,6.032525062561035,6.566643238067627,3.5897979736328125,-1.5160064697265625,3.9795727729797363,2.741811752319336,4.95026159286499,1.2580124139785767,2.979473114013672,5.483178615570068,3.6387851238250732,1.8222421407699585,3.8599305152893066,4.792572021484375,6.627861022949219,3.9353833198547363,1.8421698808670044,6.170741558074951,3.531033754348755,-0.83441162109375,3.962249517440796,4.8526692390441895,1.7478691339492798,0.7909591197967529,5.877779960632324],\"yaxis\":\"y\",\"type\":\"scattergl\"},{\"hovertemplate\":\"\\u0412\\u0438\\u0434 \\u041d\\u041f\\u0410=\\u0420\\u0430\\u0441\\u043f\\u043e\\u0440\\u044f\\u0436\\u0435\\u043d\\u0438\\u0435, \\u0440\\u0435\\u0433\\u0438\\u043e\\u043d\\u0430\\u043b\\u044c\\u043d\\u044b\\u0439 \\u0443\\u0440\\u043e\\u0432\\u0435\\u043d\\u044c, \\u043f\\u0440\\u0430\\u0432\\u0438\\u0442\\u0435\\u043b\\u044c\\u0441\\u0442\\u0432\\u043e\\u003cbr\\u003e0=%{x}\\u003cbr\\u003e1=%{y}\\u003cextra\\u003e\\u003c\\u002fextra\\u003e\",\"legendgroup\":\"\\u0420\\u0430\\u0441\\u043f\\u043e\\u0440\\u044f\\u0436\\u0435\\u043d\\u0438\\u0435, \\u0440\\u0435\\u0433\\u0438\\u043e\\u043d\\u0430\\u043b\\u044c\\u043d\\u044b\\u0439 \\u0443\\u0440\\u043e\\u0432\\u0435\\u043d\\u044c, \\u043f\\u0440\\u0430\\u0432\\u0438\\u0442\\u0435\\u043b\\u044c\\u0441\\u0442\\u0432\\u043e\",\"marker\":{\"color\":\"#FF6692\",\"symbol\":\"circle\"},\"mode\":\"markers\",\"name\":\"\\u0420\\u0430\\u0441\\u043f\\u043e\\u0440\\u044f\\u0436\\u0435\\u043d\\u0438\\u0435, \\u0440\\u0435\\u0433\\u0438\\u043e\\u043d\\u0430\\u043b\\u044c\\u043d\\u044b\\u0439 \\u0443\\u0440\\u043e\\u0432\\u0435\\u043d\\u044c, \\u043f\\u0440\\u0430\\u0432\\u0438\\u0442\\u0435\\u043b\\u044c\\u0441\\u0442\\u0432\\u043e\",\"showlegend\":true,\"x\":[2.1307692527770996,-0.37630534172058105,5.595564842224121,-3.472107172012329,3.3696959018707275,5.040141582489014,3.234434127807617,3.2259318828582764,4.915050506591797,6.046370029449463,0.5783926248550415,1.0651206970214844,-2.5311524868011475,4.872352123260498,4.914580345153809,4.533512115478516,4.533082008361816,7.159358501434326,3.178162097930908,8.746201515197754,3.2658987045288086,0.047512926161289215,0.40154898166656494,1.7917275428771973,0.7983809113502502,1.3967523574829102,4.42832612991333,2.228316068649292,1.3598122596740723,8.593059539794922,2.181872606277466,3.338977575302124,3.626528024673462,0.7101436257362366,0.2274778187274933,3.16062068939209,3.530942678451538,-0.25358864665031433,-3.126861572265625,2.3914296627044678,3.7601423263549805,5.007550239562988,-2.6771650314331055,3.4007821083068848,-0.3382640480995178,4.124699592590332,1.7899428606033325,8.534829139709473,0.4161025583744049,7.705566883087158,7.770180702209473,1.7983933687210083,1.8373452425003052,3.362442970275879,-0.4009586572647095,7.645357608795166,2.9104433059692383,1.6400120258331299,4.425133228302002,3.4109299182891846,2.003377676010132,4.255184173583984,1.8702081441879272,0.8013758659362793,0.31478145718574524,3.395954132080078,-0.2773934006690979,-1.1532522439956665,1.3404968976974487,3.7250864505767822,3.1230390071868896,3.02463436126709,1.7140614986419678,3.91294527053833,3.573779582977295,9.277811050415039,4.545892715454102,4.434882164001465,2.691822052001953,7.147543907165527,1.009941816329956,3.6573262214660645,5.850285530090332,-1.1661230325698853,-0.9217979311943054,6.419564723968506,-2.016261100769043,6.796384811401367,4.5474534034729,9.576181411743164,2.5528814792633057,4.171681880950928,5.053837776184082,4.464972019195557,2.1399731636047363,1.0141469240188599,0.40347230434417725,1.182937502861023,4.391651153564453,4.432333946228027,5.015411376953125,3.812662124633789,8.922754287719727,4.2290730476379395,4.510962963104248,4.692674160003662,6.026459693908691,3.2124454975128174,4.4977827072143555,3.7540059089660645,1.174637794494629,2.4195592403411865,2.505117654800415,1.225449562072754,3.00407075881958,0.04735304042696953,2.066047430038452,3.2633233070373535,8.620833396911621,2.217707872390747,1.9065909385681152],\"xaxis\":\"x\",\"y\":[-0.11484216153621674,-0.513430655002594,-0.5062813758850098,4.20318603515625,-1.6666823625564575,0.6404301524162292,-3.042003631591797,0.9997343420982361,0.45689547061920166,-1.1999759674072266,1.4940334558486938,2.613825559616089,-0.7265892028808594,0.5482886433601379,0.5619271397590637,-1.1130743026733398,-1.9017974138259888,-4.768042087554932,-1.9451104402542114,-2.8639519214630127,-0.4024094045162201,-0.03467726707458496,-5.469921112060547,-0.9784521460533142,3.064023494720459,-3.7581405639648438,0.6162410378456116,-0.2167968600988388,1.161726474761963,-3.0019969940185547,-4.852884292602539,0.29886215925216675,-1.434888482093811,-4.767789840698242,-1.9114731550216675,-3.1404361724853516,-1.8467620611190796,-0.09530587494373322,3.277188301086426,-5.870635032653809,-1.5920281410217285,0.7778811454772949,3.4238736629486084,-0.6072071194648743,-0.47449684143066406,0.9004775285720825,2.3075709342956543,-3.0309629440307617,-5.3354339599609375,-1.043931245803833,-0.7640705704689026,-2.296483278274536,-1.49542236328125,-3.1024832725524902,2.4161388874053955,-1.056225061416626,-0.1605578064918518,-4.502333164215088,-2.0420308113098145,-0.6424314975738525,-0.7232556343078613,-2.101795196533203,0.18324612081050873,-1.4643385410308838,0.602397084236145,-1.0121711492538452,2.01206374168396,0.8767949938774109,-2.223165273666382,-1.022691011428833,-0.048494819551706314,-3.005173683166504,2.163816452026367,-0.030475879088044167,-0.8358622193336487,-1.672990083694458,-1.2893427610397339,-1.5922800302505493,-0.3858795166015625,-4.013500690460205,-4.008929252624512,-1.5596433877944946,-2.668483018875122,1.7950420379638672,1.0050073862075806,-1.558911919593811,-0.3113127052783966,0.5882843136787415,-1.7623767852783203,-1.1638273000717163,-4.338849067687988,-0.14827197790145874,0.8252416253089905,-1.7498652935028076,-1.6669470071792603,-3.9247584342956543,-5.300319671630859,-3.2337121963500977,-1.1634392738342285,-1.609804391860962,0.6657001376152039,-0.9199289083480835,-2.208787441253662,-0.4538049101829529,-1.159298300743103,0.09397350251674652,-0.2615354359149933,-3.034519672393799,-1.6010346412658691,0.4495221972465515,-4.154595851898193,-4.712007999420166,-0.164127379655838,-1.5768142938613892,-0.24587875604629517,-0.3817193806171417,-4.312856674194336,-3.0784475803375244,-3.0024795532226562,0.2245996743440628,2.1700439453125],\"yaxis\":\"y\",\"type\":\"scattergl\"},{\"hovertemplate\":\"\\u0412\\u0438\\u0434 \\u041d\\u041f\\u0410=\\u041f\\u043e\\u0441\\u0442\\u0430\\u043d\\u043e\\u0432\\u043b\\u0435\\u043d\\u0438\\u0435, \\u0440\\u0435\\u0433\\u0438\\u043e\\u043d\\u0430\\u043b\\u044c\\u043d\\u044b\\u0439 \\u0443\\u0440\\u043e\\u0432\\u0435\\u043d\\u044c, \\u043f\\u0440\\u0430\\u0432\\u0438\\u0442\\u0435\\u043b\\u044c\\u0441\\u0442\\u0432\\u043e\\u003cbr\\u003e0=%{x}\\u003cbr\\u003e1=%{y}\\u003cextra\\u003e\\u003c\\u002fextra\\u003e\",\"legendgroup\":\"\\u041f\\u043e\\u0441\\u0442\\u0430\\u043d\\u043e\\u0432\\u043b\\u0435\\u043d\\u0438\\u0435, \\u0440\\u0435\\u0433\\u0438\\u043e\\u043d\\u0430\\u043b\\u044c\\u043d\\u044b\\u0439 \\u0443\\u0440\\u043e\\u0432\\u0435\\u043d\\u044c, \\u043f\\u0440\\u0430\\u0432\\u0438\\u0442\\u0435\\u043b\\u044c\\u0441\\u0442\\u0432\\u043e\",\"marker\":{\"color\":\"#B6E880\",\"symbol\":\"circle\"},\"mode\":\"markers\",\"name\":\"\\u041f\\u043e\\u0441\\u0442\\u0430\\u043d\\u043e\\u0432\\u043b\\u0435\\u043d\\u0438\\u0435, \\u0440\\u0435\\u0433\\u0438\\u043e\\u043d\\u0430\\u043b\\u044c\\u043d\\u044b\\u0439 \\u0443\\u0440\\u043e\\u0432\\u0435\\u043d\\u044c, \\u043f\\u0440\\u0430\\u0432\\u0438\\u0442\\u0435\\u043b\\u044c\\u0441\\u0442\\u0432\\u043e\",\"showlegend\":true,\"x\":[6.072124481201172,0.6441432237625122,0.3762597143650055,-2.1282267570495605,1.062410831451416,3.0486230850219727,1.0987532138824463,-1.2242069244384766,1.9995450973510742,2.463779926300049,1.0657063722610474,4.365355491638184,-0.1602034568786621,0.7414496541023254,1.2728662490844727,6.141773700714111,6.725459575653076,1.3227512836456299,0.3528350293636322,1.7664207220077515,1.5321552753448486,0.35729849338531494,7.012408256530762,-7.48763370513916,2.138882875442505,0.8777226805686951,0.15822280943393707,0.08464200794696808,-0.9751512408256531,-0.924980640411377,-0.04822772368788719,2.3735086917877197,3.8379926681518555,0.9024879932403564,-1.3733216524124146,-1.0021119117736816,4.828253269195557,1.4487507343292236,1.5190529823303223,2.256652593612671,0.45802000164985657,6.916086196899414,2.086604356765747,0.48957547545433044,0.8556140065193176,-0.11168381571769714,-0.5332703590393066,-1.5723204612731934,0.4848974943161011,3.0922815799713135,0.27655893564224243,7.310920715332031,-0.6853899955749512,-2.505392551422119,3.147517681121826,-0.8786846995353699,1.7457859516143799,1.1370303630828857,0.9103937149047852,0.43046724796295166,1.625592827796936,0.8279670476913452,0.6511490345001221,1.187881588935852,1.081115484237671,1.2108433246612549,0.016738612204790115,0.7626614570617676,4.1352152824401855,0.8894858360290527,0.761469841003418,1.1686254739761353,1.3904896974563599,4.479408264160156,2.305237054824829,1.0527276992797852,1.5314422845840454,-0.8929266333580017,1.0480976104736328,-1.1877110004425049,4.375886917114258,6.504868507385254,0.3000391721725464,0.35331469774246216,1.3654309511184692,2.465670347213745,2.436027765274048,6.071563243865967,-0.31554222106933594,-0.15897268056869507,-2.5215797424316406,-2.2504570484161377,1.1156766414642334,1.3779302835464478,0.09180060029029846,4.723487377166748,1.7297266721725464,1.0849250555038452,-0.17524433135986328,1.0859378576278687,3.6856465339660645,0.9122914671897888,2.7378015518188477,1.956072211265564,0.37151092290878296,1.9324220418930054,0.7490355968475342,4.298573017120361,1.5593432188034058,1.4926942586898804,1.110353708267212,0.7398275136947632,1.4863594770431519,4.410512924194336,-3.6614761352539062,0.02099742740392685,0.18075473606586456],\"xaxis\":\"x\",\"y\":[1.7574621438980103,-0.12784121930599213,1.3507308959960938,-0.40352654457092285,-2.7025110721588135,1.9125969409942627,-1.743698239326477,3.324504852294922,-3.6248111724853516,-2.129756212234497,-0.42546576261520386,-1.515344500541687,3.6676487922668457,-0.34880951046943665,-4.097400188446045,1.6090152263641357,-1.1330946683883667,-1.6349701881408691,0.5013934969902039,-0.8056668639183044,-3.5289552211761475,-2.5427370071411133,-1.0736558437347412,-0.3995104134082794,-0.618725061416626,-1.5547738075256348,1.6729997396469116,2.1362202167510986,0.22679007053375244,5.414831638336182,1.6397700309753418,-2.508578062057495,-3.2821710109710693,3.4507651329040527,0.6341548562049866,-0.5497198700904846,-2.3503289222717285,-0.4617176353931427,2.793163299560547,-4.402683734893799,2.929445743560791,-1.1783993244171143,1.8064987659454346,0.267509400844574,-2.8761584758758545,-2.260028123855591,-2.6329426765441895,-0.7599719166755676,-3.939014196395874,-2.851505756378174,-1.5834881067276,0.0066971555352211,0.7816343307495117,-0.8727560043334961,-1.016587257385254,0.7256943583488464,-0.10917547345161438,-2.8775689601898193,1.457217812538147,-0.4162234663963318,-1.2851166725158691,3.0427184104919434,0.5249876976013184,1.0646997690200806,-3.6310880184173584,-2.814469337463379,-0.006771251559257507,-0.6419293880462646,-1.17915678024292,-2.4537668228149414,-4.139159202575684,-1.0772732496261597,-2.710756778717041,-1.546983242034912,-2.776196241378784,-1.2364628314971924,-1.3425077199935913,-1.837122917175293,-1.158013105392456,0.8354061245918274,-1.5649477243423462,-1.2902508974075317,-3.418330430984497,-4.935574531555176,-4.765353202819824,-2.6469836235046387,-3.0480661392211914,1.6191812753677368,-0.5135446190834045,-2.4598233699798584,-0.7523782253265381,-0.46518126130104065,-2.2516586780548096,-4.957188606262207,0.3070760667324066,2.576572895050049,-1.3722649812698364,0.235324889421463,-2.5048365592956543,3.3172531127929688,-2.364291191101074,-0.18677127361297607,-3.3450498580932617,-3.2199738025665283,-1.13160240650177,-5.054842472076416,0.36392590403556824,-0.8966411352157593,1.8541438579559326,-3.845884323120117,-3.411381244659424,3.1270439624786377,-3.487098217010498,-3.5313634872436523,-0.07873985916376114,-3.8097681999206543,-0.6727323532104492],\"yaxis\":\"y\",\"type\":\"scattergl\"},{\"hovertemplate\":\"\\u0412\\u0438\\u0434 \\u041d\\u041f\\u0410=\\u041f\\u0440\\u0438\\u043a\\u0430\\u0437, \\u0440\\u0435\\u0433\\u0438\\u043e\\u043d\\u0430\\u043b\\u044c\\u043d\\u044b\\u0439 \\u0443\\u0440\\u043e\\u0432\\u0435\\u043d\\u044c, \\u043e\\u0440\\u0433\\u0430\\u043d\\u044b \\u0438\\u0441\\u043f\\u043e\\u043b\\u043d\\u0438\\u0442\\u0435\\u043b\\u044c\\u043d\\u043e\\u0439 \\u0432\\u043b\\u0430\\u0441\\u0442\\u0438\\u003cbr\\u003e0=%{x}\\u003cbr\\u003e1=%{y}\\u003cextra\\u003e\\u003c\\u002fextra\\u003e\",\"legendgroup\":\"\\u041f\\u0440\\u0438\\u043a\\u0430\\u0437, \\u0440\\u0435\\u0433\\u0438\\u043e\\u043d\\u0430\\u043b\\u044c\\u043d\\u044b\\u0439 \\u0443\\u0440\\u043e\\u0432\\u0435\\u043d\\u044c, \\u043e\\u0440\\u0433\\u0430\\u043d\\u044b \\u0438\\u0441\\u043f\\u043e\\u043b\\u043d\\u0438\\u0442\\u0435\\u043b\\u044c\\u043d\\u043e\\u0439 \\u0432\\u043b\\u0430\\u0441\\u0442\\u0438\",\"marker\":{\"color\":\"#FF97FF\",\"symbol\":\"circle\"},\"mode\":\"markers\",\"name\":\"\\u041f\\u0440\\u0438\\u043a\\u0430\\u0437, \\u0440\\u0435\\u0433\\u0438\\u043e\\u043d\\u0430\\u043b\\u044c\\u043d\\u044b\\u0439 \\u0443\\u0440\\u043e\\u0432\\u0435\\u043d\\u044c, \\u043e\\u0440\\u0433\\u0430\\u043d\\u044b \\u0438\\u0441\\u043f\\u043e\\u043b\\u043d\\u0438\\u0442\\u0435\\u043b\\u044c\\u043d\\u043e\\u0439 \\u0432\\u043b\\u0430\\u0441\\u0442\\u0438\",\"showlegend\":true,\"x\":[2.810051679611206,1.5320624113082886,3.079850435256958,2.5506038665771484,2.176591396331787,3.427834987640381,2.5705432891845703,-1.6745225191116333,3.546269655227661,2.579909324645996,2.84686279296875,2.9658663272857666,1.4529868364334106,1.3354991674423218,1.936246395111084,1.8839023113250732,3.4590137004852295,-1.7351282835006714,3.768728256225586,1.2181499004364014,0.08727718889713287,-0.400840699672699,3.684516429901123,0.5636828541755676,0.5388809442520142,3.3101584911346436,3.5260884761810303,2.834346055984497,0.4402383267879486,1.1185224056243896,5.915652275085449,0.2082398384809494,-3.0493717193603516,-0.30830270051956177,-1.1012742519378662,6.004251956939697,1.2974979877471924,1.4426381587982178,1.3052432537078857,1.6058094501495361,-0.2093195915222168,1.2555824518203735,1.3365336656570435,2.6117308139801025,3.2940497398376465,2.4503793716430664,3.6086435317993164,1.9864490032196045,2.832488536834717,6.137906074523926,2.911226272583008,3.3231844902038574,5.844955921173096,2.087219715118408,2.8907828330993652,1.7902705669403076,3.1144542694091797,5.807380199432373,0.9441673755645752,2.513807535171509,3.718024969100952,6.186005115509033,3.238929510116577,0.7818135619163513,-2.1001906394958496,1.6426111459732056,1.3931940793991089,2.822547197341919,0.09265506267547607,2.4774386882781982,2.858696937561035,3.5554912090301514,1.62522554397583,3.1946165561676025,2.3513004779815674,-0.2712026536464691,1.45902419090271,2.0245954990386963,0.8272047638893127,3.5573081970214844,-0.02639911323785782,-1.663393497467041,-0.100575752556324,3.1264333724975586,1.7902880907058716,2.475076198577881,-0.16616979241371155,3.649592638015747,3.4408087730407715,2.803116798400879,6.561061859130859,1.6068130731582642,1.2760415077209473,0.2674714922904968,3.5545225143432617,2.7579822540283203,0.8064085245132446,1.3448760509490967,2.052851438522339,6.440366268157959,1.3542895317077637,3.7532222270965576,3.5140559673309326,1.744667887687683,2.83762788772583,1.7310892343521118,6.2110795974731445,2.8675191402435303],\"xaxis\":\"x\",\"y\":[3.815969467163086,-1.8667303323745728,1.9160847663879395,-3.368260145187378,-0.3539488613605499,3.1158082485198975,-1.725187063217163,3.2880046367645264,2.091935634613037,-1.6672600507736206,3.4336609840393066,3.8054914474487305,-3.710750102996826,4.448357582092285,-2.049764633178711,-1.982419729232788,2.292074203491211,-0.6240901947021484,3.4229938983917236,-2.478989362716675,0.1241689920425415,0.7915382385253906,2.873810291290283,-0.8688916563987732,-1.1244726181030273,2.4255998134613037,2.1774044036865234,3.8453545570373535,3.685404062271118,-2.65438175201416,0.12368794530630112,-0.18418563902378082,4.489519119262695,0.5843877792358398,3.2871227264404297,0.11768762767314911,4.417726516723633,4.120590686798096,0.949652910232544,0.24124999344348907,3.501018524169922,-2.1825876235961914,4.441843032836914,-1.7260768413543701,2.8217129707336426,2.9855809211730957,2.272432804107666,-0.41771000623703003,3.8257341384887695,0.21500945091247559,3.4543213844299316,2.4330780506134033,0.4277151823043823,0.5633662343025208,3.7412424087524414,1.5337344408035278,3.2843501567840576,0.38584768772125244,-1.4492299556732178,-1.5475715398788452,3.417025566101074,-0.37176942825317383,3.5587284564971924,1.1323051452636719,4.220507621765137,-3.7162904739379883,-1.647774577140808,3.830902099609375,-0.4269862473011017,1.618397831916809,3.4334211349487305,2.267369508743286,-3.6751620769500732,3.354997158050537,-1.3331979513168335,-0.8312819004058838,-0.33278578519821167,1.1937226057052612,-1.5705550909042358,2.5895586013793945,2.218329429626465,1.4965612888336182,-0.49096032977104187,3.79010009765625,-1.1323908567428589,-3.2668604850769043,2.307079553604126,2.027322292327881,2.1187145709991455,3.423940658569336,1.0532793998718262,0.985363781452179,0.5456138253211975,-1.9037179946899414,2.111067771911621,3.52008318901062,1.777119517326355,4.431478023529053,-0.14372238516807556,0.5050121545791626,-1.8575165271759033,1.8276315927505493,3.1755404472351074,2.30773663520813,3.7536110877990723,2.4396932125091553,-0.3050427734851837,0.9954376220703125],\"yaxis\":\"y\",\"type\":\"scattergl\"},{\"hovertemplate\":\"\\u0412\\u0438\\u0434 \\u041d\\u041f\\u0410=\\u0420\\u0430\\u0441\\u043f\\u043e\\u0440\\u044f\\u0436\\u0435\\u043d\\u0438\\u0435, \\u0444\\u0435\\u0434\\u0435\\u0440\\u0430\\u043b\\u044c\\u043d\\u044b\\u0439 \\u0443\\u0440\\u043e\\u0432\\u0435\\u043d\\u044c, \\u0433\\u043b\\u0430\\u0432\\u0430 \\u0438\\u0441\\u043f\\u043e\\u043b\\u043d\\u0438\\u0442\\u0435\\u043b\\u044c\\u043d\\u043e\\u0439 \\u0432\\u043b\\u0430\\u0441\\u0442\\u0438\\u003cbr\\u003e0=%{x}\\u003cbr\\u003e1=%{y}\\u003cextra\\u003e\\u003c\\u002fextra\\u003e\",\"legendgroup\":\"\\u0420\\u0430\\u0441\\u043f\\u043e\\u0440\\u044f\\u0436\\u0435\\u043d\\u0438\\u0435, \\u0444\\u0435\\u0434\\u0435\\u0440\\u0430\\u043b\\u044c\\u043d\\u044b\\u0439 \\u0443\\u0440\\u043e\\u0432\\u0435\\u043d\\u044c, \\u0433\\u043b\\u0430\\u0432\\u0430 \\u0438\\u0441\\u043f\\u043e\\u043b\\u043d\\u0438\\u0442\\u0435\\u043b\\u044c\\u043d\\u043e\\u0439 \\u0432\\u043b\\u0430\\u0441\\u0442\\u0438\",\"marker\":{\"color\":\"#FECB52\",\"symbol\":\"circle\"},\"mode\":\"markers\",\"name\":\"\\u0420\\u0430\\u0441\\u043f\\u043e\\u0440\\u044f\\u0436\\u0435\\u043d\\u0438\\u0435, \\u0444\\u0435\\u0434\\u0435\\u0440\\u0430\\u043b\\u044c\\u043d\\u044b\\u0439 \\u0443\\u0440\\u043e\\u0432\\u0435\\u043d\\u044c, \\u0433\\u043b\\u0430\\u0432\\u0430 \\u0438\\u0441\\u043f\\u043e\\u043b\\u043d\\u0438\\u0442\\u0435\\u043b\\u044c\\u043d\\u043e\\u0439 \\u0432\\u043b\\u0430\\u0441\\u0442\\u0438\",\"showlegend\":true,\"x\":[-3.8234169483184814,-7.999979019165039,-4.361135959625244,-10.641018867492676,-10.502516746520996,-6.747614860534668,-4.6996612548828125,-7.9481658935546875,-10.861888885498047,-7.456348419189453,-1.773792028427124,-10.140299797058105,-6.796491622924805,-4.027034282684326,-6.592099666595459,-9.09172248840332,-10.440954208374023,-10.823562622070312,-6.797223091125488,-9.970160484313965,-9.71518325805664,-7.757745265960693,-9.757338523864746,-7.801521301269531,-6.795315265655518,-8.609271049499512,-10.243668556213379,-9.95568561553955,-10.286286354064941,-10.45822811126709,-9.159672737121582,4.53460168838501,-8.209195137023926,-7.990402698516846,-10.328683853149414,-10.423124313354492,-7.033290863037109,-10.165472030639648,-3.0284969806671143,-7.603565216064453,-8.490745544433594,-8.413599014282227,-10.13137435913086,-4.891396999359131,-8.086234092712402,-9.033985137939453,-6.7535176277160645,-8.099413871765137,-9.387079238891602,-8.730095863342285,-6.799994468688965,-9.10995864868164,-8.060165405273438,-6.747854232788086,-6.354890823364258,-4.453548908233643,-6.6748270988464355,-6.921899318695068,-10.438138008117676,-9.160371780395508,-5.083815097808838,-2.9656500816345215,-7.780039310455322,-10.811027526855469,-4.319636821746826,-9.73261833190918,-10.845766067504883,-10.142182350158691,-10.806754112243652,-10.82072925567627,-9.503894805908203,-6.92094612121582,-8.623120307922363,-6.754092216491699,-4.840656280517578,-10.209576606750488,-10.398356437683105,-4.564239978790283,-10.261634826660156,-10.148835182189941,-9.225129127502441,-10.533447265625,-8.874164581298828,-9.444007873535156,-7.772690773010254,-9.373552322387695],\"xaxis\":\"x\",\"y\":[3.8334903717041016,2.619541645050049,3.653887987136841,0.03474309295415878,0.5460314750671387,1.790615200996399,3.5350301265716553,2.5507702827453613,2.1867878437042236,0.6836223602294922,-2.3792054653167725,2.136007308959961,2.0240182876586914,3.735560417175293,2.0422849655151367,1.3453773260116577,0.5005781054496765,2.272169351577759,1.8123739957809448,3.088878631591797,3.333550453186035,2.8100321292877197,0.8649142980575562,2.1376945972442627,1.9288426637649536,2.722846269607544,0.3117634356021881,2.022035837173462,0.5969924926757812,0.01665647327899933,1.3235162496566772,-6.503062725067139,2.5662944316864014,2.3506455421447754,0.3715246915817261,0.44347959756851196,1.1537482738494873,0.2261466532945633,0.9083697199821472,2.8116955757141113,2.7649288177490234,3.4687905311584473,2.3494656085968018,1.6308724880218506,3.8549630641937256,3.3234663009643555,1.9784973859786987,2.6464545726776123,-1.9997048377990723,3.3555612564086914,1.7770899534225464,1.3910993337631226,2.51315975189209,1.7432948350906372,1.9419516324996948,3.623241424560547,2.0134477615356445,1.603868842124939,2.613914728164673,3.2753026485443115,3.1498756408691406,3.4608898162841797,3.1911497116088867,2.3017914295196533,4.105245590209961,3.227128744125366,2.2512669563293457,3.2663700580596924,2.26859450340271,2.286501407623291,-0.3634762167930603,3.9123175144195557,2.7573490142822266,1.8949589729309082,-4.260659694671631,0.5151194334030151,0.4261839985847473,3.461962938308716,0.31251436471939087,3.273402214050293,1.4802765846252441,0.4811488091945648,1.5942243337631226,3.903980016708374,2.9705090522766113,1.1311436891555786],\"yaxis\":\"y\",\"type\":\"scattergl\"},{\"hovertemplate\":\"\\u0412\\u0438\\u0434 \\u041d\\u041f\\u0410=\\u041f\\u043e\\u0441\\u0442\\u0430\\u043d\\u043e\\u0432\\u043b\\u0435\\u043d\\u0438\\u0435, \\u0440\\u0435\\u0433\\u0438\\u043e\\u043d\\u0430\\u043b\\u044c\\u043d\\u044b\\u0439 \\u0443\\u0440\\u043e\\u0432\\u0435\\u043d\\u044c, \\u043e\\u0440\\u0433\\u0430\\u043d\\u044b \\u0438\\u0441\\u043f\\u043e\\u043b\\u043d\\u0438\\u0442\\u0435\\u043b\\u044c\\u043d\\u043e\\u0439 \\u0432\\u043b\\u0430\\u0441\\u0442\\u0438\\u003cbr\\u003e0=%{x}\\u003cbr\\u003e1=%{y}\\u003cextra\\u003e\\u003c\\u002fextra\\u003e\",\"legendgroup\":\"\\u041f\\u043e\\u0441\\u0442\\u0430\\u043d\\u043e\\u0432\\u043b\\u0435\\u043d\\u0438\\u0435, \\u0440\\u0435\\u0433\\u0438\\u043e\\u043d\\u0430\\u043b\\u044c\\u043d\\u044b\\u0439 \\u0443\\u0440\\u043e\\u0432\\u0435\\u043d\\u044c, \\u043e\\u0440\\u0433\\u0430\\u043d\\u044b \\u0438\\u0441\\u043f\\u043e\\u043b\\u043d\\u0438\\u0442\\u0435\\u043b\\u044c\\u043d\\u043e\\u0439 \\u0432\\u043b\\u0430\\u0441\\u0442\\u0438\",\"marker\":{\"color\":\"#636efa\",\"symbol\":\"circle\"},\"mode\":\"markers\",\"name\":\"\\u041f\\u043e\\u0441\\u0442\\u0430\\u043d\\u043e\\u0432\\u043b\\u0435\\u043d\\u0438\\u0435, \\u0440\\u0435\\u0433\\u0438\\u043e\\u043d\\u0430\\u043b\\u044c\\u043d\\u044b\\u0439 \\u0443\\u0440\\u043e\\u0432\\u0435\\u043d\\u044c, \\u043e\\u0440\\u0433\\u0430\\u043d\\u044b \\u0438\\u0441\\u043f\\u043e\\u043b\\u043d\\u0438\\u0442\\u0435\\u043b\\u044c\\u043d\\u043e\\u0439 \\u0432\\u043b\\u0430\\u0441\\u0442\\u0438\",\"showlegend\":true,\"x\":[7.145944595336914,7.14142370223999,3.3849594593048096,4.808125972747803,-0.015537738800048828,4.574383735656738,5.657562732696533,3.5159945487976074,-0.5252690315246582,6.13677978515625,3.901646852493286,6.864019870758057,4.499983787536621,2.435826301574707,1.503294825553894,3.187861442565918,2.028080463409424,2.3024535179138184,3.8369648456573486,2.360877513885498,0.38802510499954224,-0.03819496929645538,4.959280967712402,4.929924011230469,0.15786606073379517,0.8548983335494995,4.030712127685547,4.91274881362915,4.880241394042969,-3.6069421768188477,-0.010806672275066376,6.90664529800415,4.9299235343933105,3.437924861907959,4.861098289489746,3.8262579441070557,-0.0352807343006134,4.825886249542236,4.867575168609619,3.3124375343322754,4.822587013244629,4.8600897789001465,7.042666912078857,0.37136170268058777,-0.15904441475868225,5.054631233215332,-0.016605347394943237,5.674282550811768,-1.2385386228561401,7.0543718338012695,3.3987984657287598,7.279400825500488,4.813425064086914,5.5791730880737305,2.9207851886749268,3.1482396125793457,4.854517459869385,1.7117584943771362,4.798398017883301,4.922760486602783,6.85953950881958,7.190689563751221,4.184574127197266,3.028693675994873,7.209381103515625,4.750767707824707,4.140149116516113,3.6562583446502686,7.024069309234619,5.959395408630371,4.8365983963012695,7.112064361572266,2.4443776607513428,4.913145542144775,2.189441204071045,7.1833343505859375,7.195006370544434,3.8327600955963135,3.7397043704986572,3.617274761199951,7.23291540145874,1.5792657136917114,7.187496185302734,4.751612663269043],\"xaxis\":\"x\",\"y\":[0.48496851325035095,0.3630349636077881,3.28419828414917,3.0706844329833984,5.310463905334473,3.088592052459717,2.782104730606079,0.23558412492275238,-2.209141969680786,0.5134950280189514,2.959526538848877,0.5535404086112976,3.165076971054077,3.5126426219940186,-3.8993539810180664,1.3316452503204346,-3.8519325256347656,2.377385377883911,3.024892807006836,-2.941603899002075,0.5668830275535583,5.31254243850708,3.0528643131256104,3.122208595275879,-1.794641375541687,1.0035985708236694,3.140676259994507,3.1187548637390137,3.07015323638916,-1.2027089595794678,5.282567024230957,0.5484910011291504,3.122208833694458,3.3117284774780273,3.1234493255615234,2.996725559234619,5.413277626037598,3.0910909175872803,3.080289363861084,3.3165767192840576,3.09732723236084,3.1085567474365234,0.5289679169654846,1.0325080156326294,5.4405388832092285,3.074462890625,5.390968322753906,2.7718052864074707,-1.2815930843353271,0.554112434387207,2.254380464553833,0.20687565207481384,3.093973159790039,2.8670477867126465,3.155362844467163,-3.0312297344207764,3.073195695877075,0.24490268528461456,3.0920779705047607,3.099440097808838,0.8863657712936401,-0.35912397503852844,3.118173122406006,2.950714349746704,0.10786677896976471,3.053173065185547,3.2879483699798584,2.4573886394500732,0.5840089321136475,0.5818392038345337,3.09763765335083,0.39203381538391113,3.522144079208374,3.0916051864624023,1.91672682762146,0.08866021037101746,0.3742928206920624,3.1734752655029297,2.936084508895874,3.322533369064331,-0.30986642837524414,-3.7044761180877686,-0.37612706422805786,3.1094143390655518],\"yaxis\":\"y\",\"type\":\"scattergl\"},{\"hovertemplate\":\"\\u0412\\u0438\\u0434 \\u041d\\u041f\\u0410=\\u0417\\u0430\\u043a\\u043e\\u043d, \\u0440\\u0435\\u0433\\u0438\\u043e\\u043d\\u0430\\u043b\\u044c\\u043d\\u044b\\u0439 \\u0443\\u0440\\u043e\\u0432\\u0435\\u043d\\u044c, \\u0437\\u0430\\u043a\\u043e\\u043d\\u043e\\u0434\\u0430\\u0442\\u0435\\u043b\\u044c\\u043d\\u044b\\u0439 \\u043e\\u0440\\u0433\\u0430\\u043d\\u003cbr\\u003e0=%{x}\\u003cbr\\u003e1=%{y}\\u003cextra\\u003e\\u003c\\u002fextra\\u003e\",\"legendgroup\":\"\\u0417\\u0430\\u043a\\u043e\\u043d, \\u0440\\u0435\\u0433\\u0438\\u043e\\u043d\\u0430\\u043b\\u044c\\u043d\\u044b\\u0439 \\u0443\\u0440\\u043e\\u0432\\u0435\\u043d\\u044c, \\u0437\\u0430\\u043a\\u043e\\u043d\\u043e\\u0434\\u0430\\u0442\\u0435\\u043b\\u044c\\u043d\\u044b\\u0439 \\u043e\\u0440\\u0433\\u0430\\u043d\",\"marker\":{\"color\":\"#EF553B\",\"symbol\":\"circle\"},\"mode\":\"markers\",\"name\":\"\\u0417\\u0430\\u043a\\u043e\\u043d, \\u0440\\u0435\\u0433\\u0438\\u043e\\u043d\\u0430\\u043b\\u044c\\u043d\\u044b\\u0439 \\u0443\\u0440\\u043e\\u0432\\u0435\\u043d\\u044c, \\u0437\\u0430\\u043a\\u043e\\u043d\\u043e\\u0434\\u0430\\u0442\\u0435\\u043b\\u044c\\u043d\\u044b\\u0439 \\u043e\\u0440\\u0433\\u0430\\u043d\",\"showlegend\":true,\"x\":[2.7099556922912598,3.096978187561035,-0.5230019688606262,-1.5163429975509644,-2.0198028087615967,0.3038615882396698,4.752292633056641,-2.078369140625,4.4155755043029785,-0.8112321496009827,0.36447247862815857,-0.847852349281311,-0.17134469747543335,-1.5641411542892456,6.644782543182373,-1.7350757122039795,0.0984698086977005,-0.9039582014083862,-1.5973811149597168,-1.05577552318573,6.306872844696045,-0.24547550082206726,6.9643731117248535,3.022260904312134,-1.3320863246917725,3.360610008239746,3.084150791168213,0.4217802584171295,11.718735694885254,6.293457508087158,0.08652415871620178,-0.6898576021194458,4.78764533996582,-0.024920746684074402,-0.7671362161636353,-2.197275400161743,0.961929440498352,-0.051189303398132324,6.65471887588501,0.32934898138046265,-1.7431132793426514,-1.9162591695785522,-0.9716615080833435,3.17686128616333,4.69534969329834,-1.4058191776275635,-1.3319921493530273,4.250311851501465,-1.7839009761810303,-2.652071714401245,-0.5876349210739136,6.6546149253845215,4.9427947998046875,-0.07242508232593536,6.001145362854004,1.4229929447174072,6.682298183441162,-2.150921106338501,4.789202690124512,5.9985575675964355,1.8780170679092407,-4.934232711791992,-1.8813012838363647,5.657430648803711,2.6853983402252197,0.49868130683898926,-0.8507435917854309,6.705510139465332,4.939481258392334,3.4339656829833984,6.667386531829834,-2.5924696922302246,0.7450968027114868,-1.4560866355895996,-0.18868987262248993,2.948782444000244,6.731225967407227,4.837806701660156,-0.8909142017364502,4.749230861663818,2.0398244857788086,0.3906134366989136,-1.3732163906097412,-2.049461841583252,-1.7933317422866821,-0.15468117594718933,-1.5777636766433716,1.3505289554595947,-0.47919508814811707,4.948267936706543,-1.3848787546157837,3.2335493564605713,6.213198184967041,6.686732769012451,-0.9467030167579651,9.164222717285156,6.677424430847168,6.722234725952148,1.151283860206604],\"xaxis\":\"x\",\"y\":[-0.7406633496284485,1.189994215965271,-1.1940522193908691,1.0663495063781738,-0.3334730565547943,-0.13262316584587097,-2.9259424209594727,-0.40388381481170654,-0.545484721660614,-0.401981383562088,0.7839977145195007,-1.695619821548462,-0.5653025507926941,0.8974951505661011,3.218487501144409,3.0816502571105957,3.665182590484619,-0.32842016220092773,-1.7056941986083984,-0.038467083126306534,-0.6013858914375305,1.5418108701705933,-0.7930724620819092,-1.0360392332077026,0.4805260896682739,0.443115770816803,-0.04647953063249588,0.08833771198987961,-2.387082815170288,-1.1404485702514648,-1.4970064163208008,-2.6397407054901123,-2.9738657474517822,1.42020845413208,1.4432399272918701,4.273617267608643,-2.808746099472046,-1.5618349313735962,3.2418360710144043,0.6624518632888794,-0.39178746938705444,-0.26056674122810364,-0.4688543677330017,-0.4050159752368927,-3.030761957168579,-0.29664409160614014,1.1023422479629517,-1.463375210762024,-0.3422761559486389,-0.39126911759376526,-1.2680867910385132,3.269704580307007,-2.3749473094940186,-4.108387470245361,1.2533092498779297,0.5311316847801208,3.309161901473999,2.797548770904541,-2.7600936889648438,1.183214545249939,-2.7391176223754883,-2.0334057807922363,3.089953660964966,0.42426517605781555,-2.137479782104492,3.074328899383545,-0.022525105625391006,3.492286443710327,-2.3988254070281982,-2.2165322303771973,3.297658681869507,-0.7014643549919128,-5.383687973022461,0.9528953433036804,-4.1956915855407715,1.084092378616333,3.506147623062134,-3.0185036659240723,2.419656753540039,-2.880803346633911,0.04151700437068939,1.657981514930725,0.297660231590271,-0.6010113954544067,-0.4679138660430908,-0.40588808059692383,0.20496132969856262,-2.6447176933288574,-0.2941635847091675,-2.4005839824676514,-0.4097248315811157,0.2837086617946625,1.6383501291275024,-0.7842476963996887,-0.6890594363212585,-1.5482558012008667,3.2645740509033203,-0.8520289063453674,-4.576735496520996],\"yaxis\":\"y\",\"type\":\"scattergl\"},{\"hovertemplate\":\"\\u0412\\u0438\\u0434 \\u041d\\u041f\\u0410=\\u0420\\u0430\\u0441\\u043f\\u043e\\u0440\\u044f\\u0436\\u0435\\u043d\\u0438\\u0435, \\u0440\\u0435\\u0433\\u0438\\u043e\\u043d\\u0430\\u043b\\u044c\\u043d\\u044b\\u0439 \\u0443\\u0440\\u043e\\u0432\\u0435\\u043d\\u044c, \\u0433\\u043b\\u0430\\u0432\\u0430 \\u0438\\u0441\\u043f\\u043e\\u043b\\u043d\\u0438\\u0442\\u0435\\u043b\\u044c\\u043d\\u043e\\u0439 \\u0432\\u043b\\u0430\\u0441\\u0442\\u0438\\u003cbr\\u003e0=%{x}\\u003cbr\\u003e1=%{y}\\u003cextra\\u003e\\u003c\\u002fextra\\u003e\",\"legendgroup\":\"\\u0420\\u0430\\u0441\\u043f\\u043e\\u0440\\u044f\\u0436\\u0435\\u043d\\u0438\\u0435, \\u0440\\u0435\\u0433\\u0438\\u043e\\u043d\\u0430\\u043b\\u044c\\u043d\\u044b\\u0439 \\u0443\\u0440\\u043e\\u0432\\u0435\\u043d\\u044c, \\u0433\\u043b\\u0430\\u0432\\u0430 \\u0438\\u0441\\u043f\\u043e\\u043b\\u043d\\u0438\\u0442\\u0435\\u043b\\u044c\\u043d\\u043e\\u0439 \\u0432\\u043b\\u0430\\u0441\\u0442\\u0438\",\"marker\":{\"color\":\"#00cc96\",\"symbol\":\"circle\"},\"mode\":\"markers\",\"name\":\"\\u0420\\u0430\\u0441\\u043f\\u043e\\u0440\\u044f\\u0436\\u0435\\u043d\\u0438\\u0435, \\u0440\\u0435\\u0433\\u0438\\u043e\\u043d\\u0430\\u043b\\u044c\\u043d\\u044b\\u0439 \\u0443\\u0440\\u043e\\u0432\\u0435\\u043d\\u044c, \\u0433\\u043b\\u0430\\u0432\\u0430 \\u0438\\u0441\\u043f\\u043e\\u043b\\u043d\\u0438\\u0442\\u0435\\u043b\\u044c\\u043d\\u043e\\u0439 \\u0432\\u043b\\u0430\\u0441\\u0442\\u0438\",\"showlegend\":true,\"x\":[2.839603900909424,3.525498151779175,3.7577497959136963,3.7397663593292236,7.501092910766602,1.4924079179763794,3.5230181217193604,-0.5373478531837463,0.8944578766822815,7.254232883453369,1.1843302249908447,-0.5953143239021301,7.418787956237793,3.7328624725341797,-0.6224475502967834,3.6891872882843018,4.233572959899902,1.2652372121810913,3.7519724369049072,1.2731033563613892,0.4118002653121948,8.880317687988281,8.81906509399414,6.820086479187012,3.591193199157715,9.406307220458984,-3.007655143737793,2.307845115661621,3.365779399871826,3.608818292617798,8.91923999786377,3.758977174758911,-0.5638787746429443,4.689652919769287,3.722905397415161,4.4840989112854,3.740722894668579,3.7290687561035156,-0.7234131097793579,3.7497305870056152,1.2078163623809814,0.999840259552002,3.726022243499756,3.7834198474884033,6.764459609985352,3.733393907546997,-0.26179343461990356,3.7500851154327393,3.7716455459594727,0.09751200675964355,3.6583497524261475,-0.5538420677185059,1.0456424951553345,4.521418571472168,3.775035858154297,8.605751991271973,1.0091004371643066,6.783947467803955,3.7842555046081543,3.697427272796631,7.226104259490967,1.6059045791625977,3.728825807571411,1.2409706115722656,3.6734845638275146,-3.022704601287842,1.4002315998077393,0.33169564604759216,3.579221725463867,6.771032810211182,3.759291648864746,3.6518242359161377,0.9963134527206421,3.667466163635254,6.948461532592773,3.746628522872925,4.728497505187988,1.3113632202148438,3.748807907104492,5.9497833251953125,3.827162504196167,4.6270294189453125,3.601043462753296,7.270854949951172,0.35610365867614746,3.7544548511505127,6.8350067138671875,3.6185216903686523,3.765108346939087,6.4442338943481445,2.076917886734009,4.64324426651001,0.07168036699295044,3.6579296588897705],\"xaxis\":\"x\",\"y\":[-5.010708332061768,-6.494845867156982,-6.888595104217529,-6.848573207855225,-3.8334834575653076,-5.339592933654785,-3.2294421195983887,1.0218260288238525,-4.681075096130371,-3.753251791000366,-0.6666775941848755,2.945298910140991,-3.6393239498138428,-6.853108882904053,2.95688533782959,-6.7494730949401855,-0.5837594866752625,-5.469040393829346,-6.453734397888184,-0.7802181839942932,-2.6069185733795166,-2.452636957168579,-2.550147533416748,-1.5174176692962646,-5.982077121734619,-1.3112794160842896,-2.343113422393799,1.5103615522384644,-4.047531604766846,-5.5694403648376465,-2.39376163482666,-6.821483135223389,-1.0284574031829834,-3.0095016956329346,-6.838803768157959,-2.114494800567627,-6.851877212524414,-6.829496383666992,2.7937917709350586,-6.852962970733643,-0.4910113215446472,-5.730565071105957,-6.8637590408325195,-5.575206756591797,-1.536664366722107,-6.721431255340576,0.9213972091674805,-6.817784786224365,-6.794585227966309,2.3150222301483154,-6.768880844116211,-2.9877450466156006,-3.887925148010254,-2.3949332237243652,-6.9082818031311035,-2.539334774017334,1.933437705039978,-1.454384446144104,-6.837115287780762,-6.814363956451416,0.42512133717536926,-0.05436784774065018,-6.827662467956543,-4.918870449066162,-5.480719089508057,-2.2727811336517334,-2.3480489253997803,-5.543213844299316,-6.636120319366455,-1.5521187782287598,-6.855846405029297,-6.747575283050537,0.611497163772583,-6.652726173400879,-1.2849336862564087,-6.830958366394043,-2.0919992923736572,-3.5263094902038574,-6.835597991943359,-3.022113800048828,-5.535507678985596,-2.5190868377685547,-5.354835033416748,-3.384934902191162,-3.3684864044189453,-6.686478614807129,-1.6463948488235474,-5.511605262756348,-6.825429439544678,-0.8219718933105469,1.6947354078292847,-2.4355223178863525,-0.7124221324920654,-5.594974994659424],\"yaxis\":\"y\",\"type\":\"scattergl\"},{\"hovertemplate\":\"\\u0412\\u0438\\u0434 \\u041d\\u041f\\u0410=\\u0417\\u0430\\u043a\\u043e\\u043d, \\u0444\\u0435\\u0434\\u0435\\u0440\\u0430\\u043b\\u044c\\u043d\\u044b\\u0439 \\u0443\\u0440\\u043e\\u0432\\u0435\\u043d\\u044c, \\u0437\\u0430\\u043a\\u043e\\u043d\\u043e\\u0434\\u0430\\u0442\\u0435\\u043b\\u044c\\u043d\\u044b\\u0439 \\u043e\\u0440\\u0433\\u0430\\u043d\\u003cbr\\u003e0=%{x}\\u003cbr\\u003e1=%{y}\\u003cextra\\u003e\\u003c\\u002fextra\\u003e\",\"legendgroup\":\"\\u0417\\u0430\\u043a\\u043e\\u043d, \\u0444\\u0435\\u0434\\u0435\\u0440\\u0430\\u043b\\u044c\\u043d\\u044b\\u0439 \\u0443\\u0440\\u043e\\u0432\\u0435\\u043d\\u044c, \\u0437\\u0430\\u043a\\u043e\\u043d\\u043e\\u0434\\u0430\\u0442\\u0435\\u043b\\u044c\\u043d\\u044b\\u0439 \\u043e\\u0440\\u0433\\u0430\\u043d\",\"marker\":{\"color\":\"#ab63fa\",\"symbol\":\"circle\"},\"mode\":\"markers\",\"name\":\"\\u0417\\u0430\\u043a\\u043e\\u043d, \\u0444\\u0435\\u0434\\u0435\\u0440\\u0430\\u043b\\u044c\\u043d\\u044b\\u0439 \\u0443\\u0440\\u043e\\u0432\\u0435\\u043d\\u044c, \\u0437\\u0430\\u043a\\u043e\\u043d\\u043e\\u0434\\u0430\\u0442\\u0435\\u043b\\u044c\\u043d\\u044b\\u0439 \\u043e\\u0440\\u0433\\u0430\\u043d\",\"showlegend\":true,\"x\":[-4.440863609313965,-5.7095794677734375,-4.769658088684082,-4.709990501403809,-5.041781425476074,-5.453819274902344,-4.817516326904297,-3.232720375061035,-4.512319087982178,-4.819304466247559,-4.778929233551025,-4.92913818359375,-4.472269058227539,-4.285880088806152,-3.4129018783569336,-6.9956793785095215,-5.361781597137451,-5.3413004875183105,-5.397383213043213,-4.0645904541015625,-4.919515132904053,-5.213898181915283,-3.846088171005249,-5.47054386138916,-5.186710834503174,-4.581323623657227,-3.8977997303009033,-1.7975670099258423,-5.387704849243164,-5.214798450469971,-4.2975335121154785,-4.8975396156311035,-4.783069610595703,-3.7961432933807373,-4.297943115234375,-2.3376872539520264,-5.825050354003906,-5.317514419555664,-4.573555946350098,-4.973323345184326,-4.582500457763672,-8.052227973937988,-5.357675552368164,-3.3749377727508545,-6.498673439025879,-4.7424750328063965,-9.38443660736084,-4.852778911590576,-3.8186678886413574,-3.005915641784668,-4.551293849945068,-4.931113243103027,-4.437150955200195,-5.829622745513916,-4.566511631011963,-4.270281791687012,-5.072524547576904,-4.0446343421936035,-4.065473556518555,-4.4690842628479,-5.502588272094727,-2.8759238719940186,-4.597618579864502,-5.147928237915039,-5.332840442657471,-4.700560092926025,-3.730111837387085,-4.416048049926758,-4.772325038909912,-5.0711774826049805,-3.8520069122314453,-4.21326208114624,-4.75933837890625,-5.189088821411133,-5.077815055847168,-5.489902973175049,-4.516684532165527,-3.7227134704589844,-4.046267509460449,-3.7463769912719727,-4.114792823791504,-3.7863471508026123,-4.602285861968994,-5.1685943603515625,-6.429656028747559],\"xaxis\":\"x\",\"y\":[2.32692813873291,1.4408049583435059,0.15446726977825165,-1.1430625915527344,-1.1035336256027222,-0.043154627084732056,0.30311763286590576,0.16482265293598175,-0.016731146723031998,0.8733987808227539,-0.7419025301933289,-0.5314422249794006,-0.7263988852500916,-0.18561553955078125,0.19947585463523865,1.3560802936553955,-0.6012325286865234,-1.0226327180862427,0.314089298248291,-0.2674647569656372,-0.9448254108428955,-1.1915096044540405,-0.830829918384552,-0.5175129175186157,-1.0016975402832031,-1.0378035306930542,0.2651040256023407,0.4274643063545227,-1.547501802444458,-1.4266215562820435,-1.0795320272445679,-1.4020947217941284,-0.16304154694080353,2.2729222774505615,-0.2862151861190796,3.306499481201172,-0.7271890640258789,-1.1270383596420288,0.8255090713500977,-0.1454164981842041,-0.9336590766906738,1.8442672491073608,-1.0756487846374512,0.285775750875473,2.169410467147827,0.14326302707195282,3.935743808746338,-0.42962580919265747,-0.21341028809547424,-0.18332844972610474,-0.4169863164424896,-0.7482300400733948,0.12835271656513214,-0.5905430316925049,-0.7354400157928467,-0.45636582374572754,-1.1188480854034424,-0.012785948812961578,0.4462219178676605,-1.9059513807296753,0.36688828468322754,0.6952687501907349,-0.7147431969642639,-1.3038549423217773,-1.0593249797821045,-0.3164394199848175,-0.6956321001052856,-1.2729015350341797,0.09656213968992233,-1.069045066833496,-0.7152518033981323,-0.5938500165939331,0.189742773771286,-1.3911030292510986,-1.3162782192230225,-0.3680236041545868,-1.1345237493515015,-0.34081166982650757,-0.8431078195571899,2.5468080043792725,0.14071881771087646,-0.7698668241500854,-0.7233551740646362,-1.1959340572357178,2.083219051361084],\"yaxis\":\"y\",\"type\":\"scattergl\"},{\"hovertemplate\":\"\\u0412\\u0438\\u0434 \\u041d\\u041f\\u0410=\\u0423\\u043a\\u0430\\u0437, \\u0440\\u0435\\u0433\\u0438\\u043e\\u043d\\u0430\\u043b\\u044c\\u043d\\u044b\\u0439 \\u0443\\u0440\\u043e\\u0432\\u0435\\u043d\\u044c, \\u0433\\u043b\\u0430\\u0432\\u0430 \\u0438\\u0441\\u043f\\u043e\\u043b\\u043d\\u0438\\u0442\\u0435\\u043b\\u044c\\u043d\\u043e\\u0439 \\u0432\\u043b\\u0430\\u0441\\u0442\\u0438\\u003cbr\\u003e0=%{x}\\u003cbr\\u003e1=%{y}\\u003cextra\\u003e\\u003c\\u002fextra\\u003e\",\"legendgroup\":\"\\u0423\\u043a\\u0430\\u0437, \\u0440\\u0435\\u0433\\u0438\\u043e\\u043d\\u0430\\u043b\\u044c\\u043d\\u044b\\u0439 \\u0443\\u0440\\u043e\\u0432\\u0435\\u043d\\u044c, \\u0433\\u043b\\u0430\\u0432\\u0430 \\u0438\\u0441\\u043f\\u043e\\u043b\\u043d\\u0438\\u0442\\u0435\\u043b\\u044c\\u043d\\u043e\\u0439 \\u0432\\u043b\\u0430\\u0441\\u0442\\u0438\",\"marker\":{\"color\":\"#FFA15A\",\"symbol\":\"circle\"},\"mode\":\"markers\",\"name\":\"\\u0423\\u043a\\u0430\\u0437, \\u0440\\u0435\\u0433\\u0438\\u043e\\u043d\\u0430\\u043b\\u044c\\u043d\\u044b\\u0439 \\u0443\\u0440\\u043e\\u0432\\u0435\\u043d\\u044c, \\u0433\\u043b\\u0430\\u0432\\u0430 \\u0438\\u0441\\u043f\\u043e\\u043b\\u043d\\u0438\\u0442\\u0435\\u043b\\u044c\\u043d\\u043e\\u0439 \\u0432\\u043b\\u0430\\u0441\\u0442\\u0438\",\"showlegend\":true,\"x\":[8.672304153442383,4.734673500061035,1.8497259616851807,3.787816047668457,8.317054748535156,8.976863861083984,0.76524817943573,8.547119140625,8.779019355773926,8.792177200317383,6.743401527404785,4.738234043121338,1.9002599716186523,7.016534805297852,6.691295146942139,4.277815818786621,8.521467208862305,4.14080286026001,8.770736694335938,6.55067777633667,0.6486914157867432,8.995809555053711,4.853310585021973,8.760734558105469,0.18166455626487732,7.2001166343688965,1.0712361335754395,1.393673300743103,8.87475872039795,6.97628116607666,3.907925605773926,2.9699811935424805,1.2588204145431519,8.871499061584473,4.628448963165283,4.583178520202637,3.6250154972076416,8.599279403686523,2.0280826091766357,8.103669166564941,0.8512669205665588,0.7534299492835999,6.738311290740967,-0.8272910714149475,8.347790718078613,-3.0182089805603027,1.5715749263763428,0.3566150665283203,0.8052123188972473,-0.46042901277542114,1.767884612083435,2.5855655670166016,8.468916893005371,8.759864807128906,2.7273755073547363,1.5477330684661865,-1.088318109512329,4.609925746917725,3.46178936958313,-1.5187479257583618,8.432268142700195,4.637174606323242,-0.5682905912399292,7.48357629776001,4.745914936065674,9.068791389465332,1.993245005607605,-0.9901554584503174,8.892565727233887,4.04557991027832,0.7616879940032959,-0.9551562666893005,9.027334213256836,2.061899423599243,2.989945888519287,4.628672122955322,4.298473358154297,1.9495441913604736,1.4407652616500854,8.971692085266113,1.640299677848816,4.781190395355225,4.87338924407959,8.672069549560547,1.801018476486206,4.4017534255981445,9.006977081298828,-4.073930740356445,0.5115582346916199,4.7955098152160645,8.711272239685059,-0.6113966107368469,6.442965984344482,1.615633487701416,6.736849784851074,3.959562063217163,7.416895866394043,9.072718620300293,1.2886353731155396],\"xaxis\":\"x\",\"y\":[-3.5455684661865234,-3.198942184448242,-5.97097635269165,-5.820499420166016,-3.1510932445526123,-2.4043662548065186,-3.029191017150879,-3.634510040283203,-2.873244285583496,-2.72717547416687,-4.143058776855469,-2.207256555557251,-5.190268039703369,-1.9532217979431152,-4.146335601806641,-2.8593766689300537,-2.9339330196380615,-1.55319344997406,-2.761366367340088,-0.9048731923103333,-2.2945055961608887,-2.5507538318634033,-3.161733388900757,-2.937645435333252,-1.7190167903900146,-1.7842462062835693,-5.225712776184082,-2.6942315101623535,-2.7559258937835693,-1.9619961977005005,-4.217591285705566,-3.0776469707489014,-1.2854646444320679,-3.0283010005950928,-2.9279699325561523,-2.4236936569213867,-6.590236663818359,-3.2265524864196777,-4.00189208984375,-3.15177059173584,-1.8633121252059937,-4.7066650390625,-4.161725997924805,0.333082377910614,-3.141643524169922,-2.722292184829712,-4.814304351806641,-4.499727725982666,-2.251699447631836,-1.9921818971633911,0.7059959173202515,-2.7278354167938232,-3.612201452255249,-2.7064483165740967,0.24907046556472778,-1.8521357774734497,-0.9648522734642029,2.680138349533081,-3.2580716609954834,0.2746572196483612,-2.933486223220825,-3.422975778579712,-1.022526502609253,-3.5431625843048096,-3.281275510787964,-2.4100341796875,-5.4862871170043945,-1.8216853141784668,-2.8100600242614746,-1.419508695602417,-2.622288227081299,-0.19974949955940247,-2.959181308746338,-5.480018615722656,0.20591235160827637,-3.279478073120117,-3.454313039779663,-5.135987758636475,-2.8081421852111816,-3.0257322788238525,-4.701447010040283,-2.935697317123413,-2.306583881378174,-3.5442380905151367,-5.5634541511535645,-0.9765074849128723,-2.3882622718811035,-2.541205406188965,-0.5514476895332336,-2.847567319869995,-3.107675075531006,-2.660902976989746,-1.3619771003723145,-4.501954555511475,-1.6715669631958008,-0.20310965180397034,-1.7963942289352417,-2.3586373329162598,-1.0767298936843872],\"yaxis\":\"y\",\"type\":\"scattergl\"}],                        {\"template\":{\"data\":{\"histogram2dcontour\":[{\"type\":\"histogram2dcontour\",\"colorbar\":{\"outlinewidth\":0,\"ticks\":\"\"},\"colorscale\":[[0.0,\"#0d0887\"],[0.1111111111111111,\"#46039f\"],[0.2222222222222222,\"#7201a8\"],[0.3333333333333333,\"#9c179e\"],[0.4444444444444444,\"#bd3786\"],[0.5555555555555556,\"#d8576b\"],[0.6666666666666666,\"#ed7953\"],[0.7777777777777778,\"#fb9f3a\"],[0.8888888888888888,\"#fdca26\"],[1.0,\"#f0f921\"]]}],\"choropleth\":[{\"type\":\"choropleth\",\"colorbar\":{\"outlinewidth\":0,\"ticks\":\"\"}}],\"histogram2d\":[{\"type\":\"histogram2d\",\"colorbar\":{\"outlinewidth\":0,\"ticks\":\"\"},\"colorscale\":[[0.0,\"#0d0887\"],[0.1111111111111111,\"#46039f\"],[0.2222222222222222,\"#7201a8\"],[0.3333333333333333,\"#9c179e\"],[0.4444444444444444,\"#bd3786\"],[0.5555555555555556,\"#d8576b\"],[0.6666666666666666,\"#ed7953\"],[0.7777777777777778,\"#fb9f3a\"],[0.8888888888888888,\"#fdca26\"],[1.0,\"#f0f921\"]]}],\"heatmap\":[{\"type\":\"heatmap\",\"colorbar\":{\"outlinewidth\":0,\"ticks\":\"\"},\"colorscale\":[[0.0,\"#0d0887\"],[0.1111111111111111,\"#46039f\"],[0.2222222222222222,\"#7201a8\"],[0.3333333333333333,\"#9c179e\"],[0.4444444444444444,\"#bd3786\"],[0.5555555555555556,\"#d8576b\"],[0.6666666666666666,\"#ed7953\"],[0.7777777777777778,\"#fb9f3a\"],[0.8888888888888888,\"#fdca26\"],[1.0,\"#f0f921\"]]}],\"heatmapgl\":[{\"type\":\"heatmapgl\",\"colorbar\":{\"outlinewidth\":0,\"ticks\":\"\"},\"colorscale\":[[0.0,\"#0d0887\"],[0.1111111111111111,\"#46039f\"],[0.2222222222222222,\"#7201a8\"],[0.3333333333333333,\"#9c179e\"],[0.4444444444444444,\"#bd3786\"],[0.5555555555555556,\"#d8576b\"],[0.6666666666666666,\"#ed7953\"],[0.7777777777777778,\"#fb9f3a\"],[0.8888888888888888,\"#fdca26\"],[1.0,\"#f0f921\"]]}],\"contourcarpet\":[{\"type\":\"contourcarpet\",\"colorbar\":{\"outlinewidth\":0,\"ticks\":\"\"}}],\"contour\":[{\"type\":\"contour\",\"colorbar\":{\"outlinewidth\":0,\"ticks\":\"\"},\"colorscale\":[[0.0,\"#0d0887\"],[0.1111111111111111,\"#46039f\"],[0.2222222222222222,\"#7201a8\"],[0.3333333333333333,\"#9c179e\"],[0.4444444444444444,\"#bd3786\"],[0.5555555555555556,\"#d8576b\"],[0.6666666666666666,\"#ed7953\"],[0.7777777777777778,\"#fb9f3a\"],[0.8888888888888888,\"#fdca26\"],[1.0,\"#f0f921\"]]}],\"surface\":[{\"type\":\"surface\",\"colorbar\":{\"outlinewidth\":0,\"ticks\":\"\"},\"colorscale\":[[0.0,\"#0d0887\"],[0.1111111111111111,\"#46039f\"],[0.2222222222222222,\"#7201a8\"],[0.3333333333333333,\"#9c179e\"],[0.4444444444444444,\"#bd3786\"],[0.5555555555555556,\"#d8576b\"],[0.6666666666666666,\"#ed7953\"],[0.7777777777777778,\"#fb9f3a\"],[0.8888888888888888,\"#fdca26\"],[1.0,\"#f0f921\"]]}],\"mesh3d\":[{\"type\":\"mesh3d\",\"colorbar\":{\"outlinewidth\":0,\"ticks\":\"\"}}],\"scatter\":[{\"fillpattern\":{\"fillmode\":\"overlay\",\"size\":10,\"solidity\":0.2},\"type\":\"scatter\"}],\"parcoords\":[{\"type\":\"parcoords\",\"line\":{\"colorbar\":{\"outlinewidth\":0,\"ticks\":\"\"}}}],\"scatterpolargl\":[{\"type\":\"scatterpolargl\",\"marker\":{\"colorbar\":{\"outlinewidth\":0,\"ticks\":\"\"}}}],\"bar\":[{\"error_x\":{\"color\":\"#2a3f5f\"},\"error_y\":{\"color\":\"#2a3f5f\"},\"marker\":{\"line\":{\"color\":\"#E5ECF6\",\"width\":0.5},\"pattern\":{\"fillmode\":\"overlay\",\"size\":10,\"solidity\":0.2}},\"type\":\"bar\"}],\"scattergeo\":[{\"type\":\"scattergeo\",\"marker\":{\"colorbar\":{\"outlinewidth\":0,\"ticks\":\"\"}}}],\"scatterpolar\":[{\"type\":\"scatterpolar\",\"marker\":{\"colorbar\":{\"outlinewidth\":0,\"ticks\":\"\"}}}],\"histogram\":[{\"marker\":{\"pattern\":{\"fillmode\":\"overlay\",\"size\":10,\"solidity\":0.2}},\"type\":\"histogram\"}],\"scattergl\":[{\"type\":\"scattergl\",\"marker\":{\"colorbar\":{\"outlinewidth\":0,\"ticks\":\"\"}}}],\"scatter3d\":[{\"type\":\"scatter3d\",\"line\":{\"colorbar\":{\"outlinewidth\":0,\"ticks\":\"\"}},\"marker\":{\"colorbar\":{\"outlinewidth\":0,\"ticks\":\"\"}}}],\"scattermapbox\":[{\"type\":\"scattermapbox\",\"marker\":{\"colorbar\":{\"outlinewidth\":0,\"ticks\":\"\"}}}],\"scatterternary\":[{\"type\":\"scatterternary\",\"marker\":{\"colorbar\":{\"outlinewidth\":0,\"ticks\":\"\"}}}],\"scattercarpet\":[{\"type\":\"scattercarpet\",\"marker\":{\"colorbar\":{\"outlinewidth\":0,\"ticks\":\"\"}}}],\"carpet\":[{\"aaxis\":{\"endlinecolor\":\"#2a3f5f\",\"gridcolor\":\"white\",\"linecolor\":\"white\",\"minorgridcolor\":\"white\",\"startlinecolor\":\"#2a3f5f\"},\"baxis\":{\"endlinecolor\":\"#2a3f5f\",\"gridcolor\":\"white\",\"linecolor\":\"white\",\"minorgridcolor\":\"white\",\"startlinecolor\":\"#2a3f5f\"},\"type\":\"carpet\"}],\"table\":[{\"cells\":{\"fill\":{\"color\":\"#EBF0F8\"},\"line\":{\"color\":\"white\"}},\"header\":{\"fill\":{\"color\":\"#C8D4E3\"},\"line\":{\"color\":\"white\"}},\"type\":\"table\"}],\"barpolar\":[{\"marker\":{\"line\":{\"color\":\"#E5ECF6\",\"width\":0.5},\"pattern\":{\"fillmode\":\"overlay\",\"size\":10,\"solidity\":0.2}},\"type\":\"barpolar\"}],\"pie\":[{\"automargin\":true,\"type\":\"pie\"}]},\"layout\":{\"autotypenumbers\":\"strict\",\"colorway\":[\"#636efa\",\"#EF553B\",\"#00cc96\",\"#ab63fa\",\"#FFA15A\",\"#19d3f3\",\"#FF6692\",\"#B6E880\",\"#FF97FF\",\"#FECB52\"],\"font\":{\"color\":\"#2a3f5f\"},\"hovermode\":\"closest\",\"hoverlabel\":{\"align\":\"left\"},\"paper_bgcolor\":\"white\",\"plot_bgcolor\":\"#E5ECF6\",\"polar\":{\"bgcolor\":\"#E5ECF6\",\"angularaxis\":{\"gridcolor\":\"white\",\"linecolor\":\"white\",\"ticks\":\"\"},\"radialaxis\":{\"gridcolor\":\"white\",\"linecolor\":\"white\",\"ticks\":\"\"}},\"ternary\":{\"bgcolor\":\"#E5ECF6\",\"aaxis\":{\"gridcolor\":\"white\",\"linecolor\":\"white\",\"ticks\":\"\"},\"baxis\":{\"gridcolor\":\"white\",\"linecolor\":\"white\",\"ticks\":\"\"},\"caxis\":{\"gridcolor\":\"white\",\"linecolor\":\"white\",\"ticks\":\"\"}},\"coloraxis\":{\"colorbar\":{\"outlinewidth\":0,\"ticks\":\"\"}},\"colorscale\":{\"sequential\":[[0.0,\"#0d0887\"],[0.1111111111111111,\"#46039f\"],[0.2222222222222222,\"#7201a8\"],[0.3333333333333333,\"#9c179e\"],[0.4444444444444444,\"#bd3786\"],[0.5555555555555556,\"#d8576b\"],[0.6666666666666666,\"#ed7953\"],[0.7777777777777778,\"#fb9f3a\"],[0.8888888888888888,\"#fdca26\"],[1.0,\"#f0f921\"]],\"sequentialminus\":[[0.0,\"#0d0887\"],[0.1111111111111111,\"#46039f\"],[0.2222222222222222,\"#7201a8\"],[0.3333333333333333,\"#9c179e\"],[0.4444444444444444,\"#bd3786\"],[0.5555555555555556,\"#d8576b\"],[0.6666666666666666,\"#ed7953\"],[0.7777777777777778,\"#fb9f3a\"],[0.8888888888888888,\"#fdca26\"],[1.0,\"#f0f921\"]],\"diverging\":[[0,\"#8e0152\"],[0.1,\"#c51b7d\"],[0.2,\"#de77ae\"],[0.3,\"#f1b6da\"],[0.4,\"#fde0ef\"],[0.5,\"#f7f7f7\"],[0.6,\"#e6f5d0\"],[0.7,\"#b8e186\"],[0.8,\"#7fbc41\"],[0.9,\"#4d9221\"],[1,\"#276419\"]]},\"xaxis\":{\"gridcolor\":\"white\",\"linecolor\":\"white\",\"ticks\":\"\",\"title\":{\"standoff\":15},\"zerolinecolor\":\"white\",\"automargin\":true,\"zerolinewidth\":2},\"yaxis\":{\"gridcolor\":\"white\",\"linecolor\":\"white\",\"ticks\":\"\",\"title\":{\"standoff\":15},\"zerolinecolor\":\"white\",\"automargin\":true,\"zerolinewidth\":2},\"scene\":{\"xaxis\":{\"backgroundcolor\":\"#E5ECF6\",\"gridcolor\":\"white\",\"linecolor\":\"white\",\"showbackground\":true,\"ticks\":\"\",\"zerolinecolor\":\"white\",\"gridwidth\":2},\"yaxis\":{\"backgroundcolor\":\"#E5ECF6\",\"gridcolor\":\"white\",\"linecolor\":\"white\",\"showbackground\":true,\"ticks\":\"\",\"zerolinecolor\":\"white\",\"gridwidth\":2},\"zaxis\":{\"backgroundcolor\":\"#E5ECF6\",\"gridcolor\":\"white\",\"linecolor\":\"white\",\"showbackground\":true,\"ticks\":\"\",\"zerolinecolor\":\"white\",\"gridwidth\":2}},\"shapedefaults\":{\"line\":{\"color\":\"#2a3f5f\"}},\"annotationdefaults\":{\"arrowcolor\":\"#2a3f5f\",\"arrowhead\":0,\"arrowwidth\":1},\"geo\":{\"bgcolor\":\"white\",\"landcolor\":\"#E5ECF6\",\"subunitcolor\":\"white\",\"showland\":true,\"showlakes\":true,\"lakecolor\":\"white\"},\"title\":{\"x\":0.05},\"mapbox\":{\"style\":\"light\"}}},\"xaxis\":{\"anchor\":\"y\",\"domain\":[0.0,1.0],\"title\":{\"text\":\"0\"}},\"yaxis\":{\"anchor\":\"x\",\"domain\":[0.0,1.0],\"title\":{\"text\":\"1\"}},\"legend\":{\"title\":{\"text\":\"\\u0412\\u0438\\u0434 \\u041d\\u041f\\u0410\"},\"tracegroupgap\":0},\"margin\":{\"t\":60}},                        {\"responsive\": true}                    ).then(function(){\n",
              "                            \n",
              "var gd = document.getElementById('cdacada0-6812-48c1-9170-38d65fa0398b');\n",
              "var x = new MutationObserver(function (mutations, observer) {{\n",
              "        var display = window.getComputedStyle(gd).display;\n",
              "        if (!display || display === 'none') {{\n",
              "            console.log([gd, 'removed!']);\n",
              "            Plotly.purge(gd);\n",
              "            observer.disconnect();\n",
              "        }}\n",
              "}});\n",
              "\n",
              "// Listen for the removal of the full notebook cells\n",
              "var notebookContainer = gd.closest('#notebook-container');\n",
              "if (notebookContainer) {{\n",
              "    x.observe(notebookContainer, {childList: true});\n",
              "}}\n",
              "\n",
              "// Listen for the clearing of the current output cell\n",
              "var outputEl = gd.closest('.output');\n",
              "if (outputEl) {{\n",
              "    x.observe(outputEl, {childList: true});\n",
              "}}\n",
              "\n",
              "                        })                };                            </script>        </div>\n",
              "</body>\n",
              "</html>"
            ]
          },
          "metadata": {}
        }
      ]
    },
    {
      "cell_type": "code",
      "source": [
        "X_train, X_test, y_train, y_test = train_test_split(df_w2v['w2v_simple'], df_w2v['doc_name'], test_size=0.2, random_state=42)\n",
        "X_train = np.vstack(X_train)\n",
        "X_test = np.vstack(X_test)"
      ],
      "metadata": {
        "id": "IQCNb8YXyG97"
      },
      "execution_count": null,
      "outputs": []
    },
    {
      "cell_type": "code",
      "source": [
        "lr_ppl_clf = Pipeline([\n",
        "\n",
        "    ('lr_clf', LogisticRegression(random_state=42))\n",
        "])\n",
        "\n",
        "parameters = {\n",
        "              'lr_clf__solver':['lbfgs', 'newton-cg', 'sag', 'saga'],\n",
        "              'lr_clf__class_weight':[None, 'balanced'],\n",
        "              'lr_clf__penalty':[None, 'l2', 'l1', 'elasticnet'],\n",
        "              }\n",
        "\n",
        "model = GridSearchCV(lr_ppl_clf, parameters, cv=4, n_jobs=-1).fit(X_train[:2000], y_train[:2000])\n",
        "print('Best score and parameter combination:')\n",
        "print(model.best_score_, model.best_params_)"
      ],
      "metadata": {
        "colab": {
          "base_uri": "https://localhost:8080/"
        },
        "id": "e2lei6lBJt68",
        "outputId": "43e0f315-e655-4f68-ff85-3bb2eeab4909"
      },
      "execution_count": null,
      "outputs": [
        {
          "output_type": "stream",
          "name": "stderr",
          "text": [
            "/usr/local/lib/python3.10/dist-packages/sklearn/model_selection/_validation.py:378: FitFailedWarning:\n",
            "\n",
            "\n",
            "56 fits failed out of a total of 128.\n",
            "The score on these train-test partitions for these parameters will be set to nan.\n",
            "If these failures are not expected, you can try to debug them by setting error_score='raise'.\n",
            "\n",
            "Below are more details about the failures:\n",
            "--------------------------------------------------------------------------------\n",
            "8 fits failed with the following error:\n",
            "Traceback (most recent call last):\n",
            "  File \"/usr/local/lib/python3.10/dist-packages/sklearn/model_selection/_validation.py\", line 686, in _fit_and_score\n",
            "    estimator.fit(X_train, y_train, **fit_params)\n",
            "  File \"/usr/local/lib/python3.10/dist-packages/sklearn/pipeline.py\", line 405, in fit\n",
            "    self._final_estimator.fit(Xt, y, **fit_params_last_step)\n",
            "  File \"/usr/local/lib/python3.10/dist-packages/sklearn/linear_model/_logistic.py\", line 1162, in fit\n",
            "    solver = _check_solver(self.solver, self.penalty, self.dual)\n",
            "  File \"/usr/local/lib/python3.10/dist-packages/sklearn/linear_model/_logistic.py\", line 54, in _check_solver\n",
            "    raise ValueError(\n",
            "ValueError: Solver lbfgs supports only 'l2' or 'none' penalties, got l1 penalty.\n",
            "\n",
            "--------------------------------------------------------------------------------\n",
            "8 fits failed with the following error:\n",
            "Traceback (most recent call last):\n",
            "  File \"/usr/local/lib/python3.10/dist-packages/sklearn/model_selection/_validation.py\", line 686, in _fit_and_score\n",
            "    estimator.fit(X_train, y_train, **fit_params)\n",
            "  File \"/usr/local/lib/python3.10/dist-packages/sklearn/pipeline.py\", line 405, in fit\n",
            "    self._final_estimator.fit(Xt, y, **fit_params_last_step)\n",
            "  File \"/usr/local/lib/python3.10/dist-packages/sklearn/linear_model/_logistic.py\", line 1162, in fit\n",
            "    solver = _check_solver(self.solver, self.penalty, self.dual)\n",
            "  File \"/usr/local/lib/python3.10/dist-packages/sklearn/linear_model/_logistic.py\", line 54, in _check_solver\n",
            "    raise ValueError(\n",
            "ValueError: Solver newton-cg supports only 'l2' or 'none' penalties, got l1 penalty.\n",
            "\n",
            "--------------------------------------------------------------------------------\n",
            "8 fits failed with the following error:\n",
            "Traceback (most recent call last):\n",
            "  File \"/usr/local/lib/python3.10/dist-packages/sklearn/model_selection/_validation.py\", line 686, in _fit_and_score\n",
            "    estimator.fit(X_train, y_train, **fit_params)\n",
            "  File \"/usr/local/lib/python3.10/dist-packages/sklearn/pipeline.py\", line 405, in fit\n",
            "    self._final_estimator.fit(Xt, y, **fit_params_last_step)\n",
            "  File \"/usr/local/lib/python3.10/dist-packages/sklearn/linear_model/_logistic.py\", line 1162, in fit\n",
            "    solver = _check_solver(self.solver, self.penalty, self.dual)\n",
            "  File \"/usr/local/lib/python3.10/dist-packages/sklearn/linear_model/_logistic.py\", line 54, in _check_solver\n",
            "    raise ValueError(\n",
            "ValueError: Solver sag supports only 'l2' or 'none' penalties, got l1 penalty.\n",
            "\n",
            "--------------------------------------------------------------------------------\n",
            "8 fits failed with the following error:\n",
            "Traceback (most recent call last):\n",
            "  File \"/usr/local/lib/python3.10/dist-packages/sklearn/model_selection/_validation.py\", line 686, in _fit_and_score\n",
            "    estimator.fit(X_train, y_train, **fit_params)\n",
            "  File \"/usr/local/lib/python3.10/dist-packages/sklearn/pipeline.py\", line 405, in fit\n",
            "    self._final_estimator.fit(Xt, y, **fit_params_last_step)\n",
            "  File \"/usr/local/lib/python3.10/dist-packages/sklearn/linear_model/_logistic.py\", line 1162, in fit\n",
            "    solver = _check_solver(self.solver, self.penalty, self.dual)\n",
            "  File \"/usr/local/lib/python3.10/dist-packages/sklearn/linear_model/_logistic.py\", line 54, in _check_solver\n",
            "    raise ValueError(\n",
            "ValueError: Solver lbfgs supports only 'l2' or 'none' penalties, got elasticnet penalty.\n",
            "\n",
            "--------------------------------------------------------------------------------\n",
            "8 fits failed with the following error:\n",
            "Traceback (most recent call last):\n",
            "  File \"/usr/local/lib/python3.10/dist-packages/sklearn/model_selection/_validation.py\", line 686, in _fit_and_score\n",
            "    estimator.fit(X_train, y_train, **fit_params)\n",
            "  File \"/usr/local/lib/python3.10/dist-packages/sklearn/pipeline.py\", line 405, in fit\n",
            "    self._final_estimator.fit(Xt, y, **fit_params_last_step)\n",
            "  File \"/usr/local/lib/python3.10/dist-packages/sklearn/linear_model/_logistic.py\", line 1162, in fit\n",
            "    solver = _check_solver(self.solver, self.penalty, self.dual)\n",
            "  File \"/usr/local/lib/python3.10/dist-packages/sklearn/linear_model/_logistic.py\", line 54, in _check_solver\n",
            "    raise ValueError(\n",
            "ValueError: Solver newton-cg supports only 'l2' or 'none' penalties, got elasticnet penalty.\n",
            "\n",
            "--------------------------------------------------------------------------------\n",
            "8 fits failed with the following error:\n",
            "Traceback (most recent call last):\n",
            "  File \"/usr/local/lib/python3.10/dist-packages/sklearn/model_selection/_validation.py\", line 686, in _fit_and_score\n",
            "    estimator.fit(X_train, y_train, **fit_params)\n",
            "  File \"/usr/local/lib/python3.10/dist-packages/sklearn/pipeline.py\", line 405, in fit\n",
            "    self._final_estimator.fit(Xt, y, **fit_params_last_step)\n",
            "  File \"/usr/local/lib/python3.10/dist-packages/sklearn/linear_model/_logistic.py\", line 1162, in fit\n",
            "    solver = _check_solver(self.solver, self.penalty, self.dual)\n",
            "  File \"/usr/local/lib/python3.10/dist-packages/sklearn/linear_model/_logistic.py\", line 54, in _check_solver\n",
            "    raise ValueError(\n",
            "ValueError: Solver sag supports only 'l2' or 'none' penalties, got elasticnet penalty.\n",
            "\n",
            "--------------------------------------------------------------------------------\n",
            "8 fits failed with the following error:\n",
            "Traceback (most recent call last):\n",
            "  File \"/usr/local/lib/python3.10/dist-packages/sklearn/model_selection/_validation.py\", line 686, in _fit_and_score\n",
            "    estimator.fit(X_train, y_train, **fit_params)\n",
            "  File \"/usr/local/lib/python3.10/dist-packages/sklearn/pipeline.py\", line 405, in fit\n",
            "    self._final_estimator.fit(Xt, y, **fit_params_last_step)\n",
            "  File \"/usr/local/lib/python3.10/dist-packages/sklearn/linear_model/_logistic.py\", line 1291, in fit\n",
            "    fold_coefs_ = Parallel(n_jobs=self.n_jobs, verbose=self.verbose, prefer=prefer)(\n",
            "  File \"/usr/local/lib/python3.10/dist-packages/sklearn/utils/parallel.py\", line 63, in __call__\n",
            "    return super().__call__(iterable_with_config)\n",
            "  File \"/usr/local/lib/python3.10/dist-packages/joblib/parallel.py\", line 1863, in __call__\n",
            "    return output if self.return_generator else list(output)\n",
            "  File \"/usr/local/lib/python3.10/dist-packages/joblib/parallel.py\", line 1792, in _get_sequential_output\n",
            "    res = func(*args, **kwargs)\n",
            "  File \"/usr/local/lib/python3.10/dist-packages/sklearn/utils/parallel.py\", line 123, in __call__\n",
            "    return self.function(*args, **kwargs)\n",
            "  File \"/usr/local/lib/python3.10/dist-packages/sklearn/linear_model/_logistic.py\", line 521, in _logistic_regression_path\n",
            "    alpha = (1.0 / C) * (1 - l1_ratio)\n",
            "TypeError: unsupported operand type(s) for -: 'int' and 'NoneType'\n",
            "\n",
            "\n",
            "/usr/local/lib/python3.10/dist-packages/sklearn/model_selection/_search.py:952: UserWarning:\n",
            "\n",
            "One or more of the test scores are non-finite: [0.7135 0.6665 0.721  0.7245 0.73   0.729  0.73   0.73      nan    nan\n",
            "    nan 0.718     nan    nan    nan    nan 0.7115 0.665  0.7205 0.7245\n",
            " 0.73   0.728  0.7275 0.728     nan    nan    nan 0.7175    nan    nan\n",
            "    nan    nan]\n",
            "\n"
          ]
        },
        {
          "output_type": "stream",
          "name": "stdout",
          "text": [
            "Best score and parameter combination:\n",
            "0.73 {'lr_clf__class_weight': None, 'lr_clf__penalty': 'l2', 'lr_clf__solver': 'lbfgs'}\n"
          ]
        },
        {
          "output_type": "stream",
          "name": "stderr",
          "text": [
            "/usr/local/lib/python3.10/dist-packages/sklearn/linear_model/_logistic.py:458: ConvergenceWarning:\n",
            "\n",
            "lbfgs failed to converge (status=1):\n",
            "STOP: TOTAL NO. of ITERATIONS REACHED LIMIT.\n",
            "\n",
            "Increase the number of iterations (max_iter) or scale the data as shown in:\n",
            "    https://scikit-learn.org/stable/modules/preprocessing.html\n",
            "Please also refer to the documentation for alternative solver options:\n",
            "    https://scikit-learn.org/stable/modules/linear_model.html#logistic-regression\n",
            "\n"
          ]
        }
      ]
    },
    {
      "cell_type": "code",
      "source": [
        "lr_ppl_clf = Pipeline([\n",
        "\n",
        "    ('lr_clf', LogisticRegression(solver='lbfgs',penalty='l2', class_weight=None, random_state=42))\n",
        "])\n",
        "lr_ppl_clf.fit(X_train, y_train)"
      ],
      "metadata": {
        "colab": {
          "base_uri": "https://localhost:8080/",
          "height": 264
        },
        "id": "XCvVH723KEtu",
        "outputId": "6e822409-ef67-4313-a09b-25fd3fcd7c63"
      },
      "execution_count": null,
      "outputs": [
        {
          "output_type": "stream",
          "name": "stderr",
          "text": [
            "/usr/local/lib/python3.10/dist-packages/sklearn/linear_model/_logistic.py:458: ConvergenceWarning:\n",
            "\n",
            "lbfgs failed to converge (status=1):\n",
            "STOP: TOTAL NO. of ITERATIONS REACHED LIMIT.\n",
            "\n",
            "Increase the number of iterations (max_iter) or scale the data as shown in:\n",
            "    https://scikit-learn.org/stable/modules/preprocessing.html\n",
            "Please also refer to the documentation for alternative solver options:\n",
            "    https://scikit-learn.org/stable/modules/linear_model.html#logistic-regression\n",
            "\n"
          ]
        },
        {
          "output_type": "execute_result",
          "data": {
            "text/plain": [
              "Pipeline(steps=[('lr_clf', LogisticRegression(random_state=42))])"
            ],
            "text/html": [
              "<style>#sk-container-id-3 {color: black;background-color: white;}#sk-container-id-3 pre{padding: 0;}#sk-container-id-3 div.sk-toggleable {background-color: white;}#sk-container-id-3 label.sk-toggleable__label {cursor: pointer;display: block;width: 100%;margin-bottom: 0;padding: 0.3em;box-sizing: border-box;text-align: center;}#sk-container-id-3 label.sk-toggleable__label-arrow:before {content: \"▸\";float: left;margin-right: 0.25em;color: #696969;}#sk-container-id-3 label.sk-toggleable__label-arrow:hover:before {color: black;}#sk-container-id-3 div.sk-estimator:hover label.sk-toggleable__label-arrow:before {color: black;}#sk-container-id-3 div.sk-toggleable__content {max-height: 0;max-width: 0;overflow: hidden;text-align: left;background-color: #f0f8ff;}#sk-container-id-3 div.sk-toggleable__content pre {margin: 0.2em;color: black;border-radius: 0.25em;background-color: #f0f8ff;}#sk-container-id-3 input.sk-toggleable__control:checked~div.sk-toggleable__content {max-height: 200px;max-width: 100%;overflow: auto;}#sk-container-id-3 input.sk-toggleable__control:checked~label.sk-toggleable__label-arrow:before {content: \"▾\";}#sk-container-id-3 div.sk-estimator input.sk-toggleable__control:checked~label.sk-toggleable__label {background-color: #d4ebff;}#sk-container-id-3 div.sk-label input.sk-toggleable__control:checked~label.sk-toggleable__label {background-color: #d4ebff;}#sk-container-id-3 input.sk-hidden--visually {border: 0;clip: rect(1px 1px 1px 1px);clip: rect(1px, 1px, 1px, 1px);height: 1px;margin: -1px;overflow: hidden;padding: 0;position: absolute;width: 1px;}#sk-container-id-3 div.sk-estimator {font-family: monospace;background-color: #f0f8ff;border: 1px dotted black;border-radius: 0.25em;box-sizing: border-box;margin-bottom: 0.5em;}#sk-container-id-3 div.sk-estimator:hover {background-color: #d4ebff;}#sk-container-id-3 div.sk-parallel-item::after {content: \"\";width: 100%;border-bottom: 1px solid gray;flex-grow: 1;}#sk-container-id-3 div.sk-label:hover label.sk-toggleable__label {background-color: #d4ebff;}#sk-container-id-3 div.sk-serial::before {content: \"\";position: absolute;border-left: 1px solid gray;box-sizing: border-box;top: 0;bottom: 0;left: 50%;z-index: 0;}#sk-container-id-3 div.sk-serial {display: flex;flex-direction: column;align-items: center;background-color: white;padding-right: 0.2em;padding-left: 0.2em;position: relative;}#sk-container-id-3 div.sk-item {position: relative;z-index: 1;}#sk-container-id-3 div.sk-parallel {display: flex;align-items: stretch;justify-content: center;background-color: white;position: relative;}#sk-container-id-3 div.sk-item::before, #sk-container-id-3 div.sk-parallel-item::before {content: \"\";position: absolute;border-left: 1px solid gray;box-sizing: border-box;top: 0;bottom: 0;left: 50%;z-index: -1;}#sk-container-id-3 div.sk-parallel-item {display: flex;flex-direction: column;z-index: 1;position: relative;background-color: white;}#sk-container-id-3 div.sk-parallel-item:first-child::after {align-self: flex-end;width: 50%;}#sk-container-id-3 div.sk-parallel-item:last-child::after {align-self: flex-start;width: 50%;}#sk-container-id-3 div.sk-parallel-item:only-child::after {width: 0;}#sk-container-id-3 div.sk-dashed-wrapped {border: 1px dashed gray;margin: 0 0.4em 0.5em 0.4em;box-sizing: border-box;padding-bottom: 0.4em;background-color: white;}#sk-container-id-3 div.sk-label label {font-family: monospace;font-weight: bold;display: inline-block;line-height: 1.2em;}#sk-container-id-3 div.sk-label-container {text-align: center;}#sk-container-id-3 div.sk-container {/* jupyter's `normalize.less` sets `[hidden] { display: none; }` but bootstrap.min.css set `[hidden] { display: none !important; }` so we also need the `!important` here to be able to override the default hidden behavior on the sphinx rendered scikit-learn.org. See: https://github.com/scikit-learn/scikit-learn/issues/21755 */display: inline-block !important;position: relative;}#sk-container-id-3 div.sk-text-repr-fallback {display: none;}</style><div id=\"sk-container-id-3\" class=\"sk-top-container\"><div class=\"sk-text-repr-fallback\"><pre>Pipeline(steps=[(&#x27;lr_clf&#x27;, LogisticRegression(random_state=42))])</pre><b>In a Jupyter environment, please rerun this cell to show the HTML representation or trust the notebook. <br />On GitHub, the HTML representation is unable to render, please try loading this page with nbviewer.org.</b></div><div class=\"sk-container\" hidden><div class=\"sk-item sk-dashed-wrapped\"><div class=\"sk-label-container\"><div class=\"sk-label sk-toggleable\"><input class=\"sk-toggleable__control sk-hidden--visually\" id=\"sk-estimator-id-5\" type=\"checkbox\" ><label for=\"sk-estimator-id-5\" class=\"sk-toggleable__label sk-toggleable__label-arrow\">Pipeline</label><div class=\"sk-toggleable__content\"><pre>Pipeline(steps=[(&#x27;lr_clf&#x27;, LogisticRegression(random_state=42))])</pre></div></div></div><div class=\"sk-serial\"><div class=\"sk-item\"><div class=\"sk-estimator sk-toggleable\"><input class=\"sk-toggleable__control sk-hidden--visually\" id=\"sk-estimator-id-6\" type=\"checkbox\" ><label for=\"sk-estimator-id-6\" class=\"sk-toggleable__label sk-toggleable__label-arrow\">LogisticRegression</label><div class=\"sk-toggleable__content\"><pre>LogisticRegression(random_state=42)</pre></div></div></div></div></div></div></div>"
            ]
          },
          "metadata": {},
          "execution_count": 27
        }
      ]
    },
    {
      "cell_type": "code",
      "source": [
        "predicted_lr = lr_ppl_clf.predict(X_test)\n",
        "print(metrics.classification_report(y_test, predicted_lr))\n",
        "print(metrics.accuracy_score(y_test, predicted_lr))\n",
        "print(metrics.precision_score(y_test, predicted_lr, average='macro'))\n",
        "print(metrics.recall_score(y_test, predicted_lr, average='macro'))\n",
        "print(metrics.f1_score(y_test, predicted_lr, average='macro'))"
      ],
      "metadata": {
        "colab": {
          "base_uri": "https://localhost:8080/"
        },
        "id": "dfB4Xw4-KOEc",
        "outputId": "d4228fac-3a29-46dd-d4e2-518004d0fc06"
      },
      "execution_count": null,
      "outputs": [
        {
          "output_type": "stream",
          "name": "stdout",
          "text": [
            "                                                                   precision    recall  f1-score   support\n",
            "\n",
            "               Закон, региональный уровень, законодательный орган       0.89      0.87      0.88       329\n",
            "                Закон, федеральный уровень, законодательный орган       0.94      0.96      0.95       347\n",
            " Постановление, региональный уровень, глава исполнительной власти       0.68      0.63      0.65       318\n",
            "       Постановление, региональный уровень, законодательный орган       0.94      0.93      0.93       302\n",
            "Постановление, региональный уровень, органы исполнительной власти       0.93      0.91      0.92       244\n",
            "               Постановление, региональный уровень, правительство       0.69      0.69      0.69       318\n",
            "                Постановление, федеральный уровень, правительство       0.83      0.89      0.86       314\n",
            "       Приказ, региональный уровень, органы исполнительной власти       0.83      0.84      0.83       325\n",
            "        Приказ, федеральный уровень, органы исполнительной власти       0.87      0.90      0.89       315\n",
            "  Распоряжение, региональный уровень, глава исполнительной власти       0.67      0.65      0.66       330\n",
            "                Распоряжение, региональный уровень, правительство       0.61      0.63      0.62       323\n",
            "   Распоряжение, федеральный уровень, глава исполнительной власти       0.86      0.77      0.81       272\n",
            "                 Распоряжение, федеральный уровень, правительство       0.83      0.81      0.82       324\n",
            "          Указ, региональный уровень, глава исполнительной власти       0.64      0.67      0.65       296\n",
            "           Указ, федеральный уровень, глава исполнительной власти       0.77      0.80      0.78       222\n",
            "\n",
            "                                                         accuracy                           0.80      4579\n",
            "                                                        macro avg       0.80      0.80      0.80      4579\n",
            "                                                     weighted avg       0.80      0.80      0.80      4579\n",
            "\n",
            "0.7958069447477615\n",
            "0.7977477415873857\n",
            "0.7965754098071681\n",
            "0.79675181627046\n"
          ]
        }
      ]
    },
    {
      "cell_type": "code",
      "source": [],
      "metadata": {
        "id": "uZ4sKFzhx_xL"
      },
      "execution_count": null,
      "outputs": []
    },
    {
      "cell_type": "code",
      "source": [
        "sgd_ppl_clf = Pipeline([\n",
        "\n",
        "    ('sgd_clf', SGDClassifier(random_state=42))\n",
        "])\n",
        "\n",
        "parameters = {\n",
        "              'sgd_clf__loss':['hinge', 'log', 'modified_huber', 'squared_hinge', 'perceptron'],\n",
        "              'sgd_clf__class_weight':[None, 'balanced'],\n",
        "              'sgd_clf__penalty':[None, 'l2', 'l1', 'elasticnet'],\n",
        "\n",
        "              }\n",
        "model = GridSearchCV(sgd_ppl_clf, parameters, cv=4, n_jobs=-1).fit(X_train[:2000], y_train[:2000])\n",
        "print('Best score and parameter combination:')\n",
        "print(model.best_score_, model.best_params_)"
      ],
      "metadata": {
        "colab": {
          "base_uri": "https://localhost:8080/"
        },
        "id": "z2t8z1Rqx_zc",
        "outputId": "42d7acf3-b597-49c2-8391-5ab8b4f4c741"
      },
      "execution_count": null,
      "outputs": [
        {
          "output_type": "stream",
          "name": "stderr",
          "text": [
            "/usr/local/lib/python3.10/dist-packages/sklearn/linear_model/_stochastic_gradient.py:163: FutureWarning:\n",
            "\n",
            "The loss 'log' was deprecated in v1.1 and will be removed in version 1.3. Use `loss='log_loss'` which is equivalent.\n",
            "\n"
          ]
        },
        {
          "output_type": "stream",
          "name": "stdout",
          "text": [
            "Best score and parameter combination:\n",
            "0.6715000000000001 {'sgd_clf__class_weight': 'balanced', 'sgd_clf__loss': 'log', 'sgd_clf__penalty': 'l2'}\n"
          ]
        }
      ]
    },
    {
      "cell_type": "code",
      "source": [
        "sgd_ppl_clf = Pipeline([\n",
        "\n",
        "    ('sgd_clf', SGDClassifier(loss='log_loss',penalty='l2', class_weight='balanced', random_state=42))\n",
        "])\n",
        "sgd_ppl_clf.fit(X_train, y_train)\n",
        "\n",
        "\n",
        "predicted_sgd_val = sgd_ppl_clf.predict(X_test)\n",
        "print(metrics.classification_report(y_test, predicted_sgd_val))\n",
        "print(metrics.accuracy_score(y_test, predicted_sgd_val), 'accuracy')\n",
        "print(metrics.precision_score(y_test, predicted_sgd_val, average='macro'), 'precision')\n",
        "print(metrics.recall_score(y_test, predicted_sgd_val, average='macro'), 'recall')\n",
        "print(metrics.f1_score(y_test, predicted_sgd_val, average='macro'), 'f1')"
      ],
      "metadata": {
        "colab": {
          "base_uri": "https://localhost:8080/"
        },
        "id": "vju3kocSx_2m",
        "outputId": "9d5da18d-e1ec-4eca-abf6-ed33a5be4c4a"
      },
      "execution_count": null,
      "outputs": [
        {
          "output_type": "stream",
          "name": "stdout",
          "text": [
            "                                                                   precision    recall  f1-score   support\n",
            "\n",
            "               Закон, региональный уровень, законодательный орган       0.82      0.87      0.84       329\n",
            "                Закон, федеральный уровень, законодательный орган       0.96      0.94      0.95       347\n",
            " Постановление, региональный уровень, глава исполнительной власти       0.66      0.58      0.62       318\n",
            "       Постановление, региональный уровень, законодательный орган       0.92      0.93      0.93       302\n",
            "Постановление, региональный уровень, органы исполнительной власти       0.93      0.90      0.91       244\n",
            "               Постановление, региональный уровень, правительство       0.62      0.65      0.64       318\n",
            "                Постановление, федеральный уровень, правительство       0.85      0.82      0.83       314\n",
            "       Приказ, региональный уровень, органы исполнительной власти       0.82      0.76      0.79       325\n",
            "        Приказ, федеральный уровень, органы исполнительной власти       0.84      0.90      0.87       315\n",
            "  Распоряжение, региональный уровень, глава исполнительной власти       0.64      0.66      0.65       330\n",
            "                Распоряжение, региональный уровень, правительство       0.54      0.54      0.54       323\n",
            "   Распоряжение, федеральный уровень, глава исполнительной власти       0.69      0.89      0.78       272\n",
            "                 Распоряжение, федеральный уровень, правительство       0.74      0.80      0.77       324\n",
            "          Указ, региональный уровень, глава исполнительной власти       0.67      0.58      0.62       296\n",
            "           Указ, федеральный уровень, глава исполнительной власти       0.79      0.63      0.70       222\n",
            "\n",
            "                                                         accuracy                           0.76      4579\n",
            "                                                        macro avg       0.77      0.76      0.76      4579\n",
            "                                                     weighted avg       0.76      0.76      0.76      4579\n",
            "\n",
            "0.7630487005896484 accuracy\n",
            "0.7662795403814873 precision\n",
            "0.7626552103052089 recall\n",
            "0.7622387123751558 f1\n"
          ]
        }
      ]
    },
    {
      "cell_type": "code",
      "source": [
        "from sklearn.ensemble import RandomForestClassifier"
      ],
      "metadata": {
        "id": "_VEBg3jt7Lq2"
      },
      "execution_count": null,
      "outputs": []
    },
    {
      "cell_type": "code",
      "source": [
        "fr_ppl_clf = Pipeline([\n",
        "\n",
        "    ('rf_clf', RandomForestClassifier(random_state=42))\n",
        "])\n",
        "\n",
        "parameters = {\n",
        "              'rf_clf__n_estimators':[300, 500, 700],\n",
        "              'rf_clf__max_depth':[3, 5, 8, 11],\n",
        "\n",
        "\n",
        "              }\n",
        "model = GridSearchCV(fr_ppl_clf, parameters, cv=4, n_jobs=-1).fit(X_train[:2000], y_train[:2000])\n",
        "print('Best score and parameter combination:')\n",
        "print(model.best_score_, model.best_params_)"
      ],
      "metadata": {
        "colab": {
          "base_uri": "https://localhost:8080/"
        },
        "id": "DqyeaFH77Ls0",
        "outputId": "3da3dc9c-2b99-4968-abbf-2408dce35e70"
      },
      "execution_count": null,
      "outputs": [
        {
          "output_type": "stream",
          "name": "stdout",
          "text": [
            "Best score and parameter combination:\n",
            "0.6855 {'rf_clf__max_depth': 11, 'rf_clf__n_estimators': 500}\n"
          ]
        }
      ]
    },
    {
      "cell_type": "code",
      "source": [
        "fr_ppl_clf = Pipeline([\n",
        "\n",
        "    ('sgd_clf', RandomForestClassifier(n_estimators=500,max_depth=11,  random_state=42))\n",
        "])\n",
        "fr_ppl_clf.fit(X_train, y_train)\n",
        "\n",
        "\n",
        "ppredicted_fr_val = fr_ppl_clf.predict(X_test)\n",
        "print(metrics.classification_report(y_test, ppredicted_fr_val))\n",
        "print(metrics.accuracy_score(y_test, ppredicted_fr_val), 'accuracy')\n",
        "print(metrics.precision_score(y_test, ppredicted_fr_val, average='macro'), 'precision')\n",
        "print(metrics.recall_score(y_test, ppredicted_fr_val, average='macro'), 'recall')\n",
        "print(metrics.f1_score(y_test, ppredicted_fr_val, average='macro'), 'f1')"
      ],
      "metadata": {
        "colab": {
          "base_uri": "https://localhost:8080/"
        },
        "id": "7ZgpjSS37U2j",
        "outputId": "19a7e105-ce97-4af7-a303-367b1a62e838"
      },
      "execution_count": null,
      "outputs": [
        {
          "output_type": "stream",
          "name": "stdout",
          "text": [
            "                                                                   precision    recall  f1-score   support\n",
            "\n",
            "               Закон, региональный уровень, законодательный орган       0.73      0.87      0.80       329\n",
            "                Закон, федеральный уровень, законодательный орган       0.96      0.92      0.94       347\n",
            " Постановление, региональный уровень, глава исполнительной власти       0.59      0.66      0.62       318\n",
            "       Постановление, региональный уровень, законодательный орган       0.95      0.89      0.92       302\n",
            "Постановление, региональный уровень, органы исполнительной власти       1.00      0.88      0.93       244\n",
            "               Постановление, региональный уровень, правительство       0.53      0.62      0.57       318\n",
            "                Постановление, федеральный уровень, правительство       0.80      0.86      0.83       314\n",
            "       Приказ, региональный уровень, органы исполнительной власти       0.83      0.79      0.81       325\n",
            "        Приказ, федеральный уровень, органы исполнительной власти       0.85      0.91      0.88       315\n",
            "  Распоряжение, региональный уровень, глава исполнительной власти       0.80      0.71      0.75       330\n",
            "                Распоряжение, региональный уровень, правительство       0.63      0.65      0.64       323\n",
            "   Распоряжение, федеральный уровень, глава исполнительной власти       0.82      0.85      0.84       272\n",
            "                 Распоряжение, федеральный уровень, правительство       0.78      0.86      0.82       324\n",
            "          Указ, региональный уровень, глава исполнительной власти       0.74      0.52      0.61       296\n",
            "           Указ, федеральный уровень, глава исполнительной власти       0.86      0.66      0.75       222\n",
            "\n",
            "                                                         accuracy                           0.78      4579\n",
            "                                                        macro avg       0.79      0.78      0.78      4579\n",
            "                                                     weighted avg       0.79      0.78      0.78      4579\n",
            "\n",
            "0.7787726577855427 accuracy\n",
            "0.7915250075969357 precision\n",
            "0.7771462885848728 recall\n",
            "0.780549323419266 f1\n"
          ]
        }
      ]
    },
    {
      "cell_type": "markdown",
      "source": [
        "Вместе с td-idf"
      ],
      "metadata": {
        "id": "mBRotpB1_v6F"
      }
    },
    {
      "cell_type": "code",
      "source": [
        "X_train, X_test, y_train, y_test = train_test_split(df_w2v['w2v_simple_idf'], df_w2v['doc_name'], test_size=0.2, random_state=42)\n",
        "X_train = np.vstack(X_train)\n",
        "X_test = np.vstack(X_test)"
      ],
      "metadata": {
        "id": "kaxVhIqn_lik"
      },
      "execution_count": null,
      "outputs": []
    },
    {
      "cell_type": "code",
      "source": [
        "lr_ppl_clf = Pipeline([\n",
        "\n",
        "    ('lr_clf', LogisticRegression(random_state=42))\n",
        "])\n",
        "\n",
        "parameters = {\n",
        "              'lr_clf__solver':['lbfgs', 'newton-cg', 'sag', 'saga'],\n",
        "              'lr_clf__class_weight':[None, 'balanced'],\n",
        "              'lr_clf__penalty':[None, 'l2', 'l1', 'elasticnet'],\n",
        "              }\n",
        "\n",
        "model = GridSearchCV(lr_ppl_clf, parameters, cv=4, n_jobs=-1).fit(X_train[:2000], y_train[:2000])\n",
        "print('Best score and parameter combination:')\n",
        "print(model.best_score_, model.best_params_)"
      ],
      "metadata": {
        "colab": {
          "base_uri": "https://localhost:8080/"
        },
        "id": "ieFiTx8U_2js",
        "outputId": "ffa5c525-a449-4fa9-d5e5-04e18cf6e7bd"
      },
      "execution_count": null,
      "outputs": [
        {
          "output_type": "stream",
          "name": "stderr",
          "text": [
            "/usr/local/lib/python3.10/dist-packages/sklearn/model_selection/_validation.py:378: FitFailedWarning:\n",
            "\n",
            "\n",
            "56 fits failed out of a total of 128.\n",
            "The score on these train-test partitions for these parameters will be set to nan.\n",
            "If these failures are not expected, you can try to debug them by setting error_score='raise'.\n",
            "\n",
            "Below are more details about the failures:\n",
            "--------------------------------------------------------------------------------\n",
            "8 fits failed with the following error:\n",
            "Traceback (most recent call last):\n",
            "  File \"/usr/local/lib/python3.10/dist-packages/sklearn/model_selection/_validation.py\", line 686, in _fit_and_score\n",
            "    estimator.fit(X_train, y_train, **fit_params)\n",
            "  File \"/usr/local/lib/python3.10/dist-packages/sklearn/pipeline.py\", line 405, in fit\n",
            "    self._final_estimator.fit(Xt, y, **fit_params_last_step)\n",
            "  File \"/usr/local/lib/python3.10/dist-packages/sklearn/linear_model/_logistic.py\", line 1162, in fit\n",
            "    solver = _check_solver(self.solver, self.penalty, self.dual)\n",
            "  File \"/usr/local/lib/python3.10/dist-packages/sklearn/linear_model/_logistic.py\", line 54, in _check_solver\n",
            "    raise ValueError(\n",
            "ValueError: Solver lbfgs supports only 'l2' or 'none' penalties, got l1 penalty.\n",
            "\n",
            "--------------------------------------------------------------------------------\n",
            "8 fits failed with the following error:\n",
            "Traceback (most recent call last):\n",
            "  File \"/usr/local/lib/python3.10/dist-packages/sklearn/model_selection/_validation.py\", line 686, in _fit_and_score\n",
            "    estimator.fit(X_train, y_train, **fit_params)\n",
            "  File \"/usr/local/lib/python3.10/dist-packages/sklearn/pipeline.py\", line 405, in fit\n",
            "    self._final_estimator.fit(Xt, y, **fit_params_last_step)\n",
            "  File \"/usr/local/lib/python3.10/dist-packages/sklearn/linear_model/_logistic.py\", line 1162, in fit\n",
            "    solver = _check_solver(self.solver, self.penalty, self.dual)\n",
            "  File \"/usr/local/lib/python3.10/dist-packages/sklearn/linear_model/_logistic.py\", line 54, in _check_solver\n",
            "    raise ValueError(\n",
            "ValueError: Solver newton-cg supports only 'l2' or 'none' penalties, got l1 penalty.\n",
            "\n",
            "--------------------------------------------------------------------------------\n",
            "8 fits failed with the following error:\n",
            "Traceback (most recent call last):\n",
            "  File \"/usr/local/lib/python3.10/dist-packages/sklearn/model_selection/_validation.py\", line 686, in _fit_and_score\n",
            "    estimator.fit(X_train, y_train, **fit_params)\n",
            "  File \"/usr/local/lib/python3.10/dist-packages/sklearn/pipeline.py\", line 405, in fit\n",
            "    self._final_estimator.fit(Xt, y, **fit_params_last_step)\n",
            "  File \"/usr/local/lib/python3.10/dist-packages/sklearn/linear_model/_logistic.py\", line 1162, in fit\n",
            "    solver = _check_solver(self.solver, self.penalty, self.dual)\n",
            "  File \"/usr/local/lib/python3.10/dist-packages/sklearn/linear_model/_logistic.py\", line 54, in _check_solver\n",
            "    raise ValueError(\n",
            "ValueError: Solver sag supports only 'l2' or 'none' penalties, got l1 penalty.\n",
            "\n",
            "--------------------------------------------------------------------------------\n",
            "8 fits failed with the following error:\n",
            "Traceback (most recent call last):\n",
            "  File \"/usr/local/lib/python3.10/dist-packages/sklearn/model_selection/_validation.py\", line 686, in _fit_and_score\n",
            "    estimator.fit(X_train, y_train, **fit_params)\n",
            "  File \"/usr/local/lib/python3.10/dist-packages/sklearn/pipeline.py\", line 405, in fit\n",
            "    self._final_estimator.fit(Xt, y, **fit_params_last_step)\n",
            "  File \"/usr/local/lib/python3.10/dist-packages/sklearn/linear_model/_logistic.py\", line 1162, in fit\n",
            "    solver = _check_solver(self.solver, self.penalty, self.dual)\n",
            "  File \"/usr/local/lib/python3.10/dist-packages/sklearn/linear_model/_logistic.py\", line 54, in _check_solver\n",
            "    raise ValueError(\n",
            "ValueError: Solver lbfgs supports only 'l2' or 'none' penalties, got elasticnet penalty.\n",
            "\n",
            "--------------------------------------------------------------------------------\n",
            "8 fits failed with the following error:\n",
            "Traceback (most recent call last):\n",
            "  File \"/usr/local/lib/python3.10/dist-packages/sklearn/model_selection/_validation.py\", line 686, in _fit_and_score\n",
            "    estimator.fit(X_train, y_train, **fit_params)\n",
            "  File \"/usr/local/lib/python3.10/dist-packages/sklearn/pipeline.py\", line 405, in fit\n",
            "    self._final_estimator.fit(Xt, y, **fit_params_last_step)\n",
            "  File \"/usr/local/lib/python3.10/dist-packages/sklearn/linear_model/_logistic.py\", line 1162, in fit\n",
            "    solver = _check_solver(self.solver, self.penalty, self.dual)\n",
            "  File \"/usr/local/lib/python3.10/dist-packages/sklearn/linear_model/_logistic.py\", line 54, in _check_solver\n",
            "    raise ValueError(\n",
            "ValueError: Solver newton-cg supports only 'l2' or 'none' penalties, got elasticnet penalty.\n",
            "\n",
            "--------------------------------------------------------------------------------\n",
            "8 fits failed with the following error:\n",
            "Traceback (most recent call last):\n",
            "  File \"/usr/local/lib/python3.10/dist-packages/sklearn/model_selection/_validation.py\", line 686, in _fit_and_score\n",
            "    estimator.fit(X_train, y_train, **fit_params)\n",
            "  File \"/usr/local/lib/python3.10/dist-packages/sklearn/pipeline.py\", line 405, in fit\n",
            "    self._final_estimator.fit(Xt, y, **fit_params_last_step)\n",
            "  File \"/usr/local/lib/python3.10/dist-packages/sklearn/linear_model/_logistic.py\", line 1162, in fit\n",
            "    solver = _check_solver(self.solver, self.penalty, self.dual)\n",
            "  File \"/usr/local/lib/python3.10/dist-packages/sklearn/linear_model/_logistic.py\", line 54, in _check_solver\n",
            "    raise ValueError(\n",
            "ValueError: Solver sag supports only 'l2' or 'none' penalties, got elasticnet penalty.\n",
            "\n",
            "--------------------------------------------------------------------------------\n",
            "8 fits failed with the following error:\n",
            "Traceback (most recent call last):\n",
            "  File \"/usr/local/lib/python3.10/dist-packages/sklearn/model_selection/_validation.py\", line 686, in _fit_and_score\n",
            "    estimator.fit(X_train, y_train, **fit_params)\n",
            "  File \"/usr/local/lib/python3.10/dist-packages/sklearn/pipeline.py\", line 405, in fit\n",
            "    self._final_estimator.fit(Xt, y, **fit_params_last_step)\n",
            "  File \"/usr/local/lib/python3.10/dist-packages/sklearn/linear_model/_logistic.py\", line 1291, in fit\n",
            "    fold_coefs_ = Parallel(n_jobs=self.n_jobs, verbose=self.verbose, prefer=prefer)(\n",
            "  File \"/usr/local/lib/python3.10/dist-packages/sklearn/utils/parallel.py\", line 63, in __call__\n",
            "    return super().__call__(iterable_with_config)\n",
            "  File \"/usr/local/lib/python3.10/dist-packages/joblib/parallel.py\", line 1863, in __call__\n",
            "    return output if self.return_generator else list(output)\n",
            "  File \"/usr/local/lib/python3.10/dist-packages/joblib/parallel.py\", line 1792, in _get_sequential_output\n",
            "    res = func(*args, **kwargs)\n",
            "  File \"/usr/local/lib/python3.10/dist-packages/sklearn/utils/parallel.py\", line 123, in __call__\n",
            "    return self.function(*args, **kwargs)\n",
            "  File \"/usr/local/lib/python3.10/dist-packages/sklearn/linear_model/_logistic.py\", line 521, in _logistic_regression_path\n",
            "    alpha = (1.0 / C) * (1 - l1_ratio)\n",
            "TypeError: unsupported operand type(s) for -: 'int' and 'NoneType'\n",
            "\n",
            "\n",
            "/usr/local/lib/python3.10/dist-packages/sklearn/model_selection/_search.py:952: UserWarning:\n",
            "\n",
            "One or more of the test scores are non-finite: [0.733  0.707  0.7295 0.719  0.735  0.7375 0.7285 0.7185    nan    nan\n",
            "    nan 0.7165    nan    nan    nan    nan 0.7305 0.7055 0.724  0.71\n",
            " 0.736  0.739  0.7245 0.7105    nan    nan    nan 0.71      nan    nan\n",
            "    nan    nan]\n",
            "\n"
          ]
        },
        {
          "output_type": "stream",
          "name": "stdout",
          "text": [
            "Best score and parameter combination:\n",
            "0.739 {'lr_clf__class_weight': 'balanced', 'lr_clf__penalty': 'l2', 'lr_clf__solver': 'newton-cg'}\n"
          ]
        }
      ]
    },
    {
      "cell_type": "code",
      "source": [
        "lr_ppl_clf = Pipeline([\n",
        "\n",
        "    ('lr_clf', LogisticRegression(solver='newton-cg',penalty='l2', class_weight='balanced', random_state=42))\n",
        "])\n",
        "lr_ppl_clf.fit(X_train, y_train)\n",
        "predicted_lr = lr_ppl_clf.predict(X_test)\n",
        "print(metrics.classification_report(y_test, predicted_lr))\n",
        "print(metrics.accuracy_score(y_test, predicted_lr))\n",
        "print(metrics.precision_score(y_test, predicted_lr, average='macro'))\n",
        "print(metrics.recall_score(y_test, predicted_lr, average='macro'))\n",
        "print(metrics.f1_score(y_test, predicted_lr, average='macro'))"
      ],
      "metadata": {
        "colab": {
          "base_uri": "https://localhost:8080/"
        },
        "id": "vRF497un_7Ez",
        "outputId": "d89dabda-c1cc-4d5d-c16e-2afa0e1f633e"
      },
      "execution_count": null,
      "outputs": [
        {
          "output_type": "stream",
          "name": "stdout",
          "text": [
            "                                                                   precision    recall  f1-score   support\n",
            "\n",
            "               Закон, региональный уровень, законодательный орган       0.88      0.88      0.88       329\n",
            "                Закон, федеральный уровень, законодательный орган       0.95      0.99      0.97       347\n",
            " Постановление, региональный уровень, глава исполнительной власти       0.67      0.69      0.68       318\n",
            "       Постановление, региональный уровень, законодательный орган       0.95      0.92      0.93       302\n",
            "Постановление, региональный уровень, органы исполнительной власти       0.91      0.93      0.92       244\n",
            "               Постановление, региональный уровень, правительство       0.70      0.67      0.68       318\n",
            "                Постановление, федеральный уровень, правительство       0.86      0.90      0.88       314\n",
            "       Приказ, региональный уровень, органы исполнительной власти       0.87      0.83      0.85       325\n",
            "        Приказ, федеральный уровень, органы исполнительной власти       0.91      0.89      0.90       315\n",
            "  Распоряжение, региональный уровень, глава исполнительной власти       0.73      0.67      0.70       330\n",
            "                Распоряжение, региональный уровень, правительство       0.61      0.70      0.65       323\n",
            "   Распоряжение, федеральный уровень, глава исполнительной власти       0.92      0.88      0.90       272\n",
            "                 Распоряжение, федеральный уровень, правительство       0.88      0.86      0.87       324\n",
            "          Указ, региональный уровень, глава исполнительной власти       0.69      0.66      0.67       296\n",
            "           Указ, федеральный уровень, глава исполнительной власти       0.87      0.92      0.90       222\n",
            "\n",
            "                                                         accuracy                           0.82      4579\n",
            "                                                        macro avg       0.83      0.83      0.83      4579\n",
            "                                                     weighted avg       0.82      0.82      0.82      4579\n",
            "\n",
            "0.8222319283686395\n",
            "0.8261878857085236\n",
            "0.8254850186462971\n",
            "0.8252325540774723\n"
          ]
        }
      ]
    },
    {
      "cell_type": "code",
      "source": [
        "sgd_ppl_clf = Pipeline([\n",
        "\n",
        "    ('sgd_clf', SGDClassifier(random_state=42))\n",
        "])\n",
        "\n",
        "parameters = {\n",
        "              'sgd_clf__loss':['hinge', 'log', 'modified_huber', 'squared_hinge', 'perceptron'],\n",
        "              'sgd_clf__class_weight':[None, 'balanced'],\n",
        "              'sgd_clf__penalty':[None, 'l2', 'l1', 'elasticnet'],\n",
        "\n",
        "              }\n",
        "model = GridSearchCV(sgd_ppl_clf, parameters, cv=4, n_jobs=-1).fit(X_train[:2000], y_train[:2000])\n",
        "print('Best score and parameter combination:')\n",
        "print(model.best_score_, model.best_params_)"
      ],
      "metadata": {
        "colab": {
          "base_uri": "https://localhost:8080/"
        },
        "id": "QmVrN_r9ABac",
        "outputId": "5f7ce926-065e-4524-d626-54b756185396"
      },
      "execution_count": null,
      "outputs": [
        {
          "output_type": "stream",
          "name": "stderr",
          "text": [
            "/usr/local/lib/python3.10/dist-packages/sklearn/linear_model/_stochastic_gradient.py:163: FutureWarning:\n",
            "\n",
            "The loss 'log' was deprecated in v1.1 and will be removed in version 1.3. Use `loss='log_loss'` which is equivalent.\n",
            "\n"
          ]
        },
        {
          "output_type": "stream",
          "name": "stdout",
          "text": [
            "Best score and parameter combination:\n",
            "0.6915 {'sgd_clf__class_weight': 'balanced', 'sgd_clf__loss': 'log', 'sgd_clf__penalty': None}\n"
          ]
        }
      ]
    },
    {
      "cell_type": "code",
      "source": [
        "sgd_ppl_clf = Pipeline([\n",
        "\n",
        "    ('sgd_clf', SGDClassifier(loss='log_loss',penalty=None, class_weight='balanced', random_state=42))\n",
        "])\n",
        "sgd_ppl_clf.fit(X_train, y_train)\n",
        "\n",
        "\n",
        "predicted_sgd_val = sgd_ppl_clf.predict(X_test)\n",
        "print(metrics.classification_report(y_test, predicted_sgd_val))\n",
        "print(metrics.accuracy_score(y_test, predicted_sgd_val), 'accuracy')\n",
        "print(metrics.precision_score(y_test, predicted_sgd_val, average='macro'), 'precision')\n",
        "print(metrics.recall_score(y_test, predicted_sgd_val, average='macro'), 'recall')\n",
        "print(metrics.f1_score(y_test, predicted_sgd_val, average='macro'), 'f1')"
      ],
      "metadata": {
        "colab": {
          "base_uri": "https://localhost:8080/"
        },
        "id": "DL2OyNtOAE-T",
        "outputId": "416b0d39-f57d-4860-e9aa-a2427405cc3c"
      },
      "execution_count": null,
      "outputs": [
        {
          "output_type": "stream",
          "name": "stdout",
          "text": [
            "                                                                   precision    recall  f1-score   support\n",
            "\n",
            "               Закон, региональный уровень, законодательный орган       0.86      0.74      0.79       329\n",
            "                Закон, федеральный уровень, законодательный орган       0.94      0.92      0.93       347\n",
            " Постановление, региональный уровень, глава исполнительной власти       0.47      0.63      0.54       318\n",
            "       Постановление, региональный уровень, законодательный орган       0.94      0.88      0.91       302\n",
            "Постановление, региональный уровень, органы исполнительной власти       0.86      0.89      0.87       244\n",
            "               Постановление, региональный уровень, правительство       0.60      0.19      0.29       318\n",
            "                Постановление, федеральный уровень, правительство       0.86      0.79      0.83       314\n",
            "       Приказ, региональный уровень, органы исполнительной власти       0.85      0.76      0.80       325\n",
            "        Приказ, федеральный уровень, органы исполнительной власти       0.90      0.88      0.89       315\n",
            "  Распоряжение, региональный уровень, глава исполнительной власти       0.79      0.49      0.60       330\n",
            "                Распоряжение, региональный уровень, правительство       0.28      0.81      0.42       323\n",
            "   Распоряжение, федеральный уровень, глава исполнительной власти       0.83      0.74      0.78       272\n",
            "                 Распоряжение, федеральный уровень, правительство       0.87      0.60      0.71       324\n",
            "          Указ, региональный уровень, глава исполнительной власти       0.63      0.47      0.53       296\n",
            "           Указ, федеральный уровень, глава исполнительной власти       0.88      0.73      0.80       222\n",
            "\n",
            "                                                         accuracy                           0.70      4579\n",
            "                                                        macro avg       0.77      0.70      0.71      4579\n",
            "                                                     weighted avg       0.77      0.70      0.71      4579\n",
            "\n",
            "0.6981873771565844 accuracy\n",
            "0.770572052601673 precision\n",
            "0.7008360655654967 recall\n",
            "0.7134672662675172 f1\n"
          ]
        }
      ]
    },
    {
      "cell_type": "code",
      "source": [
        "fr_ppl_clf = Pipeline([\n",
        "\n",
        "    ('rf_clf', RandomForestClassifier(random_state=42))\n",
        "])\n",
        "\n",
        "parameters = {\n",
        "              'rf_clf__n_estimators':[300, 500, 700],\n",
        "              'rf_clf__max_depth':[3, 5, 8, 11],\n",
        "\n",
        "\n",
        "              }\n",
        "model = GridSearchCV(fr_ppl_clf, parameters, cv=4, n_jobs=-1).fit(X_train[:2000], y_train[:2000])\n",
        "print('Best score and parameter combination:')\n",
        "print(model.best_score_, model.best_params_)"
      ],
      "metadata": {
        "colab": {
          "base_uri": "https://localhost:8080/"
        },
        "id": "StSfGyrmAJzu",
        "outputId": "d18de95d-11f8-4666-f1ae-3fd46112e08a"
      },
      "execution_count": null,
      "outputs": [
        {
          "output_type": "stream",
          "name": "stdout",
          "text": [
            "Best score and parameter combination:\n",
            "0.7190000000000001 {'rf_clf__max_depth': 11, 'rf_clf__n_estimators': 700}\n"
          ]
        }
      ]
    },
    {
      "cell_type": "code",
      "source": [
        "fr_ppl_clf = Pipeline([\n",
        "\n",
        "    ('sgd_clf', RandomForestClassifier(n_estimators=700,max_depth=11,  random_state=42))\n",
        "])\n",
        "fr_ppl_clf.fit(X_train, y_train)\n",
        "\n",
        "\n",
        "ppredicted_fr_val = fr_ppl_clf.predict(X_test)\n",
        "print(metrics.classification_report(y_test, ppredicted_fr_val))\n",
        "print(metrics.accuracy_score(y_test, ppredicted_fr_val), 'accuracy')\n",
        "print(metrics.precision_score(y_test, ppredicted_fr_val, average='macro'), 'precision')\n",
        "print(metrics.recall_score(y_test, ppredicted_fr_val, average='macro'), 'recall')\n",
        "print(metrics.f1_score(y_test, ppredicted_fr_val, average='macro'), 'f1')"
      ],
      "metadata": {
        "colab": {
          "base_uri": "https://localhost:8080/"
        },
        "id": "vSxatP_qAM22",
        "outputId": "1b51147b-07e2-4d06-e99b-7a790d565ff9"
      },
      "execution_count": null,
      "outputs": [
        {
          "output_type": "stream",
          "name": "stdout",
          "text": [
            "                                                                   precision    recall  f1-score   support\n",
            "\n",
            "               Закон, региональный уровень, законодательный орган       0.79      0.84      0.82       329\n",
            "                Закон, федеральный уровень, законодательный орган       0.92      0.94      0.93       347\n",
            " Постановление, региональный уровень, глава исполнительной власти       0.67      0.70      0.69       318\n",
            "       Постановление, региональный уровень, законодательный орган       0.97      0.89      0.93       302\n",
            "Постановление, региональный уровень, органы исполнительной власти       0.99      0.86      0.92       244\n",
            "               Постановление, региональный уровень, правительство       0.58      0.60      0.59       318\n",
            "                Постановление, федеральный уровень, правительство       0.79      0.86      0.83       314\n",
            "       Приказ, региональный уровень, органы исполнительной власти       0.82      0.82      0.82       325\n",
            "        Приказ, федеральный уровень, органы исполнительной власти       0.90      0.91      0.91       315\n",
            "  Распоряжение, региональный уровень, глава исполнительной власти       0.85      0.71      0.77       330\n",
            "                Распоряжение, региональный уровень, правительство       0.65      0.72      0.68       323\n",
            "   Распоряжение, федеральный уровень, глава исполнительной власти       0.90      0.91      0.91       272\n",
            "                 Распоряжение, федеральный уровень, правительство       0.79      0.87      0.83       324\n",
            "          Указ, региональный уровень, глава исполнительной власти       0.71      0.66      0.68       296\n",
            "           Указ, федеральный уровень, глава исполнительной власти       0.94      0.83      0.88       222\n",
            "\n",
            "                                                         accuracy                           0.81      4579\n",
            "                                                        macro avg       0.82      0.81      0.81      4579\n",
            "                                                     weighted avg       0.81      0.81      0.81      4579\n",
            "\n",
            "0.8075999126446822 accuracy\n",
            "0.8181204944259483 precision\n",
            "0.8089882401253748 recall\n",
            "0.8120931148967517 f1\n"
          ]
        }
      ]
    },
    {
      "cell_type": "code",
      "source": [],
      "metadata": {
        "id": "KeKqO7yRAahy"
      },
      "execution_count": null,
      "outputs": []
    },
    {
      "cell_type": "markdown",
      "source": [
        "Преобученный"
      ],
      "metadata": {
        "id": "z34F6jBaBLNS"
      }
    },
    {
      "cell_type": "code",
      "source": [
        "X_train, X_test, y_train, y_test = train_test_split(df_w2v['w2v_simple_pre'], df_w2v['doc_name'], test_size=0.2, random_state=42)\n",
        "X_train = np.vstack(X_train)\n",
        "X_test = np.vstack(X_test)"
      ],
      "metadata": {
        "id": "AY_1FF5sBNNH"
      },
      "execution_count": null,
      "outputs": []
    },
    {
      "cell_type": "code",
      "source": [
        "lr_ppl_clf = Pipeline([\n",
        "\n",
        "    ('lr_clf', LogisticRegression(random_state=42))\n",
        "])\n",
        "\n",
        "parameters = {\n",
        "              'lr_clf__solver':['lbfgs', 'newton-cg', 'sag', 'saga'],\n",
        "              'lr_clf__class_weight':[None, 'balanced'],\n",
        "              'lr_clf__penalty':[None, 'l2', 'l1', 'elasticnet'],\n",
        "              }\n",
        "\n",
        "model = GridSearchCV(lr_ppl_clf, parameters, cv=4, n_jobs=-1).fit(X_train[:2000], y_train[:2000])\n",
        "print('Best score and parameter combination:')\n",
        "print(model.best_score_, model.best_params_)"
      ],
      "metadata": {
        "colab": {
          "base_uri": "https://localhost:8080/"
        },
        "id": "4Y0nnbceAamd",
        "outputId": "cd6c6f49-801f-4d01-c49b-69d3f321fa4b"
      },
      "execution_count": null,
      "outputs": [
        {
          "output_type": "stream",
          "name": "stderr",
          "text": [
            "/usr/local/lib/python3.10/dist-packages/sklearn/model_selection/_validation.py:378: FitFailedWarning:\n",
            "\n",
            "\n",
            "56 fits failed out of a total of 128.\n",
            "The score on these train-test partitions for these parameters will be set to nan.\n",
            "If these failures are not expected, you can try to debug them by setting error_score='raise'.\n",
            "\n",
            "Below are more details about the failures:\n",
            "--------------------------------------------------------------------------------\n",
            "8 fits failed with the following error:\n",
            "Traceback (most recent call last):\n",
            "  File \"/usr/local/lib/python3.10/dist-packages/sklearn/model_selection/_validation.py\", line 686, in _fit_and_score\n",
            "    estimator.fit(X_train, y_train, **fit_params)\n",
            "  File \"/usr/local/lib/python3.10/dist-packages/sklearn/pipeline.py\", line 405, in fit\n",
            "    self._final_estimator.fit(Xt, y, **fit_params_last_step)\n",
            "  File \"/usr/local/lib/python3.10/dist-packages/sklearn/linear_model/_logistic.py\", line 1162, in fit\n",
            "    solver = _check_solver(self.solver, self.penalty, self.dual)\n",
            "  File \"/usr/local/lib/python3.10/dist-packages/sklearn/linear_model/_logistic.py\", line 54, in _check_solver\n",
            "    raise ValueError(\n",
            "ValueError: Solver lbfgs supports only 'l2' or 'none' penalties, got l1 penalty.\n",
            "\n",
            "--------------------------------------------------------------------------------\n",
            "8 fits failed with the following error:\n",
            "Traceback (most recent call last):\n",
            "  File \"/usr/local/lib/python3.10/dist-packages/sklearn/model_selection/_validation.py\", line 686, in _fit_and_score\n",
            "    estimator.fit(X_train, y_train, **fit_params)\n",
            "  File \"/usr/local/lib/python3.10/dist-packages/sklearn/pipeline.py\", line 405, in fit\n",
            "    self._final_estimator.fit(Xt, y, **fit_params_last_step)\n",
            "  File \"/usr/local/lib/python3.10/dist-packages/sklearn/linear_model/_logistic.py\", line 1162, in fit\n",
            "    solver = _check_solver(self.solver, self.penalty, self.dual)\n",
            "  File \"/usr/local/lib/python3.10/dist-packages/sklearn/linear_model/_logistic.py\", line 54, in _check_solver\n",
            "    raise ValueError(\n",
            "ValueError: Solver newton-cg supports only 'l2' or 'none' penalties, got l1 penalty.\n",
            "\n",
            "--------------------------------------------------------------------------------\n",
            "8 fits failed with the following error:\n",
            "Traceback (most recent call last):\n",
            "  File \"/usr/local/lib/python3.10/dist-packages/sklearn/model_selection/_validation.py\", line 686, in _fit_and_score\n",
            "    estimator.fit(X_train, y_train, **fit_params)\n",
            "  File \"/usr/local/lib/python3.10/dist-packages/sklearn/pipeline.py\", line 405, in fit\n",
            "    self._final_estimator.fit(Xt, y, **fit_params_last_step)\n",
            "  File \"/usr/local/lib/python3.10/dist-packages/sklearn/linear_model/_logistic.py\", line 1162, in fit\n",
            "    solver = _check_solver(self.solver, self.penalty, self.dual)\n",
            "  File \"/usr/local/lib/python3.10/dist-packages/sklearn/linear_model/_logistic.py\", line 54, in _check_solver\n",
            "    raise ValueError(\n",
            "ValueError: Solver sag supports only 'l2' or 'none' penalties, got l1 penalty.\n",
            "\n",
            "--------------------------------------------------------------------------------\n",
            "8 fits failed with the following error:\n",
            "Traceback (most recent call last):\n",
            "  File \"/usr/local/lib/python3.10/dist-packages/sklearn/model_selection/_validation.py\", line 686, in _fit_and_score\n",
            "    estimator.fit(X_train, y_train, **fit_params)\n",
            "  File \"/usr/local/lib/python3.10/dist-packages/sklearn/pipeline.py\", line 405, in fit\n",
            "    self._final_estimator.fit(Xt, y, **fit_params_last_step)\n",
            "  File \"/usr/local/lib/python3.10/dist-packages/sklearn/linear_model/_logistic.py\", line 1162, in fit\n",
            "    solver = _check_solver(self.solver, self.penalty, self.dual)\n",
            "  File \"/usr/local/lib/python3.10/dist-packages/sklearn/linear_model/_logistic.py\", line 54, in _check_solver\n",
            "    raise ValueError(\n",
            "ValueError: Solver lbfgs supports only 'l2' or 'none' penalties, got elasticnet penalty.\n",
            "\n",
            "--------------------------------------------------------------------------------\n",
            "8 fits failed with the following error:\n",
            "Traceback (most recent call last):\n",
            "  File \"/usr/local/lib/python3.10/dist-packages/sklearn/model_selection/_validation.py\", line 686, in _fit_and_score\n",
            "    estimator.fit(X_train, y_train, **fit_params)\n",
            "  File \"/usr/local/lib/python3.10/dist-packages/sklearn/pipeline.py\", line 405, in fit\n",
            "    self._final_estimator.fit(Xt, y, **fit_params_last_step)\n",
            "  File \"/usr/local/lib/python3.10/dist-packages/sklearn/linear_model/_logistic.py\", line 1162, in fit\n",
            "    solver = _check_solver(self.solver, self.penalty, self.dual)\n",
            "  File \"/usr/local/lib/python3.10/dist-packages/sklearn/linear_model/_logistic.py\", line 54, in _check_solver\n",
            "    raise ValueError(\n",
            "ValueError: Solver newton-cg supports only 'l2' or 'none' penalties, got elasticnet penalty.\n",
            "\n",
            "--------------------------------------------------------------------------------\n",
            "8 fits failed with the following error:\n",
            "Traceback (most recent call last):\n",
            "  File \"/usr/local/lib/python3.10/dist-packages/sklearn/model_selection/_validation.py\", line 686, in _fit_and_score\n",
            "    estimator.fit(X_train, y_train, **fit_params)\n",
            "  File \"/usr/local/lib/python3.10/dist-packages/sklearn/pipeline.py\", line 405, in fit\n",
            "    self._final_estimator.fit(Xt, y, **fit_params_last_step)\n",
            "  File \"/usr/local/lib/python3.10/dist-packages/sklearn/linear_model/_logistic.py\", line 1162, in fit\n",
            "    solver = _check_solver(self.solver, self.penalty, self.dual)\n",
            "  File \"/usr/local/lib/python3.10/dist-packages/sklearn/linear_model/_logistic.py\", line 54, in _check_solver\n",
            "    raise ValueError(\n",
            "ValueError: Solver sag supports only 'l2' or 'none' penalties, got elasticnet penalty.\n",
            "\n",
            "--------------------------------------------------------------------------------\n",
            "8 fits failed with the following error:\n",
            "Traceback (most recent call last):\n",
            "  File \"/usr/local/lib/python3.10/dist-packages/sklearn/model_selection/_validation.py\", line 686, in _fit_and_score\n",
            "    estimator.fit(X_train, y_train, **fit_params)\n",
            "  File \"/usr/local/lib/python3.10/dist-packages/sklearn/pipeline.py\", line 405, in fit\n",
            "    self._final_estimator.fit(Xt, y, **fit_params_last_step)\n",
            "  File \"/usr/local/lib/python3.10/dist-packages/sklearn/linear_model/_logistic.py\", line 1291, in fit\n",
            "    fold_coefs_ = Parallel(n_jobs=self.n_jobs, verbose=self.verbose, prefer=prefer)(\n",
            "  File \"/usr/local/lib/python3.10/dist-packages/sklearn/utils/parallel.py\", line 63, in __call__\n",
            "    return super().__call__(iterable_with_config)\n",
            "  File \"/usr/local/lib/python3.10/dist-packages/joblib/parallel.py\", line 1863, in __call__\n",
            "    return output if self.return_generator else list(output)\n",
            "  File \"/usr/local/lib/python3.10/dist-packages/joblib/parallel.py\", line 1792, in _get_sequential_output\n",
            "    res = func(*args, **kwargs)\n",
            "  File \"/usr/local/lib/python3.10/dist-packages/sklearn/utils/parallel.py\", line 123, in __call__\n",
            "    return self.function(*args, **kwargs)\n",
            "  File \"/usr/local/lib/python3.10/dist-packages/sklearn/linear_model/_logistic.py\", line 521, in _logistic_regression_path\n",
            "    alpha = (1.0 / C) * (1 - l1_ratio)\n",
            "TypeError: unsupported operand type(s) for -: 'int' and 'NoneType'\n",
            "\n",
            "\n",
            "/usr/local/lib/python3.10/dist-packages/sklearn/model_selection/_search.py:952: UserWarning:\n",
            "\n",
            "One or more of the test scores are non-finite: [0.6975 0.642  0.695  0.7035 0.659  0.655  0.656  0.6565    nan    nan\n",
            "    nan 0.6525    nan    nan    nan    nan 0.701  0.6415 0.7    0.7065\n",
            " 0.655  0.655  0.6545 0.6545    nan    nan    nan 0.652     nan    nan\n",
            "    nan    nan]\n",
            "\n"
          ]
        },
        {
          "output_type": "stream",
          "name": "stdout",
          "text": [
            "Best score and parameter combination:\n",
            "0.7064999999999999 {'lr_clf__class_weight': 'balanced', 'lr_clf__penalty': None, 'lr_clf__solver': 'saga'}\n"
          ]
        },
        {
          "output_type": "stream",
          "name": "stderr",
          "text": [
            "/usr/local/lib/python3.10/dist-packages/sklearn/linear_model/_sag.py:350: ConvergenceWarning:\n",
            "\n",
            "The max_iter was reached which means the coef_ did not converge\n",
            "\n"
          ]
        }
      ]
    },
    {
      "cell_type": "code",
      "source": [
        "lr_ppl_clf = Pipeline([\n",
        "\n",
        "    ('lr_clf', LogisticRegression(solver='saga',penalty=None, class_weight='balanced', random_state=42))\n",
        "])\n",
        "lr_ppl_clf.fit(X_train, y_train)\n",
        "predicted_lr = lr_ppl_clf.predict(X_test)\n",
        "print(metrics.classification_report(y_test, predicted_lr))\n",
        "print(metrics.accuracy_score(y_test, predicted_lr))\n",
        "print(metrics.precision_score(y_test, predicted_lr, average='macro'))\n",
        "print(metrics.recall_score(y_test, predicted_lr, average='macro'))\n",
        "print(metrics.f1_score(y_test, predicted_lr, average='macro'))"
      ],
      "metadata": {
        "colab": {
          "base_uri": "https://localhost:8080/"
        },
        "id": "C6W3YZQVAcRK",
        "outputId": "c5f629d9-866f-48e5-c483-427d73f9b2bc"
      },
      "execution_count": null,
      "outputs": [
        {
          "output_type": "stream",
          "name": "stderr",
          "text": [
            "/usr/local/lib/python3.10/dist-packages/sklearn/linear_model/_sag.py:350: ConvergenceWarning:\n",
            "\n",
            "The max_iter was reached which means the coef_ did not converge\n",
            "\n"
          ]
        },
        {
          "output_type": "stream",
          "name": "stdout",
          "text": [
            "                                                                   precision    recall  f1-score   support\n",
            "\n",
            "               Закон, региональный уровень, законодательный орган       0.82      0.86      0.84       329\n",
            "                Закон, федеральный уровень, законодательный орган       0.91      0.92      0.91       347\n",
            " Постановление, региональный уровень, глава исполнительной власти       0.66      0.61      0.64       318\n",
            "       Постановление, региональный уровень, законодательный орган       0.86      0.83      0.85       302\n",
            "Постановление, региональный уровень, органы исполнительной власти       0.82      0.89      0.86       244\n",
            "               Постановление, региональный уровень, правительство       0.65      0.62      0.63       318\n",
            "                Постановление, федеральный уровень, правительство       0.80      0.81      0.81       314\n",
            "       Приказ, региональный уровень, органы исполнительной власти       0.76      0.80      0.78       325\n",
            "        Приказ, федеральный уровень, органы исполнительной власти       0.81      0.82      0.81       315\n",
            "  Распоряжение, региональный уровень, глава исполнительной власти       0.70      0.62      0.66       330\n",
            "                Распоряжение, региональный уровень, правительство       0.60      0.60      0.60       323\n",
            "   Распоряжение, федеральный уровень, глава исполнительной власти       0.76      0.80      0.78       272\n",
            "                 Распоряжение, федеральный уровень, правительство       0.79      0.73      0.76       324\n",
            "          Указ, региональный уровень, глава исполнительной власти       0.63      0.69      0.66       296\n",
            "           Указ, федеральный уровень, глава исполнительной власти       0.73      0.75      0.74       222\n",
            "\n",
            "                                                         accuracy                           0.75      4579\n",
            "                                                        macro avg       0.75      0.76      0.75      4579\n",
            "                                                     weighted avg       0.75      0.75      0.75      4579\n",
            "\n",
            "0.7549683336973139\n",
            "0.7536941214921343\n",
            "0.7567842034673311\n",
            "0.7546510103516854\n"
          ]
        }
      ]
    },
    {
      "cell_type": "code",
      "source": [
        "sgd_ppl_clf = Pipeline([\n",
        "\n",
        "    ('sgd_clf', SGDClassifier(random_state=42))\n",
        "])\n",
        "\n",
        "parameters = {\n",
        "              'sgd_clf__loss':['hinge', 'log', 'modified_huber', 'squared_hinge', 'perceptron'],\n",
        "              'sgd_clf__class_weight':[None, 'balanced'],\n",
        "              'sgd_clf__penalty':[None, 'l2', 'l1', 'elasticnet'],\n",
        "\n",
        "              }\n",
        "model = GridSearchCV(sgd_ppl_clf, parameters, cv=4, n_jobs=-1).fit(X_train[:2000], y_train[:2000])\n",
        "print('Best score and parameter combination:')\n",
        "print(model.best_score_, model.best_params_)"
      ],
      "metadata": {
        "colab": {
          "base_uri": "https://localhost:8080/"
        },
        "id": "HnBtSOOTAcgi",
        "outputId": "1a09bb96-c4c8-4267-8f3b-a7067757a9dd"
      },
      "execution_count": null,
      "outputs": [
        {
          "output_type": "stream",
          "name": "stderr",
          "text": [
            "/usr/local/lib/python3.10/dist-packages/sklearn/linear_model/_stochastic_gradient.py:163: FutureWarning:\n",
            "\n",
            "The loss 'log' was deprecated in v1.1 and will be removed in version 1.3. Use `loss='log_loss'` which is equivalent.\n",
            "\n"
          ]
        },
        {
          "output_type": "stream",
          "name": "stdout",
          "text": [
            "Best score and parameter combination:\n",
            "0.662 {'sgd_clf__class_weight': None, 'sgd_clf__loss': 'log', 'sgd_clf__penalty': 'l1'}\n"
          ]
        }
      ]
    },
    {
      "cell_type": "code",
      "source": [
        "sgd_ppl_clf = Pipeline([\n",
        "\n",
        "    ('sgd_clf', SGDClassifier(loss='log_loss',penalty='l1', class_weight=None, random_state=42))\n",
        "])\n",
        "sgd_ppl_clf.fit(X_train, y_train)\n",
        "\n",
        "\n",
        "predicted_sgd_val = sgd_ppl_clf.predict(X_test)\n",
        "print(metrics.classification_report(y_test, predicted_sgd_val))\n",
        "print(metrics.accuracy_score(y_test, predicted_sgd_val), 'accuracy')\n",
        "print(metrics.precision_score(y_test, predicted_sgd_val, average='macro'), 'precision')\n",
        "print(metrics.recall_score(y_test, predicted_sgd_val, average='macro'), 'recall')\n",
        "print(metrics.f1_score(y_test, predicted_sgd_val, average='macro'), 'f1')"
      ],
      "metadata": {
        "colab": {
          "base_uri": "https://localhost:8080/"
        },
        "id": "FeskllhUAz5Z",
        "outputId": "370309e1-847c-48f7-ace9-eb68c76a87d8"
      },
      "execution_count": null,
      "outputs": [
        {
          "output_type": "stream",
          "name": "stdout",
          "text": [
            "                                                                   precision    recall  f1-score   support\n",
            "\n",
            "               Закон, региональный уровень, законодательный орган       0.80      0.81      0.81       329\n",
            "                Закон, федеральный уровень, законодательный орган       0.91      0.89      0.90       347\n",
            " Постановление, региональный уровень, глава исполнительной власти       0.59      0.56      0.58       318\n",
            "       Постановление, региональный уровень, законодательный орган       0.82      0.84      0.83       302\n",
            "Постановление, региональный уровень, органы исполнительной власти       0.89      0.85      0.87       244\n",
            "               Постановление, региональный уровень, правительство       0.62      0.56      0.59       318\n",
            "                Постановление, федеральный уровень, правительство       0.76      0.82      0.79       314\n",
            "       Приказ, региональный уровень, органы исполнительной власти       0.76      0.76      0.76       325\n",
            "        Приказ, федеральный уровень, органы исполнительной власти       0.77      0.76      0.76       315\n",
            "  Распоряжение, региональный уровень, глава исполнительной власти       0.69      0.60      0.64       330\n",
            "                Распоряжение, региональный уровень, правительство       0.54      0.62      0.58       323\n",
            "   Распоряжение, федеральный уровень, глава исполнительной власти       0.76      0.74      0.75       272\n",
            "                 Распоряжение, федеральный уровень, правительство       0.73      0.68      0.70       324\n",
            "          Указ, региональный уровень, глава исполнительной власти       0.57      0.67      0.62       296\n",
            "           Указ, федеральный уровень, глава исполнительной власти       0.71      0.72      0.71       222\n",
            "\n",
            "                                                         accuracy                           0.72      4579\n",
            "                                                        macro avg       0.73      0.73      0.73      4579\n",
            "                                                     weighted avg       0.73      0.72      0.72      4579\n",
            "\n",
            "0.7239571958943001 accuracy\n",
            "0.7276351075955751 precision\n",
            "0.7253694884338782 recall\n",
            "0.7255245692482883 f1\n"
          ]
        }
      ]
    },
    {
      "cell_type": "code",
      "source": [
        "fr_ppl_clf = Pipeline([\n",
        "\n",
        "    ('rf_clf', RandomForestClassifier(random_state=42))\n",
        "])\n",
        "\n",
        "parameters = {\n",
        "              'rf_clf__n_estimators':[300, 500, 700],\n",
        "              'rf_clf__max_depth':[3, 5, 8, 11],\n",
        "\n",
        "\n",
        "              }\n",
        "model = GridSearchCV(fr_ppl_clf, parameters, cv=4, n_jobs=-1).fit(X_train[:2000], y_train[:2000])\n",
        "print('Best score and parameter combination:')\n",
        "print(model.best_score_, model.best_params_)"
      ],
      "metadata": {
        "colab": {
          "base_uri": "https://localhost:8080/"
        },
        "id": "jDMY7qO_Az77",
        "outputId": "75129ec5-700b-4409-bb39-8801afe11bb2"
      },
      "execution_count": null,
      "outputs": [
        {
          "output_type": "stream",
          "name": "stdout",
          "text": [
            "Best score and parameter combination:\n",
            "0.6765 {'rf_clf__max_depth': 11, 'rf_clf__n_estimators': 500}\n"
          ]
        }
      ]
    },
    {
      "cell_type": "code",
      "source": [
        "fr_ppl_clf = Pipeline([\n",
        "\n",
        "    ('sgd_clf', RandomForestClassifier(n_estimators=500,max_depth=11,  random_state=42))\n",
        "])\n",
        "fr_ppl_clf.fit(X_train, y_train)\n",
        "\n",
        "\n",
        "ppredicted_fr_val = fr_ppl_clf.predict(X_test)\n",
        "print(metrics.classification_report(y_test, ppredicted_fr_val))\n",
        "print(metrics.accuracy_score(y_test, ppredicted_fr_val), 'accuracy')\n",
        "print(metrics.precision_score(y_test, ppredicted_fr_val, average='macro'), 'precision')\n",
        "print(metrics.recall_score(y_test, ppredicted_fr_val, average='macro'), 'recall')\n",
        "print(metrics.f1_score(y_test, ppredicted_fr_val, average='macro'), 'f1')"
      ],
      "metadata": {
        "colab": {
          "base_uri": "https://localhost:8080/"
        },
        "id": "2xzLgPPFAcmo",
        "outputId": "b7b1e2fb-46a5-4a63-b7e9-37115609e30d"
      },
      "execution_count": null,
      "outputs": [
        {
          "output_type": "stream",
          "name": "stdout",
          "text": [
            "                                                                   precision    recall  f1-score   support\n",
            "\n",
            "               Закон, региональный уровень, законодательный орган       0.73      0.90      0.80       329\n",
            "                Закон, федеральный уровень, законодательный орган       0.93      0.90      0.92       347\n",
            " Постановление, региональный уровень, глава исполнительной власти       0.69      0.58      0.63       318\n",
            "       Постановление, региональный уровень, законодательный орган       0.92      0.80      0.86       302\n",
            "Постановление, региональный уровень, органы исполнительной власти       0.97      0.86      0.91       244\n",
            "               Постановление, региональный уровень, правительство       0.55      0.64      0.59       318\n",
            "                Постановление, федеральный уровень, правительство       0.74      0.85      0.79       314\n",
            "       Приказ, региональный уровень, органы исполнительной власти       0.74      0.82      0.78       325\n",
            "        Приказ, федеральный уровень, органы исполнительной власти       0.77      0.89      0.83       315\n",
            "  Распоряжение, региональный уровень, глава исполнительной власти       0.79      0.64      0.70       330\n",
            "                Распоряжение, региональный уровень, правительство       0.61      0.64      0.63       323\n",
            "   Распоряжение, федеральный уровень, глава исполнительной власти       0.85      0.81      0.83       272\n",
            "                 Распоряжение, федеральный уровень, правительство       0.81      0.74      0.77       324\n",
            "          Указ, региональный уровень, глава исполнительной власти       0.67      0.64      0.65       296\n",
            "           Указ, федеральный уровень, глава исполнительной власти       0.83      0.71      0.77       222\n",
            "\n",
            "                                                         accuracy                           0.76      4579\n",
            "                                                        macro avg       0.77      0.76      0.76      4579\n",
            "                                                     weighted avg       0.77      0.76      0.76      4579\n",
            "\n",
            "0.7617383708233239 accuracy\n",
            "0.7726855891499559 precision\n",
            "0.7616056802957349 recall\n",
            "0.7638945486887042 f1\n"
          ]
        }
      ]
    },
    {
      "cell_type": "code",
      "source": [],
      "metadata": {
        "id": "i5Q5WfqeAcsN"
      },
      "execution_count": null,
      "outputs": []
    },
    {
      "cell_type": "code",
      "source": [],
      "metadata": {
        "id": "L-kcdFG4Acww"
      },
      "execution_count": null,
      "outputs": []
    },
    {
      "cell_type": "markdown",
      "source": [
        "Предобученный с td-idf"
      ],
      "metadata": {
        "id": "QGGcL1y5BO22"
      }
    },
    {
      "cell_type": "code",
      "source": [
        "X_train, X_test, y_train, y_test = train_test_split(df_w2v['w2v_simple_idf_pre'], df_w2v['doc_name'], test_size=0.2, random_state=42)\n",
        "X_train = np.vstack(X_train)\n",
        "X_test = np.vstack(X_test)"
      ],
      "metadata": {
        "id": "t58r0AILBRrI"
      },
      "execution_count": null,
      "outputs": []
    },
    {
      "cell_type": "code",
      "source": [
        "lr_ppl_clf = Pipeline([\n",
        "\n",
        "    ('lr_clf', LogisticRegression(random_state=42))\n",
        "])\n",
        "\n",
        "parameters = {\n",
        "              'lr_clf__solver':['lbfgs', 'newton-cg', 'sag', 'saga'],\n",
        "              'lr_clf__class_weight':[None, 'balanced'],\n",
        "              'lr_clf__penalty':[None, 'l2', 'l1', 'elasticnet'],\n",
        "              }\n",
        "\n",
        "model = GridSearchCV(lr_ppl_clf, parameters, cv=4, n_jobs=-1).fit(X_train[:2000], y_train[:2000])\n",
        "print('Best score and parameter combination:')\n",
        "print(model.best_score_, model.best_params_)"
      ],
      "metadata": {
        "colab": {
          "base_uri": "https://localhost:8080/"
        },
        "id": "18kOzWqoAc3V",
        "outputId": "18b2131e-8635-48ea-8ed6-f2a8a420cc1d"
      },
      "execution_count": null,
      "outputs": [
        {
          "output_type": "stream",
          "name": "stderr",
          "text": [
            "/usr/local/lib/python3.10/dist-packages/sklearn/model_selection/_validation.py:378: FitFailedWarning:\n",
            "\n",
            "\n",
            "56 fits failed out of a total of 128.\n",
            "The score on these train-test partitions for these parameters will be set to nan.\n",
            "If these failures are not expected, you can try to debug them by setting error_score='raise'.\n",
            "\n",
            "Below are more details about the failures:\n",
            "--------------------------------------------------------------------------------\n",
            "8 fits failed with the following error:\n",
            "Traceback (most recent call last):\n",
            "  File \"/usr/local/lib/python3.10/dist-packages/sklearn/model_selection/_validation.py\", line 686, in _fit_and_score\n",
            "    estimator.fit(X_train, y_train, **fit_params)\n",
            "  File \"/usr/local/lib/python3.10/dist-packages/sklearn/pipeline.py\", line 405, in fit\n",
            "    self._final_estimator.fit(Xt, y, **fit_params_last_step)\n",
            "  File \"/usr/local/lib/python3.10/dist-packages/sklearn/linear_model/_logistic.py\", line 1162, in fit\n",
            "    solver = _check_solver(self.solver, self.penalty, self.dual)\n",
            "  File \"/usr/local/lib/python3.10/dist-packages/sklearn/linear_model/_logistic.py\", line 54, in _check_solver\n",
            "    raise ValueError(\n",
            "ValueError: Solver lbfgs supports only 'l2' or 'none' penalties, got l1 penalty.\n",
            "\n",
            "--------------------------------------------------------------------------------\n",
            "8 fits failed with the following error:\n",
            "Traceback (most recent call last):\n",
            "  File \"/usr/local/lib/python3.10/dist-packages/sklearn/model_selection/_validation.py\", line 686, in _fit_and_score\n",
            "    estimator.fit(X_train, y_train, **fit_params)\n",
            "  File \"/usr/local/lib/python3.10/dist-packages/sklearn/pipeline.py\", line 405, in fit\n",
            "    self._final_estimator.fit(Xt, y, **fit_params_last_step)\n",
            "  File \"/usr/local/lib/python3.10/dist-packages/sklearn/linear_model/_logistic.py\", line 1162, in fit\n",
            "    solver = _check_solver(self.solver, self.penalty, self.dual)\n",
            "  File \"/usr/local/lib/python3.10/dist-packages/sklearn/linear_model/_logistic.py\", line 54, in _check_solver\n",
            "    raise ValueError(\n",
            "ValueError: Solver newton-cg supports only 'l2' or 'none' penalties, got l1 penalty.\n",
            "\n",
            "--------------------------------------------------------------------------------\n",
            "8 fits failed with the following error:\n",
            "Traceback (most recent call last):\n",
            "  File \"/usr/local/lib/python3.10/dist-packages/sklearn/model_selection/_validation.py\", line 686, in _fit_and_score\n",
            "    estimator.fit(X_train, y_train, **fit_params)\n",
            "  File \"/usr/local/lib/python3.10/dist-packages/sklearn/pipeline.py\", line 405, in fit\n",
            "    self._final_estimator.fit(Xt, y, **fit_params_last_step)\n",
            "  File \"/usr/local/lib/python3.10/dist-packages/sklearn/linear_model/_logistic.py\", line 1162, in fit\n",
            "    solver = _check_solver(self.solver, self.penalty, self.dual)\n",
            "  File \"/usr/local/lib/python3.10/dist-packages/sklearn/linear_model/_logistic.py\", line 54, in _check_solver\n",
            "    raise ValueError(\n",
            "ValueError: Solver sag supports only 'l2' or 'none' penalties, got l1 penalty.\n",
            "\n",
            "--------------------------------------------------------------------------------\n",
            "8 fits failed with the following error:\n",
            "Traceback (most recent call last):\n",
            "  File \"/usr/local/lib/python3.10/dist-packages/sklearn/model_selection/_validation.py\", line 686, in _fit_and_score\n",
            "    estimator.fit(X_train, y_train, **fit_params)\n",
            "  File \"/usr/local/lib/python3.10/dist-packages/sklearn/pipeline.py\", line 405, in fit\n",
            "    self._final_estimator.fit(Xt, y, **fit_params_last_step)\n",
            "  File \"/usr/local/lib/python3.10/dist-packages/sklearn/linear_model/_logistic.py\", line 1162, in fit\n",
            "    solver = _check_solver(self.solver, self.penalty, self.dual)\n",
            "  File \"/usr/local/lib/python3.10/dist-packages/sklearn/linear_model/_logistic.py\", line 54, in _check_solver\n",
            "    raise ValueError(\n",
            "ValueError: Solver lbfgs supports only 'l2' or 'none' penalties, got elasticnet penalty.\n",
            "\n",
            "--------------------------------------------------------------------------------\n",
            "8 fits failed with the following error:\n",
            "Traceback (most recent call last):\n",
            "  File \"/usr/local/lib/python3.10/dist-packages/sklearn/model_selection/_validation.py\", line 686, in _fit_and_score\n",
            "    estimator.fit(X_train, y_train, **fit_params)\n",
            "  File \"/usr/local/lib/python3.10/dist-packages/sklearn/pipeline.py\", line 405, in fit\n",
            "    self._final_estimator.fit(Xt, y, **fit_params_last_step)\n",
            "  File \"/usr/local/lib/python3.10/dist-packages/sklearn/linear_model/_logistic.py\", line 1162, in fit\n",
            "    solver = _check_solver(self.solver, self.penalty, self.dual)\n",
            "  File \"/usr/local/lib/python3.10/dist-packages/sklearn/linear_model/_logistic.py\", line 54, in _check_solver\n",
            "    raise ValueError(\n",
            "ValueError: Solver newton-cg supports only 'l2' or 'none' penalties, got elasticnet penalty.\n",
            "\n",
            "--------------------------------------------------------------------------------\n",
            "8 fits failed with the following error:\n",
            "Traceback (most recent call last):\n",
            "  File \"/usr/local/lib/python3.10/dist-packages/sklearn/model_selection/_validation.py\", line 686, in _fit_and_score\n",
            "    estimator.fit(X_train, y_train, **fit_params)\n",
            "  File \"/usr/local/lib/python3.10/dist-packages/sklearn/pipeline.py\", line 405, in fit\n",
            "    self._final_estimator.fit(Xt, y, **fit_params_last_step)\n",
            "  File \"/usr/local/lib/python3.10/dist-packages/sklearn/linear_model/_logistic.py\", line 1162, in fit\n",
            "    solver = _check_solver(self.solver, self.penalty, self.dual)\n",
            "  File \"/usr/local/lib/python3.10/dist-packages/sklearn/linear_model/_logistic.py\", line 54, in _check_solver\n",
            "    raise ValueError(\n",
            "ValueError: Solver sag supports only 'l2' or 'none' penalties, got elasticnet penalty.\n",
            "\n",
            "--------------------------------------------------------------------------------\n",
            "8 fits failed with the following error:\n",
            "Traceback (most recent call last):\n",
            "  File \"/usr/local/lib/python3.10/dist-packages/sklearn/model_selection/_validation.py\", line 686, in _fit_and_score\n",
            "    estimator.fit(X_train, y_train, **fit_params)\n",
            "  File \"/usr/local/lib/python3.10/dist-packages/sklearn/pipeline.py\", line 405, in fit\n",
            "    self._final_estimator.fit(Xt, y, **fit_params_last_step)\n",
            "  File \"/usr/local/lib/python3.10/dist-packages/sklearn/linear_model/_logistic.py\", line 1291, in fit\n",
            "    fold_coefs_ = Parallel(n_jobs=self.n_jobs, verbose=self.verbose, prefer=prefer)(\n",
            "  File \"/usr/local/lib/python3.10/dist-packages/sklearn/utils/parallel.py\", line 63, in __call__\n",
            "    return super().__call__(iterable_with_config)\n",
            "  File \"/usr/local/lib/python3.10/dist-packages/joblib/parallel.py\", line 1863, in __call__\n",
            "    return output if self.return_generator else list(output)\n",
            "  File \"/usr/local/lib/python3.10/dist-packages/joblib/parallel.py\", line 1792, in _get_sequential_output\n",
            "    res = func(*args, **kwargs)\n",
            "  File \"/usr/local/lib/python3.10/dist-packages/sklearn/utils/parallel.py\", line 123, in __call__\n",
            "    return self.function(*args, **kwargs)\n",
            "  File \"/usr/local/lib/python3.10/dist-packages/sklearn/linear_model/_logistic.py\", line 521, in _logistic_regression_path\n",
            "    alpha = (1.0 / C) * (1 - l1_ratio)\n",
            "TypeError: unsupported operand type(s) for -: 'int' and 'NoneType'\n",
            "\n",
            "\n",
            "/usr/local/lib/python3.10/dist-packages/sklearn/model_selection/_search.py:952: UserWarning:\n",
            "\n",
            "One or more of the test scores are non-finite: [0.719  0.645  0.7105 0.693  0.724  0.727  0.707  0.6895    nan    nan\n",
            "    nan 0.6855    nan    nan    nan    nan 0.721  0.647  0.7125 0.6895\n",
            " 0.728  0.728  0.706  0.6875    nan    nan    nan 0.684     nan    nan\n",
            "    nan    nan]\n",
            "\n"
          ]
        },
        {
          "output_type": "stream",
          "name": "stdout",
          "text": [
            "Best score and parameter combination:\n",
            "0.728 {'lr_clf__class_weight': 'balanced', 'lr_clf__penalty': 'l2', 'lr_clf__solver': 'lbfgs'}\n"
          ]
        },
        {
          "output_type": "stream",
          "name": "stderr",
          "text": [
            "/usr/local/lib/python3.10/dist-packages/sklearn/linear_model/_logistic.py:458: ConvergenceWarning:\n",
            "\n",
            "lbfgs failed to converge (status=1):\n",
            "STOP: TOTAL NO. of ITERATIONS REACHED LIMIT.\n",
            "\n",
            "Increase the number of iterations (max_iter) or scale the data as shown in:\n",
            "    https://scikit-learn.org/stable/modules/preprocessing.html\n",
            "Please also refer to the documentation for alternative solver options:\n",
            "    https://scikit-learn.org/stable/modules/linear_model.html#logistic-regression\n",
            "\n"
          ]
        }
      ]
    },
    {
      "cell_type": "code",
      "source": [
        "lr_ppl_clf = Pipeline([\n",
        "\n",
        "    ('lr_clf', LogisticRegression(solver='lbfgs',penalty='l2', class_weight='balanced', random_state=42))\n",
        "])\n",
        "lr_ppl_clf.fit(X_train, y_train)\n",
        "predicted_lr = lr_ppl_clf.predict(X_test)\n",
        "print(metrics.classification_report(y_test, predicted_lr))\n",
        "print(metrics.accuracy_score(y_test, predicted_lr))\n",
        "print(metrics.precision_score(y_test, predicted_lr, average='macro'))\n",
        "print(metrics.recall_score(y_test, predicted_lr, average='macro'))\n",
        "print(metrics.f1_score(y_test, predicted_lr, average='macro'))"
      ],
      "metadata": {
        "colab": {
          "base_uri": "https://localhost:8080/"
        },
        "id": "IFBG1BgxAhl0",
        "outputId": "a2b62522-8799-43fb-a0a6-985e80798171"
      },
      "execution_count": null,
      "outputs": [
        {
          "output_type": "stream",
          "name": "stderr",
          "text": [
            "/usr/local/lib/python3.10/dist-packages/sklearn/linear_model/_logistic.py:458: ConvergenceWarning:\n",
            "\n",
            "lbfgs failed to converge (status=1):\n",
            "STOP: TOTAL NO. of ITERATIONS REACHED LIMIT.\n",
            "\n",
            "Increase the number of iterations (max_iter) or scale the data as shown in:\n",
            "    https://scikit-learn.org/stable/modules/preprocessing.html\n",
            "Please also refer to the documentation for alternative solver options:\n",
            "    https://scikit-learn.org/stable/modules/linear_model.html#logistic-regression\n",
            "\n"
          ]
        },
        {
          "output_type": "stream",
          "name": "stdout",
          "text": [
            "                                                                   precision    recall  f1-score   support\n",
            "\n",
            "               Закон, региональный уровень, законодательный орган       0.82      0.86      0.84       329\n",
            "                Закон, федеральный уровень, законодательный орган       0.90      0.96      0.93       347\n",
            " Постановление, региональный уровень, глава исполнительной власти       0.63      0.62      0.63       318\n",
            "       Постановление, региональный уровень, законодательный орган       0.88      0.82      0.85       302\n",
            "Постановление, региональный уровень, органы исполнительной власти       0.80      0.88      0.84       244\n",
            "               Постановление, региональный уровень, правительство       0.63      0.64      0.63       318\n",
            "                Постановление, федеральный уровень, правительство       0.79      0.82      0.81       314\n",
            "       Приказ, региональный уровень, органы исполнительной власти       0.82      0.78      0.79       325\n",
            "        Приказ, федеральный уровень, органы исполнительной власти       0.82      0.83      0.82       315\n",
            "  Распоряжение, региональный уровень, глава исполнительной власти       0.70      0.62      0.65       330\n",
            "                Распоряжение, региональный уровень, правительство       0.62      0.66      0.64       323\n",
            "   Распоряжение, федеральный уровень, глава исполнительной власти       0.85      0.86      0.85       272\n",
            "                 Распоряжение, федеральный уровень, правительство       0.79      0.77      0.78       324\n",
            "          Указ, региональный уровень, глава исполнительной власти       0.69      0.66      0.67       296\n",
            "           Указ, федеральный уровень, глава исполнительной власти       0.84      0.83      0.84       222\n",
            "\n",
            "                                                         accuracy                           0.77      4579\n",
            "                                                        macro avg       0.77      0.77      0.77      4579\n",
            "                                                     weighted avg       0.77      0.77      0.77      4579\n",
            "\n",
            "0.7704739025988206\n",
            "0.7717109592103564\n",
            "0.7731430261253794\n",
            "0.7717790276959773\n"
          ]
        }
      ]
    },
    {
      "cell_type": "code",
      "source": [],
      "metadata": {
        "id": "WIfP2pdqAxfv"
      },
      "execution_count": null,
      "outputs": []
    },
    {
      "cell_type": "code",
      "source": [
        "sgd_ppl_clf = Pipeline([\n",
        "\n",
        "    ('sgd_clf', SGDClassifier(random_state=42))\n",
        "])\n",
        "\n",
        "parameters = {\n",
        "              'sgd_clf__loss':['hinge', 'log', 'modified_huber', 'squared_hinge', 'perceptron'],\n",
        "              'sgd_clf__class_weight':[None, 'balanced'],\n",
        "              'sgd_clf__penalty':[None, 'l2', 'l1', 'elasticnet'],\n",
        "\n",
        "              }\n",
        "model = GridSearchCV(sgd_ppl_clf, parameters, cv=4, n_jobs=-1).fit(X_train[:2000], y_train[:2000])\n",
        "print('Best score and parameter combination:')\n",
        "print(model.best_score_, model.best_params_)"
      ],
      "metadata": {
        "colab": {
          "base_uri": "https://localhost:8080/"
        },
        "id": "BlpctC_aAxiI",
        "outputId": "bb1d616f-bf97-49ba-ff71-2a04c34f13cc"
      },
      "execution_count": null,
      "outputs": [
        {
          "output_type": "stream",
          "name": "stdout",
          "text": [
            "Best score and parameter combination:\n",
            "0.6739999999999999 {'sgd_clf__class_weight': None, 'sgd_clf__loss': 'hinge', 'sgd_clf__penalty': 'l1'}\n"
          ]
        }
      ]
    },
    {
      "cell_type": "code",
      "source": [
        "sgd_ppl_clf = Pipeline([\n",
        "\n",
        "    ('sgd_clf', SGDClassifier(loss='hinge',penalty='l1', class_weight=None, random_state=42))\n",
        "])\n",
        "sgd_ppl_clf.fit(X_train, y_train)\n",
        "\n",
        "\n",
        "predicted_sgd_val = sgd_ppl_clf.predict(X_test)\n",
        "print(metrics.classification_report(y_test, predicted_sgd_val))\n",
        "print(metrics.accuracy_score(y_test, predicted_sgd_val), 'accuracy')\n",
        "print(metrics.precision_score(y_test, predicted_sgd_val, average='macro'), 'precision')\n",
        "print(metrics.recall_score(y_test, predicted_sgd_val, average='macro'), 'recall')\n",
        "print(metrics.f1_score(y_test, predicted_sgd_val, average='macro'), 'f1')"
      ],
      "metadata": {
        "colab": {
          "base_uri": "https://localhost:8080/"
        },
        "id": "mnF4WMxpA4cE",
        "outputId": "a1cc5bdb-0e7d-4c87-e3b0-2358f7e2e0fd"
      },
      "execution_count": null,
      "outputs": [
        {
          "output_type": "stream",
          "name": "stdout",
          "text": [
            "                                                                   precision    recall  f1-score   support\n",
            "\n",
            "               Закон, региональный уровень, законодательный орган       0.86      0.75      0.80       329\n",
            "                Закон, федеральный уровень, законодательный орган       0.97      0.97      0.97       347\n",
            " Постановление, региональный уровень, глава исполнительной власти       0.38      0.58      0.46       318\n",
            "       Постановление, региональный уровень, законодательный орган       0.88      0.78      0.83       302\n",
            "Постановление, региональный уровень, органы исполнительной власти       0.86      0.82      0.84       244\n",
            "               Постановление, региональный уровень, правительство       0.52      0.50      0.51       318\n",
            "                Постановление, федеральный уровень, правительство       0.85      0.83      0.84       314\n",
            "       Приказ, региональный уровень, органы исполнительной власти       0.78      0.77      0.78       325\n",
            "        Приказ, федеральный уровень, органы исполнительной власти       0.86      0.72      0.79       315\n",
            "  Распоряжение, региональный уровень, глава исполнительной власти       0.54      0.63      0.58       330\n",
            "                Распоряжение, региональный уровень, правительство       0.49      0.70      0.58       323\n",
            "   Распоряжение, федеральный уровень, глава исполнительной власти       0.78      0.71      0.74       272\n",
            "                 Распоряжение, федеральный уровень, правительство       0.83      0.57      0.68       324\n",
            "          Указ, региональный уровень, глава исполнительной власти       0.69      0.53      0.60       296\n",
            "           Указ, федеральный уровень, глава исполнительной власти       0.76      0.75      0.76       222\n",
            "\n",
            "                                                         accuracy                           0.71      4579\n",
            "                                                        macro avg       0.74      0.71      0.72      4579\n",
            "                                                     weighted avg       0.73      0.71      0.71      4579\n",
            "\n",
            "0.7069229089320812 accuracy\n",
            "0.7363507063504535 precision\n",
            "0.7076885634283596 recall\n",
            "0.7159632617081101 f1\n"
          ]
        }
      ]
    },
    {
      "cell_type": "code",
      "source": [
        "fr_ppl_clf = Pipeline([\n",
        "\n",
        "    ('rf_clf', RandomForestClassifier(random_state=42))\n",
        "])\n",
        "\n",
        "parameters = {\n",
        "              'rf_clf__n_estimators':[300, 500, 700],\n",
        "              'rf_clf__max_depth':[3, 5, 8, 11],\n",
        "\n",
        "\n",
        "              }\n",
        "model = GridSearchCV(fr_ppl_clf, parameters, cv=4, n_jobs=-1).fit(X_train[:2000], y_train[:2000])\n",
        "print('Best score and parameter combination:')\n",
        "print(model.best_score_, model.best_params_)"
      ],
      "metadata": {
        "colab": {
          "base_uri": "https://localhost:8080/"
        },
        "id": "tRXgufWEBAJH",
        "outputId": "ab271be2-60a6-4e6c-ae42-512c3b726f31"
      },
      "execution_count": null,
      "outputs": [
        {
          "output_type": "stream",
          "name": "stdout",
          "text": [
            "Best score and parameter combination:\n",
            "0.744 {'rf_clf__max_depth': 11, 'rf_clf__n_estimators': 300}\n"
          ]
        }
      ]
    },
    {
      "cell_type": "code",
      "source": [
        "fr_ppl_clf = Pipeline([\n",
        "\n",
        "    ('sgd_clf', RandomForestClassifier(n_estimators=300,max_depth=11,  random_state=42))\n",
        "])\n",
        "fr_ppl_clf.fit(X_train, y_train)\n",
        "\n",
        "\n",
        "ppredicted_fr_val = fr_ppl_clf.predict(X_test)\n",
        "print(metrics.classification_report(y_test, ppredicted_fr_val))\n",
        "print(metrics.accuracy_score(y_test, ppredicted_fr_val), 'accuracy')\n",
        "print(metrics.precision_score(y_test, ppredicted_fr_val, average='macro'), 'precision')\n",
        "print(metrics.recall_score(y_test, ppredicted_fr_val, average='macro'), 'recall')\n",
        "print(metrics.f1_score(y_test, ppredicted_fr_val, average='macro'), 'f1')"
      ],
      "metadata": {
        "colab": {
          "base_uri": "https://localhost:8080/"
        },
        "id": "Vfe0hrWrBFU7",
        "outputId": "8b64f3f7-a0de-4248-c1b4-310259b7a1cd"
      },
      "execution_count": null,
      "outputs": [
        {
          "output_type": "stream",
          "name": "stdout",
          "text": [
            "                                                                   precision    recall  f1-score   support\n",
            "\n",
            "               Закон, региональный уровень, законодательный орган       0.79      0.85      0.82       329\n",
            "                Закон, федеральный уровень, законодательный орган       0.94      0.99      0.96       347\n",
            " Постановление, региональный уровень, глава исполнительной власти       0.74      0.70      0.72       318\n",
            "       Постановление, региональный уровень, законодательный орган       0.95      0.80      0.87       302\n",
            "Постановление, региональный уровень, органы исполнительной власти       0.98      0.83      0.90       244\n",
            "               Постановление, региональный уровень, правительство       0.68      0.57      0.62       318\n",
            "                Постановление, федеральный уровень, правительство       0.82      0.89      0.85       314\n",
            "       Приказ, региональный уровень, органы исполнительной власти       0.73      0.89      0.80       325\n",
            "        Приказ, федеральный уровень, органы исполнительной власти       0.86      0.83      0.84       315\n",
            "  Распоряжение, региональный уровень, глава исполнительной власти       0.79      0.81      0.80       330\n",
            "                Распоряжение, региональный уровень, правительство       0.72      0.73      0.73       323\n",
            "   Распоряжение, федеральный уровень, глава исполнительной власти       0.94      0.96      0.95       272\n",
            "                 Распоряжение, федеральный уровень, правительство       0.86      0.83      0.84       324\n",
            "          Указ, региональный уровень, глава исполнительной власти       0.65      0.70      0.67       296\n",
            "           Указ, федеральный уровень, глава исполнительной власти       0.95      0.93      0.94       222\n",
            "\n",
            "                                                         accuracy                           0.82      4579\n",
            "                                                        macro avg       0.83      0.82      0.82      4579\n",
            "                                                     weighted avg       0.82      0.82      0.82      4579\n",
            "\n",
            "0.8180825507752785 accuracy\n",
            "0.8262832365031543 precision\n",
            "0.8201799694578126 recall\n",
            "0.8212239961643494 f1\n"
          ]
        }
      ]
    }
  ]
}