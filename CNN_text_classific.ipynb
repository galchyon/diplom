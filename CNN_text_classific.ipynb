{
  "nbformat": 4,
  "nbformat_minor": 0,
  "metadata": {
    "colab": {
      "provenance": [],
      "gpuType": "T4"
    },
    "kernelspec": {
      "name": "python3",
      "display_name": "Python 3"
    },
    "language_info": {
      "name": "python"
    },
    "accelerator": "GPU"
  },
  "cells": [
    {
      "cell_type": "code",
      "execution_count": 1,
      "metadata": {
        "colab": {
          "base_uri": "https://localhost:8080/"
        },
        "id": "6ZgaWCaa5XTS",
        "outputId": "1fa1b7e4-9b83-4a70-dc0f-92d83f1ab320"
      },
      "outputs": [
        {
          "output_type": "stream",
          "name": "stdout",
          "text": [
            "Mounted at /content/drive\n"
          ]
        }
      ],
      "source": [
        "from google.colab import drive\n",
        "drive.mount('/content/drive')"
      ]
    },
    {
      "cell_type": "code",
      "source": [
        "import numpy as np\n",
        "import pandas as pd\n",
        "from sklearn.model_selection import train_test_split\n",
        "from sklearn.linear_model import LogisticRegression\n",
        "from sklearn.model_selection import GridSearchCV\n",
        "from sklearn.model_selection import cross_val_score\n",
        "import torch\n",
        "from torch import nn\n",
        "from torch.nn import functional as F\n",
        "\n",
        "\n",
        "import itertools\n",
        "import string\n",
        "\n",
        "import numpy as np\n",
        "\n",
        "from IPython.display import clear_output\n",
        "from matplotlib import pyplot as plt\n",
        "from nltk.tokenize import WordPunctTokenizer\n",
        "\n",
        "from collections import Counter\n",
        "\n",
        "from tqdm import tqdm, tqdm_notebook\n",
        "\n",
        "from sklearn.manifold import TSNE\n",
        "import plotly.express as px"
      ],
      "metadata": {
        "id": "STMoDGj55ypn"
      },
      "execution_count": 2,
      "outputs": []
    },
    {
      "cell_type": "code",
      "source": [
        "df = pd.read_csv('//content/drive/MyDrive/df_difficult_26_01.csv')\n",
        "target_names = list(set(df['doc_name'].tolist()))\n",
        "label2idx = {label: idx for idx, label in enumerate(target_names)}\n",
        "df['doc_name_enc']=df['doc_name'].replace(label2idx)\n",
        "df"
      ],
      "metadata": {
        "colab": {
          "base_uri": "https://localhost:8080/",
          "height": 597
        },
        "id": "dlDsT-zz55zE",
        "outputId": "108c70be-7f06-435c-883d-4325573d7b56"
      },
      "execution_count": 79,
      "outputs": [
        {
          "output_type": "execute_result",
          "data": {
            "text/plain": [
              "                                                doc_name  \\\n",
              "0      Распоряжение, федеральный уровень, глава испол...   \n",
              "1      Распоряжение, федеральный уровень, глава испол...   \n",
              "2      Указ, федеральный уровень, глава исполнительно...   \n",
              "3      Распоряжение, федеральный уровень, глава испол...   \n",
              "4      Распоряжение, федеральный уровень, глава испол...   \n",
              "...                                                  ...   \n",
              "22886  Указ, региональный уровень, глава исполнительн...   \n",
              "22887  Указ, региональный уровень, глава исполнительн...   \n",
              "22888  Указ, региональный уровень, глава исполнительн...   \n",
              "22889  Указ, региональный уровень, глава исполнительн...   \n",
              "22890  Указ, региональный уровень, глава исполнительн...   \n",
              "\n",
              "                                                doc_text  \\\n",
              "0      распоряжение президента российской федерации о...   \n",
              "1      распоряжение президента российской федерации о...   \n",
              "2      указ президента российской федерации об освобо...   \n",
              "3      распоряжение президента российской федерации о...   \n",
              "4      распоряжение президента российской федерации о...   \n",
              "...                                                  ...   \n",
              "22886  губернатор орловской области у к аз о мерах по...   \n",
              "22887  ммжхжчмитжкъщ  а  г х м  башкортостан республи...   \n",
              "22888  у к а з губернатора пермского края   об отмене...   \n",
              "22889  у к а з губернатора пермского края   г об утве...   \n",
              "22890  указ об отмене ограничительных мероприятий кар...   \n",
              "\n",
              "                                              text_token  \\\n",
              "0      распоряжение президент российский федерация ус...   \n",
              "1      распоряжение президент российский федерация пр...   \n",
              "2      указ президент российский федерация освобожден...   \n",
              "3      распоряжение президент российский федерация по...   \n",
              "4      распоряжение президент российский федерация по...   \n",
              "...                                                  ...   \n",
              "22886  губернатор орловский область мера проведение к...   \n",
              "22887  ммжхжчмитжкъщий башкортостан республикаь респу...   \n",
              "22888  губернатор пермский край отмена ограничение ка...   \n",
              "22889  губернатор пермский край утверждение порядок п...   \n",
              "22890  указ отмена ограничительный мероприятие карант...   \n",
              "\n",
              "                                      text_token_filtred  \\\n",
              "0      распоряжение президент российский федерация ус...   \n",
              "1      распоряжение президент российский федерация пр...   \n",
              "2      указ президент российский федерация освобожден...   \n",
              "3      распоряжение президент российский федерация по...   \n",
              "4      распоряжение президент российский федерация по...   \n",
              "...                                                  ...   \n",
              "22886  губернатор орловский область мера проведение к...   \n",
              "22887  ммжхжчмитжкъщий башкортостан республикаь респу...   \n",
              "22888  губернатор пермский край отмена ограничение ка...   \n",
              "22889  губернатор пермский край утверждение порядок п...   \n",
              "22890  указ отмена ограничительный мероприятие карант...   \n",
              "\n",
              "                                          text_difficult  doc_name_enc  \n",
              "0      комитет российский федерация установить числен...             1  \n",
              "1      российский федерация контроль оборот наркотик ...             1  \n",
              "2      федерация контроль оборот наркотик освободить ...             0  \n",
              "3      многолетний плодотворный деятельность наградит...             1  \n",
              "4      молодёжь объявить благодарность андропов игорь...             1  \n",
              "...                                                  ...           ...  \n",
              "22886  проживать инвалид ветеран великий отечественны...            12  \n",
              "22887  должность заместитель премьер министр правител...            12  \n",
              "22888  посёлок октябрьский соответствие закон российс...            12  \n",
              "22889  должность пермский край отдельный должность го...            12  \n",
              "22890  область соответствие закон российский федераши...            12  \n",
              "\n",
              "[22891 rows x 6 columns]"
            ],
            "text/html": [
              "\n",
              "  <div id=\"df-d9d4142f-49de-4f3f-8dd6-976f11fd314b\" class=\"colab-df-container\">\n",
              "    <div>\n",
              "<style scoped>\n",
              "    .dataframe tbody tr th:only-of-type {\n",
              "        vertical-align: middle;\n",
              "    }\n",
              "\n",
              "    .dataframe tbody tr th {\n",
              "        vertical-align: top;\n",
              "    }\n",
              "\n",
              "    .dataframe thead th {\n",
              "        text-align: right;\n",
              "    }\n",
              "</style>\n",
              "<table border=\"1\" class=\"dataframe\">\n",
              "  <thead>\n",
              "    <tr style=\"text-align: right;\">\n",
              "      <th></th>\n",
              "      <th>doc_name</th>\n",
              "      <th>doc_text</th>\n",
              "      <th>text_token</th>\n",
              "      <th>text_token_filtred</th>\n",
              "      <th>text_difficult</th>\n",
              "      <th>doc_name_enc</th>\n",
              "    </tr>\n",
              "  </thead>\n",
              "  <tbody>\n",
              "    <tr>\n",
              "      <th>0</th>\n",
              "      <td>Распоряжение, федеральный уровень, глава испол...</td>\n",
              "      <td>распоряжение президента российской федерации о...</td>\n",
              "      <td>распоряжение президент российский федерация ус...</td>\n",
              "      <td>распоряжение президент российский федерация ус...</td>\n",
              "      <td>комитет российский федерация установить числен...</td>\n",
              "      <td>1</td>\n",
              "    </tr>\n",
              "    <tr>\n",
              "      <th>1</th>\n",
              "      <td>Распоряжение, федеральный уровень, глава испол...</td>\n",
              "      <td>распоряжение президента российской федерации о...</td>\n",
              "      <td>распоряжение президент российский федерация пр...</td>\n",
              "      <td>распоряжение президент российский федерация пр...</td>\n",
              "      <td>российский федерация контроль оборот наркотик ...</td>\n",
              "      <td>1</td>\n",
              "    </tr>\n",
              "    <tr>\n",
              "      <th>2</th>\n",
              "      <td>Указ, федеральный уровень, глава исполнительно...</td>\n",
              "      <td>указ президента российской федерации об освобо...</td>\n",
              "      <td>указ президент российский федерация освобожден...</td>\n",
              "      <td>указ президент российский федерация освобожден...</td>\n",
              "      <td>федерация контроль оборот наркотик освободить ...</td>\n",
              "      <td>0</td>\n",
              "    </tr>\n",
              "    <tr>\n",
              "      <th>3</th>\n",
              "      <td>Распоряжение, федеральный уровень, глава испол...</td>\n",
              "      <td>распоряжение президента российской федерации о...</td>\n",
              "      <td>распоряжение президент российский федерация по...</td>\n",
              "      <td>распоряжение президент российский федерация по...</td>\n",
              "      <td>многолетний плодотворный деятельность наградит...</td>\n",
              "      <td>1</td>\n",
              "    </tr>\n",
              "    <tr>\n",
              "      <th>4</th>\n",
              "      <td>Распоряжение, федеральный уровень, глава испол...</td>\n",
              "      <td>распоряжение президента российской федерации о...</td>\n",
              "      <td>распоряжение президент российский федерация по...</td>\n",
              "      <td>распоряжение президент российский федерация по...</td>\n",
              "      <td>молодёжь объявить благодарность андропов игорь...</td>\n",
              "      <td>1</td>\n",
              "    </tr>\n",
              "    <tr>\n",
              "      <th>...</th>\n",
              "      <td>...</td>\n",
              "      <td>...</td>\n",
              "      <td>...</td>\n",
              "      <td>...</td>\n",
              "      <td>...</td>\n",
              "      <td>...</td>\n",
              "    </tr>\n",
              "    <tr>\n",
              "      <th>22886</th>\n",
              "      <td>Указ, региональный уровень, глава исполнительн...</td>\n",
              "      <td>губернатор орловской области у к аз о мерах по...</td>\n",
              "      <td>губернатор орловский область мера проведение к...</td>\n",
              "      <td>губернатор орловский область мера проведение к...</td>\n",
              "      <td>проживать инвалид ветеран великий отечественны...</td>\n",
              "      <td>12</td>\n",
              "    </tr>\n",
              "    <tr>\n",
              "      <th>22887</th>\n",
              "      <td>Указ, региональный уровень, глава исполнительн...</td>\n",
              "      <td>ммжхжчмитжкъщ  а  г х м  башкортостан республи...</td>\n",
              "      <td>ммжхжчмитжкъщий башкортостан республикаь респу...</td>\n",
              "      <td>ммжхжчмитжкъщий башкортостан республикаь респу...</td>\n",
              "      <td>должность заместитель премьер министр правител...</td>\n",
              "      <td>12</td>\n",
              "    </tr>\n",
              "    <tr>\n",
              "      <th>22888</th>\n",
              "      <td>Указ, региональный уровень, глава исполнительн...</td>\n",
              "      <td>у к а з губернатора пермского края   об отмене...</td>\n",
              "      <td>губернатор пермский край отмена ограничение ка...</td>\n",
              "      <td>губернатор пермский край отмена ограничение ка...</td>\n",
              "      <td>посёлок октябрьский соответствие закон российс...</td>\n",
              "      <td>12</td>\n",
              "    </tr>\n",
              "    <tr>\n",
              "      <th>22889</th>\n",
              "      <td>Указ, региональный уровень, глава исполнительн...</td>\n",
              "      <td>у к а з губернатора пермского края   г об утве...</td>\n",
              "      <td>губернатор пермский край утверждение порядок п...</td>\n",
              "      <td>губернатор пермский край утверждение порядок п...</td>\n",
              "      <td>должность пермский край отдельный должность го...</td>\n",
              "      <td>12</td>\n",
              "    </tr>\n",
              "    <tr>\n",
              "      <th>22890</th>\n",
              "      <td>Указ, региональный уровень, глава исполнительн...</td>\n",
              "      <td>указ об отмене ограничительных мероприятий кар...</td>\n",
              "      <td>указ отмена ограничительный мероприятие карант...</td>\n",
              "      <td>указ отмена ограничительный мероприятие карант...</td>\n",
              "      <td>область соответствие закон российский федераши...</td>\n",
              "      <td>12</td>\n",
              "    </tr>\n",
              "  </tbody>\n",
              "</table>\n",
              "<p>22891 rows × 6 columns</p>\n",
              "</div>\n",
              "    <div class=\"colab-df-buttons\">\n",
              "\n",
              "  <div class=\"colab-df-container\">\n",
              "    <button class=\"colab-df-convert\" onclick=\"convertToInteractive('df-d9d4142f-49de-4f3f-8dd6-976f11fd314b')\"\n",
              "            title=\"Convert this dataframe to an interactive table.\"\n",
              "            style=\"display:none;\">\n",
              "\n",
              "  <svg xmlns=\"http://www.w3.org/2000/svg\" height=\"24px\" viewBox=\"0 -960 960 960\">\n",
              "    <path d=\"M120-120v-720h720v720H120Zm60-500h600v-160H180v160Zm220 220h160v-160H400v160Zm0 220h160v-160H400v160ZM180-400h160v-160H180v160Zm440 0h160v-160H620v160ZM180-180h160v-160H180v160Zm440 0h160v-160H620v160Z\"/>\n",
              "  </svg>\n",
              "    </button>\n",
              "\n",
              "  <style>\n",
              "    .colab-df-container {\n",
              "      display:flex;\n",
              "      gap: 12px;\n",
              "    }\n",
              "\n",
              "    .colab-df-convert {\n",
              "      background-color: #E8F0FE;\n",
              "      border: none;\n",
              "      border-radius: 50%;\n",
              "      cursor: pointer;\n",
              "      display: none;\n",
              "      fill: #1967D2;\n",
              "      height: 32px;\n",
              "      padding: 0 0 0 0;\n",
              "      width: 32px;\n",
              "    }\n",
              "\n",
              "    .colab-df-convert:hover {\n",
              "      background-color: #E2EBFA;\n",
              "      box-shadow: 0px 1px 2px rgba(60, 64, 67, 0.3), 0px 1px 3px 1px rgba(60, 64, 67, 0.15);\n",
              "      fill: #174EA6;\n",
              "    }\n",
              "\n",
              "    .colab-df-buttons div {\n",
              "      margin-bottom: 4px;\n",
              "    }\n",
              "\n",
              "    [theme=dark] .colab-df-convert {\n",
              "      background-color: #3B4455;\n",
              "      fill: #D2E3FC;\n",
              "    }\n",
              "\n",
              "    [theme=dark] .colab-df-convert:hover {\n",
              "      background-color: #434B5C;\n",
              "      box-shadow: 0px 1px 3px 1px rgba(0, 0, 0, 0.15);\n",
              "      filter: drop-shadow(0px 1px 2px rgba(0, 0, 0, 0.3));\n",
              "      fill: #FFFFFF;\n",
              "    }\n",
              "  </style>\n",
              "\n",
              "    <script>\n",
              "      const buttonEl =\n",
              "        document.querySelector('#df-d9d4142f-49de-4f3f-8dd6-976f11fd314b button.colab-df-convert');\n",
              "      buttonEl.style.display =\n",
              "        google.colab.kernel.accessAllowed ? 'block' : 'none';\n",
              "\n",
              "      async function convertToInteractive(key) {\n",
              "        const element = document.querySelector('#df-d9d4142f-49de-4f3f-8dd6-976f11fd314b');\n",
              "        const dataTable =\n",
              "          await google.colab.kernel.invokeFunction('convertToInteractive',\n",
              "                                                    [key], {});\n",
              "        if (!dataTable) return;\n",
              "\n",
              "        const docLinkHtml = 'Like what you see? Visit the ' +\n",
              "          '<a target=\"_blank\" href=https://colab.research.google.com/notebooks/data_table.ipynb>data table notebook</a>'\n",
              "          + ' to learn more about interactive tables.';\n",
              "        element.innerHTML = '';\n",
              "        dataTable['output_type'] = 'display_data';\n",
              "        await google.colab.output.renderOutput(dataTable, element);\n",
              "        const docLink = document.createElement('div');\n",
              "        docLink.innerHTML = docLinkHtml;\n",
              "        element.appendChild(docLink);\n",
              "      }\n",
              "    </script>\n",
              "  </div>\n",
              "\n",
              "\n",
              "<div id=\"df-e014c09d-c457-4111-b298-bb8dce615dde\">\n",
              "  <button class=\"colab-df-quickchart\" onclick=\"quickchart('df-e014c09d-c457-4111-b298-bb8dce615dde')\"\n",
              "            title=\"Suggest charts\"\n",
              "            style=\"display:none;\">\n",
              "\n",
              "<svg xmlns=\"http://www.w3.org/2000/svg\" height=\"24px\"viewBox=\"0 0 24 24\"\n",
              "     width=\"24px\">\n",
              "    <g>\n",
              "        <path d=\"M19 3H5c-1.1 0-2 .9-2 2v14c0 1.1.9 2 2 2h14c1.1 0 2-.9 2-2V5c0-1.1-.9-2-2-2zM9 17H7v-7h2v7zm4 0h-2V7h2v10zm4 0h-2v-4h2v4z\"/>\n",
              "    </g>\n",
              "</svg>\n",
              "  </button>\n",
              "\n",
              "<style>\n",
              "  .colab-df-quickchart {\n",
              "      --bg-color: #E8F0FE;\n",
              "      --fill-color: #1967D2;\n",
              "      --hover-bg-color: #E2EBFA;\n",
              "      --hover-fill-color: #174EA6;\n",
              "      --disabled-fill-color: #AAA;\n",
              "      --disabled-bg-color: #DDD;\n",
              "  }\n",
              "\n",
              "  [theme=dark] .colab-df-quickchart {\n",
              "      --bg-color: #3B4455;\n",
              "      --fill-color: #D2E3FC;\n",
              "      --hover-bg-color: #434B5C;\n",
              "      --hover-fill-color: #FFFFFF;\n",
              "      --disabled-bg-color: #3B4455;\n",
              "      --disabled-fill-color: #666;\n",
              "  }\n",
              "\n",
              "  .colab-df-quickchart {\n",
              "    background-color: var(--bg-color);\n",
              "    border: none;\n",
              "    border-radius: 50%;\n",
              "    cursor: pointer;\n",
              "    display: none;\n",
              "    fill: var(--fill-color);\n",
              "    height: 32px;\n",
              "    padding: 0;\n",
              "    width: 32px;\n",
              "  }\n",
              "\n",
              "  .colab-df-quickchart:hover {\n",
              "    background-color: var(--hover-bg-color);\n",
              "    box-shadow: 0 1px 2px rgba(60, 64, 67, 0.3), 0 1px 3px 1px rgba(60, 64, 67, 0.15);\n",
              "    fill: var(--button-hover-fill-color);\n",
              "  }\n",
              "\n",
              "  .colab-df-quickchart-complete:disabled,\n",
              "  .colab-df-quickchart-complete:disabled:hover {\n",
              "    background-color: var(--disabled-bg-color);\n",
              "    fill: var(--disabled-fill-color);\n",
              "    box-shadow: none;\n",
              "  }\n",
              "\n",
              "  .colab-df-spinner {\n",
              "    border: 2px solid var(--fill-color);\n",
              "    border-color: transparent;\n",
              "    border-bottom-color: var(--fill-color);\n",
              "    animation:\n",
              "      spin 1s steps(1) infinite;\n",
              "  }\n",
              "\n",
              "  @keyframes spin {\n",
              "    0% {\n",
              "      border-color: transparent;\n",
              "      border-bottom-color: var(--fill-color);\n",
              "      border-left-color: var(--fill-color);\n",
              "    }\n",
              "    20% {\n",
              "      border-color: transparent;\n",
              "      border-left-color: var(--fill-color);\n",
              "      border-top-color: var(--fill-color);\n",
              "    }\n",
              "    30% {\n",
              "      border-color: transparent;\n",
              "      border-left-color: var(--fill-color);\n",
              "      border-top-color: var(--fill-color);\n",
              "      border-right-color: var(--fill-color);\n",
              "    }\n",
              "    40% {\n",
              "      border-color: transparent;\n",
              "      border-right-color: var(--fill-color);\n",
              "      border-top-color: var(--fill-color);\n",
              "    }\n",
              "    60% {\n",
              "      border-color: transparent;\n",
              "      border-right-color: var(--fill-color);\n",
              "    }\n",
              "    80% {\n",
              "      border-color: transparent;\n",
              "      border-right-color: var(--fill-color);\n",
              "      border-bottom-color: var(--fill-color);\n",
              "    }\n",
              "    90% {\n",
              "      border-color: transparent;\n",
              "      border-bottom-color: var(--fill-color);\n",
              "    }\n",
              "  }\n",
              "</style>\n",
              "\n",
              "  <script>\n",
              "    async function quickchart(key) {\n",
              "      const quickchartButtonEl =\n",
              "        document.querySelector('#' + key + ' button');\n",
              "      quickchartButtonEl.disabled = true;  // To prevent multiple clicks.\n",
              "      quickchartButtonEl.classList.add('colab-df-spinner');\n",
              "      try {\n",
              "        const charts = await google.colab.kernel.invokeFunction(\n",
              "            'suggestCharts', [key], {});\n",
              "      } catch (error) {\n",
              "        console.error('Error during call to suggestCharts:', error);\n",
              "      }\n",
              "      quickchartButtonEl.classList.remove('colab-df-spinner');\n",
              "      quickchartButtonEl.classList.add('colab-df-quickchart-complete');\n",
              "    }\n",
              "    (() => {\n",
              "      let quickchartButtonEl =\n",
              "        document.querySelector('#df-e014c09d-c457-4111-b298-bb8dce615dde button');\n",
              "      quickchartButtonEl.style.display =\n",
              "        google.colab.kernel.accessAllowed ? 'block' : 'none';\n",
              "    })();\n",
              "  </script>\n",
              "</div>\n",
              "    </div>\n",
              "  </div>\n"
            ]
          },
          "metadata": {},
          "execution_count": 79
        }
      ]
    },
    {
      "cell_type": "code",
      "source": [
        "token_counts = Counter()\n",
        "for row in df['text_token'].values.flatten():\n",
        "    token_counts.update(row.split(\" \"))\n",
        "token_counts_first = Counter()\n",
        "for row in df['doc_text'].values.flatten():\n",
        "    token_counts_first.update(row.split(\" \"))"
      ],
      "metadata": {
        "id": "6JzqUqpd9pBi"
      },
      "execution_count": 81,
      "outputs": []
    },
    {
      "cell_type": "code",
      "source": [
        "print(\"Total unique tokens :\", len(token_counts))\n",
        "print(\"\\n\".join(map(str, token_counts.most_common(n=5))))\n",
        "print(\"...\")\n",
        "print(\"\\n\".join(map(str, token_counts.most_common()[-3:])))"
      ],
      "metadata": {
        "colab": {
          "base_uri": "https://localhost:8080/"
        },
        "id": "qO3metbaJuBb",
        "outputId": "95303e59-3a6b-4b9e-daf1-42a8aed60c0b"
      },
      "execution_count": 82,
      "outputs": [
        {
          "output_type": "stream",
          "name": "stdout",
          "text": [
            "Total unique tokens : 60579\n",
            "('область', 75325)\n",
            "('российский', 73096)\n",
            "('федерация', 72526)\n",
            "('государственный', 35790)\n",
            "('правительство', 33909)\n",
            "...\n",
            "('инострэнньха', 1)\n",
            "('федерашить', 1)\n",
            "('установленгш', 1)\n"
          ]
        }
      ]
    },
    {
      "cell_type": "code",
      "source": [
        "print(\"Total unique tokens :\", len(token_counts_first))\n",
        "print(\"\\n\".join(map(str, token_counts_first.most_common(n=5))))\n",
        "print(\"...\")\n",
        "print(\"\\n\".join(map(str, token_counts_first.most_common()[-3:])))"
      ],
      "metadata": {
        "colab": {
          "base_uri": "https://localhost:8080/"
        },
        "id": "rSJr7YvNxxeN",
        "outputId": "402b90e7-38a6-4ebb-b652-0a4ac6a41456"
      },
      "execution_count": 83,
      "outputs": [
        {
          "output_type": "stream",
          "name": "stdout",
          "text": [
            "Total unique tokens : 97036\n",
            "('', 581730)\n",
            "('в', 150114)\n",
            "('и', 101965)\n",
            "('области', 73239)\n",
            "('российской', 69619)\n",
            "...\n",
            "('инострэнньх', 1)\n",
            "('федерашити', 1)\n",
            "('установленгш', 1)\n"
          ]
        }
      ]
    },
    {
      "cell_type": "code",
      "source": [
        "plt.hist(list(token_counts.values()), range=[0, 10 ** 4], bins=50, log=True)\n",
        "plt.xlabel(\"Word counts\");"
      ],
      "metadata": {
        "colab": {
          "base_uri": "https://localhost:8080/",
          "height": 456
        },
        "id": "pwladN-EJ1da",
        "outputId": "e5907f72-8486-4fad-c7f4-a015fdcb5baf"
      },
      "execution_count": 84,
      "outputs": [
        {
          "output_type": "display_data",
          "data": {
            "text/plain": [
              "<Figure size 640x480 with 1 Axes>"
            ],
            "image/png": "[encoded data removed]"
          },
          "metadata": {}
        }
      ]
    },
    {
      "cell_type": "code",
      "source": [
        "min_count = 5\n",
        "\n",
        "# tokens from token_counts keys that had at least min_count occurrences throughout the dataset\n",
        "tokens = [token for token, count in token_counts.items() if count >= min_count]"
      ],
      "metadata": {
        "id": "f6qsFeC4J8d4"
      },
      "execution_count": 85,
      "outputs": []
    },
    {
      "cell_type": "code",
      "source": [
        "UNK, PAD = \"UNK\", \"PAD\"\n",
        "tokens = [UNK, PAD] + sorted(tokens)\n",
        "print(\"Vocabulary size:\", len(tokens))\n",
        "token_to_id = {token: idx for idx, token in enumerate(tokens)}"
      ],
      "metadata": {
        "colab": {
          "base_uri": "https://localhost:8080/"
        },
        "id": "Eyl4MipmKBzV",
        "outputId": "3a48ad8a-6106-4351-c809-79f59524bde0"
      },
      "execution_count": 86,
      "outputs": [
        {
          "output_type": "stream",
          "name": "stdout",
          "text": [
            "Vocabulary size: 11585\n"
          ]
        }
      ]
    },
    {
      "cell_type": "code",
      "source": [
        "UNK_IX, PAD_IX = map(token_to_id.get, [UNK, PAD])\n",
        "\n",
        "\n",
        "def as_matrix(sequences, max_len=None):\n",
        "    \"\"\"Convert a list of tokens into a matrix with padding\"\"\"\n",
        "    if isinstance(sequences[0], str):\n",
        "        sequences = list(map(str.split, sequences))\n",
        "\n",
        "    max_len = min(max(map(len, sequences)), max_len or float(\"inf\"))\n",
        "\n",
        "    matrix = np.full((len(sequences), max_len), np.int32(PAD_IX))\n",
        "    for i, seq in enumerate(sequences):\n",
        "        row_ix = [token_to_id.get(word, UNK_IX) for word in seq[:max_len]]\n",
        "        matrix[i, : len(row_ix)] = row_ix\n",
        "\n",
        "    return matrix\n"
      ],
      "metadata": {
        "id": "68r1_BO3KKHN"
      },
      "execution_count": 87,
      "outputs": []
    },
    {
      "cell_type": "code",
      "source": [
        "data_train, data_valid = train_test_split(df, test_size=0.2, random_state=42)\n",
        "data_train, data_test = train_test_split(data_train, test_size=0.2, random_state=42)"
      ],
      "metadata": {
        "id": "JE2qH4urNB3g"
      },
      "execution_count": 88,
      "outputs": []
    },
    {
      "cell_type": "code",
      "source": [
        "def make_batch(data, max_len=None, word_dropout=0):\n",
        "    \"\"\"\n",
        "    Creates a neural-network-friendly dict from the batch data.\n",
        "    :param word_dropout: replaces token index with UNK_IX with this probability\n",
        "    :returns: a dict with {'title' : int64[batch, title_max_len]\n",
        "    \"\"\"\n",
        "    batch = {}\n",
        "    batch[\"label\"] = data[\"doc_name_enc\"].values\n",
        "    batch[\"text\"] = as_matrix(data[\"text_token\"].values, max_len)\n",
        "    if word_dropout != 0:\n",
        "        batch[\"text\"] = apply_word_dropout(batch[\"text\"], 1.0 - word_dropout)\n",
        "    return batch\n",
        "\n",
        "\n",
        "def apply_word_dropout(\n",
        "    matrix,\n",
        "    keep_prop,\n",
        "    replace_with=UNK_IX,\n",
        "    pad_ix=PAD_IX,\n",
        "):\n",
        "    dropout_mask = np.random.choice(2, np.shape(matrix), p=[keep_prop, 1 - keep_prop])\n",
        "    dropout_mask &= matrix != pad_ix\n",
        "    return np.choose(dropout_mask, [matrix, np.full_like(matrix, replace_with)])"
      ],
      "metadata": {
        "id": "6HB9fMEzNp2Q"
      },
      "execution_count": 89,
      "outputs": []
    },
    {
      "cell_type": "code",
      "source": [
        "data_train.shape, data_valid.shape, data_test.shape"
      ],
      "metadata": {
        "colab": {
          "base_uri": "https://localhost:8080/"
        },
        "id": "E2_J_nz4XWuA",
        "outputId": "f7115dfc-d642-4559-e359-437827f254c5"
      },
      "execution_count": 90,
      "outputs": [
        {
          "output_type": "execute_result",
          "data": {
            "text/plain": [
              "((14649, 6), (4579, 6), (3663, 6))"
            ]
          },
          "metadata": {},
          "execution_count": 90
        }
      ]
    },
    {
      "cell_type": "code",
      "source": [
        "def iterate_minibatches(data, batch_size=256, shuffle=True, cycle=False, **kwargs):\n",
        "    \"\"\"iterates minibatches of data in random order\"\"\"\n",
        "    while True:\n",
        "        indices = np.arange(len(data))\n",
        "        if shuffle:\n",
        "            indices = np.random.permutation(indices)\n",
        "\n",
        "        for start in range(0, len(indices), batch_size):\n",
        "            batch = make_batch(data.iloc[indices[start : start + batch_size]], **kwargs)\n",
        "            target = batch.pop('label')\n",
        "            yield batch, target\n",
        "\n",
        "        if not cycle:\n",
        "            break"
      ],
      "metadata": {
        "id": "wVIcm3GvOs6V"
      },
      "execution_count": 91,
      "outputs": []
    },
    {
      "cell_type": "code",
      "source": [
        "n_tokens = len(tokens)\n",
        "\n",
        "hid_size = 128\n",
        "\n",
        "class Flatten(nn.Module):\n",
        "    def forward(self, input):\n",
        "        return input.view(input.size(0), -1)\n",
        "\n",
        "\n",
        "class Reorder(nn.Module):\n",
        "    def forward(self, input):\n",
        "        return input.permute((0, 2, 1))"
      ],
      "metadata": {
        "id": "RSDpgPJsO8Mh"
      },
      "execution_count": 92,
      "outputs": []
    },
    {
      "cell_type": "code",
      "source": [
        "train_on_gpu = torch.cuda.is_available()\n",
        "\n",
        "if not train_on_gpu:\n",
        "    print('CUDA is not available.  Training on CPU ...')\n",
        "else:\n",
        "    print('CUDA is available!  Training on GPU ...')\n",
        "\n",
        "device = torch.device('cuda:0') if torch.cuda.is_available() else torch.device('cpu')\n",
        "device"
      ],
      "metadata": {
        "colab": {
          "base_uri": "https://localhost:8080/"
        },
        "id": "f2VQVtJcSnkr",
        "outputId": "38facc39-45ef-4f84-b215-c78e62af4bad"
      },
      "execution_count": 93,
      "outputs": [
        {
          "output_type": "stream",
          "name": "stdout",
          "text": [
            "CUDA is available!  Training on GPU ...\n"
          ]
        },
        {
          "output_type": "execute_result",
          "data": {
            "text/plain": [
              "device(type='cuda', index=0)"
            ]
          },
          "metadata": {},
          "execution_count": 93
        }
      ]
    },
    {
      "cell_type": "code",
      "source": [
        "class SimpleCNN(nn.Module):\n",
        "    def __init__(self, num_classes):\n",
        "        super(SimpleCNN, self).__init__()\n",
        "\n",
        "        self.emb = nn.Sequential(\n",
        "            nn.Embedding(num_embeddings=n_tokens, embedding_dim=hid_size),\n",
        "            Reorder()\n",
        "        )\n",
        "        self.conv1 = nn.Sequential(\n",
        "            nn.Conv1d(in_channels=hid_size, out_channels=hid_size * 2, kernel_size=3),\n",
        "            nn.ReLU()\n",
        "        )\n",
        "\n",
        "        self.conv2 = nn.Sequential(\n",
        "            nn.Conv1d(in_channels=hid_size * 2, out_channels=hid_size * 2, kernel_size=3),\n",
        "            nn.ReLU(),\n",
        "            nn.BatchNorm1d(num_features=hid_size * 2)\n",
        "        )\n",
        "\n",
        "        self.conv3 = nn.Sequential(\n",
        "            nn.Conv1d(in_channels=hid_size * 2, out_channels=hid_size * 2, kernel_size=2),\n",
        "            nn.ReLU()\n",
        "        )\n",
        "\n",
        "        self.out = nn.Sequential(\n",
        "            nn.AdaptiveMaxPool1d(1),\n",
        "            nn.Flatten(),\n",
        "             nn.Linear(2 * hid_size, num_classes)\n",
        "        )\n",
        "\n",
        "    def forward(self, x):\n",
        "        x = self.emb(x)\n",
        "        x = self.conv1(x)\n",
        "        x = self.conv2(x)\n",
        "        x = self.conv3(x)\n",
        "        x = self.out(x)\n",
        "        return x\n",
        "\n",
        "\n",
        "num_classes=15\n",
        "model = SimpleCNN(num_classes) # модель\n",
        "\n",
        "criterion = nn.CrossEntropyLoss()\n",
        "optimizer = torch.optim.Adam(model.parameters(),  betas=(0.9, 0.999))\n",
        "model.to(device)"
      ],
      "metadata": {
        "id": "Xl8cZ_-_QzDD",
        "colab": {
          "base_uri": "https://localhost:8080/"
        },
        "outputId": "8c5100de-17de-4afc-85ec-607330bc8de5"
      },
      "execution_count": 97,
      "outputs": [
        {
          "output_type": "execute_result",
          "data": {
            "text/plain": [
              "SimpleCNN(\n",
              "  (emb): Sequential(\n",
              "    (0): Embedding(11585, 128)\n",
              "    (1): Reorder()\n",
              "  )\n",
              "  (conv1): Sequential(\n",
              "    (0): Conv1d(128, 256, kernel_size=(3,), stride=(1,))\n",
              "    (1): ReLU()\n",
              "  )\n",
              "  (conv2): Sequential(\n",
              "    (0): Conv1d(256, 256, kernel_size=(3,), stride=(1,))\n",
              "    (1): ReLU()\n",
              "    (2): BatchNorm1d(256, eps=1e-05, momentum=0.1, affine=True, track_running_stats=True)\n",
              "  )\n",
              "  (conv3): Sequential(\n",
              "    (0): Conv1d(256, 256, kernel_size=(2,), stride=(1,))\n",
              "    (1): ReLU()\n",
              "  )\n",
              "  (out): Sequential(\n",
              "    (0): AdaptiveMaxPool1d(output_size=1)\n",
              "    (1): Flatten(start_dim=1, end_dim=-1)\n",
              "    (2): Linear(in_features=256, out_features=15, bias=True)\n",
              "  )\n",
              ")"
            ]
          },
          "metadata": {},
          "execution_count": 97
        }
      ]
    },
    {
      "cell_type": "code",
      "source": [
        "history = []\n",
        "epochs = 10\n",
        "for epoch_num in range(epochs):\n",
        "    for idx, (batch, target) in enumerate(iterate_minibatches(data_train)):\n",
        "        optimizer.zero_grad()\n",
        "\n",
        "        # Preprocessing the batch data and target\n",
        "        features = torch.tensor(batch[\"text\"], dtype=torch.long).to(device)\n",
        "        target = torch.tensor(target).to(device)\n",
        "        outp = model(features)\n",
        "        #outp = outp.reshape(outp.size(0))\n",
        "        loss = criterion(outp, target.long()) # лосс\n",
        "        y_pred = torch.softmax(outp, dim=1).argmax(dim=1)\n",
        "        acc = ((y_pred==target).detach().cpu().numpy().mean())\n",
        "        loss.backward()\n",
        "        optimizer.step()\n",
        "        history.append(loss.item())\n",
        "        if (idx + 1) % 10 == 0:\n",
        "            clear_output(True)\n",
        "            plt.plot(history, label=\"loss\")\n",
        "            plt.legend()\n",
        "            plt.show()"
      ],
      "metadata": {
        "colab": {
          "base_uri": "https://localhost:8080/",
          "height": 430
        },
        "id": "9Q8EImkPS8ke",
        "outputId": "18a89813-e0d3-4a71-aacd-33e2704e1a17"
      },
      "execution_count": 98,
      "outputs": [
        {
          "output_type": "display_data",
          "data": {
            "text/plain": [
              "<Figure size 640x480 with 1 Axes>"
            ],
            "image/png": "[encoded data removed]"
          },
          "metadata": {}
        }
      ]
    },
    {
      "cell_type": "code",
      "source": [
        "batch_size = 256\n",
        "def print_metrics(model, data, batch_size=batch_size, name=\"\", **kw):\n",
        "\n",
        "    mean_acc = 0\n",
        "    mean_loss = 0\n",
        "    count = 0\n",
        "    outs_vis = []\n",
        "    tar_vis = []\n",
        "    for batch_x, batch_y in tqdm(\n",
        "        iterate_minibatches(data, batch_size=batch_size, shuffle=False, **kw)\n",
        "    ):\n",
        "\n",
        "        features = torch.tensor(batch_x[\"text\"], dtype=torch.long).to(device)\n",
        "        target = torch.tensor(batch_y).to(device)\n",
        "\n",
        "        outp = model(features)\n",
        "        outs_vis.append(outp.detach().cpu())\n",
        "        tar_vis.append(target.detach().cpu())\n",
        "        loss = criterion(outp, target.long()) # лосс\n",
        "\n",
        "        y_pred = torch.softmax(outp, dim=1).argmax(dim=1)\n",
        "\n",
        "        acc = ((y_pred==target).detach().cpu().numpy().mean())\n",
        "\n",
        "        mean_acc += acc.item()\n",
        "        mean_loss += loss.item()\n",
        "        count+=1\n",
        "\n",
        "    print(\"Loss\", mean_loss / count, \"Acc\", mean_acc / count)\n",
        "    print(count)\n",
        "    outs_vis = np.concatenate(outs_vis, axis=0)\n",
        "    tar_vis = np.concatenate(tar_vis, axis=0)\n",
        "    return outs_vis, tar_vis\n",
        "\n",
        "\n",
        "#print_metrics(model, data_train, name=\"Train\")\n",
        "#print_metrics(model, data_test, name=\"Train\")\n",
        "outs_vis, tar_vis = print_metrics(model, data_valid, name=\"Val\");"
      ],
      "metadata": {
        "colab": {
          "base_uri": "https://localhost:8080/"
        },
        "id": "sp0k5uyuVvmj",
        "outputId": "8105da00-ac10-4639-d993-74154a88a5c3"
      },
      "execution_count": 48,
      "outputs": [
        {
          "output_type": "stream",
          "name": "stderr",
          "text": [
            "18it [00:00, 29.26it/s]"
          ]
        },
        {
          "output_type": "stream",
          "name": "stdout",
          "text": [
            "Loss 0.02439528952042262 Acc 0.9925660792951542\n",
            "18\n"
          ]
        },
        {
          "output_type": "stream",
          "name": "stderr",
          "text": [
            "\n"
          ]
        }
      ]
    },
    {
      "cell_type": "code",
      "source": [
        "X_train, X_test, y_train, y_test = train_test_split(outs_vis, tar_vis,  test_size=0.2, random_state=42)\n",
        "idx_to_label = dict()\n",
        "for k, v in label2idx.items():\n",
        "  idx_to_label[v] = k\n",
        "y_train_enc = []\n",
        "for i in y_train:\n",
        "  y_train_enc.append(idx_to_label[i])\n",
        "y_train_enc = np.array(y_train_enc)"
      ],
      "metadata": {
        "id": "oN4NJ35l3p6n"
      },
      "execution_count": 99,
      "outputs": []
    },
    {
      "cell_type": "code",
      "source": [
        "tsne = TSNE(n_components=2, verbose=1, perplexity=40, n_iter=300, init='random')\n",
        "tsne_results = tsne.fit_transform(X_train[:1500])\n",
        "fig = px.scatter(\n",
        "    tsne_results, x=0, y=1,\n",
        "    color=y_train_enc[:1500], labels={'color': 'Вид НПА'}\n",
        ")\n",
        "fig.show()"
      ],
      "metadata": {
        "colab": {
          "base_uri": "https://localhost:8080/",
          "height": 681
        },
        "id": "6k3EZX1W736i",
        "outputId": "c9c9e91e-b299-4a4d-8b42-b20c1860c861"
      },
      "execution_count": 101,
      "outputs": [
        {
          "output_type": "stream",
          "name": "stdout",
          "text": [
            "[t-SNE] Computing 121 nearest neighbors...\n",
            "[t-SNE] Indexed 1500 samples in 0.003s...\n",
            "[t-SNE] Computed neighbors for 1500 samples in 0.114s...\n",
            "[t-SNE] Computed conditional probabilities for sample 1000 / 1500\n",
            "[t-SNE] Computed conditional probabilities for sample 1500 / 1500\n",
            "[t-SNE] Mean sigma: 5.524719\n",
            "[t-SNE] KL divergence after 250 iterations with early exaggeration: 51.420509\n",
            "[t-SNE] KL divergence after 300 iterations: 0.823797\n"
          ]
        },
        {
          "output_type": "display_data",
          "data": {
            "text/html": [
              "<html>\n",
              "<head><meta charset=\"utf-8\" /></head>\n",
              "<body>\n",
              "    <div>            <script src=\"https://cdnjs.cloudflare.com/ajax/libs/mathjax/2.7.5/MathJax.js?config=TeX-AMS-MML_SVG\"></script><script type=\"text/javascript\">if (window.MathJax && window.MathJax.Hub && window.MathJax.Hub.Config) {window.MathJax.Hub.Config({SVG: {font: \"STIX-Web\"}});}</script>                <script type=\"text/javascript\">window.PlotlyConfig = {MathJaxConfig: 'local'};</script>\n",
              "        <script charset=\"utf-8\" src=\"https://cdn.plot.ly/plotly-2.24.1.min.js\"></script>                <div id=\"db286ebf-432b-486f-9ab7-d20c23da7dbc\" class=\"plotly-graph-div\" style=\"height:525px; width:100%;\"></div>            <script type=\"text/javascript\">                                    window.PLOTLYENV=window.PLOTLYENV || {};                                    if (document.getElementById(\"db286ebf-432b-486f-9ab7-d20c23da7dbc\")) {                    Plotly.newPlot(                        \"db286ebf-432b-486f-9ab7-d20c23da7dbc\",                        [{\"hovertemplate\":\"\\u0412\\u0438\\u0434 \\u041d\\u041f\\u0410=\\u0420\\u0430\\u0441\\u043f\\u043e\\u0440\\u044f\\u0436\\u0435\\u043d\\u0438\\u0435, \\u0444\\u0435\\u0434\\u0435\\u0440\\u0430\\u043b\\u044c\\u043d\\u044b\\u0439 \\u0443\\u0440\\u043e\\u0432\\u0435\\u043d\\u044c, \\u0433\\u043b\\u0430\\u0432\\u0430 \\u0438\\u0441\\u043f\\u043e\\u043b\\u043d\\u0438\\u0442\\u0435\\u043b\\u044c\\u043d\\u043e\\u0439 \\u0432\\u043b\\u0430\\u0441\\u0442\\u0438\\u003cbr\\u003e0=%{x}\\u003cbr\\u003e1=%{y}\\u003cextra\\u003e\\u003c\\u002fextra\\u003e\",\"legendgroup\":\"\\u0420\\u0430\\u0441\\u043f\\u043e\\u0440\\u044f\\u0436\\u0435\\u043d\\u0438\\u0435, \\u0444\\u0435\\u0434\\u0435\\u0440\\u0430\\u043b\\u044c\\u043d\\u044b\\u0439 \\u0443\\u0440\\u043e\\u0432\\u0435\\u043d\\u044c, \\u0433\\u043b\\u0430\\u0432\\u0430 \\u0438\\u0441\\u043f\\u043e\\u043b\\u043d\\u0438\\u0442\\u0435\\u043b\\u044c\\u043d\\u043e\\u0439 \\u0432\\u043b\\u0430\\u0441\\u0442\\u0438\",\"marker\":{\"color\":\"#636efa\",\"symbol\":\"circle\"},\"mode\":\"markers\",\"name\":\"\\u0420\\u0430\\u0441\\u043f\\u043e\\u0440\\u044f\\u0436\\u0435\\u043d\\u0438\\u0435, \\u0444\\u0435\\u0434\\u0435\\u0440\\u0430\\u043b\\u044c\\u043d\\u044b\\u0439 \\u0443\\u0440\\u043e\\u0432\\u0435\\u043d\\u044c, \\u0433\\u043b\\u0430\\u0432\\u0430 \\u0438\\u0441\\u043f\\u043e\\u043b\\u043d\\u0438\\u0442\\u0435\\u043b\\u044c\\u043d\\u043e\\u0439 \\u0432\\u043b\\u0430\\u0441\\u0442\\u0438\",\"showlegend\":true,\"x\":[7.0089592933654785,5.1215434074401855,6.976344108581543,7.928243637084961,6.79714822769165,5.777255535125732,5.058457374572754,7.1850409507751465,5.642107963562012,5.820962905883789,5.842427730560303,6.734812259674072,6.971672534942627,5.669372081756592,6.4691596031188965,7.010905742645264,5.360981464385986,5.638271808624268,5.767898082733154,7.512434482574463,5.826668739318848,6.146697998046875,5.4634246826171875,3.7663111686706543,6.0214762687683105,7.822028160095215,7.2937798500061035,5.41328763961792,5.559804916381836,4.761617660522461,7.152758598327637,7.1293158531188965,5.690733432769775,5.455060005187988,5.913045883178711,5.823505401611328,5.986630916595459,3.7745351791381836,7.056481838226318,5.795262336730957,7.370347499847412,6.155436038970947,5.616387367248535,5.798695087432861,7.629445552825928,7.1284708976745605,6.999344348907471,5.599368572235107,7.752764701843262,5.830929756164551,5.792970657348633,3.950801134109497,5.932611465454102,6.955459117889404,7.368503570556641,7.3132429122924805,5.792281627655029,6.150379657745361,6.447417259216309,5.623305320739746,7.027098178863525,5.760916709899902,6.011948108673096,5.607211112976074,5.500024795532227,5.816921710968018,5.7608232498168945,5.591570854187012,5.411468029022217,5.6564717292785645,3.666268825531006,5.888698101043701,7.397538185119629,5.780280113220215,7.316135406494141,5.218106269836426,3.2165896892547607,5.06788444519043,7.484378337860107,5.403214454650879,5.721802711486816,7.509091377258301,5.370182514190674,5.337998390197754,3.364579677581787,6.909552574157715,5.564537048339844,6.030995845794678,7.720694541931152,7.038791656494141],\"xaxis\":\"x\",\"y\":[-8.396971702575684,-8.285697937011719,-8.179489135742188,-8.924493789672852,-7.323275566101074,-8.41158390045166,-8.213617324829102,-8.147476196289062,-5.411840438842773,-7.986302852630615,-8.33390998840332,-7.892136573791504,-8.091178894042969,-7.394969940185547,-8.746926307678223,-7.113863468170166,-7.834349632263184,-4.459935665130615,-8.710494041442871,-8.495223045349121,-8.67109489440918,-7.815977573394775,-7.534133434295654,-2.868295431137085,-8.573267936706543,-8.8695707321167,-7.421908855438232,-7.033531665802002,-9.042106628417969,-4.354477405548096,-7.560168266296387,-8.281730651855469,-5.981561183929443,-7.450655937194824,-8.586536407470703,-7.812316417694092,-8.11080551147461,-2.6193289756774902,-7.197927474975586,-8.315235137939453,-8.612923622131348,-7.08217191696167,-8.73509693145752,-8.200955390930176,-8.958245277404785,-8.14176082611084,-8.070993423461914,-8.14930248260498,-8.812253952026367,-7.8891496658325195,-8.54228401184082,-3.4173684120178223,-8.720951080322266,-8.186481475830078,-8.633240699768066,-8.618181228637695,-8.665081977844238,-7.092456817626953,-8.76547908782959,-8.237126350402832,-8.109453201293945,-7.443795204162598,-6.768782615661621,-6.979480743408203,-5.549359321594238,-8.37824821472168,-7.173801898956299,-7.867469787597656,-8.252767562866211,-6.894163131713867,-3.6422595977783203,-6.670450687408447,-8.601385116577148,-8.627411842346191,-8.618060111999512,-8.148296356201172,-2.0626025199890137,-8.16852855682373,-8.644268989562988,-8.190863609313965,-8.18368911743164,-8.499124526977539,-7.385343074798584,-8.352054595947266,-2.0695388317108154,-8.271843910217285,-8.212395668029785,-8.7093505859375,-8.861749649047852,-8.077285766601562],\"yaxis\":\"y\",\"type\":\"scattergl\"},{\"hovertemplate\":\"\\u0412\\u0438\\u0434 \\u041d\\u041f\\u0410=\\u0420\\u0430\\u0441\\u043f\\u043e\\u0440\\u044f\\u0436\\u0435\\u043d\\u0438\\u0435, \\u0444\\u0435\\u0434\\u0435\\u0440\\u0430\\u043b\\u044c\\u043d\\u044b\\u0439 \\u0443\\u0440\\u043e\\u0432\\u0435\\u043d\\u044c, \\u043f\\u0440\\u0430\\u0432\\u0438\\u0442\\u0435\\u043b\\u044c\\u0441\\u0442\\u0432\\u043e\\u003cbr\\u003e0=%{x}\\u003cbr\\u003e1=%{y}\\u003cextra\\u003e\\u003c\\u002fextra\\u003e\",\"legendgroup\":\"\\u0420\\u0430\\u0441\\u043f\\u043e\\u0440\\u044f\\u0436\\u0435\\u043d\\u0438\\u0435, \\u0444\\u0435\\u0434\\u0435\\u0440\\u0430\\u043b\\u044c\\u043d\\u044b\\u0439 \\u0443\\u0440\\u043e\\u0432\\u0435\\u043d\\u044c, \\u043f\\u0440\\u0430\\u0432\\u0438\\u0442\\u0435\\u043b\\u044c\\u0441\\u0442\\u0432\\u043e\",\"marker\":{\"color\":\"#EF553B\",\"symbol\":\"circle\"},\"mode\":\"markers\",\"name\":\"\\u0420\\u0430\\u0441\\u043f\\u043e\\u0440\\u044f\\u0436\\u0435\\u043d\\u0438\\u0435, \\u0444\\u0435\\u0434\\u0435\\u0440\\u0430\\u043b\\u044c\\u043d\\u044b\\u0439 \\u0443\\u0440\\u043e\\u0432\\u0435\\u043d\\u044c, \\u043f\\u0440\\u0430\\u0432\\u0438\\u0442\\u0435\\u043b\\u044c\\u0441\\u0442\\u0432\\u043e\",\"showlegend\":true,\"x\":[9.522350311279297,6.52045202255249,4.948330879211426,5.9229044914245605,3.839867115020752,10.066519737243652,7.558390140533447,6.18973970413208,7.675707817077637,7.771554946899414,9.080318450927734,9.735518455505371,7.313884258270264,7.7709269523620605,5.700911521911621,6.006538391113281,7.61638879776001,7.596612930297852,6.057142734527588,7.4778218269348145,9.124340057373047,6.869440078735352,6.579513072967529,3.7099437713623047,9.703495025634766,8.385964393615723,9.71873664855957,10.0919189453125,8.594831466674805,5.525816917419434,9.431506156921387,9.590387344360352,9.51424789428711,3.4471707344055176,7.47416353225708,9.42686939239502,9.845866203308105,9.818949699401855,9.664627075195312,5.56673002243042,9.88506031036377,5.813819885253906,9.542123794555664,9.725457191467285,7.678003311157227,9.90234661102295,7.923025131225586,5.8131537437438965,9.64824390411377,6.935206413269043,5.777518272399902,7.754274368286133,6.806847095489502,7.9979047775268555,8.402883529663086,9.930706024169922,5.888465404510498,7.418793678283691,7.617309093475342,7.497802734375,9.58032512664795,9.844100952148438,9.699917793273926,9.727485656738281,6.908010959625244,7.550486087799072,9.745746612548828,9.787402153015137,9.514830589294434,3.3625528812408447,9.947650909423828,6.885661602020264,7.091744899749756,9.982274055480957,6.473724842071533,10.161428451538086,10.241804122924805,7.513871192932129,9.102437019348145,9.259602546691895,6.129072189331055,10.3129301071167,7.6943793296813965,9.298077583312988,5.598936557769775,7.682102680206299,9.390426635742188,9.788169860839844,7.359407424926758,9.37282943725586,5.263030052185059,6.336189270019531,5.893136024475098,9.935751914978027,9.231307029724121,9.866096496582031,7.842618465423584,9.282649993896484,10.080286026000977,5.885301113128662,6.581401824951172,10.068035125732422],\"xaxis\":\"x\",\"y\":[-3.4325919151306152,-3.6711320877075195,-2.539642095565796,-3.872360944747925,-2.428720474243164,-3.596764326095581,-3.300163507461548,-3.7504444122314453,-3.299767017364502,-3.3411705493927,-3.652947187423706,-3.7596545219421387,-3.4283905029296875,-3.3584842681884766,-3.5398142337799072,-5.048172473907471,-3.2878053188323975,-3.3076746463775635,-3.5753588676452637,-3.267833709716797,-2.546659231185913,-3.3518502712249756,-3.6490159034729004,-2.5312161445617676,-3.479064464569092,-3.6549339294433594,-4.1325459480285645,-3.537122964859009,-4.173007488250732,-4.227715015411377,-3.411259412765503,-3.671142101287842,-3.3902881145477295,-1.3579541444778442,-3.2815165519714355,-3.1291465759277344,-3.343316078186035,-3.682016611099243,-3.7420260906219482,-8.617090225219727,-3.699244976043701,-3.3313913345336914,-3.6011769771575928,-3.3450546264648438,-3.270798683166504,-3.3991119861602783,-3.4014739990234375,-3.944483757019043,-3.107731342315674,-3.5500011444091797,-4.939505577087402,-3.3299436569213867,-3.0365939140319824,-3.054617404937744,-4.074868202209473,-3.7511534690856934,-3.689274549484253,-3.2615413665771484,-3.319472074508667,-3.1826553344726562,-2.604383945465088,-3.737452268600464,-3.370925188064575,-3.3196258544921875,-4.246170520782471,-3.3036017417907715,-3.768105983734131,-3.721344470977783,-3.372292995452881,-2.0478832721710205,-3.9003286361694336,-3.5902109146118164,-3.6643199920654297,-3.4050276279449463,-3.7854225635528564,-3.673880100250244,-3.901479482650757,-3.305617570877075,-3.351895570755005,-2.619274139404297,-3.699856758117676,-3.8368043899536133,-3.303955078125,-3.364586114883423,-7.1553730964660645,-3.3345038890838623,-3.753978729248047,-3.6949379444122314,-3.1119284629821777,-3.8158862590789795,-2.776355028152466,-3.674848794937134,-3.509765386581421,-3.3683419227600098,-3.694923162460327,-3.72725510597229,-3.2566633224487305,-3.382066488265991,-3.7937533855438232,-3.6593451499938965,-3.591203451156616,-3.317939043045044],\"yaxis\":\"y\",\"type\":\"scattergl\"},{\"hovertemplate\":\"\\u0412\\u0438\\u0434 \\u041d\\u041f\\u0410=\\u0417\\u0430\\u043a\\u043e\\u043d, \\u0444\\u0435\\u0434\\u0435\\u0440\\u0430\\u043b\\u044c\\u043d\\u044b\\u0439 \\u0443\\u0440\\u043e\\u0432\\u0435\\u043d\\u044c, \\u0437\\u0430\\u043a\\u043e\\u043d\\u043e\\u0434\\u0430\\u0442\\u0435\\u043b\\u044c\\u043d\\u044b\\u0439 \\u043e\\u0440\\u0433\\u0430\\u043d\\u003cbr\\u003e0=%{x}\\u003cbr\\u003e1=%{y}\\u003cextra\\u003e\\u003c\\u002fextra\\u003e\",\"legendgroup\":\"\\u0417\\u0430\\u043a\\u043e\\u043d, \\u0444\\u0435\\u0434\\u0435\\u0440\\u0430\\u043b\\u044c\\u043d\\u044b\\u0439 \\u0443\\u0440\\u043e\\u0432\\u0435\\u043d\\u044c, \\u0437\\u0430\\u043a\\u043e\\u043d\\u043e\\u0434\\u0430\\u0442\\u0435\\u043b\\u044c\\u043d\\u044b\\u0439 \\u043e\\u0440\\u0433\\u0430\\u043d\",\"marker\":{\"color\":\"#00cc96\",\"symbol\":\"circle\"},\"mode\":\"markers\",\"name\":\"\\u0417\\u0430\\u043a\\u043e\\u043d, \\u0444\\u0435\\u0434\\u0435\\u0440\\u0430\\u043b\\u044c\\u043d\\u044b\\u0439 \\u0443\\u0440\\u043e\\u0432\\u0435\\u043d\\u044c, \\u0437\\u0430\\u043a\\u043e\\u043d\\u043e\\u0434\\u0430\\u0442\\u0435\\u043b\\u044c\\u043d\\u044b\\u0439 \\u043e\\u0440\\u0433\\u0430\\u043d\",\"showlegend\":true,\"x\":[-8.654829025268555,-10.609177589416504,-11.870284080505371,-8.649430274963379,-8.78518295288086,-12.37114429473877,-8.827386856079102,-8.48497486114502,-12.007452011108398,-12.734710693359375,-11.132913589477539,-12.964288711547852,-12.310672760009766,-8.404251098632812,-9.049065589904785,-8.569554328918457,-12.582152366638184,-11.753061294555664,-12.051523208618164,-8.889404296875,-10.712451934814453,-12.071704864501953,-10.53307819366455,-11.437983512878418,-8.60545539855957,-12.793904304504395,-10.558226585388184,-12.208115577697754,-11.461891174316406,-8.813332557678223,-10.371234893798828,-8.757043838500977,-10.603521347045898,-8.589875221252441,-8.80660343170166,-12.64836597442627,-10.28462028503418,-9.372823715209961,-12.311959266662598,-10.56216812133789,-12.25854206085205,-10.892013549804688,-8.627614974975586,-12.447628021240234,-12.792433738708496,-8.704255104064941,-9.257561683654785,-12.064205169677734,-8.616412162780762,-11.094462394714355,-12.196496963500977,-11.088550567626953,-11.624942779541016,-8.545831680297852,-8.474872589111328,-11.230557441711426,-8.590144157409668,-11.85934829711914,-12.257031440734863,-12.210532188415527,-12.261307716369629,-8.892695426940918,-10.787491798400879,-12.397300720214844,-12.345553398132324,-9.209660530090332,-12.632303237915039,-8.679485321044922,-11.685142517089844,-12.531753540039062,-12.303515434265137,-9.023941040039062,-8.723074913024902,-9.238387107849121,-11.400464057922363,-8.624571800231934,-8.6545991897583,-10.760587692260742,-8.717872619628906,-8.53773021697998,-12.56328296661377,-12.908353805541992,-9.009472846984863,-8.584104537963867,-8.653735160827637,-12.678462982177734,-12.630497932434082,-8.556663513183594,-12.264765739440918,-8.552821159362793,-10.934480667114258,-12.55038070678711,-8.726070404052734,-12.255166053771973,-12.455721855163574,-11.832512855529785,-8.896636962890625,-8.514653205871582,-12.073188781738281,-9.11809253692627,-12.915679931640625,-10.619322776794434,-8.543880462646484,-12.022871017456055,-12.081199645996094,-11.856494903564453,-12.596189498901367,-9.02625560760498,-12.495267868041992,-11.851667404174805,-11.653129577636719,-8.506428718566895,-11.12378215789795,-12.150469779968262,-12.389230728149414,-11.83520221710205,-12.292224884033203,-11.938416481018066,-11.833564758300781,-8.753969192504883,-12.729049682617188,-11.05180549621582,-8.717918395996094,-10.8734712600708,-10.623141288757324,-11.903217315673828,-12.442090034484863,-8.740743637084961,-11.765130996704102,-12.442642211914062,-12.551386833190918,-9.504424095153809,-12.013788223266602],\"xaxis\":\"x\",\"y\":[4.517483711242676,2.0976290702819824,0.45307210087776184,4.408413410186768,4.279231548309326,1.4325155019760132,3.2576913833618164,4.589001655578613,0.9097282290458679,1.870235800743103,-0.15958960354328156,0.7261549234390259,-0.08148478716611862,4.614599227905273,3.1226768493652344,4.433119297027588,1.8071868419647217,0.8719385862350464,1.8086570501327515,3.2093424797058105,2.0971312522888184,0.2905195355415344,2.0418941974639893,2.6975345611572266,4.475574016571045,0.5876640677452087,1.1729897260665894,0.31909942626953125,-0.0021875668317079544,4.251316070556641,2.5304877758026123,4.228007793426514,1.994312047958374,4.503228187561035,4.308964729309082,0.9197748899459839,2.7223546504974365,3.780764579772949,1.5967248678207397,1.968673825263977,1.6856369972229004,1.8809798955917358,4.511665344238281,0.8838361501693726,1.0451114177703857,3.368457555770874,3.916245698928833,2.010375499725342,4.467356204986572,0.0017457474023103714,1.0649551153182983,0.08862897753715515,2.3367300033569336,4.560268878936768,4.616053104400635,0.023093612864613533,4.519826412200928,0.6669813990592957,-0.14247830212116241,0.9356140494346619,1.5536235570907593,4.100303649902344,1.619547963142395,0.9817959666252136,0.6408657431602478,2.9836134910583496,0.5556245446205139,4.409393787384033,0.05197791010141373,0.931755781173706,0.13513191044330597,3.0495998859405518,4.368027687072754,3.7033181190490723,0.9587530493736267,4.5138444900512695,4.559849739074707,1.7402513027191162,3.299717664718628,4.498542308807373,1.6100527048110962,1.8658828735351562,3.2270889282226562,4.552289962768555,4.466701984405518,0.8960902690887451,2.0090348720550537,4.585354328155518,0.7038240432739258,4.610130786895752,0.05663483589887619,0.8642328381538391,4.296428203582764,1.6748334169387817,1.8866658210754395,0.2804144620895386,4.205911159515381,4.604298114776611,0.9600326418876648,3.0966267585754395,0.5761900544166565,0.900018036365509,4.5594482421875,0.15373648703098297,0.6811708807945251,2.159478187561035,0.9972230792045593,3.382619619369507,1.4385007619857788,0.23139376938343048,1.2445520162582397,4.607044219970703,-0.0031153028830885887,1.515019178390503,0.9777142405509949,0.19357429444789886,1.5885416269302368,1.8828407526016235,0.5230445265769958,4.366898536682129,1.9171347618103027,1.6487867832183838,3.408025026321411,0.016415800899267197,1.960884690284729,1.099091649055481,1.3830472230911255,3.4954259395599365,0.6799290180206299,1.520473837852478,1.0482419729232788,3.6635525226593018,1.1787949800491333],\"yaxis\":\"y\",\"type\":\"scattergl\"},{\"hovertemplate\":\"\\u0412\\u0438\\u0434 \\u041d\\u041f\\u0410=\\u041f\\u043e\\u0441\\u0442\\u0430\\u043d\\u043e\\u0432\\u043b\\u0435\\u043d\\u0438\\u0435, \\u0444\\u0435\\u0434\\u0435\\u0440\\u0430\\u043b\\u044c\\u043d\\u044b\\u0439 \\u0443\\u0440\\u043e\\u0432\\u0435\\u043d\\u044c, \\u043f\\u0440\\u0430\\u0432\\u0438\\u0442\\u0435\\u043b\\u044c\\u0441\\u0442\\u0432\\u043e\\u003cbr\\u003e0=%{x}\\u003cbr\\u003e1=%{y}\\u003cextra\\u003e\\u003c\\u002fextra\\u003e\",\"legendgroup\":\"\\u041f\\u043e\\u0441\\u0442\\u0430\\u043d\\u043e\\u0432\\u043b\\u0435\\u043d\\u0438\\u0435, \\u0444\\u0435\\u0434\\u0435\\u0440\\u0430\\u043b\\u044c\\u043d\\u044b\\u0439 \\u0443\\u0440\\u043e\\u0432\\u0435\\u043d\\u044c, \\u043f\\u0440\\u0430\\u0432\\u0438\\u0442\\u0435\\u043b\\u044c\\u0441\\u0442\\u0432\\u043e\",\"marker\":{\"color\":\"#ab63fa\",\"symbol\":\"circle\"},\"mode\":\"markers\",\"name\":\"\\u041f\\u043e\\u0441\\u0442\\u0430\\u043d\\u043e\\u0432\\u043b\\u0435\\u043d\\u0438\\u0435, \\u0444\\u0435\\u0434\\u0435\\u0440\\u0430\\u043b\\u044c\\u043d\\u044b\\u0439 \\u0443\\u0440\\u043e\\u0432\\u0435\\u043d\\u044c, \\u043f\\u0440\\u0430\\u0432\\u0438\\u0442\\u0435\\u043b\\u044c\\u0441\\u0442\\u0432\\u043e\",\"showlegend\":true,\"x\":[-0.07780773937702179,-0.3371601104736328,0.5237387418746948,-1.3790005445480347,1.026694893836975,3.830840587615967,-0.01013491116464138,-1.2224085330963135,4.110678672790527,-0.4940528869628906,-0.06465107947587967,0.5511720180511475,0.00439514871686697,-0.44915443658828735,-0.9622029662132263,-0.8854103684425354,-0.06362613290548325,0.41406112909317017,-0.05256204307079315,-0.09539239853620529,-0.1650274246931076,-0.013430703431367874,-0.6289328932762146,0.0974356085062027,-1.442198395729065,0.32282161712646484,-1.1439234018325806,0.0018559088930487633,-0.07022901624441147,-1.6115107536315918,-0.3957407772541046,0.47802436351776123,-0.07054956257343292,0.2704305052757263,-0.8697510957717896,-1.3280669450759888,0.5117635726928711,-0.07420118153095245,-1.2477891445159912,-0.8924024105072021,-0.26039838790893555,-0.023487083613872528,-0.3185374438762665,-0.036084678024053574,-0.977481484413147,0.4222151041030884,-1.4898236989974976,-0.7844039797782898,0.8101584315299988,-1.241931438446045,-1.548729658126831,-0.9808757305145264,-1.3905720710754395,-0.008199948817491531,-0.06492700427770615,-1.4325907230377197,-1.602692723274231,-0.39031365513801575,-0.49959492683410645,0.5912884473800659,-0.39552560448646545,-0.7875327467918396,0.38153088092803955,-0.3469017744064331,-0.0646832287311554,0.012081858702003956,-1.5463716983795166,6.700675010681152,-1.3979716300964355,0.4282282590866089,-0.06186995655298233,-0.9462225437164307,-0.5715629458427429,0.9588252902030945,-1.2246015071868896,-0.8376592993736267,0.42358458042144775,0.01020977646112442,-1.2972500324249268,-0.9472925662994385,-1.2335525751113892,-0.06643550843000412,0.22886501252651215,0.011151817627251148,-0.7045515179634094,-0.6828616857528687,-0.606162428855896,-1.571804165840149,-0.17277301847934723,-0.001443786546587944,-1.2001367807388306,-0.8427295088768005,-0.06988558173179626,-0.17950469255447388,0.4746350049972534,-0.48305657505989075,0.28961101174354553,0.8679432272911072],\"xaxis\":\"x\",\"y\":[-12.69161605834961,-10.395783424377441,-10.734663009643555,-10.084295272827148,-10.529216766357422,-3.159658432006836,-12.539482116699219,-10.533712387084961,-2.662137031555176,-10.38123893737793,-12.684637069702148,-11.074295997619629,-12.666471481323242,-10.140198707580566,-10.456650733947754,-10.66452693939209,-12.702284812927246,-9.960640907287598,-12.668339729309082,-12.707107543945312,-9.624743461608887,-12.516887664794922,-10.26010799407959,-12.255620956420898,-9.89120864868164,-10.650676727294922,-10.624825477600098,-12.580202102661133,-12.660787582397461,-10.217559814453125,-10.351886749267578,-10.376673698425293,-12.712359428405762,-11.460692405700684,-9.934819221496582,-10.074437141418457,-10.460904121398926,-12.730951309204102,-9.936359405517578,-10.22707748413086,-10.311897277832031,-12.527750015258789,-10.103928565979004,-12.663809776306152,-9.950937271118164,-10.211308479309082,-10.892793655395508,-10.20152759552002,-11.308424949645996,-10.29931640625,-10.258221626281738,-9.985782623291016,-9.906879425048828,-12.629015922546387,-12.70376968383789,-10.135436058044434,-10.003396987915039,-10.155097961425781,-10.37115478515625,-10.512670516967773,-10.347676277160645,-10.611897468566895,-10.904446601867676,-10.264669418334961,-12.712231636047363,-12.60361099243164,-9.945364952087402,-2.8085110187530518,-10.126044273376465,-10.299038887023926,-12.68413257598877,-10.072897911071777,-10.24701976776123,-10.297444343566895,-10.626643180847168,-10.504632949829102,-10.017248153686523,-10.050907135009766,-10.380916595458984,-10.087729454040527,-10.85285758972168,-12.665307998657227,-11.406073570251465,-12.554854393005371,-10.431514739990234,-9.873373985290527,-10.376005172729492,-10.074808120727539,-10.27358341217041,-10.2157621383667,-9.991883277893066,-9.514140129089355,-12.710755348205566,-10.038290023803711,-10.142472267150879,-10.278857231140137,-9.828797340393066,-11.43289852142334],\"yaxis\":\"y\",\"type\":\"scattergl\"},{\"hovertemplate\":\"\\u0412\\u0438\\u0434 \\u041d\\u041f\\u0410=\\u041f\\u0440\\u0438\\u043a\\u0430\\u0437, \\u0440\\u0435\\u0433\\u0438\\u043e\\u043d\\u0430\\u043b\\u044c\\u043d\\u044b\\u0439 \\u0443\\u0440\\u043e\\u0432\\u0435\\u043d\\u044c, \\u043e\\u0440\\u0433\\u0430\\u043d\\u044b \\u0438\\u0441\\u043f\\u043e\\u043b\\u043d\\u0438\\u0442\\u0435\\u043b\\u044c\\u043d\\u043e\\u0439 \\u0432\\u043b\\u0430\\u0441\\u0442\\u0438\\u003cbr\\u003e0=%{x}\\u003cbr\\u003e1=%{y}\\u003cextra\\u003e\\u003c\\u002fextra\\u003e\",\"legendgroup\":\"\\u041f\\u0440\\u0438\\u043a\\u0430\\u0437, \\u0440\\u0435\\u0433\\u0438\\u043e\\u043d\\u0430\\u043b\\u044c\\u043d\\u044b\\u0439 \\u0443\\u0440\\u043e\\u0432\\u0435\\u043d\\u044c, \\u043e\\u0440\\u0433\\u0430\\u043d\\u044b \\u0438\\u0441\\u043f\\u043e\\u043b\\u043d\\u0438\\u0442\\u0435\\u043b\\u044c\\u043d\\u043e\\u0439 \\u0432\\u043b\\u0430\\u0441\\u0442\\u0438\",\"marker\":{\"color\":\"#FFA15A\",\"symbol\":\"circle\"},\"mode\":\"markers\",\"name\":\"\\u041f\\u0440\\u0438\\u043a\\u0430\\u0437, \\u0440\\u0435\\u0433\\u0438\\u043e\\u043d\\u0430\\u043b\\u044c\\u043d\\u044b\\u0439 \\u0443\\u0440\\u043e\\u0432\\u0435\\u043d\\u044c, \\u043e\\u0440\\u0433\\u0430\\u043d\\u044b \\u0438\\u0441\\u043f\\u043e\\u043b\\u043d\\u0438\\u0442\\u0435\\u043b\\u044c\\u043d\\u043e\\u0439 \\u0432\\u043b\\u0430\\u0441\\u0442\\u0438\",\"showlegend\":true,\"x\":[6.271719455718994,3.0687904357910156,5.054440975189209,5.813416957855225,6.158054828643799,5.6974077224731445,4.980480670928955,6.410967826843262,5.031525135040283,6.5299296379089355,5.910157203674316,6.671031475067139,6.3982133865356445,6.138888835906982,6.5054779052734375,6.900108814239502,5.674014091491699,5.561127185821533,5.254868030548096,5.72696590423584,9.947036743164062,4.803863048553467,5.430731296539307,5.070896148681641,5.520078182220459,6.06743049621582,5.544731140136719,4.580855846405029,5.752250671386719,0.12270242720842361,5.32310676574707,4.998985290527344,4.219560146331787,4.352427005767822,5.940335273742676,5.805295467376709,5.878289699554443,6.268415451049805,5.994723796844482,5.562628269195557,5.534908771514893,5.3643269538879395,5.644325256347656,5.691196918487549,6.182565212249756,6.235976219177246,4.6140899658203125,6.054020881652832,6.889601707458496,6.095462322235107,6.203493595123291,5.447667121887207,6.565284729003906,5.730221748352051,5.052556037902832,6.007623195648193,6.184513092041016,5.358905792236328,6.15031099319458,5.513649940490723,5.523685932159424,6.592301845550537,5.871213436126709,4.863470554351807,5.6737446784973145,6.768885612487793,5.901372909545898,2.5913143157958984,6.438803672790527,5.79451847076416,5.698191165924072,6.477446556091309,7.036510467529297,5.421651840209961,5.90866231918335,4.5090765953063965,5.749142646789551,6.4761643409729,0.42875128984451294,6.0480194091796875,5.984094142913818,5.316214561462402,6.033731937408447,4.790809631347656,4.9716691970825195,5.377599239349365,4.374460697174072,6.614908218383789,4.161126136779785,4.998979568481445,6.620394229888916,6.744048595428467,5.326228141784668,5.929961204528809,5.01185417175293,6.003378391265869],\"xaxis\":\"x\",\"y\":[9.5285062789917,-1.9989687204360962,8.962611198425293,8.09925651550293,7.876674175262451,7.6798176765441895,8.650903701782227,9.109923362731934,9.285722732543945,7.864426612854004,9.433446884155273,8.771523475646973,8.913585662841797,9.050688743591309,7.158573627471924,7.642582893371582,7.58294153213501,6.14730167388916,9.308256149291992,8.909939765930176,2.781766176223755,8.563812255859375,9.600349426269531,5.942432403564453,6.368877410888672,8.082538604736328,8.992637634277344,8.07486343383789,7.776119709014893,3.297804832458496,9.350635528564453,8.644842147827148,5.9411115646362305,8.154664039611816,8.162155151367188,9.703609466552734,7.82824182510376,8.296868324279785,9.611076354980469,6.2149152755737305,8.307994842529297,5.932981014251709,6.650418281555176,7.674447536468506,8.06055736541748,9.458908081054688,8.534902572631836,9.341255187988281,7.5152907371521,8.25718879699707,5.195791244506836,8.732257843017578,7.37657356262207,9.743758201599121,8.625530242919922,9.714088439941406,9.01264476776123,9.541982650756836,7.547685146331787,7.785355091094971,6.370302200317383,8.85177993774414,8.475196838378906,7.333409786224365,7.66652774810791,7.682128429412842,9.439875602722168,-1.1045277118682861,8.308576583862305,8.083503723144531,9.560613632202148,8.302155494689941,8.55201244354248,9.235465049743652,9.39367961883545,8.561015129089355,6.73364782333374,8.222182273864746,2.777341365814209,9.625179290771484,9.079811096191406,8.166574478149414,9.681693077087402,7.358709335327148,8.86175537109375,8.427461624145508,8.131819725036621,8.145960807800293,7.6658735275268555,8.880764961242676,5.762846946716309,8.877333641052246,8.072674751281738,9.112011909484863,8.766234397888184,9.731788635253906],\"yaxis\":\"y\",\"type\":\"scattergl\"},{\"hovertemplate\":\"\\u0412\\u0438\\u0434 \\u041d\\u041f\\u0410=\\u041f\\u043e\\u0441\\u0442\\u0430\\u043d\\u043e\\u0432\\u043b\\u0435\\u043d\\u0438\\u0435, \\u0440\\u0435\\u0433\\u0438\\u043e\\u043d\\u0430\\u043b\\u044c\\u043d\\u044b\\u0439 \\u0443\\u0440\\u043e\\u0432\\u0435\\u043d\\u044c, \\u0437\\u0430\\u043a\\u043e\\u043d\\u043e\\u0434\\u0430\\u0442\\u0435\\u043b\\u044c\\u043d\\u044b\\u0439 \\u043e\\u0440\\u0433\\u0430\\u043d\\u003cbr\\u003e0=%{x}\\u003cbr\\u003e1=%{y}\\u003cextra\\u003e\\u003c\\u002fextra\\u003e\",\"legendgroup\":\"\\u041f\\u043e\\u0441\\u0442\\u0430\\u043d\\u043e\\u0432\\u043b\\u0435\\u043d\\u0438\\u0435, \\u0440\\u0435\\u0433\\u0438\\u043e\\u043d\\u0430\\u043b\\u044c\\u043d\\u044b\\u0439 \\u0443\\u0440\\u043e\\u0432\\u0435\\u043d\\u044c, \\u0437\\u0430\\u043a\\u043e\\u043d\\u043e\\u0434\\u0430\\u0442\\u0435\\u043b\\u044c\\u043d\\u044b\\u0439 \\u043e\\u0440\\u0433\\u0430\\u043d\",\"marker\":{\"color\":\"#19d3f3\",\"symbol\":\"circle\"},\"mode\":\"markers\",\"name\":\"\\u041f\\u043e\\u0441\\u0442\\u0430\\u043d\\u043e\\u0432\\u043b\\u0435\\u043d\\u0438\\u0435, \\u0440\\u0435\\u0433\\u0438\\u043e\\u043d\\u0430\\u043b\\u044c\\u043d\\u044b\\u0439 \\u0443\\u0440\\u043e\\u0432\\u0435\\u043d\\u044c, \\u0437\\u0430\\u043a\\u043e\\u043d\\u043e\\u0434\\u0430\\u0442\\u0435\\u043b\\u044c\\u043d\\u044b\\u0439 \\u043e\\u0440\\u0433\\u0430\\u043d\",\"showlegend\":true,\"x\":[-6.453255653381348,-6.2075700759887695,-6.216250896453857,-7.374746322631836,-8.291561126708984,-6.47593355178833,-7.028222560882568,-7.656283855438232,-7.6517510414123535,-7.522023677825928,-6.429830551147461,-5.408512115478516,-7.454452037811279,-6.31014347076416,-7.472212791442871,-6.184460639953613,-8.497401237487793,-6.940181255340576,-7.599601745605469,-5.4851861000061035,1.0512170791625977,5.3947672843933105,1.0207712650299072,-6.432173728942871,-7.613511562347412,-6.484250545501709,-8.092896461486816,-5.168354034423828,-7.1739630699157715,-7.5063982009887695,-6.380261421203613,-7.5599260330200195,-7.612186431884766,-6.481982231140137,-6.309636116027832,-5.999251842498779,-7.592042922973633,-6.315566062927246,-7.432821273803711,-6.8519816398620605,-7.682921409606934,-7.134538173675537,-6.391162872314453,-6.459227085113525,-6.140715599060059,-7.047030925750732,-6.438079357147217,-7.3431925773620605,-7.411048889160156,-6.387901306152344,-6.423126697540283,-5.586227893829346,-7.474185466766357,-6.401864528656006,-6.430685043334961,-7.094764709472656,-6.452543258666992,-7.474003314971924,-6.538572788238525,-6.927244186401367,-6.95158052444458,-7.571379661560059,-7.513552665710449,-6.4079766273498535,-6.835932731628418,-8.464994430541992,-6.499731540679932,-6.441130638122559,-6.601320266723633,-7.542614936828613,-7.419834136962891,-6.206445693969727,-6.232771396636963,-7.465826034545898,-6.2562360763549805,-6.3010053634643555,-7.519896030426025,-6.741607189178467,-7.499225616455078,-5.907253742218018,-6.7266693115234375,-6.581943511962891,-7.365179538726807,-6.210690021514893,-7.009618759155273,-6.343610763549805,-8.373991012573242,-8.158435821533203,-6.18595027923584,-5.413907051086426,-6.378684043884277,-7.9163737297058105,-6.606209754943848,-6.262345314025879,-8.108363151550293,-3.286566972732544,-7.050665378570557,-7.312873840332031,-7.013116359710693,-7.4309492111206055,-6.327178955078125,-6.414112567901611,-7.184172630310059,-7.503864288330078,-6.410848617553711],\"xaxis\":\"x\",\"y\":[0.9895854592323303,-0.47075754404067993,-0.08655643463134766,1.3458776473999023,-0.07219048589468002,0.646617591381073,-0.5745256543159485,-1.019321084022522,0.31586533784866333,-1.1842395067214966,-0.5779764652252197,-2.02599835395813,-1.0855859518051147,-0.5288956165313721,-1.095243215560913,0.751611053943634,-0.5830035209655762,1.0306895971298218,-1.1544239521026611,-0.3782992660999298,-0.42001932859420776,5.660811424255371,-0.43485626578330994,0.5467665195465088,-1.0912644863128662,0.1609647274017334,0.26301082968711853,3.531928539276123,-1.0933705568313599,-1.1051527261734009,-0.5539774298667908,-1.2917323112487793,-1.2848747968673706,0.6203024983406067,-0.35188284516334534,0.08554771542549133,-1.0685057640075684,0.5698643326759338,-1.0704572200775146,1.5669764280319214,-1.5062506198883057,1.147767424583435,1.7472096681594849,0.4092656970024109,-0.43198132514953613,-0.7544198036193848,0.8345500230789185,-0.8810310959815979,-1.1845883131027222,0.5265355706214905,0.5615900158882141,-0.44025078415870667,-1.206993579864502,0.7711470723152161,1.7582653760910034,1.3442050218582153,0.34692487120628357,-1.0747504234313965,1.202832818031311,0.22154131531715393,1.3185219764709473,-1.3047726154327393,-1.0623811483383179,0.34431469440460205,1.306174397468567,-0.5439571142196655,0.36413419246673584,0.5004827976226807,1.3589178323745728,-1.1626696586608887,-1.0268219709396362,-0.5436244606971741,-0.4294486343860626,-1.1692947149276733,-0.5084400177001953,1.7655519247055054,-1.1781680583953857,1.4535351991653442,-0.9876017570495605,0.6291794776916504,-0.5297850370407104,1.1804578304290771,-1.005361557006836,1.5564210414886475,1.310550570487976,-0.428796648979187,-0.6315425038337708,0.19920030236244202,-0.551414966583252,-2.370145320892334,1.4822877645492554,0.3495030105113983,0.379543274641037,0.7276055812835693,0.24929958581924438,5.671225547790527,1.3818875551223755,1.1762295961380005,0.8768821954727173,-0.9174975752830505,-0.5248227715492249,0.779321014881134,0.3159162998199463,-1.1594074964523315,-0.4431580603122711],\"yaxis\":\"y\",\"type\":\"scattergl\"},{\"hovertemplate\":\"\\u0412\\u0438\\u0434 \\u041d\\u041f\\u0410=\\u0417\\u0430\\u043a\\u043e\\u043d, \\u0440\\u0435\\u0433\\u0438\\u043e\\u043d\\u0430\\u043b\\u044c\\u043d\\u044b\\u0439 \\u0443\\u0440\\u043e\\u0432\\u0435\\u043d\\u044c, \\u0437\\u0430\\u043a\\u043e\\u043d\\u043e\\u0434\\u0430\\u0442\\u0435\\u043b\\u044c\\u043d\\u044b\\u0439 \\u043e\\u0440\\u0433\\u0430\\u043d\\u003cbr\\u003e0=%{x}\\u003cbr\\u003e1=%{y}\\u003cextra\\u003e\\u003c\\u002fextra\\u003e\",\"legendgroup\":\"\\u0417\\u0430\\u043a\\u043e\\u043d, \\u0440\\u0435\\u0433\\u0438\\u043e\\u043d\\u0430\\u043b\\u044c\\u043d\\u044b\\u0439 \\u0443\\u0440\\u043e\\u0432\\u0435\\u043d\\u044c, \\u0437\\u0430\\u043a\\u043e\\u043d\\u043e\\u0434\\u0430\\u0442\\u0435\\u043b\\u044c\\u043d\\u044b\\u0439 \\u043e\\u0440\\u0433\\u0430\\u043d\",\"marker\":{\"color\":\"#FF6692\",\"symbol\":\"circle\"},\"mode\":\"markers\",\"name\":\"\\u0417\\u0430\\u043a\\u043e\\u043d, \\u0440\\u0435\\u0433\\u0438\\u043e\\u043d\\u0430\\u043b\\u044c\\u043d\\u044b\\u0439 \\u0443\\u0440\\u043e\\u0432\\u0435\\u043d\\u044c, \\u0437\\u0430\\u043a\\u043e\\u043d\\u043e\\u0434\\u0430\\u0442\\u0435\\u043b\\u044c\\u043d\\u044b\\u0439 \\u043e\\u0440\\u0433\\u0430\\u043d\",\"showlegend\":true,\"x\":[-5.629343509674072,-6.238638877868652,-7.075436115264893,-6.177358627319336,-6.297939777374268,-6.644282341003418,-5.891550064086914,-6.904927730560303,-5.646295070648193,-5.537622928619385,-5.82874870300293,-6.123623847961426,-7.978126525878906,-5.69245719909668,-6.856943130493164,-5.5274481773376465,-6.968597412109375,-6.727261543273926,-6.442338943481445,-6.653452396392822,-5.9188232421875,-6.902423858642578,-7.542245388031006,-6.9278388023376465,-7.799866676330566,-7.529684543609619,-7.0532402992248535,-5.732633113861084,-7.030301094055176,-5.744125843048096,-5.505834579467773,-5.8716888427734375,-7.639091491699219,-5.968080520629883,-5.361103534698486,-5.5316081047058105,-6.163307189941406,-7.6767401695251465,-5.4799323081970215,-7.210269927978516,-6.041764736175537,-7.966738224029541,-7.684794902801514,-6.7764811515808105,-6.118107795715332,-8.00833511352539,-5.485652923583984,-6.253314971923828,-6.7697882652282715,-7.656571388244629,-8.387405395507812,-6.468753814697266,-6.22684907913208,-5.371801853179932,-7.613981246948242,-6.8040242195129395,-7.6269354820251465,-5.362933158874512,-5.684946060180664,-5.949859142303467,-5.2776923179626465,-7.532740116119385,-6.0283403396606445,-5.469283103942871,-7.179712295532227,-7.332469940185547,-7.432448863983154,-5.356457233428955,-7.982015132904053,-7.879987716674805,-5.952753067016602,-7.040432929992676,-5.493992805480957,-5.817105770111084,-7.312387943267822,-5.65573787689209,-7.057413101196289,-5.760609149932861,-7.705942153930664,-5.766955852508545,-7.855479717254639,-6.155087471008301,-6.8879852294921875,-5.529095649719238,-5.951160430908203,-8.156103134155273,-7.717260360717773,-8.178622245788574,-5.940006732940674,-7.556464672088623,-6.438868045806885,-5.765739917755127,-6.1747870445251465,-5.277840614318848,-7.866060256958008,-5.562378406524658,-5.661674499511719,-8.003520011901855,-5.728182792663574,-6.632477760314941,-6.777160167694092,-7.363467216491699,-7.965150356292725,-6.183279037475586,-5.930090427398682,-6.15115213394165,-6.379106044769287,-5.550532341003418],\"xaxis\":\"x\",\"y\":[-7.201950550079346,-6.808925628662109,-6.704098224639893,-6.247453212738037,-5.932555198669434,-6.602264881134033,-5.184917449951172,-6.013742446899414,-5.035059928894043,-4.705587387084961,-7.914669990539551,-6.202001571655273,-6.770885467529297,-7.817448139190674,-6.937417984008789,-4.698713779449463,-6.337846755981445,-7.646129608154297,-6.673767566680908,-5.4985809326171875,-5.349539756774902,-7.112964630126953,-6.670079231262207,-6.573707103729248,-6.900552749633789,-7.427292823791504,-6.404093265533447,-7.563390254974365,-7.216061115264893,-6.216610908508301,-4.729977130889893,-6.669942855834961,-7.069429874420166,-8.026878356933594,-5.823400020599365,-5.045373439788818,-5.751675128936768,-7.074235916137695,-4.684143543243408,-6.223006248474121,-6.302150726318359,-6.594531059265137,-6.7012104988098145,-7.040201187133789,-6.457058429718018,-6.741901397705078,-4.5717058181762695,-6.065537452697754,-6.404149532318115,-6.088164329528809,-6.625813007354736,-7.761022090911865,-5.6903862953186035,-4.4915571212768555,-5.9261980056762695,-5.806442737579346,-6.633671760559082,-4.434329509735107,-6.53449821472168,-7.726104259490967,-4.221916675567627,-6.842416286468506,-6.702877521514893,-4.738670349121094,-6.930967807769775,-6.288041114807129,-6.40091609954834,-6.683584690093994,-6.185567378997803,-6.518786907196045,-7.788986682891846,-6.5140838623046875,-7.529813766479492,-5.078571796417236,-6.827415943145752,-7.706012725830078,-7.694632530212402,-7.900827884674072,-6.577299118041992,-5.029332637786865,-6.831090450286865,-6.485004901885986,-6.65786075592041,-6.327442646026611,-5.127354145050049,-6.647218227386475,-6.503382205963135,-6.705809116363525,-8.044289588928223,-6.239692211151123,-5.195990562438965,-5.561293601989746,-6.071283340454102,-4.355880260467529,-6.219919204711914,-5.506494045257568,-6.7217326164245605,-5.890407562255859,-5.847888946533203,-6.674320220947266,-6.803366184234619,-6.839317321777344,-6.680570125579834,-6.569156646728516,-7.4651336669921875,-5.139713287353516,-6.867359161376953,-4.647179126739502],\"yaxis\":\"y\",\"type\":\"scattergl\"},{\"hovertemplate\":\"\\u0412\\u0438\\u0434 \\u041d\\u041f\\u0410=\\u041f\\u043e\\u0441\\u0442\\u0430\\u043d\\u043e\\u0432\\u043b\\u0435\\u043d\\u0438\\u0435, \\u0440\\u0435\\u0433\\u0438\\u043e\\u043d\\u0430\\u043b\\u044c\\u043d\\u044b\\u0439 \\u0443\\u0440\\u043e\\u0432\\u0435\\u043d\\u044c, \\u043f\\u0440\\u0430\\u0432\\u0438\\u0442\\u0435\\u043b\\u044c\\u0441\\u0442\\u0432\\u043e\\u003cbr\\u003e0=%{x}\\u003cbr\\u003e1=%{y}\\u003cextra\\u003e\\u003c\\u002fextra\\u003e\",\"legendgroup\":\"\\u041f\\u043e\\u0441\\u0442\\u0430\\u043d\\u043e\\u0432\\u043b\\u0435\\u043d\\u0438\\u0435, \\u0440\\u0435\\u0433\\u0438\\u043e\\u043d\\u0430\\u043b\\u044c\\u043d\\u044b\\u0439 \\u0443\\u0440\\u043e\\u0432\\u0435\\u043d\\u044c, \\u043f\\u0440\\u0430\\u0432\\u0438\\u0442\\u0435\\u043b\\u044c\\u0441\\u0442\\u0432\\u043e\",\"marker\":{\"color\":\"#B6E880\",\"symbol\":\"circle\"},\"mode\":\"markers\",\"name\":\"\\u041f\\u043e\\u0441\\u0442\\u0430\\u043d\\u043e\\u0432\\u043b\\u0435\\u043d\\u0438\\u0435, \\u0440\\u0435\\u0433\\u0438\\u043e\\u043d\\u0430\\u043b\\u044c\\u043d\\u044b\\u0439 \\u0443\\u0440\\u043e\\u0432\\u0435\\u043d\\u044c, \\u043f\\u0440\\u0430\\u0432\\u0438\\u0442\\u0435\\u043b\\u044c\\u0441\\u0442\\u0432\\u043e\",\"showlegend\":true,\"x\":[-2.0267157554626465,-2.6393837928771973,-1.7410171031951904,-2.2660012245178223,-2.4372425079345703,-2.2357711791992188,-2.7020702362060547,-2.668124198913574,-3.353038787841797,-1.7205414772033691,-1.706011414527893,-2.4836905002593994,-2.639671564102173,-2.6618263721466064,-2.0258231163024902,-1.9102447032928467,-1.4472382068634033,-2.2461678981781006,-2.221281051635742,-1.8465603590011597,3.653191089630127,-1.66170334815979,-1.21140456199646,-2.3040804862976074,-1.5938832759857178,-1.9140260219573975,-1.3996644020080566,-1.9118194580078125,-2.1276371479034424,-2.0606696605682373,-2.2119340896606445,0.021666834130883217,-2.240060806274414,1.02299165725708,-2.6216328144073486,-2.277791976928711,-2.4684553146362305,-2.2370355129241943,-1.2388182878494263,-2.3355143070220947,-2.3937127590179443,-4.869264602661133,-1.8088102340698242,-1.8361769914627075,-1.7272878885269165,-2.391770839691162,-1.2518364191055298,-1.2823922634124756,-2.0983974933624268,-2.075913667678833,-1.6622369289398193,-2.197960138320923,-2.079806089401245,-2.021075963973999,-2.3548455238342285,-1.2755134105682373,-2.423797369003296,-1.9906718730926514,-2.500359058380127,-2.2994544506073,-1.7543580532073975,-2.0201234817504883,-1.627105712890625,-1.4411530494689941,-2.350508451461792,-2.2430496215820312,-1.6901445388793945,-1.5293234586715698,-2.182560682296753,-1.8412179946899414,-1.465121865272522,-2.4094998836517334,-0.9957717657089233,-3.3494765758514404,-2.791044235229492,-2.1051254272460938,-1.9686834812164307,-0.3763987123966217,-2.117300033569336,-1.8305974006652832,-1.8682278394699097,-2.768874406814575,-2.435748338699341,1.0039420127868652,-1.3812586069107056,-2.1107442378997803,-0.20372290909290314,-1.9505422115325928,-2.72163987159729,-2.5610198974609375,-1.9572161436080933,-2.7109458446502686,-1.6643773317337036,-1.4529489278793335,-2.007962465286255,-2.302138566970825,-1.9382106065750122,-2.246764898300171,-2.072178840637207,-2.1770646572113037,-2.2373504638671875,-2.1832213401794434],\"xaxis\":\"x\",\"y\":[6.961418151855469,6.379202365875244,7.190642356872559,8.565860748291016,8.032123565673828,8.468510627746582,8.234519004821777,7.4441938400268555,5.719295501708984,9.24652099609375,9.122177124023438,6.419743537902832,7.445380687713623,7.15024995803833,6.847348690032959,5.853897571563721,8.779400825500488,5.741796970367432,5.544812202453613,6.86258602142334,-2.1914660930633545,7.176328659057617,5.5993733406066895,5.619626998901367,7.116368293762207,8.936111450195312,7.266678810119629,7.473343849182129,8.838170051574707,6.11731481552124,8.649809837341309,3.4250528812408447,5.968013286590576,1.3376778364181519,9.264556884765625,5.564309597015381,7.78062105178833,8.004181861877441,8.179211616516113,8.46723747253418,6.210263729095459,3.901520252227783,9.537359237670898,8.893381118774414,9.207263946533203,7.8904924392700195,6.186337471008301,8.99168872833252,9.297026634216309,7.417628288269043,9.200027465820312,7.5214314460754395,9.313188552856445,6.311924934387207,9.262843132019043,9.0599946975708,8.003280639648438,9.057062149047852,7.947234630584717,6.232894420623779,9.304586410522461,7.720584392547607,5.360812187194824,7.203263282775879,8.312250137329102,5.869379997253418,4.957037448883057,8.996570587158203,6.520890235900879,8.730642318725586,8.765351295471191,8.061134338378906,8.064140319824219,5.753785133361816,5.452286720275879,6.728992462158203,6.983044624328613,4.624903678894043,7.313876152038574,9.023755073547363,9.102141380310059,8.463997840881348,6.8532915115356445,1.9762210845947266,9.004873275756836,6.440755844116211,3.867041826248169,6.917630195617676,9.251029014587402,5.094727993011475,6.679111480712891,8.538259506225586,9.414542198181152,6.316076278686523,9.389701843261719,3.9155192375183105,6.980006217956543,6.5864362716674805,8.6593656539917,8.348203659057617,8.401836395263672,9.029831886291504],\"yaxis\":\"y\",\"type\":\"scattergl\"},{\"hovertemplate\":\"\\u0412\\u0438\\u0434 \\u041d\\u041f\\u0410=\\u0420\\u0430\\u0441\\u043f\\u043e\\u0440\\u044f\\u0436\\u0435\\u043d\\u0438\\u0435, \\u0440\\u0435\\u0433\\u0438\\u043e\\u043d\\u0430\\u043b\\u044c\\u043d\\u044b\\u0439 \\u0443\\u0440\\u043e\\u0432\\u0435\\u043d\\u044c, \\u0433\\u043b\\u0430\\u0432\\u0430 \\u0438\\u0441\\u043f\\u043e\\u043b\\u043d\\u0438\\u0442\\u0435\\u043b\\u044c\\u043d\\u043e\\u0439 \\u0432\\u043b\\u0430\\u0441\\u0442\\u0438\\u003cbr\\u003e0=%{x}\\u003cbr\\u003e1=%{y}\\u003cextra\\u003e\\u003c\\u002fextra\\u003e\",\"legendgroup\":\"\\u0420\\u0430\\u0441\\u043f\\u043e\\u0440\\u044f\\u0436\\u0435\\u043d\\u0438\\u0435, \\u0440\\u0435\\u0433\\u0438\\u043e\\u043d\\u0430\\u043b\\u044c\\u043d\\u044b\\u0439 \\u0443\\u0440\\u043e\\u0432\\u0435\\u043d\\u044c, \\u0433\\u043b\\u0430\\u0432\\u0430 \\u0438\\u0441\\u043f\\u043e\\u043b\\u043d\\u0438\\u0442\\u0435\\u043b\\u044c\\u043d\\u043e\\u0439 \\u0432\\u043b\\u0430\\u0441\\u0442\\u0438\",\"marker\":{\"color\":\"#FF97FF\",\"symbol\":\"circle\"},\"mode\":\"markers\",\"name\":\"\\u0420\\u0430\\u0441\\u043f\\u043e\\u0440\\u044f\\u0436\\u0435\\u043d\\u0438\\u0435, \\u0440\\u0435\\u0433\\u0438\\u043e\\u043d\\u0430\\u043b\\u044c\\u043d\\u044b\\u0439 \\u0443\\u0440\\u043e\\u0432\\u0435\\u043d\\u044c, \\u0433\\u043b\\u0430\\u0432\\u0430 \\u0438\\u0441\\u043f\\u043e\\u043b\\u043d\\u0438\\u0442\\u0435\\u043b\\u044c\\u043d\\u043e\\u0439 \\u0432\\u043b\\u0430\\u0441\\u0442\\u0438\",\"showlegend\":true,\"x\":[4.7244791984558105,6.314840793609619,6.193411827087402,6.281932353973389,5.224279403686523,6.2230753898620605,4.648925304412842,6.404644966125488,6.923222541809082,3.36151385307312,1.7629424333572388,2.6881163120269775,6.475883483886719,2.8670918941497803,6.1792707443237305,4.6817498207092285,3.4317808151245117,6.134118556976318,4.736365795135498,7.10289192199707,6.244358539581299,6.935492038726807,6.936513423919678,6.917837619781494,7.280658721923828,6.63869047164917,6.334811210632324,6.50694465637207,4.7195658683776855,4.986576557159424,6.878748416900635,3.630945920944214,6.982665061950684,5.573525905609131,7.171779632568359,3.1013712882995605,5.660693645477295,5.647667407989502,1.8949275016784668,3.747042655944824,6.768281936645508,6.672330856323242,1.8624284267425537,4.752466201782227,3.0942111015319824,4.437577724456787,3.3488380908966064,6.822999954223633,5.04404354095459,2.8241212368011475,1.7786481380462646,6.1314377784729,1.7187930345535278,6.764106273651123,6.692589282989502,7.067852020263672,2.8806967735290527,6.611708641052246,6.1247172355651855,6.093416690826416,7.114902973175049,5.903196811676025,3.7300050258636475,1.5489020347595215,6.6400580406188965,6.437228679656982,3.8997609615325928,6.7373223304748535,6.955799579620361,6.116039752960205,1.996903657913208,4.5468058586120605,2.6152267456054688,6.291619777679443,4.791362762451172,4.705288410186768,7.188647747039795,2.388319492340088,6.921237945556641,5.979790210723877,6.820240020751953,0.5597087740898132,3.37251353263855,6.961104869842529,6.7947821617126465,1.8542962074279785,3.049356460571289,2.1194519996643066,3.838907480239868,3.852109432220459,7.11423921585083,4.331423282623291,6.942342281341553,3.269415855407715,4.750882625579834,6.795019149780273,1.6536487340927124,4.679927825927734,4.637145519256592,4.595459461212158,6.123181343078613,6.438461780548096,6.210713863372803,6.471546649932861,6.510232448577881,6.6655659675598145,5.449740409851074,5.991791725158691,4.751030445098877,4.698360919952393,4.695980072021484,6.561106204986572,4.675279140472412],\"xaxis\":\"x\",\"y\":[1.755595088005066,0.34044623374938965,0.36134299635887146,2.06209135055542,1.4388461112976074,0.2831710875034332,1.7292335033416748,1.607904314994812,1.0759079456329346,3.196342706680298,-0.5618142485618591,-0.47976261377334595,0.4266206622123718,0.6118896007537842,0.5804246068000793,1.7304362058639526,2.6933188438415527,2.1703832149505615,0.2526205778121948,0.845430850982666,0.4256274700164795,1.1897231340408325,0.7203906774520874,0.5197596549987793,0.6331019401550293,0.569882333278656,0.3597947359085083,0.31532052159309387,1.7627943754196167,0.001966958399862051,0.7314512133598328,1.2679475545883179,0.5223190784454346,0.743786096572876,1.2229970693588257,2.3591017723083496,1.2169352769851685,0.18269525468349457,-0.6590904593467712,0.2898789644241333,1.7380608320236206,1.0687141418457031,-0.6734042167663574,1.7482393980026245,0.4593678414821625,1.682418704032898,-2.1954195499420166,0.9915880560874939,1.621026635169983,3.287614583969116,-0.7328890562057495,1.3815052509307861,-0.7398911714553833,0.45921728014945984,0.4381409287452698,1.1138765811920166,0.5716127753257751,0.4570275545120239,0.007537308149039745,1.8631070852279663,0.7074795961380005,0.2150530368089676,2.280076265335083,2.995349168777466,0.3624418079853058,0.29735589027404785,2.1165928840637207,0.44682687520980835,0.828460156917572,0.46284252405166626,1.4257677793502808,1.7571152448654175,1.0230627059936523,0.5548654198646545,-0.07031956315040588,1.7375633716583252,0.795276403427124,1.3908140659332275,1.2214000225067139,0.2945128381252289,0.6426845192909241,3.157484531402588,2.535820722579956,0.9431681036949158,0.7601304054260254,-0.6964977979660034,-1.6005624532699585,3.155585527420044,0.6412457823753357,0.3707458972930908,0.9316051602363586,1.7206439971923828,1.610594391822815,-1.6468244791030884,1.7385865449905396,0.6175180077552795,-0.557328462600708,1.746488332748413,1.7460211515426636,1.7509138584136963,2.0287508964538574,0.27568984031677246,0.4158761203289032,0.36070260405540466,0.5144026279449463,0.7938653826713562,1.245710849761963,0.5955097675323486,1.8769499063491821,0.27764010429382324,1.7369203567504883,0.3760494589805603,1.6792106628417969],\"yaxis\":\"y\",\"type\":\"scattergl\"},{\"hovertemplate\":\"\\u0412\\u0438\\u0434 \\u041d\\u041f\\u0410=\\u0420\\u0430\\u0441\\u043f\\u043e\\u0440\\u044f\\u0436\\u0435\\u043d\\u0438\\u0435, \\u0440\\u0435\\u0433\\u0438\\u043e\\u043d\\u0430\\u043b\\u044c\\u043d\\u044b\\u0439 \\u0443\\u0440\\u043e\\u0432\\u0435\\u043d\\u044c, \\u043f\\u0440\\u0430\\u0432\\u0438\\u0442\\u0435\\u043b\\u044c\\u0441\\u0442\\u0432\\u043e\\u003cbr\\u003e0=%{x}\\u003cbr\\u003e1=%{y}\\u003cextra\\u003e\\u003c\\u002fextra\\u003e\",\"legendgroup\":\"\\u0420\\u0430\\u0441\\u043f\\u043e\\u0440\\u044f\\u0436\\u0435\\u043d\\u0438\\u0435, \\u0440\\u0435\\u0433\\u0438\\u043e\\u043d\\u0430\\u043b\\u044c\\u043d\\u044b\\u0439 \\u0443\\u0440\\u043e\\u0432\\u0435\\u043d\\u044c, \\u043f\\u0440\\u0430\\u0432\\u0438\\u0442\\u0435\\u043b\\u044c\\u0441\\u0442\\u0432\\u043e\",\"marker\":{\"color\":\"#FECB52\",\"symbol\":\"circle\"},\"mode\":\"markers\",\"name\":\"\\u0420\\u0430\\u0441\\u043f\\u043e\\u0440\\u044f\\u0436\\u0435\\u043d\\u0438\\u0435, \\u0440\\u0435\\u0433\\u0438\\u043e\\u043d\\u0430\\u043b\\u044c\\u043d\\u044b\\u0439 \\u0443\\u0440\\u043e\\u0432\\u0435\\u043d\\u044c, \\u043f\\u0440\\u0430\\u0432\\u0438\\u0442\\u0435\\u043b\\u044c\\u0441\\u0442\\u0432\\u043e\",\"showlegend\":true,\"x\":[2.1235554218292236,2.0576226711273193,0.694471001625061,2.625657320022583,2.0761826038360596,2.64505934715271,2.1373798847198486,2.623867988586426,2.0733718872070312,2.148712635040283,1.8738726377487183,0.4861144721508026,2.4626033306121826,2.0356976985931396,3.157593011856079,2.4184911251068115,0.6160494685173035,2.290952205657959,2.1476008892059326,3.7210943698883057,0.3160835802555084,3.176048994064331,2.2761499881744385,1.8158445358276367,1.5553869009017944,2.4363343715667725,0.7901883125305176,3.3336610794067383,2.1871235370635986,2.114098072052002,2.7917275428771973,1.0547088384628296,2.716218948364258,2.4314329624176025,1.9260263442993164,2.4032015800476074,1.5748507976531982,3.146566390991211,2.405383348464966,2.0844550132751465,1.3427462577819824,2.1294078826904297,2.087585210800171,2.9987847805023193,2.2447686195373535,2.1374728679656982,2.1053340435028076,1.6871068477630615,0.6396284103393555,0.6452953219413757,0.5998951196670532,1.1781374216079712,0.6762811541557312,2.6027238368988037,3.09533953666687,0.39130058884620667,0.45953112840652466,1.9240731000900269,2.072695016860962,0.9178719520568848,2.1807942390441895,2.062730550765991,2.7848594188690186,1.8484923839569092,2.4654104709625244,2.1526308059692383,2.5667669773101807,2.4349637031555176,2.5483431816101074,2.4740381240844727,1.9094147682189941,1.8691859245300293,2.276292324066162,1.911065697669983,1.8319523334503174,2.2591168880462646,1.125704288482666,0.4408954083919525,0.5837820172309875,2.465479850769043,4.589906692504883,1.8534940481185913,1.6829190254211426,2.056370258331299,3.0747833251953125,2.592078685760498,1.9176534414291382,2.6191961765289307,0.5283746719360352,0.9550788998603821,2.0609121322631836,2.0724241733551025,2.0826802253723145,3.645045042037964,0.5046775341033936,1.675632357597351,2.051161050796509,0.9976124167442322,2.6668450832366943,2.5566906929016113,1.7040117979049683,2.6705706119537354,0.4228404760360718,0.525751531124115,1.6610536575317383,3.205745220184326,0.512712299823761,0.3656601011753082,2.954580783843994,2.3582446575164795,2.1761984825134277,0.6527027487754822,0.4445275664329529,2.3166451454162598,1.9992403984069824,2.3682820796966553,2.211928367614746,3.3944382667541504,1.9399678707122803,2.235856056213379,2.0101497173309326,2.1643354892730713,2.0758347511291504],\"xaxis\":\"x\",\"y\":[6.164184093475342,5.170215606689453,5.080029010772705,4.738208293914795,6.681397914886475,5.976236820220947,6.0103440284729,3.3893649578094482,2.20792818069458,6.46679162979126,3.853987693786621,2.216942071914673,4.304385662078857,6.554117679595947,3.680734872817993,5.601778507232666,4.968479156494141,4.646299362182617,5.984052658081055,2.5306358337402344,3.1958205699920654,-1.449418067932129,5.188610553741455,6.136610507965088,3.918562173843384,2.4299590587615967,2.9621469974517822,3.3246705532073975,5.203076362609863,6.540213584899902,3.5854547023773193,5.727016925811768,4.823465824127197,1.5268021821975708,3.694045066833496,4.211510181427002,5.346623420715332,3.2120397090911865,1.221375823020935,2.4128663539886475,5.881459712982178,6.168173313140869,5.950153350830078,4.937507152557373,6.130143165588379,2.269879102706909,5.8269500732421875,2.0917904376983643,3.162834644317627,5.080151557922363,3.095822334289551,5.728709697723389,5.069619655609131,1.079307198524475,3.4095208644866943,3.2171080112457275,3.2104098796844482,3.8425116539001465,6.2274394035339355,-1.569313883781433,6.29152774810791,2.597529888153076,4.753042221069336,-0.4082978367805481,4.440229415893555,2.0897417068481445,4.213992595672607,6.0327301025390625,3.9273524284362793,5.454063415527344,5.302746772766113,5.89573860168457,6.229576587677002,6.241967678070068,6.408471584320068,3.4705159664154053,5.325217247009277,3.3253700733184814,3.1167523860931396,5.6663007736206055,1.6067997217178345,3.1696128845214844,1.5860393047332764,6.683372497558594,4.394508361816406,2.4120678901672363,5.4412946701049805,5.744548320770264,3.099971294403076,3.6250946521759033,6.461142063140869,6.598310947418213,2.4334306716918945,-2.591712474822998,3.1917479038238525,3.967750072479248,4.661176681518555,4.074121475219727,1.6461354494094849,4.205942630767822,5.373989582061768,4.572289943695068,3.169018268585205,3.1517701148986816,6.111514091491699,-0.1282370239496231,3.1080262660980225,2.9626941680908203,-1.2551352977752686,1.2965470552444458,5.829007148742676,3.1688103675842285,3.048858642578125,4.628724575042725,5.900447845458984,3.7326712608337402,4.303369045257568,3.2093615531921387,3.9916419982910156,2.318187713623047,6.707850456237793,1.4659518003463745,6.2302327156066895],\"yaxis\":\"y\",\"type\":\"scattergl\"},{\"hovertemplate\":\"\\u0412\\u0438\\u0434 \\u041d\\u041f\\u0410=\\u041f\\u0440\\u0438\\u043a\\u0430\\u0437, \\u0444\\u0435\\u0434\\u0435\\u0440\\u0430\\u043b\\u044c\\u043d\\u044b\\u0439 \\u0443\\u0440\\u043e\\u0432\\u0435\\u043d\\u044c, \\u043e\\u0440\\u0433\\u0430\\u043d\\u044b \\u0438\\u0441\\u043f\\u043e\\u043b\\u043d\\u0438\\u0442\\u0435\\u043b\\u044c\\u043d\\u043e\\u0439 \\u0432\\u043b\\u0430\\u0441\\u0442\\u0438\\u003cbr\\u003e0=%{x}\\u003cbr\\u003e1=%{y}\\u003cextra\\u003e\\u003c\\u002fextra\\u003e\",\"legendgroup\":\"\\u041f\\u0440\\u0438\\u043a\\u0430\\u0437, \\u0444\\u0435\\u0434\\u0435\\u0440\\u0430\\u043b\\u044c\\u043d\\u044b\\u0439 \\u0443\\u0440\\u043e\\u0432\\u0435\\u043d\\u044c, \\u043e\\u0440\\u0433\\u0430\\u043d\\u044b \\u0438\\u0441\\u043f\\u043e\\u043b\\u043d\\u0438\\u0442\\u0435\\u043b\\u044c\\u043d\\u043e\\u0439 \\u0432\\u043b\\u0430\\u0441\\u0442\\u0438\",\"marker\":{\"color\":\"#636efa\",\"symbol\":\"circle\"},\"mode\":\"markers\",\"name\":\"\\u041f\\u0440\\u0438\\u043a\\u0430\\u0437, \\u0444\\u0435\\u0434\\u0435\\u0440\\u0430\\u043b\\u044c\\u043d\\u044b\\u0439 \\u0443\\u0440\\u043e\\u0432\\u0435\\u043d\\u044c, \\u043e\\u0440\\u0433\\u0430\\u043d\\u044b \\u0438\\u0441\\u043f\\u043e\\u043b\\u043d\\u0438\\u0442\\u0435\\u043b\\u044c\\u043d\\u043e\\u0439 \\u0432\\u043b\\u0430\\u0441\\u0442\\u0438\",\"showlegend\":true,\"x\":[10.126344680786133,10.005584716796875,11.757885932922363,11.01671028137207,10.274295806884766,10.520864486694336,3.634551525115967,10.25970458984375,10.19627571105957,11.117486000061035,9.775646209716797,10.964499473571777,11.623835563659668,10.360483169555664,10.595681190490723,9.945779800415039,10.077803611755371,10.107590675354004,11.59981918334961,10.928518295288086,2.9116694927215576,10.787857055664062,9.752896308898926,12.00007152557373,10.368110656738281,10.39668083190918,12.04615306854248,10.341736793518066,9.956564903259277,10.156778335571289,11.739777565002441,10.74754524230957,10.731847763061523,11.211950302124023,10.400952339172363,11.710349082946777,10.132255554199219,10.260858535766602,10.251442909240723,10.460604667663574,9.608631134033203,11.635333061218262,10.011545181274414,10.224924087524414,10.444891929626465,10.34049129486084,11.065722465515137,11.460505485534668,10.609475135803223,11.411559104919434,11.0543851852417,11.471928596496582,9.699272155761719,11.034631729125977,7.771328926086426,10.089631080627441,10.091765403747559,10.176581382751465,11.16911792755127,10.206467628479004,11.486863136291504,9.821426391601562,6.447077751159668,10.05942440032959,11.605975151062012,11.349191665649414,10.209307670593262,9.768463134765625,9.860857963562012,10.004080772399902,10.07540225982666,10.154176712036133,11.393166542053223,11.52010440826416,10.129443168640137,6.911974906921387,10.216734886169434,9.91086196899414,9.957635879516602,11.46830940246582,10.24956226348877,10.30954360961914,11.879535675048828,3.0079660415649414,9.971826553344727,10.11632251739502,10.694879531860352,9.600210189819336,10.233903884887695,11.213376998901367,10.332991600036621,10.169675827026367,11.45478343963623,11.991724967956543,10.988945960998535,10.228890419006348,10.422940254211426,11.115974426269531,9.910563468933105,11.152533531188965,10.181584358215332,10.263002395629883,11.391283988952637,10.158851623535156,9.829438209533691,10.021385192871094,10.209676742553711,3.8081746101379395,10.873610496520996,9.830646514892578,10.628632545471191,11.03050708770752],\"xaxis\":\"x\",\"y\":[2.508549451828003,2.68668794631958,4.700008869171143,4.710064888000488,2.576521396636963,5.657360553741455,-2.4792990684509277,5.8257012367248535,2.617703914642334,5.304461479187012,5.0291290283203125,5.859062671661377,4.876611709594727,5.664697170257568,5.687942028045654,3.8356263637542725,5.261618614196777,3.0127787590026855,4.727177619934082,4.629380702972412,-2.289018392562866,4.681290149688721,4.981224536895752,4.30670166015625,3.4837615489959717,2.519623041152954,4.297637939453125,2.4283697605133057,2.7886393070220947,2.5425562858581543,4.869827747344971,4.892867088317871,4.826846599578857,4.795162200927734,4.963831901550293,4.551087856292725,2.70641827583313,5.851172924041748,2.544649362564087,5.3332133293151855,5.273558139801025,4.438797950744629,2.6573879718780518,2.4819693565368652,3.341078758239746,5.688207149505615,1.8662619590759277,4.372677326202393,2.859046459197998,4.553751468658447,1.882876992225647,4.9973249435424805,4.220328330993652,4.628820896148682,7.412877559661865,2.5958218574523926,2.52830171585083,2.8560869693756104,4.384731769561768,3.766723155975342,5.46254825592041,3.9716031551361084,8.255806922912598,2.033768653869629,4.809399604797363,4.69830846786499,4.292756080627441,4.9295573234558105,4.321531295776367,2.42861270904541,2.586317777633667,2.541792631149292,5.6756157875061035,4.910035133361816,2.5647082328796387,7.497005462646484,2.5740647315979004,4.600356101989746,4.478975772857666,5.427314758300781,2.6487932205200195,2.6474316120147705,4.657703399658203,-2.590235710144043,4.719515800476074,4.807603359222412,3.653749704360962,5.018094539642334,5.9306745529174805,5.0990681648254395,2.7240705490112305,2.546002149581909,5.450093746185303,4.9238176345825195,5.643942832946777,5.7943644523620605,4.538218021392822,5.080405235290527,4.487458229064941,4.9730706214904785,3.325178861618042,2.5481836795806885,5.2502593994140625,2.32222056388855,4.818469524383545,2.4376096725463867,5.930156230926514,-2.8193564414978027,6.1484375,4.273311138153076,5.679281711578369,5.6718621253967285],\"yaxis\":\"y\",\"type\":\"scattergl\"},{\"hovertemplate\":\"\\u0412\\u0438\\u0434 \\u041d\\u041f\\u0410=\\u041f\\u043e\\u0441\\u0442\\u0430\\u043d\\u043e\\u0432\\u043b\\u0435\\u043d\\u0438\\u0435, \\u0440\\u0435\\u0433\\u0438\\u043e\\u043d\\u0430\\u043b\\u044c\\u043d\\u044b\\u0439 \\u0443\\u0440\\u043e\\u0432\\u0435\\u043d\\u044c, \\u043e\\u0440\\u0433\\u0430\\u043d\\u044b \\u0438\\u0441\\u043f\\u043e\\u043b\\u043d\\u0438\\u0442\\u0435\\u043b\\u044c\\u043d\\u043e\\u0439 \\u0432\\u043b\\u0430\\u0441\\u0442\\u0438\\u003cbr\\u003e0=%{x}\\u003cbr\\u003e1=%{y}\\u003cextra\\u003e\\u003c\\u002fextra\\u003e\",\"legendgroup\":\"\\u041f\\u043e\\u0441\\u0442\\u0430\\u043d\\u043e\\u0432\\u043b\\u0435\\u043d\\u0438\\u0435, \\u0440\\u0435\\u0433\\u0438\\u043e\\u043d\\u0430\\u043b\\u044c\\u043d\\u044b\\u0439 \\u0443\\u0440\\u043e\\u0432\\u0435\\u043d\\u044c, \\u043e\\u0440\\u0433\\u0430\\u043d\\u044b \\u0438\\u0441\\u043f\\u043e\\u043b\\u043d\\u0438\\u0442\\u0435\\u043b\\u044c\\u043d\\u043e\\u0439 \\u0432\\u043b\\u0430\\u0441\\u0442\\u0438\",\"marker\":{\"color\":\"#EF553B\",\"symbol\":\"circle\"},\"mode\":\"markers\",\"name\":\"\\u041f\\u043e\\u0441\\u0442\\u0430\\u043d\\u043e\\u0432\\u043b\\u0435\\u043d\\u0438\\u0435, \\u0440\\u0435\\u0433\\u0438\\u043e\\u043d\\u0430\\u043b\\u044c\\u043d\\u044b\\u0439 \\u0443\\u0440\\u043e\\u0432\\u0435\\u043d\\u044c, \\u043e\\u0440\\u0433\\u0430\\u043d\\u044b \\u0438\\u0441\\u043f\\u043e\\u043b\\u043d\\u0438\\u0442\\u0435\\u043b\\u044c\\u043d\\u043e\\u0439 \\u0432\\u043b\\u0430\\u0441\\u0442\\u0438\",\"showlegend\":true,\"x\":[-6.619524955749512,-6.545187473297119,-6.4843854904174805,-6.674129962921143,-3.2231199741363525,-6.285419940948486,-6.4582343101501465,-6.506901741027832,-6.504889965057373,-6.999844551086426,-7.041245460510254,-6.836427688598633,-5.935711860656738,-6.80501651763916,-6.529384136199951,-7.04271936416626,-7.1101531982421875,-6.517022609710693,-7.09386682510376,-7.011199474334717,-7.223315715789795,-6.503698825836182,-6.473466396331787,-6.883880138397217,-6.77930212020874,-7.004878044128418,-6.530335903167725,-6.613995552062988,-7.154397010803223,-6.50966739654541,-7.210860252380371,-6.703224182128906,-6.519614219665527,-6.611568450927734,-6.503521919250488,-6.498230457305908,-6.407931327819824,-7.11258602142334,-6.288174629211426,-7.194723129272461,-6.564243793487549,-6.7171630859375,-7.02026891708374,-6.5018415451049805,-6.738219261169434,-6.585724353790283,-7.045036315917969,-7.088029861450195,-7.0712971687316895,-6.79245662689209,-5.909317493438721,-6.064565658569336,-6.530078887939453,-7.074039936065674,-7.124060153961182,-6.5240302085876465,-6.647272109985352,-6.48004674911499,-7.00752592086792,-6.507239818572998,-6.507021903991699,-7.043072700500488,-6.837691783905029],\"xaxis\":\"x\",\"y\":[9.18057632446289,8.96367359161377,9.411849021911621,7.730352878570557,7.950628280639648,7.07829475402832,8.60871696472168,9.492547988891602,9.527870178222656,8.181778907775879,8.123120307922363,7.867975234985352,7.852348804473877,7.796077728271484,9.024824142456055,8.265642166137695,8.268993377685547,9.173645973205566,8.096746444702148,8.246161460876465,8.193424224853516,9.525406837463379,9.626307487487793,7.826031684875488,7.910615921020508,8.238227844238281,9.486912727355957,7.646109580993652,8.130273818969727,7.548957824707031,8.061439514160156,7.704036712646484,8.990103721618652,8.881113052368164,9.530397415161133,8.96279239654541,7.694902420043945,8.137238502502441,8.662755966186523,8.027837753295898,7.690491676330566,7.933009624481201,8.185221672058105,9.554862022399902,8.036108016967773,9.352592468261719,8.14643383026123,8.076838493347168,8.243846893310547,7.618056774139404,7.516358375549316,7.754369735717773,9.481851577758789,8.233230590820312,7.9249749183654785,9.387572288513184,7.738381862640381,9.605831146240234,8.312637329101562,8.782922744750977,9.555919647216797,8.156875610351562,7.77082633972168],\"yaxis\":\"y\",\"type\":\"scattergl\"},{\"hovertemplate\":\"\\u0412\\u0438\\u0434 \\u041d\\u041f\\u0410=\\u0423\\u043a\\u0430\\u0437, \\u0444\\u0435\\u0434\\u0435\\u0440\\u0430\\u043b\\u044c\\u043d\\u044b\\u0439 \\u0443\\u0440\\u043e\\u0432\\u0435\\u043d\\u044c, \\u0433\\u043b\\u0430\\u0432\\u0430 \\u0438\\u0441\\u043f\\u043e\\u043b\\u043d\\u0438\\u0442\\u0435\\u043b\\u044c\\u043d\\u043e\\u0439 \\u0432\\u043b\\u0430\\u0441\\u0442\\u0438\\u003cbr\\u003e0=%{x}\\u003cbr\\u003e1=%{y}\\u003cextra\\u003e\\u003c\\u002fextra\\u003e\",\"legendgroup\":\"\\u0423\\u043a\\u0430\\u0437, \\u0444\\u0435\\u0434\\u0435\\u0440\\u0430\\u043b\\u044c\\u043d\\u044b\\u0439 \\u0443\\u0440\\u043e\\u0432\\u0435\\u043d\\u044c, \\u0433\\u043b\\u0430\\u0432\\u0430 \\u0438\\u0441\\u043f\\u043e\\u043b\\u043d\\u0438\\u0442\\u0435\\u043b\\u044c\\u043d\\u043e\\u0439 \\u0432\\u043b\\u0430\\u0441\\u0442\\u0438\",\"marker\":{\"color\":\"#00cc96\",\"symbol\":\"circle\"},\"mode\":\"markers\",\"name\":\"\\u0423\\u043a\\u0430\\u0437, \\u0444\\u0435\\u0434\\u0435\\u0440\\u0430\\u043b\\u044c\\u043d\\u044b\\u0439 \\u0443\\u0440\\u043e\\u0432\\u0435\\u043d\\u044c, \\u0433\\u043b\\u0430\\u0432\\u0430 \\u0438\\u0441\\u043f\\u043e\\u043b\\u043d\\u0438\\u0442\\u0435\\u043b\\u044c\\u043d\\u043e\\u0439 \\u0432\\u043b\\u0430\\u0441\\u0442\\u0438\",\"showlegend\":true,\"x\":[0.31225866079330444,1.3165998458862305,0.095903679728508,0.4107702076435089,2.1067323684692383,0.20711515843868256,2.5988292694091797,2.546320915222168,1.0119224786758423,1.2866177558898926,0.3162417709827423,1.1476765871047974,-0.13471528887748718,0.8598920702934265,1.649338722229004,1.0945584774017334,1.653433918952942,0.4137384593486786,1.5382027626037598,1.0583312511444092,1.7300403118133545,1.6292145252227783,0.3210296034812927,2.6461687088012695,2.566711902618408,1.4755282402038574,0.75778728723526,1.4902939796447754,0.4682168662548065,3.4595515727996826,0.2262479066848755,2.957000970840454,2.6875317096710205,0.4219212830066681,2.5040833950042725,0.41625574231147766,1.59961998462677,2.5333917140960693,1.6507951021194458,0.5413622856140137,0.32043594121932983,1.7416895627975464,-0.3446184992790222,0.4075833261013031,0.7690427303314209,1.398528814315796,0.39842042326927185,3.3572890758514404,1.6565666198730469,0.23145277798175812,0.3556383550167084,0.47389301657676697,2.518559217453003,1.6611799001693726,2.560305595397949,1.5438175201416016,1.6181349754333496,1.5946794748306274,1.4989908933639526,1.7603282928466797,2.514867067337036,1.6418828964233398,0.628677248954773,1.5755869150161743,1.6450029611587524,2.5402731895446777],\"xaxis\":\"x\",\"y\":[-6.354312419891357,-6.590061664581299,-6.299466133117676,-6.373295783996582,-4.629683017730713,-6.356804370880127,-4.417316436767578,-4.581203937530518,-6.3173441886901855,-6.628265857696533,-6.347774505615234,-6.624438285827637,-6.218973636627197,-6.622753143310547,-6.704920768737793,-6.531039237976074,-6.664609909057617,-6.343557834625244,-6.7050933837890625,-6.415271759033203,-6.669656753540039,-6.690030574798584,-6.349079608917236,-4.025601863861084,-4.523809909820557,-6.643588066101074,-6.484930992126465,-6.730616092681885,-6.428746700286865,-3.435112953186035,-6.336163520812988,-3.667339324951172,-3.999244213104248,-6.415308475494385,-4.718045234680176,-6.40070104598999,-6.674511909484863,-4.638576984405518,-6.700228691101074,-6.501914978027344,-6.335268497467041,-6.592418193817139,-6.055771350860596,-6.4101338386535645,-6.47504997253418,-6.719594478607178,-6.419297218322754,-2.3662798404693604,-6.679549694061279,-6.339938163757324,-6.407173156738281,-6.4264397621154785,-4.56801176071167,-6.677297592163086,-4.598620414733887,-6.681972026824951,-6.6689863204956055,-6.665744781494141,-6.66175651550293,-6.581466197967529,-4.661636829376221,-6.684964656829834,-6.526410102844238,-6.656089782714844,-6.660634994506836,-4.634945869445801],\"yaxis\":\"y\",\"type\":\"scattergl\"},{\"hovertemplate\":\"\\u0412\\u0438\\u0434 \\u041d\\u041f\\u0410=\\u041f\\u043e\\u0441\\u0442\\u0430\\u043d\\u043e\\u0432\\u043b\\u0435\\u043d\\u0438\\u0435, \\u0440\\u0435\\u0433\\u0438\\u043e\\u043d\\u0430\\u043b\\u044c\\u043d\\u044b\\u0439 \\u0443\\u0440\\u043e\\u0432\\u0435\\u043d\\u044c, \\u0433\\u043b\\u0430\\u0432\\u0430 \\u0438\\u0441\\u043f\\u043e\\u043b\\u043d\\u0438\\u0442\\u0435\\u043b\\u044c\\u043d\\u043e\\u0439 \\u0432\\u043b\\u0430\\u0441\\u0442\\u0438\\u003cbr\\u003e0=%{x}\\u003cbr\\u003e1=%{y}\\u003cextra\\u003e\\u003c\\u002fextra\\u003e\",\"legendgroup\":\"\\u041f\\u043e\\u0441\\u0442\\u0430\\u043d\\u043e\\u0432\\u043b\\u0435\\u043d\\u0438\\u0435, \\u0440\\u0435\\u0433\\u0438\\u043e\\u043d\\u0430\\u043b\\u044c\\u043d\\u044b\\u0439 \\u0443\\u0440\\u043e\\u0432\\u0435\\u043d\\u044c, \\u0433\\u043b\\u0430\\u0432\\u0430 \\u0438\\u0441\\u043f\\u043e\\u043b\\u043d\\u0438\\u0442\\u0435\\u043b\\u044c\\u043d\\u043e\\u0439 \\u0432\\u043b\\u0430\\u0441\\u0442\\u0438\",\"marker\":{\"color\":\"#ab63fa\",\"symbol\":\"circle\"},\"mode\":\"markers\",\"name\":\"\\u041f\\u043e\\u0441\\u0442\\u0430\\u043d\\u043e\\u0432\\u043b\\u0435\\u043d\\u0438\\u0435, \\u0440\\u0435\\u0433\\u0438\\u043e\\u043d\\u0430\\u043b\\u044c\\u043d\\u044b\\u0439 \\u0443\\u0440\\u043e\\u0432\\u0435\\u043d\\u044c, \\u0433\\u043b\\u0430\\u0432\\u0430 \\u0438\\u0441\\u043f\\u043e\\u043b\\u043d\\u0438\\u0442\\u0435\\u043b\\u044c\\u043d\\u043e\\u0439 \\u0432\\u043b\\u0430\\u0441\\u0442\\u0438\",\"showlegend\":true,\"x\":[-3.161421537399292,-0.40760529041290283,-1.8241324424743652,-0.32228052616119385,-2.0174858570098877,-2.220427989959717,0.25025156140327454,-3.1567652225494385,-2.8243839740753174,-1.9084899425506592,-2.809711456298828,-2.4681618213653564,-3.1866188049316406,-1.8939703702926636,-3.1745026111602783,-1.9651166200637817,-1.4199894666671753,-2.7836196422576904,-2.984513282775879,-2.553765058517456,-3.389315128326416,-2.888032913208008,-1.9621129035949707,-3.3726165294647217,-5.354395389556885,-2.4089486598968506,-2.6664438247680664,-1.6263971328735352,-3.4635770320892334,-2.183661460876465,-3.4537112712860107,-2.4710097312927246,-2.861823081970215,-3.373286485671997,-1.2709656953811646,-3.219677448272705,-3.374671459197998,-3.2559897899627686,-1.9781757593154907,-2.9874305725097656,-2.0178205966949463,-1.516014575958252,-0.11707510054111481,-0.5224594473838806,-1.121082067489624,-2.9213240146636963,-2.3621935844421387,-1.2781208753585815,-0.8969506621360779,-1.8309288024902344,-2.8485169410705566,-2.702136993408203,-2.878523349761963,-1.8457669019699097,-1.260540246963501,-2.2180755138397217,-1.2726778984069824,-1.6496901512145996,-1.6850779056549072,-2.3583824634552,-1.891065001487732,-2.7249791622161865,-2.0785322189331055,0.08863814920186996,-3.024141788482666,0.4718264937400818,-1.2941099405288696,-3.520381450653076,-1.9434754848480225,-2.2466938495635986,-2.070035934448242,-1.842260718345642,-1.9333723783493042,-1.616560459136963,-1.842644453048706,-3.31486177444458,-1.9268749952316284,-2.826404571533203,-1.9583580493927002,-1.8541234731674194,-2.2317123413085938,-2.628058671951294,-1.9581937789916992,-2.928426504135132,-2.194347858428955,-3.552196741104126,-3.1949658393859863,-3.204380989074707,-3.385590076446533,-1.9244306087493896,-3.156801462173462,0.2430831491947174,-3.136658191680908,-1.6892454624176025,-1.742572546005249],\"xaxis\":\"x\",\"y\":[8.420624732971191,0.2742141783237457,0.990165114402771,0.21118444204330444,2.066926956176758,2.0699942111968994,0.08542495965957642,1.0679255723953247,0.23710300028324127,1.6875872611999512,1.8580087423324585,1.955592155456543,2.001666307449341,1.0769509077072144,0.8812186121940613,0.23097604513168335,0.8835281729698181,0.2607731521129608,1.9660733938217163,1.8249170780181885,2.127946376800537,0.377185195684433,0.632483184337616,2.281378984451294,2.8753130435943604,2.0134470462799072,0.8857408165931702,0.6429876685142517,2.0028786659240723,2.125692367553711,1.6823841333389282,1.0100504159927368,1.1511527299880981,2.121015787124634,-0.26735833287239075,1.6902202367782593,0.6985245943069458,0.719440758228302,-0.29822486639022827,0.3480822443962097,0.5896142721176147,0.47481104731559753,0.1498051881790161,0.3708638548851013,0.5244573354721069,0.4127481281757355,1.7466257810592651,1.0912050008773804,0.21459238231182098,0.6250455975532532,1.94312584400177,0.2928510308265686,0.2592218816280365,-0.04566553607583046,-0.2968488931655884,1.8382092714309692,-0.29080286622047424,0.31842926144599915,0.9417147040367126,0.8717323541641235,1.3366029262542725,0.23684380948543549,-0.007139723282307386,0.12454508244991302,1.0606372356414795,1.8401150703430176,-0.16562026739120483,1.5510663986206055,0.46709099411964417,1.566895604133606,-0.038667239248752594,0.46370840072631836,0.2335229068994522,0.17239254713058472,1.1734683513641357,1.513290286064148,0.7353053689002991,0.958060085773468,1.2063640356063843,1.6293179988861084,0.31287774443626404,1.2853420972824097,-0.13600268959999084,2.255190134048462,0.7290709614753723,0.7153764367103577,2.0588247776031494,0.6412107348442078,0.7914809584617615,-0.1377478688955307,1.8574986457824707,0.09398902952671051,1.2578444480895996,1.8192843198776245,1.719969391822815],\"yaxis\":\"y\",\"type\":\"scattergl\"},{\"hovertemplate\":\"\\u0412\\u0438\\u0434 \\u041d\\u041f\\u0410=\\u0423\\u043a\\u0430\\u0437, \\u0440\\u0435\\u0433\\u0438\\u043e\\u043d\\u0430\\u043b\\u044c\\u043d\\u044b\\u0439 \\u0443\\u0440\\u043e\\u0432\\u0435\\u043d\\u044c, \\u0433\\u043b\\u0430\\u0432\\u0430 \\u0438\\u0441\\u043f\\u043e\\u043b\\u043d\\u0438\\u0442\\u0435\\u043b\\u044c\\u043d\\u043e\\u0439 \\u0432\\u043b\\u0430\\u0441\\u0442\\u0438\\u003cbr\\u003e0=%{x}\\u003cbr\\u003e1=%{y}\\u003cextra\\u003e\\u003c\\u002fextra\\u003e\",\"legendgroup\":\"\\u0423\\u043a\\u0430\\u0437, \\u0440\\u0435\\u0433\\u0438\\u043e\\u043d\\u0430\\u043b\\u044c\\u043d\\u044b\\u0439 \\u0443\\u0440\\u043e\\u0432\\u0435\\u043d\\u044c, \\u0433\\u043b\\u0430\\u0432\\u0430 \\u0438\\u0441\\u043f\\u043e\\u043b\\u043d\\u0438\\u0442\\u0435\\u043b\\u044c\\u043d\\u043e\\u0439 \\u0432\\u043b\\u0430\\u0441\\u0442\\u0438\",\"marker\":{\"color\":\"#FFA15A\",\"symbol\":\"circle\"},\"mode\":\"markers\",\"name\":\"\\u0423\\u043a\\u0430\\u0437, \\u0440\\u0435\\u0433\\u0438\\u043e\\u043d\\u0430\\u043b\\u044c\\u043d\\u044b\\u0439 \\u0443\\u0440\\u043e\\u0432\\u0435\\u043d\\u044c, \\u0433\\u043b\\u0430\\u0432\\u0430 \\u0438\\u0441\\u043f\\u043e\\u043b\\u043d\\u0438\\u0442\\u0435\\u043b\\u044c\\u043d\\u043e\\u0439 \\u0432\\u043b\\u0430\\u0441\\u0442\\u0438\",\"showlegend\":true,\"x\":[-1.2286584377288818,-1.712841510772705,-0.8621062636375427,-1.9483778476715088,-2.621310234069824,-0.929656982421875,-0.19371473789215088,-1.8376059532165527,-2.7536091804504395,-1.215466022491455,-2.881929874420166,-1.1809190511703491,-1.8490792512893677,-1.868396282196045,-0.4087689518928528,-2.2220957279205322,-1.0885422229766846,-2.418569803237915,-0.0700092539191246,-0.9364746809005737,-2.22741436958313,1.106186032295227,0.9658811688423157,0.8180012702941895,2.464536666870117,-1.513615369796753,-0.943636953830719,-2.1986541748046875,-1.6270291805267334,-0.02309815213084221,-0.6462463140487671,-2.0205767154693604,-1.1086221933364868,-2.444406747817993,-1.1987850666046143,-0.8611547946929932,1.0832319259643555,-2.612417459487915,-1.1181378364562988,-1.5253849029541016,-1.1466693878173828,0.3917228579521179,-0.9553093910217285,0.7279172539710999,0.32211944460868835,-0.27730661630630493,-1.444856882095337,-2.961270332336426,-2.436220645904541,-1.9104770421981812,1.6228039264678955,-0.23853325843811035,-1.562756061553955,-2.5919198989868164,-0.22494947910308838,-2.2018327713012695,0.8356636762619019,-1.78682541847229,3.089505434036255,-0.27039673924446106,-1.5389436483383179,-1.3403760194778442,-3.278874397277832,-0.6257864236831665,-1.3376010656356812,-0.7726258039474487,-2.4387686252593994,-1.9382567405700684,-1.0596507787704468,-2.4621479511260986,-2.250352621078491,0.7671810388565063,-1.857954502105713,-0.21445973217487335,3.412125587463379,0.682074248790741,-2.242672920227051,-2.063549280166626,-0.07544981688261032,-1.0587801933288574,-1.77382493019104,-1.3842519521713257,-1.5642507076263428,-1.1286349296569824,-1.744411826133728,-2.4236068725585938,-2.334425449371338,-0.9141563177108765,0.15902546048164368,-2.9174320697784424,0.4528560936450958,-0.48845115303993225,-2.1698031425476074,1.200148105621338],\"xaxis\":\"x\",\"y\":[-2.645695209503174,-4.015764236450195,-3.2416281700134277,-4.582836627960205,-3.066149950027466,-3.4124386310577393,-2.7908263206481934,-3.893620014190674,-2.9547438621520996,-3.6783249378204346,-2.993806838989258,-3.6720070838928223,-3.529726505279541,-3.9107067584991455,-2.8814268112182617,-4.645755767822266,-3.2924389839172363,-3.5037426948547363,-2.752992630004883,-3.315178871154785,-4.322613716125488,-1.5265835523605347,-2.212904691696167,1.523313045501709,-1.0957204103469849,-3.744725227355957,-3.910492181777954,-3.8088560104370117,-2.9553327560424805,-2.6907777786254883,-3.1048519611358643,-4.829806327819824,-3.559818983078003,-4.525521278381348,-3.5895836353302,-3.074395179748535,-2.236435651779175,-3.28574538230896,-3.374018907546997,-4.737195014953613,-3.493119716644287,-2.340670108795166,-3.9642810821533203,-1.6983623504638672,-0.03541501984000206,-2.954319477081299,-3.9284560680389404,2.0853562355041504,-3.4040489196777344,-4.039878845214844,-0.8734819889068604,-2.8356354236602783,-4.682965278625488,-3.1058244705200195,-2.8078205585479736,5.421252727508545,-2.3026442527770996,-4.874220848083496,-2.0521035194396973,-2.887676477432251,-4.590110778808594,-3.8714537620544434,2.239105224609375,-3.654661178588867,-3.717125177383423,-5.62291145324707,-3.425759792327881,-3.356466293334961,-3.542945623397827,-3.7665975093841553,-4.220455646514893,-1.6564428806304932,-4.447745323181152,-2.7995965480804443,-2.138472318649292,-1.7446941137313843,-4.4257001876831055,-3.9556286334991455,-2.7084553241729736,-4.2157511711120605,-3.99050235748291,-3.620366096496582,-3.636709451675415,-3.1966500282287598,-4.597579479217529,-2.759718894958496,-3.9030938148498535,-3.3013317584991455,-2.573549270629883,-0.7446907162666321,-2.3198165893554688,-3.008542060852051,-3.6534998416900635,-1.4037195444107056],\"yaxis\":\"y\",\"type\":\"scattergl\"}],                        {\"template\":{\"data\":{\"histogram2dcontour\":[{\"type\":\"histogram2dcontour\",\"colorbar\":{\"outlinewidth\":0,\"ticks\":\"\"},\"colorscale\":[[0.0,\"#0d0887\"],[0.1111111111111111,\"#46039f\"],[0.2222222222222222,\"#7201a8\"],[0.3333333333333333,\"#9c179e\"],[0.4444444444444444,\"#bd3786\"],[0.5555555555555556,\"#d8576b\"],[0.6666666666666666,\"#ed7953\"],[0.7777777777777778,\"#fb9f3a\"],[0.8888888888888888,\"#fdca26\"],[1.0,\"#f0f921\"]]}],\"choropleth\":[{\"type\":\"choropleth\",\"colorbar\":{\"outlinewidth\":0,\"ticks\":\"\"}}],\"histogram2d\":[{\"type\":\"histogram2d\",\"colorbar\":{\"outlinewidth\":0,\"ticks\":\"\"},\"colorscale\":[[0.0,\"#0d0887\"],[0.1111111111111111,\"#46039f\"],[0.2222222222222222,\"#7201a8\"],[0.3333333333333333,\"#9c179e\"],[0.4444444444444444,\"#bd3786\"],[0.5555555555555556,\"#d8576b\"],[0.6666666666666666,\"#ed7953\"],[0.7777777777777778,\"#fb9f3a\"],[0.8888888888888888,\"#fdca26\"],[1.0,\"#f0f921\"]]}],\"heatmap\":[{\"type\":\"heatmap\",\"colorbar\":{\"outlinewidth\":0,\"ticks\":\"\"},\"colorscale\":[[0.0,\"#0d0887\"],[0.1111111111111111,\"#46039f\"],[0.2222222222222222,\"#7201a8\"],[0.3333333333333333,\"#9c179e\"],[0.4444444444444444,\"#bd3786\"],[0.5555555555555556,\"#d8576b\"],[0.6666666666666666,\"#ed7953\"],[0.7777777777777778,\"#fb9f3a\"],[0.8888888888888888,\"#fdca26\"],[1.0,\"#f0f921\"]]}],\"heatmapgl\":[{\"type\":\"heatmapgl\",\"colorbar\":{\"outlinewidth\":0,\"ticks\":\"\"},\"colorscale\":[[0.0,\"#0d0887\"],[0.1111111111111111,\"#46039f\"],[0.2222222222222222,\"#7201a8\"],[0.3333333333333333,\"#9c179e\"],[0.4444444444444444,\"#bd3786\"],[0.5555555555555556,\"#d8576b\"],[0.6666666666666666,\"#ed7953\"],[0.7777777777777778,\"#fb9f3a\"],[0.8888888888888888,\"#fdca26\"],[1.0,\"#f0f921\"]]}],\"contourcarpet\":[{\"type\":\"contourcarpet\",\"colorbar\":{\"outlinewidth\":0,\"ticks\":\"\"}}],\"contour\":[{\"type\":\"contour\",\"colorbar\":{\"outlinewidth\":0,\"ticks\":\"\"},\"colorscale\":[[0.0,\"#0d0887\"],[0.1111111111111111,\"#46039f\"],[0.2222222222222222,\"#7201a8\"],[0.3333333333333333,\"#9c179e\"],[0.4444444444444444,\"#bd3786\"],[0.5555555555555556,\"#d8576b\"],[0.6666666666666666,\"#ed7953\"],[0.7777777777777778,\"#fb9f3a\"],[0.8888888888888888,\"#fdca26\"],[1.0,\"#f0f921\"]]}],\"surface\":[{\"type\":\"surface\",\"colorbar\":{\"outlinewidth\":0,\"ticks\":\"\"},\"colorscale\":[[0.0,\"#0d0887\"],[0.1111111111111111,\"#46039f\"],[0.2222222222222222,\"#7201a8\"],[0.3333333333333333,\"#9c179e\"],[0.4444444444444444,\"#bd3786\"],[0.5555555555555556,\"#d8576b\"],[0.6666666666666666,\"#ed7953\"],[0.7777777777777778,\"#fb9f3a\"],[0.8888888888888888,\"#fdca26\"],[1.0,\"#f0f921\"]]}],\"mesh3d\":[{\"type\":\"mesh3d\",\"colorbar\":{\"outlinewidth\":0,\"ticks\":\"\"}}],\"scatter\":[{\"fillpattern\":{\"fillmode\":\"overlay\",\"size\":10,\"solidity\":0.2},\"type\":\"scatter\"}],\"parcoords\":[{\"type\":\"parcoords\",\"line\":{\"colorbar\":{\"outlinewidth\":0,\"ticks\":\"\"}}}],\"scatterpolargl\":[{\"type\":\"scatterpolargl\",\"marker\":{\"colorbar\":{\"outlinewidth\":0,\"ticks\":\"\"}}}],\"bar\":[{\"error_x\":{\"color\":\"#2a3f5f\"},\"error_y\":{\"color\":\"#2a3f5f\"},\"marker\":{\"line\":{\"color\":\"#E5ECF6\",\"width\":0.5},\"pattern\":{\"fillmode\":\"overlay\",\"size\":10,\"solidity\":0.2}},\"type\":\"bar\"}],\"scattergeo\":[{\"type\":\"scattergeo\",\"marker\":{\"colorbar\":{\"outlinewidth\":0,\"ticks\":\"\"}}}],\"scatterpolar\":[{\"type\":\"scatterpolar\",\"marker\":{\"colorbar\":{\"outlinewidth\":0,\"ticks\":\"\"}}}],\"histogram\":[{\"marker\":{\"pattern\":{\"fillmode\":\"overlay\",\"size\":10,\"solidity\":0.2}},\"type\":\"histogram\"}],\"scattergl\":[{\"type\":\"scattergl\",\"marker\":{\"colorbar\":{\"outlinewidth\":0,\"ticks\":\"\"}}}],\"scatter3d\":[{\"type\":\"scatter3d\",\"line\":{\"colorbar\":{\"outlinewidth\":0,\"ticks\":\"\"}},\"marker\":{\"colorbar\":{\"outlinewidth\":0,\"ticks\":\"\"}}}],\"scattermapbox\":[{\"type\":\"scattermapbox\",\"marker\":{\"colorbar\":{\"outlinewidth\":0,\"ticks\":\"\"}}}],\"scatterternary\":[{\"type\":\"scatterternary\",\"marker\":{\"colorbar\":{\"outlinewidth\":0,\"ticks\":\"\"}}}],\"scattercarpet\":[{\"type\":\"scattercarpet\",\"marker\":{\"colorbar\":{\"outlinewidth\":0,\"ticks\":\"\"}}}],\"carpet\":[{\"aaxis\":{\"endlinecolor\":\"#2a3f5f\",\"gridcolor\":\"white\",\"linecolor\":\"white\",\"minorgridcolor\":\"white\",\"startlinecolor\":\"#2a3f5f\"},\"baxis\":{\"endlinecolor\":\"#2a3f5f\",\"gridcolor\":\"white\",\"linecolor\":\"white\",\"minorgridcolor\":\"white\",\"startlinecolor\":\"#2a3f5f\"},\"type\":\"carpet\"}],\"table\":[{\"cells\":{\"fill\":{\"color\":\"#EBF0F8\"},\"line\":{\"color\":\"white\"}},\"header\":{\"fill\":{\"color\":\"#C8D4E3\"},\"line\":{\"color\":\"white\"}},\"type\":\"table\"}],\"barpolar\":[{\"marker\":{\"line\":{\"color\":\"#E5ECF6\",\"width\":0.5},\"pattern\":{\"fillmode\":\"overlay\",\"size\":10,\"solidity\":0.2}},\"type\":\"barpolar\"}],\"pie\":[{\"automargin\":true,\"type\":\"pie\"}]},\"layout\":{\"autotypenumbers\":\"strict\",\"colorway\":[\"#636efa\",\"#EF553B\",\"#00cc96\",\"#ab63fa\",\"#FFA15A\",\"#19d3f3\",\"#FF6692\",\"#B6E880\",\"#FF97FF\",\"#FECB52\"],\"font\":{\"color\":\"#2a3f5f\"},\"hovermode\":\"closest\",\"hoverlabel\":{\"align\":\"left\"},\"paper_bgcolor\":\"white\",\"plot_bgcolor\":\"#E5ECF6\",\"polar\":{\"bgcolor\":\"#E5ECF6\",\"angularaxis\":{\"gridcolor\":\"white\",\"linecolor\":\"white\",\"ticks\":\"\"},\"radialaxis\":{\"gridcolor\":\"white\",\"linecolor\":\"white\",\"ticks\":\"\"}},\"ternary\":{\"bgcolor\":\"#E5ECF6\",\"aaxis\":{\"gridcolor\":\"white\",\"linecolor\":\"white\",\"ticks\":\"\"},\"baxis\":{\"gridcolor\":\"white\",\"linecolor\":\"white\",\"ticks\":\"\"},\"caxis\":{\"gridcolor\":\"white\",\"linecolor\":\"white\",\"ticks\":\"\"}},\"coloraxis\":{\"colorbar\":{\"outlinewidth\":0,\"ticks\":\"\"}},\"colorscale\":{\"sequential\":[[0.0,\"#0d0887\"],[0.1111111111111111,\"#46039f\"],[0.2222222222222222,\"#7201a8\"],[0.3333333333333333,\"#9c179e\"],[0.4444444444444444,\"#bd3786\"],[0.5555555555555556,\"#d8576b\"],[0.6666666666666666,\"#ed7953\"],[0.7777777777777778,\"#fb9f3a\"],[0.8888888888888888,\"#fdca26\"],[1.0,\"#f0f921\"]],\"sequentialminus\":[[0.0,\"#0d0887\"],[0.1111111111111111,\"#46039f\"],[0.2222222222222222,\"#7201a8\"],[0.3333333333333333,\"#9c179e\"],[0.4444444444444444,\"#bd3786\"],[0.5555555555555556,\"#d8576b\"],[0.6666666666666666,\"#ed7953\"],[0.7777777777777778,\"#fb9f3a\"],[0.8888888888888888,\"#fdca26\"],[1.0,\"#f0f921\"]],\"diverging\":[[0,\"#8e0152\"],[0.1,\"#c51b7d\"],[0.2,\"#de77ae\"],[0.3,\"#f1b6da\"],[0.4,\"#fde0ef\"],[0.5,\"#f7f7f7\"],[0.6,\"#e6f5d0\"],[0.7,\"#b8e186\"],[0.8,\"#7fbc41\"],[0.9,\"#4d9221\"],[1,\"#276419\"]]},\"xaxis\":{\"gridcolor\":\"white\",\"linecolor\":\"white\",\"ticks\":\"\",\"title\":{\"standoff\":15},\"zerolinecolor\":\"white\",\"automargin\":true,\"zerolinewidth\":2},\"yaxis\":{\"gridcolor\":\"white\",\"linecolor\":\"white\",\"ticks\":\"\",\"title\":{\"standoff\":15},\"zerolinecolor\":\"white\",\"automargin\":true,\"zerolinewidth\":2},\"scene\":{\"xaxis\":{\"backgroundcolor\":\"#E5ECF6\",\"gridcolor\":\"white\",\"linecolor\":\"white\",\"showbackground\":true,\"ticks\":\"\",\"zerolinecolor\":\"white\",\"gridwidth\":2},\"yaxis\":{\"backgroundcolor\":\"#E5ECF6\",\"gridcolor\":\"white\",\"linecolor\":\"white\",\"showbackground\":true,\"ticks\":\"\",\"zerolinecolor\":\"white\",\"gridwidth\":2},\"zaxis\":{\"backgroundcolor\":\"#E5ECF6\",\"gridcolor\":\"white\",\"linecolor\":\"white\",\"showbackground\":true,\"ticks\":\"\",\"zerolinecolor\":\"white\",\"gridwidth\":2}},\"shapedefaults\":{\"line\":{\"color\":\"#2a3f5f\"}},\"annotationdefaults\":{\"arrowcolor\":\"#2a3f5f\",\"arrowhead\":0,\"arrowwidth\":1},\"geo\":{\"bgcolor\":\"white\",\"landcolor\":\"#E5ECF6\",\"subunitcolor\":\"white\",\"showland\":true,\"showlakes\":true,\"lakecolor\":\"white\"},\"title\":{\"x\":0.05},\"mapbox\":{\"style\":\"light\"}}},\"xaxis\":{\"anchor\":\"y\",\"domain\":[0.0,1.0],\"title\":{\"text\":\"0\"}},\"yaxis\":{\"anchor\":\"x\",\"domain\":[0.0,1.0],\"title\":{\"text\":\"1\"}},\"legend\":{\"title\":{\"text\":\"\\u0412\\u0438\\u0434 \\u041d\\u041f\\u0410\"},\"tracegroupgap\":0},\"margin\":{\"t\":60}},                        {\"responsive\": true}                    ).then(function(){\n",
              "                            \n",
              "var gd = document.getElementById('db286ebf-432b-486f-9ab7-d20c23da7dbc');\n",
              "var x = new MutationObserver(function (mutations, observer) {{\n",
              "        var display = window.getComputedStyle(gd).display;\n",
              "        if (!display || display === 'none') {{\n",
              "            console.log([gd, 'removed!']);\n",
              "            Plotly.purge(gd);\n",
              "            observer.disconnect();\n",
              "        }}\n",
              "}});\n",
              "\n",
              "// Listen for the removal of the full notebook cells\n",
              "var notebookContainer = gd.closest('#notebook-container');\n",
              "if (notebookContainer) {{\n",
              "    x.observe(notebookContainer, {childList: true});\n",
              "}}\n",
              "\n",
              "// Listen for the clearing of the current output cell\n",
              "var outputEl = gd.closest('.output');\n",
              "if (outputEl) {{\n",
              "    x.observe(outputEl, {childList: true});\n",
              "}}\n",
              "\n",
              "                        })                };                            </script>        </div>\n",
              "</body>\n",
              "</html>"
            ]
          },
          "metadata": {}
        }
      ]
    },
    {
      "cell_type": "code",
      "source": [],
      "metadata": {
        "id": "GRZihfu_98HO"
      },
      "execution_count": null,
      "outputs": []
    },
    {
      "cell_type": "code",
      "source": [],
      "metadata": {
        "id": "AmxA2OVL8cp1"
      },
      "execution_count": null,
      "outputs": []
    },
    {
      "cell_type": "code",
      "source": [
        "token_counts = Counter()\n",
        "for row in df['text_difficult'].values.flatten():\n",
        "    token_counts.update(row.split(\" \"))\n",
        "min_count = 5\n",
        "\n",
        "# tokens from token_counts keys that had at least min_count occurrences throughout the dataset\n",
        "tokens = [token for token, count in token_counts.items() if count >= min_count]\n",
        "UNK, PAD = \"UNK\", \"PAD\"\n",
        "tokens = [UNK, PAD] + sorted(tokens)\n",
        "print(\"Vocabulary size:\", len(tokens))\n",
        "token_to_id = {token: idx for idx, token in enumerate(tokens)}"
      ],
      "metadata": {
        "colab": {
          "base_uri": "https://localhost:8080/"
        },
        "id": "ZVau471W8cuz",
        "outputId": "833a5001-8797-46c3-87be-86c78d0396bf"
      },
      "execution_count": 102,
      "outputs": [
        {
          "output_type": "stream",
          "name": "stdout",
          "text": [
            "Vocabulary size: 10407\n"
          ]
        }
      ]
    },
    {
      "cell_type": "code",
      "source": [
        "def make_batch_dif(data, max_len=None, word_dropout=0):\n",
        "    \"\"\"\n",
        "    Creates a neural-network-friendly dict from the batch data.\n",
        "    :param word_dropout: replaces token index with UNK_IX with this probability\n",
        "    :returns: a dict with {'title' : int64[batch, title_max_len]\n",
        "    \"\"\"\n",
        "    batch = {}\n",
        "    batch[\"label\"] = data[\"doc_name_enc\"].values\n",
        "    batch[\"text\"] = as_matrix(data[\"text_difficult\"].values, max_len)\n",
        "    if word_dropout != 0:\n",
        "        batch[\"text\"] = apply_word_dropout(batch[\"text\"], 1.0 - word_dropout)\n",
        "    return batch\n",
        "\n",
        "\n",
        "def apply_word_dropout(\n",
        "    matrix,\n",
        "    keep_prop,\n",
        "    replace_with=UNK_IX,\n",
        "    pad_ix=PAD_IX,\n",
        "):\n",
        "    dropout_mask = np.random.choice(2, np.shape(matrix), p=[keep_prop, 1 - keep_prop])\n",
        "    dropout_mask &= matrix != pad_ix\n",
        "    return np.choose(dropout_mask, [matrix, np.full_like(matrix, replace_with)])\n",
        "\n",
        "def iterate_minibatches_dif(data, batch_size=256, shuffle=True, cycle=False, **kwargs):\n",
        "    \"\"\"iterates minibatches of data in random order\"\"\"\n",
        "    while True:\n",
        "        indices = np.arange(len(data))\n",
        "        if shuffle:\n",
        "            indices = np.random.permutation(indices)\n",
        "\n",
        "        for start in range(0, len(indices), batch_size):\n",
        "            batch = make_batch_dif(data.iloc[indices[start : start + batch_size]], **kwargs)\n",
        "            target = batch.pop('label')\n",
        "            yield batch, target\n",
        "\n",
        "        if not cycle:\n",
        "            break"
      ],
      "metadata": {
        "id": "cVp6u4Tv8nZS"
      },
      "execution_count": 103,
      "outputs": []
    },
    {
      "cell_type": "code",
      "source": [
        "num_classes=15\n",
        "model = SimpleCNN(num_classes) # модель\n",
        "\n",
        "model = model.to(device)\n",
        "criterion = nn.CrossEntropyLoss()\n",
        "optimizer = torch.optim.Adam(model.parameters(),  betas=(0.9, 0.999))"
      ],
      "metadata": {
        "id": "uAk7b0Mc9Kxb"
      },
      "execution_count": 104,
      "outputs": []
    },
    {
      "cell_type": "code",
      "source": [
        "history = []\n",
        "epochs = 10\n",
        "for epoch_num in range(epochs):\n",
        "    for idx, (batch, target) in enumerate(iterate_minibatches_dif(data_train)):\n",
        "        optimizer.zero_grad()\n",
        "\n",
        "        # Preprocessing the batch data and target\n",
        "        features = torch.tensor(batch[\"text\"], dtype=torch.long).to(device)\n",
        "        target = torch.tensor(target).to(device)\n",
        "\n",
        "        outp = model(features)\n",
        "        #outp = outp.reshape(outp.size(0))\n",
        "\n",
        "        loss = criterion(outp, target.long()) # лосс\n",
        "\n",
        "        y_pred = torch.softmax(outp, dim=1).argmax(dim=1)\n",
        "        print(y_pred[:10], target[:10])\n",
        "\n",
        "        acc = ((y_pred==target).detach().cpu().numpy().mean())\n",
        "\n",
        "\n",
        "        loss.backward()\n",
        "        optimizer.step()\n",
        "\n",
        "        history.append(loss.item())\n",
        "        if (idx + 1) % 10 == 0:\n",
        "            clear_output(True)\n",
        "            plt.plot(history, label=\"loss\")\n",
        "            plt.legend()\n",
        "            plt.show()"
      ],
      "metadata": {
        "colab": {
          "base_uri": "https://localhost:8080/",
          "height": 569
        },
        "id": "Tkic4aiR9TQR",
        "outputId": "3028a675-e967-4c50-b4b9-a65ffae7aca2"
      },
      "execution_count": 105,
      "outputs": [
        {
          "output_type": "display_data",
          "data": {
            "text/plain": [
              "<Figure size 640x480 with 1 Axes>"
            ],
            "image/png": "[encoded data removed]"
          },
          "metadata": {}
        },
        {
          "output_type": "stream",
          "name": "stdout",
          "text": [
            "tensor([ 6,  2,  8, 12,  1, 13,  3,  6,  7,  5], device='cuda:0') tensor([ 6,  2,  8, 12,  1, 13,  3,  6,  7,  5], device='cuda:0')\n",
            "tensor([ 9,  7,  3,  6, 12, 11,  9,  7,  6,  6], device='cuda:0') tensor([ 9,  7,  3,  6, 12, 11,  9,  7,  6,  6], device='cuda:0')\n",
            "tensor([11,  5,  4,  1,  2, 12, 10,  5,  7,  2], device='cuda:0') tensor([11,  5,  4,  1,  2, 12, 10,  5,  7,  2], device='cuda:0')\n",
            "tensor([ 8, 12, 12, 12,  6, 14,  6, 14,  9, 12], device='cuda:0') tensor([ 8, 12, 12, 12,  6, 14,  6, 14,  9, 12], device='cuda:0')\n",
            "tensor([12,  6, 12,  7, 11,  7, 12,  6, 11, 13], device='cuda:0') tensor([12,  6, 12,  7, 11,  7, 12,  6, 11, 13], device='cuda:0')\n",
            "tensor([ 3,  7,  7, 13,  8,  2, 12,  0, 12,  1], device='cuda:0') tensor([ 3,  7,  7, 13,  8,  2, 12,  0, 12,  1], device='cuda:0')\n",
            "tensor([ 2, 10,  2, 10,  5,  5,  3,  1,  9, 11], device='cuda:0') tensor([ 2, 10,  2, 10,  5,  5,  3,  1,  9, 11], device='cuda:0')\n",
            "tensor([10,  2,  4, 13,  6,  0,  5,  6,  9,  9], device='cuda:0') tensor([10,  2,  4, 13,  6,  0,  5,  6,  9,  9], device='cuda:0')\n"
          ]
        }
      ]
    },
    {
      "cell_type": "code",
      "source": [
        "batch_size = 256\n",
        "def print_metrics_dif(model, data, batch_size=batch_size, name=\"\", **kw):\n",
        "\n",
        "    mean_acc = 0\n",
        "    mean_loss = 0\n",
        "    count = 0\n",
        "    outs_vis = []\n",
        "    tar_vis = []\n",
        "    for batch_x, batch_y in tqdm(\n",
        "        iterate_minibatches_dif(data, batch_size=batch_size, shuffle=False, **kw)\n",
        "    ):\n",
        "\n",
        "        features = torch.tensor(batch_x[\"text\"], dtype=torch.long).to(device)\n",
        "        target = torch.tensor(batch_y).to(device)\n",
        "\n",
        "        outp = model(features)\n",
        "        outs_vis.append(outp.detach().cpu())\n",
        "        tar_vis.append(target.detach().cpu())\n",
        "        loss = criterion(outp, target.long()) # лосс\n",
        "\n",
        "        y_pred = torch.softmax(outp, dim=1).argmax(dim=1)\n",
        "\n",
        "        acc = ((y_pred==target).detach().cpu().numpy().mean())\n",
        "\n",
        "        mean_acc += acc.item()\n",
        "        mean_loss += loss.item()\n",
        "        count+=1\n",
        "\n",
        "    print(\"Loss\", mean_loss / count, \"Acc\", mean_acc / count)\n",
        "    print(count)\n",
        "    outs_vis = np.concatenate(outs_vis, axis=0)\n",
        "    tar_vis = np.concatenate(tar_vis, axis=0)\n",
        "    return outs_vis, tar_vis\n",
        "\n",
        "\n",
        "#print_metrics(model, data_train, name=\"Train\")\n",
        "#print_metrics(model, data_test, name=\"Train\")\n",
        "outs_vis, tar_vis = print_metrics_dif(model, data_valid, name=\"Val\");"
      ],
      "metadata": {
        "colab": {
          "base_uri": "https://localhost:8080/"
        },
        "id": "Ik1EXaBJ9t05",
        "outputId": "3880b8ee-3ec2-4155-fccf-6f23bf65b4aa"
      },
      "execution_count": 106,
      "outputs": [
        {
          "output_type": "stream",
          "name": "stderr",
          "text": [
            "18it [00:00, 29.63it/s]"
          ]
        },
        {
          "output_type": "stream",
          "name": "stdout",
          "text": [
            "Loss 0.1183779982642995 Acc 0.9659794878854626\n",
            "18\n"
          ]
        },
        {
          "output_type": "stream",
          "name": "stderr",
          "text": [
            "\n"
          ]
        }
      ]
    },
    {
      "cell_type": "code",
      "source": [
        "X_train, X_test, y_train, y_test = train_test_split(outs_vis, tar_vis,  test_size=0.2, random_state=42)\n",
        "idx_to_label = dict()\n",
        "for k, v in label2idx.items():\n",
        "  idx_to_label[v] = k\n",
        "y_train_enc = []\n",
        "for i in y_train:\n",
        "  y_train_enc.append(idx_to_label[i])\n",
        "y_train_enc = np.array(y_train_enc)"
      ],
      "metadata": {
        "id": "-cgK7y_T9t3z"
      },
      "execution_count": 107,
      "outputs": []
    },
    {
      "cell_type": "code",
      "source": [
        "tsne = TSNE(n_components=2, verbose=1, perplexity=40, n_iter=300, init='random')\n",
        "tsne_results = tsne.fit_transform(X_train[:1500])\n",
        "fig = px.scatter(\n",
        "    tsne_results, x=0, y=1,\n",
        "    color=y_train_enc[:1500], labels={'color': 'Вид НПА'}\n",
        ")\n",
        "fig.show()"
      ],
      "metadata": {
        "colab": {
          "base_uri": "https://localhost:8080/",
          "height": 681
        },
        "id": "otU_fxmG99Sc",
        "outputId": "9647a2dd-0b67-4cef-9263-46dce2e5fa38"
      },
      "execution_count": 108,
      "outputs": [
        {
          "output_type": "stream",
          "name": "stdout",
          "text": [
            "[t-SNE] Computing 121 nearest neighbors...\n",
            "[t-SNE] Indexed 1500 samples in 0.005s...\n",
            "[t-SNE] Computed neighbors for 1500 samples in 0.099s...\n",
            "[t-SNE] Computed conditional probabilities for sample 1000 / 1500\n",
            "[t-SNE] Computed conditional probabilities for sample 1500 / 1500\n",
            "[t-SNE] Mean sigma: 5.478867\n",
            "[t-SNE] KL divergence after 250 iterations with early exaggeration: 51.310638\n",
            "[t-SNE] KL divergence after 300 iterations: 0.841334\n"
          ]
        },
        {
          "output_type": "display_data",
          "data": {
            "text/html": [
              "<html>\n",
              "<head><meta charset=\"utf-8\" /></head>\n",
              "<body>\n",
              "    <div>            <script src=\"https://cdnjs.cloudflare.com/ajax/libs/mathjax/2.7.5/MathJax.js?config=TeX-AMS-MML_SVG\"></script><script type=\"text/javascript\">if (window.MathJax && window.MathJax.Hub && window.MathJax.Hub.Config) {window.MathJax.Hub.Config({SVG: {font: \"STIX-Web\"}});}</script>                <script type=\"text/javascript\">window.PlotlyConfig = {MathJaxConfig: 'local'};</script>\n",
              "        <script charset=\"utf-8\" src=\"https://cdn.plot.ly/plotly-2.24.1.min.js\"></script>                <div id=\"567d00d2-1c6f-47fa-8ba9-864a028de856\" class=\"plotly-graph-div\" style=\"height:525px; width:100%;\"></div>            <script type=\"text/javascript\">                                    window.PLOTLYENV=window.PLOTLYENV || {};                                    if (document.getElementById(\"567d00d2-1c6f-47fa-8ba9-864a028de856\")) {                    Plotly.newPlot(                        \"567d00d2-1c6f-47fa-8ba9-864a028de856\",                        [{\"hovertemplate\":\"\\u0412\\u0438\\u0434 \\u041d\\u041f\\u0410=\\u0420\\u0430\\u0441\\u043f\\u043e\\u0440\\u044f\\u0436\\u0435\\u043d\\u0438\\u0435, \\u0444\\u0435\\u0434\\u0435\\u0440\\u0430\\u043b\\u044c\\u043d\\u044b\\u0439 \\u0443\\u0440\\u043e\\u0432\\u0435\\u043d\\u044c, \\u0433\\u043b\\u0430\\u0432\\u0430 \\u0438\\u0441\\u043f\\u043e\\u043b\\u043d\\u0438\\u0442\\u0435\\u043b\\u044c\\u043d\\u043e\\u0439 \\u0432\\u043b\\u0430\\u0441\\u0442\\u0438\\u003cbr\\u003e0=%{x}\\u003cbr\\u003e1=%{y}\\u003cextra\\u003e\\u003c\\u002fextra\\u003e\",\"legendgroup\":\"\\u0420\\u0430\\u0441\\u043f\\u043e\\u0440\\u044f\\u0436\\u0435\\u043d\\u0438\\u0435, \\u0444\\u0435\\u0434\\u0435\\u0440\\u0430\\u043b\\u044c\\u043d\\u044b\\u0439 \\u0443\\u0440\\u043e\\u0432\\u0435\\u043d\\u044c, \\u0433\\u043b\\u0430\\u0432\\u0430 \\u0438\\u0441\\u043f\\u043e\\u043b\\u043d\\u0438\\u0442\\u0435\\u043b\\u044c\\u043d\\u043e\\u0439 \\u0432\\u043b\\u0430\\u0441\\u0442\\u0438\",\"marker\":{\"color\":\"#636efa\",\"symbol\":\"circle\"},\"mode\":\"markers\",\"name\":\"\\u0420\\u0430\\u0441\\u043f\\u043e\\u0440\\u044f\\u0436\\u0435\\u043d\\u0438\\u0435, \\u0444\\u0435\\u0434\\u0435\\u0440\\u0430\\u043b\\u044c\\u043d\\u044b\\u0439 \\u0443\\u0440\\u043e\\u0432\\u0435\\u043d\\u044c, \\u0433\\u043b\\u0430\\u0432\\u0430 \\u0438\\u0441\\u043f\\u043e\\u043b\\u043d\\u0438\\u0442\\u0435\\u043b\\u044c\\u043d\\u043e\\u0439 \\u0432\\u043b\\u0430\\u0441\\u0442\\u0438\",\"showlegend\":true,\"x\":[-4.310285568237305,-6.865554332733154,-4.484592437744141,-5.545814037322998,-4.434088706970215,-7.005961894989014,-6.904007911682129,-4.458658218383789,-5.844922065734863,-6.272350311279297,-6.898533344268799,-4.639347553253174,-4.488805294036865,-6.704035758972168,-6.779892444610596,-4.503481388092041,-6.049013614654541,-5.8411359786987305,-6.769138813018799,-4.391436576843262,-6.729037761688232,-5.091763496398926,-6.506248474121094,-5.485312461853027,-6.547214031219482,-5.591043472290039,-4.804357528686523,-5.49619722366333,-7.069249153137207,-5.783208847045898,-4.524389266967773,-4.458799362182617,-6.072864055633545,-6.832383155822754,-7.044573783874512,-5.951208591461182,-5.338664531707764,-4.808535575866699,-4.449302673339844,-6.860169410705566,-4.424514293670654,-4.968206882476807,-7.185581207275391,-6.919239044189453,-4.230551242828369,-4.4358744621276855,-4.452487468719482,-6.867743492126465,-5.597548484802246,-5.994237899780273,-6.9744181632995605,-5.570880889892578,-6.93742561340332,-4.571545124053955,-4.336958408355713,-4.3429036140441895,-6.866209983825684,-5.021432399749756,-6.958520889282227,-7.119722843170166,-4.436349868774414,-6.606362342834473,-5.125728607177734,-5.6379876136779785,-5.678524017333984,-6.854519367218018,-6.328125953674316,-6.153345584869385,-6.869062900543213,-6.641093730926514,-5.76661491394043,-5.938635349273682,-4.504956245422363,-6.969310760498047,-4.401991844177246,-6.811171054840088,-3.904559850692749,-7.13608455657959,-4.48546838760376,-6.562589645385742,-6.936994552612305,-4.453137397766113,-6.358874797821045,-6.772642612457275,-4.797008991241455,-4.676197052001953,-6.659218788146973,-6.992630481719971,-4.095785617828369,-4.437602996826172],\"xaxis\":\"x\",\"y\":[-8.095678329467773,-7.85024356842041,-8.545685768127441,-8.537898063659668,-7.677123546600342,-8.307533264160156,-7.7189483642578125,-8.544233322143555,-6.30198860168457,-7.298377990722656,-8.137893676757812,-8.311553955078125,-8.58609676361084,-7.612875938415527,-8.365984916687012,-7.714663028717041,-7.460944652557373,-6.205018997192383,-7.944756031036377,-8.487643241882324,-7.973870754241943,-7.462564468383789,-7.343162536621094,-4.8870391845703125,-8.251115798950195,-8.458501815795898,-7.435657501220703,-7.297964096069336,-8.374497413635254,-6.223782062530518,-7.845841884613037,-8.43934154510498,-6.972521781921387,-7.624316692352295,-8.257006645202637,-7.1749372482299805,-7.165385723114014,-2.7558207511901855,-8.163056373596191,-8.041766166687012,-8.101309776306152,-7.495633125305176,-7.851552486419678,-8.214466094970703,-7.860136985778809,-8.614848136901855,-8.571850776672363,-8.182685852050781,-8.217022895812988,-8.36023235321045,-8.166775703430176,-5.996316432952881,-8.302763938903809,-8.569066047668457,-8.28585147857666,-8.18983268737793,-8.04533576965332,-7.4785614013671875,-8.452051162719727,-7.956597805023193,-8.582600593566895,-7.570457458496094,-7.432555675506592,-6.75927209854126,-5.767505168914795,-8.1583890914917,-7.236798286437988,-7.523926734924316,-7.878207206726074,-8.003222465515137,-6.275350570678711,-6.893520355224609,-7.991215705871582,-8.145794868469238,-8.144002914428711,-7.5023722648620605,-1.7366002798080444,-7.373417854309082,-8.140353202819824,-7.332562446594238,-8.257296562194824,-8.41610336303711,-7.364340305328369,-7.958168983459473,-2.7641565799713135,-8.688044548034668,-7.997607707977295,-8.286090850830078,-7.992175579071045,-8.551397323608398],\"yaxis\":\"y\",\"type\":\"scattergl\"},{\"hovertemplate\":\"\\u0412\\u0438\\u0434 \\u041d\\u041f\\u0410=\\u0420\\u0430\\u0441\\u043f\\u043e\\u0440\\u044f\\u0436\\u0435\\u043d\\u0438\\u0435, \\u0444\\u0435\\u0434\\u0435\\u0440\\u0430\\u043b\\u044c\\u043d\\u044b\\u0439 \\u0443\\u0440\\u043e\\u0432\\u0435\\u043d\\u044c, \\u043f\\u0440\\u0430\\u0432\\u0438\\u0442\\u0435\\u043b\\u044c\\u0441\\u0442\\u0432\\u043e\\u003cbr\\u003e0=%{x}\\u003cbr\\u003e1=%{y}\\u003cextra\\u003e\\u003c\\u002fextra\\u003e\",\"legendgroup\":\"\\u0420\\u0430\\u0441\\u043f\\u043e\\u0440\\u044f\\u0436\\u0435\\u043d\\u0438\\u0435, \\u0444\\u0435\\u0434\\u0435\\u0440\\u0430\\u043b\\u044c\\u043d\\u044b\\u0439 \\u0443\\u0440\\u043e\\u0432\\u0435\\u043d\\u044c, \\u043f\\u0440\\u0430\\u0432\\u0438\\u0442\\u0435\\u043b\\u044c\\u0441\\u0442\\u0432\\u043e\",\"marker\":{\"color\":\"#EF553B\",\"symbol\":\"circle\"},\"mode\":\"markers\",\"name\":\"\\u0420\\u0430\\u0441\\u043f\\u043e\\u0440\\u044f\\u0436\\u0435\\u043d\\u0438\\u0435, \\u0444\\u0435\\u0434\\u0435\\u0440\\u0430\\u043b\\u044c\\u043d\\u044b\\u0439 \\u0443\\u0440\\u043e\\u0432\\u0435\\u043d\\u044c, \\u043f\\u0440\\u0430\\u0432\\u0438\\u0442\\u0435\\u043b\\u044c\\u0441\\u0442\\u0432\\u043e\",\"showlegend\":true,\"x\":[-10.016960144042969,-8.282331466674805,-5.615579128265381,-5.665594577789307,-5.324838161468506,-10.404377937316895,-8.549073219299316,-5.577277660369873,-8.648260116577148,-8.589984893798828,-8.91882610321045,-10.133869171142578,-8.427565574645996,-8.80765438079834,-5.648077964782715,-6.936485767364502,-9.070691108703613,-8.467655181884766,-6.638320446014404,-8.870637893676758,-9.934954643249512,-8.13389778137207,-8.818495750427246,-4.994152069091797,-10.194555282592773,-9.97148323059082,-9.722405433654785,-10.01746940612793,-8.018414497375488,-5.8310346603393555,-9.823431968688965,-10.13524055480957,-10.0413179397583,-4.591517448425293,-8.385473251342773,-10.049518585205078,-10.12441635131836,-10.149508476257324,-9.481266021728516,-6.882308006286621,-10.1378755569458,-5.478794574737549,-8.923810005187988,-10.082429885864258,-8.978486061096191,-10.28921890258789,-8.663139343261719,-7.364126205444336,-10.277703285217285,-8.056402206420898,-7.816074371337891,-8.770830154418945,-7.946872711181641,-9.8181734085083,-8.172794342041016,-10.134815216064453,-5.3720574378967285,-8.216390609741211,-8.295099258422852,-9.225628852844238,-9.49829387664795,-10.124077796936035,-10.162812232971191,-10.177093505859375,-8.261163711547852,-8.516146659851074,-10.065350532531738,-10.03598690032959,-10.108540534973145,-4.999217987060547,-9.743321418762207,-8.401993751525879,-8.127876281738281,-10.342578887939453,-7.7928948402404785,-10.57953929901123,-10.04444408416748,-8.694575309753418,-9.486764907836914,-10.155315399169922,-6.614279747009277,-10.082962989807129,-8.479805946350098,-10.335209846496582,-6.457669258117676,-8.595356941223145,-9.978413581848145,-10.060983657836914,-8.951208114624023,-9.968470573425293,-9.143726348876953,-6.724056243896484,-6.867003440856934,-10.341042518615723,-10.192570686340332,-10.27419376373291,-8.750421524047852,-9.882813453674316,-10.154487609863281,-7.7373738288879395,-8.154860496520996,-10.446815490722656],\"xaxis\":\"x\",\"y\":[-3.3556244373321533,-2.573078155517578,-2.8947787284851074,-4.231945991516113,-3.0253982543945312,-3.8648176193237305,-2.877406358718872,-3.2113394737243652,-2.823669195175171,-2.8002610206604004,-2.6630215644836426,-2.8246335983276367,-3.7283897399902344,-2.840907096862793,-2.8975648880004883,-3.6381642818450928,-3.6949193477630615,-2.7380807399749756,-3.0265274047851562,-3.6375932693481445,-4.656978607177734,-2.6462247371673584,-3.7677857875823975,-3.046687364578247,-3.2341232299804688,-2.3918657302856445,-3.0691449642181396,-2.9678258895874023,-3.957919120788574,-5.4519124031066895,-3.7416961193084717,-2.9839508533477783,-3.5943732261657715,-3.2261579036712646,-2.758296489715576,-4.174089431762695,-4.051126003265381,-2.7441775798797607,-3.010883331298828,-7.588379383087158,-3.102572441101074,-2.825101613998413,-2.7174696922302246,-3.8703880310058594,-3.7431302070617676,-4.167679786682129,-2.7832274436950684,-2.946714162826538,-4.1203460693359375,-2.8217146396636963,-3.548732042312622,-2.8546812534332275,-3.8354527950286865,-3.5486207008361816,-3.8973441123962402,-3.1883811950683594,-3.100205183029175,-2.6551060676574707,-2.6589903831481934,-3.8096492290496826,-4.318694591522217,-3.040921688079834,-4.067220211029053,-4.007684707641602,-2.6702563762664795,-2.7960731983184814,-3.069765090942383,-3.0902597904205322,-3.3708579540252686,-2.377448081970215,-2.246795415878296,-2.7551589012145996,-2.707667350769043,-4.1456475257873535,-2.7795181274414062,-3.328789472579956,-2.1573753356933594,-2.8369481563568115,-3.671987295150757,-4.397468566894531,-3.0182747840881348,-3.1597888469696045,-2.768171787261963,-3.0466041564941406,-7.283034324645996,-2.8098058700561523,-3.2901692390441895,-3.1235244274139404,-4.13216495513916,-3.2602691650390625,-4.589532375335693,-2.933882474899292,-2.986220359802246,-4.106984615325928,-2.9956393241882324,-3.1482510566711426,-2.945704936981201,-3.4598500728607178,-2.7309908866882324,-3.3401970863342285,-2.607774257659912,-4.189793109893799],\"yaxis\":\"y\",\"type\":\"scattergl\"},{\"hovertemplate\":\"\\u0412\\u0438\\u0434 \\u041d\\u041f\\u0410=\\u0417\\u0430\\u043a\\u043e\\u043d, \\u0444\\u0435\\u0434\\u0435\\u0440\\u0430\\u043b\\u044c\\u043d\\u044b\\u0439 \\u0443\\u0440\\u043e\\u0432\\u0435\\u043d\\u044c, \\u0437\\u0430\\u043a\\u043e\\u043d\\u043e\\u0434\\u0430\\u0442\\u0435\\u043b\\u044c\\u043d\\u044b\\u0439 \\u043e\\u0440\\u0433\\u0430\\u043d\\u003cbr\\u003e0=%{x}\\u003cbr\\u003e1=%{y}\\u003cextra\\u003e\\u003c\\u002fextra\\u003e\",\"legendgroup\":\"\\u0417\\u0430\\u043a\\u043e\\u043d, \\u0444\\u0435\\u0434\\u0435\\u0440\\u0430\\u043b\\u044c\\u043d\\u044b\\u0439 \\u0443\\u0440\\u043e\\u0432\\u0435\\u043d\\u044c, \\u0437\\u0430\\u043a\\u043e\\u043d\\u043e\\u0434\\u0430\\u0442\\u0435\\u043b\\u044c\\u043d\\u044b\\u0439 \\u043e\\u0440\\u0433\\u0430\\u043d\",\"marker\":{\"color\":\"#00cc96\",\"symbol\":\"circle\"},\"mode\":\"markers\",\"name\":\"\\u0417\\u0430\\u043a\\u043e\\u043d, \\u0444\\u0435\\u0434\\u0435\\u0440\\u0430\\u043b\\u044c\\u043d\\u044b\\u0439 \\u0443\\u0440\\u043e\\u0432\\u0435\\u043d\\u044c, \\u0437\\u0430\\u043a\\u043e\\u043d\\u043e\\u0434\\u0430\\u0442\\u0435\\u043b\\u044c\\u043d\\u044b\\u0439 \\u043e\\u0440\\u0433\\u0430\\u043d\",\"showlegend\":true,\"x\":[6.072332382202148,7.27711820602417,7.492494106292725,5.627409934997559,5.673765659332275,5.935279369354248,3.675858974456787,4.585411071777344,7.321962833404541,5.878787517547607,6.728737831115723,5.609521865844727,7.443269729614258,4.653398513793945,7.114100933074951,4.679392337799072,5.395307540893555,6.167265892028809,5.2791008949279785,3.7399067878723145,7.40357780456543,7.900452613830566,7.578079700469971,4.585811614990234,4.906063556671143,6.986023902893066,6.800383567810059,7.25780725479126,8.344400405883789,5.171857833862305,5.400584697723389,5.6048126220703125,6.960221767425537,5.159670829772949,6.411628723144531,6.705893039703369,4.357083797454834,4.795496463775635,5.711780548095703,7.650121688842773,6.430492401123047,6.803421974182129,5.0457963943481445,5.956824779510498,6.031528472900391,3.670222520828247,6.797136306762695,7.992899417877197,5.115333080291748,7.137004852294922,5.342009544372559,6.455320358276367,5.6960248947143555,5.087631702423096,5.822885036468506,7.490556716918945,4.977973461151123,6.650736331939697,8.057819366455078,6.309465408325195,6.963375568389893,5.640712738037109,6.065507411956787,5.528550148010254,7.7867112159729,7.338353157043457,5.150617599487305,5.139329433441162,8.403529167175293,5.976142883300781,7.2414751052856445,7.363030433654785,6.682480335235596,6.3149871826171875,7.132742881774902,6.609165191650391,4.925631523132324,7.5762410163879395,3.694078207015991,6.086738109588623,5.192219257354736,5.254156112670898,6.631677150726318,6.498800754547119,5.352215766906738,5.354761600494385,5.113409519195557,5.033920764923096,5.989784240722656,4.7185959815979,6.925845623016357,7.419010162353516,5.005407333374023,5.416629314422607,6.661645889282227,7.680749893188477,5.2451701164245605,4.998798370361328,6.7496337890625,4.227412223815918,7.985028266906738,7.230239391326904,6.435615539550781,7.693753719329834,7.866672039031982,5.829103469848633,8.062888145446777,6.673051834106445,7.88455057144165,7.746025562286377,6.019176006317139,5.129400253295898,7.424258708953857,5.400774002075195,6.1135478019714355,7.482922554016113,5.108486175537109,7.560207366943359,7.487529754638672,5.569137096405029,5.79280424118042,6.557031154632568,3.6832029819488525,7.390818119049072,7.447027683258057,7.1901726722717285,6.162293910980225,4.839372634887695,7.353906154632568,5.1180806159973145,5.7264604568481445,5.060574531555176,6.152815341949463],\"xaxis\":\"x\",\"y\":[-9.90959644317627,-9.535197257995605,-7.4878106117248535,-8.775755882263184,-7.905130386352539,-8.694820404052734,-10.122967720031738,-9.083471298217773,-7.598119258880615,-8.930315017700195,-6.855234146118164,-7.994663238525391,-9.399713516235352,-9.609371185302734,-7.805768966674805,-9.04150676727295,-9.573346138000488,-8.044780731201172,-8.874693870544434,-10.065709114074707,-9.750205993652344,-8.334076881408691,-9.720995903015137,-9.251516342163086,-9.004828453063965,-8.369869232177734,-7.067453384399414,-7.449944972991943,-8.752111434936523,-8.029163360595703,-9.953012466430664,-7.7328901290893555,-9.789668083190918,-8.951031684875488,-8.265939712524414,-9.826263427734375,-8.53648853302002,-9.158426284790039,-9.74026107788086,-9.730781555175781,-8.97128963470459,-7.9770307540893555,-8.932461738586426,-9.536642074584961,-8.40268611907959,-10.141945838928223,-7.608644962310791,-9.10420036315918,-9.938145637512207,-7.96549129486084,-9.722445487976074,-7.395647048950195,-8.210433006286621,-9.6611909866333,-8.230295181274414,-7.558380603790283,-9.366787910461426,-7.435573101043701,-8.392256736755371,-7.863555908203125,-9.453019142150879,-7.721846580505371,-8.1509428024292,-9.654714584350586,-7.774590492248535,-7.698333263397217,-8.324090003967285,-9.733630180358887,-8.992066383361816,-8.798670768737793,-9.504230499267578,-7.671847820281982,-7.591684341430664,-7.143348693847656,-7.367076396942139,-7.707373142242432,-9.480011940002441,-9.420275688171387,-10.12740707397461,-8.764585494995117,-9.937246322631836,-10.011104583740234,-8.340986251831055,-8.86477279663086,-9.42396354675293,-7.823199272155762,-9.962183952331543,-9.66588306427002,-8.911870956420898,-8.730398178100586,-7.840844631195068,-9.313687324523926,-8.059571266174316,-8.544893264770508,-8.64695930480957,-8.16235637664795,-7.922339916229248,-9.847615242004395,-7.74473237991333,-8.825847625732422,-9.67004108428955,-7.815380096435547,-9.360438346862793,-7.992051601409912,-8.209017753601074,-8.045799255371094,-8.774930953979492,-7.743124008178711,-9.627803802490234,-8.008530616760254,-9.33137035369873,-9.871182441711426,-7.8403520584106445,-8.448375701904297,-8.189075469970703,-7.67144250869751,-8.113347053527832,-7.506773948669434,-7.531846523284912,-8.912153244018555,-10.024087905883789,-7.419034004211426,-10.139641761779785,-7.369081974029541,-9.683459281921387,-7.443700790405273,-9.26042652130127,-8.766939163208008,-7.867497444152832,-9.97365665435791,-9.810290336608887,-9.696440696716309,-8.541640281677246],\"yaxis\":\"y\",\"type\":\"scattergl\"},{\"hovertemplate\":\"\\u0412\\u0438\\u0434 \\u041d\\u041f\\u0410=\\u041f\\u043e\\u0441\\u0442\\u0430\\u043d\\u043e\\u0432\\u043b\\u0435\\u043d\\u0438\\u0435, \\u0444\\u0435\\u0434\\u0435\\u0440\\u0430\\u043b\\u044c\\u043d\\u044b\\u0439 \\u0443\\u0440\\u043e\\u0432\\u0435\\u043d\\u044c, \\u043f\\u0440\\u0430\\u0432\\u0438\\u0442\\u0435\\u043b\\u044c\\u0441\\u0442\\u0432\\u043e\\u003cbr\\u003e0=%{x}\\u003cbr\\u003e1=%{y}\\u003cextra\\u003e\\u003c\\u002fextra\\u003e\",\"legendgroup\":\"\\u041f\\u043e\\u0441\\u0442\\u0430\\u043d\\u043e\\u0432\\u043b\\u0435\\u043d\\u0438\\u0435, \\u0444\\u0435\\u0434\\u0435\\u0440\\u0430\\u043b\\u044c\\u043d\\u044b\\u0439 \\u0443\\u0440\\u043e\\u0432\\u0435\\u043d\\u044c, \\u043f\\u0440\\u0430\\u0432\\u0438\\u0442\\u0435\\u043b\\u044c\\u0441\\u0442\\u0432\\u043e\",\"marker\":{\"color\":\"#ab63fa\",\"symbol\":\"circle\"},\"mode\":\"markers\",\"name\":\"\\u041f\\u043e\\u0441\\u0442\\u0430\\u043d\\u043e\\u0432\\u043b\\u0435\\u043d\\u0438\\u0435, \\u0444\\u0435\\u0434\\u0435\\u0440\\u0430\\u043b\\u044c\\u043d\\u044b\\u0439 \\u0443\\u0440\\u043e\\u0432\\u0435\\u043d\\u044c, \\u043f\\u0440\\u0430\\u0432\\u0438\\u0442\\u0435\\u043b\\u044c\\u0441\\u0442\\u0432\\u043e\",\"showlegend\":true,\"x\":[6.10324239730835,3.861133575439453,4.617600440979004,4.380448818206787,2.380617380142212,-7.50377082824707,4.614677906036377,4.213079452514648,-4.578717231750488,4.044321537017822,6.044922351837158,4.960690021514893,4.505599498748779,3.5819272994995117,4.171652793884277,3.801095724105835,6.0482683181762695,2.7101004123687744,6.074346542358398,6.026328086853027,3.510547399520874,4.599158763885498,4.027349472045898,3.9847803115844727,2.7309532165527344,2.7020397186279297,4.431973934173584,5.409541606903076,6.022155284881592,3.9955124855041504,4.006720542907715,4.724462509155273,6.036599636077881,4.99639892578125,2.9200432300567627,4.038107395172119,2.528238534927368,5.596170425415039,4.630990028381348,4.1960978507995605,3.7594590187072754,4.6139140129089355,3.3527626991271973,5.8363165855407715,3.8564083576202393,2.62072491645813,5.3204264640808105,3.8627700805664062,4.678719520568848,4.401227951049805,4.126461029052734,3.5422661304473877,2.803518295288086,4.962027549743652,6.00407600402832,4.567190170288086,4.297361850738525,4.746222972869873,4.024240493774414,4.088535308837891,3.4156785011291504,3.5200583934783936,4.531430721282959,3.7210888862609863,5.98394250869751,5.423626899719238,2.977182149887085,-8.239376068115234,3.807483434677124,4.497127056121826,6.07432222366333,3.9576170444488525,3.5300211906433105,2.446760892868042,3.9687466621398926,3.764965057373047,2.5960230827331543,4.066860198974609,3.7547459602355957,4.362159252166748,3.6355605125427246,6.024886608123779,4.9983415603637695,5.486358165740967,4.812921047210693,3.0065088272094727,4.0650177001953125,4.371450424194336,3.9896888732910156,3.4691343307495117,3.768690824508667,2.7171218395233154,6.033254146575928,2.5207717418670654,3.629340171813965,4.352938652038574,2.592613458633423,4.827910900115967],\"xaxis\":\"x\",\"y\":[9.876049041748047,10.86385726928711,10.446671485900879,11.378083229064941,11.076071739196777,-2.1830153465270996,9.959360122680664,11.216835021972656,-2.7002227306365967,10.264562606811523,9.874433517456055,10.731819152832031,9.442111015319824,10.133866310119629,11.317875862121582,10.691391944885254,9.894407272338867,11.740303039550781,9.85748291015625,9.905757904052734,10.402132034301758,10.027132987976074,10.902933120727539,10.600702285766602,11.481966972351074,11.229312896728516,11.29279899597168,10.639293670654297,9.829927444458008,11.257493019104004,10.424135208129883,9.895736694335938,9.88330364227295,10.960705757141113,11.585298538208008,10.732176780700684,11.165406227111816,10.056427001953125,11.288387298583984,11.224064826965332,10.8213472366333,9.915589332580566,11.52031135559082,10.006404876708984,10.984620094299316,11.119908332824707,10.411870956420898,11.632062911987305,10.642045021057129,10.935561180114746,10.83522891998291,10.290587425231934,11.530974388122559,9.987170219421387,9.908456802368164,11.216851234436035,11.201258659362793,10.61336612701416,10.465081214904785,10.584564208984375,10.32139778137207,10.154899597167969,10.763877868652344,11.499588966369629,9.909576416015625,10.490137100219727,11.566211700439453,0.3104231059551239,10.427746772766113,9.926543235778809,9.883752822875977,11.54937744140625,10.455257415771484,11.129250526428223,11.42199420928955,11.178812026977539,11.507187843322754,10.467022895812988,11.188569068908691,11.341837882995605,10.614164352416992,9.9329195022583,10.749755859375,10.057178497314453,11.069188117980957,11.379695892333984,10.475651741027832,11.290410041809082,10.23900318145752,10.468171119689941,10.612746238708496,11.669567108154297,9.889985084533691,11.289795875549316,10.423788070678711,11.406482696533203,11.589031219482422,10.543479919433594],\"yaxis\":\"y\",\"type\":\"scattergl\"},{\"hovertemplate\":\"\\u0412\\u0438\\u0434 \\u041d\\u041f\\u0410=\\u041f\\u0440\\u0438\\u043a\\u0430\\u0437, \\u0440\\u0435\\u0433\\u0438\\u043e\\u043d\\u0430\\u043b\\u044c\\u043d\\u044b\\u0439 \\u0443\\u0440\\u043e\\u0432\\u0435\\u043d\\u044c, \\u043e\\u0440\\u0433\\u0430\\u043d\\u044b \\u0438\\u0441\\u043f\\u043e\\u043b\\u043d\\u0438\\u0442\\u0435\\u043b\\u044c\\u043d\\u043e\\u0439 \\u0432\\u043b\\u0430\\u0441\\u0442\\u0438\\u003cbr\\u003e0=%{x}\\u003cbr\\u003e1=%{y}\\u003cextra\\u003e\\u003c\\u002fextra\\u003e\",\"legendgroup\":\"\\u041f\\u0440\\u0438\\u043a\\u0430\\u0437, \\u0440\\u0435\\u0433\\u0438\\u043e\\u043d\\u0430\\u043b\\u044c\\u043d\\u044b\\u0439 \\u0443\\u0440\\u043e\\u0432\\u0435\\u043d\\u044c, \\u043e\\u0440\\u0433\\u0430\\u043d\\u044b \\u0438\\u0441\\u043f\\u043e\\u043b\\u043d\\u0438\\u0442\\u0435\\u043b\\u044c\\u043d\\u043e\\u0439 \\u0432\\u043b\\u0430\\u0441\\u0442\\u0438\",\"marker\":{\"color\":\"#FFA15A\",\"symbol\":\"circle\"},\"mode\":\"markers\",\"name\":\"\\u041f\\u0440\\u0438\\u043a\\u0430\\u0437, \\u0440\\u0435\\u0433\\u0438\\u043e\\u043d\\u0430\\u043b\\u044c\\u043d\\u044b\\u0439 \\u0443\\u0440\\u043e\\u0432\\u0435\\u043d\\u044c, \\u043e\\u0440\\u0433\\u0430\\u043d\\u044b \\u0438\\u0441\\u043f\\u043e\\u043b\\u043d\\u0438\\u0442\\u0435\\u043b\\u044c\\u043d\\u043e\\u0439 \\u0432\\u043b\\u0430\\u0441\\u0442\\u0438\",\"showlegend\":true,\"x\":[-7.033364295959473,-5.363961696624756,-5.463388442993164,-6.956795692443848,-6.8614277839660645,-7.166221618652344,-5.919785976409912,-7.6814141273498535,-5.822907447814941,-7.307366847991943,-6.597045421600342,-7.350592613220215,-6.756184101104736,-7.340826034545898,-7.304024696350098,-7.236972332000732,-6.821354389190674,-6.754034042358398,-6.941946029663086,-6.411849021911621,-8.071040153503418,-5.299940586090088,-5.334387302398682,-6.785594940185547,-4.6881232261657715,-6.974977493286133,-6.917629718780518,-5.501568794250488,-7.151817321777344,-3.96553373336792,-5.476945400238037,-5.895936965942383,-4.395227432250977,-5.52690315246582,-6.357483386993408,-5.5592217445373535,-5.9772868156433105,-6.5439252853393555,-6.837610244750977,-6.580827236175537,-6.499090194702148,-4.785211086273193,-5.862763404846191,-7.1540446281433105,-7.019318580627441,-6.375330924987793,-6.583871841430664,-7.696346759796143,-7.1532416343688965,-7.269870281219482,-4.457550048828125,-5.536057472229004,-7.26675271987915,-6.1861572265625,-6.419559955596924,-5.967676639556885,-6.64614200592041,-5.286221027374268,-7.068493843078613,-6.777211666107178,-4.678615570068359,-7.3631978034973145,-6.365752220153809,-6.2654523849487305,-7.166644096374512,-7.019035339355469,-6.967522621154785,-3.8304004669189453,-6.75416898727417,-5.84151554107666,-5.6075310707092285,-6.767773628234863,-7.828888416290283,-7.2006072998046875,-5.774102210998535,-6.065417289733887,-6.59241247177124,-6.4165239334106445,-3.9555654525756836,-6.856917381286621,-5.980369567871094,-6.802929401397705,-7.076536178588867,-1.712278127670288,-5.876237392425537,-5.615013122558594,-5.494282245635986,-6.895035743713379,-4.835178375244141,-5.788833141326904,-8.16968822479248,-7.393635272979736,-6.211015701293945,-7.154879570007324,-5.901419639587402,-6.780947208404541],\"xaxis\":\"x\",\"y\":[7.7601542472839355,-0.16819600760936737,7.643904209136963,6.519317626953125,8.334364891052246,8.962121963500977,7.752951622009277,8.124320983886719,7.5659894943237305,7.400191783905029,8.150288581848145,7.971735000610352,8.376105308532715,8.52083683013916,5.945123672485352,7.504828929901123,6.246397018432617,6.67221736907959,8.65756893157959,7.749213218688965,1.5776841640472412,7.562702178955078,8.532112121582031,5.73751974105835,-0.1301431506872177,8.454353332519531,8.513813972473145,7.613099575042725,9.19100570678711,0.4791005551815033,7.6248579025268555,7.776539325714111,-0.1545972228050232,6.90806770324707,8.133638381958008,8.895414352416992,8.114462852478027,7.516041278839111,8.505766868591309,6.804880142211914,7.132600784301758,-0.18835404515266418,7.566241264343262,8.996317863464355,8.463095664978027,7.2869648933410645,7.471090316772461,8.408501625061035,6.610527515411377,7.673097133636475,-0.9030117988586426,7.696404933929443,6.025972843170166,9.172201156616211,7.922903060913086,9.074911117553711,7.487314224243164,8.521735191345215,6.970174789428711,8.390296936035156,-0.15219664573669434,8.731870651245117,8.508392333984375,7.081651210784912,9.005973815917969,7.443842887878418,8.684883117675781,-0.6136459708213806,7.937349319458008,7.411212921142578,8.78636646270752,8.252976417541504,7.971126556396484,8.20307445526123,8.571626663208008,7.807768821716309,6.745167255401611,8.455146789550781,0.15620338916778564,7.9258222579956055,8.2150239944458,7.865734577178955,8.060333251953125,-0.8980580568313599,7.866070747375488,7.521902084350586,7.232083797454834,7.719717502593994,7.7088093757629395,7.827394962310791,3.4564216136932373,8.689910888671875,7.734676361083984,8.877091407775879,7.823431968688965,8.490705490112305],\"yaxis\":\"y\",\"type\":\"scattergl\"},{\"hovertemplate\":\"\\u0412\\u0438\\u0434 \\u041d\\u041f\\u0410=\\u041f\\u043e\\u0441\\u0442\\u0430\\u043d\\u043e\\u0432\\u043b\\u0435\\u043d\\u0438\\u0435, \\u0440\\u0435\\u0433\\u0438\\u043e\\u043d\\u0430\\u043b\\u044c\\u043d\\u044b\\u0439 \\u0443\\u0440\\u043e\\u0432\\u0435\\u043d\\u044c, \\u0437\\u0430\\u043a\\u043e\\u043d\\u043e\\u0434\\u0430\\u0442\\u0435\\u043b\\u044c\\u043d\\u044b\\u0439 \\u043e\\u0440\\u0433\\u0430\\u043d\\u003cbr\\u003e0=%{x}\\u003cbr\\u003e1=%{y}\\u003cextra\\u003e\\u003c\\u002fextra\\u003e\",\"legendgroup\":\"\\u041f\\u043e\\u0441\\u0442\\u0430\\u043d\\u043e\\u0432\\u043b\\u0435\\u043d\\u0438\\u0435, \\u0440\\u0435\\u0433\\u0438\\u043e\\u043d\\u0430\\u043b\\u044c\\u043d\\u044b\\u0439 \\u0443\\u0440\\u043e\\u0432\\u0435\\u043d\\u044c, \\u0437\\u0430\\u043a\\u043e\\u043d\\u043e\\u0434\\u0430\\u0442\\u0435\\u043b\\u044c\\u043d\\u044b\\u0439 \\u043e\\u0440\\u0433\\u0430\\u043d\",\"marker\":{\"color\":\"#19d3f3\",\"symbol\":\"circle\"},\"mode\":\"markers\",\"name\":\"\\u041f\\u043e\\u0441\\u0442\\u0430\\u043d\\u043e\\u0432\\u043b\\u0435\\u043d\\u0438\\u0435, \\u0440\\u0435\\u0433\\u0438\\u043e\\u043d\\u0430\\u043b\\u044c\\u043d\\u044b\\u0439 \\u0443\\u0440\\u043e\\u0432\\u0435\\u043d\\u044c, \\u0437\\u0430\\u043a\\u043e\\u043d\\u043e\\u0434\\u0430\\u0442\\u0435\\u043b\\u044c\\u043d\\u044b\\u0439 \\u043e\\u0440\\u0433\\u0430\\u043d\",\"showlegend\":true,\"x\":[8.099953651428223,10.256190299987793,10.165949821472168,8.169939994812012,9.641776084899902,9.23972225189209,9.294452667236328,9.964031219482422,7.757543563842773,10.125833511352539,10.193754196166992,6.228928565979004,10.096366882324219,10.04963207244873,10.0775728225708,8.997453689575195,9.62358570098877,8.041329383850098,10.044158935546875,6.818666458129883,6.542291641235352,7.538084983825684,6.06249475479126,8.971395492553711,9.974516868591309,10.043011665344238,10.1181640625,8.491294860839844,9.076193809509277,10.07278823852539,10.462807655334473,8.619752883911133,10.126874923706055,10.04688835144043,10.225385665893555,9.054758071899414,9.851038932800293,8.777308464050293,10.068708419799805,8.319490432739258,10.961139678955078,8.616801261901855,8.989355087280273,9.181544303894043,10.3447265625,9.224002838134766,9.383456230163574,9.978835105895996,10.111579895019531,9.379742622375488,9.163737297058105,8.557278633117676,9.967604637145996,10.74497127532959,8.831730842590332,8.640251159667969,9.236759185791016,10.081923484802246,10.714784622192383,9.662708282470703,8.471735954284668,10.158750534057617,10.08694839477539,9.308029174804688,8.521464347839355,9.682777404785156,10.017668724060059,9.425056457519531,9.007868766784668,10.074103355407715,10.012205123901367,10.133757591247559,10.341483116149902,10.05790901184082,10.228671073913574,8.702716827392578,10.083454132080078,8.920289993286133,10.040413856506348,8.381794929504395,9.015582084655762,9.020227432250977,10.041869163513184,8.018983840942383,8.654770851135254,10.249014854431152,9.77798080444336,9.797001838684082,10.298221588134766,4.791991233825684,9.341618537902832,8.858471870422363,10.842874526977539,8.191606521606445,9.976903915405273,1.7002832889556885,8.628826141357422,8.639219284057617,8.67631721496582,10.038817405700684,10.1878080368042,9.193038940429688,8.751982688903809,10.098372459411621,10.250621795654297],\"xaxis\":\"x\",\"y\":[1.9444891214370728,0.6249176859855652,0.6298637986183167,1.8744961023330688,1.507114052772522,0.3300863206386566,1.4975192546844482,2.5609235763549805,0.8390036821365356,2.7653956413269043,0.6773501634597778,2.0918915271759033,2.768033742904663,0.6123403310775757,2.741917133331299,1.0939823389053345,2.785288095474243,1.9175798892974854,2.567445755004883,1.95903742313385,2.0246613025665283,1.7462166547775269,2.2811272144317627,0.1966586858034134,2.5439538955688477,0.48454928398132324,0.6826769709587097,0.7605304718017578,2.137507438659668,2.762700080871582,0.7370297908782959,0.328450471162796,2.815275192260742,0.5574358105659485,0.6963951587677002,0.35724616050720215,2.5092055797576904,1.1987767219543457,2.715113401412964,1.898446798324585,0.3905465006828308,2.111633062362671,1.2293182611465454,0.7494508028030396,0.6199941039085388,0.7781205177307129,0.3280133605003357,2.686088800430298,2.6455278396606445,0.3302996754646301,0.21344763040542603,0.04124855995178223,2.643948554992676,0.385782390832901,1.2298839092254639,2.052746534347534,0.6029548645019531,2.782802104949951,0.3299720883369446,0.7954011559486389,2.033214569091797,2.7017931938171387,2.7722644805908203,0.30471718311309814,1.615917682647705,2.7459542751312256,0.9067236185073853,0.3697400391101837,0.4905851483345032,2.7845613956451416,2.692392110824585,0.6687666177749634,0.6038709878921509,2.9237821102142334,0.6229224801063538,1.3505223989486694,2.6931188106536865,0.9300065040588379,2.7352869510650635,1.893757700920105,0.7156304717063904,0.49176740646362305,2.7099432945251465,1.878124713897705,2.032033681869507,0.6656460165977478,2.764671802520752,1.1101603507995605,0.5938984751701355,2.867652654647827,2.018472194671631,0.31919747591018677,0.38858503103256226,1.5897483825683594,1.169471025466919,-2.1646244525909424,2.075546979904175,2.122575044631958,2.21602201461792,2.6787109375,0.7349982857704163,0.23148280382156372,0.42777958512306213,2.774243116378784,0.7121124267578125],\"yaxis\":\"y\",\"type\":\"scattergl\"},{\"hovertemplate\":\"\\u0412\\u0438\\u0434 \\u041d\\u041f\\u0410=\\u0417\\u0430\\u043a\\u043e\\u043d, \\u0440\\u0435\\u0433\\u0438\\u043e\\u043d\\u0430\\u043b\\u044c\\u043d\\u044b\\u0439 \\u0443\\u0440\\u043e\\u0432\\u0435\\u043d\\u044c, \\u0437\\u0430\\u043a\\u043e\\u043d\\u043e\\u0434\\u0430\\u0442\\u0435\\u043b\\u044c\\u043d\\u044b\\u0439 \\u043e\\u0440\\u0433\\u0430\\u043d\\u003cbr\\u003e0=%{x}\\u003cbr\\u003e1=%{y}\\u003cextra\\u003e\\u003c\\u002fextra\\u003e\",\"legendgroup\":\"\\u0417\\u0430\\u043a\\u043e\\u043d, \\u0440\\u0435\\u0433\\u0438\\u043e\\u043d\\u0430\\u043b\\u044c\\u043d\\u044b\\u0439 \\u0443\\u0440\\u043e\\u0432\\u0435\\u043d\\u044c, \\u0437\\u0430\\u043a\\u043e\\u043d\\u043e\\u0434\\u0430\\u0442\\u0435\\u043b\\u044c\\u043d\\u044b\\u0439 \\u043e\\u0440\\u0433\\u0430\\u043d\",\"marker\":{\"color\":\"#FF6692\",\"symbol\":\"circle\"},\"mode\":\"markers\",\"name\":\"\\u0417\\u0430\\u043a\\u043e\\u043d, \\u0440\\u0435\\u0433\\u0438\\u043e\\u043d\\u0430\\u043b\\u044c\\u043d\\u044b\\u0439 \\u0443\\u0440\\u043e\\u0432\\u0435\\u043d\\u044c, \\u0437\\u0430\\u043a\\u043e\\u043d\\u043e\\u0434\\u0430\\u0442\\u0435\\u043b\\u044c\\u043d\\u044b\\u0439 \\u043e\\u0440\\u0433\\u0430\\u043d\",\"showlegend\":true,\"x\":[4.729455471038818,6.152333736419678,6.375157356262207,6.463476181030273,5.454229354858398,5.281590938568115,5.019204139709473,5.286041736602783,4.332726001739502,4.349790096282959,6.6152567863464355,5.566128253936768,5.714850425720215,6.688075542449951,6.184625625610352,4.343958377838135,5.191516399383545,4.685342311859131,5.638499736785889,5.406942367553711,5.677687168121338,5.837574481964111,5.47167444229126,6.096205711364746,5.854398250579834,6.331503868103027,5.5609564781188965,6.670313358306885,6.605229377746582,6.108816146850586,4.2129106521606445,5.907508373260498,5.572944641113281,7.038546562194824,4.9508233070373535,4.322700023651123,4.236724853515625,5.467824459075928,4.3498148918151855,4.798742294311523,5.864494323730469,6.653813362121582,6.443944931030273,5.843615531921387,6.101327896118164,4.623781681060791,4.314990997314453,5.63484525680542,6.514134407043457,5.9531636238098145,5.706351280212402,4.468164920806885,4.9798054695129395,4.082068920135498,4.960474491119385,6.3662495613098145,6.812918663024902,4.116988182067871,5.125264644622803,6.574535369873047,-2.7585744857788086,5.6763153076171875,5.721746444702148,5.249197483062744,6.364853382110596,5.637630939483643,6.507001876831055,4.576147079467773,5.464444637298584,6.442237377166748,6.635757923126221,5.934722900390625,6.430697917938232,4.4069671630859375,6.473466396331787,6.351598739624023,6.47253942489624,6.68500280380249,5.64278507232666,4.350900650024414,5.490283012390137,5.431898593902588,6.2871503829956055,4.454726219177246,4.804610252380371,5.369740009307861,5.331823348999023,6.474159240722656,7.052123069763184,5.327342987060547,5.171401500701904,4.541812896728516,5.965620040893555,4.575428009033203,5.7627434730529785,4.445230007171631,5.098228454589844,4.441788196563721,4.489816188812256,5.809150218963623,5.411291599273682,6.800116539001465,5.328616142272949,4.823101997375488,6.608145713806152,4.815739154815674,5.857945919036865,4.238736152648926],\"xaxis\":\"x\",\"y\":[5.102559566497803,5.91299295425415,5.155252933502197,5.474565505981445,4.757523536682129,5.4503092765808105,5.229781627655029,5.365306377410889,3.76981520652771,3.654865026473999,6.815735816955566,6.342967510223389,6.187775611877441,6.867441177368164,6.191705226898193,3.4062345027923584,5.502229690551758,5.071774482727051,4.818121910095215,4.221498012542725,4.732213497161865,6.456782817840576,5.170197010040283,5.9729533195495605,6.297944068908691,6.009781360626221,4.966424942016602,6.941140174865723,6.653800964355469,4.414836406707764,4.720035076141357,4.265519142150879,5.742489814758301,6.781962871551514,5.555804252624512,3.4338934421539307,3.7572717666625977,6.183263778686523,4.0260009765625,4.743918418884277,6.288825988769531,5.819450378417969,5.825547695159912,5.851646423339844,6.068415641784668,5.088841438293457,3.0936245918273926,5.092657089233398,5.314601898193359,5.558617115020752,4.759320259094238,5.716372013092041,5.569974899291992,4.055361747741699,5.2860307693481445,4.886904239654541,5.676052570343018,4.010958194732666,6.107999801635742,6.6504716873168945,-1.1711879968643188,5.477509021759033,5.239228248596191,4.331076145172119,6.064999580383301,5.7364020347595215,5.576508522033691,6.066980361938477,4.596879005432129,5.820454120635986,6.7050065994262695,6.051065921783447,6.985523223876953,3.63573956489563,5.313258171081543,6.694394588470459,5.9768242835998535,7.006694316864014,6.056224822998047,4.03636360168457,6.412243366241455,4.582178115844727,6.085840225219727,4.18173885345459,5.3969526290893555,4.455289840698242,5.110033988952637,6.005389213562012,6.8129706382751465,4.9222798347473145,3.8671610355377197,5.492097854614258,5.679145336151123,3.372032642364502,5.3422441482543945,4.00379753112793,5.385587692260742,4.031158447265625,3.9047045707702637,6.442811012268066,5.366026878356934,5.488646507263184,4.677975654602051,4.609897136688232,6.927888870239258,4.769586563110352,5.57702112197876,3.6084344387054443],\"yaxis\":\"y\",\"type\":\"scattergl\"},{\"hovertemplate\":\"\\u0412\\u0438\\u0434 \\u041d\\u041f\\u0410=\\u041f\\u043e\\u0441\\u0442\\u0430\\u043d\\u043e\\u0432\\u043b\\u0435\\u043d\\u0438\\u0435, \\u0440\\u0435\\u0433\\u0438\\u043e\\u043d\\u0430\\u043b\\u044c\\u043d\\u044b\\u0439 \\u0443\\u0440\\u043e\\u0432\\u0435\\u043d\\u044c, \\u043f\\u0440\\u0430\\u0432\\u0438\\u0442\\u0435\\u043b\\u044c\\u0441\\u0442\\u0432\\u043e\\u003cbr\\u003e0=%{x}\\u003cbr\\u003e1=%{y}\\u003cextra\\u003e\\u003c\\u002fextra\\u003e\",\"legendgroup\":\"\\u041f\\u043e\\u0441\\u0442\\u0430\\u043d\\u043e\\u0432\\u043b\\u0435\\u043d\\u0438\\u0435, \\u0440\\u0435\\u0433\\u0438\\u043e\\u043d\\u0430\\u043b\\u044c\\u043d\\u044b\\u0439 \\u0443\\u0440\\u043e\\u0432\\u0435\\u043d\\u044c, \\u043f\\u0440\\u0430\\u0432\\u0438\\u0442\\u0435\\u043b\\u044c\\u0441\\u0442\\u0432\\u043e\",\"marker\":{\"color\":\"#B6E880\",\"symbol\":\"circle\"},\"mode\":\"markers\",\"name\":\"\\u041f\\u043e\\u0441\\u0442\\u0430\\u043d\\u043e\\u0432\\u043b\\u0435\\u043d\\u0438\\u0435, \\u0440\\u0435\\u0433\\u0438\\u043e\\u043d\\u0430\\u043b\\u044c\\u043d\\u044b\\u0439 \\u0443\\u0440\\u043e\\u0432\\u0435\\u043d\\u044c, \\u043f\\u0440\\u0430\\u0432\\u0438\\u0442\\u0435\\u043b\\u044c\\u0441\\u0442\\u0432\\u043e\",\"showlegend\":true,\"x\":[4.509636878967285,3.2023866176605225,2.977215051651001,4.602399826049805,3.9139161109924316,3.520280599594116,3.732961893081665,3.084477424621582,1.7363202571868896,4.5248703956604,4.049933433532715,2.534735679626465,3.3937978744506836,3.5150272846221924,2.8022513389587402,2.1668660640716553,4.303764343261719,2.3068106174468994,1.9060953855514526,2.6340465545654297,-2.8758959770202637,3.2689895629882812,1.8872359991073608,2.911832094192505,2.701932191848755,3.5571956634521484,2.609257459640503,3.2260966300964355,4.5700907707214355,3.3097522258758545,3.6938955783843994,1.606081247329712,3.200195550918579,-2.009218692779541,4.875435829162598,-1.339795470237732,3.835177183151245,4.040847301483154,4.081418991088867,4.425973415374756,3.38313889503479,7.932801723480225,1.8567478656768799,4.050259113311768,3.816624879837036,3.7155497074127197,1.8062111139297485,4.341564178466797,4.686302661895752,3.45088529586792,4.5879387855529785,3.4032156467437744,3.8730857372283936,2.6303441524505615,4.784773349761963,4.340129375457764,4.191561698913574,3.8553552627563477,4.656531810760498,3.755871534347534,3.0643131732940674,3.7102291584014893,2.533233880996704,3.425086736679077,4.670505523681641,2.673111915588379,-1.5921303033828735,4.276723384857178,3.726112127304077,4.337628364562988,4.292426586151123,4.360615253448486,2.857438564300537,1.8138576745986938,1.5838136672973633,2.580886125564575,2.807835817337036,1.891170620918274,4.548250198364258,4.363955020904541,4.527603626251221,4.169020652770996,3.2983901500701904,1.3055180311203003,4.215864181518555,2.470580577850342,-1.9242838621139526,3.258941411972046,4.938410758972168,3.1171038150787354,1.8666449785232544,4.594210147857666,2.5189716815948486,2.0022225379943848,3.8737142086029053,2.734947681427002,3.021641969680786,3.4497344493865967,4.2920684814453125,2.987061023712158,4.461025238037109,4.404423713684082],\"xaxis\":\"x\",\"y\":[-3.0389719009399414,-3.496877431869507,-4.199443340301514,-4.553268909454346,-3.4226012229919434,-4.42360258102417,-3.3760080337524414,-3.7797186374664307,-2.383070945739746,-4.4175567626953125,-4.887944221496582,-3.6604599952697754,-3.6991214752197266,-3.44683837890625,-3.3804686069488525,-4.184576511383057,-5.1408491134643555,-4.77156925201416,-3.117382287979126,-3.701284646987915,-1.4850212335586548,-3.5403201580047607,-4.535252571105957,-3.5177958011627197,-4.18111515045166,-4.3483734130859375,-4.551389217376709,-4.312902927398682,-3.7675845623016357,-3.7396256923675537,-4.565116882324219,-4.595075607299805,-3.300569772720337,-0.21608160436153412,-3.859123468399048,-0.5460352301597595,-4.604193210601807,-3.7616419792175293,-4.8500189781188965,-3.6247053146362305,-2.9846129417419434,-0.834804117679596,-2.6116249561309814,-4.822009563446045,-4.489669322967529,-3.3335986137390137,-4.574274063110352,-5.074742794036865,-3.928091287612915,-3.445098400115967,-4.1497416496276855,-3.4864704608917236,-4.530558109283447,-3.601093292236328,-4.164145469665527,-5.11395263671875,-3.114804267883301,-4.343484878540039,-3.2313895225524902,-3.570833921432495,-4.136987686157227,-3.443455219268799,-3.9491870403289795,-4.3917236328125,-3.8788645267486572,-2.630746364593506,-0.4967176914215088,-4.865215301513672,-3.0433554649353027,-4.583594799041748,-5.112709999084473,-3.4845447540283203,-4.876800537109375,-2.5927181243896484,-2.3298604488372803,-4.539484024047852,-4.314234256744385,-4.541879177093506,-3.788757562637329,-4.333718776702881,-4.157088756561279,-3.236861228942871,-3.4005610942840576,-2.410659074783325,-4.979996204376221,-4.082370281219482,-0.20185352861881256,-3.6648175716400146,-3.822772264480591,-2.6258134841918945,-2.7735226154327393,-3.435084104537964,-4.808701038360596,-4.459598064422607,-4.084823131561279,-2.4412596225738525,-3.414320468902588,-3.481762170791626,-4.236335754394531,-4.093664169311523,-4.784764766693115,-3.6655259132385254],\"yaxis\":\"y\",\"type\":\"scattergl\"},{\"hovertemplate\":\"\\u0412\\u0438\\u0434 \\u041d\\u041f\\u0410=\\u0420\\u0430\\u0441\\u043f\\u043e\\u0440\\u044f\\u0436\\u0435\\u043d\\u0438\\u0435, \\u0440\\u0435\\u0433\\u0438\\u043e\\u043d\\u0430\\u043b\\u044c\\u043d\\u044b\\u0439 \\u0443\\u0440\\u043e\\u0432\\u0435\\u043d\\u044c, \\u0433\\u043b\\u0430\\u0432\\u0430 \\u0438\\u0441\\u043f\\u043e\\u043b\\u043d\\u0438\\u0442\\u0435\\u043b\\u044c\\u043d\\u043e\\u0439 \\u0432\\u043b\\u0430\\u0441\\u0442\\u0438\\u003cbr\\u003e0=%{x}\\u003cbr\\u003e1=%{y}\\u003cextra\\u003e\\u003c\\u002fextra\\u003e\",\"legendgroup\":\"\\u0420\\u0430\\u0441\\u043f\\u043e\\u0440\\u044f\\u0436\\u0435\\u043d\\u0438\\u0435, \\u0440\\u0435\\u0433\\u0438\\u043e\\u043d\\u0430\\u043b\\u044c\\u043d\\u044b\\u0439 \\u0443\\u0440\\u043e\\u0432\\u0435\\u043d\\u044c, \\u0433\\u043b\\u0430\\u0432\\u0430 \\u0438\\u0441\\u043f\\u043e\\u043b\\u043d\\u0438\\u0442\\u0435\\u043b\\u044c\\u043d\\u043e\\u0439 \\u0432\\u043b\\u0430\\u0441\\u0442\\u0438\",\"marker\":{\"color\":\"#FF97FF\",\"symbol\":\"circle\"},\"mode\":\"markers\",\"name\":\"\\u0420\\u0430\\u0441\\u043f\\u043e\\u0440\\u044f\\u0436\\u0435\\u043d\\u0438\\u0435, \\u0440\\u0435\\u0433\\u0438\\u043e\\u043d\\u0430\\u043b\\u044c\\u043d\\u044b\\u0439 \\u0443\\u0440\\u043e\\u0432\\u0435\\u043d\\u044c, \\u0433\\u043b\\u0430\\u0432\\u0430 \\u0438\\u0441\\u043f\\u043e\\u043b\\u043d\\u0438\\u0442\\u0435\\u043b\\u044c\\u043d\\u043e\\u0439 \\u0432\\u043b\\u0430\\u0441\\u0442\\u0438\",\"showlegend\":true,\"x\":[-1.537276029586792,0.07271979004144669,0.2569749057292938,-1.194803237915039,-1.0716516971588135,0.5479558110237122,-1.8926759958267212,-0.9207375645637512,-0.27684471011161804,0.7287098169326782,0.11930893361568451,-3.653343677520752,0.5660953521728516,-1.5109719038009644,-0.9266199469566345,-1.818688154220581,-1.566235065460205,-1.2950941324234009,0.7357684969902039,-0.05610774829983711,0.4809669256210327,-0.9241971969604492,0.4903087317943573,0.5179242491722107,0.3014006018638611,0.41487932205200195,0.46660858392715454,0.4530211091041565,-1.8180919885635376,0.7935091853141785,0.4229138195514679,-0.801868736743927,0.09800469875335693,0.11116273701190948,-1.2903457880020142,-3.5006744861602783,-0.2970733642578125,0.505761444568634,-2.795905828475952,0.7863274216651917,-0.5863108038902283,-0.28804218769073486,-2.697625160217285,-1.2185890674591064,-2.0063958168029785,-1.2116146087646484,-3.2087388038635254,-0.17310437560081482,0.22622038424015045,-2.2089385986328125,-1.3045283555984497,-0.10841215401887894,-1.3584809303283691,-0.16206388175487518,0.46223607659339905,-0.5154499411582947,-2.346581220626831,0.0866507738828659,0.5439718961715698,-1.266379714012146,-0.3421730697154999,-0.754094123840332,-2.4958510398864746,-3.0475053787231445,0.3596382141113281,0.3666810989379883,-1.5167535543441772,0.25896191596984863,-0.16633374989032745,-0.7753336429595947,4.329610347747803,-1.4591143131256104,-0.9702402949333191,-0.009048943407833576,0.6231620907783508,-1.3964097499847412,-0.3506893217563629,-1.650506615638733,-0.707170844078064,0.5389557480812073,0.42386555671691895,-3.887410879135132,-1.9587196111679077,-0.04787702113389969,0.1989414393901825,-2.25253963470459,-3.33665132522583,-3.2081027030944824,-0.8567481637001038,0.7926186919212341,-0.35662347078323364,-1.0861897468566895,-0.5943238735198975,-1.887353777885437,-1.2879540920257568,0.34468531608581543,0.1389366090297699,-1.9462018013000488,-1.9434179067611694,-1.4716094732284546,-1.2134668827056885,0.5853455066680908,0.3310364782810211,0.43411391973495483,0.4250081479549408,-0.5721578001976013,-1.0508044958114624,-0.5507598519325256,-1.5971044301986694,0.6259402632713318,-1.9241621494293213,0.35950061678886414,-1.8247368335723877],\"xaxis\":\"x\",\"y\":[7.593822002410889,6.705135822296143,6.568568706512451,6.465236663818359,5.341090679168701,6.364490509033203,7.660490989685059,5.796997547149658,7.148406028747559,4.993678092956543,3.1269333362579346,-1.4523440599441528,6.783899307250977,1.7947194576263428,6.074306011199951,7.524003505706787,1.8381109237670898,6.432103633880615,5.481912612915039,6.763179302215576,6.365753650665283,5.794214725494385,6.90944242477417,6.851351737976074,6.950901508331299,7.1272149085998535,6.916348457336426,6.4648332595825195,7.737002849578857,6.7533111572265625,6.989468097686768,4.430920124053955,7.334896087646484,7.48224401473999,6.904516220092773,-1.2581034898757935,6.01961088180542,6.733877182006836,-1.184201717376709,4.984119892120361,6.55928897857666,7.5089311599731445,-0.7840171456336975,7.174285888671875,1.1881835460662842,7.0580902099609375,-2.024893045425415,7.068943977355957,6.100549221038818,2.027661085128784,5.683298110961914,6.610726833343506,5.695671081542969,6.704343318939209,6.4145402908325195,6.6541924476623535,0.22976967692375183,7.113173484802246,6.383968830108643,6.281307697296143,7.040359020233154,5.891273498535156,0.07763057947158813,-0.007807573303580284,6.599391937255859,6.459397315979004,1.8568557500839233,7.141105651855469,6.788569927215576,5.805627822875977,2.969520330429077,7.255002975463867,3.312609910964966,7.309417724609375,6.829853057861328,7.5223708152771,7.055602073669434,3.2562010288238525,6.537290096282959,6.803068161010742,7.201289653778076,0.5340091586112976,1.033190369606018,7.034682273864746,7.30052375793457,-1.1635013818740845,-0.14346075057983398,1.3835208415985107,4.108770847320557,4.982028484344482,6.954247951507568,5.245255947113037,7.383570671081543,2.285950183868408,7.354890823364258,7.012967586517334,3.1253480911254883,7.612405300140381,7.620494365692139,7.227614879608154,6.325031757354736,6.3435869216918945,7.2653985023498535,6.410898685455322,6.883474826812744,6.457149028778076,5.262725830078125,5.901405334472656,7.674884796142578,6.492493152618408,7.639430046081543,6.454546928405762,7.7528204917907715],\"yaxis\":\"y\",\"type\":\"scattergl\"},{\"hovertemplate\":\"\\u0412\\u0438\\u0434 \\u041d\\u041f\\u0410=\\u0420\\u0430\\u0441\\u043f\\u043e\\u0440\\u044f\\u0436\\u0435\\u043d\\u0438\\u0435, \\u0440\\u0435\\u0433\\u0438\\u043e\\u043d\\u0430\\u043b\\u044c\\u043d\\u044b\\u0439 \\u0443\\u0440\\u043e\\u0432\\u0435\\u043d\\u044c, \\u043f\\u0440\\u0430\\u0432\\u0438\\u0442\\u0435\\u043b\\u044c\\u0441\\u0442\\u0432\\u043e\\u003cbr\\u003e0=%{x}\\u003cbr\\u003e1=%{y}\\u003cextra\\u003e\\u003c\\u002fextra\\u003e\",\"legendgroup\":\"\\u0420\\u0430\\u0441\\u043f\\u043e\\u0440\\u044f\\u0436\\u0435\\u043d\\u0438\\u0435, \\u0440\\u0435\\u0433\\u0438\\u043e\\u043d\\u0430\\u043b\\u044c\\u043d\\u044b\\u0439 \\u0443\\u0440\\u043e\\u0432\\u0435\\u043d\\u044c, \\u043f\\u0440\\u0430\\u0432\\u0438\\u0442\\u0435\\u043b\\u044c\\u0441\\u0442\\u0432\\u043e\",\"marker\":{\"color\":\"#FECB52\",\"symbol\":\"circle\"},\"mode\":\"markers\",\"name\":\"\\u0420\\u0430\\u0441\\u043f\\u043e\\u0440\\u044f\\u0436\\u0435\\u043d\\u0438\\u0435, \\u0440\\u0435\\u0433\\u0438\\u043e\\u043d\\u0430\\u043b\\u044c\\u043d\\u044b\\u0439 \\u0443\\u0440\\u043e\\u0432\\u0435\\u043d\\u044c, \\u043f\\u0440\\u0430\\u0432\\u0438\\u0442\\u0435\\u043b\\u044c\\u0441\\u0442\\u0432\\u043e\",\"showlegend\":true,\"x\":[-4.661532402038574,-3.8496463298797607,-2.488565683364868,-3.712608575820923,-4.964927673339844,-4.680379867553711,-4.433686256408691,-1.824672818183899,-2.360384225845337,-4.738071441650391,-4.285036563873291,-4.000407695770264,-4.2200026512146,-5.050338268280029,-3.8362998962402344,-4.592992782592773,-2.517587184906006,-2.86545991897583,-4.802657127380371,-1.766844630241394,-3.8986289501190186,-5.2069926261901855,-2.515373706817627,-3.812668800354004,-2.5425093173980713,-2.8047780990600586,-3.7053654193878174,-2.3022797107696533,-3.901085376739502,-5.072113513946533,-2.0670979022979736,-4.61982536315918,-3.912069797515869,-2.898804187774658,-3.2244415283203125,-4.5992817878723145,-4.1774516105651855,-1.5261598825454712,-1.4146580696105957,-3.6244008541107178,-3.6190686225891113,-4.504659652709961,-3.860705852508545,-4.31638240814209,-4.479570388793945,-3.7223260402679443,-4.785499095916748,-4.0331926345825195,-4.043618679046631,-2.5304625034332275,-4.047934055328369,-4.537209510803223,-2.522951126098633,-3.016111373901367,-2.3178446292877197,-4.021852016448975,-3.852987289428711,-2.270395517349243,-4.6777024269104,-1.2755926847457886,-4.547482013702393,-3.255937337875366,-4.7633466720581055,-5.460210800170898,-4.222194194793701,-2.599224805831909,-3.6548333168029785,-4.762510776519775,-2.457458734512329,-4.550257205963135,-2.575585126876831,-4.258601665496826,-4.698128700256348,-4.615157604217529,-4.432528495788574,-2.3805713653564453,-2.971921682357788,-3.935281753540039,-4.0231499671936035,-4.281222343444824,-1.1887973546981812,-2.5259745121002197,-3.581840991973877,-4.837327003479004,-3.5034189224243164,-2.3631207942962646,-2.888984203338623,-4.702413082122803,-4.06165885925293,-2.3176770210266113,-4.897283554077148,-4.83819055557251,-3.651866912841797,-3.5132009983062744,-3.9011964797973633,-4.078175067901611,-4.872853755950928,-2.5610039234161377,-1.6778857707977295,-2.71374249458313,-4.219474792480469,-3.6887362003326416,-3.969386339187622,-4.049123764038086,-3.6903553009033203,-2.4767415523529053,-4.005982875823975,-3.615265369415283,-3.66817569732666,-3.6156463623046875,-3.951983690261841,-3.9640398025512695,-3.87332820892334,-4.598001003265381,-4.376211166381836,-3.4104392528533936,-3.5966551303863525,-2.406055212020874,-4.735172271728516,-3.6702566146850586,-4.8283162117004395,-3.128897190093994,-4.7753753662109375],\"xaxis\":\"x\",\"y\":[3.481560468673706,2.941164016723633,3.646848440170288,2.143434524536133,4.0096211433410645,2.6114511489868164,3.8099727630615234,2.1375324726104736,1.0953744649887085,3.736315965652466,3.556328296661377,-0.04550211876630783,2.5476536750793457,4.039901256561279,3.7323968410491943,3.3262810707092285,3.6145055294036865,2.315380334854126,3.8246781826019287,2.01994252204895,0.6351087093353271,-2.8769657611846924,3.0091781616210938,4.0921950340271,3.4524028301239014,1.9182569980621338,0.9230260252952576,1.7014219760894775,3.8261196613311768,4.13137674331665,2.2325894832611084,2.6782679557800293,2.181541919708252,0.05012904480099678,1.473685622215271,3.2146363258361816,3.9696977138519287,2.792742967605591,1.5509395599365234,1.289164423942566,4.109297752380371,3.1662678718566895,3.874105215072632,3.256704807281494,3.3818798065185547,1.072690725326538,4.108405113220215,1.9610096216201782,1.479962706565857,3.6821446418762207,0.2181844413280487,2.8921279907226562,3.686720848083496,-0.7142086029052734,2.0952441692352295,0.8135166168212891,0.6207232475280762,1.281388759613037,3.7025630474090576,-1.6905444860458374,3.1810038089752197,-0.8683962821960449,3.4039306640625,7.52048921585083,2.621124744415283,1.103653907775879,3.3300423622131348,3.477642297744751,1.2976621389389038,3.3509716987609863,3.663447380065918,4.181016445159912,3.4627223014831543,3.9066321849823,3.4653208255767822,1.1215901374816895,3.8581998348236084,1.1179370880126953,1.3661885261535645,3.3420629501342773,7.075042247772217,0.8110179305076599,-1.0522996187210083,3.9320831298828125,3.3806464672088623,1.1340539455413818,3.465299129486084,3.440056562423706,0.6564286351203918,2.9880781173706055,3.6443564891815186,3.8834609985351562,1.3125636577606201,-1.0639235973358154,0.6194071769714355,2.5374884605407715,3.471078395843506,1.1179827451705933,2.3514413833618164,2.311180830001831,4.100872993469238,2.1095938682556152,0.5161434412002563,1.2654736042022705,4.173083305358887,-0.8483718633651733,1.279410481452942,-0.4289308488368988,-0.6320636868476868,-0.060922473669052124,3.23087477684021,1.3472713232040405,0.6454150080680847,3.5124313831329346,4.089076042175293,1.7935073375701904,2.679926633834839,1.7193305492401123,3.4450080394744873,0.5817615389823914,3.9874136447906494,-1.0217945575714111,3.340174674987793],\"yaxis\":\"y\",\"type\":\"scattergl\"},{\"hovertemplate\":\"\\u0412\\u0438\\u0434 \\u041d\\u041f\\u0410=\\u041f\\u0440\\u0438\\u043a\\u0430\\u0437, \\u0444\\u0435\\u0434\\u0435\\u0440\\u0430\\u043b\\u044c\\u043d\\u044b\\u0439 \\u0443\\u0440\\u043e\\u0432\\u0435\\u043d\\u044c, \\u043e\\u0440\\u0433\\u0430\\u043d\\u044b \\u0438\\u0441\\u043f\\u043e\\u043b\\u043d\\u0438\\u0442\\u0435\\u043b\\u044c\\u043d\\u043e\\u0439 \\u0432\\u043b\\u0430\\u0441\\u0442\\u0438\\u003cbr\\u003e0=%{x}\\u003cbr\\u003e1=%{y}\\u003cextra\\u003e\\u003c\\u002fextra\\u003e\",\"legendgroup\":\"\\u041f\\u0440\\u0438\\u043a\\u0430\\u0437, \\u0444\\u0435\\u0434\\u0435\\u0440\\u0430\\u043b\\u044c\\u043d\\u044b\\u0439 \\u0443\\u0440\\u043e\\u0432\\u0435\\u043d\\u044c, \\u043e\\u0440\\u0433\\u0430\\u043d\\u044b \\u0438\\u0441\\u043f\\u043e\\u043b\\u043d\\u0438\\u0442\\u0435\\u043b\\u044c\\u043d\\u043e\\u0439 \\u0432\\u043b\\u0430\\u0441\\u0442\\u0438\",\"marker\":{\"color\":\"#636efa\",\"symbol\":\"circle\"},\"mode\":\"markers\",\"name\":\"\\u041f\\u0440\\u0438\\u043a\\u0430\\u0437, \\u0444\\u0435\\u0434\\u0435\\u0440\\u0430\\u043b\\u044c\\u043d\\u044b\\u0439 \\u0443\\u0440\\u043e\\u0432\\u0435\\u043d\\u044c, \\u043e\\u0440\\u0433\\u0430\\u043d\\u044b \\u0438\\u0441\\u043f\\u043e\\u043b\\u043d\\u0438\\u0442\\u0435\\u043b\\u044c\\u043d\\u043e\\u0439 \\u0432\\u043b\\u0430\\u0441\\u0442\\u0438\",\"showlegend\":true,\"x\":[-9.957376480102539,-8.949216842651367,-11.027205467224121,-9.878758430480957,-8.833426475524902,-11.293867111206055,-8.203899383544922,-11.91922664642334,-8.596887588500977,-11.321126937866211,-10.292213439941406,-10.043383598327637,-10.979637145996094,-10.540558815002441,-10.370696067810059,-9.210078239440918,-11.863370895385742,-9.754067420959473,-10.627311706542969,-11.032357215881348,-7.014272212982178,-11.221742630004883,-10.380338668823242,-8.651732444763184,-9.599781036376953,-9.546730041503906,-10.58338737487793,-8.399578094482422,-9.346973419189453,-9.28882122039795,-10.913473129272461,-10.747238159179688,-10.998332977294922,-10.348548889160156,-10.688922882080078,-10.983245849609375,-9.535454750061035,-11.927226066589355,-8.342079162597656,-10.334569931030273,-10.644941329956055,-11.063051223754883,-9.099152565002441,-8.476250648498535,-9.436775207519531,-11.275806427001953,-8.628355026245117,-10.80242919921875,-8.262335777282715,-10.672764778137207,-8.94958209991455,-11.203025817871094,-9.880423545837402,-10.685908317565918,-7.701459884643555,-9.052058219909668,-10.067082405090332,-8.572343826293945,-9.595195770263672,-9.51616382598877,-11.321499824523926,-10.488868713378906,-7.627319812774658,-9.667811393737793,-11.29834270477295,-10.433420181274414,-9.64794921875,-10.23335075378418,-9.992213249206543,-10.001413345336914,-8.995429992675781,-8.8971529006958,-11.35507583618164,-11.00244140625,-8.726598739624023,-9.160181999206543,-9.099855422973633,-10.167281150817871,-9.590487480163574,-10.95487117767334,-9.905989646911621,-8.103907585144043,-10.896387100219727,-7.996528148651123,-10.10169506072998,-10.657183647155762,-9.64475154876709,-10.927133560180664,-11.91369915008545,-11.198116302490234,-8.716241836547852,-8.716828346252441,-11.441524505615234,-11.052480697631836,-11.326085090637207,-11.88996696472168,-9.761397361755371,-10.513179779052734,-10.944396018981934,-10.796805381774902,-9.37324333190918,-8.39073657989502,-11.100191116333008,-8.236481666564941,-10.14856243133545,-8.606681823730469,-11.90536880493164,-7.869165897369385,-11.850892066955566,-9.893762588500977,-10.815526962280273,-10.715575218200684],\"xaxis\":\"x\",\"y\":[1.9158902168273926,1.4264321327209473,3.7679343223571777,3.1021907329559326,1.740849494934082,3.766003131866455,1.3554989099502563,2.9335784912109375,1.4943588972091675,3.7789738178253174,3.6877517700195312,4.014626979827881,3.880615472793579,4.042149066925049,3.357287645339966,2.1144628524780273,2.943772554397583,2.673302173614502,3.682945966720581,3.785029172897339,0.6603604555130005,3.8192994594573975,3.2549760341644287,1.7264189720153809,1.6382399797439575,2.4281105995178223,1.4256048202514648,1.5969451665878296,1.9990099668502808,2.0757362842559814,3.852750062942505,3.686009407043457,3.855598211288452,3.1868736743927,3.5931272506713867,2.6678884029388428,1.970729112625122,2.9178173542022705,1.4728364944458008,2.8546690940856934,4.075884819030762,3.7948861122131348,1.5492780208587646,1.3508071899414062,2.6708052158355713,3.787839651107788,1.5945295095443726,3.630524158477783,1.560490608215332,3.3954410552978516,2.0104992389678955,3.8522093296051025,1.8064974546432495,3.173063039779663,7.981903076171875,1.5944715738296509,1.9126020669937134,1.518472671508789,2.9019882678985596,2.357428550720215,3.9752261638641357,2.3169195652008057,8.096840858459473,2.290327787399292,3.9767613410949707,3.366075277328491,2.534550189971924,3.262451410293579,2.679961681365967,1.743376612663269,1.5991328954696655,1.4512659311294556,4.0245866775512695,3.9929463863372803,1.435276746749878,5.17350959777832,1.6187909841537476,2.941124439239502,2.061048746109009,3.6552212238311768,2.2880001068115234,1.512840747833252,2.0150034427642822,1.4564759731292725,2.09470272064209,2.9910120964050293,2.694565534591675,2.5164425373077393,2.9993417263031006,3.82528018951416,1.799895167350769,1.4315829277038574,3.913541793823242,1.9369968175888062,3.1973788738250732,2.8756606578826904,3.2837677001953125,3.484287977218628,2.4775733947753906,3.567747116088867,1.3833818435668945,1.576271891593933,3.900630235671997,1.1731029748916626,3.51814341545105,1.2050751447677612,2.888155937194824,0.9669069647789001,2.870455503463745,2.6448471546173096,3.2806556224823,1.6235538721084595],\"yaxis\":\"y\",\"type\":\"scattergl\"},{\"hovertemplate\":\"\\u0412\\u0438\\u0434 \\u041d\\u041f\\u0410=\\u041f\\u043e\\u0441\\u0442\\u0430\\u043d\\u043e\\u0432\\u043b\\u0435\\u043d\\u0438\\u0435, \\u0440\\u0435\\u0433\\u0438\\u043e\\u043d\\u0430\\u043b\\u044c\\u043d\\u044b\\u0439 \\u0443\\u0440\\u043e\\u0432\\u0435\\u043d\\u044c, \\u043e\\u0440\\u0433\\u0430\\u043d\\u044b \\u0438\\u0441\\u043f\\u043e\\u043b\\u043d\\u0438\\u0442\\u0435\\u043b\\u044c\\u043d\\u043e\\u0439 \\u0432\\u043b\\u0430\\u0441\\u0442\\u0438\\u003cbr\\u003e0=%{x}\\u003cbr\\u003e1=%{y}\\u003cextra\\u003e\\u003c\\u002fextra\\u003e\",\"legendgroup\":\"\\u041f\\u043e\\u0441\\u0442\\u0430\\u043d\\u043e\\u0432\\u043b\\u0435\\u043d\\u0438\\u0435, \\u0440\\u0435\\u0433\\u0438\\u043e\\u043d\\u0430\\u043b\\u044c\\u043d\\u044b\\u0439 \\u0443\\u0440\\u043e\\u0432\\u0435\\u043d\\u044c, \\u043e\\u0440\\u0433\\u0430\\u043d\\u044b \\u0438\\u0441\\u043f\\u043e\\u043b\\u043d\\u0438\\u0442\\u0435\\u043b\\u044c\\u043d\\u043e\\u0439 \\u0432\\u043b\\u0430\\u0441\\u0442\\u0438\",\"marker\":{\"color\":\"#EF553B\",\"symbol\":\"circle\"},\"mode\":\"markers\",\"name\":\"\\u041f\\u043e\\u0441\\u0442\\u0430\\u043d\\u043e\\u0432\\u043b\\u0435\\u043d\\u0438\\u0435, \\u0440\\u0435\\u0433\\u0438\\u043e\\u043d\\u0430\\u043b\\u044c\\u043d\\u044b\\u0439 \\u0443\\u0440\\u043e\\u0432\\u0435\\u043d\\u044c, \\u043e\\u0440\\u0433\\u0430\\u043d\\u044b \\u0438\\u0441\\u043f\\u043e\\u043b\\u043d\\u0438\\u0442\\u0435\\u043b\\u044c\\u043d\\u043e\\u0439 \\u0432\\u043b\\u0430\\u0441\\u0442\\u0438\",\"showlegend\":true,\"x\":[8.751941680908203,8.789010047912598,8.37544059753418,9.222700119018555,6.434193134307861,8.433223724365234,8.570422172546387,8.625731468200684,8.585053443908691,9.47922134399414,9.482372283935547,9.395127296447754,7.903168678283691,9.35621452331543,8.74551773071289,9.484781265258789,9.112183570861816,8.644486427307129,9.526636123657227,9.467041015625,9.43234920501709,8.562559127807617,7.922062397003174,8.757400512695312,9.504817008972168,9.51561450958252,8.6345796585083,9.275349617004395,8.791593551635742,8.050129890441895,8.593973159790039,8.3487548828125,8.632203102111816,9.07315731048584,8.554698944091797,8.757745742797852,8.312320709228516,9.505449295043945,8.284011840820312,8.684667587280273,8.548871040344238,8.73903751373291,9.383362770080566,8.564552307128906,9.335472106933594,8.665326118469238,9.536863327026367,8.714322090148926,9.509629249572754,9.463205337524414,9.308762550354004,7.919133186340332,8.547908782958984,9.609977722167969,9.260035514831543,8.49155330657959,9.16971206665039,7.874001502990723,9.493624687194824,8.530915260314941,8.578097343444824,9.415497779846191,9.212374687194824],\"xaxis\":\"x\",\"y\":[-3.4831323623657227,-3.7975831031799316,-3.8359909057617188,-3.1096935272216797,-3.0499820709228516,-1.980329990386963,-3.7656238079071045,-3.7332515716552734,-3.703301191329956,-2.9160068035125732,-2.9439897537231445,-2.993009567260742,-2.614164113998413,-2.8211703300476074,-3.712212085723877,-2.936734437942505,-3.168519973754883,-3.7145090103149414,-2.9447193145751953,-2.9432995319366455,-2.9670517444610596,-3.7054312229156494,-3.451795816421509,-2.1167116165161133,-3.0140633583068848,-2.9486865997314453,-3.707298517227173,-2.561211585998535,-2.1501410007476807,-2.838416337966919,-2.1104257106781006,-3.1856491565704346,-3.709117889404297,-3.428619623184204,-3.670867681503296,-3.74003005027771,-3.05220103263855,-2.9320268630981445,-3.2408509254455566,-2.0480153560638428,-2.6154351234436035,-2.305314302444458,-2.9388699531555176,-3.67244553565979,-2.9671878814697266,-3.491644859313965,-2.9337613582611084,-2.2542004585266113,-2.9167428016662598,-2.718233823776245,-2.838247537612915,-2.633695363998413,-3.5822386741638184,-2.955030679702759,-2.94868540763855,-3.604417562484741,-3.108340263366699,-3.424177408218384,-2.9544146060943604,-3.5106146335601807,-3.7026114463806152,-2.9083709716796875,-3.0967156887054443],\"yaxis\":\"y\",\"type\":\"scattergl\"},{\"hovertemplate\":\"\\u0412\\u0438\\u0434 \\u041d\\u041f\\u0410=\\u0423\\u043a\\u0430\\u0437, \\u0444\\u0435\\u0434\\u0435\\u0440\\u0430\\u043b\\u044c\\u043d\\u044b\\u0439 \\u0443\\u0440\\u043e\\u0432\\u0435\\u043d\\u044c, \\u0433\\u043b\\u0430\\u0432\\u0430 \\u0438\\u0441\\u043f\\u043e\\u043b\\u043d\\u0438\\u0442\\u0435\\u043b\\u044c\\u043d\\u043e\\u0439 \\u0432\\u043b\\u0430\\u0441\\u0442\\u0438\\u003cbr\\u003e0=%{x}\\u003cbr\\u003e1=%{y}\\u003cextra\\u003e\\u003c\\u002fextra\\u003e\",\"legendgroup\":\"\\u0423\\u043a\\u0430\\u0437, \\u0444\\u0435\\u0434\\u0435\\u0440\\u0430\\u043b\\u044c\\u043d\\u044b\\u0439 \\u0443\\u0440\\u043e\\u0432\\u0435\\u043d\\u044c, \\u0433\\u043b\\u0430\\u0432\\u0430 \\u0438\\u0441\\u043f\\u043e\\u043b\\u043d\\u0438\\u0442\\u0435\\u043b\\u044c\\u043d\\u043e\\u0439 \\u0432\\u043b\\u0430\\u0441\\u0442\\u0438\",\"marker\":{\"color\":\"#00cc96\",\"symbol\":\"circle\"},\"mode\":\"markers\",\"name\":\"\\u0423\\u043a\\u0430\\u0437, \\u0444\\u0435\\u0434\\u0435\\u0440\\u0430\\u043b\\u044c\\u043d\\u044b\\u0439 \\u0443\\u0440\\u043e\\u0432\\u0435\\u043d\\u044c, \\u0433\\u043b\\u0430\\u0432\\u0430 \\u0438\\u0441\\u043f\\u043e\\u043b\\u043d\\u0438\\u0442\\u0435\\u043b\\u044c\\u043d\\u043e\\u0439 \\u0432\\u043b\\u0430\\u0441\\u0442\\u0438\",\"showlegend\":true,\"x\":[-0.3729074001312256,-0.3965044915676117,-0.3671974241733551,-0.395906537771225,-0.40132004022598267,-0.36472153663635254,-3.7725720405578613,-3.758620262145996,-0.40339595079421997,-0.3950675427913666,-0.4070064425468445,-0.3629843294620514,-0.3838077783584595,-0.3387901782989502,-0.36934083700180054,-0.3959559202194214,-0.3928722143173218,-0.37932437658309937,-0.3732697367668152,-0.38886967301368713,-0.3856770992279053,-0.38529351353645325,-0.37964126467704773,-4.085724353790283,-3.7289321422576904,-0.3823736310005188,-0.3912826180458069,-0.3648283779621124,-0.40137097239494324,-4.676416397094727,-0.3791711628437042,-4.318517684936523,-4.130233287811279,-0.364327609539032,-3.87727689743042,-0.3965679407119751,-0.3809390366077423,-3.934501886367798,-0.34222090244293213,-0.33583956956863403,-0.3693825304508209,-0.4260163903236389,-0.3684844672679901,-0.39289772510528564,-0.4158352017402649,-0.3654009997844696,-0.3971366286277771,-4.760125637054443,-0.392611026763916,-0.37463244795799255,-0.3496229648590088,-0.38159415125846863,-3.7480998039245605,-0.3778146803379059,-3.7710461616516113,-0.38444358110427856,-0.3893008828163147,-0.4018154442310333,-0.3832440674304962,-0.41259780526161194,-3.8834266662597656,-0.3858645260334015,-0.32959097623825073,-0.39415213465690613,-0.3841370940208435,-3.7347192764282227],\"xaxis\":\"x\",\"y\":[-9.449934959411621,-10.392324447631836,-9.755196571350098,-9.616796493530273,-9.356667518615723,-9.571123123168945,-4.743539333343506,-4.780715465545654,-9.567060470581055,-10.67704963684082,-9.96805477142334,-9.587502479553223,-9.290348052978516,-10.193984985351562,-10.515010833740234,-9.896632194519043,-10.707673072814941,-9.541275978088379,-10.594244003295898,-9.523649215698242,-10.690210342407227,-10.585319519042969,-9.43565845489502,-4.376171588897705,-4.814001083374023,-10.4724702835083,-10.049864768981934,-10.52734661102295,-10.026275634765625,-3.873319387435913,-9.672237396240234,-4.202385902404785,-4.269702434539795,-9.705686569213867,-4.73197603225708,-10.020317077636719,-10.569663047790527,-4.69122314453125,-10.32380199432373,-10.008971214294434,-9.384088516235352,-10.764006614685059,-9.048357963562012,-10.02857494354248,-10.289684295654297,-10.462859153747559,-10.0152006149292,-3.7010841369628906,-10.61613655090332,-9.730062484741211,-9.883810043334961,-9.720359802246094,-4.76598596572876,-10.652477264404297,-4.757521629333496,-10.694151878356934,-10.669713973999023,-10.61633586883545,-10.68000602722168,-10.813632011413574,-4.721127510070801,-10.666279792785645,-10.037297248840332,-10.63298225402832,-10.62409782409668,-4.789655685424805],\"yaxis\":\"y\",\"type\":\"scattergl\"},{\"hovertemplate\":\"\\u0412\\u0438\\u0434 \\u041d\\u041f\\u0410=\\u041f\\u043e\\u0441\\u0442\\u0430\\u043d\\u043e\\u0432\\u043b\\u0435\\u043d\\u0438\\u0435, \\u0440\\u0435\\u0433\\u0438\\u043e\\u043d\\u0430\\u043b\\u044c\\u043d\\u044b\\u0439 \\u0443\\u0440\\u043e\\u0432\\u0435\\u043d\\u044c, \\u0433\\u043b\\u0430\\u0432\\u0430 \\u0438\\u0441\\u043f\\u043e\\u043b\\u043d\\u0438\\u0442\\u0435\\u043b\\u044c\\u043d\\u043e\\u0439 \\u0432\\u043b\\u0430\\u0441\\u0442\\u0438\\u003cbr\\u003e0=%{x}\\u003cbr\\u003e1=%{y}\\u003cextra\\u003e\\u003c\\u002fextra\\u003e\",\"legendgroup\":\"\\u041f\\u043e\\u0441\\u0442\\u0430\\u043d\\u043e\\u0432\\u043b\\u0435\\u043d\\u0438\\u0435, \\u0440\\u0435\\u0433\\u0438\\u043e\\u043d\\u0430\\u043b\\u044c\\u043d\\u044b\\u0439 \\u0443\\u0440\\u043e\\u0432\\u0435\\u043d\\u044c, \\u0433\\u043b\\u0430\\u0432\\u0430 \\u0438\\u0441\\u043f\\u043e\\u043b\\u043d\\u0438\\u0442\\u0435\\u043b\\u044c\\u043d\\u043e\\u0439 \\u0432\\u043b\\u0430\\u0441\\u0442\\u0438\",\"marker\":{\"color\":\"#ab63fa\",\"symbol\":\"circle\"},\"mode\":\"markers\",\"name\":\"\\u041f\\u043e\\u0441\\u0442\\u0430\\u043d\\u043e\\u0432\\u043b\\u0435\\u043d\\u0438\\u0435, \\u0440\\u0435\\u0433\\u0438\\u043e\\u043d\\u0430\\u043b\\u044c\\u043d\\u044b\\u0439 \\u0443\\u0440\\u043e\\u0432\\u0435\\u043d\\u044c, \\u0433\\u043b\\u0430\\u0432\\u0430 \\u0438\\u0441\\u043f\\u043e\\u043b\\u043d\\u0438\\u0442\\u0435\\u043b\\u044c\\u043d\\u043e\\u0439 \\u0432\\u043b\\u0430\\u0441\\u0442\\u0438\",\"showlegend\":true,\"x\":[4.788547515869141,1.5838000774383545,2.032926559448242,0.8814352750778198,1.7880038022994995,2.2547335624694824,0.15285593271255493,2.571822166442871,3.7745468616485596,1.9458948373794556,3.038053035736084,1.7922195196151733,3.2123029232025146,2.10558819770813,3.884370803833008,3.3432776927948,1.863308072090149,3.9323577880859375,2.7466890811920166,2.5073506832122803,2.3394129276275635,2.4845705032348633,2.1566877365112305,1.7870959043502808,8.155877113342285,1.84149968624115,2.3832685947418213,1.3550812005996704,2.7024500370025635,1.8310062885284424,3.5660459995269775,1.7731088399887085,1.9925694465637207,2.3469672203063965,3.2051219940185547,3.595538377761841,4.106662273406982,3.985830307006836,2.539804220199585,2.5111544132232666,2.218456983566284,2.899388551712036,0.3616444170475006,0.3592386841773987,1.6669458150863647,3.74324369430542,2.578334331512451,0.721093475818634,0.4320962727069855,2.8786802291870117,1.9280134439468384,3.6292829513549805,2.509369134902954,2.7712512016296387,3.3286540508270264,2.7258782386779785,3.1377196311950684,3.097999095916748,1.9683207273483276,1.834450364112854,2.0598742961883545,1.8391114473342896,3.1521477699279785,0.6697519421577454,2.2678561210632324,2.5697805881500244,3.2527942657470703,3.639510154724121,1.5135390758514404,2.141416311264038,3.1570026874542236,2.3506553173065186,2.439574718475342,3.4407992362976074,2.3945884704589844,2.4081804752349854,2.50799560546875,2.6366424560546875,2.6302428245544434,1.9103527069091797,2.4515762329101562,1.710921049118042,2.7381274700164795,1.7276791334152222,2.518500328063965,2.9369313716888428,2.4029672145843506,3.981961965560913,4.007031440734863,2.5108230113983154,3.7536327838897705,0.15475374460220337,2.463099479675293,1.6932291984558105,1.9702014923095703],\"xaxis\":\"x\",\"y\":[-2.427088975906372,0.5393415689468384,0.8672168254852295,1.7640873193740845,0.8821786642074585,-0.14859549701213837,1.375986099243164,-0.15783828496932983,0.6656308770179749,1.138364553451538,0.04934745654463768,1.13926362991333,-0.0332527682185173,1.3003671169281006,0.4567505717277527,0.3597852885723114,1.551451325416565,0.10996689647436142,-0.041179195046424866,0.07504791021347046,-0.28537946939468384,0.8430097699165344,1.0732109546661377,-0.56831294298172,-0.6050386428833008,1.1283851861953735,-0.15525184571743011,1.6799790859222412,-0.040689799934625626,-0.8650804758071899,0.6100689172744751,1.3030556440353394,1.144492506980896,-0.2738378345966339,0.6349619030952454,-0.1992735117673874,-0.44272562861442566,-0.3038984537124634,0.15381158888339996,0.8699403405189514,1.2456635236740112,0.8662303686141968,1.4875422716140747,1.5588033199310303,-2.1620020866394043,0.6566590666770935,1.334108829498291,1.405521273612976,1.4473105669021606,0.9956797957420349,0.7723029255867004,0.7798449397087097,0.721413791179657,-0.11087795346975327,0.6227576732635498,-0.09251778572797775,0.616773247718811,0.6194071173667908,0.9844091534614563,1.2347396612167358,0.5633260011672974,1.620343565940857,1.3679041862487793,1.6503013372421265,-0.2279963493347168,-2.3687353134155273,0.6242800354957581,0.6025654673576355,1.7722598314285278,0.9509903192520142,1.3927102088928223,1.4483437538146973,0.1279163807630539,0.3923857808113098,0.3579040467739105,0.08855362236499786,0.9667004942893982,1.5118712186813354,0.1871606856584549,0.9466082453727722,1.3127466440200806,1.137902855873108,0.16260290145874023,1.2148271799087524,0.26647019386291504,-0.17059756815433502,0.03407234326004982,-0.26956450939178467,-0.35878986120224,0.5866757035255432,-0.1150418296456337,1.3886866569519043,-0.14842769503593445,-0.8341886401176453,0.9917815923690796],\"yaxis\":\"y\",\"type\":\"scattergl\"},{\"hovertemplate\":\"\\u0412\\u0438\\u0434 \\u041d\\u041f\\u0410=\\u0423\\u043a\\u0430\\u0437, \\u0440\\u0435\\u0433\\u0438\\u043e\\u043d\\u0430\\u043b\\u044c\\u043d\\u044b\\u0439 \\u0443\\u0440\\u043e\\u0432\\u0435\\u043d\\u044c, \\u0433\\u043b\\u0430\\u0432\\u0430 \\u0438\\u0441\\u043f\\u043e\\u043b\\u043d\\u0438\\u0442\\u0435\\u043b\\u044c\\u043d\\u043e\\u0439 \\u0432\\u043b\\u0430\\u0441\\u0442\\u0438\\u003cbr\\u003e0=%{x}\\u003cbr\\u003e1=%{y}\\u003cextra\\u003e\\u003c\\u002fextra\\u003e\",\"legendgroup\":\"\\u0423\\u043a\\u0430\\u0437, \\u0440\\u0435\\u0433\\u0438\\u043e\\u043d\\u0430\\u043b\\u044c\\u043d\\u044b\\u0439 \\u0443\\u0440\\u043e\\u0432\\u0435\\u043d\\u044c, \\u0433\\u043b\\u0430\\u0432\\u0430 \\u0438\\u0441\\u043f\\u043e\\u043b\\u043d\\u0438\\u0442\\u0435\\u043b\\u044c\\u043d\\u043e\\u0439 \\u0432\\u043b\\u0430\\u0441\\u0442\\u0438\",\"marker\":{\"color\":\"#FFA15A\",\"symbol\":\"circle\"},\"mode\":\"markers\",\"name\":\"\\u0423\\u043a\\u0430\\u0437, \\u0440\\u0435\\u0433\\u0438\\u043e\\u043d\\u0430\\u043b\\u044c\\u043d\\u044b\\u0439 \\u0443\\u0440\\u043e\\u0432\\u0435\\u043d\\u044c, \\u0433\\u043b\\u0430\\u0432\\u0430 \\u0438\\u0441\\u043f\\u043e\\u043b\\u043d\\u0438\\u0442\\u0435\\u043b\\u044c\\u043d\\u043e\\u0439 \\u0432\\u043b\\u0430\\u0441\\u0442\\u0438\",\"showlegend\":true,\"x\":[-0.16161420941352844,-1.0543047189712524,-1.4415171146392822,-0.6013100743293762,-0.5336477160453796,-0.9941301941871643,-1.4733307361602783,-0.6998114585876465,-0.4971344769001007,-0.9414296746253967,-0.29029977321624756,-0.7267960906028748,-0.8240239024162292,-0.6141547560691833,-0.7749958634376526,-0.4929419457912445,-0.808382511138916,-0.4835123121738434,-1.450878620147705,-0.8802647590637207,-0.6394757628440857,-1.7664790153503418,-2.5165343284606934,-2.5963075160980225,-3.3423924446105957,-1.0209054946899414,-1.3283610343933105,-0.42798566818237305,-0.44548845291137695,-1.5376116037368774,-0.7898792028427124,-1.590904951095581,-1.0417256355285645,-0.526473343372345,-1.4026848077774048,-0.9808534383773804,-2.529155731201172,-0.29827526211738586,-1.1487935781478882,-0.4797435700893402,-0.8951128721237183,-1.1890537738800049,-1.0059477090835571,-1.1912996768951416,-1.0269875526428223,-1.4846279621124268,-1.001576542854309,2.2042746543884277,-0.29121455550193787,-0.6850313544273376,-1.7345174551010132,-1.6884441375732422,-0.6861024498939514,-0.5609850883483887,-1.3904767036437988,-7.236396312713623,-2.2813990116119385,-0.6984162330627441,-3.6880605220794678,-1.0681828260421753,-0.7080092430114746,-0.8624696135520935,3.2579269409179688,-1.3653267621994019,-0.8614258170127869,-0.7629848122596741,-0.32775625586509705,-0.6763609051704407,-1.1581592559814453,-0.5742151141166687,-0.7258374094963074,-1.8194737434387207,-0.7106778621673584,-1.3319432735443115,-5.209980010986328,-1.2907472848892212,-0.6225764751434326,-0.6570644378662109,-1.4801751375198364,-1.5637884140014648,-0.9590946435928345,-1.002358078956604,-0.9771543741226196,-1.1659870147705078,-0.8887613415718079,-1.0198049545288086,-1.3920462131500244,-1.5171269178390503,-1.4809060096740723,1.5294979810714722,-2.166182518005371,-1.5740714073181152,-0.6788379549980164,-1.554136037826538],\"xaxis\":\"x\",\"y\":[-5.292675018310547,-4.00371789932251,-3.429713487625122,-5.726656913757324,-4.246943473815918,-5.175705432891846,-3.0018885135650635,-5.669486999511719,-4.051987171173096,-5.083292007446289,-3.94469952583313,-5.894449234008789,-4.483752250671387,-4.999873638153076,-4.0495686531066895,-6.191176891326904,-4.611822128295898,-4.223268508911133,-3.102745532989502,-5.426384925842285,-5.64639949798584,-1.9977236986160278,-1.7098572254180908,-1.1023380756378174,-0.8012953400611877,-4.237306118011475,-5.419144630432129,-4.538078784942627,-5.707208156585693,-2.9418578147888184,-5.467104434967041,-5.793770790100098,-4.621682643890381,-6.242042541503906,-3.7366878986358643,-6.642665386199951,-1.6723042726516724,-4.243232250213623,-3.798110008239746,-6.475480556488037,-4.602763652801514,0.9432435035705566,-5.822362899780273,-3.1975998878479004,-1.312076449394226,-2.7904558181762695,-4.826286792755127,0.21912285685539246,-4.323570728302002,-5.8971686363220215,-2.4122633934020996,-2.447495698928833,-6.46201753616333,-4.033690929412842,-3.419280529022217,0.9005963206291199,-1.765366792678833,-5.894555568695068,-1.650833010673523,-3.7589495182037354,-6.270019054412842,-5.581282615661621,-0.5474464893341064,-5.388075828552246,-5.045978546142578,-6.715131759643555,-4.369761943817139,-4.479750156402588,-4.522085666656494,-5.651688098907471,-5.868854522705078,-1.9036787748336792,-5.968827724456787,-3.2802224159240723,-0.24788795411586761,-1.4988716840744019,-5.903786659240723,-5.694753646850586,-2.9584121704101562,-5.556202411651611,-5.093472480773926,-4.8724775314331055,-4.798157691955566,-3.462144374847412,-6.2004194259643555,-3.6660072803497314,-3.5358829498291016,-2.7403573989868164,-3.2410552501678467,-1.2360358238220215,-2.013014078140259,-2.971193552017212,-5.655561447143555,-2.4572739601135254],\"yaxis\":\"y\",\"type\":\"scattergl\"}],                        {\"template\":{\"data\":{\"histogram2dcontour\":[{\"type\":\"histogram2dcontour\",\"colorbar\":{\"outlinewidth\":0,\"ticks\":\"\"},\"colorscale\":[[0.0,\"#0d0887\"],[0.1111111111111111,\"#46039f\"],[0.2222222222222222,\"#7201a8\"],[0.3333333333333333,\"#9c179e\"],[0.4444444444444444,\"#bd3786\"],[0.5555555555555556,\"#d8576b\"],[0.6666666666666666,\"#ed7953\"],[0.7777777777777778,\"#fb9f3a\"],[0.8888888888888888,\"#fdca26\"],[1.0,\"#f0f921\"]]}],\"choropleth\":[{\"type\":\"choropleth\",\"colorbar\":{\"outlinewidth\":0,\"ticks\":\"\"}}],\"histogram2d\":[{\"type\":\"histogram2d\",\"colorbar\":{\"outlinewidth\":0,\"ticks\":\"\"},\"colorscale\":[[0.0,\"#0d0887\"],[0.1111111111111111,\"#46039f\"],[0.2222222222222222,\"#7201a8\"],[0.3333333333333333,\"#9c179e\"],[0.4444444444444444,\"#bd3786\"],[0.5555555555555556,\"#d8576b\"],[0.6666666666666666,\"#ed7953\"],[0.7777777777777778,\"#fb9f3a\"],[0.8888888888888888,\"#fdca26\"],[1.0,\"#f0f921\"]]}],\"heatmap\":[{\"type\":\"heatmap\",\"colorbar\":{\"outlinewidth\":0,\"ticks\":\"\"},\"colorscale\":[[0.0,\"#0d0887\"],[0.1111111111111111,\"#46039f\"],[0.2222222222222222,\"#7201a8\"],[0.3333333333333333,\"#9c179e\"],[0.4444444444444444,\"#bd3786\"],[0.5555555555555556,\"#d8576b\"],[0.6666666666666666,\"#ed7953\"],[0.7777777777777778,\"#fb9f3a\"],[0.8888888888888888,\"#fdca26\"],[1.0,\"#f0f921\"]]}],\"heatmapgl\":[{\"type\":\"heatmapgl\",\"colorbar\":{\"outlinewidth\":0,\"ticks\":\"\"},\"colorscale\":[[0.0,\"#0d0887\"],[0.1111111111111111,\"#46039f\"],[0.2222222222222222,\"#7201a8\"],[0.3333333333333333,\"#9c179e\"],[0.4444444444444444,\"#bd3786\"],[0.5555555555555556,\"#d8576b\"],[0.6666666666666666,\"#ed7953\"],[0.7777777777777778,\"#fb9f3a\"],[0.8888888888888888,\"#fdca26\"],[1.0,\"#f0f921\"]]}],\"contourcarpet\":[{\"type\":\"contourcarpet\",\"colorbar\":{\"outlinewidth\":0,\"ticks\":\"\"}}],\"contour\":[{\"type\":\"contour\",\"colorbar\":{\"outlinewidth\":0,\"ticks\":\"\"},\"colorscale\":[[0.0,\"#0d0887\"],[0.1111111111111111,\"#46039f\"],[0.2222222222222222,\"#7201a8\"],[0.3333333333333333,\"#9c179e\"],[0.4444444444444444,\"#bd3786\"],[0.5555555555555556,\"#d8576b\"],[0.6666666666666666,\"#ed7953\"],[0.7777777777777778,\"#fb9f3a\"],[0.8888888888888888,\"#fdca26\"],[1.0,\"#f0f921\"]]}],\"surface\":[{\"type\":\"surface\",\"colorbar\":{\"outlinewidth\":0,\"ticks\":\"\"},\"colorscale\":[[0.0,\"#0d0887\"],[0.1111111111111111,\"#46039f\"],[0.2222222222222222,\"#7201a8\"],[0.3333333333333333,\"#9c179e\"],[0.4444444444444444,\"#bd3786\"],[0.5555555555555556,\"#d8576b\"],[0.6666666666666666,\"#ed7953\"],[0.7777777777777778,\"#fb9f3a\"],[0.8888888888888888,\"#fdca26\"],[1.0,\"#f0f921\"]]}],\"mesh3d\":[{\"type\":\"mesh3d\",\"colorbar\":{\"outlinewidth\":0,\"ticks\":\"\"}}],\"scatter\":[{\"fillpattern\":{\"fillmode\":\"overlay\",\"size\":10,\"solidity\":0.2},\"type\":\"scatter\"}],\"parcoords\":[{\"type\":\"parcoords\",\"line\":{\"colorbar\":{\"outlinewidth\":0,\"ticks\":\"\"}}}],\"scatterpolargl\":[{\"type\":\"scatterpolargl\",\"marker\":{\"colorbar\":{\"outlinewidth\":0,\"ticks\":\"\"}}}],\"bar\":[{\"error_x\":{\"color\":\"#2a3f5f\"},\"error_y\":{\"color\":\"#2a3f5f\"},\"marker\":{\"line\":{\"color\":\"#E5ECF6\",\"width\":0.5},\"pattern\":{\"fillmode\":\"overlay\",\"size\":10,\"solidity\":0.2}},\"type\":\"bar\"}],\"scattergeo\":[{\"type\":\"scattergeo\",\"marker\":{\"colorbar\":{\"outlinewidth\":0,\"ticks\":\"\"}}}],\"scatterpolar\":[{\"type\":\"scatterpolar\",\"marker\":{\"colorbar\":{\"outlinewidth\":0,\"ticks\":\"\"}}}],\"histogram\":[{\"marker\":{\"pattern\":{\"fillmode\":\"overlay\",\"size\":10,\"solidity\":0.2}},\"type\":\"histogram\"}],\"scattergl\":[{\"type\":\"scattergl\",\"marker\":{\"colorbar\":{\"outlinewidth\":0,\"ticks\":\"\"}}}],\"scatter3d\":[{\"type\":\"scatter3d\",\"line\":{\"colorbar\":{\"outlinewidth\":0,\"ticks\":\"\"}},\"marker\":{\"colorbar\":{\"outlinewidth\":0,\"ticks\":\"\"}}}],\"scattermapbox\":[{\"type\":\"scattermapbox\",\"marker\":{\"colorbar\":{\"outlinewidth\":0,\"ticks\":\"\"}}}],\"scatterternary\":[{\"type\":\"scatterternary\",\"marker\":{\"colorbar\":{\"outlinewidth\":0,\"ticks\":\"\"}}}],\"scattercarpet\":[{\"type\":\"scattercarpet\",\"marker\":{\"colorbar\":{\"outlinewidth\":0,\"ticks\":\"\"}}}],\"carpet\":[{\"aaxis\":{\"endlinecolor\":\"#2a3f5f\",\"gridcolor\":\"white\",\"linecolor\":\"white\",\"minorgridcolor\":\"white\",\"startlinecolor\":\"#2a3f5f\"},\"baxis\":{\"endlinecolor\":\"#2a3f5f\",\"gridcolor\":\"white\",\"linecolor\":\"white\",\"minorgridcolor\":\"white\",\"startlinecolor\":\"#2a3f5f\"},\"type\":\"carpet\"}],\"table\":[{\"cells\":{\"fill\":{\"color\":\"#EBF0F8\"},\"line\":{\"color\":\"white\"}},\"header\":{\"fill\":{\"color\":\"#C8D4E3\"},\"line\":{\"color\":\"white\"}},\"type\":\"table\"}],\"barpolar\":[{\"marker\":{\"line\":{\"color\":\"#E5ECF6\",\"width\":0.5},\"pattern\":{\"fillmode\":\"overlay\",\"size\":10,\"solidity\":0.2}},\"type\":\"barpolar\"}],\"pie\":[{\"automargin\":true,\"type\":\"pie\"}]},\"layout\":{\"autotypenumbers\":\"strict\",\"colorway\":[\"#636efa\",\"#EF553B\",\"#00cc96\",\"#ab63fa\",\"#FFA15A\",\"#19d3f3\",\"#FF6692\",\"#B6E880\",\"#FF97FF\",\"#FECB52\"],\"font\":{\"color\":\"#2a3f5f\"},\"hovermode\":\"closest\",\"hoverlabel\":{\"align\":\"left\"},\"paper_bgcolor\":\"white\",\"plot_bgcolor\":\"#E5ECF6\",\"polar\":{\"bgcolor\":\"#E5ECF6\",\"angularaxis\":{\"gridcolor\":\"white\",\"linecolor\":\"white\",\"ticks\":\"\"},\"radialaxis\":{\"gridcolor\":\"white\",\"linecolor\":\"white\",\"ticks\":\"\"}},\"ternary\":{\"bgcolor\":\"#E5ECF6\",\"aaxis\":{\"gridcolor\":\"white\",\"linecolor\":\"white\",\"ticks\":\"\"},\"baxis\":{\"gridcolor\":\"white\",\"linecolor\":\"white\",\"ticks\":\"\"},\"caxis\":{\"gridcolor\":\"white\",\"linecolor\":\"white\",\"ticks\":\"\"}},\"coloraxis\":{\"colorbar\":{\"outlinewidth\":0,\"ticks\":\"\"}},\"colorscale\":{\"sequential\":[[0.0,\"#0d0887\"],[0.1111111111111111,\"#46039f\"],[0.2222222222222222,\"#7201a8\"],[0.3333333333333333,\"#9c179e\"],[0.4444444444444444,\"#bd3786\"],[0.5555555555555556,\"#d8576b\"],[0.6666666666666666,\"#ed7953\"],[0.7777777777777778,\"#fb9f3a\"],[0.8888888888888888,\"#fdca26\"],[1.0,\"#f0f921\"]],\"sequentialminus\":[[0.0,\"#0d0887\"],[0.1111111111111111,\"#46039f\"],[0.2222222222222222,\"#7201a8\"],[0.3333333333333333,\"#9c179e\"],[0.4444444444444444,\"#bd3786\"],[0.5555555555555556,\"#d8576b\"],[0.6666666666666666,\"#ed7953\"],[0.7777777777777778,\"#fb9f3a\"],[0.8888888888888888,\"#fdca26\"],[1.0,\"#f0f921\"]],\"diverging\":[[0,\"#8e0152\"],[0.1,\"#c51b7d\"],[0.2,\"#de77ae\"],[0.3,\"#f1b6da\"],[0.4,\"#fde0ef\"],[0.5,\"#f7f7f7\"],[0.6,\"#e6f5d0\"],[0.7,\"#b8e186\"],[0.8,\"#7fbc41\"],[0.9,\"#4d9221\"],[1,\"#276419\"]]},\"xaxis\":{\"gridcolor\":\"white\",\"linecolor\":\"white\",\"ticks\":\"\",\"title\":{\"standoff\":15},\"zerolinecolor\":\"white\",\"automargin\":true,\"zerolinewidth\":2},\"yaxis\":{\"gridcolor\":\"white\",\"linecolor\":\"white\",\"ticks\":\"\",\"title\":{\"standoff\":15},\"zerolinecolor\":\"white\",\"automargin\":true,\"zerolinewidth\":2},\"scene\":{\"xaxis\":{\"backgroundcolor\":\"#E5ECF6\",\"gridcolor\":\"white\",\"linecolor\":\"white\",\"showbackground\":true,\"ticks\":\"\",\"zerolinecolor\":\"white\",\"gridwidth\":2},\"yaxis\":{\"backgroundcolor\":\"#E5ECF6\",\"gridcolor\":\"white\",\"linecolor\":\"white\",\"showbackground\":true,\"ticks\":\"\",\"zerolinecolor\":\"white\",\"gridwidth\":2},\"zaxis\":{\"backgroundcolor\":\"#E5ECF6\",\"gridcolor\":\"white\",\"linecolor\":\"white\",\"showbackground\":true,\"ticks\":\"\",\"zerolinecolor\":\"white\",\"gridwidth\":2}},\"shapedefaults\":{\"line\":{\"color\":\"#2a3f5f\"}},\"annotationdefaults\":{\"arrowcolor\":\"#2a3f5f\",\"arrowhead\":0,\"arrowwidth\":1},\"geo\":{\"bgcolor\":\"white\",\"landcolor\":\"#E5ECF6\",\"subunitcolor\":\"white\",\"showland\":true,\"showlakes\":true,\"lakecolor\":\"white\"},\"title\":{\"x\":0.05},\"mapbox\":{\"style\":\"light\"}}},\"xaxis\":{\"anchor\":\"y\",\"domain\":[0.0,1.0],\"title\":{\"text\":\"0\"}},\"yaxis\":{\"anchor\":\"x\",\"domain\":[0.0,1.0],\"title\":{\"text\":\"1\"}},\"legend\":{\"title\":{\"text\":\"\\u0412\\u0438\\u0434 \\u041d\\u041f\\u0410\"},\"tracegroupgap\":0},\"margin\":{\"t\":60}},                        {\"responsive\": true}                    ).then(function(){\n",
              "                            \n",
              "var gd = document.getElementById('567d00d2-1c6f-47fa-8ba9-864a028de856');\n",
              "var x = new MutationObserver(function (mutations, observer) {{\n",
              "        var display = window.getComputedStyle(gd).display;\n",
              "        if (!display || display === 'none') {{\n",
              "            console.log([gd, 'removed!']);\n",
              "            Plotly.purge(gd);\n",
              "            observer.disconnect();\n",
              "        }}\n",
              "}});\n",
              "\n",
              "// Listen for the removal of the full notebook cells\n",
              "var notebookContainer = gd.closest('#notebook-container');\n",
              "if (notebookContainer) {{\n",
              "    x.observe(notebookContainer, {childList: true});\n",
              "}}\n",
              "\n",
              "// Listen for the clearing of the current output cell\n",
              "var outputEl = gd.closest('.output');\n",
              "if (outputEl) {{\n",
              "    x.observe(outputEl, {childList: true});\n",
              "}}\n",
              "\n",
              "                        })                };                            </script>        </div>\n",
              "</body>\n",
              "</html>"
            ]
          },
          "metadata": {}
        }
      ]
    }
  ]
}