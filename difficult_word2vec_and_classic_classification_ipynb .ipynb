{
  "nbformat": 4,
  "nbformat_minor": 0,
  "metadata": {
    "colab": {
      "provenance": []
    },
    "kernelspec": {
      "name": "python3",
      "display_name": "Python 3"
    },
    "language_info": {
      "name": "python"
    }
  },
  "cells": [
    {
      "cell_type": "code",
      "execution_count": null,
      "metadata": {
        "colab": {
          "base_uri": "https://localhost:8080/"
        },
        "id": "OjVagb4r6Fep",
        "outputId": "acd99c88-9d74-40c5-d77d-8fa2c61877a1"
      },
      "outputs": [
        {
          "output_type": "stream",
          "name": "stdout",
          "text": [
            "Mounted at /content/drive\n"
          ]
        }
      ],
      "source": [
        "from google.colab import drive\n",
        "drive.mount('/content/drive')\n",
        "\n",
        "import numpy as np\n",
        "import pandas as pd\n",
        "import torch\n",
        "import itertools\n",
        "import string\n",
        "import numpy as np\n",
        "from IPython.display import clear_output\n",
        "from matplotlib import pyplot as plt\n",
        "from gensim.models import word2vec\n",
        "from collections import Counter\n",
        "\n",
        "from sklearn.model_selection import train_test_split\n",
        "from sklearn.linear_model import LogisticRegression\n",
        "from sklearn.model_selection import GridSearchCV\n",
        "from sklearn.model_selection import cross_val_score\n",
        "from sklearn.model_selection import train_test_split\n",
        "from sklearn.pipeline import Pipeline\n",
        "from sklearn.feature_extraction.text import TfidfVectorizer\n",
        "from sklearn.linear_model import SGDClassifier\n",
        "\n",
        "from sklearn import metrics\n",
        "from sklearn.model_selection import GridSearchCV\n",
        "\n",
        "from sklearn.ensemble import RandomForestClassifier"
      ]
    },
    {
      "cell_type": "code",
      "source": [
        "df = pd.read_csv('/content/drive/MyDrive/df_difficult_26_01.csv')\n",
        "target_names = list(set(df['doc_name'].tolist()))\n",
        "label2idx = {label: idx for idx, label in enumerate(target_names)}\n",
        "print(label2idx)\n",
        "df['doc_name_enc']=df['doc_name'].replace(label2idx)\n",
        "df"
      ],
      "metadata": {
        "colab": {
          "base_uri": "https://localhost:8080/",
          "height": 635
        },
        "id": "4pD_HTk66LMX",
        "outputId": "1a921a94-892d-4096-ac01-8e1bed0549ad"
      },
      "execution_count": null,
      "outputs": [
        {
          "output_type": "stream",
          "name": "stdout",
          "text": [
            "{'Указ, региональный уровень, глава исполнительной власти': 0, 'Постановление, региональный уровень, законодательный орган': 1, 'Постановление, региональный уровень, органы исполнительной власти': 2, 'Постановление, региональный уровень, правительство': 3, 'Постановление, федеральный уровень, правительство': 4, 'Закон, региональный уровень, законодательный орган': 5, 'Приказ, региональный уровень, органы исполнительной власти': 6, 'Распоряжение, региональный уровень, глава исполнительной власти': 7, 'Распоряжение, федеральный уровень, правительство': 8, 'Указ, федеральный уровень, глава исполнительной власти': 9, 'Распоряжение, региональный уровень, правительство': 10, 'Закон, федеральный уровень, законодательный орган': 11, 'Распоряжение, федеральный уровень, глава исполнительной власти': 12, 'Постановление, региональный уровень, глава исполнительной власти': 13, 'Приказ, федеральный уровень, органы исполнительной власти': 14}\n"
          ]
        },
        {
          "output_type": "execute_result",
          "data": {
            "text/plain": [
              "                                                doc_name  \\\n",
              "0      Распоряжение, федеральный уровень, глава испол...   \n",
              "1      Распоряжение, федеральный уровень, глава испол...   \n",
              "2      Указ, федеральный уровень, глава исполнительно...   \n",
              "3      Распоряжение, федеральный уровень, глава испол...   \n",
              "4      Распоряжение, федеральный уровень, глава испол...   \n",
              "...                                                  ...   \n",
              "22886  Указ, региональный уровень, глава исполнительн...   \n",
              "22887  Указ, региональный уровень, глава исполнительн...   \n",
              "22888  Указ, региональный уровень, глава исполнительн...   \n",
              "22889  Указ, региональный уровень, глава исполнительн...   \n",
              "22890  Указ, региональный уровень, глава исполнительн...   \n",
              "\n",
              "                                                doc_text  \\\n",
              "0      распоряжение президента российской федерации о...   \n",
              "1      распоряжение президента российской федерации о...   \n",
              "2      указ президента российской федерации об освобо...   \n",
              "3      распоряжение президента российской федерации о...   \n",
              "4      распоряжение президента российской федерации о...   \n",
              "...                                                  ...   \n",
              "22886  губернатор орловской области у к аз о мерах по...   \n",
              "22887  ммжхжчмитжкъщ  а  г х м  башкортостан республи...   \n",
              "22888  у к а з губернатора пермского края   об отмене...   \n",
              "22889  у к а з губернатора пермского края   г об утве...   \n",
              "22890  указ об отмене ограничительных мероприятий кар...   \n",
              "\n",
              "                                              text_token  \\\n",
              "0      распоряжение президент российский федерация ус...   \n",
              "1      распоряжение президент российский федерация пр...   \n",
              "2      указ президент российский федерация освобожден...   \n",
              "3      распоряжение президент российский федерация по...   \n",
              "4      распоряжение президент российский федерация по...   \n",
              "...                                                  ...   \n",
              "22886  губернатор орловский область мера проведение к...   \n",
              "22887  ммжхжчмитжкъщий башкортостан республикаь респу...   \n",
              "22888  губернатор пермский край отмена ограничение ка...   \n",
              "22889  губернатор пермский край утверждение порядок п...   \n",
              "22890  указ отмена ограничительный мероприятие карант...   \n",
              "\n",
              "                                      text_token_filtred  \\\n",
              "0      распоряжение президент российский федерация ус...   \n",
              "1      распоряжение президент российский федерация пр...   \n",
              "2      указ президент российский федерация освобожден...   \n",
              "3      распоряжение президент российский федерация по...   \n",
              "4      распоряжение президент российский федерация по...   \n",
              "...                                                  ...   \n",
              "22886  губернатор орловский область мера проведение к...   \n",
              "22887  ммжхжчмитжкъщий башкортостан республикаь респу...   \n",
              "22888  губернатор пермский край отмена ограничение ка...   \n",
              "22889  губернатор пермский край утверждение порядок п...   \n",
              "22890  указ отмена ограничительный мероприятие карант...   \n",
              "\n",
              "                                          text_difficult  doc_name_enc  \n",
              "0      комитет российский федерация установить числен...            12  \n",
              "1      российский федерация контроль оборот наркотик ...            12  \n",
              "2      федерация контроль оборот наркотик освободить ...             9  \n",
              "3      многолетний плодотворный деятельность наградит...            12  \n",
              "4      молодёжь объявить благодарность андропов игорь...            12  \n",
              "...                                                  ...           ...  \n",
              "22886  проживать инвалид ветеран великий отечественны...             0  \n",
              "22887  должность заместитель премьер министр правител...             0  \n",
              "22888  посёлок октябрьский соответствие закон российс...             0  \n",
              "22889  должность пермский край отдельный должность го...             0  \n",
              "22890  область соответствие закон российский федераши...             0  \n",
              "\n",
              "[22891 rows x 6 columns]"
            ],
            "text/html": [
              "\n",
              "  <div id=\"df-0e9b4939-fdbe-4a22-a210-c7e8929aa597\" class=\"colab-df-container\">\n",
              "    <div>\n",
              "<style scoped>\n",
              "    .dataframe tbody tr th:only-of-type {\n",
              "        vertical-align: middle;\n",
              "    }\n",
              "\n",
              "    .dataframe tbody tr th {\n",
              "        vertical-align: top;\n",
              "    }\n",
              "\n",
              "    .dataframe thead th {\n",
              "        text-align: right;\n",
              "    }\n",
              "</style>\n",
              "<table border=\"1\" class=\"dataframe\">\n",
              "  <thead>\n",
              "    <tr style=\"text-align: right;\">\n",
              "      <th></th>\n",
              "      <th>doc_name</th>\n",
              "      <th>doc_text</th>\n",
              "      <th>text_token</th>\n",
              "      <th>text_token_filtred</th>\n",
              "      <th>text_difficult</th>\n",
              "      <th>doc_name_enc</th>\n",
              "    </tr>\n",
              "  </thead>\n",
              "  <tbody>\n",
              "    <tr>\n",
              "      <th>0</th>\n",
              "      <td>Распоряжение, федеральный уровень, глава испол...</td>\n",
              "      <td>распоряжение президента российской федерации о...</td>\n",
              "      <td>распоряжение президент российский федерация ус...</td>\n",
              "      <td>распоряжение президент российский федерация ус...</td>\n",
              "      <td>комитет российский федерация установить числен...</td>\n",
              "      <td>12</td>\n",
              "    </tr>\n",
              "    <tr>\n",
              "      <th>1</th>\n",
              "      <td>Распоряжение, федеральный уровень, глава испол...</td>\n",
              "      <td>распоряжение президента российской федерации о...</td>\n",
              "      <td>распоряжение президент российский федерация пр...</td>\n",
              "      <td>распоряжение президент российский федерация пр...</td>\n",
              "      <td>российский федерация контроль оборот наркотик ...</td>\n",
              "      <td>12</td>\n",
              "    </tr>\n",
              "    <tr>\n",
              "      <th>2</th>\n",
              "      <td>Указ, федеральный уровень, глава исполнительно...</td>\n",
              "      <td>указ президента российской федерации об освобо...</td>\n",
              "      <td>указ президент российский федерация освобожден...</td>\n",
              "      <td>указ президент российский федерация освобожден...</td>\n",
              "      <td>федерация контроль оборот наркотик освободить ...</td>\n",
              "      <td>9</td>\n",
              "    </tr>\n",
              "    <tr>\n",
              "      <th>3</th>\n",
              "      <td>Распоряжение, федеральный уровень, глава испол...</td>\n",
              "      <td>распоряжение президента российской федерации о...</td>\n",
              "      <td>распоряжение президент российский федерация по...</td>\n",
              "      <td>распоряжение президент российский федерация по...</td>\n",
              "      <td>многолетний плодотворный деятельность наградит...</td>\n",
              "      <td>12</td>\n",
              "    </tr>\n",
              "    <tr>\n",
              "      <th>4</th>\n",
              "      <td>Распоряжение, федеральный уровень, глава испол...</td>\n",
              "      <td>распоряжение президента российской федерации о...</td>\n",
              "      <td>распоряжение президент российский федерация по...</td>\n",
              "      <td>распоряжение президент российский федерация по...</td>\n",
              "      <td>молодёжь объявить благодарность андропов игорь...</td>\n",
              "      <td>12</td>\n",
              "    </tr>\n",
              "    <tr>\n",
              "      <th>...</th>\n",
              "      <td>...</td>\n",
              "      <td>...</td>\n",
              "      <td>...</td>\n",
              "      <td>...</td>\n",
              "      <td>...</td>\n",
              "      <td>...</td>\n",
              "    </tr>\n",
              "    <tr>\n",
              "      <th>22886</th>\n",
              "      <td>Указ, региональный уровень, глава исполнительн...</td>\n",
              "      <td>губернатор орловской области у к аз о мерах по...</td>\n",
              "      <td>губернатор орловский область мера проведение к...</td>\n",
              "      <td>губернатор орловский область мера проведение к...</td>\n",
              "      <td>проживать инвалид ветеран великий отечественны...</td>\n",
              "      <td>0</td>\n",
              "    </tr>\n",
              "    <tr>\n",
              "      <th>22887</th>\n",
              "      <td>Указ, региональный уровень, глава исполнительн...</td>\n",
              "      <td>ммжхжчмитжкъщ  а  г х м  башкортостан республи...</td>\n",
              "      <td>ммжхжчмитжкъщий башкортостан республикаь респу...</td>\n",
              "      <td>ммжхжчмитжкъщий башкортостан республикаь респу...</td>\n",
              "      <td>должность заместитель премьер министр правител...</td>\n",
              "      <td>0</td>\n",
              "    </tr>\n",
              "    <tr>\n",
              "      <th>22888</th>\n",
              "      <td>Указ, региональный уровень, глава исполнительн...</td>\n",
              "      <td>у к а з губернатора пермского края   об отмене...</td>\n",
              "      <td>губернатор пермский край отмена ограничение ка...</td>\n",
              "      <td>губернатор пермский край отмена ограничение ка...</td>\n",
              "      <td>посёлок октябрьский соответствие закон российс...</td>\n",
              "      <td>0</td>\n",
              "    </tr>\n",
              "    <tr>\n",
              "      <th>22889</th>\n",
              "      <td>Указ, региональный уровень, глава исполнительн...</td>\n",
              "      <td>у к а з губернатора пермского края   г об утве...</td>\n",
              "      <td>губернатор пермский край утверждение порядок п...</td>\n",
              "      <td>губернатор пермский край утверждение порядок п...</td>\n",
              "      <td>должность пермский край отдельный должность го...</td>\n",
              "      <td>0</td>\n",
              "    </tr>\n",
              "    <tr>\n",
              "      <th>22890</th>\n",
              "      <td>Указ, региональный уровень, глава исполнительн...</td>\n",
              "      <td>указ об отмене ограничительных мероприятий кар...</td>\n",
              "      <td>указ отмена ограничительный мероприятие карант...</td>\n",
              "      <td>указ отмена ограничительный мероприятие карант...</td>\n",
              "      <td>область соответствие закон российский федераши...</td>\n",
              "      <td>0</td>\n",
              "    </tr>\n",
              "  </tbody>\n",
              "</table>\n",
              "<p>22891 rows × 6 columns</p>\n",
              "</div>\n",
              "    <div class=\"colab-df-buttons\">\n",
              "\n",
              "  <div class=\"colab-df-container\">\n",
              "    <button class=\"colab-df-convert\" onclick=\"convertToInteractive('df-0e9b4939-fdbe-4a22-a210-c7e8929aa597')\"\n",
              "            title=\"Convert this dataframe to an interactive table.\"\n",
              "            style=\"display:none;\">\n",
              "\n",
              "  <svg xmlns=\"http://www.w3.org/2000/svg\" height=\"24px\" viewBox=\"0 -960 960 960\">\n",
              "    <path d=\"M120-120v-720h720v720H120Zm60-500h600v-160H180v160Zm220 220h160v-160H400v160Zm0 220h160v-160H400v160ZM180-400h160v-160H180v160Zm440 0h160v-160H620v160ZM180-180h160v-160H180v160Zm440 0h160v-160H620v160Z\"/>\n",
              "  </svg>\n",
              "    </button>\n",
              "\n",
              "  <style>\n",
              "    .colab-df-container {\n",
              "      display:flex;\n",
              "      gap: 12px;\n",
              "    }\n",
              "\n",
              "    .colab-df-convert {\n",
              "      background-color: #E8F0FE;\n",
              "      border: none;\n",
              "      border-radius: 50%;\n",
              "      cursor: pointer;\n",
              "      display: none;\n",
              "      fill: #1967D2;\n",
              "      height: 32px;\n",
              "      padding: 0 0 0 0;\n",
              "      width: 32px;\n",
              "    }\n",
              "\n",
              "    .colab-df-convert:hover {\n",
              "      background-color: #E2EBFA;\n",
              "      box-shadow: 0px 1px 2px rgba(60, 64, 67, 0.3), 0px 1px 3px 1px rgba(60, 64, 67, 0.15);\n",
              "      fill: #174EA6;\n",
              "    }\n",
              "\n",
              "    .colab-df-buttons div {\n",
              "      margin-bottom: 4px;\n",
              "    }\n",
              "\n",
              "    [theme=dark] .colab-df-convert {\n",
              "      background-color: #3B4455;\n",
              "      fill: #D2E3FC;\n",
              "    }\n",
              "\n",
              "    [theme=dark] .colab-df-convert:hover {\n",
              "      background-color: #434B5C;\n",
              "      box-shadow: 0px 1px 3px 1px rgba(0, 0, 0, 0.15);\n",
              "      filter: drop-shadow(0px 1px 2px rgba(0, 0, 0, 0.3));\n",
              "      fill: #FFFFFF;\n",
              "    }\n",
              "  </style>\n",
              "\n",
              "    <script>\n",
              "      const buttonEl =\n",
              "        document.querySelector('#df-0e9b4939-fdbe-4a22-a210-c7e8929aa597 button.colab-df-convert');\n",
              "      buttonEl.style.display =\n",
              "        google.colab.kernel.accessAllowed ? 'block' : 'none';\n",
              "\n",
              "      async function convertToInteractive(key) {\n",
              "        const element = document.querySelector('#df-0e9b4939-fdbe-4a22-a210-c7e8929aa597');\n",
              "        const dataTable =\n",
              "          await google.colab.kernel.invokeFunction('convertToInteractive',\n",
              "                                                    [key], {});\n",
              "        if (!dataTable) return;\n",
              "\n",
              "        const docLinkHtml = 'Like what you see? Visit the ' +\n",
              "          '<a target=\"_blank\" href=https://colab.research.google.com/notebooks/data_table.ipynb>data table notebook</a>'\n",
              "          + ' to learn more about interactive tables.';\n",
              "        element.innerHTML = '';\n",
              "        dataTable['output_type'] = 'display_data';\n",
              "        await google.colab.output.renderOutput(dataTable, element);\n",
              "        const docLink = document.createElement('div');\n",
              "        docLink.innerHTML = docLinkHtml;\n",
              "        element.appendChild(docLink);\n",
              "      }\n",
              "    </script>\n",
              "  </div>\n",
              "\n",
              "\n",
              "<div id=\"df-5e630ad7-15f5-4c81-94bc-95397b42b90d\">\n",
              "  <button class=\"colab-df-quickchart\" onclick=\"quickchart('df-5e630ad7-15f5-4c81-94bc-95397b42b90d')\"\n",
              "            title=\"Suggest charts\"\n",
              "            style=\"display:none;\">\n",
              "\n",
              "<svg xmlns=\"http://www.w3.org/2000/svg\" height=\"24px\"viewBox=\"0 0 24 24\"\n",
              "     width=\"24px\">\n",
              "    <g>\n",
              "        <path d=\"M19 3H5c-1.1 0-2 .9-2 2v14c0 1.1.9 2 2 2h14c1.1 0 2-.9 2-2V5c0-1.1-.9-2-2-2zM9 17H7v-7h2v7zm4 0h-2V7h2v10zm4 0h-2v-4h2v4z\"/>\n",
              "    </g>\n",
              "</svg>\n",
              "  </button>\n",
              "\n",
              "<style>\n",
              "  .colab-df-quickchart {\n",
              "      --bg-color: #E8F0FE;\n",
              "      --fill-color: #1967D2;\n",
              "      --hover-bg-color: #E2EBFA;\n",
              "      --hover-fill-color: #174EA6;\n",
              "      --disabled-fill-color: #AAA;\n",
              "      --disabled-bg-color: #DDD;\n",
              "  }\n",
              "\n",
              "  [theme=dark] .colab-df-quickchart {\n",
              "      --bg-color: #3B4455;\n",
              "      --fill-color: #D2E3FC;\n",
              "      --hover-bg-color: #434B5C;\n",
              "      --hover-fill-color: #FFFFFF;\n",
              "      --disabled-bg-color: #3B4455;\n",
              "      --disabled-fill-color: #666;\n",
              "  }\n",
              "\n",
              "  .colab-df-quickchart {\n",
              "    background-color: var(--bg-color);\n",
              "    border: none;\n",
              "    border-radius: 50%;\n",
              "    cursor: pointer;\n",
              "    display: none;\n",
              "    fill: var(--fill-color);\n",
              "    height: 32px;\n",
              "    padding: 0;\n",
              "    width: 32px;\n",
              "  }\n",
              "\n",
              "  .colab-df-quickchart:hover {\n",
              "    background-color: var(--hover-bg-color);\n",
              "    box-shadow: 0 1px 2px rgba(60, 64, 67, 0.3), 0 1px 3px 1px rgba(60, 64, 67, 0.15);\n",
              "    fill: var(--button-hover-fill-color);\n",
              "  }\n",
              "\n",
              "  .colab-df-quickchart-complete:disabled,\n",
              "  .colab-df-quickchart-complete:disabled:hover {\n",
              "    background-color: var(--disabled-bg-color);\n",
              "    fill: var(--disabled-fill-color);\n",
              "    box-shadow: none;\n",
              "  }\n",
              "\n",
              "  .colab-df-spinner {\n",
              "    border: 2px solid var(--fill-color);\n",
              "    border-color: transparent;\n",
              "    border-bottom-color: var(--fill-color);\n",
              "    animation:\n",
              "      spin 1s steps(1) infinite;\n",
              "  }\n",
              "\n",
              "  @keyframes spin {\n",
              "    0% {\n",
              "      border-color: transparent;\n",
              "      border-bottom-color: var(--fill-color);\n",
              "      border-left-color: var(--fill-color);\n",
              "    }\n",
              "    20% {\n",
              "      border-color: transparent;\n",
              "      border-left-color: var(--fill-color);\n",
              "      border-top-color: var(--fill-color);\n",
              "    }\n",
              "    30% {\n",
              "      border-color: transparent;\n",
              "      border-left-color: var(--fill-color);\n",
              "      border-top-color: var(--fill-color);\n",
              "      border-right-color: var(--fill-color);\n",
              "    }\n",
              "    40% {\n",
              "      border-color: transparent;\n",
              "      border-right-color: var(--fill-color);\n",
              "      border-top-color: var(--fill-color);\n",
              "    }\n",
              "    60% {\n",
              "      border-color: transparent;\n",
              "      border-right-color: var(--fill-color);\n",
              "    }\n",
              "    80% {\n",
              "      border-color: transparent;\n",
              "      border-right-color: var(--fill-color);\n",
              "      border-bottom-color: var(--fill-color);\n",
              "    }\n",
              "    90% {\n",
              "      border-color: transparent;\n",
              "      border-bottom-color: var(--fill-color);\n",
              "    }\n",
              "  }\n",
              "</style>\n",
              "\n",
              "  <script>\n",
              "    async function quickchart(key) {\n",
              "      const quickchartButtonEl =\n",
              "        document.querySelector('#' + key + ' button');\n",
              "      quickchartButtonEl.disabled = true;  // To prevent multiple clicks.\n",
              "      quickchartButtonEl.classList.add('colab-df-spinner');\n",
              "      try {\n",
              "        const charts = await google.colab.kernel.invokeFunction(\n",
              "            'suggestCharts', [key], {});\n",
              "      } catch (error) {\n",
              "        console.error('Error during call to suggestCharts:', error);\n",
              "      }\n",
              "      quickchartButtonEl.classList.remove('colab-df-spinner');\n",
              "      quickchartButtonEl.classList.add('colab-df-quickchart-complete');\n",
              "    }\n",
              "    (() => {\n",
              "      let quickchartButtonEl =\n",
              "        document.querySelector('#df-5e630ad7-15f5-4c81-94bc-95397b42b90d button');\n",
              "      quickchartButtonEl.style.display =\n",
              "        google.colab.kernel.accessAllowed ? 'block' : 'none';\n",
              "    })();\n",
              "  </script>\n",
              "</div>\n",
              "    </div>\n",
              "  </div>\n"
            ]
          },
          "metadata": {},
          "execution_count": 2
        }
      ]
    },
    {
      "cell_type": "code",
      "source": [
        "import gensim.downloader as api\n",
        "print(\"\\n\".join(api.info()['models'].keys()))"
      ],
      "metadata": {
        "colab": {
          "base_uri": "https://localhost:8080/"
        },
        "id": "TvSbm7nj6PvR",
        "outputId": "cae84095-631d-4afc-f884-4bf93dbb7c43"
      },
      "execution_count": null,
      "outputs": [
        {
          "output_type": "stream",
          "name": "stdout",
          "text": [
            "fasttext-wiki-news-subwords-300\n",
            "conceptnet-numberbatch-17-06-300\n",
            "word2vec-ruscorpora-300\n",
            "word2vec-google-news-300\n",
            "glove-wiki-gigaword-50\n",
            "glove-wiki-gigaword-100\n",
            "glove-wiki-gigaword-200\n",
            "glove-wiki-gigaword-300\n",
            "glove-twitter-25\n",
            "glove-twitter-50\n",
            "glove-twitter-100\n",
            "glove-twitter-200\n",
            "__testing_word2vec-matrix-synopsis\n"
          ]
        }
      ]
    },
    {
      "cell_type": "code",
      "source": [
        "word2vec_pre = api.load(\"glove-twitter-50\")\n",
        "tok = df['text_token_filtred'][:3].str.split().tolist()\n",
        "word2vec_pre.most_similar(positive=['президент'])"
      ],
      "metadata": {
        "colab": {
          "base_uri": "https://localhost:8080/"
        },
        "id": "3qDG7Bjj6SXw",
        "outputId": "e060fbe2-c57a-4433-95ce-60a47977aef1"
      },
      "execution_count": null,
      "outputs": [
        {
          "output_type": "stream",
          "name": "stdout",
          "text": [
            "[==================================================] 100.0% 199.5/199.5MB downloaded\n"
          ]
        },
        {
          "output_type": "execute_result",
          "data": {
            "text/plain": [
              "[('премьер-министр', 0.864189863204956),\n",
              " ('путин', 0.8365647196769714),\n",
              " ('глава', 0.8298710584640503),\n",
              " ('заявил', 0.8257015943527222),\n",
              " ('мид', 0.8176457285881042),\n",
              " ('владимир', 0.8131812810897827),\n",
              " ('посол', 0.810960590839386),\n",
              " ('украины', 0.8079652190208435),\n",
              " ('янукович', 0.8058887720108032),\n",
              " ('грузии', 0.8036628365516663)]"
            ]
          },
          "metadata": {},
          "execution_count": 4
        }
      ]
    },
    {
      "cell_type": "markdown",
      "source": [
        "Своя модель"
      ],
      "metadata": {
        "id": "Z1CLcDzI6YZE"
      }
    },
    {
      "cell_type": "code",
      "source": [
        "data_train, data_valid = train_test_split(df, test_size=0.2, random_state=42)"
      ],
      "metadata": {
        "id": "j34IrZ_GBzqs"
      },
      "execution_count": null,
      "outputs": []
    },
    {
      "cell_type": "code",
      "source": [
        "texts = data_train['text_difficult'].tolist()\n",
        "words = [i.split() for i in texts]\n",
        "count_words = Counter()\n",
        "for text in words:\n",
        "  for i in text:\n",
        "    count_words[i]+=1\n",
        "more_10 = [k for k, v in count_words.items() if v>5]\n",
        "words_more_10 = []\n",
        "for t in words:\n",
        "  passed = [i for i in t if i in more_10]\n",
        "  words_more_10.append(passed)\n",
        "X = np.array(words_more_10)\n",
        "model_wv_dif = word2vec.Word2Vec(X, vector_size=50, window=5, min_count=1, workers=4)\n",
        "model_wv_dif.wv.most_similar(positive=['президент'])"
      ],
      "metadata": {
        "colab": {
          "base_uri": "https://localhost:8080/"
        },
        "id": "Z9fzkHbR6laZ",
        "outputId": "fd6dd7e9-6e61-4f21-9265-65589ad8ce64"
      },
      "execution_count": null,
      "outputs": [
        {
          "output_type": "stream",
          "name": "stderr",
          "text": [
            "<ipython-input-6-cf65957199d8>:12: VisibleDeprecationWarning: Creating an ndarray from ragged nested sequences (which is a list-or-tuple of lists-or-tuples-or ndarrays with different lengths or shapes) is deprecated. If you meant to do this, you must specify 'dtype=object' when creating the ndarray.\n",
            "  X = np.array(words_more_10)\n"
          ]
        },
        {
          "output_type": "execute_result",
          "data": {
            "text/plain": [
              "[('глава', 0.4891655147075653),\n",
              " ('правительство', 0.471372127532959),\n",
              " ('рref', 0.4617333710193634),\n",
              " ('россия', 0.44999435544013977),\n",
              " ('рпref', 0.4443207383155823),\n",
              " ('федерация', 0.43119654059410095),\n",
              " ('август', 0.42723774909973145),\n",
              " ('ndот', 0.42563751339912415),\n",
              " ('российский', 0.42250001430511475),\n",
              " ('казачество', 0.39450785517692566)]"
            ]
          },
          "metadata": {},
          "execution_count": 6
        }
      ]
    },
    {
      "cell_type": "code",
      "source": [
        "\n",
        "tfidf_dif  = TfidfVectorizer()\n",
        "tfidf_dif.fit([' '.join(i) for i in data_train['text_difficult'].str.split()])\n",
        "tf_dict_dif=dict(zip(tfidf_dif.get_feature_names_out(), tfidf_dif.idf_))"
      ],
      "metadata": {
        "id": "QtsdpIduCHkb"
      },
      "execution_count": null,
      "outputs": []
    },
    {
      "cell_type": "code",
      "source": [
        "def average_emb(w2v, text):\n",
        "\n",
        "    doc = [word for word in text.split() if word in w2v.wv]\n",
        "\n",
        "    return np.mean(w2v.wv[doc], axis=0)\n",
        "\n",
        "def average_emb_tdidf(w2v, td_dict, text):\n",
        "\n",
        "    doc = [word for word in text.split() if word in w2v.wv]\n",
        "    tf = np.array([td_dict[word] for word in text.split() if word in w2v.wv])\n",
        "    #print(w2v.wv[doc].dot(tf[0]))\n",
        "    return np.mean(w2v.wv[doc].dot(tf[0]), axis=0)\n",
        "\n",
        "def average_emb_pre(w2v, text):\n",
        "\n",
        "    doc = [word for word in text.split() if word in w2v]\n",
        "\n",
        "    return np.mean(w2v[doc], axis=0)\n",
        "\n",
        "def average_emb_tdidf_pre(w2v, td_dict, text):\n",
        "\n",
        "    doc = [word for word in text.split() if word in w2v]\n",
        "    tf = np.array([td_dict[word] if word in td_dict.keys() else 0 for word in doc ])\n",
        "\n",
        "    return np.mean(w2v[doc].dot(tf[0]), axis=0)"
      ],
      "metadata": {
        "id": "mOmnb2V___cx"
      },
      "execution_count": null,
      "outputs": []
    },
    {
      "cell_type": "code",
      "source": [
        "df_w2v = df[['doc_name', 'text_difficult']].copy()\n",
        "\n",
        "df_w2v['w2v_dif'] = df_w2v.apply(lambda x: average_emb(model_wv_dif, x['text_difficult']),axis=1)\n",
        "df_w2v['w2v_dif_idf'] = df_w2v.apply(lambda x: average_emb_tdidf(model_wv_dif,tf_dict_dif, x['text_difficult']),axis=1)\n",
        "\n",
        "df_w2v['w2v_dif_pre'] = df_w2v.apply(lambda x: average_emb_pre(word2vec_pre, x['text_difficult']),axis=1)\n",
        "df_w2v['w2v_dif_idf_pre'] = df_w2v.apply(lambda x: average_emb_tdidf_pre(word2vec_pre,tf_dict_dif, x['text_difficult']),axis=1)"
      ],
      "metadata": {
        "id": "hf7ncXCRD_Li"
      },
      "execution_count": null,
      "outputs": []
    },
    {
      "cell_type": "code",
      "source": [
        "X_train, X_test, y_train, y_test = train_test_split(df_w2v['w2v_dif'], df_w2v['doc_name'], test_size=0.2, random_state=42)\n",
        "X_train = np.vstack(X_train)\n",
        "X_test = np.vstack(X_test)"
      ],
      "metadata": {
        "id": "IQCNb8YXyG97"
      },
      "execution_count": null,
      "outputs": []
    },
    {
      "cell_type": "code",
      "source": [
        "lr_ppl_clf = Pipeline([\n",
        "\n",
        "    ('lr_clf', LogisticRegression(random_state=42))\n",
        "])\n",
        "\n",
        "parameters = {\n",
        "              'lr_clf__solver':['lbfgs', 'newton-cg', 'sag', 'saga'],\n",
        "              'lr_clf__class_weight':[None, 'balanced'],\n",
        "              'lr_clf__penalty':[None, 'l2', 'l1', 'elasticnet'],\n",
        "              }\n",
        "\n",
        "model = GridSearchCV(lr_ppl_clf, parameters, cv=4, n_jobs=-1).fit(X_train[:2000], y_train[:2000])\n",
        "print('Best score and parameter combination:')\n",
        "print(model.best_score_, model.best_params_)"
      ],
      "metadata": {
        "colab": {
          "base_uri": "https://localhost:8080/"
        },
        "id": "e2lei6lBJt68",
        "outputId": "c0383716-e7ae-4955-c1f7-04369fed877d"
      },
      "execution_count": null,
      "outputs": [
        {
          "output_type": "stream",
          "name": "stderr",
          "text": [
            "/usr/local/lib/python3.10/dist-packages/sklearn/model_selection/_validation.py:378: FitFailedWarning: \n",
            "56 fits failed out of a total of 128.\n",
            "The score on these train-test partitions for these parameters will be set to nan.\n",
            "If these failures are not expected, you can try to debug them by setting error_score='raise'.\n",
            "\n",
            "Below are more details about the failures:\n",
            "--------------------------------------------------------------------------------\n",
            "8 fits failed with the following error:\n",
            "Traceback (most recent call last):\n",
            "  File \"/usr/local/lib/python3.10/dist-packages/sklearn/model_selection/_validation.py\", line 686, in _fit_and_score\n",
            "    estimator.fit(X_train, y_train, **fit_params)\n",
            "  File \"/usr/local/lib/python3.10/dist-packages/sklearn/pipeline.py\", line 405, in fit\n",
            "    self._final_estimator.fit(Xt, y, **fit_params_last_step)\n",
            "  File \"/usr/local/lib/python3.10/dist-packages/sklearn/linear_model/_logistic.py\", line 1162, in fit\n",
            "    solver = _check_solver(self.solver, self.penalty, self.dual)\n",
            "  File \"/usr/local/lib/python3.10/dist-packages/sklearn/linear_model/_logistic.py\", line 54, in _check_solver\n",
            "    raise ValueError(\n",
            "ValueError: Solver lbfgs supports only 'l2' or 'none' penalties, got l1 penalty.\n",
            "\n",
            "--------------------------------------------------------------------------------\n",
            "8 fits failed with the following error:\n",
            "Traceback (most recent call last):\n",
            "  File \"/usr/local/lib/python3.10/dist-packages/sklearn/model_selection/_validation.py\", line 686, in _fit_and_score\n",
            "    estimator.fit(X_train, y_train, **fit_params)\n",
            "  File \"/usr/local/lib/python3.10/dist-packages/sklearn/pipeline.py\", line 405, in fit\n",
            "    self._final_estimator.fit(Xt, y, **fit_params_last_step)\n",
            "  File \"/usr/local/lib/python3.10/dist-packages/sklearn/linear_model/_logistic.py\", line 1162, in fit\n",
            "    solver = _check_solver(self.solver, self.penalty, self.dual)\n",
            "  File \"/usr/local/lib/python3.10/dist-packages/sklearn/linear_model/_logistic.py\", line 54, in _check_solver\n",
            "    raise ValueError(\n",
            "ValueError: Solver newton-cg supports only 'l2' or 'none' penalties, got l1 penalty.\n",
            "\n",
            "--------------------------------------------------------------------------------\n",
            "8 fits failed with the following error:\n",
            "Traceback (most recent call last):\n",
            "  File \"/usr/local/lib/python3.10/dist-packages/sklearn/model_selection/_validation.py\", line 686, in _fit_and_score\n",
            "    estimator.fit(X_train, y_train, **fit_params)\n",
            "  File \"/usr/local/lib/python3.10/dist-packages/sklearn/pipeline.py\", line 405, in fit\n",
            "    self._final_estimator.fit(Xt, y, **fit_params_last_step)\n",
            "  File \"/usr/local/lib/python3.10/dist-packages/sklearn/linear_model/_logistic.py\", line 1162, in fit\n",
            "    solver = _check_solver(self.solver, self.penalty, self.dual)\n",
            "  File \"/usr/local/lib/python3.10/dist-packages/sklearn/linear_model/_logistic.py\", line 54, in _check_solver\n",
            "    raise ValueError(\n",
            "ValueError: Solver sag supports only 'l2' or 'none' penalties, got l1 penalty.\n",
            "\n",
            "--------------------------------------------------------------------------------\n",
            "8 fits failed with the following error:\n",
            "Traceback (most recent call last):\n",
            "  File \"/usr/local/lib/python3.10/dist-packages/sklearn/model_selection/_validation.py\", line 686, in _fit_and_score\n",
            "    estimator.fit(X_train, y_train, **fit_params)\n",
            "  File \"/usr/local/lib/python3.10/dist-packages/sklearn/pipeline.py\", line 405, in fit\n",
            "    self._final_estimator.fit(Xt, y, **fit_params_last_step)\n",
            "  File \"/usr/local/lib/python3.10/dist-packages/sklearn/linear_model/_logistic.py\", line 1162, in fit\n",
            "    solver = _check_solver(self.solver, self.penalty, self.dual)\n",
            "  File \"/usr/local/lib/python3.10/dist-packages/sklearn/linear_model/_logistic.py\", line 54, in _check_solver\n",
            "    raise ValueError(\n",
            "ValueError: Solver lbfgs supports only 'l2' or 'none' penalties, got elasticnet penalty.\n",
            "\n",
            "--------------------------------------------------------------------------------\n",
            "8 fits failed with the following error:\n",
            "Traceback (most recent call last):\n",
            "  File \"/usr/local/lib/python3.10/dist-packages/sklearn/model_selection/_validation.py\", line 686, in _fit_and_score\n",
            "    estimator.fit(X_train, y_train, **fit_params)\n",
            "  File \"/usr/local/lib/python3.10/dist-packages/sklearn/pipeline.py\", line 405, in fit\n",
            "    self._final_estimator.fit(Xt, y, **fit_params_last_step)\n",
            "  File \"/usr/local/lib/python3.10/dist-packages/sklearn/linear_model/_logistic.py\", line 1162, in fit\n",
            "    solver = _check_solver(self.solver, self.penalty, self.dual)\n",
            "  File \"/usr/local/lib/python3.10/dist-packages/sklearn/linear_model/_logistic.py\", line 54, in _check_solver\n",
            "    raise ValueError(\n",
            "ValueError: Solver newton-cg supports only 'l2' or 'none' penalties, got elasticnet penalty.\n",
            "\n",
            "--------------------------------------------------------------------------------\n",
            "8 fits failed with the following error:\n",
            "Traceback (most recent call last):\n",
            "  File \"/usr/local/lib/python3.10/dist-packages/sklearn/model_selection/_validation.py\", line 686, in _fit_and_score\n",
            "    estimator.fit(X_train, y_train, **fit_params)\n",
            "  File \"/usr/local/lib/python3.10/dist-packages/sklearn/pipeline.py\", line 405, in fit\n",
            "    self._final_estimator.fit(Xt, y, **fit_params_last_step)\n",
            "  File \"/usr/local/lib/python3.10/dist-packages/sklearn/linear_model/_logistic.py\", line 1162, in fit\n",
            "    solver = _check_solver(self.solver, self.penalty, self.dual)\n",
            "  File \"/usr/local/lib/python3.10/dist-packages/sklearn/linear_model/_logistic.py\", line 54, in _check_solver\n",
            "    raise ValueError(\n",
            "ValueError: Solver sag supports only 'l2' or 'none' penalties, got elasticnet penalty.\n",
            "\n",
            "--------------------------------------------------------------------------------\n",
            "8 fits failed with the following error:\n",
            "Traceback (most recent call last):\n",
            "  File \"/usr/local/lib/python3.10/dist-packages/sklearn/model_selection/_validation.py\", line 686, in _fit_and_score\n",
            "    estimator.fit(X_train, y_train, **fit_params)\n",
            "  File \"/usr/local/lib/python3.10/dist-packages/sklearn/pipeline.py\", line 405, in fit\n",
            "    self._final_estimator.fit(Xt, y, **fit_params_last_step)\n",
            "  File \"/usr/local/lib/python3.10/dist-packages/sklearn/linear_model/_logistic.py\", line 1291, in fit\n",
            "    fold_coefs_ = Parallel(n_jobs=self.n_jobs, verbose=self.verbose, prefer=prefer)(\n",
            "  File \"/usr/local/lib/python3.10/dist-packages/sklearn/utils/parallel.py\", line 63, in __call__\n",
            "    return super().__call__(iterable_with_config)\n",
            "  File \"/usr/local/lib/python3.10/dist-packages/joblib/parallel.py\", line 1863, in __call__\n",
            "    return output if self.return_generator else list(output)\n",
            "  File \"/usr/local/lib/python3.10/dist-packages/joblib/parallel.py\", line 1792, in _get_sequential_output\n",
            "    res = func(*args, **kwargs)\n",
            "  File \"/usr/local/lib/python3.10/dist-packages/sklearn/utils/parallel.py\", line 123, in __call__\n",
            "    return self.function(*args, **kwargs)\n",
            "  File \"/usr/local/lib/python3.10/dist-packages/sklearn/linear_model/_logistic.py\", line 521, in _logistic_regression_path\n",
            "    alpha = (1.0 / C) * (1 - l1_ratio)\n",
            "TypeError: unsupported operand type(s) for -: 'int' and 'NoneType'\n",
            "\n",
            "  warnings.warn(some_fits_failed_message, FitFailedWarning)\n",
            "/usr/local/lib/python3.10/dist-packages/sklearn/model_selection/_search.py:952: UserWarning: One or more of the test scores are non-finite: [0.6885 0.6425 0.7025 0.707  0.704  0.7005 0.702  0.7045    nan    nan\n",
            "    nan 0.6995    nan    nan    nan    nan 0.6855 0.6405 0.695  0.7045\n",
            " 0.7095 0.71   0.7095 0.71      nan    nan    nan 0.6975    nan    nan\n",
            "    nan    nan]\n",
            "  warnings.warn(\n"
          ]
        },
        {
          "output_type": "stream",
          "name": "stdout",
          "text": [
            "Best score and parameter combination:\n",
            "0.71 {'lr_clf__class_weight': 'balanced', 'lr_clf__penalty': 'l2', 'lr_clf__solver': 'newton-cg'}\n"
          ]
        },
        {
          "output_type": "stream",
          "name": "stderr",
          "text": [
            "/usr/local/lib/python3.10/dist-packages/scipy/optimize/_linesearch.py:314: LineSearchWarning: The line search algorithm did not converge\n",
            "  warn('The line search algorithm did not converge', LineSearchWarning)\n",
            "/usr/local/lib/python3.10/dist-packages/sklearn/utils/optimize.py:203: UserWarning: Line Search failed\n",
            "  warnings.warn(\"Line Search failed\")\n"
          ]
        }
      ]
    },
    {
      "cell_type": "code",
      "source": [
        "lr_ppl_clf = Pipeline([\n",
        "\n",
        "    ('lr_clf', LogisticRegression(solver='newton-cg',penalty='l2', class_weight='balanced', random_state=42))\n",
        "])\n",
        "lr_ppl_clf.fit(X_train, y_train)"
      ],
      "metadata": {
        "colab": {
          "base_uri": "https://localhost:8080/",
          "height": 160
        },
        "id": "XCvVH723KEtu",
        "outputId": "571bd038-3ca6-4714-f597-95e43eac8d39"
      },
      "execution_count": null,
      "outputs": [
        {
          "output_type": "stream",
          "name": "stderr",
          "text": [
            "/usr/local/lib/python3.10/dist-packages/scipy/optimize/_linesearch.py:314: LineSearchWarning: The line search algorithm did not converge\n",
            "  warn('The line search algorithm did not converge', LineSearchWarning)\n",
            "/usr/local/lib/python3.10/dist-packages/sklearn/utils/optimize.py:203: UserWarning: Line Search failed\n",
            "  warnings.warn(\"Line Search failed\")\n"
          ]
        },
        {
          "output_type": "execute_result",
          "data": {
            "text/plain": [
              "Pipeline(steps=[('lr_clf',\n",
              "                 LogisticRegression(class_weight='balanced', random_state=42,\n",
              "                                    solver='newton-cg'))])"
            ],
            "text/html": [
              "<style>#sk-container-id-1 {color: black;background-color: white;}#sk-container-id-1 pre{padding: 0;}#sk-container-id-1 div.sk-toggleable {background-color: white;}#sk-container-id-1 label.sk-toggleable__label {cursor: pointer;display: block;width: 100%;margin-bottom: 0;padding: 0.3em;box-sizing: border-box;text-align: center;}#sk-container-id-1 label.sk-toggleable__label-arrow:before {content: \"▸\";float: left;margin-right: 0.25em;color: #696969;}#sk-container-id-1 label.sk-toggleable__label-arrow:hover:before {color: black;}#sk-container-id-1 div.sk-estimator:hover label.sk-toggleable__label-arrow:before {color: black;}#sk-container-id-1 div.sk-toggleable__content {max-height: 0;max-width: 0;overflow: hidden;text-align: left;background-color: #f0f8ff;}#sk-container-id-1 div.sk-toggleable__content pre {margin: 0.2em;color: black;border-radius: 0.25em;background-color: #f0f8ff;}#sk-container-id-1 input.sk-toggleable__control:checked~div.sk-toggleable__content {max-height: 200px;max-width: 100%;overflow: auto;}#sk-container-id-1 input.sk-toggleable__control:checked~label.sk-toggleable__label-arrow:before {content: \"▾\";}#sk-container-id-1 div.sk-estimator input.sk-toggleable__control:checked~label.sk-toggleable__label {background-color: #d4ebff;}#sk-container-id-1 div.sk-label input.sk-toggleable__control:checked~label.sk-toggleable__label {background-color: #d4ebff;}#sk-container-id-1 input.sk-hidden--visually {border: 0;clip: rect(1px 1px 1px 1px);clip: rect(1px, 1px, 1px, 1px);height: 1px;margin: -1px;overflow: hidden;padding: 0;position: absolute;width: 1px;}#sk-container-id-1 div.sk-estimator {font-family: monospace;background-color: #f0f8ff;border: 1px dotted black;border-radius: 0.25em;box-sizing: border-box;margin-bottom: 0.5em;}#sk-container-id-1 div.sk-estimator:hover {background-color: #d4ebff;}#sk-container-id-1 div.sk-parallel-item::after {content: \"\";width: 100%;border-bottom: 1px solid gray;flex-grow: 1;}#sk-container-id-1 div.sk-label:hover label.sk-toggleable__label {background-color: #d4ebff;}#sk-container-id-1 div.sk-serial::before {content: \"\";position: absolute;border-left: 1px solid gray;box-sizing: border-box;top: 0;bottom: 0;left: 50%;z-index: 0;}#sk-container-id-1 div.sk-serial {display: flex;flex-direction: column;align-items: center;background-color: white;padding-right: 0.2em;padding-left: 0.2em;position: relative;}#sk-container-id-1 div.sk-item {position: relative;z-index: 1;}#sk-container-id-1 div.sk-parallel {display: flex;align-items: stretch;justify-content: center;background-color: white;position: relative;}#sk-container-id-1 div.sk-item::before, #sk-container-id-1 div.sk-parallel-item::before {content: \"\";position: absolute;border-left: 1px solid gray;box-sizing: border-box;top: 0;bottom: 0;left: 50%;z-index: -1;}#sk-container-id-1 div.sk-parallel-item {display: flex;flex-direction: column;z-index: 1;position: relative;background-color: white;}#sk-container-id-1 div.sk-parallel-item:first-child::after {align-self: flex-end;width: 50%;}#sk-container-id-1 div.sk-parallel-item:last-child::after {align-self: flex-start;width: 50%;}#sk-container-id-1 div.sk-parallel-item:only-child::after {width: 0;}#sk-container-id-1 div.sk-dashed-wrapped {border: 1px dashed gray;margin: 0 0.4em 0.5em 0.4em;box-sizing: border-box;padding-bottom: 0.4em;background-color: white;}#sk-container-id-1 div.sk-label label {font-family: monospace;font-weight: bold;display: inline-block;line-height: 1.2em;}#sk-container-id-1 div.sk-label-container {text-align: center;}#sk-container-id-1 div.sk-container {/* jupyter's `normalize.less` sets `[hidden] { display: none; }` but bootstrap.min.css set `[hidden] { display: none !important; }` so we also need the `!important` here to be able to override the default hidden behavior on the sphinx rendered scikit-learn.org. See: https://github.com/scikit-learn/scikit-learn/issues/21755 */display: inline-block !important;position: relative;}#sk-container-id-1 div.sk-text-repr-fallback {display: none;}</style><div id=\"sk-container-id-1\" class=\"sk-top-container\"><div class=\"sk-text-repr-fallback\"><pre>Pipeline(steps=[(&#x27;lr_clf&#x27;,\n",
              "                 LogisticRegression(class_weight=&#x27;balanced&#x27;, random_state=42,\n",
              "                                    solver=&#x27;newton-cg&#x27;))])</pre><b>In a Jupyter environment, please rerun this cell to show the HTML representation or trust the notebook. <br />On GitHub, the HTML representation is unable to render, please try loading this page with nbviewer.org.</b></div><div class=\"sk-container\" hidden><div class=\"sk-item sk-dashed-wrapped\"><div class=\"sk-label-container\"><div class=\"sk-label sk-toggleable\"><input class=\"sk-toggleable__control sk-hidden--visually\" id=\"sk-estimator-id-1\" type=\"checkbox\" ><label for=\"sk-estimator-id-1\" class=\"sk-toggleable__label sk-toggleable__label-arrow\">Pipeline</label><div class=\"sk-toggleable__content\"><pre>Pipeline(steps=[(&#x27;lr_clf&#x27;,\n",
              "                 LogisticRegression(class_weight=&#x27;balanced&#x27;, random_state=42,\n",
              "                                    solver=&#x27;newton-cg&#x27;))])</pre></div></div></div><div class=\"sk-serial\"><div class=\"sk-item\"><div class=\"sk-estimator sk-toggleable\"><input class=\"sk-toggleable__control sk-hidden--visually\" id=\"sk-estimator-id-2\" type=\"checkbox\" ><label for=\"sk-estimator-id-2\" class=\"sk-toggleable__label sk-toggleable__label-arrow\">LogisticRegression</label><div class=\"sk-toggleable__content\"><pre>LogisticRegression(class_weight=&#x27;balanced&#x27;, random_state=42, solver=&#x27;newton-cg&#x27;)</pre></div></div></div></div></div></div></div>"
            ]
          },
          "metadata": {},
          "execution_count": 14
        }
      ]
    },
    {
      "cell_type": "code",
      "source": [
        "predicted_lr = lr_ppl_clf.predict(X_test)\n",
        "print(metrics.classification_report(y_test, predicted_lr))\n",
        "print(metrics.accuracy_score(y_test, predicted_lr))\n",
        "print(metrics.precision_score(y_test, predicted_lr, average='macro'))\n",
        "print(metrics.recall_score(y_test, predicted_lr, average='macro'))\n",
        "print(metrics.f1_score(y_test, predicted_lr, average='macro'))"
      ],
      "metadata": {
        "colab": {
          "base_uri": "https://localhost:8080/"
        },
        "id": "dfB4Xw4-KOEc",
        "outputId": "2ebbb78c-d016-43e5-defb-da6d6f95c63b"
      },
      "execution_count": null,
      "outputs": [
        {
          "output_type": "stream",
          "name": "stdout",
          "text": [
            "                                                                   precision    recall  f1-score   support\n",
            "\n",
            "               Закон, региональный уровень, законодательный орган       0.85      0.88      0.87       329\n",
            "                Закон, федеральный уровень, законодательный орган       0.92      0.93      0.93       347\n",
            " Постановление, региональный уровень, глава исполнительной власти       0.66      0.62      0.64       318\n",
            "       Постановление, региональный уровень, законодательный орган       0.92      0.90      0.91       302\n",
            "Постановление, региональный уровень, органы исполнительной власти       0.91      0.92      0.91       244\n",
            "               Постановление, региональный уровень, правительство       0.64      0.62      0.63       318\n",
            "                Постановление, федеральный уровень, правительство       0.79      0.84      0.81       314\n",
            "       Приказ, региональный уровень, органы исполнительной власти       0.85      0.87      0.86       325\n",
            "        Приказ, федеральный уровень, органы исполнительной власти       0.89      0.89      0.89       315\n",
            "  Распоряжение, региональный уровень, глава исполнительной власти       0.66      0.60      0.63       330\n",
            "                Распоряжение, региональный уровень, правительство       0.63      0.65      0.64       323\n",
            "   Распоряжение, федеральный уровень, глава исполнительной власти       0.78      0.76      0.77       272\n",
            "                 Распоряжение, федеральный уровень, правительство       0.76      0.75      0.76       324\n",
            "          Указ, региональный уровень, глава исполнительной власти       0.66      0.69      0.68       296\n",
            "           Указ, федеральный уровень, глава исполнительной власти       0.73      0.77      0.75       222\n",
            "\n",
            "                                                         accuracy                           0.78      4579\n",
            "                                                        macro avg       0.78      0.78      0.78      4579\n",
            "                                                     weighted avg       0.78      0.78      0.78      4579\n",
            "\n",
            "0.7774623280192182\n",
            "0.7767590665553853\n",
            "0.7786504775959499\n",
            "0.7773897913945407\n"
          ]
        }
      ]
    },
    {
      "cell_type": "code",
      "source": [],
      "metadata": {
        "id": "uZ4sKFzhx_xL"
      },
      "execution_count": null,
      "outputs": []
    },
    {
      "cell_type": "code",
      "source": [
        "sgd_ppl_clf = Pipeline([\n",
        "\n",
        "    ('sgd_clf', SGDClassifier(random_state=42))\n",
        "])\n",
        "\n",
        "parameters = {\n",
        "              'sgd_clf__loss':['hinge', 'log', 'modified_huber', 'squared_hinge', 'perceptron'],\n",
        "              'sgd_clf__class_weight':[None, 'balanced'],\n",
        "              'sgd_clf__penalty':[None, 'l2', 'l1', 'elasticnet'],\n",
        "\n",
        "              }\n",
        "model = GridSearchCV(sgd_ppl_clf, parameters, cv=4, n_jobs=-1).fit(X_train[:2000], y_train[:2000])\n",
        "print('Best score and parameter combination:')\n",
        "print(model.best_score_, model.best_params_)"
      ],
      "metadata": {
        "colab": {
          "base_uri": "https://localhost:8080/"
        },
        "id": "z2t8z1Rqx_zc",
        "outputId": "d1b00f16-d416-437a-f572-0e7ad0fcd45b"
      },
      "execution_count": null,
      "outputs": [
        {
          "output_type": "stream",
          "name": "stderr",
          "text": [
            "/usr/local/lib/python3.10/dist-packages/sklearn/linear_model/_stochastic_gradient.py:163: FutureWarning: The loss 'log' was deprecated in v1.1 and will be removed in version 1.3. Use `loss='log_loss'` which is equivalent.\n",
            "  warnings.warn(\n"
          ]
        },
        {
          "output_type": "stream",
          "name": "stdout",
          "text": [
            "Best score and parameter combination:\n",
            "0.646 {'sgd_clf__class_weight': 'balanced', 'sgd_clf__loss': 'log', 'sgd_clf__penalty': 'l2'}\n"
          ]
        }
      ]
    },
    {
      "cell_type": "code",
      "source": [
        "sgd_ppl_clf = Pipeline([\n",
        "\n",
        "    ('sgd_clf', SGDClassifier(loss='log_loss',penalty='l2', class_weight='balanced', random_state=42))\n",
        "])\n",
        "sgd_ppl_clf.fit(X_train, y_train)\n",
        "\n",
        "\n",
        "predicted_sgd_val = sgd_ppl_clf.predict(X_test)\n",
        "print(metrics.classification_report(y_test, predicted_sgd_val))\n",
        "print(metrics.accuracy_score(y_test, predicted_sgd_val), 'accuracy')\n",
        "print(metrics.precision_score(y_test, predicted_sgd_val, average='macro'), 'precision')\n",
        "print(metrics.recall_score(y_test, predicted_sgd_val, average='macro'), 'recall')\n",
        "print(metrics.f1_score(y_test, predicted_sgd_val, average='macro'), 'f1')"
      ],
      "metadata": {
        "colab": {
          "base_uri": "https://localhost:8080/"
        },
        "id": "vju3kocSx_2m",
        "outputId": "9d5a3f78-fdff-4954-c12c-b0ed8ae1461f"
      },
      "execution_count": null,
      "outputs": [
        {
          "output_type": "stream",
          "name": "stdout",
          "text": [
            "                                                                   precision    recall  f1-score   support\n",
            "\n",
            "               Закон, региональный уровень, законодательный орган       0.87      0.84      0.86       329\n",
            "                Закон, федеральный уровень, законодательный орган       0.88      0.95      0.91       347\n",
            " Постановление, региональный уровень, глава исполнительной власти       0.61      0.62      0.61       318\n",
            "       Постановление, региональный уровень, законодательный орган       0.89      0.92      0.90       302\n",
            "Постановление, региональный уровень, органы исполнительной власти       0.93      0.89      0.91       244\n",
            "               Постановление, региональный уровень, правительство       0.58      0.58      0.58       318\n",
            "                Постановление, федеральный уровень, правительство       0.81      0.76      0.78       314\n",
            "       Приказ, региональный уровень, органы исполнительной власти       0.86      0.80      0.83       325\n",
            "        Приказ, федеральный уровень, органы исполнительной власти       0.83      0.93      0.88       315\n",
            "  Распоряжение, региональный уровень, глава исполнительной власти       0.71      0.58      0.64       330\n",
            "                Распоряжение, региональный уровень, правительство       0.50      0.69      0.58       323\n",
            "   Распоряжение, федеральный уровень, глава исполнительной власти       0.77      0.72      0.74       272\n",
            "                 Распоряжение, федеральный уровень, правительство       0.72      0.68      0.70       324\n",
            "          Указ, региональный уровень, глава исполнительной власти       0.75      0.60      0.67       296\n",
            "           Указ, федеральный уровень, глава исполнительной власти       0.66      0.72      0.69       222\n",
            "\n",
            "                                                         accuracy                           0.75      4579\n",
            "                                                        macro avg       0.76      0.75      0.75      4579\n",
            "                                                     weighted avg       0.76      0.75      0.75      4579\n",
            "\n",
            "0.7521292858702774 accuracy\n",
            "0.7588137656490489 precision\n",
            "0.752439132379225 recall\n",
            "0.7530395695734294 f1\n"
          ]
        }
      ]
    },
    {
      "cell_type": "code",
      "source": [
        "from sklearn.ensemble import RandomForestClassifier"
      ],
      "metadata": {
        "id": "_VEBg3jt7Lq2"
      },
      "execution_count": null,
      "outputs": []
    },
    {
      "cell_type": "code",
      "source": [
        "fr_ppl_clf = Pipeline([\n",
        "\n",
        "    ('rf_clf', RandomForestClassifier(random_state=42))\n",
        "])\n",
        "\n",
        "parameters = {\n",
        "              'rf_clf__n_estimators':[300, 500, 700],\n",
        "              'rf_clf__max_depth':[3, 5, 8, 11],\n",
        "\n",
        "\n",
        "              }\n",
        "model = GridSearchCV(fr_ppl_clf, parameters, cv=4, n_jobs=-1).fit(X_train[:2000], y_train[:2000])\n",
        "print('Best score and parameter combination:')\n",
        "print(model.best_score_, model.best_params_)"
      ],
      "metadata": {
        "colab": {
          "base_uri": "https://localhost:8080/"
        },
        "id": "DqyeaFH77Ls0",
        "outputId": "fb3e8bfd-c335-4b9e-dd12-11ff57cd2736"
      },
      "execution_count": null,
      "outputs": [
        {
          "output_type": "stream",
          "name": "stdout",
          "text": [
            "Best score and parameter combination:\n",
            "0.6804999999999999 {'rf_clf__max_depth': 11, 'rf_clf__n_estimators': 700}\n"
          ]
        }
      ]
    },
    {
      "cell_type": "code",
      "source": [
        "fr_ppl_clf = Pipeline([\n",
        "\n",
        "    ('sgd_clf', RandomForestClassifier(n_estimators=700,max_depth=11,  random_state=42))\n",
        "])\n",
        "fr_ppl_clf.fit(X_train, y_train)\n",
        "\n",
        "\n",
        "ppredicted_fr_val = fr_ppl_clf.predict(X_test)\n",
        "print(metrics.classification_report(y_test, ppredicted_fr_val))\n",
        "print(metrics.accuracy_score(y_test, ppredicted_fr_val), 'accuracy')\n",
        "print(metrics.precision_score(y_test, ppredicted_fr_val, average='macro'), 'precision')\n",
        "print(metrics.recall_score(y_test, ppredicted_fr_val, average='macro'), 'recall')\n",
        "print(metrics.f1_score(y_test, ppredicted_fr_val, average='macro'), 'f1')"
      ],
      "metadata": {
        "colab": {
          "base_uri": "https://localhost:8080/"
        },
        "id": "7ZgpjSS37U2j",
        "outputId": "90ec8142-dabe-489d-b75f-f305c85b524f"
      },
      "execution_count": null,
      "outputs": [
        {
          "output_type": "stream",
          "name": "stdout",
          "text": [
            "                                                                   precision    recall  f1-score   support\n",
            "\n",
            "               Закон, региональный уровень, законодательный орган       0.78      0.89      0.83       329\n",
            "                Закон, федеральный уровень, законодательный орган       0.91      0.91      0.91       347\n",
            " Постановление, региональный уровень, глава исполнительной власти       0.63      0.59      0.61       318\n",
            "       Постановление, региональный уровень, законодательный орган       0.94      0.84      0.89       302\n",
            "Постановление, региональный уровень, органы исполнительной власти       0.97      0.87      0.92       244\n",
            "               Постановление, региональный уровень, правительство       0.53      0.65      0.58       318\n",
            "                Постановление, федеральный уровень, правительство       0.77      0.83      0.80       314\n",
            "       Приказ, региональный уровень, органы исполнительной власти       0.81      0.80      0.81       325\n",
            "        Приказ, федеральный уровень, органы исполнительной власти       0.84      0.90      0.87       315\n",
            "  Распоряжение, региональный уровень, глава исполнительной власти       0.77      0.65      0.71       330\n",
            "                Распоряжение, региональный уровень, правительство       0.61      0.68      0.65       323\n",
            "   Распоряжение, федеральный уровень, глава исполнительной власти       0.83      0.85      0.84       272\n",
            "                 Распоряжение, федеральный уровень, правительство       0.78      0.81      0.80       324\n",
            "          Указ, региональный уровень, глава исполнительной власти       0.68      0.60      0.64       296\n",
            "           Указ, федеральный уровень, глава исполнительной власти       0.86      0.67      0.75       222\n",
            "\n",
            "                                                         accuracy                           0.77      4579\n",
            "                                                        macro avg       0.78      0.77      0.77      4579\n",
            "                                                     weighted avg       0.78      0.77      0.77      4579\n",
            "\n",
            "0.7700371260100458 accuracy\n",
            "0.7816856315872016 precision\n",
            "0.7690939022223298 recall\n",
            "0.772688203412318 f1\n"
          ]
        }
      ]
    },
    {
      "cell_type": "markdown",
      "source": [
        "Вместе с td-idf"
      ],
      "metadata": {
        "id": "mBRotpB1_v6F"
      }
    },
    {
      "cell_type": "code",
      "source": [
        "X_train, X_test, y_train, y_test = train_test_split(df_w2v['w2v_dif_idf'], df_w2v['doc_name'], test_size=0.2, random_state=42)\n",
        "X_train = np.vstack(X_train)\n",
        "X_test = np.vstack(X_test)"
      ],
      "metadata": {
        "id": "kaxVhIqn_lik"
      },
      "execution_count": null,
      "outputs": []
    },
    {
      "cell_type": "code",
      "source": [
        "lr_ppl_clf = Pipeline([\n",
        "\n",
        "    ('lr_clf', LogisticRegression(random_state=42))\n",
        "])\n",
        "\n",
        "parameters = {\n",
        "              'lr_clf__solver':['lbfgs', 'newton-cg', 'sag', 'saga'],\n",
        "              'lr_clf__class_weight':[None, 'balanced'],\n",
        "              'lr_clf__penalty':[None, 'l2', 'l1', 'elasticnet'],\n",
        "              }\n",
        "\n",
        "model = GridSearchCV(lr_ppl_clf, parameters, cv=4, n_jobs=-1).fit(X_train[:2000], y_train[:2000])\n",
        "print('Best score and parameter combination:')\n",
        "print(model.best_score_, model.best_params_)"
      ],
      "metadata": {
        "colab": {
          "base_uri": "https://localhost:8080/"
        },
        "id": "ieFiTx8U_2js",
        "outputId": "dfb29c4f-43ec-4d17-9c13-f6888b13b8dd"
      },
      "execution_count": null,
      "outputs": [
        {
          "output_type": "stream",
          "name": "stderr",
          "text": [
            "/usr/local/lib/python3.10/dist-packages/sklearn/model_selection/_validation.py:378: FitFailedWarning: \n",
            "56 fits failed out of a total of 128.\n",
            "The score on these train-test partitions for these parameters will be set to nan.\n",
            "If these failures are not expected, you can try to debug them by setting error_score='raise'.\n",
            "\n",
            "Below are more details about the failures:\n",
            "--------------------------------------------------------------------------------\n",
            "8 fits failed with the following error:\n",
            "Traceback (most recent call last):\n",
            "  File \"/usr/local/lib/python3.10/dist-packages/sklearn/model_selection/_validation.py\", line 686, in _fit_and_score\n",
            "    estimator.fit(X_train, y_train, **fit_params)\n",
            "  File \"/usr/local/lib/python3.10/dist-packages/sklearn/pipeline.py\", line 405, in fit\n",
            "    self._final_estimator.fit(Xt, y, **fit_params_last_step)\n",
            "  File \"/usr/local/lib/python3.10/dist-packages/sklearn/linear_model/_logistic.py\", line 1162, in fit\n",
            "    solver = _check_solver(self.solver, self.penalty, self.dual)\n",
            "  File \"/usr/local/lib/python3.10/dist-packages/sklearn/linear_model/_logistic.py\", line 54, in _check_solver\n",
            "    raise ValueError(\n",
            "ValueError: Solver lbfgs supports only 'l2' or 'none' penalties, got l1 penalty.\n",
            "\n",
            "--------------------------------------------------------------------------------\n",
            "8 fits failed with the following error:\n",
            "Traceback (most recent call last):\n",
            "  File \"/usr/local/lib/python3.10/dist-packages/sklearn/model_selection/_validation.py\", line 686, in _fit_and_score\n",
            "    estimator.fit(X_train, y_train, **fit_params)\n",
            "  File \"/usr/local/lib/python3.10/dist-packages/sklearn/pipeline.py\", line 405, in fit\n",
            "    self._final_estimator.fit(Xt, y, **fit_params_last_step)\n",
            "  File \"/usr/local/lib/python3.10/dist-packages/sklearn/linear_model/_logistic.py\", line 1162, in fit\n",
            "    solver = _check_solver(self.solver, self.penalty, self.dual)\n",
            "  File \"/usr/local/lib/python3.10/dist-packages/sklearn/linear_model/_logistic.py\", line 54, in _check_solver\n",
            "    raise ValueError(\n",
            "ValueError: Solver newton-cg supports only 'l2' or 'none' penalties, got l1 penalty.\n",
            "\n",
            "--------------------------------------------------------------------------------\n",
            "8 fits failed with the following error:\n",
            "Traceback (most recent call last):\n",
            "  File \"/usr/local/lib/python3.10/dist-packages/sklearn/model_selection/_validation.py\", line 686, in _fit_and_score\n",
            "    estimator.fit(X_train, y_train, **fit_params)\n",
            "  File \"/usr/local/lib/python3.10/dist-packages/sklearn/pipeline.py\", line 405, in fit\n",
            "    self._final_estimator.fit(Xt, y, **fit_params_last_step)\n",
            "  File \"/usr/local/lib/python3.10/dist-packages/sklearn/linear_model/_logistic.py\", line 1162, in fit\n",
            "    solver = _check_solver(self.solver, self.penalty, self.dual)\n",
            "  File \"/usr/local/lib/python3.10/dist-packages/sklearn/linear_model/_logistic.py\", line 54, in _check_solver\n",
            "    raise ValueError(\n",
            "ValueError: Solver sag supports only 'l2' or 'none' penalties, got l1 penalty.\n",
            "\n",
            "--------------------------------------------------------------------------------\n",
            "8 fits failed with the following error:\n",
            "Traceback (most recent call last):\n",
            "  File \"/usr/local/lib/python3.10/dist-packages/sklearn/model_selection/_validation.py\", line 686, in _fit_and_score\n",
            "    estimator.fit(X_train, y_train, **fit_params)\n",
            "  File \"/usr/local/lib/python3.10/dist-packages/sklearn/pipeline.py\", line 405, in fit\n",
            "    self._final_estimator.fit(Xt, y, **fit_params_last_step)\n",
            "  File \"/usr/local/lib/python3.10/dist-packages/sklearn/linear_model/_logistic.py\", line 1162, in fit\n",
            "    solver = _check_solver(self.solver, self.penalty, self.dual)\n",
            "  File \"/usr/local/lib/python3.10/dist-packages/sklearn/linear_model/_logistic.py\", line 54, in _check_solver\n",
            "    raise ValueError(\n",
            "ValueError: Solver lbfgs supports only 'l2' or 'none' penalties, got elasticnet penalty.\n",
            "\n",
            "--------------------------------------------------------------------------------\n",
            "8 fits failed with the following error:\n",
            "Traceback (most recent call last):\n",
            "  File \"/usr/local/lib/python3.10/dist-packages/sklearn/model_selection/_validation.py\", line 686, in _fit_and_score\n",
            "    estimator.fit(X_train, y_train, **fit_params)\n",
            "  File \"/usr/local/lib/python3.10/dist-packages/sklearn/pipeline.py\", line 405, in fit\n",
            "    self._final_estimator.fit(Xt, y, **fit_params_last_step)\n",
            "  File \"/usr/local/lib/python3.10/dist-packages/sklearn/linear_model/_logistic.py\", line 1162, in fit\n",
            "    solver = _check_solver(self.solver, self.penalty, self.dual)\n",
            "  File \"/usr/local/lib/python3.10/dist-packages/sklearn/linear_model/_logistic.py\", line 54, in _check_solver\n",
            "    raise ValueError(\n",
            "ValueError: Solver newton-cg supports only 'l2' or 'none' penalties, got elasticnet penalty.\n",
            "\n",
            "--------------------------------------------------------------------------------\n",
            "8 fits failed with the following error:\n",
            "Traceback (most recent call last):\n",
            "  File \"/usr/local/lib/python3.10/dist-packages/sklearn/model_selection/_validation.py\", line 686, in _fit_and_score\n",
            "    estimator.fit(X_train, y_train, **fit_params)\n",
            "  File \"/usr/local/lib/python3.10/dist-packages/sklearn/pipeline.py\", line 405, in fit\n",
            "    self._final_estimator.fit(Xt, y, **fit_params_last_step)\n",
            "  File \"/usr/local/lib/python3.10/dist-packages/sklearn/linear_model/_logistic.py\", line 1162, in fit\n",
            "    solver = _check_solver(self.solver, self.penalty, self.dual)\n",
            "  File \"/usr/local/lib/python3.10/dist-packages/sklearn/linear_model/_logistic.py\", line 54, in _check_solver\n",
            "    raise ValueError(\n",
            "ValueError: Solver sag supports only 'l2' or 'none' penalties, got elasticnet penalty.\n",
            "\n",
            "--------------------------------------------------------------------------------\n",
            "8 fits failed with the following error:\n",
            "Traceback (most recent call last):\n",
            "  File \"/usr/local/lib/python3.10/dist-packages/sklearn/model_selection/_validation.py\", line 686, in _fit_and_score\n",
            "    estimator.fit(X_train, y_train, **fit_params)\n",
            "  File \"/usr/local/lib/python3.10/dist-packages/sklearn/pipeline.py\", line 405, in fit\n",
            "    self._final_estimator.fit(Xt, y, **fit_params_last_step)\n",
            "  File \"/usr/local/lib/python3.10/dist-packages/sklearn/linear_model/_logistic.py\", line 1291, in fit\n",
            "    fold_coefs_ = Parallel(n_jobs=self.n_jobs, verbose=self.verbose, prefer=prefer)(\n",
            "  File \"/usr/local/lib/python3.10/dist-packages/sklearn/utils/parallel.py\", line 63, in __call__\n",
            "    return super().__call__(iterable_with_config)\n",
            "  File \"/usr/local/lib/python3.10/dist-packages/joblib/parallel.py\", line 1863, in __call__\n",
            "    return output if self.return_generator else list(output)\n",
            "  File \"/usr/local/lib/python3.10/dist-packages/joblib/parallel.py\", line 1792, in _get_sequential_output\n",
            "    res = func(*args, **kwargs)\n",
            "  File \"/usr/local/lib/python3.10/dist-packages/sklearn/utils/parallel.py\", line 123, in __call__\n",
            "    return self.function(*args, **kwargs)\n",
            "  File \"/usr/local/lib/python3.10/dist-packages/sklearn/linear_model/_logistic.py\", line 521, in _logistic_regression_path\n",
            "    alpha = (1.0 / C) * (1 - l1_ratio)\n",
            "TypeError: unsupported operand type(s) for -: 'int' and 'NoneType'\n",
            "\n",
            "  warnings.warn(some_fits_failed_message, FitFailedWarning)\n",
            "/usr/local/lib/python3.10/dist-packages/sklearn/model_selection/_search.py:952: UserWarning: One or more of the test scores are non-finite: [0.6825 0.6355 0.698  0.696  0.6975 0.693  0.6995 0.697     nan    nan\n",
            "    nan 0.699     nan    nan    nan    nan 0.686  0.638  0.698  0.6955\n",
            " 0.6895 0.6905 0.6985 0.697     nan    nan    nan 0.6975    nan    nan\n",
            "    nan    nan]\n",
            "  warnings.warn(\n"
          ]
        },
        {
          "output_type": "stream",
          "name": "stdout",
          "text": [
            "Best score and parameter combination:\n",
            "0.6995 {'lr_clf__class_weight': None, 'lr_clf__penalty': 'l2', 'lr_clf__solver': 'sag'}\n"
          ]
        },
        {
          "output_type": "stream",
          "name": "stderr",
          "text": [
            "/usr/local/lib/python3.10/dist-packages/sklearn/linear_model/_sag.py:350: ConvergenceWarning: The max_iter was reached which means the coef_ did not converge\n",
            "  warnings.warn(\n"
          ]
        }
      ]
    },
    {
      "cell_type": "code",
      "source": [
        "lr_ppl_clf = Pipeline([\n",
        "\n",
        "    ('lr_clf', LogisticRegression(solver='sag',penalty='l2', class_weight=None, random_state=42))\n",
        "])\n",
        "lr_ppl_clf.fit(X_train, y_train)\n",
        "predicted_lr = lr_ppl_clf.predict(X_test)\n",
        "print(metrics.classification_report(y_test, predicted_lr))\n",
        "print(metrics.accuracy_score(y_test, predicted_lr))\n",
        "print(metrics.precision_score(y_test, predicted_lr, average='macro'))\n",
        "print(metrics.recall_score(y_test, predicted_lr, average='macro'))\n",
        "print(metrics.f1_score(y_test, predicted_lr, average='macro'))"
      ],
      "metadata": {
        "colab": {
          "base_uri": "https://localhost:8080/"
        },
        "id": "vRF497un_7Ez",
        "outputId": "56a67f87-9383-4ace-d20e-6371f9164fa2"
      },
      "execution_count": null,
      "outputs": [
        {
          "output_type": "stream",
          "name": "stderr",
          "text": [
            "/usr/local/lib/python3.10/dist-packages/sklearn/linear_model/_sag.py:350: ConvergenceWarning: The max_iter was reached which means the coef_ did not converge\n",
            "  warnings.warn(\n"
          ]
        },
        {
          "output_type": "stream",
          "name": "stdout",
          "text": [
            "                                                                   precision    recall  f1-score   support\n",
            "\n",
            "               Закон, региональный уровень, законодательный орган       0.85      0.88      0.86       329\n",
            "                Закон, федеральный уровень, законодательный орган       0.92      0.94      0.93       347\n",
            " Постановление, региональный уровень, глава исполнительной власти       0.63      0.63      0.63       318\n",
            "       Постановление, региональный уровень, законодательный орган       0.90      0.90      0.90       302\n",
            "Постановление, региональный уровень, органы исполнительной власти       0.92      0.90      0.91       244\n",
            "               Постановление, региональный уровень, правительство       0.65      0.64      0.65       318\n",
            "                Постановление, федеральный уровень, правительство       0.77      0.85      0.81       314\n",
            "       Приказ, региональный уровень, органы исполнительной власти       0.86      0.87      0.86       325\n",
            "        Приказ, федеральный уровень, органы исполнительной власти       0.91      0.91      0.91       315\n",
            "  Распоряжение, региональный уровень, глава исполнительной власти       0.67      0.57      0.62       330\n",
            "                Распоряжение, региональный уровень, правительство       0.65      0.66      0.66       323\n",
            "   Распоряжение, федеральный уровень, глава исполнительной власти       0.81      0.71      0.76       272\n",
            "                 Распоряжение, федеральный уровень, правительство       0.73      0.74      0.73       324\n",
            "          Указ, региональный уровень, глава исполнительной власти       0.64      0.69      0.66       296\n",
            "           Указ, федеральный уровень, глава исполнительной власти       0.71      0.73      0.72       222\n",
            "\n",
            "                                                         accuracy                           0.77      4579\n",
            "                                                        macro avg       0.77      0.77      0.77      4579\n",
            "                                                     weighted avg       0.77      0.77      0.77      4579\n",
            "\n",
            "0.7739681153090194\n",
            "0.774075601284413\n",
            "0.7739826340291319\n",
            "0.7732632069034763\n"
          ]
        }
      ]
    },
    {
      "cell_type": "code",
      "source": [
        "sgd_ppl_clf = Pipeline([\n",
        "\n",
        "    ('sgd_clf', SGDClassifier(random_state=42))\n",
        "])\n",
        "\n",
        "parameters = {\n",
        "              'sgd_clf__loss':['hinge', 'log', 'modified_huber', 'squared_hinge', 'perceptron'],\n",
        "              'sgd_clf__class_weight':[None, 'balanced'],\n",
        "              'sgd_clf__penalty':[None, 'l2', 'l1', 'elasticnet'],\n",
        "\n",
        "              }\n",
        "model = GridSearchCV(sgd_ppl_clf, parameters, cv=4, n_jobs=-1).fit(X_train[:2000], y_train[:2000])\n",
        "print('Best score and parameter combination:')\n",
        "print(model.best_score_, model.best_params_)"
      ],
      "metadata": {
        "colab": {
          "base_uri": "https://localhost:8080/"
        },
        "id": "QmVrN_r9ABac",
        "outputId": "651536b8-230a-4332-f585-5a6ca58d1cde"
      },
      "execution_count": null,
      "outputs": [
        {
          "output_type": "stream",
          "name": "stdout",
          "text": [
            "Best score and parameter combination:\n",
            "0.6074999999999999 {'sgd_clf__class_weight': None, 'sgd_clf__loss': 'hinge', 'sgd_clf__penalty': None}\n"
          ]
        }
      ]
    },
    {
      "cell_type": "code",
      "source": [
        "sgd_ppl_clf = Pipeline([\n",
        "\n",
        "    ('sgd_clf', SGDClassifier(loss='hinge',penalty=None, class_weight=None, random_state=42))\n",
        "])\n",
        "sgd_ppl_clf.fit(X_train, y_train)\n",
        "\n",
        "\n",
        "predicted_sgd_val = sgd_ppl_clf.predict(X_test)\n",
        "print(metrics.classification_report(y_test, predicted_sgd_val))\n",
        "print(metrics.accuracy_score(y_test, predicted_sgd_val), 'accuracy')\n",
        "print(metrics.precision_score(y_test, predicted_sgd_val, average='macro'), 'precision')\n",
        "print(metrics.recall_score(y_test, predicted_sgd_val, average='macro'), 'recall')\n",
        "print(metrics.f1_score(y_test, predicted_sgd_val, average='macro'), 'f1')"
      ],
      "metadata": {
        "colab": {
          "base_uri": "https://localhost:8080/"
        },
        "id": "DL2OyNtOAE-T",
        "outputId": "c1d540d3-d43b-4240-c12b-242d426674ed"
      },
      "execution_count": null,
      "outputs": [
        {
          "output_type": "stream",
          "name": "stdout",
          "text": [
            "                                                                   precision    recall  f1-score   support\n",
            "\n",
            "               Закон, региональный уровень, законодательный орган       0.78      0.78      0.78       329\n",
            "                Закон, федеральный уровень, законодательный орган       0.89      0.84      0.86       347\n",
            " Постановление, региональный уровень, глава исполнительной власти       0.41      0.28      0.33       318\n",
            "       Постановление, региональный уровень, законодательный орган       0.88      0.85      0.87       302\n",
            "Постановление, региональный уровень, органы исполнительной власти       0.84      0.86      0.85       244\n",
            "               Постановление, региональный уровень, правительство       0.39      0.57      0.46       318\n",
            "                Постановление, федеральный уровень, правительство       0.76      0.69      0.73       314\n",
            "       Приказ, региональный уровень, органы исполнительной власти       0.90      0.61      0.72       325\n",
            "        Приказ, федеральный уровень, органы исполнительной власти       0.85      0.84      0.85       315\n",
            "  Распоряжение, региональный уровень, глава исполнительной власти       0.60      0.62      0.61       330\n",
            "                Распоряжение, региональный уровень, правительство       0.52      0.44      0.48       323\n",
            "   Распоряжение, федеральный уровень, глава исполнительной власти       0.83      0.44      0.57       272\n",
            "                 Распоряжение, федеральный уровень, правительство       0.61      0.65      0.63       324\n",
            "          Указ, региональный уровень, глава исполнительной власти       0.43      0.73      0.54       296\n",
            "           Указ, федеральный уровень, глава исполнительной власти       0.60      0.76      0.67       222\n",
            "\n",
            "                                                         accuracy                           0.66      4579\n",
            "                                                        macro avg       0.69      0.66      0.66      4579\n",
            "                                                     weighted avg       0.69      0.66      0.66      4579\n",
            "\n",
            "0.6610613671107228 accuracy\n",
            "0.6867896425250798 precision\n",
            "0.6641264173293083 recall\n",
            "0.6639034409035798 f1\n"
          ]
        }
      ]
    },
    {
      "cell_type": "code",
      "source": [
        "fr_ppl_clf = Pipeline([\n",
        "\n",
        "    ('rf_clf', RandomForestClassifier(random_state=42))\n",
        "])\n",
        "\n",
        "parameters = {\n",
        "              'rf_clf__n_estimators':[300, 500, 700],\n",
        "              'rf_clf__max_depth':[3, 5, 8, 11],\n",
        "\n",
        "\n",
        "              }\n",
        "model = GridSearchCV(fr_ppl_clf, parameters, cv=4, n_jobs=-1).fit(X_train[:2000], y_train[:2000])\n",
        "print('Best score and parameter combination:')\n",
        "print(model.best_score_, model.best_params_)"
      ],
      "metadata": {
        "colab": {
          "base_uri": "https://localhost:8080/"
        },
        "id": "StSfGyrmAJzu",
        "outputId": "bb96e4c7-4610-4d81-c6f9-b6ea5a932f94"
      },
      "execution_count": null,
      "outputs": [
        {
          "output_type": "stream",
          "name": "stdout",
          "text": [
            "Best score and parameter combination:\n",
            "0.6705 {'rf_clf__max_depth': 11, 'rf_clf__n_estimators': 700}\n"
          ]
        }
      ]
    },
    {
      "cell_type": "code",
      "source": [
        "fr_ppl_clf = Pipeline([\n",
        "\n",
        "    ('sgd_clf', RandomForestClassifier(n_estimators=700,max_depth=11,  random_state=42))\n",
        "])\n",
        "fr_ppl_clf.fit(X_train, y_train)\n",
        "\n",
        "\n",
        "ppredicted_fr_val = fr_ppl_clf.predict(X_test)\n",
        "print(metrics.classification_report(y_test, ppredicted_fr_val))\n",
        "print(metrics.accuracy_score(y_test, ppredicted_fr_val), 'accuracy')\n",
        "print(metrics.precision_score(y_test, ppredicted_fr_val, average='macro'), 'precision')\n",
        "print(metrics.recall_score(y_test, ppredicted_fr_val, average='macro'), 'recall')\n",
        "print(metrics.f1_score(y_test, ppredicted_fr_val, average='macro'), 'f1')"
      ],
      "metadata": {
        "colab": {
          "base_uri": "https://localhost:8080/"
        },
        "id": "vSxatP_qAM22",
        "outputId": "190f8729-abad-4dc7-df95-85d52fc33609"
      },
      "execution_count": null,
      "outputs": [
        {
          "output_type": "stream",
          "name": "stdout",
          "text": [
            "                                                                   precision    recall  f1-score   support\n",
            "\n",
            "               Закон, региональный уровень, законодательный орган       0.79      0.88      0.83       329\n",
            "                Закон, федеральный уровень, законодательный орган       0.89      0.90      0.90       347\n",
            " Постановление, региональный уровень, глава исполнительной власти       0.60      0.63      0.62       318\n",
            "       Постановление, региональный уровень, законодательный орган       0.94      0.85      0.89       302\n",
            "Постановление, региональный уровень, органы исполнительной власти       0.95      0.86      0.90       244\n",
            "               Постановление, региональный уровень, правительство       0.53      0.65      0.59       318\n",
            "                Постановление, федеральный уровень, правительство       0.70      0.84      0.76       314\n",
            "       Приказ, региональный уровень, органы исполнительной власти       0.81      0.79      0.80       325\n",
            "        Приказ, федеральный уровень, органы исполнительной власти       0.81      0.90      0.85       315\n",
            "  Распоряжение, региональный уровень, глава исполнительной власти       0.80      0.67      0.73       330\n",
            "                Распоряжение, региональный уровень, правительство       0.66      0.65      0.65       323\n",
            "   Распоряжение, федеральный уровень, глава исполнительной власти       0.83      0.82      0.82       272\n",
            "                 Распоряжение, федеральный уровень, правительство       0.81      0.79      0.80       324\n",
            "          Указ, региональный уровень, глава исполнительной власти       0.71      0.60      0.65       296\n",
            "           Указ, федеральный уровень, глава исполнительной власти       0.85      0.68      0.75       222\n",
            "\n",
            "                                                         accuracy                           0.77      4579\n",
            "                                                        macro avg       0.78      0.77      0.77      4579\n",
            "                                                     weighted avg       0.77      0.77      0.77      4579\n",
            "\n",
            "0.7678532430661716 accuracy\n",
            "0.779161126260211 precision\n",
            "0.7667149852698412 recall\n",
            "0.7701416369794291 f1\n"
          ]
        }
      ]
    },
    {
      "cell_type": "code",
      "source": [],
      "metadata": {
        "id": "KeKqO7yRAahy"
      },
      "execution_count": null,
      "outputs": []
    },
    {
      "cell_type": "markdown",
      "source": [
        "Преобученный"
      ],
      "metadata": {
        "id": "z34F6jBaBLNS"
      }
    },
    {
      "cell_type": "code",
      "source": [
        "X_train, X_test, y_train, y_test = train_test_split(df_w2v['w2v_dif_pre'], df_w2v['doc_name'], test_size=0.2, random_state=42)\n",
        "X_train = np.vstack(X_train)\n",
        "X_test = np.vstack(X_test)"
      ],
      "metadata": {
        "id": "AY_1FF5sBNNH"
      },
      "execution_count": null,
      "outputs": []
    },
    {
      "cell_type": "code",
      "source": [
        "lr_ppl_clf = Pipeline([\n",
        "\n",
        "    ('lr_clf', LogisticRegression(random_state=42))\n",
        "])\n",
        "\n",
        "parameters = {\n",
        "              'lr_clf__solver':['lbfgs', 'newton-cg', 'sag', 'saga'],\n",
        "              'lr_clf__class_weight':[None, 'balanced'],\n",
        "              'lr_clf__penalty':[None, 'l2', 'l1', 'elasticnet'],\n",
        "              }\n",
        "\n",
        "model = GridSearchCV(lr_ppl_clf, parameters, cv=4, n_jobs=-1).fit(X_train[:2000], y_train[:2000])\n",
        "print('Best score and parameter combination:')\n",
        "print(model.best_score_, model.best_params_)"
      ],
      "metadata": {
        "colab": {
          "base_uri": "https://localhost:8080/"
        },
        "id": "4Y0nnbceAamd",
        "outputId": "949f0fed-0ad2-4736-b6b5-8994c0e68690"
      },
      "execution_count": null,
      "outputs": [
        {
          "output_type": "stream",
          "name": "stderr",
          "text": [
            "/usr/local/lib/python3.10/dist-packages/sklearn/model_selection/_validation.py:378: FitFailedWarning: \n",
            "56 fits failed out of a total of 128.\n",
            "The score on these train-test partitions for these parameters will be set to nan.\n",
            "If these failures are not expected, you can try to debug them by setting error_score='raise'.\n",
            "\n",
            "Below are more details about the failures:\n",
            "--------------------------------------------------------------------------------\n",
            "8 fits failed with the following error:\n",
            "Traceback (most recent call last):\n",
            "  File \"/usr/local/lib/python3.10/dist-packages/sklearn/model_selection/_validation.py\", line 686, in _fit_and_score\n",
            "    estimator.fit(X_train, y_train, **fit_params)\n",
            "  File \"/usr/local/lib/python3.10/dist-packages/sklearn/pipeline.py\", line 405, in fit\n",
            "    self._final_estimator.fit(Xt, y, **fit_params_last_step)\n",
            "  File \"/usr/local/lib/python3.10/dist-packages/sklearn/linear_model/_logistic.py\", line 1162, in fit\n",
            "    solver = _check_solver(self.solver, self.penalty, self.dual)\n",
            "  File \"/usr/local/lib/python3.10/dist-packages/sklearn/linear_model/_logistic.py\", line 54, in _check_solver\n",
            "    raise ValueError(\n",
            "ValueError: Solver lbfgs supports only 'l2' or 'none' penalties, got l1 penalty.\n",
            "\n",
            "--------------------------------------------------------------------------------\n",
            "8 fits failed with the following error:\n",
            "Traceback (most recent call last):\n",
            "  File \"/usr/local/lib/python3.10/dist-packages/sklearn/model_selection/_validation.py\", line 686, in _fit_and_score\n",
            "    estimator.fit(X_train, y_train, **fit_params)\n",
            "  File \"/usr/local/lib/python3.10/dist-packages/sklearn/pipeline.py\", line 405, in fit\n",
            "    self._final_estimator.fit(Xt, y, **fit_params_last_step)\n",
            "  File \"/usr/local/lib/python3.10/dist-packages/sklearn/linear_model/_logistic.py\", line 1162, in fit\n",
            "    solver = _check_solver(self.solver, self.penalty, self.dual)\n",
            "  File \"/usr/local/lib/python3.10/dist-packages/sklearn/linear_model/_logistic.py\", line 54, in _check_solver\n",
            "    raise ValueError(\n",
            "ValueError: Solver newton-cg supports only 'l2' or 'none' penalties, got l1 penalty.\n",
            "\n",
            "--------------------------------------------------------------------------------\n",
            "8 fits failed with the following error:\n",
            "Traceback (most recent call last):\n",
            "  File \"/usr/local/lib/python3.10/dist-packages/sklearn/model_selection/_validation.py\", line 686, in _fit_and_score\n",
            "    estimator.fit(X_train, y_train, **fit_params)\n",
            "  File \"/usr/local/lib/python3.10/dist-packages/sklearn/pipeline.py\", line 405, in fit\n",
            "    self._final_estimator.fit(Xt, y, **fit_params_last_step)\n",
            "  File \"/usr/local/lib/python3.10/dist-packages/sklearn/linear_model/_logistic.py\", line 1162, in fit\n",
            "    solver = _check_solver(self.solver, self.penalty, self.dual)\n",
            "  File \"/usr/local/lib/python3.10/dist-packages/sklearn/linear_model/_logistic.py\", line 54, in _check_solver\n",
            "    raise ValueError(\n",
            "ValueError: Solver sag supports only 'l2' or 'none' penalties, got l1 penalty.\n",
            "\n",
            "--------------------------------------------------------------------------------\n",
            "8 fits failed with the following error:\n",
            "Traceback (most recent call last):\n",
            "  File \"/usr/local/lib/python3.10/dist-packages/sklearn/model_selection/_validation.py\", line 686, in _fit_and_score\n",
            "    estimator.fit(X_train, y_train, **fit_params)\n",
            "  File \"/usr/local/lib/python3.10/dist-packages/sklearn/pipeline.py\", line 405, in fit\n",
            "    self._final_estimator.fit(Xt, y, **fit_params_last_step)\n",
            "  File \"/usr/local/lib/python3.10/dist-packages/sklearn/linear_model/_logistic.py\", line 1162, in fit\n",
            "    solver = _check_solver(self.solver, self.penalty, self.dual)\n",
            "  File \"/usr/local/lib/python3.10/dist-packages/sklearn/linear_model/_logistic.py\", line 54, in _check_solver\n",
            "    raise ValueError(\n",
            "ValueError: Solver lbfgs supports only 'l2' or 'none' penalties, got elasticnet penalty.\n",
            "\n",
            "--------------------------------------------------------------------------------\n",
            "8 fits failed with the following error:\n",
            "Traceback (most recent call last):\n",
            "  File \"/usr/local/lib/python3.10/dist-packages/sklearn/model_selection/_validation.py\", line 686, in _fit_and_score\n",
            "    estimator.fit(X_train, y_train, **fit_params)\n",
            "  File \"/usr/local/lib/python3.10/dist-packages/sklearn/pipeline.py\", line 405, in fit\n",
            "    self._final_estimator.fit(Xt, y, **fit_params_last_step)\n",
            "  File \"/usr/local/lib/python3.10/dist-packages/sklearn/linear_model/_logistic.py\", line 1162, in fit\n",
            "    solver = _check_solver(self.solver, self.penalty, self.dual)\n",
            "  File \"/usr/local/lib/python3.10/dist-packages/sklearn/linear_model/_logistic.py\", line 54, in _check_solver\n",
            "    raise ValueError(\n",
            "ValueError: Solver newton-cg supports only 'l2' or 'none' penalties, got elasticnet penalty.\n",
            "\n",
            "--------------------------------------------------------------------------------\n",
            "8 fits failed with the following error:\n",
            "Traceback (most recent call last):\n",
            "  File \"/usr/local/lib/python3.10/dist-packages/sklearn/model_selection/_validation.py\", line 686, in _fit_and_score\n",
            "    estimator.fit(X_train, y_train, **fit_params)\n",
            "  File \"/usr/local/lib/python3.10/dist-packages/sklearn/pipeline.py\", line 405, in fit\n",
            "    self._final_estimator.fit(Xt, y, **fit_params_last_step)\n",
            "  File \"/usr/local/lib/python3.10/dist-packages/sklearn/linear_model/_logistic.py\", line 1162, in fit\n",
            "    solver = _check_solver(self.solver, self.penalty, self.dual)\n",
            "  File \"/usr/local/lib/python3.10/dist-packages/sklearn/linear_model/_logistic.py\", line 54, in _check_solver\n",
            "    raise ValueError(\n",
            "ValueError: Solver sag supports only 'l2' or 'none' penalties, got elasticnet penalty.\n",
            "\n",
            "--------------------------------------------------------------------------------\n",
            "8 fits failed with the following error:\n",
            "Traceback (most recent call last):\n",
            "  File \"/usr/local/lib/python3.10/dist-packages/sklearn/model_selection/_validation.py\", line 686, in _fit_and_score\n",
            "    estimator.fit(X_train, y_train, **fit_params)\n",
            "  File \"/usr/local/lib/python3.10/dist-packages/sklearn/pipeline.py\", line 405, in fit\n",
            "    self._final_estimator.fit(Xt, y, **fit_params_last_step)\n",
            "  File \"/usr/local/lib/python3.10/dist-packages/sklearn/linear_model/_logistic.py\", line 1291, in fit\n",
            "    fold_coefs_ = Parallel(n_jobs=self.n_jobs, verbose=self.verbose, prefer=prefer)(\n",
            "  File \"/usr/local/lib/python3.10/dist-packages/sklearn/utils/parallel.py\", line 63, in __call__\n",
            "    return super().__call__(iterable_with_config)\n",
            "  File \"/usr/local/lib/python3.10/dist-packages/joblib/parallel.py\", line 1863, in __call__\n",
            "    return output if self.return_generator else list(output)\n",
            "  File \"/usr/local/lib/python3.10/dist-packages/joblib/parallel.py\", line 1792, in _get_sequential_output\n",
            "    res = func(*args, **kwargs)\n",
            "  File \"/usr/local/lib/python3.10/dist-packages/sklearn/utils/parallel.py\", line 123, in __call__\n",
            "    return self.function(*args, **kwargs)\n",
            "  File \"/usr/local/lib/python3.10/dist-packages/sklearn/linear_model/_logistic.py\", line 521, in _logistic_regression_path\n",
            "    alpha = (1.0 / C) * (1 - l1_ratio)\n",
            "TypeError: unsupported operand type(s) for -: 'int' and 'NoneType'\n",
            "\n",
            "  warnings.warn(some_fits_failed_message, FitFailedWarning)\n",
            "/usr/local/lib/python3.10/dist-packages/sklearn/model_selection/_search.py:952: UserWarning: One or more of the test scores are non-finite: [0.5965 0.572  0.5995 0.6035 0.578  0.581  0.581  0.5815    nan    nan\n",
            "    nan 0.5595    nan    nan    nan    nan 0.599  0.5665 0.5985 0.5995\n",
            " 0.575  0.573  0.572  0.572     nan    nan    nan 0.5525    nan    nan\n",
            "    nan    nan]\n",
            "  warnings.warn(\n"
          ]
        },
        {
          "output_type": "stream",
          "name": "stdout",
          "text": [
            "Best score and parameter combination:\n",
            "0.6034999999999999 {'lr_clf__class_weight': None, 'lr_clf__penalty': None, 'lr_clf__solver': 'saga'}\n"
          ]
        },
        {
          "output_type": "stream",
          "name": "stderr",
          "text": [
            "/usr/local/lib/python3.10/dist-packages/sklearn/linear_model/_sag.py:350: ConvergenceWarning: The max_iter was reached which means the coef_ did not converge\n",
            "  warnings.warn(\n"
          ]
        }
      ]
    },
    {
      "cell_type": "code",
      "source": [
        "lr_ppl_clf = Pipeline([\n",
        "\n",
        "    ('lr_clf', LogisticRegression(solver='saga',penalty=None, class_weight=None, random_state=42))\n",
        "])\n",
        "lr_ppl_clf.fit(X_train, y_train)\n",
        "predicted_lr = lr_ppl_clf.predict(X_test)\n",
        "print(metrics.classification_report(y_test, predicted_lr))\n",
        "print(metrics.accuracy_score(y_test, predicted_lr))\n",
        "print(metrics.precision_score(y_test, predicted_lr, average='macro'))\n",
        "print(metrics.recall_score(y_test, predicted_lr, average='macro'))\n",
        "print(metrics.f1_score(y_test, predicted_lr, average='macro'))"
      ],
      "metadata": {
        "colab": {
          "base_uri": "https://localhost:8080/"
        },
        "id": "C6W3YZQVAcRK",
        "outputId": "f5ee87a7-d559-45ff-a437-3c2d58917b7e"
      },
      "execution_count": null,
      "outputs": [
        {
          "output_type": "stream",
          "name": "stderr",
          "text": [
            "/usr/local/lib/python3.10/dist-packages/sklearn/linear_model/_sag.py:350: ConvergenceWarning: The max_iter was reached which means the coef_ did not converge\n",
            "  warnings.warn(\n"
          ]
        },
        {
          "output_type": "stream",
          "name": "stdout",
          "text": [
            "                                                                   precision    recall  f1-score   support\n",
            "\n",
            "               Закон, региональный уровень, законодательный орган       0.73      0.80      0.77       329\n",
            "                Закон, федеральный уровень, законодательный орган       0.85      0.84      0.84       347\n",
            " Постановление, региональный уровень, глава исполнительной власти       0.52      0.47      0.50       318\n",
            "       Постановление, региональный уровень, законодательный орган       0.76      0.76      0.76       302\n",
            "Постановление, региональный уровень, органы исполнительной власти       0.85      0.85      0.85       244\n",
            "               Постановление, региональный уровень, правительство       0.52      0.52      0.52       318\n",
            "                Постановление, федеральный уровень, правительство       0.66      0.72      0.68       314\n",
            "       Приказ, региональный уровень, органы исполнительной власти       0.65      0.70      0.67       325\n",
            "        Приказ, федеральный уровень, органы исполнительной власти       0.71      0.71      0.71       315\n",
            "  Распоряжение, региональный уровень, глава исполнительной власти       0.65      0.56      0.60       330\n",
            "                Распоряжение, региональный уровень, правительство       0.49      0.46      0.48       323\n",
            "   Распоряжение, федеральный уровень, глава исполнительной власти       0.70      0.64      0.67       272\n",
            "                 Распоряжение, федеральный уровень, правительство       0.59      0.58      0.59       324\n",
            "          Указ, региональный уровень, глава исполнительной власти       0.52      0.56      0.54       296\n",
            "           Указ, федеральный уровень, глава исполнительной власти       0.60      0.63      0.61       222\n",
            "\n",
            "                                                         accuracy                           0.65      4579\n",
            "                                                        macro avg       0.65      0.65      0.65      4579\n",
            "                                                     weighted avg       0.65      0.65      0.65      4579\n",
            "\n",
            "0.6514522821576764\n",
            "0.651625880530995\n",
            "0.6529534773417518\n",
            "0.6515580201865857\n"
          ]
        }
      ]
    },
    {
      "cell_type": "code",
      "source": [
        "sgd_ppl_clf = Pipeline([\n",
        "\n",
        "    ('sgd_clf', SGDClassifier(random_state=42))\n",
        "])\n",
        "\n",
        "parameters = {\n",
        "              'sgd_clf__loss':['hinge', 'log', 'modified_huber', 'squared_hinge', 'perceptron'],\n",
        "              'sgd_clf__class_weight':[None, 'balanced'],\n",
        "              'sgd_clf__penalty':[None, 'l2', 'l1', 'elasticnet'],\n",
        "\n",
        "              }\n",
        "model = GridSearchCV(sgd_ppl_clf, parameters, cv=4, n_jobs=-1).fit(X_train[:2000], y_train[:2000])\n",
        "print('Best score and parameter combination:')\n",
        "print(model.best_score_, model.best_params_)"
      ],
      "metadata": {
        "colab": {
          "base_uri": "https://localhost:8080/"
        },
        "id": "HnBtSOOTAcgi",
        "outputId": "5c841c4a-2e27-4ee2-8457-7d7147924a22"
      },
      "execution_count": null,
      "outputs": [
        {
          "output_type": "stream",
          "name": "stderr",
          "text": [
            "/usr/local/lib/python3.10/dist-packages/sklearn/linear_model/_stochastic_gradient.py:163: FutureWarning: The loss 'log' was deprecated in v1.1 and will be removed in version 1.3. Use `loss='log_loss'` which is equivalent.\n",
            "  warnings.warn(\n"
          ]
        },
        {
          "output_type": "stream",
          "name": "stdout",
          "text": [
            "Best score and parameter combination:\n",
            "0.5485 {'sgd_clf__class_weight': None, 'sgd_clf__loss': 'log', 'sgd_clf__penalty': 'l1'}\n"
          ]
        }
      ]
    },
    {
      "cell_type": "code",
      "source": [
        "sgd_ppl_clf = Pipeline([\n",
        "\n",
        "    ('sgd_clf', SGDClassifier(loss='log_loss',penalty='l1', class_weight=None, random_state=42))\n",
        "])\n",
        "sgd_ppl_clf.fit(X_train, y_train)\n",
        "\n",
        "\n",
        "predicted_sgd_val = sgd_ppl_clf.predict(X_test)\n",
        "print(metrics.classification_report(y_test, predicted_sgd_val))\n",
        "print(metrics.accuracy_score(y_test, predicted_sgd_val), 'accuracy')\n",
        "print(metrics.precision_score(y_test, predicted_sgd_val, average='macro'), 'precision')\n",
        "print(metrics.recall_score(y_test, predicted_sgd_val, average='macro'), 'recall')\n",
        "print(metrics.f1_score(y_test, predicted_sgd_val, average='macro'), 'f1')"
      ],
      "metadata": {
        "colab": {
          "base_uri": "https://localhost:8080/"
        },
        "id": "FeskllhUAz5Z",
        "outputId": "f3690a3b-5a31-4967-a5e2-80d40a8043eb"
      },
      "execution_count": null,
      "outputs": [
        {
          "output_type": "stream",
          "name": "stdout",
          "text": [
            "                                                                   precision    recall  f1-score   support\n",
            "\n",
            "               Закон, региональный уровень, законодательный орган       0.68      0.80      0.74       329\n",
            "                Закон, федеральный уровень, законодательный орган       0.82      0.86      0.84       347\n",
            " Постановление, региональный уровень, глава исполнительной власти       0.49      0.14      0.21       318\n",
            "       Постановление, региональный уровень, законодательный орган       0.73      0.76      0.75       302\n",
            "Постановление, региональный уровень, органы исполнительной власти       0.88      0.84      0.86       244\n",
            "               Постановление, региональный уровень, правительство       0.60      0.31      0.40       318\n",
            "                Постановление, федеральный уровень, правительство       0.68      0.68      0.68       314\n",
            "       Приказ, региональный уровень, органы исполнительной власти       0.59      0.68      0.63       325\n",
            "        Приказ, федеральный уровень, органы исполнительной власти       0.55      0.77      0.64       315\n",
            "  Распоряжение, региональный уровень, глава исполнительной власти       0.67      0.55      0.60       330\n",
            "                Распоряжение, региональный уровень, правительство       0.41      0.49      0.44       323\n",
            "   Распоряжение, федеральный уровень, глава исполнительной власти       0.67      0.61      0.64       272\n",
            "                 Распоряжение, федеральный уровень, правительство       0.53      0.54      0.54       324\n",
            "          Указ, региональный уровень, глава исполнительной власти       0.38      0.68      0.48       296\n",
            "           Указ, федеральный уровень, глава исполнительной власти       0.73      0.44      0.55       222\n",
            "\n",
            "                                                         accuracy                           0.61      4579\n",
            "                                                        macro avg       0.63      0.61      0.60      4579\n",
            "                                                     weighted avg       0.62      0.61      0.60      4579\n",
            "\n",
            "0.6103952828128413 accuracy\n",
            "0.6281021429787462 precision\n",
            "0.6097433402492747 recall\n",
            "0.6010665875937704 f1\n"
          ]
        }
      ]
    },
    {
      "cell_type": "code",
      "source": [
        "fr_ppl_clf = Pipeline([\n",
        "\n",
        "    ('rf_clf', RandomForestClassifier(random_state=42))\n",
        "])\n",
        "\n",
        "parameters = {\n",
        "              'rf_clf__n_estimators':[300, 500, 700],\n",
        "              'rf_clf__max_depth':[3, 5, 8, 11],\n",
        "\n",
        "\n",
        "              }\n",
        "model = GridSearchCV(fr_ppl_clf, parameters, cv=4, n_jobs=-1).fit(X_train[:2000], y_train[:2000])\n",
        "print('Best score and parameter combination:')\n",
        "print(model.best_score_, model.best_params_)"
      ],
      "metadata": {
        "colab": {
          "base_uri": "https://localhost:8080/"
        },
        "id": "jDMY7qO_Az77",
        "outputId": "6f7c3386-3be8-4074-b571-c059f901394f"
      },
      "execution_count": null,
      "outputs": [
        {
          "output_type": "stream",
          "name": "stdout",
          "text": [
            "Best score and parameter combination:\n",
            "0.6 {'rf_clf__max_depth': 11, 'rf_clf__n_estimators': 700}\n"
          ]
        }
      ]
    },
    {
      "cell_type": "code",
      "source": [
        "fr_ppl_clf = Pipeline([\n",
        "\n",
        "    ('sgd_clf', RandomForestClassifier(n_estimators=700,max_depth=11,  random_state=42))\n",
        "])\n",
        "fr_ppl_clf.fit(X_train, y_train)\n",
        "\n",
        "\n",
        "ppredicted_fr_val = fr_ppl_clf.predict(X_test)\n",
        "print(metrics.classification_report(y_test, ppredicted_fr_val))\n",
        "print(metrics.accuracy_score(y_test, ppredicted_fr_val), 'accuracy')\n",
        "print(metrics.precision_score(y_test, ppredicted_fr_val, average='macro'), 'precision')\n",
        "print(metrics.recall_score(y_test, ppredicted_fr_val, average='macro'), 'recall')\n",
        "print(metrics.f1_score(y_test, ppredicted_fr_val, average='macro'), 'f1')"
      ],
      "metadata": {
        "colab": {
          "base_uri": "https://localhost:8080/"
        },
        "id": "2xzLgPPFAcmo",
        "outputId": "603a3e7a-a60e-48e0-e406-c45959a43f37"
      },
      "execution_count": null,
      "outputs": [
        {
          "output_type": "stream",
          "name": "stdout",
          "text": [
            "                                                                   precision    recall  f1-score   support\n",
            "\n",
            "               Закон, региональный уровень, законодательный орган       0.65      0.84      0.73       329\n",
            "                Закон, федеральный уровень, законодательный орган       0.82      0.86      0.84       347\n",
            " Постановление, региональный уровень, глава исполнительной власти       0.65      0.51      0.57       318\n",
            "       Постановление, региональный уровень, законодательный орган       0.85      0.76      0.80       302\n",
            "Постановление, региональный уровень, органы исполнительной власти       0.94      0.86      0.90       244\n",
            "               Постановление, региональный уровень, правительство       0.48      0.58      0.52       318\n",
            "                Постановление, федеральный уровень, правительство       0.65      0.80      0.71       314\n",
            "       Приказ, региональный уровень, органы исполнительной власти       0.69      0.72      0.70       325\n",
            "        Приказ, федеральный уровень, органы исполнительной власти       0.71      0.84      0.77       315\n",
            "  Распоряжение, региональный уровень, глава исполнительной власти       0.73      0.61      0.66       330\n",
            "                Распоряжение, региональный уровень, правительство       0.57      0.57      0.57       323\n",
            "   Распоряжение, федеральный уровень, глава исполнительной власти       0.82      0.79      0.81       272\n",
            "                 Распоряжение, федеральный уровень, правительство       0.80      0.66      0.73       324\n",
            "          Указ, региональный уровень, глава исполнительной власти       0.58      0.53      0.56       296\n",
            "           Указ, федеральный уровень, глава исполнительной власти       0.82      0.63      0.71       222\n",
            "\n",
            "                                                         accuracy                           0.70      4579\n",
            "                                                        macro avg       0.72      0.70      0.71      4579\n",
            "                                                     weighted avg       0.71      0.70      0.70      4579\n",
            "\n",
            "0.7034286962218825 accuracy\n",
            "0.717543505771133 precision\n",
            "0.7039272177712567 recall\n",
            "0.7062542271922397 f1\n"
          ]
        }
      ]
    },
    {
      "cell_type": "code",
      "source": [],
      "metadata": {
        "id": "i5Q5WfqeAcsN"
      },
      "execution_count": null,
      "outputs": []
    },
    {
      "cell_type": "code",
      "source": [],
      "metadata": {
        "id": "L-kcdFG4Acww"
      },
      "execution_count": null,
      "outputs": []
    },
    {
      "cell_type": "markdown",
      "source": [
        "Предобученный с td-idf"
      ],
      "metadata": {
        "id": "QGGcL1y5BO22"
      }
    },
    {
      "cell_type": "code",
      "source": [
        "X_train, X_test, y_train, y_test = train_test_split(df_w2v['w2v_dif_idf_pre'], df_w2v['doc_name'], test_size=0.2, random_state=42)\n",
        "X_train = np.vstack(X_train)\n",
        "X_test = np.vstack(X_test)"
      ],
      "metadata": {
        "id": "t58r0AILBRrI"
      },
      "execution_count": null,
      "outputs": []
    },
    {
      "cell_type": "code",
      "source": [
        "lr_ppl_clf = Pipeline([\n",
        "\n",
        "    ('lr_clf', LogisticRegression(random_state=42))\n",
        "])\n",
        "\n",
        "parameters = {\n",
        "              'lr_clf__solver':['lbfgs', 'newton-cg', 'sag', 'saga'],\n",
        "              'lr_clf__class_weight':[None, 'balanced'],\n",
        "              'lr_clf__penalty':[None, 'l2', 'l1', 'elasticnet'],\n",
        "              }\n",
        "\n",
        "model = GridSearchCV(lr_ppl_clf, parameters, cv=4, n_jobs=-1).fit(X_train[:2000], y_train[:2000])\n",
        "print('Best score and parameter combination:')\n",
        "print(model.best_score_, model.best_params_)"
      ],
      "metadata": {
        "colab": {
          "base_uri": "https://localhost:8080/"
        },
        "id": "18kOzWqoAc3V",
        "outputId": "2675c27f-c2f1-4277-8254-153b0f68aa9b"
      },
      "execution_count": null,
      "outputs": [
        {
          "output_type": "stream",
          "name": "stderr",
          "text": [
            "/usr/local/lib/python3.10/dist-packages/sklearn/model_selection/_validation.py:378: FitFailedWarning: \n",
            "56 fits failed out of a total of 128.\n",
            "The score on these train-test partitions for these parameters will be set to nan.\n",
            "If these failures are not expected, you can try to debug them by setting error_score='raise'.\n",
            "\n",
            "Below are more details about the failures:\n",
            "--------------------------------------------------------------------------------\n",
            "8 fits failed with the following error:\n",
            "Traceback (most recent call last):\n",
            "  File \"/usr/local/lib/python3.10/dist-packages/sklearn/model_selection/_validation.py\", line 686, in _fit_and_score\n",
            "    estimator.fit(X_train, y_train, **fit_params)\n",
            "  File \"/usr/local/lib/python3.10/dist-packages/sklearn/pipeline.py\", line 405, in fit\n",
            "    self._final_estimator.fit(Xt, y, **fit_params_last_step)\n",
            "  File \"/usr/local/lib/python3.10/dist-packages/sklearn/linear_model/_logistic.py\", line 1162, in fit\n",
            "    solver = _check_solver(self.solver, self.penalty, self.dual)\n",
            "  File \"/usr/local/lib/python3.10/dist-packages/sklearn/linear_model/_logistic.py\", line 54, in _check_solver\n",
            "    raise ValueError(\n",
            "ValueError: Solver lbfgs supports only 'l2' or 'none' penalties, got l1 penalty.\n",
            "\n",
            "--------------------------------------------------------------------------------\n",
            "8 fits failed with the following error:\n",
            "Traceback (most recent call last):\n",
            "  File \"/usr/local/lib/python3.10/dist-packages/sklearn/model_selection/_validation.py\", line 686, in _fit_and_score\n",
            "    estimator.fit(X_train, y_train, **fit_params)\n",
            "  File \"/usr/local/lib/python3.10/dist-packages/sklearn/pipeline.py\", line 405, in fit\n",
            "    self._final_estimator.fit(Xt, y, **fit_params_last_step)\n",
            "  File \"/usr/local/lib/python3.10/dist-packages/sklearn/linear_model/_logistic.py\", line 1162, in fit\n",
            "    solver = _check_solver(self.solver, self.penalty, self.dual)\n",
            "  File \"/usr/local/lib/python3.10/dist-packages/sklearn/linear_model/_logistic.py\", line 54, in _check_solver\n",
            "    raise ValueError(\n",
            "ValueError: Solver newton-cg supports only 'l2' or 'none' penalties, got l1 penalty.\n",
            "\n",
            "--------------------------------------------------------------------------------\n",
            "8 fits failed with the following error:\n",
            "Traceback (most recent call last):\n",
            "  File \"/usr/local/lib/python3.10/dist-packages/sklearn/model_selection/_validation.py\", line 686, in _fit_and_score\n",
            "    estimator.fit(X_train, y_train, **fit_params)\n",
            "  File \"/usr/local/lib/python3.10/dist-packages/sklearn/pipeline.py\", line 405, in fit\n",
            "    self._final_estimator.fit(Xt, y, **fit_params_last_step)\n",
            "  File \"/usr/local/lib/python3.10/dist-packages/sklearn/linear_model/_logistic.py\", line 1162, in fit\n",
            "    solver = _check_solver(self.solver, self.penalty, self.dual)\n",
            "  File \"/usr/local/lib/python3.10/dist-packages/sklearn/linear_model/_logistic.py\", line 54, in _check_solver\n",
            "    raise ValueError(\n",
            "ValueError: Solver sag supports only 'l2' or 'none' penalties, got l1 penalty.\n",
            "\n",
            "--------------------------------------------------------------------------------\n",
            "8 fits failed with the following error:\n",
            "Traceback (most recent call last):\n",
            "  File \"/usr/local/lib/python3.10/dist-packages/sklearn/model_selection/_validation.py\", line 686, in _fit_and_score\n",
            "    estimator.fit(X_train, y_train, **fit_params)\n",
            "  File \"/usr/local/lib/python3.10/dist-packages/sklearn/pipeline.py\", line 405, in fit\n",
            "    self._final_estimator.fit(Xt, y, **fit_params_last_step)\n",
            "  File \"/usr/local/lib/python3.10/dist-packages/sklearn/linear_model/_logistic.py\", line 1162, in fit\n",
            "    solver = _check_solver(self.solver, self.penalty, self.dual)\n",
            "  File \"/usr/local/lib/python3.10/dist-packages/sklearn/linear_model/_logistic.py\", line 54, in _check_solver\n",
            "    raise ValueError(\n",
            "ValueError: Solver lbfgs supports only 'l2' or 'none' penalties, got elasticnet penalty.\n",
            "\n",
            "--------------------------------------------------------------------------------\n",
            "8 fits failed with the following error:\n",
            "Traceback (most recent call last):\n",
            "  File \"/usr/local/lib/python3.10/dist-packages/sklearn/model_selection/_validation.py\", line 686, in _fit_and_score\n",
            "    estimator.fit(X_train, y_train, **fit_params)\n",
            "  File \"/usr/local/lib/python3.10/dist-packages/sklearn/pipeline.py\", line 405, in fit\n",
            "    self._final_estimator.fit(Xt, y, **fit_params_last_step)\n",
            "  File \"/usr/local/lib/python3.10/dist-packages/sklearn/linear_model/_logistic.py\", line 1162, in fit\n",
            "    solver = _check_solver(self.solver, self.penalty, self.dual)\n",
            "  File \"/usr/local/lib/python3.10/dist-packages/sklearn/linear_model/_logistic.py\", line 54, in _check_solver\n",
            "    raise ValueError(\n",
            "ValueError: Solver newton-cg supports only 'l2' or 'none' penalties, got elasticnet penalty.\n",
            "\n",
            "--------------------------------------------------------------------------------\n",
            "8 fits failed with the following error:\n",
            "Traceback (most recent call last):\n",
            "  File \"/usr/local/lib/python3.10/dist-packages/sklearn/model_selection/_validation.py\", line 686, in _fit_and_score\n",
            "    estimator.fit(X_train, y_train, **fit_params)\n",
            "  File \"/usr/local/lib/python3.10/dist-packages/sklearn/pipeline.py\", line 405, in fit\n",
            "    self._final_estimator.fit(Xt, y, **fit_params_last_step)\n",
            "  File \"/usr/local/lib/python3.10/dist-packages/sklearn/linear_model/_logistic.py\", line 1162, in fit\n",
            "    solver = _check_solver(self.solver, self.penalty, self.dual)\n",
            "  File \"/usr/local/lib/python3.10/dist-packages/sklearn/linear_model/_logistic.py\", line 54, in _check_solver\n",
            "    raise ValueError(\n",
            "ValueError: Solver sag supports only 'l2' or 'none' penalties, got elasticnet penalty.\n",
            "\n",
            "--------------------------------------------------------------------------------\n",
            "8 fits failed with the following error:\n",
            "Traceback (most recent call last):\n",
            "  File \"/usr/local/lib/python3.10/dist-packages/sklearn/model_selection/_validation.py\", line 686, in _fit_and_score\n",
            "    estimator.fit(X_train, y_train, **fit_params)\n",
            "  File \"/usr/local/lib/python3.10/dist-packages/sklearn/pipeline.py\", line 405, in fit\n",
            "    self._final_estimator.fit(Xt, y, **fit_params_last_step)\n",
            "  File \"/usr/local/lib/python3.10/dist-packages/sklearn/linear_model/_logistic.py\", line 1291, in fit\n",
            "    fold_coefs_ = Parallel(n_jobs=self.n_jobs, verbose=self.verbose, prefer=prefer)(\n",
            "  File \"/usr/local/lib/python3.10/dist-packages/sklearn/utils/parallel.py\", line 63, in __call__\n",
            "    return super().__call__(iterable_with_config)\n",
            "  File \"/usr/local/lib/python3.10/dist-packages/joblib/parallel.py\", line 1863, in __call__\n",
            "    return output if self.return_generator else list(output)\n",
            "  File \"/usr/local/lib/python3.10/dist-packages/joblib/parallel.py\", line 1792, in _get_sequential_output\n",
            "    res = func(*args, **kwargs)\n",
            "  File \"/usr/local/lib/python3.10/dist-packages/sklearn/utils/parallel.py\", line 123, in __call__\n",
            "    return self.function(*args, **kwargs)\n",
            "  File \"/usr/local/lib/python3.10/dist-packages/sklearn/linear_model/_logistic.py\", line 521, in _logistic_regression_path\n",
            "    alpha = (1.0 / C) * (1 - l1_ratio)\n",
            "TypeError: unsupported operand type(s) for -: 'int' and 'NoneType'\n",
            "\n",
            "  warnings.warn(some_fits_failed_message, FitFailedWarning)\n",
            "/usr/local/lib/python3.10/dist-packages/sklearn/model_selection/_search.py:952: UserWarning: One or more of the test scores are non-finite: [0.565  0.5585 0.58   0.5735 0.5795 0.579  0.577  0.5735    nan    nan\n",
            "    nan 0.574     nan    nan    nan    nan 0.5635 0.562  0.577  0.5705\n",
            " 0.5755 0.575  0.572  0.568     nan    nan    nan 0.569     nan    nan\n",
            "    nan    nan]\n",
            "  warnings.warn(\n"
          ]
        },
        {
          "output_type": "stream",
          "name": "stdout",
          "text": [
            "Best score and parameter combination:\n",
            "0.58 {'lr_clf__class_weight': None, 'lr_clf__penalty': None, 'lr_clf__solver': 'sag'}\n"
          ]
        },
        {
          "output_type": "stream",
          "name": "stderr",
          "text": [
            "/usr/local/lib/python3.10/dist-packages/sklearn/linear_model/_sag.py:350: ConvergenceWarning: The max_iter was reached which means the coef_ did not converge\n",
            "  warnings.warn(\n"
          ]
        }
      ]
    },
    {
      "cell_type": "code",
      "source": [
        "lr_ppl_clf = Pipeline([\n",
        "\n",
        "    ('lr_clf', LogisticRegression(solver='sag',penalty=None, class_weight=None, random_state=42))\n",
        "])\n",
        "lr_ppl_clf.fit(X_train, y_train)\n",
        "predicted_lr = lr_ppl_clf.predict(X_test)\n",
        "print(metrics.classification_report(y_test, predicted_lr))\n",
        "print(metrics.accuracy_score(y_test, predicted_lr))\n",
        "print(metrics.precision_score(y_test, predicted_lr, average='macro'))\n",
        "print(metrics.recall_score(y_test, predicted_lr, average='macro'))\n",
        "print(metrics.f1_score(y_test, predicted_lr, average='macro'))"
      ],
      "metadata": {
        "colab": {
          "base_uri": "https://localhost:8080/"
        },
        "id": "IFBG1BgxAhl0",
        "outputId": "710a65e2-55d2-4ac2-cedd-c46c9c769908"
      },
      "execution_count": null,
      "outputs": [
        {
          "output_type": "stream",
          "name": "stderr",
          "text": [
            "/usr/local/lib/python3.10/dist-packages/sklearn/linear_model/_sag.py:350: ConvergenceWarning: The max_iter was reached which means the coef_ did not converge\n",
            "  warnings.warn(\n"
          ]
        },
        {
          "output_type": "stream",
          "name": "stdout",
          "text": [
            "                                                                   precision    recall  f1-score   support\n",
            "\n",
            "               Закон, региональный уровень, законодательный орган       0.70      0.79      0.74       329\n",
            "                Закон, федеральный уровень, законодательный орган       0.82      0.84      0.83       347\n",
            " Постановление, региональный уровень, глава исполнительной власти       0.53      0.43      0.48       318\n",
            "       Постановление, региональный уровень, законодательный орган       0.73      0.75      0.74       302\n",
            "Постановление, региональный уровень, органы исполнительной власти       0.83      0.86      0.84       244\n",
            "               Постановление, региональный уровень, правительство       0.50      0.56      0.53       318\n",
            "                Постановление, федеральный уровень, правительство       0.63      0.72      0.67       314\n",
            "       Приказ, региональный уровень, органы исполнительной власти       0.65      0.68      0.67       325\n",
            "        Приказ, федеральный уровень, органы исполнительной власти       0.70      0.69      0.69       315\n",
            "  Распоряжение, региональный уровень, глава исполнительной власти       0.68      0.55      0.61       330\n",
            "                Распоряжение, региональный уровень, правительство       0.52      0.46      0.48       323\n",
            "   Распоряжение, федеральный уровень, глава исполнительной власти       0.69      0.59      0.64       272\n",
            "                 Распоряжение, федеральный уровень, правительство       0.57      0.55      0.56       324\n",
            "          Указ, региональный уровень, глава исполнительной власти       0.51      0.55      0.53       296\n",
            "           Указ, федеральный уровень, глава исполнительной власти       0.57      0.61      0.59       222\n",
            "\n",
            "                                                         accuracy                           0.64      4579\n",
            "                                                        macro avg       0.64      0.64      0.64      4579\n",
            "                                                     weighted avg       0.64      0.64      0.64      4579\n",
            "\n",
            "0.6411880323214676\n",
            "0.6411406484837905\n",
            "0.6424605395620291\n",
            "0.6398761809316885\n"
          ]
        }
      ]
    },
    {
      "cell_type": "code",
      "source": [],
      "metadata": {
        "id": "WIfP2pdqAxfv"
      },
      "execution_count": null,
      "outputs": []
    },
    {
      "cell_type": "code",
      "source": [
        "sgd_ppl_clf = Pipeline([\n",
        "\n",
        "    ('sgd_clf', SGDClassifier(random_state=42))\n",
        "])\n",
        "\n",
        "parameters = {\n",
        "              'sgd_clf__loss':['hinge', 'log', 'modified_huber', 'squared_hinge', 'perceptron'],\n",
        "              'sgd_clf__class_weight':[None, 'balanced'],\n",
        "              'sgd_clf__penalty':[None, 'l2', 'l1', 'elasticnet'],\n",
        "\n",
        "              }\n",
        "model = GridSearchCV(sgd_ppl_clf, parameters, cv=4, n_jobs=-1).fit(X_train[:2000], y_train[:2000])\n",
        "print('Best score and parameter combination:')\n",
        "print(model.best_score_, model.best_params_)"
      ],
      "metadata": {
        "colab": {
          "base_uri": "https://localhost:8080/"
        },
        "id": "BlpctC_aAxiI",
        "outputId": "13194af6-f9cf-4381-ee5c-aba7c5876bbd"
      },
      "execution_count": null,
      "outputs": [
        {
          "output_type": "stream",
          "name": "stdout",
          "text": [
            "Best score and parameter combination:\n",
            "0.52 {'sgd_clf__class_weight': None, 'sgd_clf__loss': 'perceptron', 'sgd_clf__penalty': None}\n"
          ]
        }
      ]
    },
    {
      "cell_type": "code",
      "source": [
        "sgd_ppl_clf = Pipeline([\n",
        "\n",
        "    ('sgd_clf', SGDClassifier(loss='perceptron',penalty=None, class_weight=None, random_state=42))\n",
        "])\n",
        "sgd_ppl_clf.fit(X_train, y_train)\n",
        "\n",
        "\n",
        "predicted_sgd_val = sgd_ppl_clf.predict(X_test)\n",
        "print(metrics.classification_report(y_test, predicted_sgd_val))\n",
        "print(metrics.accuracy_score(y_test, predicted_sgd_val), 'accuracy')\n",
        "print(metrics.precision_score(y_test, predicted_sgd_val, average='macro'), 'precision')\n",
        "print(metrics.recall_score(y_test, predicted_sgd_val, average='macro'), 'recall')\n",
        "print(metrics.f1_score(y_test, predicted_sgd_val, average='macro'), 'f1')"
      ],
      "metadata": {
        "colab": {
          "base_uri": "https://localhost:8080/"
        },
        "id": "mnF4WMxpA4cE",
        "outputId": "86c23c37-ce2f-48c8-f075-a274239eb447"
      },
      "execution_count": null,
      "outputs": [
        {
          "output_type": "stream",
          "name": "stdout",
          "text": [
            "                                                                   precision    recall  f1-score   support\n",
            "\n",
            "               Закон, региональный уровень, законодательный орган       0.72      0.65      0.68       329\n",
            "                Закон, федеральный уровень, законодательный орган       0.77      0.78      0.77       347\n",
            " Постановление, региональный уровень, глава исполнительной власти       0.57      0.03      0.05       318\n",
            "       Постановление, региональный уровень, законодательный орган       0.63      0.75      0.68       302\n",
            "Постановление, региональный уровень, органы исполнительной власти       0.74      0.80      0.77       244\n",
            "               Постановление, региональный уровень, правительство       0.63      0.14      0.23       318\n",
            "                Постановление, федеральный уровень, правительство       0.52      0.67      0.59       314\n",
            "       Приказ, региональный уровень, органы исполнительной власти       0.31      0.81      0.45       325\n",
            "        Приказ, федеральный уровень, органы исполнительной власти       0.53      0.68      0.59       315\n",
            "  Распоряжение, региональный уровень, глава исполнительной власти       0.32      0.72      0.44       330\n",
            "                Распоряжение, региональный уровень, правительство       0.56      0.18      0.27       323\n",
            "   Распоряжение, федеральный уровень, глава исполнительной власти       0.79      0.20      0.32       272\n",
            "                 Распоряжение, федеральный уровень, правительство       0.47      0.42      0.44       324\n",
            "          Указ, региональный уровень, глава исполнительной власти       0.40      0.46      0.43       296\n",
            "           Указ, федеральный уровень, глава исполнительной власти       1.00      0.07      0.13       222\n",
            "\n",
            "                                                         accuracy                           0.50      4579\n",
            "                                                        macro avg       0.60      0.49      0.46      4579\n",
            "                                                     weighted avg       0.59      0.50      0.46      4579\n",
            "\n",
            "0.49858047608648176 accuracy\n",
            "0.5977571412730609 precision\n",
            "0.4900697622921245 recall\n",
            "0.45667597668542476 f1\n"
          ]
        }
      ]
    },
    {
      "cell_type": "code",
      "source": [
        "fr_ppl_clf = Pipeline([\n",
        "\n",
        "    ('rf_clf', RandomForestClassifier(random_state=42))\n",
        "])\n",
        "\n",
        "parameters = {\n",
        "              'rf_clf__n_estimators':[300, 500, 700],\n",
        "              'rf_clf__max_depth':[3, 5, 8, 11],\n",
        "\n",
        "\n",
        "              }\n",
        "model = GridSearchCV(fr_ppl_clf, parameters, cv=4, n_jobs=-1).fit(X_train[:2000], y_train[:2000])\n",
        "print('Best score and parameter combination:')\n",
        "print(model.best_score_, model.best_params_)"
      ],
      "metadata": {
        "colab": {
          "base_uri": "https://localhost:8080/"
        },
        "id": "tRXgufWEBAJH",
        "outputId": "7f5ef075-b085-45b7-f477-dbf82fd4660a"
      },
      "execution_count": null,
      "outputs": [
        {
          "output_type": "stream",
          "name": "stdout",
          "text": [
            "Best score and parameter combination:\n",
            "0.5445 {'rf_clf__max_depth': 11, 'rf_clf__n_estimators': 700}\n"
          ]
        }
      ]
    },
    {
      "cell_type": "code",
      "source": [
        "fr_ppl_clf = Pipeline([\n",
        "\n",
        "    ('sgd_clf', RandomForestClassifier(n_estimators=300,max_depth=11,  random_state=42))\n",
        "])\n",
        "fr_ppl_clf.fit(X_train, y_train)\n",
        "\n",
        "\n",
        "ppredicted_fr_val = fr_ppl_clf.predict(X_test)\n",
        "print(metrics.classification_report(y_test, ppredicted_fr_val))\n",
        "print(metrics.accuracy_score(y_test, ppredicted_fr_val), 'accuracy')\n",
        "print(metrics.precision_score(y_test, ppredicted_fr_val, average='macro'), 'precision')\n",
        "print(metrics.recall_score(y_test, ppredicted_fr_val, average='macro'), 'recall')\n",
        "print(metrics.f1_score(y_test, ppredicted_fr_val, average='macro'), 'f1')"
      ],
      "metadata": {
        "colab": {
          "base_uri": "https://localhost:8080/"
        },
        "id": "Vfe0hrWrBFU7",
        "outputId": "334a88ea-dcdc-449f-bb2f-d6f77de69166"
      },
      "execution_count": null,
      "outputs": [
        {
          "output_type": "stream",
          "name": "stdout",
          "text": [
            "                                                                   precision    recall  f1-score   support\n",
            "\n",
            "               Закон, региональный уровень, законодательный орган       0.59      0.76      0.66       329\n",
            "                Закон, федеральный уровень, законодательный орган       0.74      0.87      0.80       347\n",
            " Постановление, региональный уровень, глава исполнительной власти       0.56      0.47      0.51       318\n",
            "       Постановление, региональный уровень, законодательный орган       0.81      0.74      0.77       302\n",
            "Постановление, региональный уровень, органы исполнительной власти       0.93      0.84      0.88       244\n",
            "               Постановление, региональный уровень, правительство       0.42      0.49      0.45       318\n",
            "                Постановление, федеральный уровень, правительство       0.64      0.74      0.68       314\n",
            "       Приказ, региональный уровень, органы исполнительной власти       0.61      0.67      0.64       325\n",
            "        Приказ, федеральный уровень, органы исполнительной власти       0.66      0.78      0.72       315\n",
            "  Распоряжение, региональный уровень, глава исполнительной власти       0.65      0.61      0.63       330\n",
            "                Распоряжение, региональный уровень, правительство       0.58      0.48      0.52       323\n",
            "   Распоряжение, федеральный уровень, глава исполнительной власти       0.71      0.72      0.72       272\n",
            "                 Распоряжение, федеральный уровень, правительство       0.78      0.62      0.69       324\n",
            "          Указ, региональный уровень, глава исполнительной власти       0.55      0.49      0.52       296\n",
            "           Указ, федеральный уровень, глава исполнительной власти       0.78      0.56      0.65       222\n",
            "\n",
            "                                                         accuracy                           0.66      4579\n",
            "                                                        macro avg       0.67      0.66      0.66      4579\n",
            "                                                     weighted avg       0.66      0.66      0.65      4579\n",
            "\n",
            "0.6556016597510373 accuracy\n",
            "0.668854964877783 precision\n",
            "0.6556003602943886 recall\n",
            "0.6574166653080138 f1\n"
          ]
        }
      ]
    }
  ]
}