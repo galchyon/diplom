{
  "nbformat": 4,
  "nbformat_minor": 0,
  "metadata": {
    "colab": {
      "provenance": [],
      "gpuType": "T4"
    },
    "kernelspec": {
      "name": "python3",
      "display_name": "Python 3"
    },
    "language_info": {
      "name": "python"
    },
    "accelerator": "GPU"
  },
  "cells": [
    {
      "cell_type": "code",
      "execution_count": null,
      "metadata": {
        "colab": {
          "base_uri": "https://localhost:8080/"
        },
        "id": "6ZgaWCaa5XTS",
        "outputId": "32094ffc-79e8-460c-970b-472f5c94e806"
      },
      "outputs": [
        {
          "output_type": "stream",
          "name": "stdout",
          "text": [
            "Drive already mounted at /content/drive; to attempt to forcibly remount, call drive.mount(\"/content/drive\", force_remount=True).\n"
          ]
        }
      ],
      "source": [
        "from google.colab import drive\n",
        "drive.mount('/content/drive')"
      ]
    },
    {
      "cell_type": "code",
      "source": [
        "import numpy as np\n",
        "import pandas as pd\n",
        "from sklearn.model_selection import train_test_split\n",
        "from sklearn.linear_model import LogisticRegression\n",
        "from sklearn.model_selection import GridSearchCV\n",
        "from sklearn.model_selection import cross_val_score\n",
        "import torch\n",
        "from torch import nn\n",
        "from torch.nn import functional as F\n",
        "\n",
        "\n",
        "import itertools\n",
        "import string\n",
        "\n",
        "import numpy as np\n",
        "\n",
        "from IPython.display import clear_output\n",
        "from matplotlib import pyplot as plt\n",
        "from nltk.tokenize import WordPunctTokenizer\n",
        "\n",
        "from collections import Counter\n",
        "\n",
        "from tqdm import tqdm, tqdm_notebook\n",
        "\n",
        "from sklearn.manifold import TSNE\n",
        "import plotly.express as px"
      ],
      "metadata": {
        "id": "STMoDGj55ypn"
      },
      "execution_count": null,
      "outputs": []
    },
    {
      "cell_type": "code",
      "source": [
        "df = pd.read_csv('//content/drive/MyDrive/df_difficult_26_01.csv')\n",
        "target_names = list(set(df['doc_name'].tolist()))\n",
        "label2idx = {label: idx for idx, label in enumerate(target_names)}\n",
        "df['doc_name_enc']=df['doc_name'].replace(label2idx)\n",
        "df"
      ],
      "metadata": {
        "colab": {
          "base_uri": "https://localhost:8080/",
          "height": 597
        },
        "id": "dlDsT-zz55zE",
        "outputId": "98b1bbb6-6f30-4ec1-f49b-b3acdc69176e"
      },
      "execution_count": null,
      "outputs": [
        {
          "output_type": "execute_result",
          "data": {
            "text/plain": [
              "                                                doc_name  \\\n",
              "0      Распоряжение, федеральный уровень, глава испол...   \n",
              "1      Распоряжение, федеральный уровень, глава испол...   \n",
              "2      Указ, федеральный уровень, глава исполнительно...   \n",
              "3      Распоряжение, федеральный уровень, глава испол...   \n",
              "4      Распоряжение, федеральный уровень, глава испол...   \n",
              "...                                                  ...   \n",
              "22886  Указ, региональный уровень, глава исполнительн...   \n",
              "22887  Указ, региональный уровень, глава исполнительн...   \n",
              "22888  Указ, региональный уровень, глава исполнительн...   \n",
              "22889  Указ, региональный уровень, глава исполнительн...   \n",
              "22890  Указ, региональный уровень, глава исполнительн...   \n",
              "\n",
              "                                                doc_text  \\\n",
              "0      распоряжение президента российской федерации о...   \n",
              "1      распоряжение президента российской федерации о...   \n",
              "2      указ президента российской федерации об освобо...   \n",
              "3      распоряжение президента российской федерации о...   \n",
              "4      распоряжение президента российской федерации о...   \n",
              "...                                                  ...   \n",
              "22886  губернатор орловской области у к аз о мерах по...   \n",
              "22887  ммжхжчмитжкъщ  а  г х м  башкортостан республи...   \n",
              "22888  у к а з губернатора пермского края   об отмене...   \n",
              "22889  у к а з губернатора пермского края   г об утве...   \n",
              "22890  указ об отмене ограничительных мероприятий кар...   \n",
              "\n",
              "                                              text_token  \\\n",
              "0      распоряжение президент российский федерация ус...   \n",
              "1      распоряжение президент российский федерация пр...   \n",
              "2      указ президент российский федерация освобожден...   \n",
              "3      распоряжение президент российский федерация по...   \n",
              "4      распоряжение президент российский федерация по...   \n",
              "...                                                  ...   \n",
              "22886  губернатор орловский область мера проведение к...   \n",
              "22887  ммжхжчмитжкъщий башкортостан республикаь респу...   \n",
              "22888  губернатор пермский край отмена ограничение ка...   \n",
              "22889  губернатор пермский край утверждение порядок п...   \n",
              "22890  указ отмена ограничительный мероприятие карант...   \n",
              "\n",
              "                                      text_token_filtred  \\\n",
              "0      распоряжение президент российский федерация ус...   \n",
              "1      распоряжение президент российский федерация пр...   \n",
              "2      указ президент российский федерация освобожден...   \n",
              "3      распоряжение президент российский федерация по...   \n",
              "4      распоряжение президент российский федерация по...   \n",
              "...                                                  ...   \n",
              "22886  губернатор орловский область мера проведение к...   \n",
              "22887  ммжхжчмитжкъщий башкортостан республикаь респу...   \n",
              "22888  губернатор пермский край отмена ограничение ка...   \n",
              "22889  губернатор пермский край утверждение порядок п...   \n",
              "22890  указ отмена ограничительный мероприятие карант...   \n",
              "\n",
              "                                          text_difficult  doc_name_enc  \n",
              "0      комитет российский федерация установить числен...             2  \n",
              "1      российский федерация контроль оборот наркотик ...             2  \n",
              "2      федерация контроль оборот наркотик освободить ...             1  \n",
              "3      многолетний плодотворный деятельность наградит...             2  \n",
              "4      молодёжь объявить благодарность андропов игорь...             2  \n",
              "...                                                  ...           ...  \n",
              "22886  проживать инвалид ветеран великий отечественны...             8  \n",
              "22887  должность заместитель премьер министр правител...             8  \n",
              "22888  посёлок октябрьский соответствие закон российс...             8  \n",
              "22889  должность пермский край отдельный должность го...             8  \n",
              "22890  область соответствие закон российский федераши...             8  \n",
              "\n",
              "[22891 rows x 6 columns]"
            ],
            "text/html": [
              "\n",
              "  <div id=\"df-fefaf3c0-f436-42c3-b92f-8dc0c9ee64d8\" class=\"colab-df-container\">\n",
              "    <div>\n",
              "<style scoped>\n",
              "    .dataframe tbody tr th:only-of-type {\n",
              "        vertical-align: middle;\n",
              "    }\n",
              "\n",
              "    .dataframe tbody tr th {\n",
              "        vertical-align: top;\n",
              "    }\n",
              "\n",
              "    .dataframe thead th {\n",
              "        text-align: right;\n",
              "    }\n",
              "</style>\n",
              "<table border=\"1\" class=\"dataframe\">\n",
              "  <thead>\n",
              "    <tr style=\"text-align: right;\">\n",
              "      <th></th>\n",
              "      <th>doc_name</th>\n",
              "      <th>doc_text</th>\n",
              "      <th>text_token</th>\n",
              "      <th>text_token_filtred</th>\n",
              "      <th>text_difficult</th>\n",
              "      <th>doc_name_enc</th>\n",
              "    </tr>\n",
              "  </thead>\n",
              "  <tbody>\n",
              "    <tr>\n",
              "      <th>0</th>\n",
              "      <td>Распоряжение, федеральный уровень, глава испол...</td>\n",
              "      <td>распоряжение президента российской федерации о...</td>\n",
              "      <td>распоряжение президент российский федерация ус...</td>\n",
              "      <td>распоряжение президент российский федерация ус...</td>\n",
              "      <td>комитет российский федерация установить числен...</td>\n",
              "      <td>2</td>\n",
              "    </tr>\n",
              "    <tr>\n",
              "      <th>1</th>\n",
              "      <td>Распоряжение, федеральный уровень, глава испол...</td>\n",
              "      <td>распоряжение президента российской федерации о...</td>\n",
              "      <td>распоряжение президент российский федерация пр...</td>\n",
              "      <td>распоряжение президент российский федерация пр...</td>\n",
              "      <td>российский федерация контроль оборот наркотик ...</td>\n",
              "      <td>2</td>\n",
              "    </tr>\n",
              "    <tr>\n",
              "      <th>2</th>\n",
              "      <td>Указ, федеральный уровень, глава исполнительно...</td>\n",
              "      <td>указ президента российской федерации об освобо...</td>\n",
              "      <td>указ президент российский федерация освобожден...</td>\n",
              "      <td>указ президент российский федерация освобожден...</td>\n",
              "      <td>федерация контроль оборот наркотик освободить ...</td>\n",
              "      <td>1</td>\n",
              "    </tr>\n",
              "    <tr>\n",
              "      <th>3</th>\n",
              "      <td>Распоряжение, федеральный уровень, глава испол...</td>\n",
              "      <td>распоряжение президента российской федерации о...</td>\n",
              "      <td>распоряжение президент российский федерация по...</td>\n",
              "      <td>распоряжение президент российский федерация по...</td>\n",
              "      <td>многолетний плодотворный деятельность наградит...</td>\n",
              "      <td>2</td>\n",
              "    </tr>\n",
              "    <tr>\n",
              "      <th>4</th>\n",
              "      <td>Распоряжение, федеральный уровень, глава испол...</td>\n",
              "      <td>распоряжение президента российской федерации о...</td>\n",
              "      <td>распоряжение президент российский федерация по...</td>\n",
              "      <td>распоряжение президент российский федерация по...</td>\n",
              "      <td>молодёжь объявить благодарность андропов игорь...</td>\n",
              "      <td>2</td>\n",
              "    </tr>\n",
              "    <tr>\n",
              "      <th>...</th>\n",
              "      <td>...</td>\n",
              "      <td>...</td>\n",
              "      <td>...</td>\n",
              "      <td>...</td>\n",
              "      <td>...</td>\n",
              "      <td>...</td>\n",
              "    </tr>\n",
              "    <tr>\n",
              "      <th>22886</th>\n",
              "      <td>Указ, региональный уровень, глава исполнительн...</td>\n",
              "      <td>губернатор орловской области у к аз о мерах по...</td>\n",
              "      <td>губернатор орловский область мера проведение к...</td>\n",
              "      <td>губернатор орловский область мера проведение к...</td>\n",
              "      <td>проживать инвалид ветеран великий отечественны...</td>\n",
              "      <td>8</td>\n",
              "    </tr>\n",
              "    <tr>\n",
              "      <th>22887</th>\n",
              "      <td>Указ, региональный уровень, глава исполнительн...</td>\n",
              "      <td>ммжхжчмитжкъщ  а  г х м  башкортостан республи...</td>\n",
              "      <td>ммжхжчмитжкъщий башкортостан республикаь респу...</td>\n",
              "      <td>ммжхжчмитжкъщий башкортостан республикаь респу...</td>\n",
              "      <td>должность заместитель премьер министр правител...</td>\n",
              "      <td>8</td>\n",
              "    </tr>\n",
              "    <tr>\n",
              "      <th>22888</th>\n",
              "      <td>Указ, региональный уровень, глава исполнительн...</td>\n",
              "      <td>у к а з губернатора пермского края   об отмене...</td>\n",
              "      <td>губернатор пермский край отмена ограничение ка...</td>\n",
              "      <td>губернатор пермский край отмена ограничение ка...</td>\n",
              "      <td>посёлок октябрьский соответствие закон российс...</td>\n",
              "      <td>8</td>\n",
              "    </tr>\n",
              "    <tr>\n",
              "      <th>22889</th>\n",
              "      <td>Указ, региональный уровень, глава исполнительн...</td>\n",
              "      <td>у к а з губернатора пермского края   г об утве...</td>\n",
              "      <td>губернатор пермский край утверждение порядок п...</td>\n",
              "      <td>губернатор пермский край утверждение порядок п...</td>\n",
              "      <td>должность пермский край отдельный должность го...</td>\n",
              "      <td>8</td>\n",
              "    </tr>\n",
              "    <tr>\n",
              "      <th>22890</th>\n",
              "      <td>Указ, региональный уровень, глава исполнительн...</td>\n",
              "      <td>указ об отмене ограничительных мероприятий кар...</td>\n",
              "      <td>указ отмена ограничительный мероприятие карант...</td>\n",
              "      <td>указ отмена ограничительный мероприятие карант...</td>\n",
              "      <td>область соответствие закон российский федераши...</td>\n",
              "      <td>8</td>\n",
              "    </tr>\n",
              "  </tbody>\n",
              "</table>\n",
              "<p>22891 rows × 6 columns</p>\n",
              "</div>\n",
              "    <div class=\"colab-df-buttons\">\n",
              "\n",
              "  <div class=\"colab-df-container\">\n",
              "    <button class=\"colab-df-convert\" onclick=\"convertToInteractive('df-fefaf3c0-f436-42c3-b92f-8dc0c9ee64d8')\"\n",
              "            title=\"Convert this dataframe to an interactive table.\"\n",
              "            style=\"display:none;\">\n",
              "\n",
              "  <svg xmlns=\"http://www.w3.org/2000/svg\" height=\"24px\" viewBox=\"0 -960 960 960\">\n",
              "    <path d=\"M120-120v-720h720v720H120Zm60-500h600v-160H180v160Zm220 220h160v-160H400v160Zm0 220h160v-160H400v160ZM180-400h160v-160H180v160Zm440 0h160v-160H620v160ZM180-180h160v-160H180v160Zm440 0h160v-160H620v160Z\"/>\n",
              "  </svg>\n",
              "    </button>\n",
              "\n",
              "  <style>\n",
              "    .colab-df-container {\n",
              "      display:flex;\n",
              "      gap: 12px;\n",
              "    }\n",
              "\n",
              "    .colab-df-convert {\n",
              "      background-color: #E8F0FE;\n",
              "      border: none;\n",
              "      border-radius: 50%;\n",
              "      cursor: pointer;\n",
              "      display: none;\n",
              "      fill: #1967D2;\n",
              "      height: 32px;\n",
              "      padding: 0 0 0 0;\n",
              "      width: 32px;\n",
              "    }\n",
              "\n",
              "    .colab-df-convert:hover {\n",
              "      background-color: #E2EBFA;\n",
              "      box-shadow: 0px 1px 2px rgba(60, 64, 67, 0.3), 0px 1px 3px 1px rgba(60, 64, 67, 0.15);\n",
              "      fill: #174EA6;\n",
              "    }\n",
              "\n",
              "    .colab-df-buttons div {\n",
              "      margin-bottom: 4px;\n",
              "    }\n",
              "\n",
              "    [theme=dark] .colab-df-convert {\n",
              "      background-color: #3B4455;\n",
              "      fill: #D2E3FC;\n",
              "    }\n",
              "\n",
              "    [theme=dark] .colab-df-convert:hover {\n",
              "      background-color: #434B5C;\n",
              "      box-shadow: 0px 1px 3px 1px rgba(0, 0, 0, 0.15);\n",
              "      filter: drop-shadow(0px 1px 2px rgba(0, 0, 0, 0.3));\n",
              "      fill: #FFFFFF;\n",
              "    }\n",
              "  </style>\n",
              "\n",
              "    <script>\n",
              "      const buttonEl =\n",
              "        document.querySelector('#df-fefaf3c0-f436-42c3-b92f-8dc0c9ee64d8 button.colab-df-convert');\n",
              "      buttonEl.style.display =\n",
              "        google.colab.kernel.accessAllowed ? 'block' : 'none';\n",
              "\n",
              "      async function convertToInteractive(key) {\n",
              "        const element = document.querySelector('#df-fefaf3c0-f436-42c3-b92f-8dc0c9ee64d8');\n",
              "        const dataTable =\n",
              "          await google.colab.kernel.invokeFunction('convertToInteractive',\n",
              "                                                    [key], {});\n",
              "        if (!dataTable) return;\n",
              "\n",
              "        const docLinkHtml = 'Like what you see? Visit the ' +\n",
              "          '<a target=\"_blank\" href=https://colab.research.google.com/notebooks/data_table.ipynb>data table notebook</a>'\n",
              "          + ' to learn more about interactive tables.';\n",
              "        element.innerHTML = '';\n",
              "        dataTable['output_type'] = 'display_data';\n",
              "        await google.colab.output.renderOutput(dataTable, element);\n",
              "        const docLink = document.createElement('div');\n",
              "        docLink.innerHTML = docLinkHtml;\n",
              "        element.appendChild(docLink);\n",
              "      }\n",
              "    </script>\n",
              "  </div>\n",
              "\n",
              "\n",
              "<div id=\"df-c8a0151b-aede-49f0-82f4-ce2f3d9bd1b7\">\n",
              "  <button class=\"colab-df-quickchart\" onclick=\"quickchart('df-c8a0151b-aede-49f0-82f4-ce2f3d9bd1b7')\"\n",
              "            title=\"Suggest charts\"\n",
              "            style=\"display:none;\">\n",
              "\n",
              "<svg xmlns=\"http://www.w3.org/2000/svg\" height=\"24px\"viewBox=\"0 0 24 24\"\n",
              "     width=\"24px\">\n",
              "    <g>\n",
              "        <path d=\"M19 3H5c-1.1 0-2 .9-2 2v14c0 1.1.9 2 2 2h14c1.1 0 2-.9 2-2V5c0-1.1-.9-2-2-2zM9 17H7v-7h2v7zm4 0h-2V7h2v10zm4 0h-2v-4h2v4z\"/>\n",
              "    </g>\n",
              "</svg>\n",
              "  </button>\n",
              "\n",
              "<style>\n",
              "  .colab-df-quickchart {\n",
              "      --bg-color: #E8F0FE;\n",
              "      --fill-color: #1967D2;\n",
              "      --hover-bg-color: #E2EBFA;\n",
              "      --hover-fill-color: #174EA6;\n",
              "      --disabled-fill-color: #AAA;\n",
              "      --disabled-bg-color: #DDD;\n",
              "  }\n",
              "\n",
              "  [theme=dark] .colab-df-quickchart {\n",
              "      --bg-color: #3B4455;\n",
              "      --fill-color: #D2E3FC;\n",
              "      --hover-bg-color: #434B5C;\n",
              "      --hover-fill-color: #FFFFFF;\n",
              "      --disabled-bg-color: #3B4455;\n",
              "      --disabled-fill-color: #666;\n",
              "  }\n",
              "\n",
              "  .colab-df-quickchart {\n",
              "    background-color: var(--bg-color);\n",
              "    border: none;\n",
              "    border-radius: 50%;\n",
              "    cursor: pointer;\n",
              "    display: none;\n",
              "    fill: var(--fill-color);\n",
              "    height: 32px;\n",
              "    padding: 0;\n",
              "    width: 32px;\n",
              "  }\n",
              "\n",
              "  .colab-df-quickchart:hover {\n",
              "    background-color: var(--hover-bg-color);\n",
              "    box-shadow: 0 1px 2px rgba(60, 64, 67, 0.3), 0 1px 3px 1px rgba(60, 64, 67, 0.15);\n",
              "    fill: var(--button-hover-fill-color);\n",
              "  }\n",
              "\n",
              "  .colab-df-quickchart-complete:disabled,\n",
              "  .colab-df-quickchart-complete:disabled:hover {\n",
              "    background-color: var(--disabled-bg-color);\n",
              "    fill: var(--disabled-fill-color);\n",
              "    box-shadow: none;\n",
              "  }\n",
              "\n",
              "  .colab-df-spinner {\n",
              "    border: 2px solid var(--fill-color);\n",
              "    border-color: transparent;\n",
              "    border-bottom-color: var(--fill-color);\n",
              "    animation:\n",
              "      spin 1s steps(1) infinite;\n",
              "  }\n",
              "\n",
              "  @keyframes spin {\n",
              "    0% {\n",
              "      border-color: transparent;\n",
              "      border-bottom-color: var(--fill-color);\n",
              "      border-left-color: var(--fill-color);\n",
              "    }\n",
              "    20% {\n",
              "      border-color: transparent;\n",
              "      border-left-color: var(--fill-color);\n",
              "      border-top-color: var(--fill-color);\n",
              "    }\n",
              "    30% {\n",
              "      border-color: transparent;\n",
              "      border-left-color: var(--fill-color);\n",
              "      border-top-color: var(--fill-color);\n",
              "      border-right-color: var(--fill-color);\n",
              "    }\n",
              "    40% {\n",
              "      border-color: transparent;\n",
              "      border-right-color: var(--fill-color);\n",
              "      border-top-color: var(--fill-color);\n",
              "    }\n",
              "    60% {\n",
              "      border-color: transparent;\n",
              "      border-right-color: var(--fill-color);\n",
              "    }\n",
              "    80% {\n",
              "      border-color: transparent;\n",
              "      border-right-color: var(--fill-color);\n",
              "      border-bottom-color: var(--fill-color);\n",
              "    }\n",
              "    90% {\n",
              "      border-color: transparent;\n",
              "      border-bottom-color: var(--fill-color);\n",
              "    }\n",
              "  }\n",
              "</style>\n",
              "\n",
              "  <script>\n",
              "    async function quickchart(key) {\n",
              "      const quickchartButtonEl =\n",
              "        document.querySelector('#' + key + ' button');\n",
              "      quickchartButtonEl.disabled = true;  // To prevent multiple clicks.\n",
              "      quickchartButtonEl.classList.add('colab-df-spinner');\n",
              "      try {\n",
              "        const charts = await google.colab.kernel.invokeFunction(\n",
              "            'suggestCharts', [key], {});\n",
              "      } catch (error) {\n",
              "        console.error('Error during call to suggestCharts:', error);\n",
              "      }\n",
              "      quickchartButtonEl.classList.remove('colab-df-spinner');\n",
              "      quickchartButtonEl.classList.add('colab-df-quickchart-complete');\n",
              "    }\n",
              "    (() => {\n",
              "      let quickchartButtonEl =\n",
              "        document.querySelector('#df-c8a0151b-aede-49f0-82f4-ce2f3d9bd1b7 button');\n",
              "      quickchartButtonEl.style.display =\n",
              "        google.colab.kernel.accessAllowed ? 'block' : 'none';\n",
              "    })();\n",
              "  </script>\n",
              "</div>\n",
              "    </div>\n",
              "  </div>\n"
            ]
          },
          "metadata": {},
          "execution_count": 31
        }
      ]
    },
    {
      "cell_type": "code",
      "source": [
        "data_train, data_valid = train_test_split(df, test_size=0.2, random_state=42)\n",
        "#data_train, data_test = train_test_split(data_train, test_size=0.2, random_state=42)"
      ],
      "metadata": {
        "id": "JE2qH4urNB3g"
      },
      "execution_count": null,
      "outputs": []
    },
    {
      "cell_type": "code",
      "source": [
        "token_counts = Counter()\n",
        "for row in data_train['text_token'].values.flatten():\n",
        "    token_counts.update(row.split(\" \"))\n",
        "token_counts_first = Counter()\n",
        "for row in data_train['doc_text'].values.flatten():\n",
        "    token_counts_first.update(row.split(\" \"))"
      ],
      "metadata": {
        "id": "6JzqUqpd9pBi"
      },
      "execution_count": null,
      "outputs": []
    },
    {
      "cell_type": "code",
      "source": [
        "print(\"Total unique tokens :\", len(token_counts))\n",
        "print(\"\\n\".join(map(str, token_counts.most_common(n=5))))\n",
        "print(\"...\")\n",
        "print(\"\\n\".join(map(str, token_counts.most_common()[-3:])))"
      ],
      "metadata": {
        "colab": {
          "base_uri": "https://localhost:8080/"
        },
        "id": "qO3metbaJuBb",
        "outputId": "3ea3baac-fb4d-4c26-d481-a71d19545e0f"
      },
      "execution_count": null,
      "outputs": [
        {
          "output_type": "stream",
          "name": "stdout",
          "text": [
            "Total unique tokens : 52289\n",
            "('область', 60092)\n",
            "('российский', 58523)\n",
            "('федерация', 58053)\n",
            "('государственный', 28451)\n",
            "('правительство', 27192)\n",
            "...\n",
            "('кемпинг', 1)\n",
            "('попроизводстез', 1)\n",
            "('ездомстэнншо', 1)\n"
          ]
        }
      ]
    },
    {
      "cell_type": "code",
      "source": [
        "print(\"Total unique tokens :\", len(token_counts_first))\n",
        "print(\"\\n\".join(map(str, token_counts_first.most_common(n=5))))\n",
        "print(\"...\")\n",
        "print(\"\\n\".join(map(str, token_counts_first.most_common()[-3:])))"
      ],
      "metadata": {
        "colab": {
          "base_uri": "https://localhost:8080/"
        },
        "id": "rSJr7YvNxxeN",
        "outputId": "c8ba3990-0223-4724-adc3-4b11c437a165"
      },
      "execution_count": null,
      "outputs": [
        {
          "output_type": "stream",
          "name": "stdout",
          "text": [
            "Total unique tokens : 84885\n",
            "('', 464474)\n",
            "('в', 120001)\n",
            "('и', 81616)\n",
            "('области', 58397)\n",
            "('российской', 55775)\n",
            "...\n",
            "('вложить', 1)\n",
            "('попроизводстез', 1)\n",
            "('ездомстэнншо', 1)\n"
          ]
        }
      ]
    },
    {
      "cell_type": "code",
      "source": [
        "plt.hist(list(token_counts.values()), range=[0, 10 ** 4], bins=50, log=True)\n",
        "plt.xlabel(\"Word counts\");"
      ],
      "metadata": {
        "colab": {
          "base_uri": "https://localhost:8080/",
          "height": 449
        },
        "id": "pwladN-EJ1da",
        "outputId": "6fc2eb91-ce60-48bf-d589-7d7ffb7a6f44"
      },
      "execution_count": null,
      "outputs": [
        {
          "output_type": "display_data",
          "data": {
            "text/plain": [
              "<Figure size 640x480 with 1 Axes>"
            ],
            "image/png": "[encoded data removed]"
          },
          "metadata": {}
        }
      ]
    },
    {
      "cell_type": "code",
      "source": [
        "min_count = 5\n",
        "\n",
        "# tokens from token_counts keys that had at least min_count occurrences throughout the dataset\n",
        "tokens = [token for token, count in token_counts.items() if count >= min_count]"
      ],
      "metadata": {
        "id": "f6qsFeC4J8d4"
      },
      "execution_count": null,
      "outputs": []
    },
    {
      "cell_type": "code",
      "source": [
        "UNK, PAD = \"UNK\", \"PAD\"\n",
        "tokens = [UNK, PAD] + sorted(tokens)\n",
        "print(\"Vocabulary size:\", len(tokens))\n",
        "token_to_id = {token: idx for idx, token in enumerate(tokens)}"
      ],
      "metadata": {
        "colab": {
          "base_uri": "https://localhost:8080/"
        },
        "id": "Eyl4MipmKBzV",
        "outputId": "53948a24-0d99-4697-e446-e27781da6ef0"
      },
      "execution_count": null,
      "outputs": [
        {
          "output_type": "stream",
          "name": "stdout",
          "text": [
            "Vocabulary size: 10260\n"
          ]
        }
      ]
    },
    {
      "cell_type": "code",
      "source": [
        "UNK_IX, PAD_IX = map(token_to_id.get, [UNK, PAD])\n",
        "\n",
        "\n",
        "def as_matrix(sequences, max_len=None):\n",
        "    \"\"\"Convert a list of tokens into a matrix with padding\"\"\"\n",
        "    if isinstance(sequences[0], str):\n",
        "        sequences = list(map(str.split, sequences))\n",
        "\n",
        "    max_len = min(max(map(len, sequences)), max_len or float(\"inf\"))\n",
        "\n",
        "    matrix = np.full((len(sequences), max_len), np.int32(PAD_IX))\n",
        "    for i, seq in enumerate(sequences):\n",
        "        row_ix = [token_to_id.get(word, UNK_IX) for word in seq[:max_len]]\n",
        "        matrix[i, : len(row_ix)] = row_ix\n",
        "\n",
        "    return matrix\n"
      ],
      "metadata": {
        "id": "68r1_BO3KKHN"
      },
      "execution_count": null,
      "outputs": []
    },
    {
      "cell_type": "code",
      "source": [
        "def make_batch(data, max_len=None, word_dropout=0):\n",
        "    \"\"\"\n",
        "    Creates a neural-network-friendly dict from the batch data.\n",
        "    :param word_dropout: replaces token index with UNK_IX with this probability\n",
        "    :returns: a dict with {'title' : int64[batch, title_max_len]\n",
        "    \"\"\"\n",
        "    batch = {}\n",
        "    batch[\"label\"] = data[\"doc_name_enc\"].values\n",
        "    batch[\"text\"] = as_matrix(data[\"text_token\"].values, max_len)\n",
        "    if word_dropout != 0:\n",
        "        batch[\"text\"] = apply_word_dropout(batch[\"text\"], 1.0 - word_dropout)\n",
        "    return batch\n",
        "\n",
        "\n",
        "def apply_word_dropout(\n",
        "    matrix,\n",
        "    keep_prop,\n",
        "    replace_with=UNK_IX,\n",
        "    pad_ix=PAD_IX,\n",
        "):\n",
        "    dropout_mask = np.random.choice(2, np.shape(matrix), p=[keep_prop, 1 - keep_prop])\n",
        "    dropout_mask &= matrix != pad_ix\n",
        "    return np.choose(dropout_mask, [matrix, np.full_like(matrix, replace_with)])"
      ],
      "metadata": {
        "id": "6HB9fMEzNp2Q"
      },
      "execution_count": null,
      "outputs": []
    },
    {
      "cell_type": "code",
      "source": [
        "data_train.shape, data_valid.shape"
      ],
      "metadata": {
        "colab": {
          "base_uri": "https://localhost:8080/"
        },
        "id": "E2_J_nz4XWuA",
        "outputId": "4e8c176e-b1a7-462a-f56e-d61c0fb77591"
      },
      "execution_count": null,
      "outputs": [
        {
          "output_type": "execute_result",
          "data": {
            "text/plain": [
              "((18312, 6), (4579, 6))"
            ]
          },
          "metadata": {},
          "execution_count": 13
        }
      ]
    },
    {
      "cell_type": "code",
      "source": [
        "def iterate_minibatches(data, batch_size=256, shuffle=True, cycle=False, **kwargs):\n",
        "    \"\"\"iterates minibatches of data in random order\"\"\"\n",
        "    while True:\n",
        "        indices = np.arange(len(data))\n",
        "        if shuffle:\n",
        "            indices = np.random.permutation(indices)\n",
        "\n",
        "        for start in range(0, len(indices), batch_size):\n",
        "            batch = make_batch(data.iloc[indices[start : start + batch_size]], **kwargs)\n",
        "            target = batch.pop('label')\n",
        "            yield batch, target\n",
        "\n",
        "        if not cycle:\n",
        "            break"
      ],
      "metadata": {
        "id": "wVIcm3GvOs6V"
      },
      "execution_count": null,
      "outputs": []
    },
    {
      "cell_type": "code",
      "source": [
        "n_tokens = len(tokens)\n",
        "\n",
        "hid_size = 128\n",
        "\n",
        "class Flatten(nn.Module):\n",
        "    def forward(self, input):\n",
        "        return input.view(input.size(0), -1)\n",
        "\n",
        "\n",
        "class Reorder(nn.Module):\n",
        "    def forward(self, input):\n",
        "        return input.permute((0, 2, 1))\n",
        "\n",
        "data_train, data_test = train_test_split(data_train, test_size=0.2, random_state=42)"
      ],
      "metadata": {
        "id": "RSDpgPJsO8Mh"
      },
      "execution_count": null,
      "outputs": []
    },
    {
      "cell_type": "code",
      "source": [
        "train_on_gpu = torch.cuda.is_available()\n",
        "\n",
        "if not train_on_gpu:\n",
        "    print('CUDA is not available.  Training on CPU ...')\n",
        "else:\n",
        "    print('CUDA is available!  Training on GPU ...')\n",
        "\n",
        "device = torch.device('cuda:0') if torch.cuda.is_available() else torch.device('cpu')\n",
        "device"
      ],
      "metadata": {
        "colab": {
          "base_uri": "https://localhost:8080/"
        },
        "id": "f2VQVtJcSnkr",
        "outputId": "905e1ace-7822-4544-b3c2-a8ce27bc308e"
      },
      "execution_count": null,
      "outputs": [
        {
          "output_type": "stream",
          "name": "stdout",
          "text": [
            "CUDA is available!  Training on GPU ...\n"
          ]
        },
        {
          "output_type": "execute_result",
          "data": {
            "text/plain": [
              "device(type='cuda', index=0)"
            ]
          },
          "metadata": {},
          "execution_count": 16
        }
      ]
    },
    {
      "cell_type": "code",
      "source": [
        "class SimpleCNN(nn.Module):\n",
        "    def __init__(self, num_classes):\n",
        "        super(SimpleCNN, self).__init__()\n",
        "\n",
        "        self.emb = nn.Sequential(\n",
        "            nn.Embedding(num_embeddings=n_tokens, embedding_dim=hid_size),\n",
        "            Reorder()\n",
        "        )\n",
        "        self.conv1 = nn.Sequential(\n",
        "            nn.Conv1d(in_channels=hid_size, out_channels=hid_size * 2, kernel_size=3),\n",
        "            nn.ReLU()\n",
        "        )\n",
        "\n",
        "        self.conv2 = nn.Sequential(\n",
        "            nn.Conv1d(in_channels=hid_size * 2, out_channels=hid_size * 2, kernel_size=3),\n",
        "            nn.ReLU(),\n",
        "            nn.BatchNorm1d(num_features=hid_size * 2)\n",
        "        )\n",
        "\n",
        "        self.conv3 = nn.Sequential(\n",
        "            nn.Conv1d(in_channels=hid_size * 2, out_channels=hid_size * 2, kernel_size=2),\n",
        "            nn.ReLU()\n",
        "        )\n",
        "\n",
        "        self.out = nn.Sequential(\n",
        "            nn.AdaptiveMaxPool1d(1),\n",
        "            nn.Flatten(),\n",
        "             nn.Linear(2 * hid_size, num_classes)\n",
        "        )\n",
        "\n",
        "        self.vis = nn.Sequential(\n",
        "            nn.AdaptiveMaxPool1d(1),\n",
        "            nn.Flatten()\n",
        "        )\n",
        "\n",
        "    def forward(self, x):\n",
        "        x = self.emb(x)\n",
        "        x = self.conv1(x)\n",
        "        x = self.conv2(x)\n",
        "        x = self.conv3(x)\n",
        "        x1 = self.vis(x)\n",
        "        x = self.out(x)\n",
        "        return x, x1\n",
        "\n",
        "\n",
        "num_classes=15\n",
        "model = SimpleCNN(num_classes) # модель\n",
        "\n",
        "criterion = nn.CrossEntropyLoss()\n",
        "optimizer = torch.optim.Adam(model.parameters(),  betas=(0.9, 0.999))\n",
        "model.to(device)"
      ],
      "metadata": {
        "id": "Xl8cZ_-_QzDD",
        "colab": {
          "base_uri": "https://localhost:8080/"
        },
        "outputId": "2d079895-3247-4af6-a974-7fde59a490a5"
      },
      "execution_count": null,
      "outputs": [
        {
          "output_type": "execute_result",
          "data": {
            "text/plain": [
              "SimpleCNN(\n",
              "  (emb): Sequential(\n",
              "    (0): Embedding(10260, 128)\n",
              "    (1): Reorder()\n",
              "  )\n",
              "  (conv1): Sequential(\n",
              "    (0): Conv1d(128, 256, kernel_size=(3,), stride=(1,))\n",
              "    (1): ReLU()\n",
              "  )\n",
              "  (conv2): Sequential(\n",
              "    (0): Conv1d(256, 256, kernel_size=(3,), stride=(1,))\n",
              "    (1): ReLU()\n",
              "    (2): BatchNorm1d(256, eps=1e-05, momentum=0.1, affine=True, track_running_stats=True)\n",
              "  )\n",
              "  (conv3): Sequential(\n",
              "    (0): Conv1d(256, 256, kernel_size=(2,), stride=(1,))\n",
              "    (1): ReLU()\n",
              "  )\n",
              "  (out): Sequential(\n",
              "    (0): AdaptiveMaxPool1d(output_size=1)\n",
              "    (1): Flatten(start_dim=1, end_dim=-1)\n",
              "    (2): Linear(in_features=256, out_features=15, bias=True)\n",
              "  )\n",
              "  (vis): Sequential(\n",
              "    (0): AdaptiveMaxPool1d(output_size=1)\n",
              "    (1): Flatten(start_dim=1, end_dim=-1)\n",
              "  )\n",
              ")"
            ]
          },
          "metadata": {},
          "execution_count": 22
        }
      ]
    },
    {
      "cell_type": "code",
      "source": [
        "history = []\n",
        "epochs = 10\n",
        "for epoch_num in range(epochs):\n",
        "    for idx, (batch, target) in enumerate(iterate_minibatches(data_train)):\n",
        "        optimizer.zero_grad()\n",
        "\n",
        "        # Preprocessing the batch data and target\n",
        "        features = torch.tensor(batch[\"text\"], dtype=torch.long).to(device)\n",
        "        target = torch.tensor(target).to(device)\n",
        "        outp, vis = model(features)\n",
        "        #outp = outp.reshape(outp.size(0))\n",
        "        loss = criterion(outp, target.long()) # лосс\n",
        "        y_pred = torch.softmax(outp, dim=1).argmax(dim=1)\n",
        "        acc = ((y_pred==target).detach().cpu().numpy().mean())\n",
        "        loss.backward()\n",
        "        optimizer.step()\n",
        "        history.append(loss.item())\n",
        "        if (idx + 1) % 10 == 0:\n",
        "            clear_output(True)\n",
        "            plt.plot(history, label=\"loss\")\n",
        "            plt.legend()\n",
        "            plt.show()"
      ],
      "metadata": {
        "colab": {
          "base_uri": "https://localhost:8080/",
          "height": 430
        },
        "id": "9Q8EImkPS8ke",
        "outputId": "0a0384e9-05d6-40a3-e1d1-252f66dc39ce"
      },
      "execution_count": null,
      "outputs": [
        {
          "output_type": "display_data",
          "data": {
            "text/plain": [
              "<Figure size 640x480 with 1 Axes>"
            ],
            "image/png": "[encoded data removed]"
          },
          "metadata": {}
        }
      ]
    },
    {
      "cell_type": "code",
      "source": [
        "batch_size = 256\n",
        "def print_metrics(model, data, batch_size=batch_size, name=\"\", **kw):\n",
        "\n",
        "    mean_acc = 0\n",
        "    mean_loss = 0\n",
        "    count = 0\n",
        "    outs_vis = []\n",
        "    tar_vis = []\n",
        "    for batch_x, batch_y in tqdm(\n",
        "        iterate_minibatches(data, batch_size=batch_size, shuffle=False, **kw)\n",
        "    ):\n",
        "\n",
        "        features = torch.tensor(batch_x[\"text\"], dtype=torch.long).to(device)\n",
        "        target = torch.tensor(batch_y).to(device)\n",
        "\n",
        "        outp, vis = model(features)\n",
        "\n",
        "        outs_vis.append(vis.detach().cpu())\n",
        "        tar_vis.append(target.detach().cpu())\n",
        "        loss = criterion(outp, target.long()) # лосс\n",
        "\n",
        "        y_pred = torch.softmax(outp, dim=1).argmax(dim=1)\n",
        "\n",
        "        acc = ((y_pred==target).detach().cpu().numpy().mean())\n",
        "\n",
        "        mean_acc += acc.item()\n",
        "        mean_loss += loss.item()\n",
        "        count+=1\n",
        "\n",
        "    print(\"Loss\", mean_loss / count, \"Acc\", mean_acc / count)\n",
        "    print(count)\n",
        "    outs_vis = np.concatenate(outs_vis[:-1], axis=0)\n",
        "    tar_vis = np.concatenate(tar_vis[:-1], axis=0)\n",
        "    return outs_vis, tar_vis\n",
        "\n",
        "\n",
        "#print_metrics(model, data_train, name=\"Train\")\n",
        "#print_metrics(model, data_test, name=\"Train\")\n",
        "outs_vis, tar_vis = print_metrics(model, data_valid, name=\"Val\");"
      ],
      "metadata": {
        "colab": {
          "base_uri": "https://localhost:8080/"
        },
        "id": "sp0k5uyuVvmj",
        "outputId": "03015080-5e5f-4cdf-e044-64a755992bb7"
      },
      "execution_count": null,
      "outputs": [
        {
          "output_type": "stream",
          "name": "stderr",
          "text": [
            "2it [00:00,  7.25it/s]"
          ]
        },
        {
          "output_type": "stream",
          "name": "stdout",
          "text": [
            "torch.Size([256, 256])\n",
            "torch.Size([256, 256])\n"
          ]
        },
        {
          "output_type": "stream",
          "name": "stderr",
          "text": [
            "6it [00:00, 13.40it/s]"
          ]
        },
        {
          "output_type": "stream",
          "name": "stdout",
          "text": [
            "torch.Size([256, 256])\n",
            "torch.Size([256, 256])\n",
            "torch.Size([256, 256])\n",
            "torch.Size([256, 256])\n"
          ]
        },
        {
          "output_type": "stream",
          "name": "stderr",
          "text": [
            "\r8it [00:00, 13.10it/s]"
          ]
        },
        {
          "output_type": "stream",
          "name": "stdout",
          "text": [
            "torch.Size([256, 256])\n",
            "torch.Size([256, 256])\n",
            "torch.Size([256, 256])\n"
          ]
        },
        {
          "output_type": "stream",
          "name": "stderr",
          "text": [
            "12it [00:00, 13.06it/s]"
          ]
        },
        {
          "output_type": "stream",
          "name": "stdout",
          "text": [
            "torch.Size([256, 256])\n",
            "torch.Size([256, 256])\n",
            "torch.Size([256, 256])\n"
          ]
        },
        {
          "output_type": "stream",
          "name": "stderr",
          "text": [
            "\r14it [00:01, 12.30it/s]"
          ]
        },
        {
          "output_type": "stream",
          "name": "stdout",
          "text": [
            "torch.Size([256, 256])\n",
            "torch.Size([256, 256])\n",
            "torch.Size([256, 256])\n"
          ]
        },
        {
          "output_type": "stream",
          "name": "stderr",
          "text": [
            "\r16it [00:01, 10.65it/s]"
          ]
        },
        {
          "output_type": "stream",
          "name": "stdout",
          "text": [
            "torch.Size([256, 256])\n",
            "torch.Size([256, 256])\n"
          ]
        },
        {
          "output_type": "stream",
          "name": "stderr",
          "text": [
            "18it [00:01, 10.74it/s]"
          ]
        },
        {
          "output_type": "stream",
          "name": "stdout",
          "text": [
            "torch.Size([227, 256])\n",
            "Loss 0.028051029412179358 Acc 0.9923213411649535\n",
            "18\n"
          ]
        },
        {
          "output_type": "stream",
          "name": "stderr",
          "text": [
            "\n"
          ]
        }
      ]
    },
    {
      "cell_type": "code",
      "source": [
        "X_train, X_test, y_train, y_test = train_test_split(outs_vis, tar_vis,  test_size=0.2, random_state=42)\n",
        "idx_to_label = dict()\n",
        "for k, v in label2idx.items():\n",
        "  idx_to_label[v] = k\n",
        "y_train_enc = []\n",
        "for i in y_train:\n",
        "  y_train_enc.append(idx_to_label[i])\n",
        "y_train_enc = np.array(y_train_enc)"
      ],
      "metadata": {
        "id": "oN4NJ35l3p6n"
      },
      "execution_count": null,
      "outputs": []
    },
    {
      "cell_type": "code",
      "source": [
        "tsne = TSNE(n_components=2, verbose=1, perplexity=40, n_iter=300, init='random')\n",
        "tsne_results = tsne.fit_transform(X_train[:1500])\n",
        "fig = px.scatter(\n",
        "    tsne_results, x=0, y=1,\n",
        "    color=y_train_enc[:1500], labels={'color': 'Вид НПА'}\n",
        ")\n",
        "fig.show()"
      ],
      "metadata": {
        "colab": {
          "base_uri": "https://localhost:8080/",
          "height": 681
        },
        "id": "6k3EZX1W736i",
        "outputId": "4fb602c1-845b-4342-f38e-f9fdf952db4e"
      },
      "execution_count": null,
      "outputs": [
        {
          "output_type": "stream",
          "name": "stdout",
          "text": [
            "[t-SNE] Computing 121 nearest neighbors...\n",
            "[t-SNE] Indexed 1500 samples in 0.001s...\n",
            "[t-SNE] Computed neighbors for 1500 samples in 0.124s...\n",
            "[t-SNE] Computed conditional probabilities for sample 1000 / 1500\n",
            "[t-SNE] Computed conditional probabilities for sample 1500 / 1500\n",
            "[t-SNE] Mean sigma: 14.936258\n",
            "[t-SNE] KL divergence after 250 iterations with early exaggeration: 48.860809\n",
            "[t-SNE] KL divergence after 300 iterations: 0.730122\n"
          ]
        },
        {
          "output_type": "display_data",
          "data": {
            "text/html": [
              "<html>\n",
              "<head><meta charset=\"utf-8\" /></head>\n",
              "<body>\n",
              "    <div>            <script src=\"https://cdnjs.cloudflare.com/ajax/libs/mathjax/2.7.5/MathJax.js?config=TeX-AMS-MML_SVG\"></script><script type=\"text/javascript\">if (window.MathJax && window.MathJax.Hub && window.MathJax.Hub.Config) {window.MathJax.Hub.Config({SVG: {font: \"STIX-Web\"}});}</script>                <script type=\"text/javascript\">window.PlotlyConfig = {MathJaxConfig: 'local'};</script>\n",
              "        <script charset=\"utf-8\" src=\"https://cdn.plot.ly/plotly-2.24.1.min.js\"></script>                <div id=\"351bbb9f-7ac8-458c-8b20-24344c48bf85\" class=\"plotly-graph-div\" style=\"height:525px; width:100%;\"></div>            <script type=\"text/javascript\">                                    window.PLOTLYENV=window.PLOTLYENV || {};                                    if (document.getElementById(\"351bbb9f-7ac8-458c-8b20-24344c48bf85\")) {                    Plotly.newPlot(                        \"351bbb9f-7ac8-458c-8b20-24344c48bf85\",                        [{\"hovertemplate\":\"\\u0412\\u0438\\u0434 \\u041d\\u041f\\u0410=\\u0417\\u0430\\u043a\\u043e\\u043d, \\u0440\\u0435\\u0433\\u0438\\u043e\\u043d\\u0430\\u043b\\u044c\\u043d\\u044b\\u0439 \\u0443\\u0440\\u043e\\u0432\\u0435\\u043d\\u044c, \\u0437\\u0430\\u043a\\u043e\\u043d\\u043e\\u0434\\u0430\\u0442\\u0435\\u043b\\u044c\\u043d\\u044b\\u0439 \\u043e\\u0440\\u0433\\u0430\\u043d\\u003cbr\\u003e0=%{x}\\u003cbr\\u003e1=%{y}\\u003cextra\\u003e\\u003c\\u002fextra\\u003e\",\"legendgroup\":\"\\u0417\\u0430\\u043a\\u043e\\u043d, \\u0440\\u0435\\u0433\\u0438\\u043e\\u043d\\u0430\\u043b\\u044c\\u043d\\u044b\\u0439 \\u0443\\u0440\\u043e\\u0432\\u0435\\u043d\\u044c, \\u0437\\u0430\\u043a\\u043e\\u043d\\u043e\\u0434\\u0430\\u0442\\u0435\\u043b\\u044c\\u043d\\u044b\\u0439 \\u043e\\u0440\\u0433\\u0430\\u043d\",\"marker\":{\"color\":\"#636efa\",\"symbol\":\"circle\"},\"mode\":\"markers\",\"name\":\"\\u0417\\u0430\\u043a\\u043e\\u043d, \\u0440\\u0435\\u0433\\u0438\\u043e\\u043d\\u0430\\u043b\\u044c\\u043d\\u044b\\u0439 \\u0443\\u0440\\u043e\\u0432\\u0435\\u043d\\u044c, \\u0437\\u0430\\u043a\\u043e\\u043d\\u043e\\u0434\\u0430\\u0442\\u0435\\u043b\\u044c\\u043d\\u044b\\u0439 \\u043e\\u0440\\u0433\\u0430\\u043d\",\"showlegend\":true,\"x\":[-4.253011703491211,-7.128437519073486,-6.063494682312012,-5.184330463409424,-4.276349067687988,-7.7644944190979,-6.444558620452881,-5.924797534942627,-6.888510227203369,-3.0609617233276367,-5.172355651855469,-6.197858810424805,-5.873189449310303,-3.9984183311462402,-6.785394191741943,-6.757155895233154,-6.766903400421143,-6.889745235443115,-6.062920570373535,-4.205526351928711,-4.980042934417725,-5.197019100189209,-6.2022247314453125,-3.863619804382324,-6.724700450897217,-6.901337623596191,-7.231576442718506,-4.248525142669678,-6.711973667144775,-7.11968469619751,-3.3738129138946533,-3.4894979000091553,-6.641706943511963,-4.2378997802734375,-7.718218803405762,-7.30018424987793,-5.738070011138916,-3.2797203063964844,-4.979480266571045,-5.49597692489624,-4.862346649169922,-5.010942459106445,-4.207266807556152,-6.803417205810547,-5.794395923614502,-5.363591194152832,-4.393161773681641,-6.349229335784912,-3.2594313621520996,-3.2781424522399902,-6.592173099517822,-4.306397914886475,-6.365757465362549,-5.818775177001953,-5.73926305770874,-5.160686016082764,-5.763415813446045,-4.212360382080078,-3.1925222873687744,-4.254561424255371,-5.097383499145508,-5.94487190246582,-4.542215824127197,-4.327102184295654,-5.67722225189209,-5.264554023742676,-5.214677810668945,-4.22718620300293,-6.211427688598633,-5.794328212738037,-6.416284084320068,-4.922998428344727,-5.587319374084473,-6.262178897857666,-7.006621360778809,-6.026747226715088,-5.737362861633301,-4.876307010650635,-6.379502773284912,-5.545714378356934,-5.905871868133545,-4.995956897735596,-6.479555130004883,-3.9516758918762207,-5.014299392700195,-4.124277114868164,-6.092423439025879,-7.1931867599487305,-7.027591705322266,-5.72529411315918,-5.101016044616699,-6.0970458984375,-6.458225727081299,-3.5095508098602295,-5.186789512634277,-6.110451698303223,-5.195272445678711,-6.953385829925537,-5.475220680236816,-7.683993339538574,-5.580550193786621,-6.152804374694824,-5.609664440155029,-6.517561435699463,-2.281299352645874,-5.318336009979248,-6.717990875244141,-7.16042947769165,-6.985655784606934,-6.444779396057129,-6.424127578735352,-5.392650127410889],\"xaxis\":\"x\",\"y\":[1.42957603931427,3.4656126499176025,3.505168914794922,2.7560653686523438,2.402306079864502,4.3599419593811035,2.276780605316162,1.9095808267593384,3.9220263957977295,1.1038976907730103,2.9472358226776123,4.040623664855957,2.20177960395813,1.3724629878997803,4.03456449508667,3.3129653930664062,3.79794979095459,2.8032467365264893,2.0291125774383545,1.414262056350708,2.7121026515960693,1.0327998399734497,4.064406394958496,1.3503832817077637,2.5798146724700928,3.558194637298584,3.7516818046569824,2.4922797679901123,3.707672119140625,3.9437239170074463,1.2888528108596802,1.3476536273956299,3.854093074798584,2.400672197341919,4.344740390777588,3.7801730632781982,2.962287425994873,1.2971043586730957,2.651381015777588,2.0588865280151367,2.4496424198150635,2.541149139404297,2.4841272830963135,3.7469372749328613,3.145073890686035,2.6082849502563477,2.4021859169006348,3.7685129642486572,1.249699592590332,1.2878408432006836,3.755563259124756,2.4275307655334473,3.792996406555176,3.0084869861602783,2.8527185916900635,1.0470114946365356,1.967131495475769,1.3500123023986816,1.1687943935394287,2.4518322944641113,2.719597339630127,2.1891286373138428,1.363194227218628,1.32117760181427,1.9614357948303223,2.5949294567108154,2.633962631225586,2.5151891708374023,2.054366111755371,2.081559896469116,4.278745651245117,2.626821517944336,2.1968419551849365,4.036507606506348,3.582033395767212,2.2944512367248535,2.356940507888794,2.560023546218872,3.865067481994629,2.086188554763794,2.003740072250366,2.700937509536743,3.767343759536743,1.3182202577590942,1.0501642227172852,1.5573288202285767,2.1220877170562744,3.634298801422119,3.59989595413208,2.1024317741394043,2.752216339111328,2.37725567817688,3.5355851650238037,0.732893705368042,1.0741684436798096,4.148869514465332,2.4846956729888916,3.967590093612671,1.973793864250183,4.323984146118164,2.1824567317962646,2.1345736980438232,2.2951598167419434,2.894566059112549,2.3764915466308594,2.658395290374756,3.625227928161621,3.3783316612243652,3.584766387939453,3.7027790546417236,2.8997957706451416,2.6096479892730713],\"yaxis\":\"y\",\"type\":\"scattergl\"},{\"hovertemplate\":\"\\u0412\\u0438\\u0434 \\u041d\\u041f\\u0410=\\u0420\\u0430\\u0441\\u043f\\u043e\\u0440\\u044f\\u0436\\u0435\\u043d\\u0438\\u0435, \\u0440\\u0435\\u0433\\u0438\\u043e\\u043d\\u0430\\u043b\\u044c\\u043d\\u044b\\u0439 \\u0443\\u0440\\u043e\\u0432\\u0435\\u043d\\u044c, \\u043f\\u0440\\u0430\\u0432\\u0438\\u0442\\u0435\\u043b\\u044c\\u0441\\u0442\\u0432\\u043e\\u003cbr\\u003e0=%{x}\\u003cbr\\u003e1=%{y}\\u003cextra\\u003e\\u003c\\u002fextra\\u003e\",\"legendgroup\":\"\\u0420\\u0430\\u0441\\u043f\\u043e\\u0440\\u044f\\u0436\\u0435\\u043d\\u0438\\u0435, \\u0440\\u0435\\u0433\\u0438\\u043e\\u043d\\u0430\\u043b\\u044c\\u043d\\u044b\\u0439 \\u0443\\u0440\\u043e\\u0432\\u0435\\u043d\\u044c, \\u043f\\u0440\\u0430\\u0432\\u0438\\u0442\\u0435\\u043b\\u044c\\u0441\\u0442\\u0432\\u043e\",\"marker\":{\"color\":\"#EF553B\",\"symbol\":\"circle\"},\"mode\":\"markers\",\"name\":\"\\u0420\\u0430\\u0441\\u043f\\u043e\\u0440\\u044f\\u0436\\u0435\\u043d\\u0438\\u0435, \\u0440\\u0435\\u0433\\u0438\\u043e\\u043d\\u0430\\u043b\\u044c\\u043d\\u044b\\u0439 \\u0443\\u0440\\u043e\\u0432\\u0435\\u043d\\u044c, \\u043f\\u0440\\u0430\\u0432\\u0438\\u0442\\u0435\\u043b\\u044c\\u0441\\u0442\\u0432\\u043e\",\"showlegend\":true,\"x\":[6.84628963470459,7.92620849609375,7.250774383544922,7.968472480773926,7.743066310882568,5.849198341369629,7.474181175231934,7.13986349105835,7.723224639892578,6.470160484313965,5.502138137817383,7.181029319763184,6.271261215209961,7.209091663360596,7.0421271324157715,8.035679817199707,7.476803302764893,7.755092620849609,7.028991222381592,7.7642364501953125,8.243829727172852,7.3253068923950195,8.70702075958252,5.459895610809326,6.162794589996338,5.870875835418701,7.180541515350342,7.959965229034424,6.571866989135742,7.306732177734375,7.2278733253479,6.701240062713623,6.640985488891602,6.899272441864014,6.87088680267334,8.119675636291504,6.905477046966553,7.295913219451904,6.291443824768066,6.944687843322754,6.893121719360352,3.394975423812866,8.330183029174805,8.125814437866211,7.714923858642578,6.415074825286865,8.025715827941895,7.097282886505127,6.987534523010254,7.643904209136963,6.582502365112305,5.968752861022949,8.355474472045898,6.7915239334106445,6.5094194412231445,7.7503204345703125,7.176172256469727,6.122013568878174,5.415327072143555,7.769661903381348,6.001183986663818,8.147537231445312,7.190370082855225,7.184653282165527,6.559869289398193,7.7515549659729,6.767495632171631,6.9634881019592285,8.213706016540527,8.140294075012207,7.783520698547363,7.459943771362305,7.9083027839660645,6.296713829040527,7.255522727966309,3.4712374210357666,6.712170600891113,7.864497661590576,7.683390140533447,5.8885979652404785,8.330907821655273,7.922263145446777,7.922764301300049,8.291814804077148,7.39055871963501,6.577864646911621,7.591223239898682,8.235949516296387,7.923770427703857,8.390080451965332,6.989684581756592,6.554733753204346,6.8104777336120605,7.849278450012207,6.831423759460449,7.072323799133301,7.742639541625977,7.814775466918945,6.986173629760742,6.819080829620361,6.170197486877441,5.937345027923584,7.68419075012207,7.800914764404297,6.869801044464111],\"xaxis\":\"x\",\"y\":[6.989803314208984,8.294418334960938,9.266034126281738,8.467744827270508,8.749499320983887,8.45944595336914,7.1543097496032715,10.330792427062988,9.185725212097168,9.320863723754883,7.194179534912109,7.0521321296691895,6.99221134185791,6.868095874786377,10.34521770477295,8.321285247802734,9.23240852355957,7.389169216156006,9.817899703979492,9.417579650878906,7.997925281524658,6.8335700035095215,9.166255950927734,7.16992712020874,7.259108543395996,7.261654853820801,7.1313252449035645,8.402657508850098,9.519508361816406,9.452466011047363,8.858033180236816,9.68449592590332,9.567296981811523,6.9549760818481445,9.394206047058105,7.928243637084961,7.085789203643799,8.663094520568848,8.606536865234375,9.751504898071289,10.185160636901855,7.206014633178711,8.077071189880371,9.137434959411621,8.717194557189941,9.547390937805176,9.235666275024414,9.648796081542969,10.332165718078613,9.410706520080566,10.07311725616455,7.330260276794434,9.507481575012207,6.983260631561279,10.206790924072266,8.69501781463623,6.945772171020508,9.707744598388672,7.352182388305664,9.349823951721191,7.366666793823242,9.509207725524902,6.939555644989014,6.846548080444336,9.661178588867188,9.181714057922363,9.330865859985352,10.317378044128418,9.469579696655273,9.839688301086426,7.411022663116455,9.079901695251465,9.05932331085205,9.578984260559082,10.422154426574707,7.181731700897217,9.487152099609375,8.447674751281738,7.380535125732422,7.260140419006348,8.042597770690918,8.27514934539795,9.403084754943848,9.31843090057373,9.063067436218262,9.563708305358887,8.604702949523926,8.445395469665527,9.424230575561523,9.44997787475586,6.957634449005127,9.398299217224121,7.071444034576416,10.072649002075195,9.475905418395996,10.334095001220703,7.369272708892822,9.699460983276367,10.188480377197266,9.62527847290039,7.027976989746094,7.5287580490112305,7.383828163146973,9.343515396118164,9.239042282104492],\"yaxis\":\"y\",\"type\":\"scattergl\"},{\"hovertemplate\":\"\\u0412\\u0438\\u0434 \\u041d\\u041f\\u0410=\\u0420\\u0430\\u0441\\u043f\\u043e\\u0440\\u044f\\u0436\\u0435\\u043d\\u0438\\u0435, \\u0444\\u0435\\u0434\\u0435\\u0440\\u0430\\u043b\\u044c\\u043d\\u044b\\u0439 \\u0443\\u0440\\u043e\\u0432\\u0435\\u043d\\u044c, \\u043f\\u0440\\u0430\\u0432\\u0438\\u0442\\u0435\\u043b\\u044c\\u0441\\u0442\\u0432\\u043e\\u003cbr\\u003e0=%{x}\\u003cbr\\u003e1=%{y}\\u003cextra\\u003e\\u003c\\u002fextra\\u003e\",\"legendgroup\":\"\\u0420\\u0430\\u0441\\u043f\\u043e\\u0440\\u044f\\u0436\\u0435\\u043d\\u0438\\u0435, \\u0444\\u0435\\u0434\\u0435\\u0440\\u0430\\u043b\\u044c\\u043d\\u044b\\u0439 \\u0443\\u0440\\u043e\\u0432\\u0435\\u043d\\u044c, \\u043f\\u0440\\u0430\\u0432\\u0438\\u0442\\u0435\\u043b\\u044c\\u0441\\u0442\\u0432\\u043e\",\"marker\":{\"color\":\"#00cc96\",\"symbol\":\"circle\"},\"mode\":\"markers\",\"name\":\"\\u0420\\u0430\\u0441\\u043f\\u043e\\u0440\\u044f\\u0436\\u0435\\u043d\\u0438\\u0435, \\u0444\\u0435\\u0434\\u0435\\u0440\\u0430\\u043b\\u044c\\u043d\\u044b\\u0439 \\u0443\\u0440\\u043e\\u0432\\u0435\\u043d\\u044c, \\u043f\\u0440\\u0430\\u0432\\u0438\\u0442\\u0435\\u043b\\u044c\\u0441\\u0442\\u0432\\u043e\",\"showlegend\":true,\"x\":[-3.7750449180603027,-5.506677627563477,-4.428160667419434,-7.430187225341797,-7.148157596588135,-4.14764928817749,-5.447707176208496,-7.280813217163086,-3.909623384475708,-4.09259033203125,-4.491782188415527,-7.276442050933838,-5.477380752563477,-4.43761682510376,-3.8631372451782227,-7.009119510650635,-3.888268232345581,-4.479090690612793,-3.9320664405822754,-7.363661766052246,-5.5051445960998535,-7.097428798675537,-4.153001308441162,-5.456353664398193,-4.404916286468506,-7.373934745788574,-3.421910524368286,-5.415857315063477,-7.3698201179504395,-4.271683216094971,-4.965623378753662,-7.399842739105225,-3.3413851261138916,-7.528338432312012,-7.4710235595703125,-3.77188777923584,-7.225705146789551,-4.5105767250061035,-4.157557010650635,-5.494159698486328,-3.1093556880950928,-7.274533748626709,-7.2659406661987305,-5.454022407531738,-4.094130992889404,-3.4485509395599365,-4.048788547515869,-4.085784912109375,-4.391966819763184,-4.505424499511719,-7.29520845413208,-7.507894992828369,-7.3415727615356445,-4.209860801696777,-3.291280746459961,-4.433013439178467,-7.238162517547607,-4.846986770629883,-7.326559066772461,-4.1330766677856445,-4.5111260414123535,-7.577992916107178,-5.455128192901611,-7.222538948059082,-5.477106094360352,-3.9677364826202393,-3.150768995285034,-5.460086345672607,-3.70881724357605,-7.260110855102539,-3.9744210243225098,-3.7152621746063232,-4.09852933883667,-5.354722499847412,-7.180960178375244,-4.743416786193848,-5.472384452819824,-7.198544502258301,-5.467021942138672,-3.1404128074645996,-5.505289077758789,-7.077640533447266,-4.127795696258545,-4.428375720977783,-4.257035255432129,-7.292026519775391,-4.023388862609863,-7.545614719390869,-4.067468166351318,-5.50025749206543,-4.964932441711426,-4.454578399658203,-7.363593578338623,-3.912130832672119,-7.2181315422058105,-7.533016681671143,-5.548789978027344,-7.3083696365356445,-3.4629716873168945,-4.398828506469727,-4.13704776763916,-4.900733947753906,-3.9822990894317627,-4.865200996398926],\"xaxis\":\"x\",\"y\":[11.196629524230957,9.654876708984375,10.883429527282715,7.496594429016113,7.727327823638916,10.909974098205566,9.52401065826416,7.613844394683838,11.54857063293457,10.974701881408691,11.097983360290527,7.597538948059082,9.648488998413086,11.086055755615234,10.857728004455566,8.088484764099121,11.210627555847168,10.874428749084473,11.03654956817627,7.522684574127197,9.574528694152832,7.837766170501709,11.037007331848145,9.664202690124512,10.862706184387207,7.507472515106201,11.31379222869873,9.688435554504395,7.495621681213379,10.871698379516602,11.959601402282715,7.4673919677734375,11.553533554077148,7.338402271270752,7.407247543334961,11.073471069335938,7.661711692810059,10.874695777893066,10.91381549835205,9.60629653930664,10.706531524658203,7.608412265777588,7.622114181518555,9.650854110717773,11.243537902832031,11.741701126098633,10.915322303771973,10.940665245056152,10.379693031311035,10.995502471923828,7.587950706481934,7.354128837585449,7.5358452796936035,10.941661834716797,11.336742401123047,11.554055213928223,7.643173694610596,11.837919235229492,7.554054260253906,10.897695541381836,10.88707160949707,7.283722877502441,9.6218843460083,7.664730548858643,9.612940788269043,10.896937370300293,11.415970802307129,9.634860038757324,11.472555160522461,7.629964828491211,10.934325218200684,11.342791557312012,10.869293212890625,9.637011528015137,7.689631938934326,11.535957336425781,9.635442733764648,7.6819071769714355,9.6464204788208,10.863692283630371,9.569659233093262,7.876236438751221,11.010526657104492,10.922503471374512,10.898824691772461,7.599000930786133,10.716020584106445,7.3053178787231445,11.004257202148438,9.531054496765137,11.676709175109863,10.983576774597168,7.519445419311523,12.12955093383789,7.7717814445495605,7.332867622375488,9.73540210723877,7.5743937492370605,11.96306324005127,11.685585975646973,10.925601959228516,11.74077033996582,10.813133239746094,11.886211395263672],\"yaxis\":\"y\",\"type\":\"scattergl\"},{\"hovertemplate\":\"\\u0412\\u0438\\u0434 \\u041d\\u041f\\u0410=\\u041f\\u0440\\u0438\\u043a\\u0430\\u0437, \\u0440\\u0435\\u0433\\u0438\\u043e\\u043d\\u0430\\u043b\\u044c\\u043d\\u044b\\u0439 \\u0443\\u0440\\u043e\\u0432\\u0435\\u043d\\u044c, \\u043e\\u0440\\u0433\\u0430\\u043d\\u044b \\u0438\\u0441\\u043f\\u043e\\u043b\\u043d\\u0438\\u0442\\u0435\\u043b\\u044c\\u043d\\u043e\\u0439 \\u0432\\u043b\\u0430\\u0441\\u0442\\u0438\\u003cbr\\u003e0=%{x}\\u003cbr\\u003e1=%{y}\\u003cextra\\u003e\\u003c\\u002fextra\\u003e\",\"legendgroup\":\"\\u041f\\u0440\\u0438\\u043a\\u0430\\u0437, \\u0440\\u0435\\u0433\\u0438\\u043e\\u043d\\u0430\\u043b\\u044c\\u043d\\u044b\\u0439 \\u0443\\u0440\\u043e\\u0432\\u0435\\u043d\\u044c, \\u043e\\u0440\\u0433\\u0430\\u043d\\u044b \\u0438\\u0441\\u043f\\u043e\\u043b\\u043d\\u0438\\u0442\\u0435\\u043b\\u044c\\u043d\\u043e\\u0439 \\u0432\\u043b\\u0430\\u0441\\u0442\\u0438\",\"marker\":{\"color\":\"#ab63fa\",\"symbol\":\"circle\"},\"mode\":\"markers\",\"name\":\"\\u041f\\u0440\\u0438\\u043a\\u0430\\u0437, \\u0440\\u0435\\u0433\\u0438\\u043e\\u043d\\u0430\\u043b\\u044c\\u043d\\u044b\\u0439 \\u0443\\u0440\\u043e\\u0432\\u0435\\u043d\\u044c, \\u043e\\u0440\\u0433\\u0430\\u043d\\u044b \\u0438\\u0441\\u043f\\u043e\\u043b\\u043d\\u0438\\u0442\\u0435\\u043b\\u044c\\u043d\\u043e\\u0439 \\u0432\\u043b\\u0430\\u0441\\u0442\\u0438\",\"showlegend\":true,\"x\":[5.966644287109375,4.259188652038574,4.838264465332031,7.13076639175415,6.692892551422119,8.173505783081055,6.941583156585693,4.602452754974365,4.2203545570373535,7.913693904876709,7.320629596710205,5.508928298950195,7.287970542907715,6.289269924163818,4.549803256988525,5.646055221557617,6.335191249847412,7.985464572906494,5.773428440093994,6.806058406829834,4.572001934051514,6.1519646644592285,6.345695495605469,6.102151393890381,7.117010593414307,7.147315979003906,8.142606735229492,8.132721900939941,5.859988689422607,7.322572708129883,4.167586326599121,6.8839240074157715,5.72337007522583,5.271912097930908,5.826295852661133,6.889950752258301,5.735557556152344,6.4134392738342285,6.6390700340271,5.647527694702148,6.394226551055908,4.366782188415527,6.999586582183838,4.057938098907471,5.819584369659424,6.9729509353637695,4.632943153381348,7.222622871398926,5.176580905914307,8.140753746032715,6.846246719360352,8.141545295715332,5.837813377380371,6.1636576652526855,7.044300079345703,6.306798934936523,8.124150276184082,6.168351650238037,8.226051330566406,7.288956165313721,4.576205730438232,5.983040809631348,3.9022748470306396,4.168193340301514,7.205984592437744,3.9254109859466553,4.112149715423584,4.877389430999756,7.4988298416137695,8.017951011657715,6.687197685241699,6.370701313018799,5.855217933654785,4.558694362640381,4.0688042640686035,4.9632673263549805,4.6673808097839355,6.164529323577881,5.302567005157471,8.110793113708496,5.7062153816223145,7.307106018066406,6.634984970092773,8.163482666015625,3.87760591506958,-2.2840170860290527,8.082984924316406,4.648038387298584,7.019145488739014,6.747684955596924,5.686100006103516,5.3170928955078125,8.12460994720459,6.341798305511475,5.30507755279541,6.387321949005127,5.166999816894531,6.552738666534424,6.308319568634033,4.617403507232666,6.7638468742370605,4.6412506103515625,5.084648132324219,5.970470905303955,6.972888469696045,8.121585845947266,7.7549638748168945,4.393615245819092],\"xaxis\":\"x\",\"y\":[-0.052295614033937454,-0.07529274374246597,-0.10841803252696991,0.8139801621437073,-0.24334387481212616,-0.02662203460931778,-0.12112671881914139,-1.1034412384033203,-0.08950133621692657,0.024641986936330795,1.3419077396392822,-0.2906453311443329,-1.5470279455184937,0.3002684414386749,-1.2702282667160034,-0.03862184286117554,-0.48207998275756836,-0.058618754148483276,-0.5351355075836182,-0.11074066162109375,-0.4108777940273285,-0.3009984791278839,0.27231311798095703,-0.23535917699337006,0.2082042247056961,0.024649575352668762,-0.06050105392932892,-0.04440905153751373,0.8867776393890381,-1.5565717220306396,-1.0643280744552612,0.015429683029651642,-0.13108542561531067,-0.23983383178710938,-0.036275990307331085,-0.057645123451948166,-0.19062840938568115,-0.8600532412528992,-0.08223385363817215,-0.1260826587677002,-0.28828996419906616,-0.4706484079360962,-0.11339937150478363,-1.094049334526062,-0.1757672280073166,-0.23397786915302277,-1.2392876148223877,-0.01137810293585062,-0.06041986122727394,-0.07154722511768341,0.21413469314575195,-0.22189441323280334,-0.17027755081653595,0.3030281960964203,0.016664834693074226,-0.2160433977842331,-0.23224814236164093,-0.3379002511501312,-0.014091789722442627,-1.5988715887069702,-1.2217057943344116,0.6008092761039734,-1.0220211744308472,-1.1107555627822876,0.7215615510940552,-1.1142643690109253,-1.0745822191238403,-0.3778340816497803,0.6415801644325256,0.6782922744750977,-0.2299780547618866,-0.1480872482061386,0.7863715291023254,-1.1722698211669922,-1.063161849975586,-0.07661251723766327,-1.3129523992538452,0.10596555471420288,-0.025007057934999466,-0.23740451037883759,-0.1287791132926941,-1.5551819801330566,-0.17934992909431458,-0.017312541604042053,-1.0098038911819458,0.6899547576904297,-0.25975093245506287,-1.3325788974761963,0.14360164105892181,-0.2811910808086395,0.7471208572387695,0.307903528213501,-0.24439287185668945,-0.9759671688079834,-0.04896647110581398,-0.10986484587192535,0.2067278027534485,-0.4868561029434204,0.976399838924408,-1.232877254486084,-0.09473171830177307,0.1368609368801117,-0.053324293345212936,-0.30796369910240173,-0.11316981911659241,-0.12591595947742462,-0.05490923300385475,-0.6616876125335693],\"yaxis\":\"y\",\"type\":\"scattergl\"},{\"hovertemplate\":\"\\u0412\\u0438\\u0434 \\u041d\\u041f\\u0410=\\u0423\\u043a\\u0430\\u0437, \\u0444\\u0435\\u0434\\u0435\\u0440\\u0430\\u043b\\u044c\\u043d\\u044b\\u0439 \\u0443\\u0440\\u043e\\u0432\\u0435\\u043d\\u044c, \\u0433\\u043b\\u0430\\u0432\\u0430 \\u0438\\u0441\\u043f\\u043e\\u043b\\u043d\\u0438\\u0442\\u0435\\u043b\\u044c\\u043d\\u043e\\u0439 \\u0432\\u043b\\u0430\\u0441\\u0442\\u0438\\u003cbr\\u003e0=%{x}\\u003cbr\\u003e1=%{y}\\u003cextra\\u003e\\u003c\\u002fextra\\u003e\",\"legendgroup\":\"\\u0423\\u043a\\u0430\\u0437, \\u0444\\u0435\\u0434\\u0435\\u0440\\u0430\\u043b\\u044c\\u043d\\u044b\\u0439 \\u0443\\u0440\\u043e\\u0432\\u0435\\u043d\\u044c, \\u0433\\u043b\\u0430\\u0432\\u0430 \\u0438\\u0441\\u043f\\u043e\\u043b\\u043d\\u0438\\u0442\\u0435\\u043b\\u044c\\u043d\\u043e\\u0439 \\u0432\\u043b\\u0430\\u0441\\u0442\\u0438\",\"marker\":{\"color\":\"#FFA15A\",\"symbol\":\"circle\"},\"mode\":\"markers\",\"name\":\"\\u0423\\u043a\\u0430\\u0437, \\u0444\\u0435\\u0434\\u0435\\u0440\\u0430\\u043b\\u044c\\u043d\\u044b\\u0439 \\u0443\\u0440\\u043e\\u0432\\u0435\\u043d\\u044c, \\u0433\\u043b\\u0430\\u0432\\u0430 \\u0438\\u0441\\u043f\\u043e\\u043b\\u043d\\u0438\\u0442\\u0435\\u043b\\u044c\\u043d\\u043e\\u0439 \\u0432\\u043b\\u0430\\u0441\\u0442\\u0438\",\"showlegend\":true,\"x\":[-2.43873929977417,-1.0948320627212524,-2.217358112335205,-2.617114782333374,-2.5750582218170166,-2.459144115447998,-1.2477153539657593,-1.088707685470581,-2.4336788654327393,-1.3443338871002197,-2.2283523082733154,-1.0345101356506348,0.06647758185863495,-1.0524709224700928,-2.3162288665771484,-2.2328553199768066,-2.6229681968688965,0.17594414949417114,-1.0108181238174438,0.1725318431854248,-0.930930495262146,-2.3683674335479736,0.04857918247580528,0.17580777406692505,-2.48081111907959,-1.0060980319976807,-2.1977477073669434,-1.343673825263977,-2.3289830684661865,-2.194450616836548,-2.3372273445129395,-1.0449384450912476,-2.529651403427124,-1.0479063987731934,0.15645074844360352,-2.5462889671325684,-0.9217773079872131,0.1618419736623764,-2.3686530590057373,-2.3308486938476562,-0.9114855527877808,0.1676582396030426,-2.237072467803955,-1.0886393785476685,-2.4873740673065186,0.07072535902261734,0.16565284132957458,0.04188024252653122,0.08246751129627228,-2.2748303413391113,-1.0749918222427368,-1.0044329166412354,-1.0247117280960083,-1.0711793899536133,0.03768066689372063,-1.036178469657898,-1.224131464958191,-1.030651330947876,0.07452341169118881,-1.0583832263946533,-1.0892900228500366,-2.4510021209716797,-2.2419559955596924,-1.034256935119629,-2.422485589981079,-0.988024115562439,0.15572711825370789,-2.5134527683258057,-2.225261688232422],\"xaxis\":\"x\",\"y\":[-12.3247652053833,-13.118914604187012,-12.599390029907227,-12.503437042236328,-12.522859573364258,-12.525278091430664,-12.963085174560547,-13.120227813720703,-12.290244102478027,-12.987260818481445,-12.602131843566895,-13.160027503967285,-10.50016975402832,-13.152438163757324,-12.564332962036133,-12.541959762573242,-12.517006874084473,-10.439452171325684,-13.152287483215332,-10.440637588500977,-13.219855308532715,-12.549304962158203,-10.529455184936523,-10.441482543945312,-12.235555648803711,-13.148284912109375,-12.619734764099121,-12.997222900390625,-12.599129676818848,-12.575182914733887,-12.566423416137695,-13.108970642089844,-12.513150215148926,-13.126914978027344,-10.476052284240723,-12.489028930664062,-13.22301959991455,-10.466670989990234,-12.543987274169922,-12.548922538757324,-13.194275856018066,-10.438963890075684,-12.571662902832031,-13.13559341430664,-12.309598922729492,-10.520991325378418,-10.451841354370117,-10.53720474243164,-10.508573532104492,-12.564003944396973,-13.166038513183594,-13.239507675170898,-13.172606468200684,-13.142300605773926,-10.54067325592041,-13.116277694702148,-12.989996910095215,-13.142240524291992,-10.515052795410156,-13.148963928222656,-13.121570587158203,-12.3301362991333,-12.59785270690918,-13.15631103515625,-12.515477180480957,-13.157354354858398,-10.475480079650879,-12.491933822631836,-12.582074165344238],\"yaxis\":\"y\",\"type\":\"scattergl\"},{\"hovertemplate\":\"\\u0412\\u0438\\u0434 \\u041d\\u041f\\u0410=\\u041f\\u043e\\u0441\\u0442\\u0430\\u043d\\u043e\\u0432\\u043b\\u0435\\u043d\\u0438\\u0435, \\u0440\\u0435\\u0433\\u0438\\u043e\\u043d\\u0430\\u043b\\u044c\\u043d\\u044b\\u0439 \\u0443\\u0440\\u043e\\u0432\\u0435\\u043d\\u044c, \\u0433\\u043b\\u0430\\u0432\\u0430 \\u0438\\u0441\\u043f\\u043e\\u043b\\u043d\\u0438\\u0442\\u0435\\u043b\\u044c\\u043d\\u043e\\u0439 \\u0432\\u043b\\u0430\\u0441\\u0442\\u0438\\u003cbr\\u003e0=%{x}\\u003cbr\\u003e1=%{y}\\u003cextra\\u003e\\u003c\\u002fextra\\u003e\",\"legendgroup\":\"\\u041f\\u043e\\u0441\\u0442\\u0430\\u043d\\u043e\\u0432\\u043b\\u0435\\u043d\\u0438\\u0435, \\u0440\\u0435\\u0433\\u0438\\u043e\\u043d\\u0430\\u043b\\u044c\\u043d\\u044b\\u0439 \\u0443\\u0440\\u043e\\u0432\\u0435\\u043d\\u044c, \\u0433\\u043b\\u0430\\u0432\\u0430 \\u0438\\u0441\\u043f\\u043e\\u043b\\u043d\\u0438\\u0442\\u0435\\u043b\\u044c\\u043d\\u043e\\u0439 \\u0432\\u043b\\u0430\\u0441\\u0442\\u0438\",\"marker\":{\"color\":\"#19d3f3\",\"symbol\":\"circle\"},\"mode\":\"markers\",\"name\":\"\\u041f\\u043e\\u0441\\u0442\\u0430\\u043d\\u043e\\u0432\\u043b\\u0435\\u043d\\u0438\\u0435, \\u0440\\u0435\\u0433\\u0438\\u043e\\u043d\\u0430\\u043b\\u044c\\u043d\\u044b\\u0439 \\u0443\\u0440\\u043e\\u0432\\u0435\\u043d\\u044c, \\u0433\\u043b\\u0430\\u0432\\u0430 \\u0438\\u0441\\u043f\\u043e\\u043b\\u043d\\u0438\\u0442\\u0435\\u043b\\u044c\\u043d\\u043e\\u0439 \\u0432\\u043b\\u0430\\u0441\\u0442\\u0438\",\"showlegend\":true,\"x\":[3.0756664276123047,0.9076666831970215,-2.294208288192749,2.6963112354278564,3.561777114868164,2.2870335578918457,3.561997175216675,-0.15500198304653168,-0.17099854350090027,3.2331247329711914,3.260892391204834,-0.05427196994423866,3.568106174468994,2.4225592613220215,3.452505350112915,3.4829249382019043,0.37026989459991455,0.9910781383514404,3.495870590209961,1.6186274290084839,0.29068952798843384,3.4029576778411865,3.6081225872039795,3.7908921241760254,0.9946130514144897,1.1291399002075195,3.582251787185669,3.56343150138855,-0.4650719165802002,1.2633070945739746,3.285369634628296,3.207519769668579,-1.844341516494751,3.408355236053467,0.05621350556612015,0.742346465587616,3.592968702316284,1.1449329853057861,3.4418013095855713,-1.6154779195785522,1.0936483144760132,3.2662229537963867,0.0827014297246933,2.35589599609375,3.414472818374634,-1.8414981365203857,-0.34252357482910156,-0.9721118807792664,3.5194313526153564,-1.9002134799957275,3.5251169204711914,3.375703811645508,-2.238403081893921,0.17832233011722565,3.6995270252227783,-0.048730600625276566,0.4870187044143677,3.324547529220581,0.3991824984550476,-0.24693305790424347,3.1478939056396484,1.0068268775939941,3.4541211128234863,1.338026762008667,-1.8328447341918945,2.5632312297821045,-0.017248017713427544,-1.1537092924118042,3.4569027423858643,3.414490222930908,1.07572340965271,-0.2169760763645172,-0.013060948811471462,3.0068721771240234,3.5799968242645264,-0.8572198152542114,1.1709662675857544,1.3988655805587769,3.0974509716033936,3.4344544410705566,1.3140745162963867,3.3106842041015625,-2.277888298034668,-1.8329241275787354,3.3058974742889404,-0.01620696857571602,2.9757914543151855,0.6351538300514221,0.3067920207977295,0.7252790927886963,1.407938003540039,-1.853509545326233,1.3450685739517212,3.35107421875,3.362525701522827,0.832483172416687,-0.4337901771068573,-0.022998472675681114,0.02357531525194645,0.21818116307258606,3.261545419692993,0.8918944001197815,3.6849982738494873,2.9654769897460938,3.4755990505218506],\"xaxis\":\"x\",\"y\":[-5.130967140197754,-3.777505874633789,0.315355509519577,-5.00286340713501,-3.962066650390625,-4.958319187164307,-4.14523458480835,-2.792929172515869,-2.748677968978882,-5.28093957901001,-5.092372417449951,-2.818455934524536,-4.5635762214660645,-4.965063095092773,-5.372960090637207,-3.970283269882202,-2.896634817123413,-4.476852893829346,-5.259423732757568,-4.470723628997803,-4.561755657196045,-5.08368444442749,-5.321891784667969,-4.45781946182251,-4.461874961853027,-4.488254547119141,-4.473957061767578,-4.436107635498047,-2.571894645690918,-4.6484246253967285,-5.041495323181152,-5.04801607131958,-0.6842035055160522,-5.455978870391846,-2.729447603225708,-4.5839362144470215,-4.00804328918457,-4.5986785888671875,-4.2993597984313965,-1.0947169065475464,-4.613267421722412,-4.921513557434082,-2.841562271118164,-4.9382219314575195,-5.33362340927124,-0.6955360770225525,-2.5963199138641357,-2.351604461669922,-4.070084095001221,-4.719764709472656,-3.918593645095825,-5.433748245239258,0.14178182184696198,-2.810035228729248,-4.157163143157959,-2.8145506381988525,-2.926670551300049,-5.420384883880615,-3.1025123596191406,-2.6889848709106445,-5.278186798095703,-4.144108295440674,-5.458492279052734,-4.408992767333984,-0.692726731300354,-4.935702800750732,-2.828624963760376,-2.3007395267486572,-4.151132583618164,-4.204775333404541,-4.437397480010986,-2.6953203678131104,-2.8009119033813477,-4.793787479400635,-4.429136276245117,-2.5811519622802734,-4.6395158767700195,-4.593192100524902,-5.0049285888671875,-5.500195503234863,-4.644001007080078,-5.249311923980713,0.29490000009536743,-0.7130293250083923,-4.048668384552002,-2.8185133934020996,-5.261839389801025,-3.033787488937378,-4.560123920440674,-3.0858118534088135,-4.60414457321167,-0.69004225730896,-4.624686241149902,-5.3764472007751465,-5.47800350189209,-4.609166145324707,-2.689507246017456,-2.7760512828826904,-2.8352718353271484,-2.9573538303375244,-5.262246131896973,-4.309764862060547,-5.243144989013672,-5.044092655181885,-5.191126823425293],\"yaxis\":\"y\",\"type\":\"scattergl\"},{\"hovertemplate\":\"\\u0412\\u0438\\u0434 \\u041d\\u041f\\u0410=\\u041f\\u043e\\u0441\\u0442\\u0430\\u043d\\u043e\\u0432\\u043b\\u0435\\u043d\\u0438\\u0435, \\u0444\\u0435\\u0434\\u0435\\u0440\\u0430\\u043b\\u044c\\u043d\\u044b\\u0439 \\u0443\\u0440\\u043e\\u0432\\u0435\\u043d\\u044c, \\u043f\\u0440\\u0430\\u0432\\u0438\\u0442\\u0435\\u043b\\u044c\\u0441\\u0442\\u0432\\u043e\\u003cbr\\u003e0=%{x}\\u003cbr\\u003e1=%{y}\\u003cextra\\u003e\\u003c\\u002fextra\\u003e\",\"legendgroup\":\"\\u041f\\u043e\\u0441\\u0442\\u0430\\u043d\\u043e\\u0432\\u043b\\u0435\\u043d\\u0438\\u0435, \\u0444\\u0435\\u0434\\u0435\\u0440\\u0430\\u043b\\u044c\\u043d\\u044b\\u0439 \\u0443\\u0440\\u043e\\u0432\\u0435\\u043d\\u044c, \\u043f\\u0440\\u0430\\u0432\\u0438\\u0442\\u0435\\u043b\\u044c\\u0441\\u0442\\u0432\\u043e\",\"marker\":{\"color\":\"#FF6692\",\"symbol\":\"circle\"},\"mode\":\"markers\",\"name\":\"\\u041f\\u043e\\u0441\\u0442\\u0430\\u043d\\u043e\\u0432\\u043b\\u0435\\u043d\\u0438\\u0435, \\u0444\\u0435\\u0434\\u0435\\u0440\\u0430\\u043b\\u044c\\u043d\\u044b\\u0439 \\u0443\\u0440\\u043e\\u0432\\u0435\\u043d\\u044c, \\u043f\\u0440\\u0430\\u0432\\u0438\\u0442\\u0435\\u043b\\u044c\\u0441\\u0442\\u0432\\u043e\",\"showlegend\":true,\"x\":[10.423906326293945,10.66792106628418,9.501453399658203,-1.5493152141571045,10.9411039352417,9.567192077636719,10.289590835571289,11.662796974182129,9.501716613769531,11.737024307250977,10.307882308959961,9.466858863830566,10.857535362243652,9.297470092773438,9.338285446166992,11.724211692810059,10.859919548034668,11.773308753967285,10.826972961425781,9.746683120727539,10.594228744506836,11.594690322875977,10.875990867614746,8.173413276672363,10.92234992980957,11.783985137939453,10.948945045471191,11.59823226928711,10.623787879943848,11.074162483215332,11.08891487121582,10.403270721435547,10.763760566711426,11.003923416137695,10.563092231750488,10.919692993164062,10.927417755126953,9.441086769104004,11.143648147583008,9.52064037322998,9.50699520111084,11.918813705444336,11.01384449005127,10.657485008239746,10.996159553527832,9.965847969055176,9.246379852294922,9.438301086425781,9.319299697875977,9.839045524597168,10.978179931640625,10.802440643310547,9.495007514953613,10.820789337158203,11.016702651977539,8.202409744262695,9.91592788696289,9.58549690246582,10.573782920837402,11.548805236816406,10.763762474060059,11.893649101257324,10.633989334106445,9.603338241577148,9.44543170928955,10.725543975830078,10.80660343170166,9.324230194091797,10.791251182556152,10.812914848327637,9.474944114685059,9.309840202331543,9.64057445526123,10.734597206115723,12.248063087463379,11.839365005493164,10.009922981262207,10.775535583496094,10.92383861541748,9.550082206726074,11.929924964904785,10.397010803222656,11.792204856872559,10.421171188354492,10.64716911315918,9.425551414489746,11.125852584838867,11.881808280944824,10.935855865478516,11.765052795410156,11.578434944152832,10.643157005310059,10.861039161682129,9.495745658874512,9.254326820373535,11.88770866394043,11.204029083251953,10.404275894165039,11.253058433532715,10.174168586730957,11.58580207824707,8.217501640319824,9.323970794677734,11.842477798461914,10.809767723083496,11.129690170288086,11.650485038757324,10.884957313537598],\"xaxis\":\"x\",\"y\":[-2.0897693634033203,-1.3225420713424683,-4.929731369018555,-2.5806028842926025,-1.2598236799240112,-4.926644325256348,-2.9335415363311768,-2.5679819583892822,-4.93145751953125,-2.3221681118011475,-2.1129188537597656,-4.727686882019043,-2.606703519821167,-3.349170684814453,-3.479746103286743,-1.6443126201629639,-2.579362630844116,-2.430340528488159,-2.6441521644592285,-3.23909330368042,-1.5494654178619385,-2.8836967945098877,-2.5023796558380127,-3.4966189861297607,-2.4827780723571777,-2.2672455310821533,-2.6206634044647217,-2.840554714202881,-4.473867416381836,-1.4086281061172485,-2.34049916267395,-2.175288677215576,-2.599372148513794,-2.701589822769165,-1.6434229612350464,-2.580418586730957,-2.451478958129883,-4.7198615074157715,-2.472978115081787,-4.930119514465332,-4.691161632537842,-2.1315200328826904,-1.32546067237854,-4.403980731964111,-2.8143367767333984,-3.205690622329712,-4.985385894775391,-4.743807792663574,-3.4921891689300537,-3.164599657058716,-2.390218496322632,-4.406522274017334,-4.689935207366943,-4.4298481941223145,-4.095221042633057,-3.342789649963379,-3.16174054145813,-4.77437686920166,-1.6196794509887695,-2.9562315940856934,-2.691243886947632,-1.968632698059082,-3.01887583732605,-4.688726902008057,-4.709356307983398,-4.4769158363342285,-1.6222805976867676,-3.4664697647094727,-2.6364500522613525,-2.7405691146850586,-4.930923938751221,-3.4439306259155273,-4.79170560836792,-2.6635284423828125,-1.9279301166534424,-2.1906228065490723,-4.518298149108887,-2.6922812461853027,-2.6884894371032715,-4.914337635040283,-1.8565059900283813,-2.060579299926758,-1.4228448867797852,-2.277029514312744,-1.6531763076782227,-4.744226932525635,-2.4343326091766357,-2.07062029838562,-1.2667711973190308,-1.37473726272583,-2.936436891555786,-1.531025767326355,-4.350870609283447,-4.928046226501465,-3.6459426879882812,-1.9890127182006836,-2.2695186138153076,-2.2869651317596436,-1.0894193649291992,-2.088991403579712,-2.777338743209839,-3.329681396484375,-3.4473228454589844,-2.131601572036743,-4.458833694458008,-2.5232462882995605,-2.6469786167144775,-2.5577497482299805],\"yaxis\":\"y\",\"type\":\"scattergl\"},{\"hovertemplate\":\"\\u0412\\u0438\\u0434 \\u041d\\u041f\\u0410=\\u041f\\u043e\\u0441\\u0442\\u0430\\u043d\\u043e\\u0432\\u043b\\u0435\\u043d\\u0438\\u0435, \\u0440\\u0435\\u0433\\u0438\\u043e\\u043d\\u0430\\u043b\\u044c\\u043d\\u044b\\u0439 \\u0443\\u0440\\u043e\\u0432\\u0435\\u043d\\u044c, \\u0437\\u0430\\u043a\\u043e\\u043d\\u043e\\u0434\\u0430\\u0442\\u0435\\u043b\\u044c\\u043d\\u044b\\u0439 \\u043e\\u0440\\u0433\\u0430\\u043d\\u003cbr\\u003e0=%{x}\\u003cbr\\u003e1=%{y}\\u003cextra\\u003e\\u003c\\u002fextra\\u003e\",\"legendgroup\":\"\\u041f\\u043e\\u0441\\u0442\\u0430\\u043d\\u043e\\u0432\\u043b\\u0435\\u043d\\u0438\\u0435, \\u0440\\u0435\\u0433\\u0438\\u043e\\u043d\\u0430\\u043b\\u044c\\u043d\\u044b\\u0439 \\u0443\\u0440\\u043e\\u0432\\u0435\\u043d\\u044c, \\u0437\\u0430\\u043a\\u043e\\u043d\\u043e\\u0434\\u0430\\u0442\\u0435\\u043b\\u044c\\u043d\\u044b\\u0439 \\u043e\\u0440\\u0433\\u0430\\u043d\",\"marker\":{\"color\":\"#B6E880\",\"symbol\":\"circle\"},\"mode\":\"markers\",\"name\":\"\\u041f\\u043e\\u0441\\u0442\\u0430\\u043d\\u043e\\u0432\\u043b\\u0435\\u043d\\u0438\\u0435, \\u0440\\u0435\\u0433\\u0438\\u043e\\u043d\\u0430\\u043b\\u044c\\u043d\\u044b\\u0439 \\u0443\\u0440\\u043e\\u0432\\u0435\\u043d\\u044c, \\u0437\\u0430\\u043a\\u043e\\u043d\\u043e\\u0434\\u0430\\u0442\\u0435\\u043b\\u044c\\u043d\\u044b\\u0439 \\u043e\\u0440\\u0433\\u0430\\u043d\",\"showlegend\":true,\"x\":[-1.4206492900848389,-3.558793306350708,-4.583270072937012,-3.709080934524536,-3.6025805473327637,-2.6393463611602783,-1.5483065843582153,-4.590404510498047,-1.8673033714294434,-3.2000107765197754,-4.174966812133789,-3.1720824241638184,-3.170637607574463,-1.564700722694397,-4.410842418670654,-3.1685714721679688,-4.545701026916504,-2.706338882446289,-2.629077672958374,-3.205165147781372,-3.8518238067626953,-1.3285298347473145,-3.9547605514526367,-3.1466898918151855,-2.2945680618286133,-4.552469730377197,-1.2213776111602783,-4.165860652923584,-3.3436317443847656,-2.1221866607666016,-1.5658446550369263,-3.0529890060424805,-1.5759966373443604,-1.571272373199463,-3.202690362930298,-3.553098678588867,-4.4364447593688965,-4.0759358406066895,-1.6443514823913574,-3.1458487510681152,-1.8799996376037598,-1.5521916151046753,-3.3198165893554688,-1.5528984069824219,-4.371583461761475,-3.1528799533843994,-3.1362998485565186,-3.1471145153045654,-2.433344841003418,-2.5864267349243164,-3.168488025665283,-3.1907105445861816,-4.357730865478516,-3.8750364780426025,-3.9697647094726562,-2.62524676322937,-3.6221923828125,-1.3402690887451172,-3.5750153064727783,-1.5881656408309937,-4.548094272613525,-4.540433883666992,-4.521031856536865,-3.027658700942993,-2.6185901165008545,-3.2711567878723145,-4.170267105102539,-4.0812087059021,-1.5185327529907227,-3.1876518726348877,-3.1551032066345215,-2.842822551727295,-1.5576213598251343,-1.2897850275039673,-4.056105136871338,-4.004349708557129,-4.401772975921631,-4.0735979080200195,-3.167259931564331,-3.5662035942077637,-1.5791945457458496,-4.8628740310668945,-4.0779242515563965,-3.58160138130188,-4.419907569885254,-1.5807114839553833,-3.7312417030334473,-3.5601351261138916,-1.5837647914886475,-4.061829090118408,-2.685264825820923,-3.3017148971557617,-1.5761981010437012,-2.1226606369018555,-4.403773307800293,-3.179088830947876,-3.9370601177215576,-4.154913425445557,-2.953761577606201],\"xaxis\":\"x\",\"y\":[-5.774759769439697,-8.771355628967285,-8.91885757446289,-7.976620674133301,-8.725116729736328,-7.561134338378906,-6.990347862243652,-8.910446166992188,-5.504332065582275,-6.257667064666748,-8.550259590148926,-2.666471481323242,-6.2874298095703125,-7.031388282775879,-8.831331253051758,-6.276844024658203,-8.847087860107422,-7.154284477233887,-7.56199836730957,-6.235552787780762,-8.581886291503906,-7.037055015563965,-8.743003845214844,-6.29241418838501,-7.4856672286987305,-8.907159805297852,-5.858621120452881,-8.651628494262695,-8.584481239318848,-6.535379409790039,-7.040301322937012,-6.411334991455078,-6.976513385772705,-7.006856918334961,-6.274409294128418,-8.684091567993164,-8.852301597595215,-8.542219161987305,-7.0125508308410645,-6.2829132080078125,-5.592987060546875,-6.947628974914551,-7.536640644073486,-6.934744358062744,-8.80226993560791,-6.279259204864502,-6.296414852142334,-6.278804779052734,-7.63210916519165,-7.565679550170898,-6.261205196380615,-6.286095142364502,-8.81224536895752,-8.746966361999512,-8.696406364440918,-7.603814125061035,-8.615029335021973,-5.693561553955078,-8.728413581848145,-7.007129669189453,-8.898139953613281,-8.886287689208984,-8.871919631958008,-6.36991024017334,-7.5833940505981445,-6.246077060699463,-8.519865989685059,-8.549129486083984,-6.970531463623047,-6.317816734313965,-6.2754807472229,-6.318860054016113,-7.0022196769714355,-5.894851207733154,-8.538342475891113,-8.7578763961792,-8.836695671081543,-8.565142631530762,-6.2949676513671875,-8.623950958251953,-6.999274253845215,-8.925375938415527,-8.750383377075195,-8.738059997558594,-8.836434364318848,-7.002368450164795,-8.685347557067871,-8.72293472290039,-7.00234842300415,-8.549179077148438,-6.360100269317627,-7.655282497406006,-6.965124130249023,-6.486137390136719,-8.824750900268555,-6.283954620361328,-8.538935661315918,-8.544788360595703,-8.164579391479492],\"yaxis\":\"y\",\"type\":\"scattergl\"},{\"hovertemplate\":\"\\u0412\\u0438\\u0434 \\u041d\\u041f\\u0410=\\u0420\\u0430\\u0441\\u043f\\u043e\\u0440\\u044f\\u0436\\u0435\\u043d\\u0438\\u0435, \\u0444\\u0435\\u0434\\u0435\\u0440\\u0430\\u043b\\u044c\\u043d\\u044b\\u0439 \\u0443\\u0440\\u043e\\u0432\\u0435\\u043d\\u044c, \\u0433\\u043b\\u0430\\u0432\\u0430 \\u0438\\u0441\\u043f\\u043e\\u043b\\u043d\\u0438\\u0442\\u0435\\u043b\\u044c\\u043d\\u043e\\u0439 \\u0432\\u043b\\u0430\\u0441\\u0442\\u0438\\u003cbr\\u003e0=%{x}\\u003cbr\\u003e1=%{y}\\u003cextra\\u003e\\u003c\\u002fextra\\u003e\",\"legendgroup\":\"\\u0420\\u0430\\u0441\\u043f\\u043e\\u0440\\u044f\\u0436\\u0435\\u043d\\u0438\\u0435, \\u0444\\u0435\\u0434\\u0435\\u0440\\u0430\\u043b\\u044c\\u043d\\u044b\\u0439 \\u0443\\u0440\\u043e\\u0432\\u0435\\u043d\\u044c, \\u0433\\u043b\\u0430\\u0432\\u0430 \\u0438\\u0441\\u043f\\u043e\\u043b\\u043d\\u0438\\u0442\\u0435\\u043b\\u044c\\u043d\\u043e\\u0439 \\u0432\\u043b\\u0430\\u0441\\u0442\\u0438\",\"marker\":{\"color\":\"#FF97FF\",\"symbol\":\"circle\"},\"mode\":\"markers\",\"name\":\"\\u0420\\u0430\\u0441\\u043f\\u043e\\u0440\\u044f\\u0436\\u0435\\u043d\\u0438\\u0435, \\u0444\\u0435\\u0434\\u0435\\u0440\\u0430\\u043b\\u044c\\u043d\\u044b\\u0439 \\u0443\\u0440\\u043e\\u0432\\u0435\\u043d\\u044c, \\u0433\\u043b\\u0430\\u0432\\u0430 \\u0438\\u0441\\u043f\\u043e\\u043b\\u043d\\u0438\\u0442\\u0435\\u043b\\u044c\\u043d\\u043e\\u0439 \\u0432\\u043b\\u0430\\u0441\\u0442\\u0438\",\"showlegend\":true,\"x\":[-10.368447303771973,-11.94438362121582,-10.887789726257324,-11.310504913330078,-11.480782508850098,-11.36160659790039,-11.284011840820312,-11.051016807556152,-11.544503211975098,-11.24909782409668,-11.280579566955566,-10.767005920410156,-10.806269645690918,-11.050320625305176,-10.855384826660156,-11.919675827026367,-11.461723327636719,-11.03786563873291,-10.658551216125488,-11.334845542907715,-11.241730690002441,-10.733870506286621,-11.368539810180664,-11.260767936706543,-11.325467109680176,-11.078285217285156,-10.78636360168457,-11.95474910736084,-11.20783519744873,-11.308564186096191,-10.66162395477295,-11.416565895080566,-11.428995132446289,-10.839274406433105,-10.788471221923828,-10.71329116821289,-11.441065788269043,-10.814573287963867,-11.496442794799805,-11.72174072265625,-11.952445030212402,-11.313911437988281,-11.328042984008789,-11.085275650024414,-11.256117820739746,-11.281798362731934,-11.344772338867188,-10.990189552307129,-11.932840347290039,-11.446745872497559,-11.430529594421387,-10.876097679138184,-11.30044937133789,-11.333239555358887,-11.353045463562012,-11.342472076416016,-11.477166175842285,-11.278142929077148,-11.893553733825684,-11.39132308959961,-11.449870109558105,-11.281108856201172,-11.007896423339844,-11.402377128601074,-11.64708423614502,-11.3445405960083,-11.34233283996582,-10.687613487243652,-11.924721717834473,-10.833048820495605,-11.04926586151123,-10.104190826416016,-11.30361557006836,-11.336067199707031,-11.75713062286377,-11.287221908569336,-11.864192008972168,-11.907230377197266,-11.055127143859863,-11.46438217163086,-11.371570587158203,-11.875435829162598,-11.083186149597168,-11.253639221191406,-10.891460418701172,-11.341501235961914,-10.852691650390625],\"xaxis\":\"x\",\"y\":[0.606299638748169,3.7774240970611572,0.7539900541305542,0.9126505851745605,3.86457896232605,3.9135494232177734,1.0226528644561768,3.0287652015686035,3.894259452819824,3.9345457553863525,1.0055149793624878,0.6657706499099731,0.6927793025970459,3.0013480186462402,0.6996192932128906,3.8220629692077637,3.844080686569214,3.1211020946502686,3.32842755317688,0.8727931380271912,0.856736958026886,0.6449585556983948,2.2482826709747314,0.9128149747848511,2.06805419921875,2.947929859161377,0.5885204672813416,3.7797513008117676,0.8759005069732666,0.9018867015838623,3.3454079627990723,2.213433265686035,3.868135929107666,0.6721062660217285,0.6668981313705444,3.2942819595336914,3.848992347717285,0.6353650689125061,1.4047528505325317,3.880042791366577,3.7631936073303223,1.9017834663391113,0.9279013276100159,0.8755488991737366,0.9122344255447388,0.9633851647377014,4.183125972747803,0.8490930199623108,3.8366103172302246,1.340474009513855,3.8652639389038086,0.672641396522522,0.9975959062576294,2.2026147842407227,2.0606701374053955,2.039783477783203,3.869683265686035,0.9360966086387634,3.8166823387145996,2.1405115127563477,3.869375228881836,1.979689598083496,3.0047919750213623,1.1983987092971802,1.3022338151931763,0.9954431056976318,2.0436148643493652,0.5599104762077332,3.8044300079345703,0.6180166602134705,0.9092528223991394,0.6006465554237366,1.0014433860778809,1.0207287073135376,3.835857629776001,2.0222020149230957,3.8218140602111816,3.8408377170562744,3.1765189170837402,3.870797634124756,2.1843419075012207,3.8564703464508057,2.934399127960205,0.8656719923019409,0.6831531524658203,2.0932743549346924,0.7504420280456543],\"yaxis\":\"y\",\"type\":\"scattergl\"},{\"hovertemplate\":\"\\u0412\\u0438\\u0434 \\u041d\\u041f\\u0410=\\u041f\\u043e\\u0441\\u0442\\u0430\\u043d\\u043e\\u0432\\u043b\\u0435\\u043d\\u0438\\u0435, \\u0440\\u0435\\u0433\\u0438\\u043e\\u043d\\u0430\\u043b\\u044c\\u043d\\u044b\\u0439 \\u0443\\u0440\\u043e\\u0432\\u0435\\u043d\\u044c, \\u043e\\u0440\\u0433\\u0430\\u043d\\u044b \\u0438\\u0441\\u043f\\u043e\\u043b\\u043d\\u0438\\u0442\\u0435\\u043b\\u044c\\u043d\\u043e\\u0439 \\u0432\\u043b\\u0430\\u0441\\u0442\\u0438\\u003cbr\\u003e0=%{x}\\u003cbr\\u003e1=%{y}\\u003cextra\\u003e\\u003c\\u002fextra\\u003e\",\"legendgroup\":\"\\u041f\\u043e\\u0441\\u0442\\u0430\\u043d\\u043e\\u0432\\u043b\\u0435\\u043d\\u0438\\u0435, \\u0440\\u0435\\u0433\\u0438\\u043e\\u043d\\u0430\\u043b\\u044c\\u043d\\u044b\\u0439 \\u0443\\u0440\\u043e\\u0432\\u0435\\u043d\\u044c, \\u043e\\u0440\\u0433\\u0430\\u043d\\u044b \\u0438\\u0441\\u043f\\u043e\\u043b\\u043d\\u0438\\u0442\\u0435\\u043b\\u044c\\u043d\\u043e\\u0439 \\u0432\\u043b\\u0430\\u0441\\u0442\\u0438\",\"marker\":{\"color\":\"#FECB52\",\"symbol\":\"circle\"},\"mode\":\"markers\",\"name\":\"\\u041f\\u043e\\u0441\\u0442\\u0430\\u043d\\u043e\\u0432\\u043b\\u0435\\u043d\\u0438\\u0435, \\u0440\\u0435\\u0433\\u0438\\u043e\\u043d\\u0430\\u043b\\u044c\\u043d\\u044b\\u0439 \\u0443\\u0440\\u043e\\u0432\\u0435\\u043d\\u044c, \\u043e\\u0440\\u0433\\u0430\\u043d\\u044b \\u0438\\u0441\\u043f\\u043e\\u043b\\u043d\\u0438\\u0442\\u0435\\u043b\\u044c\\u043d\\u043e\\u0439 \\u0432\\u043b\\u0430\\u0441\\u0442\\u0438\",\"showlegend\":true,\"x\":[-1.530498743057251,-9.257081985473633,-8.74770736694336,-10.417081832885742,-10.426888465881348,-8.323347091674805,-8.64189624786377,-10.08393669128418,-9.239977836608887,-10.437438011169434,-10.08948040008545,-8.58695125579834,-10.442834854125977,-8.97917366027832,-8.313196182250977,-10.438547134399414,-9.183521270751953,-9.283308029174805,-8.599952697753906,-9.228765487670898,-10.427290916442871,-9.06342887878418,-10.58239459991455,-10.466911315917969,-9.593204498291016,-9.188945770263672,-9.165192604064941,-9.977418899536133,-9.181480407714844,-10.457462310791016,-10.204257011413574,-10.647786140441895,-10.59105396270752,-8.775444030761719,-8.622920036315918,-9.913028717041016,-10.3489990234375,-10.419565200805664,-10.24321174621582,-9.233512878417969,-8.607345581054688,-10.617855072021484,-10.031126976013184,-10.417028427124023,-10.378689765930176,-10.2889986038208,-1.468559741973877,-9.22716999053955,-9.250948905944824,-9.253066062927246,-10.49365520477295,-10.485258102416992,-10.147575378417969,-8.32171630859375,-3.5996816158294678,-10.501715660095215,-10.443392753601074,-8.58905029296875,-1.517228603363037,-3.4823029041290283,-8.330022811889648,-8.734770774841309,-10.593391418457031,-9.26867389678955,-10.443138122558594,-8.638696670532227,-0.7904191017150879,-9.3017578125,-9.28992748260498,-8.32453727722168,-10.316264152526855,-1.5597639083862305,-9.162701606750488],\"xaxis\":\"x\",\"y\":[-2.497302770614624,-5.678306579589844,-5.6770830154418945,-3.8880579471588135,-3.792083978652954,-4.981972694396973,-5.639534950256348,-4.484577178955078,-5.702095031738281,-3.9611642360687256,-4.493321418762207,-5.6548919677734375,-3.9560422897338867,-5.366571426391602,-5.040674686431885,-3.9689230918884277,-5.721615791320801,-5.661893844604492,-5.619778633117676,-5.661725997924805,-3.9442076683044434,-5.430873870849609,-3.8550515174865723,-3.9674673080444336,-4.920193672180176,-5.7338080406188965,-5.768434524536133,-4.5536346435546875,-5.708326816558838,-3.9608540534973145,-3.5962257385253906,-3.797513723373413,-3.84967303276062,-5.394906520843506,-5.659012794494629,-4.644989490509033,-3.7732162475585938,-3.9795796871185303,-4.336902141571045,-5.6683244705200195,-5.672682285308838,-3.849510669708252,-3.560168504714966,-3.976473093032837,-3.773597478866577,-4.2353835105896,-2.502586603164673,-5.698547840118408,-5.686795711517334,-5.768682479858398,-3.884561538696289,-3.9661383628845215,-4.41099739074707,-5.062073230743408,-2.380467653274536,-3.871368646621704,-3.9486775398254395,-5.620887279510498,-2.502808094024658,-2.3041555881500244,-4.97896146774292,-5.661498069763184,-3.8775382041931152,-5.749844551086426,-3.961411237716675,-5.636326789855957,-2.641810417175293,-5.707578659057617,-5.688952922821045,-4.981594562530518,-3.7634685039520264,-2.5325214862823486,-5.711616516113281],\"yaxis\":\"y\",\"type\":\"scattergl\"},{\"hovertemplate\":\"\\u0412\\u0438\\u0434 \\u041d\\u041f\\u0410=\\u0423\\u043a\\u0430\\u0437, \\u0440\\u0435\\u0433\\u0438\\u043e\\u043d\\u0430\\u043b\\u044c\\u043d\\u044b\\u0439 \\u0443\\u0440\\u043e\\u0432\\u0435\\u043d\\u044c, \\u0433\\u043b\\u0430\\u0432\\u0430 \\u0438\\u0441\\u043f\\u043e\\u043b\\u043d\\u0438\\u0442\\u0435\\u043b\\u044c\\u043d\\u043e\\u0439 \\u0432\\u043b\\u0430\\u0441\\u0442\\u0438\\u003cbr\\u003e0=%{x}\\u003cbr\\u003e1=%{y}\\u003cextra\\u003e\\u003c\\u002fextra\\u003e\",\"legendgroup\":\"\\u0423\\u043a\\u0430\\u0437, \\u0440\\u0435\\u0433\\u0438\\u043e\\u043d\\u0430\\u043b\\u044c\\u043d\\u044b\\u0439 \\u0443\\u0440\\u043e\\u0432\\u0435\\u043d\\u044c, \\u0433\\u043b\\u0430\\u0432\\u0430 \\u0438\\u0441\\u043f\\u043e\\u043b\\u043d\\u0438\\u0442\\u0435\\u043b\\u044c\\u043d\\u043e\\u0439 \\u0432\\u043b\\u0430\\u0441\\u0442\\u0438\",\"marker\":{\"color\":\"#636efa\",\"symbol\":\"circle\"},\"mode\":\"markers\",\"name\":\"\\u0423\\u043a\\u0430\\u0437, \\u0440\\u0435\\u0433\\u0438\\u043e\\u043d\\u0430\\u043b\\u044c\\u043d\\u044b\\u0439 \\u0443\\u0440\\u043e\\u0432\\u0435\\u043d\\u044c, \\u0433\\u043b\\u0430\\u0432\\u0430 \\u0438\\u0441\\u043f\\u043e\\u043b\\u043d\\u0438\\u0442\\u0435\\u043b\\u044c\\u043d\\u043e\\u0439 \\u0432\\u043b\\u0430\\u0441\\u0442\\u0438\",\"showlegend\":true,\"x\":[0.7268117666244507,1.3018395900726318,0.8720737099647522,0.524010419845581,0.2416752278804779,-0.4462084472179413,0.9436417818069458,0.75811767578125,-2.6273202896118164,0.5728092193603516,-1.3445470333099365,-0.41388076543807983,-0.14106400310993195,-0.07962458580732346,1.2224574089050293,0.7114580869674683,0.36811143159866333,0.22192567586898804,0.2434074878692627,-2.4393310546875,0.7052536606788635,0.45018470287323,0.8371303677558899,0.32882362604141235,-1.20431387424469,0.4646478593349457,-1.41066575050354,0.5501800179481506,0.7935821413993835,0.03309432044625282,0.7404276728630066,-0.45302528142929077,1.0565015077590942,0.7921848297119141,0.8177353143692017,-1.1257253885269165,0.00922112911939621,-0.5879027843475342,1.2035490274429321,1.4031633138656616,0.3663148581981659,0.5251610279083252,0.23087839782238007,-1.1221277713775635,-2.0655202865600586,0.4542901813983917,0.4609931707382202,0.9252318739891052,0.28892239928245544,0.7393149733543396,-1.3394492864608765,0.4975259602069855,1.4221208095550537,1.3364861011505127,-0.554850697517395,0.413783997297287,0.10097049921751022,0.10627161711454391,3.5727226734161377,-0.36604031920433044,-0.33310744166374207,0.26742106676101685,0.1822657287120819,-0.0017036731587722898,1.0122489929199219,0.464124858379364,0.3301883637905121,0.7308025360107422,-1.7132580280303955,-0.27437064051628113,0.9174410700798035,0.40773868560791016,0.2640616297721863,0.36840200424194336,0.5433881878852844,-0.13537785410881042,0.7362690567970276,1.231501579284668,0.318619042634964,-2.483830690383911,-0.28619858622550964,-0.41629430651664734,0.8986065983772278,0.35404255986213684,-0.4155663251876831],\"xaxis\":\"x\",\"y\":[0.41429170966148376,0.915463387966156,0.647321879863739,0.28259798884391785,1.257933259010315,1.5467848777770996,0.6594181060791016,0.4422183334827423,0.8521913290023804,0.4671155512332916,-0.5200136303901672,1.5025814771652222,0.48893967270851135,1.5983341932296753,0.889080822467804,-0.11727280169725418,0.3648780584335327,0.19446143507957458,0.1141749769449234,0.7864330410957336,0.5434136986732483,2.016606330871582,1.2098145484924316,2.0453240871429443,-0.357577383518219,0.6257614493370056,-0.5536423325538635,0.2192937433719635,0.7153738737106323,1.9074879884719849,0.3847477436065674,1.5497641563415527,1.0361872911453247,0.3290218710899353,0.49779924750328064,-0.4291400909423828,1.8556517362594604,1.8177075386047363,0.8337626457214355,-3.683415174484253,2.236069679260254,0.24170449376106262,1.8388807773590088,-0.42122578620910645,-1.1293151378631592,0.47771504521369934,1.9808567762374878,0.6799260377883911,2.081054925918579,2.9947824478149414,-0.4978986978530884,0.5514847636222839,0.12777532637119293,0.2807530164718628,1.5686286687850952,0.2991577982902527,2.2729055881500244,2.161391019821167,-0.7198359370231628,1.3684624433517456,1.8660327196121216,2.027113437652588,1.9772955179214478,2.129824638366699,0.8011540174484253,0.06145616993308067,1.9499996900558472,0.2451898455619812,-0.7906618118286133,2.104478597640991,0.846787691116333,0.27766191959381104,2.6180880069732666,2.021883964538574,0.5996949672698975,2.0088236331939697,0.32191038131713867,0.851354718208313,2.0031120777130127,0.8325473070144653,1.539228916168213,1.5070140361785889,-4.530795574188232,2.5567708015441895,1.3900477886199951],\"yaxis\":\"y\",\"type\":\"scattergl\"},{\"hovertemplate\":\"\\u0412\\u0438\\u0434 \\u041d\\u041f\\u0410=\\u041f\\u0440\\u0438\\u043a\\u0430\\u0437, \\u0444\\u0435\\u0434\\u0435\\u0440\\u0430\\u043b\\u044c\\u043d\\u044b\\u0439 \\u0443\\u0440\\u043e\\u0432\\u0435\\u043d\\u044c, \\u043e\\u0440\\u0433\\u0430\\u043d\\u044b \\u0438\\u0441\\u043f\\u043e\\u043b\\u043d\\u0438\\u0442\\u0435\\u043b\\u044c\\u043d\\u043e\\u0439 \\u0432\\u043b\\u0430\\u0441\\u0442\\u0438\\u003cbr\\u003e0=%{x}\\u003cbr\\u003e1=%{y}\\u003cextra\\u003e\\u003c\\u002fextra\\u003e\",\"legendgroup\":\"\\u041f\\u0440\\u0438\\u043a\\u0430\\u0437, \\u0444\\u0435\\u0434\\u0435\\u0440\\u0430\\u043b\\u044c\\u043d\\u044b\\u0439 \\u0443\\u0440\\u043e\\u0432\\u0435\\u043d\\u044c, \\u043e\\u0440\\u0433\\u0430\\u043d\\u044b \\u0438\\u0441\\u043f\\u043e\\u043b\\u043d\\u0438\\u0442\\u0435\\u043b\\u044c\\u043d\\u043e\\u0439 \\u0432\\u043b\\u0430\\u0441\\u0442\\u0438\",\"marker\":{\"color\":\"#EF553B\",\"symbol\":\"circle\"},\"mode\":\"markers\",\"name\":\"\\u041f\\u0440\\u0438\\u043a\\u0430\\u0437, \\u0444\\u0435\\u0434\\u0435\\u0440\\u0430\\u043b\\u044c\\u043d\\u044b\\u0439 \\u0443\\u0440\\u043e\\u0432\\u0435\\u043d\\u044c, \\u043e\\u0440\\u0433\\u0430\\u043d\\u044b \\u0438\\u0441\\u043f\\u043e\\u043b\\u043d\\u0438\\u0442\\u0435\\u043b\\u044c\\u043d\\u043e\\u0439 \\u0432\\u043b\\u0430\\u0441\\u0442\\u0438\",\"showlegend\":true,\"x\":[-2.8417439460754395,-2.021232843399048,0.18343901634216309,-2.4702279567718506,-2.2878360748291016,-0.5592101812362671,-2.3903162479400635,-1.8142212629318237,-0.05707109346985817,-2.9263546466827393,-0.1214858889579773,-2.515566110610962,-2.865812301635742,-2.2228341102600098,-2.364701747894287,-2.387759208679199,0.05000091716647148,-0.07263435423374176,0.09850546717643738,-2.8922505378723145,0.11012819409370422,-2.6281583309173584,-1.666347861289978,-0.8671059012413025,0.5990078449249268,3.993147850036621,-0.4778400659561157,-0.10721631348133087,-2.9028661251068115,-2.4231491088867188,-0.8742340207099915,-2.466914653778076,-1.3377848863601685,-2.858149528503418,0.10686587542295456,-0.19187583029270172,-0.22331729531288147,0.12711256742477417,-0.20963452756404877,0.1668621003627777,-1.2854996919631958,-2.847240924835205,-2.862428903579712,-2.8518636226654053,0.6986091136932373,-1.5785337686538696,-2.0473129749298096,-1.653864860534668,-2.9602019786834717,-2.3400063514709473,5.293961524963379,-2.9181430339813232,-0.5360308885574341,-0.16365738213062286,0.0652327686548233,0.23847141861915588,-1.742954969406128,-2.246469020843506,0.09622341394424438,-0.8427065014839172,-0.7214394807815552,-0.37252116203308105,0.5405316948890686,0.13438676297664642,-0.19207046926021576,-1.6856741905212402,-2.209094524383545,-1.1797233819961548,-0.6767935156822205,-2.4803102016448975,-2.5947704315185547,-0.9947587847709656,0.11857471615076065,-2.22613263130188,0.3400822877883911,-1.9885059595108032,-0.7486847043037415,-0.08685474097728729,-2.6596014499664307,4.430224418640137,-0.7037762403488159,-2.068904161453247,-0.5640859007835388,-2.3947629928588867,-1.8607113361358643,-1.3229494094848633,-0.37180858850479126,-0.0412784218788147,-2.8645293712615967,-2.85244083404541,-2.8499886989593506,-2.465245246887207,0.23846445977687836,-2.085714817047119,-0.849048376083374,-2.004859447479248,-1.2299797534942627,-1.1294516324996948,-1.898240089416504,0.19725076854228973,-0.7848777770996094,-0.5609838366508484,0.43833887577056885,-0.9075294733047485,0.3171326220035553,-2.148650646209717,-0.8003037571907043,0.3931514322757721,-0.4551345705986023,-2.932715892791748,-2.333233118057251,0.5877934098243713,-2.3404951095581055,-1.327039122581482,-0.5987546443939209,-0.8232898116111755],\"xaxis\":\"x\",\"y\":[6.314207553863525,8.020779609680176,7.044506549835205,6.970837116241455,8.111328125,8.497876167297363,7.867276668548584,7.915457725524902,6.643064022064209,6.293280124664307,8.385523796081543,6.867717742919922,6.289437770843506,7.423096179962158,7.7155914306640625,7.121439456939697,6.949981689453125,6.9064106941223145,6.7557854652404785,6.250509262084961,6.708120346069336,7.973540306091309,7.25517463684082,8.487428665161133,7.59888219833374,0.37424835562705994,6.322758197784424,6.424075126647949,6.245730400085449,7.841668128967285,8.430384635925293,6.775792598724365,8.614173889160156,6.276429176330566,6.731554985046387,6.640523433685303,6.732732772827148,6.688907623291016,6.625567436218262,7.09983491897583,6.129658222198486,6.1964569091796875,6.29686975479126,6.253502368927002,7.414161682128906,7.411013603210449,7.733218669891357,7.246556282043457,6.299826622009277,7.092764854431152,-0.12689876556396484,6.258500099182129,8.336752891540527,6.672412872314453,6.740664958953857,6.9698872566223145,8.295184135437012,7.1729655265808105,7.268726825714111,8.204630851745605,8.66801643371582,8.141871452331543,7.538475036621094,6.89017391204834,6.682547569274902,7.392827987670898,7.435328006744385,8.27846622467041,8.398930549621582,6.826025009155273,6.4641432762146,6.2230963706970215,6.897735595703125,7.890686511993408,7.154862403869629,7.077481269836426,8.849946975708008,6.413712501525879,6.732237815856934,-0.09180392324924469,8.354159355163574,7.435871601104736,8.259710311889648,7.0014262199401855,8.57151985168457,7.6593427658081055,8.691824913024902,6.539247512817383,6.28557014465332,6.283076286315918,6.301558017730713,7.820737838745117,7.144079208374023,7.293635845184326,8.33223819732666,7.031128883361816,7.565000057220459,8.423820495605469,7.743895530700684,8.177047729492188,8.56372356414795,8.375456809997559,7.438019275665283,8.226690292358398,7.271640777587891,8.171368598937988,8.435142517089844,7.092710971832275,8.366947174072266,6.228053092956543,7.100752830505371,7.361703872680664,7.496438503265381,8.560257911682129,8.362497329711914,8.464570045471191],\"yaxis\":\"y\",\"type\":\"scattergl\"},{\"hovertemplate\":\"\\u0412\\u0438\\u0434 \\u041d\\u041f\\u0410=\\u0420\\u0430\\u0441\\u043f\\u043e\\u0440\\u044f\\u0436\\u0435\\u043d\\u0438\\u0435, \\u0440\\u0435\\u0433\\u0438\\u043e\\u043d\\u0430\\u043b\\u044c\\u043d\\u044b\\u0439 \\u0443\\u0440\\u043e\\u0432\\u0435\\u043d\\u044c, \\u0433\\u043b\\u0430\\u0432\\u0430 \\u0438\\u0441\\u043f\\u043e\\u043b\\u043d\\u0438\\u0442\\u0435\\u043b\\u044c\\u043d\\u043e\\u0439 \\u0432\\u043b\\u0430\\u0441\\u0442\\u0438\\u003cbr\\u003e0=%{x}\\u003cbr\\u003e1=%{y}\\u003cextra\\u003e\\u003c\\u002fextra\\u003e\",\"legendgroup\":\"\\u0420\\u0430\\u0441\\u043f\\u043e\\u0440\\u044f\\u0436\\u0435\\u043d\\u0438\\u0435, \\u0440\\u0435\\u0433\\u0438\\u043e\\u043d\\u0430\\u043b\\u044c\\u043d\\u044b\\u0439 \\u0443\\u0440\\u043e\\u0432\\u0435\\u043d\\u044c, \\u0433\\u043b\\u0430\\u0432\\u0430 \\u0438\\u0441\\u043f\\u043e\\u043b\\u043d\\u0438\\u0442\\u0435\\u043b\\u044c\\u043d\\u043e\\u0439 \\u0432\\u043b\\u0430\\u0441\\u0442\\u0438\",\"marker\":{\"color\":\"#00cc96\",\"symbol\":\"circle\"},\"mode\":\"markers\",\"name\":\"\\u0420\\u0430\\u0441\\u043f\\u043e\\u0440\\u044f\\u0436\\u0435\\u043d\\u0438\\u0435, \\u0440\\u0435\\u0433\\u0438\\u043e\\u043d\\u0430\\u043b\\u044c\\u043d\\u044b\\u0439 \\u0443\\u0440\\u043e\\u0432\\u0435\\u043d\\u044c, \\u0433\\u043b\\u0430\\u0432\\u0430 \\u0438\\u0441\\u043f\\u043e\\u043b\\u043d\\u0438\\u0442\\u0435\\u043b\\u044c\\u043d\\u043e\\u0439 \\u0432\\u043b\\u0430\\u0441\\u0442\\u0438\",\"showlegend\":true,\"x\":[4.465146541595459,1.8911185264587402,3.4101099967956543,3.306462049484253,6.108677387237549,3.9403867721557617,3.3830320835113525,4.1289472579956055,3.9519920349121094,2.314190149307251,3.409935235977173,4.280099868774414,4.666183948516846,3.95017147064209,6.014158725738525,5.216487407684326,3.9451658725738525,4.014688014984131,3.9326012134552,1.3923591375350952,0.9688286185264587,4.34218692779541,4.629748821258545,4.283448696136475,-2.7809579372406006,3.455650568008423,1.6562700271606445,4.288136005401611,3.4867103099823,3.358489513397217,3.912867307662964,3.0371313095092773,4.629323959350586,4.742523670196533,4.24860143661499,3.1842117309570312,4.243091583251953,3.978972911834717,4.355851173400879,4.663112163543701,4.378556251525879,1.0680477619171143,6.018510341644287,3.973768949508667,3.8268442153930664,4.489932537078857,3.7903263568878174,6.36488151550293,6.015922546386719,3.873297929763794,2.156010389328003,3.3949267864227295,3.872110366821289,4.608273029327393,4.248640537261963,0.9259272813796997,4.331975936889648,3.9391884803771973,1.5703366994857788,5.9522624015808105,4.428996562957764,4.373317241668701,6.035526752471924,4.235163688659668,4.227243423461914,3.814743995666504,4.168112754821777,1.729508876800537,4.224038600921631,5.008607864379883,6.126314640045166,4.379246711730957,4.200898170471191,4.581154823303223,3.4702343940734863,4.114065647125244,3.813723564147949,3.8983263969421387,4.807588577270508,2.708437204360962,4.267696380615234,1.4610178470611572,5.449345588684082,3.9247114658355713,1.656753659248352,4.329724311828613,1.86415696144104,3.902798891067505,3.972567558288574,6.103115081787109,4.129458427429199,3.441740036010742,2.028512954711914,3.0243079662323,3.169567346572876,3.9936742782592773,3.9284043312072754,4.773649215698242,5.2219743728637695,2.185354471206665,5.0037031173706055,4.118698596954346,3.8057663440704346,4.207939147949219,3.9001152515411377,4.1098127365112305,3.6917593479156494,3.2092740535736084,1.5928555727005005,3.9205455780029297,3.2521064281463623,3.977158784866333,1.5754547119140625,3.909938097000122,4.35341739654541,3.410825252532959],\"xaxis\":\"x\",\"y\":[4.741003513336182,4.049107551574707,7.124955177307129,7.212793827056885,3.850856304168701,5.235300064086914,7.149106025695801,4.183964252471924,4.054925441741943,4.1981730461120605,7.140495777130127,4.316209316253662,4.668765068054199,6.023554801940918,3.903792142868042,3.344231128692627,6.033674716949463,6.232513904571533,3.8258683681488037,3.914278268814087,3.820425033569336,4.567697048187256,3.2908387184143066,3.533722162246704,1.2011243104934692,7.133035659790039,3.9435529708862305,3.5766940116882324,7.112508773803711,7.235452175140381,3.6734423637390137,7.282487392425537,3.7723963260650635,3.8453335762023926,4.356973648071289,7.240474224090576,3.515303134918213,6.096342086791992,3.9073336124420166,4.303143501281738,4.306339263916016,3.833247661590576,3.9118525981903076,3.805614709854126,3.7193660736083984,4.618622303009033,7.172868728637695,6.827730178833008,3.929654121398926,3.8391380310058594,4.126662731170654,7.12733793258667,3.7586443424224854,7.057126998901367,3.530059814453125,3.7892794609069824,4.439815521240234,3.646284818649292,3.9356629848480225,3.9700653553009033,4.74533748626709,4.026699066162109,3.9152610301971436,3.5512664318084717,3.475839614868164,6.529430866241455,4.199159145355225,4.120988368988037,6.214684009552002,3.350338935852051,3.8421318531036377,4.306979656219482,4.225459098815918,4.676839828491211,7.179392337799072,5.154322624206543,6.523026466369629,4.544454574584961,4.006475925445557,4.397719383239746,4.206166744232178,3.814105272293091,7.237288951873779,3.7098398208618164,3.9788148403167725,4.416008949279785,4.011172771453857,4.110894680023193,4.127476215362549,3.863009452819824,3.974745988845825,7.115336894989014,4.093907356262207,7.274392604827881,7.242272853851318,7.231393814086914,6.049872398376465,3.8814918994903564,6.951167583465576,4.181755542755127,3.2885937690734863,5.344272613525391,6.518455982208252,3.4797756671905518,3.221809148788452,4.006838798522949,4.322858810424805,7.232698917388916,3.9235641956329346,3.7466652393341064,7.223064422607422,3.7308764457702637,3.9689905643463135,3.6873362064361572,3.7262957096099854,7.123344421386719],\"yaxis\":\"y\",\"type\":\"scattergl\"},{\"hovertemplate\":\"\\u0412\\u0438\\u0434 \\u041d\\u041f\\u0410=\\u0417\\u0430\\u043a\\u043e\\u043d, \\u0444\\u0435\\u0434\\u0435\\u0440\\u0430\\u043b\\u044c\\u043d\\u044b\\u0439 \\u0443\\u0440\\u043e\\u0432\\u0435\\u043d\\u044c, \\u0437\\u0430\\u043a\\u043e\\u043d\\u043e\\u0434\\u0430\\u0442\\u0435\\u043b\\u044c\\u043d\\u044b\\u0439 \\u043e\\u0440\\u0433\\u0430\\u043d\\u003cbr\\u003e0=%{x}\\u003cbr\\u003e1=%{y}\\u003cextra\\u003e\\u003c\\u002fextra\\u003e\",\"legendgroup\":\"\\u0417\\u0430\\u043a\\u043e\\u043d, \\u0444\\u0435\\u0434\\u0435\\u0440\\u0430\\u043b\\u044c\\u043d\\u044b\\u0439 \\u0443\\u0440\\u043e\\u0432\\u0435\\u043d\\u044c, \\u0437\\u0430\\u043a\\u043e\\u043d\\u043e\\u0434\\u0430\\u0442\\u0435\\u043b\\u044c\\u043d\\u044b\\u0439 \\u043e\\u0440\\u0433\\u0430\\u043d\",\"marker\":{\"color\":\"#ab63fa\",\"symbol\":\"circle\"},\"mode\":\"markers\",\"name\":\"\\u0417\\u0430\\u043a\\u043e\\u043d, \\u0444\\u0435\\u0434\\u0435\\u0440\\u0430\\u043b\\u044c\\u043d\\u044b\\u0439 \\u0443\\u0440\\u043e\\u0432\\u0435\\u043d\\u044c, \\u0437\\u0430\\u043a\\u043e\\u043d\\u043e\\u0434\\u0430\\u0442\\u0435\\u043b\\u044c\\u043d\\u044b\\u0439 \\u043e\\u0440\\u0433\\u0430\\u043d\",\"showlegend\":true,\"x\":[3.3808791637420654,5.66367769241333,4.380429267883301,3.24593448638916,6.8035173416137695,6.558130264282227,2.5486247539520264,3.3664350509643555,6.655773162841797,3.3076224327087402,4.455285549163818,6.970088005065918,2.094541549682617,2.982128143310547,6.672698020935059,3.3771352767944336,3.8608551025390625,7.732288360595703,4.0785722732543945,6.5531463623046875,2.237919330596924,6.682213306427002,6.38427209854126,3.7455105781555176,2.993699789047241,6.324167251586914,7.730329513549805,6.276750087738037,7.746323585510254,2.5133776664733887,3.0645556449890137,4.120538711547852,6.556354522705078,6.448263645172119,7.270455837249756,3.6595723628997803,6.330327033996582,2.006223678588867,7.743159770965576,3.314965009689331,7.776202201843262,3.9219038486480713,4.073146820068359,6.109567165374756,3.970371961593628,2.083709955215454,2.9605774879455566,3.916353702545166,6.480943202972412,2.898800849914551,6.307106018066406,4.3480377197265625,2.405362844467163,3.5545260906219482,6.190378665924072,7.7563581466674805,3.1989858150482178,6.596133232116699,2.146158218383789,3.0333728790283203,2.8748250007629395,2.53139328956604,6.558629035949707,5.634312152862549,2.2982566356658936,3.4244048595428467,2.145106554031372,6.906513214111328,2.2733969688415527,7.0775580406188965,3.2727816104888916,3.3751919269561768,6.648843765258789,5.8665771484375,6.143606185913086,6.524839401245117,3.1916098594665527,3.0995235443115234,6.561666488647461,7.807679653167725,6.571179389953613,7.727204322814941,6.4572577476501465,3.420073986053467,4.817889213562012,6.169698715209961,3.424438953399658,3.410738945007324,3.3375890254974365,3.38614559173584,3.719318151473999,3.3692760467529297,6.721434116363525,6.537710189819336,6.862962245941162,7.17371129989624,6.450032711029053,6.208480358123779,3.3272154331207275,6.396706581115723,6.767056941986084,3.4459290504455566,3.8208463191986084,6.1847710609436035,3.8072376251220703,3.5670948028564453,6.549652099609375,3.4365758895874023,2.933457851409912,6.4033613204956055,2.046642780303955,3.3281257152557373,3.663276195526123,2.6009459495544434,5.446139812469482],\"xaxis\":\"x\",\"y\":[-9.073014259338379,-9.267446517944336,-9.64332389831543,-9.751392364501953,-9.001358985900879,-8.353984832763672,-10.868535041809082,-9.569990158081055,-9.036436080932617,-9.4559965133667,-9.852900505065918,-8.965009689331055,-9.556809425354004,-11.019685745239258,-9.046700477600098,-9.533623695373535,-9.58979606628418,-9.588991165161133,-9.671463966369629,-9.027210235595703,-9.571829795837402,-9.000753402709961,-9.07815170288086,-9.641475677490234,-11.008587837219238,-9.09145450592041,-9.567107200622559,-9.038544654846191,-9.586719512939453,-10.84604549407959,-11.079440116882324,-9.689754486083984,-9.054683685302734,-9.066987037658691,-8.80109691619873,-9.119022369384766,-9.071931838989258,-9.475736618041992,-9.556757926940918,-9.597488403320312,-9.627264022827148,-9.636249542236328,-9.701153755187988,-9.15823745727539,-9.530832290649414,-9.515215873718262,-11.004484176635742,-9.414432525634766,-9.062760353088379,-10.990209579467773,-9.092191696166992,-8.994279861450195,-9.509110450744629,-9.51760482788086,-9.112445831298828,-9.62829303741455,-9.610641479492188,-9.047346115112305,-9.535407066345215,-11.035805702209473,-10.986554145812988,-10.87187671661377,-9.035083770751953,-9.334688186645508,-9.546502113342285,-9.65998649597168,-9.540373802185059,-9.018328666687012,-9.53744125366211,-8.977272987365723,-9.757768630981445,-9.76162052154541,-9.025291442871094,-9.223462104797363,-9.130473136901855,-9.06631851196289,-11.139917373657227,-11.075751304626465,-9.02674388885498,-9.650155067443848,-8.942140579223633,-9.593827247619629,-9.044344902038574,-9.5845308303833,-9.170981407165527,-9.125243186950684,-9.66600227355957,-9.434344291687012,-9.369065284729004,-9.214178085327148,-9.527070999145508,-9.670438766479492,-9.028082847595215,-9.041971206665039,-9.013684272766113,-8.941765785217285,-9.062479972839355,-9.102433204650879,-9.633796691894531,-9.070853233337402,-9.035754203796387,-9.661338806152344,-9.775735855102539,-9.111977577209473,-9.751203536987305,-9.708100318908691,-9.054116249084473,-9.626080513000488,-10.981643676757812,-9.074579238891602,-9.466719627380371,-9.495057106018066,-9.736374855041504,-10.932861328125,-8.55899429321289],\"yaxis\":\"y\",\"type\":\"scattergl\"},{\"hovertemplate\":\"\\u0412\\u0438\\u0434 \\u041d\\u041f\\u0410=\\u041f\\u043e\\u0441\\u0442\\u0430\\u043d\\u043e\\u0432\\u043b\\u0435\\u043d\\u0438\\u0435, \\u0440\\u0435\\u0433\\u0438\\u043e\\u043d\\u0430\\u043b\\u044c\\u043d\\u044b\\u0439 \\u0443\\u0440\\u043e\\u0432\\u0435\\u043d\\u044c, \\u043f\\u0440\\u0430\\u0432\\u0438\\u0442\\u0435\\u043b\\u044c\\u0441\\u0442\\u0432\\u043e\\u003cbr\\u003e0=%{x}\\u003cbr\\u003e1=%{y}\\u003cextra\\u003e\\u003c\\u002fextra\\u003e\",\"legendgroup\":\"\\u041f\\u043e\\u0441\\u0442\\u0430\\u043d\\u043e\\u0432\\u043b\\u0435\\u043d\\u0438\\u0435, \\u0440\\u0435\\u0433\\u0438\\u043e\\u043d\\u0430\\u043b\\u044c\\u043d\\u044b\\u0439 \\u0443\\u0440\\u043e\\u0432\\u0435\\u043d\\u044c, \\u043f\\u0440\\u0430\\u0432\\u0438\\u0442\\u0435\\u043b\\u044c\\u0441\\u0442\\u0432\\u043e\",\"marker\":{\"color\":\"#FFA15A\",\"symbol\":\"circle\"},\"mode\":\"markers\",\"name\":\"\\u041f\\u043e\\u0441\\u0442\\u0430\\u043d\\u043e\\u0432\\u043b\\u0435\\u043d\\u0438\\u0435, \\u0440\\u0435\\u0433\\u0438\\u043e\\u043d\\u0430\\u043b\\u044c\\u043d\\u044b\\u0439 \\u0443\\u0440\\u043e\\u0432\\u0435\\u043d\\u044c, \\u043f\\u0440\\u0430\\u0432\\u0438\\u0442\\u0435\\u043b\\u044c\\u0441\\u0442\\u0432\\u043e\",\"showlegend\":true,\"x\":[-1.6379631757736206,-4.877748966217041,-6.775797367095947,-5.9010114669799805,-6.523176193237305,-1.9700387716293335,-3.1997692584991455,-6.639568328857422,-6.403367042541504,-6.588131904602051,-6.529755115509033,-5.756327152252197,-2.7288265228271484,-6.738857269287109,-3.568575859069824,-6.177307605743408,-3.5998923778533936,-4.368659496307373,-3.350527763366699,-6.057241439819336,-5.602878570556641,-3.49825382232666,-5.345462799072266,-6.025111675262451,-2.0158092975616455,-6.48524284362793,-5.9672369956970215,-3.270200490951538,-6.092056751251221,-5.267661094665527,-3.6312599182128906,-4.820569038391113,-6.533124923706055,-5.867025375366211,-5.069332122802734,-6.685351848602295,-6.144105911254883,-4.431243419647217,-6.126239776611328,-6.877535820007324,-3.0579910278320312,-5.106457710266113,-6.5506591796875,-6.659799098968506,-2.783644199371338,-5.59490442276001,-6.7328410148620605,-5.923925876617432,-4.7704267501831055,-5.87442684173584,-5.908982276916504,-5.961009502410889,-6.7749762535095215,-3.6062512397766113,-3.992051839828491,-5.374284267425537,-6.834719181060791,-6.457898139953613,-3.3396663665771484,-6.9726881980896,-6.548689365386963,-3.109950542449951,-7.666424751281738,-2.5761802196502686,-6.592902183532715,-6.750929355621338,-3.313746452331543,-4.1869730949401855,-5.127504825592041,-6.515994071960449,-6.522357940673828,-2.686570167541504,-2.954688787460327,-5.052876949310303,-6.539050579071045,-2.3676085472106934,-6.012706756591797,-3.840308904647827,-5.786556243896484,-6.463616371154785,-6.588662624359131,-6.7837677001953125,-3.1472930908203125,-6.54633092880249,-1.4776663780212402,-5.979646682739258,-3.261298179626465,-6.556796073913574,-5.151638984680176,-3.7362008094787598,-2.5968081951141357,-4.072757244110107,-4.833159923553467,-6.231773853302002,-2.4308884143829346,-2.9556829929351807,-6.1142425537109375,-6.766648769378662],\"xaxis\":\"x\",\"y\":[-2.5452492237091064,-3.6398396492004395,-2.0390560626983643,-2.404378890991211,-2.5753448009490967,-2.820891857147217,-3.098123550415039,-2.351583480834961,-2.8474173545837402,-2.552213430404663,-2.409919500350952,-3.6304659843444824,-2.906170606613159,-2.0708460807800293,-3.2906038761138916,-4.058876991271973,-3.4425573348999023,-2.953587055206299,-2.9516665935516357,-3.929046392440796,-3.0250110626220703,-3.3593947887420654,-3.8377959728240967,-3.529470205307007,-0.9964109659194946,-2.6355388164520264,-3.808537006378174,-3.120612621307373,-4.031559467315674,-3.6511502265930176,-3.4382545948028564,-3.6242549419403076,-2.484663963317871,-3.4523191452026367,-3.6901609897613525,-2.1704843044281006,-3.9669854640960693,-2.9176690578460693,-3.694124937057495,-2.05086612701416,-2.8825974464416504,-3.665445327758789,-2.4882242679595947,-2.1433005332946777,-2.071613311767578,-3.7348883152008057,-2.0531888008117676,-3.4130353927612305,-2.9786064624786377,-3.54341197013855,-3.4281675815582275,-3.5578556060791016,-2.102121591567993,-3.2124645709991455,-2.8547356128692627,-3.8010575771331787,-2.0566561222076416,-2.8729920387268066,-3.0714175701141357,-2.007577896118164,-2.522617816925049,-2.927832841873169,-2.0062508583068848,-2.727227210998535,-2.7522172927856445,-2.157693386077881,-3.124154806137085,-3.7847790718078613,-3.2936851978302,-2.4953665733337402,-2.3687570095062256,-2.811943769454956,-2.4799773693084717,-3.1046719551086426,-2.3224265575408936,-2.796152114868164,-3.4493658542633057,-3.549467086791992,-3.1554951667785645,-2.377000570297241,-1.7918680906295776,-2.037318706512451,-2.6285717487335205,-2.5548715591430664,-2.509765625,-3.718108892440796,-3.279146194458008,-2.436868190765381,-3.4853155612945557,-3.5173964500427246,-3.2187490463256836,-2.871356248855591,-2.9682095050811768,-3.85203218460083,-3.5164706707000732,-2.2334539890289307,-3.623565673828125,-2.138054370880127],\"yaxis\":\"y\",\"type\":\"scattergl\"}],                        {\"template\":{\"data\":{\"histogram2dcontour\":[{\"type\":\"histogram2dcontour\",\"colorbar\":{\"outlinewidth\":0,\"ticks\":\"\"},\"colorscale\":[[0.0,\"#0d0887\"],[0.1111111111111111,\"#46039f\"],[0.2222222222222222,\"#7201a8\"],[0.3333333333333333,\"#9c179e\"],[0.4444444444444444,\"#bd3786\"],[0.5555555555555556,\"#d8576b\"],[0.6666666666666666,\"#ed7953\"],[0.7777777777777778,\"#fb9f3a\"],[0.8888888888888888,\"#fdca26\"],[1.0,\"#f0f921\"]]}],\"choropleth\":[{\"type\":\"choropleth\",\"colorbar\":{\"outlinewidth\":0,\"ticks\":\"\"}}],\"histogram2d\":[{\"type\":\"histogram2d\",\"colorbar\":{\"outlinewidth\":0,\"ticks\":\"\"},\"colorscale\":[[0.0,\"#0d0887\"],[0.1111111111111111,\"#46039f\"],[0.2222222222222222,\"#7201a8\"],[0.3333333333333333,\"#9c179e\"],[0.4444444444444444,\"#bd3786\"],[0.5555555555555556,\"#d8576b\"],[0.6666666666666666,\"#ed7953\"],[0.7777777777777778,\"#fb9f3a\"],[0.8888888888888888,\"#fdca26\"],[1.0,\"#f0f921\"]]}],\"heatmap\":[{\"type\":\"heatmap\",\"colorbar\":{\"outlinewidth\":0,\"ticks\":\"\"},\"colorscale\":[[0.0,\"#0d0887\"],[0.1111111111111111,\"#46039f\"],[0.2222222222222222,\"#7201a8\"],[0.3333333333333333,\"#9c179e\"],[0.4444444444444444,\"#bd3786\"],[0.5555555555555556,\"#d8576b\"],[0.6666666666666666,\"#ed7953\"],[0.7777777777777778,\"#fb9f3a\"],[0.8888888888888888,\"#fdca26\"],[1.0,\"#f0f921\"]]}],\"heatmapgl\":[{\"type\":\"heatmapgl\",\"colorbar\":{\"outlinewidth\":0,\"ticks\":\"\"},\"colorscale\":[[0.0,\"#0d0887\"],[0.1111111111111111,\"#46039f\"],[0.2222222222222222,\"#7201a8\"],[0.3333333333333333,\"#9c179e\"],[0.4444444444444444,\"#bd3786\"],[0.5555555555555556,\"#d8576b\"],[0.6666666666666666,\"#ed7953\"],[0.7777777777777778,\"#fb9f3a\"],[0.8888888888888888,\"#fdca26\"],[1.0,\"#f0f921\"]]}],\"contourcarpet\":[{\"type\":\"contourcarpet\",\"colorbar\":{\"outlinewidth\":0,\"ticks\":\"\"}}],\"contour\":[{\"type\":\"contour\",\"colorbar\":{\"outlinewidth\":0,\"ticks\":\"\"},\"colorscale\":[[0.0,\"#0d0887\"],[0.1111111111111111,\"#46039f\"],[0.2222222222222222,\"#7201a8\"],[0.3333333333333333,\"#9c179e\"],[0.4444444444444444,\"#bd3786\"],[0.5555555555555556,\"#d8576b\"],[0.6666666666666666,\"#ed7953\"],[0.7777777777777778,\"#fb9f3a\"],[0.8888888888888888,\"#fdca26\"],[1.0,\"#f0f921\"]]}],\"surface\":[{\"type\":\"surface\",\"colorbar\":{\"outlinewidth\":0,\"ticks\":\"\"},\"colorscale\":[[0.0,\"#0d0887\"],[0.1111111111111111,\"#46039f\"],[0.2222222222222222,\"#7201a8\"],[0.3333333333333333,\"#9c179e\"],[0.4444444444444444,\"#bd3786\"],[0.5555555555555556,\"#d8576b\"],[0.6666666666666666,\"#ed7953\"],[0.7777777777777778,\"#fb9f3a\"],[0.8888888888888888,\"#fdca26\"],[1.0,\"#f0f921\"]]}],\"mesh3d\":[{\"type\":\"mesh3d\",\"colorbar\":{\"outlinewidth\":0,\"ticks\":\"\"}}],\"scatter\":[{\"fillpattern\":{\"fillmode\":\"overlay\",\"size\":10,\"solidity\":0.2},\"type\":\"scatter\"}],\"parcoords\":[{\"type\":\"parcoords\",\"line\":{\"colorbar\":{\"outlinewidth\":0,\"ticks\":\"\"}}}],\"scatterpolargl\":[{\"type\":\"scatterpolargl\",\"marker\":{\"colorbar\":{\"outlinewidth\":0,\"ticks\":\"\"}}}],\"bar\":[{\"error_x\":{\"color\":\"#2a3f5f\"},\"error_y\":{\"color\":\"#2a3f5f\"},\"marker\":{\"line\":{\"color\":\"#E5ECF6\",\"width\":0.5},\"pattern\":{\"fillmode\":\"overlay\",\"size\":10,\"solidity\":0.2}},\"type\":\"bar\"}],\"scattergeo\":[{\"type\":\"scattergeo\",\"marker\":{\"colorbar\":{\"outlinewidth\":0,\"ticks\":\"\"}}}],\"scatterpolar\":[{\"type\":\"scatterpolar\",\"marker\":{\"colorbar\":{\"outlinewidth\":0,\"ticks\":\"\"}}}],\"histogram\":[{\"marker\":{\"pattern\":{\"fillmode\":\"overlay\",\"size\":10,\"solidity\":0.2}},\"type\":\"histogram\"}],\"scattergl\":[{\"type\":\"scattergl\",\"marker\":{\"colorbar\":{\"outlinewidth\":0,\"ticks\":\"\"}}}],\"scatter3d\":[{\"type\":\"scatter3d\",\"line\":{\"colorbar\":{\"outlinewidth\":0,\"ticks\":\"\"}},\"marker\":{\"colorbar\":{\"outlinewidth\":0,\"ticks\":\"\"}}}],\"scattermapbox\":[{\"type\":\"scattermapbox\",\"marker\":{\"colorbar\":{\"outlinewidth\":0,\"ticks\":\"\"}}}],\"scatterternary\":[{\"type\":\"scatterternary\",\"marker\":{\"colorbar\":{\"outlinewidth\":0,\"ticks\":\"\"}}}],\"scattercarpet\":[{\"type\":\"scattercarpet\",\"marker\":{\"colorbar\":{\"outlinewidth\":0,\"ticks\":\"\"}}}],\"carpet\":[{\"aaxis\":{\"endlinecolor\":\"#2a3f5f\",\"gridcolor\":\"white\",\"linecolor\":\"white\",\"minorgridcolor\":\"white\",\"startlinecolor\":\"#2a3f5f\"},\"baxis\":{\"endlinecolor\":\"#2a3f5f\",\"gridcolor\":\"white\",\"linecolor\":\"white\",\"minorgridcolor\":\"white\",\"startlinecolor\":\"#2a3f5f\"},\"type\":\"carpet\"}],\"table\":[{\"cells\":{\"fill\":{\"color\":\"#EBF0F8\"},\"line\":{\"color\":\"white\"}},\"header\":{\"fill\":{\"color\":\"#C8D4E3\"},\"line\":{\"color\":\"white\"}},\"type\":\"table\"}],\"barpolar\":[{\"marker\":{\"line\":{\"color\":\"#E5ECF6\",\"width\":0.5},\"pattern\":{\"fillmode\":\"overlay\",\"size\":10,\"solidity\":0.2}},\"type\":\"barpolar\"}],\"pie\":[{\"automargin\":true,\"type\":\"pie\"}]},\"layout\":{\"autotypenumbers\":\"strict\",\"colorway\":[\"#636efa\",\"#EF553B\",\"#00cc96\",\"#ab63fa\",\"#FFA15A\",\"#19d3f3\",\"#FF6692\",\"#B6E880\",\"#FF97FF\",\"#FECB52\"],\"font\":{\"color\":\"#2a3f5f\"},\"hovermode\":\"closest\",\"hoverlabel\":{\"align\":\"left\"},\"paper_bgcolor\":\"white\",\"plot_bgcolor\":\"#E5ECF6\",\"polar\":{\"bgcolor\":\"#E5ECF6\",\"angularaxis\":{\"gridcolor\":\"white\",\"linecolor\":\"white\",\"ticks\":\"\"},\"radialaxis\":{\"gridcolor\":\"white\",\"linecolor\":\"white\",\"ticks\":\"\"}},\"ternary\":{\"bgcolor\":\"#E5ECF6\",\"aaxis\":{\"gridcolor\":\"white\",\"linecolor\":\"white\",\"ticks\":\"\"},\"baxis\":{\"gridcolor\":\"white\",\"linecolor\":\"white\",\"ticks\":\"\"},\"caxis\":{\"gridcolor\":\"white\",\"linecolor\":\"white\",\"ticks\":\"\"}},\"coloraxis\":{\"colorbar\":{\"outlinewidth\":0,\"ticks\":\"\"}},\"colorscale\":{\"sequential\":[[0.0,\"#0d0887\"],[0.1111111111111111,\"#46039f\"],[0.2222222222222222,\"#7201a8\"],[0.3333333333333333,\"#9c179e\"],[0.4444444444444444,\"#bd3786\"],[0.5555555555555556,\"#d8576b\"],[0.6666666666666666,\"#ed7953\"],[0.7777777777777778,\"#fb9f3a\"],[0.8888888888888888,\"#fdca26\"],[1.0,\"#f0f921\"]],\"sequentialminus\":[[0.0,\"#0d0887\"],[0.1111111111111111,\"#46039f\"],[0.2222222222222222,\"#7201a8\"],[0.3333333333333333,\"#9c179e\"],[0.4444444444444444,\"#bd3786\"],[0.5555555555555556,\"#d8576b\"],[0.6666666666666666,\"#ed7953\"],[0.7777777777777778,\"#fb9f3a\"],[0.8888888888888888,\"#fdca26\"],[1.0,\"#f0f921\"]],\"diverging\":[[0,\"#8e0152\"],[0.1,\"#c51b7d\"],[0.2,\"#de77ae\"],[0.3,\"#f1b6da\"],[0.4,\"#fde0ef\"],[0.5,\"#f7f7f7\"],[0.6,\"#e6f5d0\"],[0.7,\"#b8e186\"],[0.8,\"#7fbc41\"],[0.9,\"#4d9221\"],[1,\"#276419\"]]},\"xaxis\":{\"gridcolor\":\"white\",\"linecolor\":\"white\",\"ticks\":\"\",\"title\":{\"standoff\":15},\"zerolinecolor\":\"white\",\"automargin\":true,\"zerolinewidth\":2},\"yaxis\":{\"gridcolor\":\"white\",\"linecolor\":\"white\",\"ticks\":\"\",\"title\":{\"standoff\":15},\"zerolinecolor\":\"white\",\"automargin\":true,\"zerolinewidth\":2},\"scene\":{\"xaxis\":{\"backgroundcolor\":\"#E5ECF6\",\"gridcolor\":\"white\",\"linecolor\":\"white\",\"showbackground\":true,\"ticks\":\"\",\"zerolinecolor\":\"white\",\"gridwidth\":2},\"yaxis\":{\"backgroundcolor\":\"#E5ECF6\",\"gridcolor\":\"white\",\"linecolor\":\"white\",\"showbackground\":true,\"ticks\":\"\",\"zerolinecolor\":\"white\",\"gridwidth\":2},\"zaxis\":{\"backgroundcolor\":\"#E5ECF6\",\"gridcolor\":\"white\",\"linecolor\":\"white\",\"showbackground\":true,\"ticks\":\"\",\"zerolinecolor\":\"white\",\"gridwidth\":2}},\"shapedefaults\":{\"line\":{\"color\":\"#2a3f5f\"}},\"annotationdefaults\":{\"arrowcolor\":\"#2a3f5f\",\"arrowhead\":0,\"arrowwidth\":1},\"geo\":{\"bgcolor\":\"white\",\"landcolor\":\"#E5ECF6\",\"subunitcolor\":\"white\",\"showland\":true,\"showlakes\":true,\"lakecolor\":\"white\"},\"title\":{\"x\":0.05},\"mapbox\":{\"style\":\"light\"}}},\"xaxis\":{\"anchor\":\"y\",\"domain\":[0.0,1.0],\"title\":{\"text\":\"0\"}},\"yaxis\":{\"anchor\":\"x\",\"domain\":[0.0,1.0],\"title\":{\"text\":\"1\"}},\"legend\":{\"title\":{\"text\":\"\\u0412\\u0438\\u0434 \\u041d\\u041f\\u0410\"},\"tracegroupgap\":0},\"margin\":{\"t\":60}},                        {\"responsive\": true}                    ).then(function(){\n",
              "                            \n",
              "var gd = document.getElementById('351bbb9f-7ac8-458c-8b20-24344c48bf85');\n",
              "var x = new MutationObserver(function (mutations, observer) {{\n",
              "        var display = window.getComputedStyle(gd).display;\n",
              "        if (!display || display === 'none') {{\n",
              "            console.log([gd, 'removed!']);\n",
              "            Plotly.purge(gd);\n",
              "            observer.disconnect();\n",
              "        }}\n",
              "}});\n",
              "\n",
              "// Listen for the removal of the full notebook cells\n",
              "var notebookContainer = gd.closest('#notebook-container');\n",
              "if (notebookContainer) {{\n",
              "    x.observe(notebookContainer, {childList: true});\n",
              "}}\n",
              "\n",
              "// Listen for the clearing of the current output cell\n",
              "var outputEl = gd.closest('.output');\n",
              "if (outputEl) {{\n",
              "    x.observe(outputEl, {childList: true});\n",
              "}}\n",
              "\n",
              "                        })                };                            </script>        </div>\n",
              "</body>\n",
              "</html>"
            ]
          },
          "metadata": {}
        }
      ]
    },
    {
      "cell_type": "code",
      "source": [
        "data_train, data_valid = train_test_split(df, test_size=0.2, random_state=42)\n",
        "#data_train, data_test = train_test_split(data_train, test_size=0.2, random_state=42)"
      ],
      "metadata": {
        "id": "GRZihfu_98HO"
      },
      "execution_count": null,
      "outputs": []
    },
    {
      "cell_type": "code",
      "source": [],
      "metadata": {
        "id": "AmxA2OVL8cp1"
      },
      "execution_count": null,
      "outputs": []
    },
    {
      "cell_type": "code",
      "source": [
        "token_counts = Counter()\n",
        "for row in data_train['text_difficult'].values.flatten():\n",
        "    token_counts.update(row.split(\" \"))\n",
        "min_count = 5\n",
        "\n",
        "# tokens from token_counts keys that had at least min_count occurrences throughout the dataset\n",
        "tokens = [token for token, count in token_counts.items() if count >= min_count]\n",
        "UNK, PAD = \"UNK\", \"PAD\"\n",
        "tokens = [UNK, PAD] + sorted(tokens)\n",
        "print(\"Vocabulary size:\", len(tokens))\n",
        "token_to_id = {token: idx for idx, token in enumerate(tokens)}"
      ],
      "metadata": {
        "colab": {
          "base_uri": "https://localhost:8080/"
        },
        "id": "ZVau471W8cuz",
        "outputId": "e6349d78-a15f-471f-a4ee-11a42ae5bee8"
      },
      "execution_count": null,
      "outputs": [
        {
          "output_type": "stream",
          "name": "stdout",
          "text": [
            "Vocabulary size: 9192\n"
          ]
        }
      ]
    },
    {
      "cell_type": "code",
      "source": [
        "def make_batch_dif(data, max_len=None, word_dropout=0):\n",
        "    \"\"\"\n",
        "    Creates a neural-network-friendly dict from the batch data.\n",
        "    :param word_dropout: replaces token index with UNK_IX with this probability\n",
        "    :returns: a dict with {'title' : int64[batch, title_max_len]\n",
        "    \"\"\"\n",
        "    batch = {}\n",
        "    batch[\"label\"] = data[\"doc_name_enc\"].values\n",
        "    batch[\"text\"] = as_matrix(data[\"text_difficult\"].values, max_len)\n",
        "    if word_dropout != 0:\n",
        "        batch[\"text\"] = apply_word_dropout(batch[\"text\"], 1.0 - word_dropout)\n",
        "    return batch\n",
        "\n",
        "\n",
        "def apply_word_dropout(\n",
        "    matrix,\n",
        "    keep_prop,\n",
        "    replace_with=UNK_IX,\n",
        "    pad_ix=PAD_IX,\n",
        "):\n",
        "    dropout_mask = np.random.choice(2, np.shape(matrix), p=[keep_prop, 1 - keep_prop])\n",
        "    dropout_mask &= matrix != pad_ix\n",
        "    return np.choose(dropout_mask, [matrix, np.full_like(matrix, replace_with)])\n",
        "\n",
        "def iterate_minibatches_dif(data, batch_size=256, shuffle=True, cycle=False, **kwargs):\n",
        "    \"\"\"iterates minibatches of data in random order\"\"\"\n",
        "    while True:\n",
        "        indices = np.arange(len(data))\n",
        "        if shuffle:\n",
        "            indices = np.random.permutation(indices)\n",
        "\n",
        "        for start in range(0, len(indices), batch_size):\n",
        "            batch = make_batch_dif(data.iloc[indices[start : start + batch_size]], **kwargs)\n",
        "            target = batch.pop('label')\n",
        "            yield batch, target\n",
        "\n",
        "        if not cycle:\n",
        "            break"
      ],
      "metadata": {
        "id": "cVp6u4Tv8nZS"
      },
      "execution_count": null,
      "outputs": []
    },
    {
      "cell_type": "code",
      "source": [
        "\n",
        "\n",
        "num_classes=15\n",
        "model = SimpleCNN(num_classes) # модель\n",
        "\n",
        "model = model.to(device)\n",
        "criterion = nn.CrossEntropyLoss()\n",
        "optimizer = torch.optim.Adam(model.parameters(),  betas=(0.9, 0.999))"
      ],
      "metadata": {
        "id": "uAk7b0Mc9Kxb"
      },
      "execution_count": null,
      "outputs": []
    },
    {
      "cell_type": "code",
      "source": [
        "history = []\n",
        "epochs = 10\n",
        "for epoch_num in range(epochs):\n",
        "    for idx, (batch, target) in enumerate(iterate_minibatches_dif(data_train)):\n",
        "        optimizer.zero_grad()\n",
        "\n",
        "        # Preprocessing the batch data and target\n",
        "        features = torch.tensor(batch[\"text\"], dtype=torch.long).to(device)\n",
        "        target = torch.tensor(target).to(device)\n",
        "\n",
        "        outp, vis = model(features)\n",
        "        #outp = outp.reshape(outp.size(0))\n",
        "\n",
        "        loss = criterion(outp, target.long()) # лосс\n",
        "\n",
        "        y_pred = torch.softmax(outp, dim=1).argmax(dim=1)\n",
        "        print(y_pred[:10], target[:10])\n",
        "\n",
        "        acc = ((y_pred==target).detach().cpu().numpy().mean())\n",
        "\n",
        "\n",
        "        loss.backward()\n",
        "        optimizer.step()\n",
        "\n",
        "        history.append(loss.item())\n",
        "        if (idx + 1) % 10 == 0:\n",
        "            clear_output(True)\n",
        "            plt.plot(history, label=\"loss\")\n",
        "            plt.legend()\n",
        "            plt.show()"
      ],
      "metadata": {
        "colab": {
          "base_uri": "https://localhost:8080/",
          "height": 465
        },
        "id": "Tkic4aiR9TQR",
        "outputId": "a5b46d9f-3e23-40e8-e5d3-48d92f357901"
      },
      "execution_count": null,
      "outputs": [
        {
          "output_type": "display_data",
          "data": {
            "text/plain": [
              "<Figure size 640x480 with 1 Axes>"
            ],
            "image/png": "[encoded data removed]"
          },
          "metadata": {}
        },
        {
          "output_type": "stream",
          "name": "stdout",
          "text": [
            "tensor([ 2, 11,  8,  9, 10, 10, 12, 10,  5,  8], device='cuda:0') tensor([ 2, 11,  8,  9, 10, 10, 12, 10,  5,  8], device='cuda:0')\n",
            "tensor([8, 7, 2, 6, 6, 8, 2, 1, 1, 6], device='cuda:0') tensor([8, 7, 2, 6, 6, 8, 2, 1, 1, 6], device='cuda:0')\n"
          ]
        }
      ]
    },
    {
      "cell_type": "code",
      "source": [
        "batch_size = 256\n",
        "def print_metrics_dif(model, data, batch_size=batch_size, name=\"\", **kw):\n",
        "\n",
        "    mean_acc = 0\n",
        "    mean_loss = 0\n",
        "    count = 0\n",
        "    outs_vis = []\n",
        "    tar_vis = []\n",
        "    for batch_x, batch_y in tqdm(\n",
        "        iterate_minibatches_dif(data, batch_size=batch_size, shuffle=False, **kw)\n",
        "    ):\n",
        "\n",
        "        features = torch.tensor(batch_x[\"text\"], dtype=torch.long).to(device)\n",
        "        target = torch.tensor(batch_y).to(device)\n",
        "\n",
        "        outp, vis = model(features)\n",
        "\n",
        "        outs_vis.append(vis.detach().cpu())\n",
        "        tar_vis.append(target.detach().cpu())\n",
        "        loss = criterion(outp, target.long()) # лосс\n",
        "\n",
        "        y_pred = torch.softmax(outp, dim=1).argmax(dim=1)\n",
        "\n",
        "        acc = ((y_pred==target).detach().cpu().numpy().mean())\n",
        "\n",
        "        mean_acc += acc.item()\n",
        "        mean_loss += loss.item()\n",
        "        count+=1\n",
        "\n",
        "    print(\"Loss\", mean_loss / count, \"Acc\", mean_acc / count)\n",
        "    print(count)\n",
        "    outs_vis = np.concatenate(outs_vis[:-1], axis=0)\n",
        "    tar_vis = np.concatenate(tar_vis[:-1], axis=0)\n",
        "    return outs_vis, tar_vis\n",
        "\n",
        "\n",
        "#print_metrics(model, data_train, name=\"Train\")\n",
        "#print_metrics(model, data_test, name=\"Train\")\n",
        "outs_vis, tar_vis = print_metrics_dif(model, data_valid, name=\"Val\");"
      ],
      "metadata": {
        "colab": {
          "base_uri": "https://localhost:8080/"
        },
        "id": "Ik1EXaBJ9t05",
        "outputId": "bf53517c-0ddf-4629-cb16-7e27dd8b28c5"
      },
      "execution_count": null,
      "outputs": [
        {
          "output_type": "stream",
          "name": "stderr",
          "text": [
            "18it [00:00, 31.21it/s]"
          ]
        },
        {
          "output_type": "stream",
          "name": "stdout",
          "text": [
            "Loss 0.09931294702821308 Acc 0.971187821218796\n",
            "18\n"
          ]
        },
        {
          "output_type": "stream",
          "name": "stderr",
          "text": [
            "\n"
          ]
        }
      ]
    },
    {
      "cell_type": "code",
      "source": [
        "X_train, X_test, y_train, y_test = train_test_split(outs_vis, tar_vis,  test_size=0.2, random_state=42)\n",
        "idx_to_label = dict()\n",
        "for k, v in label2idx.items():\n",
        "  idx_to_label[v] = k\n",
        "y_train_enc = []\n",
        "for i in y_train:\n",
        "  y_train_enc.append(idx_to_label[i])\n",
        "y_train_enc = np.array(y_train_enc)"
      ],
      "metadata": {
        "id": "-cgK7y_T9t3z"
      },
      "execution_count": null,
      "outputs": []
    },
    {
      "cell_type": "code",
      "source": [
        "tsne = TSNE(n_components=2, verbose=1, perplexity=40, n_iter=300, init='random')\n",
        "tsne_results = tsne.fit_transform(X_train[:1500])\n",
        "fig = px.scatter(\n",
        "    tsne_results, x=0, y=1,\n",
        "    color=y_train_enc[:1500], labels={'color': 'Вид НПА'}\n",
        ")\n",
        "fig.show()"
      ],
      "metadata": {
        "colab": {
          "base_uri": "https://localhost:8080/",
          "height": 681
        },
        "id": "otU_fxmG99Sc",
        "outputId": "3db143f3-f078-41c2-cf66-b3e5d3db0fdd"
      },
      "execution_count": null,
      "outputs": [
        {
          "output_type": "stream",
          "name": "stdout",
          "text": [
            "[t-SNE] Computing 121 nearest neighbors...\n",
            "[t-SNE] Indexed 1500 samples in 0.001s...\n",
            "[t-SNE] Computed neighbors for 1500 samples in 0.102s...\n",
            "[t-SNE] Computed conditional probabilities for sample 1000 / 1500\n",
            "[t-SNE] Computed conditional probabilities for sample 1500 / 1500\n",
            "[t-SNE] Mean sigma: 17.249472\n",
            "[t-SNE] KL divergence after 250 iterations with early exaggeration: 56.090725\n",
            "[t-SNE] KL divergence after 300 iterations: 0.858914\n"
          ]
        },
        {
          "output_type": "display_data",
          "data": {
            "text/html": [
              "<html>\n",
              "<head><meta charset=\"utf-8\" /></head>\n",
              "<body>\n",
              "    <div>            <script src=\"https://cdnjs.cloudflare.com/ajax/libs/mathjax/2.7.5/MathJax.js?config=TeX-AMS-MML_SVG\"></script><script type=\"text/javascript\">if (window.MathJax && window.MathJax.Hub && window.MathJax.Hub.Config) {window.MathJax.Hub.Config({SVG: {font: \"STIX-Web\"}});}</script>                <script type=\"text/javascript\">window.PlotlyConfig = {MathJaxConfig: 'local'};</script>\n",
              "        <script charset=\"utf-8\" src=\"https://cdn.plot.ly/plotly-2.24.1.min.js\"></script>                <div id=\"917b69e9-01d8-45c5-97a4-e85905e605a5\" class=\"plotly-graph-div\" style=\"height:525px; width:100%;\"></div>            <script type=\"text/javascript\">                                    window.PLOTLYENV=window.PLOTLYENV || {};                                    if (document.getElementById(\"917b69e9-01d8-45c5-97a4-e85905e605a5\")) {                    Plotly.newPlot(                        \"917b69e9-01d8-45c5-97a4-e85905e605a5\",                        [{\"hovertemplate\":\"\\u0412\\u0438\\u0434 \\u041d\\u041f\\u0410=\\u0417\\u0430\\u043a\\u043e\\u043d, \\u0440\\u0435\\u0433\\u0438\\u043e\\u043d\\u0430\\u043b\\u044c\\u043d\\u044b\\u0439 \\u0443\\u0440\\u043e\\u0432\\u0435\\u043d\\u044c, \\u0437\\u0430\\u043a\\u043e\\u043d\\u043e\\u0434\\u0430\\u0442\\u0435\\u043b\\u044c\\u043d\\u044b\\u0439 \\u043e\\u0440\\u0433\\u0430\\u043d\\u003cbr\\u003e0=%{x}\\u003cbr\\u003e1=%{y}\\u003cextra\\u003e\\u003c\\u002fextra\\u003e\",\"legendgroup\":\"\\u0417\\u0430\\u043a\\u043e\\u043d, \\u0440\\u0435\\u0433\\u0438\\u043e\\u043d\\u0430\\u043b\\u044c\\u043d\\u044b\\u0439 \\u0443\\u0440\\u043e\\u0432\\u0435\\u043d\\u044c, \\u0437\\u0430\\u043a\\u043e\\u043d\\u043e\\u0434\\u0430\\u0442\\u0435\\u043b\\u044c\\u043d\\u044b\\u0439 \\u043e\\u0440\\u0433\\u0430\\u043d\",\"marker\":{\"color\":\"#636efa\",\"symbol\":\"circle\"},\"mode\":\"markers\",\"name\":\"\\u0417\\u0430\\u043a\\u043e\\u043d, \\u0440\\u0435\\u0433\\u0438\\u043e\\u043d\\u0430\\u043b\\u044c\\u043d\\u044b\\u0439 \\u0443\\u0440\\u043e\\u0432\\u0435\\u043d\\u044c, \\u0437\\u0430\\u043a\\u043e\\u043d\\u043e\\u0434\\u0430\\u0442\\u0435\\u043b\\u044c\\u043d\\u044b\\u0439 \\u043e\\u0440\\u0433\\u0430\\u043d\",\"showlegend\":true,\"x\":[7.595391273498535,9.601791381835938,9.910346984863281,8.474584579467773,8.540764808654785,9.545820236206055,7.790047645568848,8.336201667785645,9.63955307006836,6.5050554275512695,8.10562801361084,9.398269653320312,8.227442741394043,7.316971778869629,9.349692344665527,9.087425231933594,9.347411155700684,8.715755462646484,8.01028060913086,7.68095588684082,9.329680442810059,7.152590751647949,9.428421020507812,7.532458305358887,9.681231498718262,8.337056159973145,9.157618522644043,8.9503812789917,9.556048393249512,9.608133316040039,8.251184463500977,8.42683219909668,9.625204086303711,8.401925086975098,9.363357543945312,8.698921203613281,9.146931648254395,6.35044002532959,8.018928527832031,8.476746559143066,8.646383285522461,8.624046325683594,7.678886890411377,6.8789496421813965,9.114649772644043,7.847958564758301,8.514443397521973,9.419341087341309,6.720267295837402,6.672798156738281,9.243300437927246,8.359358787536621,8.565338134765625,9.579397201538086,9.454151153564453,7.316518306732178,8.175222396850586,7.5381317138671875,6.3714094161987305,6.715264797210693,8.008235931396484,8.089224815368652,7.657444953918457,6.6378068923950195,8.337955474853516,9.052781105041504,8.992436408996582,7.76395845413208,7.989888668060303,8.208380699157715,9.287016868591309,8.665521621704102,8.391658782958984,9.421804428100586,9.746805191040039,8.740276336669922,8.91313362121582,8.68697452545166,9.416559219360352,7.725675582885742,8.748744010925293,9.006769180297852,8.472643852233887,7.516111373901367,7.7037835121154785,7.7013373374938965,8.170112609863281,8.246675491333008,9.288198471069336,8.56314754486084,7.995060920715332,9.115457534790039,9.380840301513672,7.716548442840576,7.691940784454346,9.457354545593262,8.569120407104492,9.705917358398438,8.301411628723145,9.383577346801758,8.445036888122559,8.13547420501709,7.852203369140625,9.168619155883789,-6.511436462402344,8.59359073638916,6.7022809982299805,8.87565803527832,8.985831260681152,9.618332862854004,9.444596290588379,8.623163223266602],\"xaxis\":\"x\",\"y\":[1.1498717069625854,5.110090732574463,3.8423500061035156,2.784820556640625,2.2708163261413574,3.4968748092651367,3.5394229888916016,4.781604766845703,4.755966663360596,0.10683917254209518,3.059131145477295,4.3817973136901855,4.294649600982666,0.5392274260520935,5.189811706542969,4.198098659515381,4.239854335784912,5.2204718589782715,4.556027889251709,1.1400647163391113,3.228801965713501,1.1659953594207764,4.338183879852295,0.9712545275688171,4.636119842529297,3.7232234477996826,4.590456008911133,2.5796470642089844,4.31236457824707,5.147549629211426,2.1047348976135254,2.4580061435699463,4.804250717163086,2.880666971206665,4.194375991821289,4.723187446594238,3.928698778152466,0.02738461270928383,1.607725977897644,3.792879819869995,2.6580631732940674,2.6269822120666504,3.708008289337158,1.819199800491333,3.947145462036133,3.8277201652526855,2.2585434913635254,4.24261999130249,0.6384074687957764,0.46255922317504883,4.06134557723999,2.370443105697632,2.414139986038208,4.791376113891602,5.323390960693359,1.2141283750534058,4.472917079925537,1.0182139873504639,-0.005029816180467606,0.9208946228027344,3.0992772579193115,4.517490863800049,1.1576213836669922,0.21352282166481018,3.647614002227783,3.1822216510772705,3.2741661071777344,3.0176963806152344,4.645748615264893,4.242223739624023,4.816973686218262,2.7962629795074463,3.9686152935028076,4.18694543838501,5.1369171142578125,3.148940086364746,3.0347495079040527,3.6616199016571045,4.0926408767700195,3.042461633682251,3.1735270023345947,3.09074330329895,2.5233211517333984,0.9020780920982361,1.211026906967163,1.1925116777420044,4.353812217712402,4.008299350738525,4.819264888763428,3.317971706390381,3.0494210720062256,4.379439830780029,4.5977783203125,1.24040687084198,1.204303503036499,4.334784030914307,3.165496826171875,4.968567848205566,3.893594980239868,4.332239151000977,3.100614070892334,3.0731968879699707,2.896743059158325,4.401309490203857,-0.732199490070343,2.9974801540374756,0.6550031304359436,4.273941516876221,4.187018871307373,4.623176574707031,4.152842044830322,2.9799318313598633],\"yaxis\":\"y\",\"type\":\"scattergl\"},{\"hovertemplate\":\"\\u0412\\u0438\\u0434 \\u041d\\u041f\\u0410=\\u0420\\u0430\\u0441\\u043f\\u043e\\u0440\\u044f\\u0436\\u0435\\u043d\\u0438\\u0435, \\u0440\\u0435\\u0433\\u0438\\u043e\\u043d\\u0430\\u043b\\u044c\\u043d\\u044b\\u0439 \\u0443\\u0440\\u043e\\u0432\\u0435\\u043d\\u044c, \\u043f\\u0440\\u0430\\u0432\\u0438\\u0442\\u0435\\u043b\\u044c\\u0441\\u0442\\u0432\\u043e\\u003cbr\\u003e0=%{x}\\u003cbr\\u003e1=%{y}\\u003cextra\\u003e\\u003c\\u002fextra\\u003e\",\"legendgroup\":\"\\u0420\\u0430\\u0441\\u043f\\u043e\\u0440\\u044f\\u0436\\u0435\\u043d\\u0438\\u0435, \\u0440\\u0435\\u0433\\u0438\\u043e\\u043d\\u0430\\u043b\\u044c\\u043d\\u044b\\u0439 \\u0443\\u0440\\u043e\\u0432\\u0435\\u043d\\u044c, \\u043f\\u0440\\u0430\\u0432\\u0438\\u0442\\u0435\\u043b\\u044c\\u0441\\u0442\\u0432\\u043e\",\"marker\":{\"color\":\"#EF553B\",\"symbol\":\"circle\"},\"mode\":\"markers\",\"name\":\"\\u0420\\u0430\\u0441\\u043f\\u043e\\u0440\\u044f\\u0436\\u0435\\u043d\\u0438\\u0435, \\u0440\\u0435\\u0433\\u0438\\u043e\\u043d\\u0430\\u043b\\u044c\\u043d\\u044b\\u0439 \\u0443\\u0440\\u043e\\u0432\\u0435\\u043d\\u044c, \\u043f\\u0440\\u0430\\u0432\\u0438\\u0442\\u0435\\u043b\\u044c\\u0441\\u0442\\u0432\\u043e\",\"showlegend\":true,\"x\":[1.9699428081512451,4.347503185272217,1.9409992694854736,2.04167103767395,1.0145047903060913,2.3769490718841553,4.364448547363281,1.7637979984283447,3.923211097717285,2.860797166824341,-0.2622520923614502,4.477731227874756,3.4185521602630615,4.065692901611328,2.024808645248413,2.229353427886963,3.8338329792022705,4.483521938323975,1.481418251991272,3.3113768100738525,4.472623825073242,3.790361166000366,3.67091965675354,0.7350891828536987,4.598219394683838,-0.04674014821648598,2.4014394283294678,2.0838046073913574,0.32766687870025635,3.2486894130706787,0.6342095732688904,0.505486786365509,0.15416625142097473,3.979012966156006,0.34455862641334534,1.5327181816101074,3.314020872116089,4.032471179962158,1.744835376739502,1.6917051076889038,1.032884120941162,3.4857065677642822,4.6208882331848145,3.9193003177642822,3.8577680587768555,0.7117398977279663,4.000099182128906,0.28209537267684937,0.264516144990921,4.035987854003906,0.8917261958122253,3.305107355117798,2.6355557441711426,2.7044575214385986,0.47403204441070557,2.5296030044555664,4.743120193481445,0.579027533531189,2.3494324684143066,3.461667060852051,3.694586992263794,3.855997323989868,4.770273685455322,3.9588489532470703,0.43572646379470825,3.930635929107666,2.8363091945648193,0.599639356136322,3.7824621200561523,3.8556699752807617,4.783313751220703,3.244835376739502,3.720618963241577,0.37675318121910095,-0.1274610161781311,2.053874969482422,1.178610920906067,2.188753128051758,4.316657066345215,-0.03333931416273117,4.558932781219482,4.348634719848633,3.774409055709839,3.539238929748535,3.404863119125366,1.6145694255828857,1.3973037004470825,3.5127248764038086,3.741363525390625,4.283292293548584,3.822119951248169,2.8699655532836914,2.7618205547332764,1.691404938697815,-0.01504866499453783,2.1112043857574463,4.352773666381836,3.710517168045044,2.2355101108551025,0.4536742568016052,3.722958564758301,2.7172353267669678,4.108304977416992,2.6096372604370117,0.1527133584022522],\"xaxis\":\"x\",\"y\":[0.1551460176706314,-2.4710659980773926,-0.2687278985977173,0.3935115337371826,-2.757863759994507,0.07637455314397812,-2.3083736896514893,-0.15948133170604706,-0.5222918391227722,0.43291351199150085,-2.029625177383423,-1.2889587879180908,-1.0952000617980957,-0.40867137908935547,0.17564207315444946,0.584276556968689,-0.9912625551223755,-1.6332827806472778,0.25705668330192566,-1.1242873668670654,-1.429207444190979,-0.4292638897895813,-1.1654046773910522,-0.38658785820007324,-0.6869965195655823,-0.6864517331123352,-0.7900331616401672,0.4670548737049103,-2.1053874492645264,-0.36667144298553467,-3.747748374938965,-3.5227174758911133,-1.8293551206588745,-1.3882954120635986,-1.316169261932373,-2.3213443756103516,-0.2830672562122345,-0.6416983604431152,0.4315149188041687,-0.39996927976608276,-1.1506813764572144,2.623363971710205,-1.4557262659072876,-0.5786890387535095,-0.36147961020469666,-3.8483667373657227,-0.5366408228874207,-0.8871568441390991,-1.412988305091858,-1.1714423894882202,-1.8638157844543457,-1.5355173349380493,0.401577353477478,0.19085514545440674,-1.8133831024169922,-0.6422909498214722,-1.0373623371124268,-2.936307668685913,-1.0448329448699951,-1.1065905094146729,-1.1031086444854736,-0.31152665615081787,-1.2451202869415283,-0.5034757256507874,-3.0329697132110596,-0.9704934358596802,0.394986093044281,-1.3755801916122437,-1.0133293867111206,-0.546000599861145,-1.3363779783248901,-1.3651118278503418,-0.4950164258480072,-2.7273311614990234,-1.0003515481948853,0.6720278263092041,-1.0026805400848389,0.23743793368339539,-2.484489679336548,-0.699692964553833,-1.4445016384124756,-2.4870216846466064,-0.5958756804466248,-1.1212927103042603,-1.2464630603790283,-0.5224753022193909,-2.3611299991607666,-1.3598942756652832,-0.5565550923347473,-1.100984811782837,-1.5451176166534424,0.45131716132164,-0.7179782390594482,0.1202586367726326,-0.7167990207672119,0.02444963902235031,-2.4664809703826904,-0.9559606313705444,-0.45895594358444214,-1.3068757057189941,-0.4637913107872009,-1.2379274368286133,-1.5406222343444824,-1.2999364137649536,-1.5063185691833496],\"yaxis\":\"y\",\"type\":\"scattergl\"},{\"hovertemplate\":\"\\u0412\\u0438\\u0434 \\u041d\\u041f\\u0410=\\u0420\\u0430\\u0441\\u043f\\u043e\\u0440\\u044f\\u0436\\u0435\\u043d\\u0438\\u0435, \\u0444\\u0435\\u0434\\u0435\\u0440\\u0430\\u043b\\u044c\\u043d\\u044b\\u0439 \\u0443\\u0440\\u043e\\u0432\\u0435\\u043d\\u044c, \\u043f\\u0440\\u0430\\u0432\\u0438\\u0442\\u0435\\u043b\\u044c\\u0441\\u0442\\u0432\\u043e\\u003cbr\\u003e0=%{x}\\u003cbr\\u003e1=%{y}\\u003cextra\\u003e\\u003c\\u002fextra\\u003e\",\"legendgroup\":\"\\u0420\\u0430\\u0441\\u043f\\u043e\\u0440\\u044f\\u0436\\u0435\\u043d\\u0438\\u0435, \\u0444\\u0435\\u0434\\u0435\\u0440\\u0430\\u043b\\u044c\\u043d\\u044b\\u0439 \\u0443\\u0440\\u043e\\u0432\\u0435\\u043d\\u044c, \\u043f\\u0440\\u0430\\u0432\\u0438\\u0442\\u0435\\u043b\\u044c\\u0441\\u0442\\u0432\\u043e\",\"marker\":{\"color\":\"#00cc96\",\"symbol\":\"circle\"},\"mode\":\"markers\",\"name\":\"\\u0420\\u0430\\u0441\\u043f\\u043e\\u0440\\u044f\\u0436\\u0435\\u043d\\u0438\\u0435, \\u0444\\u0435\\u0434\\u0435\\u0440\\u0430\\u043b\\u044c\\u043d\\u044b\\u0439 \\u0443\\u0440\\u043e\\u0432\\u0435\\u043d\\u044c, \\u043f\\u0440\\u0430\\u0432\\u0438\\u0442\\u0435\\u043b\\u044c\\u0441\\u0442\\u0432\\u043e\",\"showlegend\":true,\"x\":[3.6529319286346436,2.8380286693573,1.032749891281128,3.0621073246002197,3.0157034397125244,0.8599494099617004,2.8340401649475098,3.1747848987579346,4.639050006866455,1.1814312934875488,2.779311418533325,3.3240578174591064,2.839205503463745,1.2700527906417847,2.6185085773468018,2.9598581790924072,1.2695897817611694,2.454254388809204,1.3384783267974854,3.278655767440796,2.834637403488159,2.882341146469116,1.2520637512207031,2.8311736583709717,2.921887159347534,3.298109292984009,2.6110756397247314,2.8283607959747314,2.9871249198913574,1.189209222793579,3.7730050086975098,2.907478094100952,0.18241363763809204,2.8894264698028564,1.3311549425125122,1.1454559564590454,2.9723782539367676,2.4733948707580566,1.0969208478927612,2.838526487350464,0.9644694328308105,3.033905267715454,3.022692918777466,2.8318934440612793,1.281690001487732,3.6934428215026855,3.70416522026062,1.1897774934768677,3.729025363922119,3.7194459438323975,2.980907440185547,3.050759792327881,2.807950735092163,1.1519677639007568,1.898571491241455,3.23828387260437,3.1497297286987305,3.7716894149780273,2.938608169555664,1.1196402311325073,0.9255500435829163,3.184274196624756,2.8281500339508057,3.083822727203369,2.8279552459716797,3.7687695026397705,2.1264078617095947,2.8290414810180664,1.3627488613128662,3.057741403579712,1.2270153760910034,2.2041077613830566,3.675034999847412,2.8347935676574707,3.061413049697876,2.3684425354003906,2.8403122425079346,3.144537925720215,2.828063488006592,0.2816547155380249,2.842278480529785,2.9180908203125,1.3218674659729004,0.772145688533783,3.8251352310180664,3.1337249279022217,3.7178053855895996,3.134101629257202,0.39905044436454773,2.839674234390259,3.4915082454681396,2.3717048168182373,3.4212939739227295,3.7175843715667725,2.9327118396759033,3.126504898071289,2.818882703781128,2.8974037170410156,3.8582775592803955,3.5734097957611084,3.0046684741973877,3.775897741317749,3.6904852390289307,2.3224973678588867],\"xaxis\":\"x\",\"y\":[-9.782649040222168,-7.925292491912842,-4.645739555358887,-11.162591934204102,-11.185441017150879,-4.106771945953369,-7.924468517303467,-9.578857421875,-5.804987907409668,-6.810484886169434,-7.098398685455322,-9.719707489013672,-7.946309566497803,-5.903674125671387,-7.771728992462158,-11.37967586517334,-5.802140712738037,-9.288703918457031,-5.700023651123047,-11.13673210144043,-7.945465564727783,-11.086629867553711,-6.805952072143555,-7.906050682067871,-7.97133731842041,-11.075678825378418,-7.883904933929443,-7.917510509490967,-11.103609085083008,-4.750667572021484,-10.010266304016113,-11.089670181274414,-5.280008316040039,-11.231067657470703,-10.863519668579102,-5.946690082550049,-11.178691864013672,-9.306587219238281,-6.471779823303223,-7.932320594787598,-4.556982517242432,-11.131644248962402,-11.136608123779297,-7.9435882568359375,-6.153425216674805,-10.027641296386719,-9.78380298614502,-6.798543453216553,-9.810722351074219,-9.792015075683594,-11.132429122924805,-11.186152458190918,-11.135931968688965,-4.991613388061523,-8.164979934692383,-9.562957763671875,-11.104013442993164,-9.911791801452637,-11.11941146850586,-6.400223731994629,-4.2754316329956055,-11.084489822387695,-7.906409740447998,-11.036822319030762,-7.875691890716553,-10.04000473022461,-8.005608558654785,-7.911193370819092,-5.814239025115967,-11.1109619140625,-6.755130767822266,-7.95176362991333,-9.825444221496582,-7.848129749298096,-10.985818862915039,-9.358457565307617,-7.9508843421936035,-11.219169616699219,-7.914486885070801,-5.027118682861328,-7.9492340087890625,-11.108150482177734,-5.917295932769775,-4.172006607055664,-9.95973014831543,-9.500816345214844,-9.792214393615723,-9.42420768737793,-4.143131256103516,-7.938774585723877,-5.490447044372559,-9.348509788513184,-11.136253356933594,-9.923603057861328,-11.275639533996582,-11.218107223510742,-7.884103298187256,-11.05246639251709,-10.012277603149414,-5.504650592803955,-9.185715675354004,-9.96125316619873,-9.767719268798828,-9.569031715393066],\"yaxis\":\"y\",\"type\":\"scattergl\"},{\"hovertemplate\":\"\\u0412\\u0438\\u0434 \\u041d\\u041f\\u0410=\\u041f\\u0440\\u0438\\u043a\\u0430\\u0437, \\u0440\\u0435\\u0433\\u0438\\u043e\\u043d\\u0430\\u043b\\u044c\\u043d\\u044b\\u0439 \\u0443\\u0440\\u043e\\u0432\\u0435\\u043d\\u044c, \\u043e\\u0440\\u0433\\u0430\\u043d\\u044b \\u0438\\u0441\\u043f\\u043e\\u043b\\u043d\\u0438\\u0442\\u0435\\u043b\\u044c\\u043d\\u043e\\u0439 \\u0432\\u043b\\u0430\\u0441\\u0442\\u0438\\u003cbr\\u003e0=%{x}\\u003cbr\\u003e1=%{y}\\u003cextra\\u003e\\u003c\\u002fextra\\u003e\",\"legendgroup\":\"\\u041f\\u0440\\u0438\\u043a\\u0430\\u0437, \\u0440\\u0435\\u0433\\u0438\\u043e\\u043d\\u0430\\u043b\\u044c\\u043d\\u044b\\u0439 \\u0443\\u0440\\u043e\\u0432\\u0435\\u043d\\u044c, \\u043e\\u0440\\u0433\\u0430\\u043d\\u044b \\u0438\\u0441\\u043f\\u043e\\u043b\\u043d\\u0438\\u0442\\u0435\\u043b\\u044c\\u043d\\u043e\\u0439 \\u0432\\u043b\\u0430\\u0441\\u0442\\u0438\",\"marker\":{\"color\":\"#ab63fa\",\"symbol\":\"circle\"},\"mode\":\"markers\",\"name\":\"\\u041f\\u0440\\u0438\\u043a\\u0430\\u0437, \\u0440\\u0435\\u0433\\u0438\\u043e\\u043d\\u0430\\u043b\\u044c\\u043d\\u044b\\u0439 \\u0443\\u0440\\u043e\\u0432\\u0435\\u043d\\u044c, \\u043e\\u0440\\u0433\\u0430\\u043d\\u044b \\u0438\\u0441\\u043f\\u043e\\u043b\\u043d\\u0438\\u0442\\u0435\\u043b\\u044c\\u043d\\u043e\\u0439 \\u0432\\u043b\\u0430\\u0441\\u0442\\u0438\",\"showlegend\":true,\"x\":[-6.003234386444092,-0.8162082433700562,-1.3938392400741577,-4.704084396362305,-4.033214092254639,-6.595625877380371,-6.260704517364502,-6.3620100021362305,-3.7558040618896484,-6.674405097961426,-6.977489471435547,-5.716034412384033,-7.736259460449219,-6.585869312286377,-6.483826160430908,-6.149288654327393,-4.0784173011779785,-6.7370076179504395,-4.750626087188721,-4.010953903198242,-4.073071002960205,-4.373692035675049,-5.0803446769714355,-0.36510878801345825,-5.002417087554932,-3.072418689727783,-6.43418025970459,-6.563191890716553,-6.3587775230407715,-7.70878791809082,-4.485825061798096,-5.373762607574463,-5.7920308113098145,-4.072081089019775,-5.404151439666748,-4.428670883178711,-5.80219841003418,-2.547445058822632,-5.3516645431518555,-6.2068071365356445,-4.8169684410095215,-5.31222677230835,-6.39727783203125,-4.315458297729492,-5.2035369873046875,-4.347180366516113,-6.593782424926758,-6.533315658569336,-5.09869909286499,-6.703334808349609,-6.258686065673828,-5.23354959487915,-5.4878692626953125,-6.217434883117676,-6.60245418548584,-4.085270404815674,-5.219140529632568,-6.370830059051514,-6.6729936599731445,-7.714722633361816,-5.9974236488342285,-1.5899417400360107,-4.168761253356934,-4.0824875831604,-6.731790542602539,-3.533034086227417,-4.330744743347168,-4.833600997924805,-6.253114700317383,-7.353902816772461,-4.662740707397461,-3.9479472637176514,-4.637860298156738,-6.395001411437988,-4.077054977416992,-6.187447547912598,-6.488247871398926,-4.94943904876709,-6.191850662231445,-5.104581832885742,-6.1668524742126465,-7.697638034820557,-5.884427070617676,-6.6876749992370605,-4.07609748840332,-0.2574135363101959,-5.656185626983643,-6.551041126251221,-4.437890529632568,-5.073928356170654,-6.318287372589111,-6.69891357421875,-5.021839618682861,-3.99837064743042,-5.537220478057861,-5.077787399291992,-6.26030158996582,-2.900301456451416,-6.78273344039917,-6.545055866241455,-0.7122946381568909,-4.996410369873047,-4.485442638397217,-4.321699619293213,-5.408461093902588,-5.876705646514893,-4.60800313949585,-4.176750183105469],\"xaxis\":\"x\",\"y\":[-5.902768611907959,-3.726900100708008,-4.2895989418029785,-4.600062847137451,-4.655766487121582,-4.133171558380127,-5.226871490478516,-5.36530876159668,-5.29970645904541,-4.550738334655762,-5.990365982055664,-5.54561710357666,-3.5854344367980957,-5.646989822387695,-5.224645137786865,-5.748535633087158,-4.4525065422058105,-4.372993469238281,-4.4808173179626465,-4.6879119873046875,-4.9036054611206055,-4.7169718742370605,-5.128045558929443,-4.828310966491699,-5.884975433349609,-3.5131113529205322,-4.040157318115234,-4.195834159851074,-6.0419602394104,-3.7645576000213623,-4.319915771484375,-5.070956707000732,-5.800772190093994,-4.81055212020874,-6.235197067260742,-4.922476291656494,-5.167308807373047,-3.1085400581359863,-4.949946880340576,-6.23062801361084,-5.623919486999512,-5.860023498535156,-6.430111408233643,-4.6550798416137695,-5.527993202209473,-4.3553056716918945,-5.160839557647705,-5.27303409576416,-6.0939764976501465,-4.432548999786377,-5.511995315551758,-3.324380874633789,-5.963628768920898,-5.1707000732421875,-5.0511579513549805,-4.702574729919434,-3.321406364440918,-5.375080108642578,-4.134293556213379,-3.7459568977355957,-5.304656505584717,-4.3282270431518555,-4.381381034851074,-4.4592413902282715,-4.894035339355469,-3.85563588142395,-4.387702941894531,-5.119074821472168,-5.9836106300354,-5.721560955047607,-4.904462814331055,-4.859486103057861,-6.193945407867432,-5.260388374328613,-4.4815993309021,-6.310709476470947,-5.482377052307129,-5.907961845397949,-6.1083807945251465,-3.267167806625366,-5.942837715148926,-3.6215176582336426,-4.990700721740723,-4.35867977142334,-4.463333606719971,-2.935375928878784,-3.618175745010376,-5.264151096343994,-5.07623291015625,-4.805034160614014,-6.133267402648926,-6.085644245147705,-3.1873903274536133,-4.522169589996338,-6.01173210144043,-4.9093194007873535,-6.049880027770996,-3.3470206260681152,-5.880813121795654,-5.2491559982299805,-2.9772348403930664,-6.297663688659668,-5.746406078338623,-4.807375907897949,-4.79771614074707,-3.786546468734741,-3.417654037475586,-4.89081335067749],\"yaxis\":\"y\",\"type\":\"scattergl\"},{\"hovertemplate\":\"\\u0412\\u0438\\u0434 \\u041d\\u041f\\u0410=\\u0423\\u043a\\u0430\\u0437, \\u0444\\u0435\\u0434\\u0435\\u0440\\u0430\\u043b\\u044c\\u043d\\u044b\\u0439 \\u0443\\u0440\\u043e\\u0432\\u0435\\u043d\\u044c, \\u0433\\u043b\\u0430\\u0432\\u0430 \\u0438\\u0441\\u043f\\u043e\\u043b\\u043d\\u0438\\u0442\\u0435\\u043b\\u044c\\u043d\\u043e\\u0439 \\u0432\\u043b\\u0430\\u0441\\u0442\\u0438\\u003cbr\\u003e0=%{x}\\u003cbr\\u003e1=%{y}\\u003cextra\\u003e\\u003c\\u002fextra\\u003e\",\"legendgroup\":\"\\u0423\\u043a\\u0430\\u0437, \\u0444\\u0435\\u0434\\u0435\\u0440\\u0430\\u043b\\u044c\\u043d\\u044b\\u0439 \\u0443\\u0440\\u043e\\u0432\\u0435\\u043d\\u044c, \\u0433\\u043b\\u0430\\u0432\\u0430 \\u0438\\u0441\\u043f\\u043e\\u043b\\u043d\\u0438\\u0442\\u0435\\u043b\\u044c\\u043d\\u043e\\u0439 \\u0432\\u043b\\u0430\\u0441\\u0442\\u0438\",\"marker\":{\"color\":\"#FFA15A\",\"symbol\":\"circle\"},\"mode\":\"markers\",\"name\":\"\\u0423\\u043a\\u0430\\u0437, \\u0444\\u0435\\u0434\\u0435\\u0440\\u0430\\u043b\\u044c\\u043d\\u044b\\u0439 \\u0443\\u0440\\u043e\\u0432\\u0435\\u043d\\u044c, \\u0433\\u043b\\u0430\\u0432\\u0430 \\u0438\\u0441\\u043f\\u043e\\u043b\\u043d\\u0438\\u0442\\u0435\\u043b\\u044c\\u043d\\u043e\\u0439 \\u0432\\u043b\\u0430\\u0441\\u0442\\u0438\",\"showlegend\":true,\"x\":[-7.2033281326293945,-8.584877014160156,-7.663214683532715,-7.422255516052246,-7.456557273864746,-7.4091715812683105,-7.761367321014404,-8.605978965759277,-7.356032371520996,-7.850924491882324,-7.511658191680908,-8.635377883911133,-7.454344749450684,-8.564909934997559,-7.430461883544922,-7.624384880065918,-7.43386697769165,1.7808537483215332,-8.609532356262207,1.7563351392745972,-8.726339340209961,-7.651668071746826,-7.411048412322998,0.18261045217514038,-7.332787036895752,-8.554082870483398,-7.772508144378662,-7.963292121887207,-8.578827857971191,-7.827060699462891,-7.695187091827393,-8.625536918640137,-7.424954891204834,-8.577153205871582,-0.593166708946228,-8.464227676391602,-8.853865623474121,-0.6072991490364075,-8.459447860717773,-7.148221492767334,-8.720414161682129,0.5216192603111267,-8.229166030883789,-8.593544960021973,-8.456092834472656,-6.922146320343018,-0.5969853401184082,-6.943682670593262,-6.9215898513793945,-7.555763244628906,-8.558334350585938,-8.648794174194336,-8.664833068847656,-8.590022087097168,-7.417185306549072,-8.638850212097168,-7.30534029006958,-8.57009506225586,-6.943605899810791,-8.662063598632812,-8.555462837219238,-7.4443254470825195,-7.580025672912598,-8.62155818939209,-7.593175411224365,-8.614635467529297,-0.5917690396308899,-7.315421104431152,-7.547340393066406],\"xaxis\":\"x\",\"y\":[0.36649027466773987,-0.5901883840560913,0.1519954949617386,0.8897458910942078,0.9626450538635254,0.8458280563354492,-0.5097030401229858,-0.5974290370941162,0.4327743351459503,-0.2825741469860077,-0.16341300308704376,-0.6171301603317261,3.8827099800109863,-0.5671655535697937,0.25453320145606995,0.05208388715982437,0.8404945731163025,-4.828974723815918,-0.616696298122406,-4.838988304138184,-0.6606475114822388,0.33990588784217834,3.7648262977600098,-3.230178117752075,0.4291791319847107,-0.5854165554046631,0.06472675502300262,-0.3218303322792053,-0.5385971665382385,-0.05360908806324005,0.41392412781715393,-0.6296070218086243,0.8779334425926208,-0.5933133363723755,-5.374371528625488,0.5678374767303467,-0.6488621234893799,-5.382919788360596,0.5464197397232056,1.0919231176376343,-0.7179339528083801,-3.608774423599243,0.5152244567871094,-0.5841190814971924,0.6176372766494751,4.1447978019714355,-5.49392032623291,4.103814601898193,4.126974582672119,0.30066755414009094,-0.579725980758667,-0.6108806729316711,-0.6243024468421936,-0.5929789543151855,3.76591157913208,-0.6201858520507812,-0.9442853927612305,-0.5725259184837341,4.148502826690674,-0.6242556571960449,-0.5939005017280579,0.33618226647377014,-0.06288500130176544,-0.615322470664978,0.24891772866249084,-0.6109355688095093,-5.3213043212890625,1.0420093536376953,0.24696871638298035],\"yaxis\":\"y\",\"type\":\"scattergl\"},{\"hovertemplate\":\"\\u0412\\u0438\\u0434 \\u041d\\u041f\\u0410=\\u041f\\u043e\\u0441\\u0442\\u0430\\u043d\\u043e\\u0432\\u043b\\u0435\\u043d\\u0438\\u0435, \\u0440\\u0435\\u0433\\u0438\\u043e\\u043d\\u0430\\u043b\\u044c\\u043d\\u044b\\u0439 \\u0443\\u0440\\u043e\\u0432\\u0435\\u043d\\u044c, \\u0433\\u043b\\u0430\\u0432\\u0430 \\u0438\\u0441\\u043f\\u043e\\u043b\\u043d\\u0438\\u0442\\u0435\\u043b\\u044c\\u043d\\u043e\\u0439 \\u0432\\u043b\\u0430\\u0441\\u0442\\u0438\\u003cbr\\u003e0=%{x}\\u003cbr\\u003e1=%{y}\\u003cextra\\u003e\\u003c\\u002fextra\\u003e\",\"legendgroup\":\"\\u041f\\u043e\\u0441\\u0442\\u0430\\u043d\\u043e\\u0432\\u043b\\u0435\\u043d\\u0438\\u0435, \\u0440\\u0435\\u0433\\u0438\\u043e\\u043d\\u0430\\u043b\\u044c\\u043d\\u044b\\u0439 \\u0443\\u0440\\u043e\\u0432\\u0435\\u043d\\u044c, \\u0433\\u043b\\u0430\\u0432\\u0430 \\u0438\\u0441\\u043f\\u043e\\u043b\\u043d\\u0438\\u0442\\u0435\\u043b\\u044c\\u043d\\u043e\\u0439 \\u0432\\u043b\\u0430\\u0441\\u0442\\u0438\",\"marker\":{\"color\":\"#19d3f3\",\"symbol\":\"circle\"},\"mode\":\"markers\",\"name\":\"\\u041f\\u043e\\u0441\\u0442\\u0430\\u043d\\u043e\\u0432\\u043b\\u0435\\u043d\\u0438\\u0435, \\u0440\\u0435\\u0433\\u0438\\u043e\\u043d\\u0430\\u043b\\u044c\\u043d\\u044b\\u0439 \\u0443\\u0440\\u043e\\u0432\\u0435\\u043d\\u044c, \\u0433\\u043b\\u0430\\u0432\\u0430 \\u0438\\u0441\\u043f\\u043e\\u043b\\u043d\\u0438\\u0442\\u0435\\u043b\\u044c\\u043d\\u043e\\u0439 \\u0432\\u043b\\u0430\\u0441\\u0442\\u0438\",\"showlegend\":true,\"x\":[3.1447486877441406,-6.124711036682129,-1.1111090183258057,3.5048165321350098,0.2383570671081543,3.44091796875,0.7512364387512207,2.8663649559020996,2.8550591468811035,3.5463547706604004,-0.8262486457824707,2.939286947250366,4.292925834655762,3.7167928218841553,1.6988837718963623,0.7696107029914856,1.1363028287887573,3.0745632648468018,-0.30387037992477417,3.3905327320098877,-0.26031458377838135,-6.05283260345459,-0.260852187871933,-0.1282101422548294,3.155242919921875,3.4829158782958984,3.874178647994995,4.138351917266846,-1.1224431991577148,3.702794313430786,-5.902393817901611,3.1072165966033936,-6.066283702850342,3.424630641937256,4.295161724090576,2.853151798248291,-1.047574758529663,3.562034845352173,4.361640930175781,-5.924989700317383,3.379948854446411,0.1754390448331833,2.9603328704833984,3.866938352584839,1.6868969202041626,-6.0563836097717285,1.1024729013442993,-1.3954259157180786,0.24514582753181458,-3.9666173458099365,-1.0985275506973267,2.796328067779541,-1.2047021389007568,-1.2533506155014038,-1.1860417127609253,2.8746674060821533,2.503619432449341,3.724978446960449,3.948519706726074,1.4175764322280884,3.321920871734619,2.396660089492798,2.7815961837768555,2.9261298179626465,-6.0673980712890625,3.1431660652160645,2.8328123092651367,-1.3578482866287231,2.6117215156555176,4.371747970581055,3.11040997505188,2.7846713066101074,2.939216136932373,-0.0183083675801754,-0.6266664266586304,-0.26035481691360474,3.8880269527435303,2.563209056854248,1.511010766029358,3.419278383255005,3.5421009063720703,2.91095232963562,-1.1289583444595337,-6.031158447265625,4.183527946472168,2.884103775024414,3.742497682571411,3.7656779289245605,-0.23365777730941772,3.827406883239746,3.4991931915283203,-5.9563188552856445,2.8614702224731445,3.1845052242279053,3.389641523361206,2.9235939979553223,0.6452285051345825,2.927772045135498,2.9336330890655518,3.6702802181243896,3.8356616497039795,2.828080177307129,-6.381214141845703,3.2550628185272217,-0.2610411047935486],\"xaxis\":\"x\",\"y\":[9.892820358276367,4.193679332733154,-1.851105809211731,10.189751625061035,-2.8591408729553223,10.376317024230957,8.585192680358887,8.672775268554688,8.742265701293945,10.375904083251953,9.172088623046875,8.669103622436523,9.706070899963379,10.16163158416748,10.75692081451416,8.546374320983887,8.644289016723633,9.41115665435791,9.115913391113281,10.362309455871582,9.032474517822266,3.7419686317443848,9.071677207946777,-2.6285624504089355,9.643503189086914,10.504532814025879,10.20230484008789,9.427470207214355,-1.805558204650879,10.145455360412598,3.525822162628174,10.431986808776855,3.6211535930633545,10.18132495880127,9.313685417175293,8.886290550231934,-2.0534889698028564,9.956628799438477,9.293051719665527,3.866121768951416,10.037185668945312,8.816421508789062,8.711260795593262,10.240204811096191,10.742841720581055,3.6432669162750244,8.605243682861328,2.1944589614868164,8.835941314697266,8.641016960144043,-1.8044129610061646,10.929520606994629,-1.7810587882995605,1.8573989868164062,-2.3157618045806885,8.6649169921875,5.448199272155762,10.544903755187988,10.044281959533691,8.649266242980957,10.161391258239746,10.456069946289062,10.976665496826172,8.954657554626465,3.6270928382873535,10.392494201660156,8.778660774230957,2.098665237426758,5.613536357879639,9.274967193603516,10.516875267028809,8.620633125305176,8.609091758728027,8.852381706237793,-0.8356084227561951,-3.9143636226654053,10.140986442565918,10.550642967224121,10.351763725280762,10.357372283935547,9.945294380187988,10.037569999694824,-1.8358910083770752,3.5988824367523193,9.341571807861328,8.682210922241211,10.345410346984863,9.545798301696777,8.97937297821045,9.577187538146973,10.21113395690918,3.4871270656585693,10.901859283447266,10.404112815856934,10.298949241638184,9.533492088317871,8.431527137756348,8.621927261352539,8.7052640914917,9.901912689208984,10.041162490844727,9.27898120880127,4.161656856536865,9.742520332336426,9.071709632873535],\"yaxis\":\"y\",\"type\":\"scattergl\"},{\"hovertemplate\":\"\\u0412\\u0438\\u0434 \\u041d\\u041f\\u0410=\\u041f\\u043e\\u0441\\u0442\\u0430\\u043d\\u043e\\u0432\\u043b\\u0435\\u043d\\u0438\\u0435, \\u0444\\u0435\\u0434\\u0435\\u0440\\u0430\\u043b\\u044c\\u043d\\u044b\\u0439 \\u0443\\u0440\\u043e\\u0432\\u0435\\u043d\\u044c, \\u043f\\u0440\\u0430\\u0432\\u0438\\u0442\\u0435\\u043b\\u044c\\u0441\\u0442\\u0432\\u043e\\u003cbr\\u003e0=%{x}\\u003cbr\\u003e1=%{y}\\u003cextra\\u003e\\u003c\\u002fextra\\u003e\",\"legendgroup\":\"\\u041f\\u043e\\u0441\\u0442\\u0430\\u043d\\u043e\\u0432\\u043b\\u0435\\u043d\\u0438\\u0435, \\u0444\\u0435\\u0434\\u0435\\u0440\\u0430\\u043b\\u044c\\u043d\\u044b\\u0439 \\u0443\\u0440\\u043e\\u0432\\u0435\\u043d\\u044c, \\u043f\\u0440\\u0430\\u0432\\u0438\\u0442\\u0435\\u043b\\u044c\\u0441\\u0442\\u0432\\u043e\",\"marker\":{\"color\":\"#FF6692\",\"symbol\":\"circle\"},\"mode\":\"markers\",\"name\":\"\\u041f\\u043e\\u0441\\u0442\\u0430\\u043d\\u043e\\u0432\\u043b\\u0435\\u043d\\u0438\\u0435, \\u0444\\u0435\\u0434\\u0435\\u0440\\u0430\\u043b\\u044c\\u043d\\u044b\\u0439 \\u0443\\u0440\\u043e\\u0432\\u0435\\u043d\\u044c, \\u043f\\u0440\\u0430\\u0432\\u0438\\u0442\\u0435\\u043b\\u044c\\u0441\\u0442\\u0432\\u043e\",\"showlegend\":true,\"x\":[-12.71477222442627,-12.537383079528809,-10.345157623291016,2.2844936847686768,-12.15812873840332,-10.348396301269531,-11.995427131652832,-12.943428039550781,-10.348132133483887,-13.000442504882812,-12.312867164611816,-10.997974395751953,-12.716019630432129,-13.233031272888184,-12.457371711730957,-11.57013988494873,-11.783987045288086,-12.818192481994629,-12.19993782043457,-12.24948787689209,-11.820528030395508,-12.87156867980957,-12.00471305847168,3.072016716003418,-12.85922908782959,-13.117938041687012,-12.080511093139648,-13.593698501586914,-10.299663543701172,-12.495100021362305,-12.585610389709473,-12.40125560760498,-12.07341194152832,-11.737074851989746,-11.475598335266113,-11.934271812438965,-11.907670021057129,-10.925666809082031,-12.881453514099121,-10.347907066345215,-10.478961944580078,-13.294675827026367,-12.548176765441895,-11.152261734008789,-11.22995662689209,-12.430387496948242,-10.395227432250977,-10.962350845336914,-11.48473834991455,-11.463534355163574,-12.460914611816406,-10.307616233825684,-10.488045692443848,-10.310916900634766,-10.306289672851562,-0.48391151428222656,-12.032416343688965,-10.328007698059082,-12.24179458618164,-12.870354652404785,-11.57429313659668,-13.154423713684082,-11.25265884399414,-11.001474380493164,-10.478668212890625,-10.290923118591309,-12.417428970336914,-11.960824012756348,-12.135758399963379,-11.917195320129395,-10.424599647521973,-12.309379577636719,-10.318628311157227,-11.795280456542969,-13.415075302124023,-12.999641418457031,-11.150188446044922,-11.9135160446167,-11.754659652709961,-10.345817565917969,-12.966978073120117,-11.725140571594238,-13.201521873474121,-12.152505874633789,-11.659469604492188,-10.880948066711426,-12.569146156311035,-13.074092864990234,-12.474777221679688,-12.906124114990234,-13.054106712341309,-12.880661010742188,-10.325214385986328,-10.362288475036621,-11.440557479858398,-13.132179260253906,-11.396888732910156,-12.146758079528809,-11.156113624572754,-12.0139741897583,-12.858450889587402,-0.6486973166465759,-11.959354400634766,-12.869524955749512,-10.31013011932373,-13.11143684387207,-13.06088638305664,-11.796769142150879],\"xaxis\":\"x\",\"y\":[-0.41950705647468567,-1.2139995098114014,3.7284700870513916,-4.132535934448242,-1.1938080787658691,3.7230777740478516,0.538053035736084,0.4272136092185974,3.7243709564208984,0.45301705598831177,-0.9355090260505676,2.813246488571167,0.4811190962791443,-0.6240569949150085,-0.5733399391174316,-0.04295722395181656,0.4681122899055481,0.3224150240421295,0.18660427629947662,0.0055100154131650925,-0.23381030559539795,0.3379286527633667,0.5019820928573608,-6.660417079925537,-0.520691990852356,0.3564549684524536,0.5739975571632385,-0.14014634490013123,3.799764394760132,0.19925035536289215,0.04925429821014404,-0.8920279741287231,0.06181206554174423,0.25911834836006165,0.2992834448814392,0.8405230045318604,0.5017256140708923,2.926224946975708,-0.014728116802871227,3.72438383102417,3.448138952255249,0.6745740175247192,-0.863112211227417,2.5199320316314697,-0.21046726405620575,-0.11642927676439285,3.650231122970581,2.8233225345611572,-0.9186003804206848,1.2952167987823486,0.17892961204051971,3.7966721057891846,3.4218149185180664,3.7856767177581787,3.7974772453308105,-10.325719833374023,-0.4848642349243164,3.756819248199463,-1.1876968145370483,0.3955032527446747,0.0667719766497612,0.41857442259788513,-0.15205882489681244,2.817417860031128,3.539565086364746,3.815718650817871,-0.9724809527397156,0.5728197693824768,0.5865167379379272,0.614099383354187,3.5763020515441895,-0.7097026705741882,3.7748324871063232,0.570412278175354,-0.039175182580947876,0.42479056119918823,1.7250959873199463,0.4997682273387909,0.5394152402877808,3.7291409969329834,0.4277549982070923,0.4575486183166504,-0.3444523215293884,-0.9878295063972473,-0.9189263582229614,2.972295045852661,-0.03313650190830231,0.48010873794555664,-1.1600576639175415,-1.0363564491271973,0.2564427852630615,0.3513507544994354,3.7536418437957764,3.7058584690093994,1.2557765245437622,0.5073225498199463,1.2801706790924072,-0.9834985136985779,-0.2655612826347351,0.577549159526825,0.5227184295654297,-10.130857467651367,-0.04477202892303467,0.5337088704109192,3.789365291595459,-0.0034938878379762173,0.32221153378486633,0.31961536407470703],\"yaxis\":\"y\",\"type\":\"scattergl\"},{\"hovertemplate\":\"\\u0412\\u0438\\u0434 \\u041d\\u041f\\u0410=\\u041f\\u043e\\u0441\\u0442\\u0430\\u043d\\u043e\\u0432\\u043b\\u0435\\u043d\\u0438\\u0435, \\u0440\\u0435\\u0433\\u0438\\u043e\\u043d\\u0430\\u043b\\u044c\\u043d\\u044b\\u0439 \\u0443\\u0440\\u043e\\u0432\\u0435\\u043d\\u044c, \\u0437\\u0430\\u043a\\u043e\\u043d\\u043e\\u0434\\u0430\\u0442\\u0435\\u043b\\u044c\\u043d\\u044b\\u0439 \\u043e\\u0440\\u0433\\u0430\\u043d\\u003cbr\\u003e0=%{x}\\u003cbr\\u003e1=%{y}\\u003cextra\\u003e\\u003c\\u002fextra\\u003e\",\"legendgroup\":\"\\u041f\\u043e\\u0441\\u0442\\u0430\\u043d\\u043e\\u0432\\u043b\\u0435\\u043d\\u0438\\u0435, \\u0440\\u0435\\u0433\\u0438\\u043e\\u043d\\u0430\\u043b\\u044c\\u043d\\u044b\\u0439 \\u0443\\u0440\\u043e\\u0432\\u0435\\u043d\\u044c, \\u0437\\u0430\\u043a\\u043e\\u043d\\u043e\\u0434\\u0430\\u0442\\u0435\\u043b\\u044c\\u043d\\u044b\\u0439 \\u043e\\u0440\\u0433\\u0430\\u043d\",\"marker\":{\"color\":\"#B6E880\",\"symbol\":\"circle\"},\"mode\":\"markers\",\"name\":\"\\u041f\\u043e\\u0441\\u0442\\u0430\\u043d\\u043e\\u0432\\u043b\\u0435\\u043d\\u0438\\u0435, \\u0440\\u0435\\u0433\\u0438\\u043e\\u043d\\u0430\\u043b\\u044c\\u043d\\u044b\\u0439 \\u0443\\u0440\\u043e\\u0432\\u0435\\u043d\\u044c, \\u0437\\u0430\\u043a\\u043e\\u043d\\u043e\\u0434\\u0430\\u0442\\u0435\\u043b\\u044c\\u043d\\u044b\\u0439 \\u043e\\u0440\\u0433\\u0430\\u043d\",\"showlegend\":true,\"x\":[-2.3473572731018066,-5.058331489562988,-6.068171501159668,-3.8569061756134033,-5.060789585113525,-2.0019021034240723,-3.2324020862579346,-6.042112350463867,-3.194988250732422,-3.3294405937194824,-5.746822834014893,-6.125625133514404,-3.3783769607543945,-3.229903221130371,-6.061649799346924,-3.6113808155059814,-6.0468549728393555,-3.0367512702941895,-2.057819128036499,-3.9013869762420654,-5.105954647064209,-3.3177976608276367,-5.049152851104736,-3.3881728649139404,-1.9961074590682983,-6.083407402038574,-2.2217743396759033,-5.794072151184082,-2.829519271850586,-3.8911967277526855,-3.279890298843384,-3.2958648204803467,-3.137688636779785,-3.199030637741089,-3.448765277862549,-5.045123100280762,-6.035716533660889,-5.724331855773926,-3.5428059101104736,-3.7146456241607666,-4.045564651489258,-3.555692195892334,-3.3342795372009277,-3.2391839027404785,-6.018721580505371,-3.3969578742980957,-3.7471749782562256,-3.4046757221221924,-2.07051944732666,-2.0143628120422363,-3.439757823944092,-3.457019805908203,-6.027191638946533,-5.06586217880249,-5.046011447906494,-1.9804844856262207,-4.853341102600098,6.70749044418335,-5.06380033493042,-3.2722854614257812,-6.040266513824463,-6.051485538482666,-6.017280578613281,-3.8546950817108154,-2.007581949234009,-3.371577262878418,-5.7823615074157715,-5.758200168609619,-3.233515739440918,-3.7312862873077393,-3.4378745555877686,-4.489768028259277,-3.2523345947265625,-2.458034038543701,-5.778144836425781,-5.053081512451172,-6.012906074523926,-5.764254093170166,-3.416348695755005,-2.6886050701141357,-3.18203067779541,-5.645759105682373,-5.176085472106934,-5.020198345184326,-6.044682025909424,-3.267676830291748,-5.072808742523193,-4.927343845367432,-3.2966713905334473,-5.736481666564941,-4.94086217880249,-3.314587116241455,-3.2776107788085938,-4.951167583465576,-6.028409957885742,-3.446873426437378,-5.785564422607422,-5.762161731719971,-4.146939754486084],\"xaxis\":\"x\",\"y\":[8.610891342163086,10.385865211486816,9.851715087890625,9.902533531188965,10.255505561828613,10.108304023742676,9.105243682861328,9.824463844299316,8.979686737060547,10.941299438476562,9.843950271606445,5.254993438720703,10.940014839172363,9.123693466186523,9.856931686401367,11.000308990478516,9.858963012695312,9.84717845916748,10.24591064453125,11.789889335632324,9.679830551147461,9.034918785095215,10.298727035522461,11.134757041931152,10.284239768981934,9.879413604736328,8.28176498413086,9.835412979125977,9.621003150939941,11.79846477508545,9.130362510681152,10.36715316772461,9.021937370300293,9.073224067687988,11.336750984191895,10.312050819396973,9.847740173339844,9.85305118560791,9.124517440795898,11.415145874023438,8.877951622009277,9.128121376037598,10.538657188415527,9.090368270874023,9.825355529785156,11.306967735290527,11.41859245300293,11.286161422729492,10.391359329223633,10.102558135986328,11.248673439025879,11.303608894348145,9.820828437805176,10.301862716674805,10.332358360290527,10.148688316345215,10.314274787902832,0.3228665888309479,10.205537796020508,9.126607894897461,9.772902488708496,9.804203033447266,9.789803504943848,10.40466022491455,10.104808807373047,11.196456909179688,9.830370903015137,9.829185485839844,9.088994979858398,11.390779495239258,11.294907569885254,10.516349792480469,9.099080085754395,8.595701217651367,9.856101989746094,10.419391632080078,9.828757286071777,9.839118957519531,11.31280517578125,9.689684867858887,9.155704498291016,9.113563537597656,10.441963195800781,10.320448875427246,9.848834037780762,9.138045310974121,10.282181739807129,10.366690635681152,9.109983444213867,9.856679916381836,9.369206428527832,10.467897415161133,9.132418632507324,9.351015090942383,9.844432830810547,11.290369033813477,9.985831260681152,9.849381446838379,8.860549926757812],\"yaxis\":\"y\",\"type\":\"scattergl\"},{\"hovertemplate\":\"\\u0412\\u0438\\u0434 \\u041d\\u041f\\u0410=\\u0420\\u0430\\u0441\\u043f\\u043e\\u0440\\u044f\\u0436\\u0435\\u043d\\u0438\\u0435, \\u0444\\u0435\\u0434\\u0435\\u0440\\u0430\\u043b\\u044c\\u043d\\u044b\\u0439 \\u0443\\u0440\\u043e\\u0432\\u0435\\u043d\\u044c, \\u0433\\u043b\\u0430\\u0432\\u0430 \\u0438\\u0441\\u043f\\u043e\\u043b\\u043d\\u0438\\u0442\\u0435\\u043b\\u044c\\u043d\\u043e\\u0439 \\u0432\\u043b\\u0430\\u0441\\u0442\\u0438\\u003cbr\\u003e0=%{x}\\u003cbr\\u003e1=%{y}\\u003cextra\\u003e\\u003c\\u002fextra\\u003e\",\"legendgroup\":\"\\u0420\\u0430\\u0441\\u043f\\u043e\\u0440\\u044f\\u0436\\u0435\\u043d\\u0438\\u0435, \\u0444\\u0435\\u0434\\u0435\\u0440\\u0430\\u043b\\u044c\\u043d\\u044b\\u0439 \\u0443\\u0440\\u043e\\u0432\\u0435\\u043d\\u044c, \\u0433\\u043b\\u0430\\u0432\\u0430 \\u0438\\u0441\\u043f\\u043e\\u043b\\u043d\\u0438\\u0442\\u0435\\u043b\\u044c\\u043d\\u043e\\u0439 \\u0432\\u043b\\u0430\\u0441\\u0442\\u0438\",\"marker\":{\"color\":\"#FF97FF\",\"symbol\":\"circle\"},\"mode\":\"markers\",\"name\":\"\\u0420\\u0430\\u0441\\u043f\\u043e\\u0440\\u044f\\u0436\\u0435\\u043d\\u0438\\u0435, \\u0444\\u0435\\u0434\\u0435\\u0440\\u0430\\u043b\\u044c\\u043d\\u044b\\u0439 \\u0443\\u0440\\u043e\\u0432\\u0435\\u043d\\u044c, \\u0433\\u043b\\u0430\\u0432\\u0430 \\u0438\\u0441\\u043f\\u043e\\u043b\\u043d\\u0438\\u0442\\u0435\\u043b\\u044c\\u043d\\u043e\\u0439 \\u0432\\u043b\\u0430\\u0441\\u0442\\u0438\",\"showlegend\":true,\"x\":[2.153785467147827,4.847675800323486,0.3840717375278473,4.828493118286133,7.296619892120361,7.341524600982666,5.324006080627441,7.319263458251953,7.268967628479004,7.35564661026001,4.561594486236572,5.935171604156494,5.877349376678467,7.280367851257324,3.2388198375701904,1.2537477016448975,7.217165946960449,7.410374641418457,7.02281379699707,3.522700071334839,3.9931905269622803,5.6511006355285645,6.3045172691345215,2.3420729637145996,4.118971824645996,7.207182884216309,4.098318099975586,4.728115081787109,5.103126049041748,3.9444215297698975,7.075690746307373,5.309308052062988,7.3009257316589355,4.125224590301514,5.863280296325684,7.024989604949951,7.272326469421387,3.5726096630096436,2.179910182952881,6.698445796966553,3.4391934871673584,5.096066951751709,2.0687615871429443,5.811005592346191,4.804699420928955,5.490376949310303,7.321345329284668,5.874948501586914,5.384104251861572,5.494856357574463,7.332784652709961,4.222988605499268,4.843499660491943,6.020340919494629,5.729677200317383,5.251000881195068,7.268713474273682,5.487856388092041,2.778723955154419,5.5513081550598145,7.304720401763916,5.487584590911865,5.093254089355469,5.520920753479004,5.233625888824463,5.02136754989624,5.496644496917725,1.0276094675064087,1.4628703594207764,1.0502302646636963,5.8275861740112305,4.088493347167969,5.514276027679443,5.258179664611816,6.7540364265441895,5.501461029052734,3.476797342300415,4.540726661682129,7.357036113739014,7.30659818649292,5.635193347930908,4.016002655029297,3.078507423400879,1.8187615871429443,4.202870845794678,5.359161376953125,5.478184700012207],\"xaxis\":\"x\",\"y\":[-3.7446095943450928,-5.900658130645752,-3.521618366241455,-5.894309997558594,-6.373733997344971,-6.385043621063232,-6.650497913360596,-6.367671966552734,-6.3534932136535645,-6.350758075714111,-6.058640480041504,-5.224526882171631,-5.190688610076904,-6.366534233093262,-4.617234230041504,-4.379185199737549,-6.34692907333374,-6.410734176635742,-6.0455546379089355,-5.501890659332275,-5.67273473739624,-5.1955976486206055,-6.147800445556641,-5.066883087158203,-5.677955150604248,-6.346733093261719,-4.408876419067383,-5.8651580810546875,-6.178072452545166,-5.647406578063965,-6.073660850524902,-6.0190110206604,-6.371919631958008,-4.422765731811523,-5.207251071929932,-6.106571674346924,-6.35948371887207,-4.668832778930664,-4.92007303237915,-6.199753761291504,-5.508053302764893,-5.832618236541748,-5.168111801147461,-5.2261433601379395,-5.935950756072998,-7.359094619750977,-6.367128372192383,-5.219648838043213,-6.1572465896606445,-7.446774005889893,-6.39624547958374,-4.4341325759887695,-5.961763858795166,-6.0788655281066895,-5.980345249176025,-5.949098587036133,-6.362393856048584,-7.4591593742370605,-5.415401935577393,-6.220658302307129,-6.371158599853516,-7.427520275115967,-5.838447570800781,-7.424596309661865,-6.448863506317139,-6.1484293937683105,-7.470232009887695,-4.405025005340576,-5.906017780303955,-4.416753768920898,-5.286194801330566,-4.2847161293029785,-7.402266502380371,-6.608012676239014,-6.204429626464844,-7.434061050415039,-5.4733452796936035,-5.77922248840332,-6.387510776519775,-6.371518611907959,-6.18463134765625,-5.654262542724609,-5.446177959442139,-4.841357231140137,-4.478754997253418,-6.038561820983887,-5.568179607391357],\"yaxis\":\"y\",\"type\":\"scattergl\"},{\"hovertemplate\":\"\\u0412\\u0438\\u0434 \\u041d\\u041f\\u0410=\\u041f\\u043e\\u0441\\u0442\\u0430\\u043d\\u043e\\u0432\\u043b\\u0435\\u043d\\u0438\\u0435, \\u0440\\u0435\\u0433\\u0438\\u043e\\u043d\\u0430\\u043b\\u044c\\u043d\\u044b\\u0439 \\u0443\\u0440\\u043e\\u0432\\u0435\\u043d\\u044c, \\u043e\\u0440\\u0433\\u0430\\u043d\\u044b \\u0438\\u0441\\u043f\\u043e\\u043b\\u043d\\u0438\\u0442\\u0435\\u043b\\u044c\\u043d\\u043e\\u0439 \\u0432\\u043b\\u0430\\u0441\\u0442\\u0438\\u003cbr\\u003e0=%{x}\\u003cbr\\u003e1=%{y}\\u003cextra\\u003e\\u003c\\u002fextra\\u003e\",\"legendgroup\":\"\\u041f\\u043e\\u0441\\u0442\\u0430\\u043d\\u043e\\u0432\\u043b\\u0435\\u043d\\u0438\\u0435, \\u0440\\u0435\\u0433\\u0438\\u043e\\u043d\\u0430\\u043b\\u044c\\u043d\\u044b\\u0439 \\u0443\\u0440\\u043e\\u0432\\u0435\\u043d\\u044c, \\u043e\\u0440\\u0433\\u0430\\u043d\\u044b \\u0438\\u0441\\u043f\\u043e\\u043b\\u043d\\u0438\\u0442\\u0435\\u043b\\u044c\\u043d\\u043e\\u0439 \\u0432\\u043b\\u0430\\u0441\\u0442\\u0438\",\"marker\":{\"color\":\"#FECB52\",\"symbol\":\"circle\"},\"mode\":\"markers\",\"name\":\"\\u041f\\u043e\\u0441\\u0442\\u0430\\u043d\\u043e\\u0432\\u043b\\u0435\\u043d\\u0438\\u0435, \\u0440\\u0435\\u0433\\u0438\\u043e\\u043d\\u0430\\u043b\\u044c\\u043d\\u044b\\u0439 \\u0443\\u0440\\u043e\\u0432\\u0435\\u043d\\u044c, \\u043e\\u0440\\u0433\\u0430\\u043d\\u044b \\u0438\\u0441\\u043f\\u043e\\u043b\\u043d\\u0438\\u0442\\u0435\\u043b\\u044c\\u043d\\u043e\\u0439 \\u0432\\u043b\\u0430\\u0441\\u0442\\u0438\",\"showlegend\":true,\"x\":[0.2612690329551697,-0.1931929886341095,0.4111458957195282,-0.5399415493011475,-0.623416543006897,-0.5753704905509949,-1.2064827680587769,-0.7100076079368591,0.512289822101593,-0.016577400267124176,-0.5525837540626526,-1.1056970357894897,0.01588704064488411,-0.07544706016778946,-0.5210444927215576,0.03857681155204773,0.5032949447631836,0.49735376238822937,-1.0624585151672363,0.4760728180408478,-0.6037378311157227,-0.06837064027786255,0.07317155599594116,0.04270913079380989,-0.48581236600875854,0.5545474886894226,0.5244342684745789,-0.28851833939552307,0.4951731860637665,0.034569356590509415,-0.01382134947925806,0.06545600295066833,0.08086264878511429,-0.2744421660900116,0.35174933075904846,-0.37826007604599,-0.019167186692357063,0.026400431990623474,-0.708390474319458,0.4690418839454651,0.11420159041881561,0.06612439453601837,0.3507918417453766,-0.02110155113041401,-0.12632860243320465,-0.5860682129859924,0.19955186545848846,0.5102805495262146,0.5177017450332642,0.6083023548126221,0.013808821327984333,0.023476073518395424,-0.6723913550376892,-0.4636499583721161,0.28467538952827454,0.10731639713048935,0.007399304304271936,-1.2126656770706177,0.1436556577682495,-0.4288965165615082,-0.6024746894836426,0.3697563707828522,0.02182779647409916,-0.16415734589099884,0.029084831476211548,0.3315967917442322,0.4599991738796234,0.5411495566368103,0.5246826410293579,-0.5942049622535706,-0.021080883219838142,0.29180118441581726,0.494432657957077],\"xaxis\":\"x\",\"y\":[5.092308521270752,6.610245227813721,6.286375999450684,2.2611095905303955,1.4456453323364258,5.955594062805176,6.310440540313721,5.444474220275879,6.493069648742676,4.076486587524414,5.373683929443359,6.291348457336426,4.02421236038208,6.129415512084961,5.970414161682129,4.083736419677734,6.4794206619262695,6.475595474243164,6.216126918792725,6.441863536834717,1.9074701070785522,6.164486885070801,3.9946491718292236,3.99086332321167,5.7290120124816895,6.531537055969238,6.49774169921875,5.197126865386963,6.464552879333496,3.974851369857788,3.0812456607818604,4.105666160583496,4.13288688659668,6.038497447967529,6.308957099914551,5.243334770202637,4.137681007385254,4.269378185272217,5.30063533782959,6.440960884094238,6.3293538093566895,4.122621536254883,4.887736797332764,4.06265926361084,4.17641019821167,5.423736572265625,5.0394392013549805,6.489897727966309,6.492817401885986,6.579331874847412,3.89493989944458,3.9357192516326904,5.284816265106201,5.953115463256836,5.066694259643555,4.096103191375732,4.030813217163086,6.245175361633301,5.080978870391846,5.883822441101074,5.925206184387207,6.241257667541504,4.0645036697387695,6.649107456207275,3.958446741104126,6.283068656921387,5.111374855041504,6.515356063842773,6.502230644226074,5.929943561553955,4.0802741050720215,5.1303629875183105,6.459225654602051],\"yaxis\":\"y\",\"type\":\"scattergl\"},{\"hovertemplate\":\"\\u0412\\u0438\\u0434 \\u041d\\u041f\\u0410=\\u0423\\u043a\\u0430\\u0437, \\u0440\\u0435\\u0433\\u0438\\u043e\\u043d\\u0430\\u043b\\u044c\\u043d\\u044b\\u0439 \\u0443\\u0440\\u043e\\u0432\\u0435\\u043d\\u044c, \\u0433\\u043b\\u0430\\u0432\\u0430 \\u0438\\u0441\\u043f\\u043e\\u043b\\u043d\\u0438\\u0442\\u0435\\u043b\\u044c\\u043d\\u043e\\u0439 \\u0432\\u043b\\u0430\\u0441\\u0442\\u0438\\u003cbr\\u003e0=%{x}\\u003cbr\\u003e1=%{y}\\u003cextra\\u003e\\u003c\\u002fextra\\u003e\",\"legendgroup\":\"\\u0423\\u043a\\u0430\\u0437, \\u0440\\u0435\\u0433\\u0438\\u043e\\u043d\\u0430\\u043b\\u044c\\u043d\\u044b\\u0439 \\u0443\\u0440\\u043e\\u0432\\u0435\\u043d\\u044c, \\u0433\\u043b\\u0430\\u0432\\u0430 \\u0438\\u0441\\u043f\\u043e\\u043b\\u043d\\u0438\\u0442\\u0435\\u043b\\u044c\\u043d\\u043e\\u0439 \\u0432\\u043b\\u0430\\u0441\\u0442\\u0438\",\"marker\":{\"color\":\"#636efa\",\"symbol\":\"circle\"},\"mode\":\"markers\",\"name\":\"\\u0423\\u043a\\u0430\\u0437, \\u0440\\u0435\\u0433\\u0438\\u043e\\u043d\\u0430\\u043b\\u044c\\u043d\\u044b\\u0439 \\u0443\\u0440\\u043e\\u0432\\u0435\\u043d\\u044c, \\u0433\\u043b\\u0430\\u0432\\u0430 \\u0438\\u0441\\u043f\\u043e\\u043b\\u043d\\u0438\\u0442\\u0435\\u043b\\u044c\\u043d\\u043e\\u0439 \\u0432\\u043b\\u0430\\u0441\\u0442\\u0438\",\"showlegend\":true,\"x\":[-4.755713939666748,-4.388888835906982,-4.65822172164917,-6.554769515991211,-2.8461203575134277,-3.4080731868743896,-5.645598888397217,-4.200791835784912,0.9397284388542175,-6.078151702880859,-5.775157451629639,-6.048276901245117,-4.426615238189697,-4.735177040100098,-4.222543716430664,-6.358705520629883,-5.778500556945801,-6.844839572906494,-4.049563407897949,1.031016230583191,-5.245250701904297,-3.8910977840423584,-4.9601593017578125,-2.738661289215088,-5.716960430145264,-6.483661651611328,-5.603090763092041,-5.908169269561768,-5.218835353851318,-3.8362302780151367,-4.851475715637207,-6.142618656158447,-4.310436725616455,-4.788779258728027,-6.101730823516846,-5.529810905456543,-4.1951003074646,-3.4112751483917236,-4.629129409790039,2.910203695297241,-3.3151607513427734,-5.881651878356934,-4.731446743011475,-5.540439128875732,-6.275870323181152,-2.8702242374420166,-3.782241106033325,-4.9846930503845215,-3.815138578414917,-3.267868757247925,-5.608860969543457,-5.650425434112549,-4.747054576873779,-4.196052551269531,-5.888044834136963,-5.623735427856445,-2.6073286533355713,-2.6889708042144775,-0.9130586385726929,-5.991785526275635,-2.5452260971069336,-4.2764997482299805,-3.9366421699523926,-2.817673444747925,-3.8543357849121094,-4.701234817504883,-4.450735569000244,-5.836097717285156,-6.272232532501221,-2.12294602394104,-4.560858249664307,-6.473029613494873,-2.5723440647125244,-4.58170747756958,-5.694608211517334,-2.738461494445801,-5.791193008422852,-3.871750831604004,-4.224648475646973,1.1315252780914307,-6.708227634429932,-3.70707106590271,3.2418863773345947,-3.296748399734497,-6.28284215927124],\"xaxis\":\"x\",\"y\":[0.22529913485050201,0.5499268174171448,0.34695589542388916,-0.13616390526294708,-0.7212697863578796,-0.6047389507293701,0.2940225601196289,0.1629929393529892,-3.251819133758545,0.5538966655731201,3.2426750659942627,-0.5604339241981506,0.4760900139808655,-0.3745921850204468,0.020171577110886574,-0.09583602845668793,0.31079939007759094,1.921873688697815,0.5932354927062988,-3.0175845623016357,0.015435686334967613,-0.3574601411819458,-0.28625980019569397,-0.8870928287506104,3.2355494499206543,0.2218700349330902,2.9769749641418457,0.22717244923114777,0.00985926203429699,-0.4972039759159088,0.2019551694393158,-0.5775855779647827,0.4814218580722809,0.256013959646225,0.545289933681488,2.8626644611358643,-0.45478901267051697,-0.5691040754318237,0.3959169089794159,8.826346397399902,-2.031543493270874,0.15317215025424957,-0.2037394493818283,2.8776447772979736,4.597861289978027,-0.6053853034973145,-0.5647556781768799,-0.2220451533794403,-0.6243190169334412,-1.9321776628494263,2.992138385772705,0.24800945818424225,0.6459821462631226,0.7463684678077698,-0.5465450286865234,-0.32353726029396057,-0.8928636908531189,-0.8710514903068542,-3.8615822792053223,-0.6170217394828796,-0.7481590509414673,-0.3734678030014038,-0.41356799006462097,-0.8228021264076233,-0.05033356696367264,0.5153525471687317,-0.39631187915802,0.3042363226413727,3.980123519897461,-1.0489810705184937,0.23563788831233978,-0.1705721616744995,-0.786970853805542,-0.3687644302845001,0.22388847172260284,-0.845653772354126,0.10189267992973328,0.33695346117019653,-0.46471917629241943,-3.1328165531158447,-0.4973304867744446,-0.507537841796875,9.89113998413086,-1.9320012331008911,-0.5367814898490906],\"yaxis\":\"y\",\"type\":\"scattergl\"},{\"hovertemplate\":\"\\u0412\\u0438\\u0434 \\u041d\\u041f\\u0410=\\u041f\\u0440\\u0438\\u043a\\u0430\\u0437, \\u0444\\u0435\\u0434\\u0435\\u0440\\u0430\\u043b\\u044c\\u043d\\u044b\\u0439 \\u0443\\u0440\\u043e\\u0432\\u0435\\u043d\\u044c, \\u043e\\u0440\\u0433\\u0430\\u043d\\u044b \\u0438\\u0441\\u043f\\u043e\\u043b\\u043d\\u0438\\u0442\\u0435\\u043b\\u044c\\u043d\\u043e\\u0439 \\u0432\\u043b\\u0430\\u0441\\u0442\\u0438\\u003cbr\\u003e0=%{x}\\u003cbr\\u003e1=%{y}\\u003cextra\\u003e\\u003c\\u002fextra\\u003e\",\"legendgroup\":\"\\u041f\\u0440\\u0438\\u043a\\u0430\\u0437, \\u0444\\u0435\\u0434\\u0435\\u0440\\u0430\\u043b\\u044c\\u043d\\u044b\\u0439 \\u0443\\u0440\\u043e\\u0432\\u0435\\u043d\\u044c, \\u043e\\u0440\\u0433\\u0430\\u043d\\u044b \\u0438\\u0441\\u043f\\u043e\\u043b\\u043d\\u0438\\u0442\\u0435\\u043b\\u044c\\u043d\\u043e\\u0439 \\u0432\\u043b\\u0430\\u0441\\u0442\\u0438\",\"marker\":{\"color\":\"#EF553B\",\"symbol\":\"circle\"},\"mode\":\"markers\",\"name\":\"\\u041f\\u0440\\u0438\\u043a\\u0430\\u0437, \\u0444\\u0435\\u0434\\u0435\\u0440\\u0430\\u043b\\u044c\\u043d\\u044b\\u0439 \\u0443\\u0440\\u043e\\u0432\\u0435\\u043d\\u044c, \\u043e\\u0440\\u0433\\u0430\\u043d\\u044b \\u0438\\u0441\\u043f\\u043e\\u043b\\u043d\\u0438\\u0442\\u0435\\u043b\\u044c\\u043d\\u043e\\u0439 \\u0432\\u043b\\u0430\\u0441\\u0442\\u0438\",\"showlegend\":true,\"x\":[-1.0792690515518188,-2.6834371089935303,-5.183598518371582,-1.0402863025665283,-2.195666551589966,-4.492515563964844,-1.142818570137024,-3.0343501567840576,-5.171491622924805,-1.0228360891342163,-4.73897647857666,-1.0879311561584473,1.043750286102295,-1.7564129829406738,-1.0669007301330566,-0.6619027853012085,-5.469537258148193,-5.483635425567627,-5.372142791748047,-1.8248820304870605,-5.093114852905273,-0.8856913447380066,-4.370542526245117,-2.7577896118164062,-3.4573559761047363,1.4365477561950684,-4.94368839263916,-3.7111799716949463,-0.9587459564208984,-1.6368556022644043,-3.34971284866333,-1.2374838590621948,-2.451967716217041,-1.636733055114746,-5.366799831390381,-4.979090690612793,-5.113442420959473,-5.536201000213623,-5.11008358001709,-5.390506267547607,-3.0510647296905518,-1.3936034440994263,-1.0538661479949951,1.3789668083190918,-5.592467784881592,-4.337581157684326,-2.833189010620117,-2.5602831840515137,-0.8519247174263,-1.4323997497558594,-3.9807419776916504,-1.459655523300171,-4.067909240722656,-5.165117263793945,-5.4615983963012695,-5.359516620635986,-2.7850089073181152,-2.378793716430664,-5.030895233154297,-2.700727939605713,-3.9923064708709717,-4.905208587646484,-5.116602897644043,-5.180340766906738,-5.3414459228515625,-1.3380337953567505,-2.344560384750366,-2.470980644226074,-3.483745813369751,-2.3592171669006348,-1.546034336090088,-3.7366795539855957,-5.568480968475342,-2.1533234119415283,-5.7513346672058105,-2.334780216217041,-3.212035655975342,-5.080952167510986,-1.013166069984436,-3.911311388015747,-4.352000713348389,-2.3857011795043945,-4.961581230163574,-1.0720947980880737,-2.4104294776916504,-4.377481460571289,-4.960773468017578,-5.2376604080200195,-1.023653268814087,-1.0799518823623657,-1.1745870113372803,-0.9695977568626404,-5.15395975112915,-0.949701726436615,-2.6716532707214355,-3.5898172855377197,-4.451581001281738,-3.0891573429107666,-2.760847330093384,-5.243907928466797,-3.508446216583252,-4.487685203552246,-3.833562135696411,-4.448344707489014,-4.570776462554932,-2.690453052520752,-3.932016611099243,-5.850171089172363,-4.310839653015137,-0.9917667508125305,-1.48298180103302,-5.623308181762695,-2.370640754699707,-2.107447385787964,-4.649810791015625,-3.3874330520629883],\"xaxis\":\"x\",\"y\":[-9.997318267822266,-9.062788963317871,-9.497325897216797,-10.019632339477539,-9.51732349395752,-10.684431076049805,-9.998483657836914,-9.119576454162598,-9.598457336425781,-9.865248680114746,-10.335201263427734,-9.923276901245117,-4.526815414428711,-9.717813491821289,-9.893180847167969,-10.195608139038086,-9.583003997802734,-9.55307674407959,-9.47385025024414,-9.93917179107666,-9.38449764251709,-9.918861389160156,-10.395655632019043,-10.035684585571289,-8.368428230285645,-4.74466609954834,-9.534175872802734,-7.706495761871338,-9.868687629699707,-9.883267402648926,-10.16146469116211,-9.885869979858398,-9.252161026000977,-9.91732120513916,-9.564098358154297,-9.34957504272461,-9.56089973449707,-9.583788871765137,-9.36585521697998,-10.110937118530273,-8.823600769042969,-10.124380111694336,-9.996362686157227,-4.809327125549316,-9.001326560974121,-10.40330696105957,-9.211531639099121,-9.250296592712402,-9.891117095947266,-9.99853229522705,-4.773225784301758,-9.950520515441895,-10.983258247375488,-9.517619132995605,-9.555007934570312,-9.604293823242188,-9.826154708862305,-9.523651123046875,-9.487053871154785,-9.093323707580566,-10.40754222869873,-10.542608261108398,-9.42848014831543,-9.574158668518066,-9.609689712524414,-10.079035758972168,-9.382129669189453,-9.514607429504395,-9.649924278259277,-9.584917068481445,-9.605635643005371,-7.206571102142334,-9.65855884552002,-9.611452102661133,-9.280898094177246,-9.574981689453125,-10.565596580505371,-9.213935852050781,-10.003764152526855,-6.061100959777832,-10.67643928527832,-9.524212837219238,-10.51308536529541,-9.986650466918945,-9.360918045043945,-10.627734184265137,-10.84568977355957,-9.490184783935547,-10.002448081970215,-10.013916015625,-10.004901885986328,-9.868199348449707,-9.265788078308105,-10.017541885375977,-8.942999839782715,-9.991419792175293,-10.721243858337402,-9.809478759765625,-9.364102363586426,-10.847020149230957,-10.129312515258789,-10.612113952636719,-7.434308052062988,-10.71080493927002,-8.903738975524902,-9.098714828491211,-10.24977970123291,-9.27941608428955,-10.186909675598145,-9.901426315307617,-9.982318878173828,-9.564109802246094,-9.515756607055664,-9.71138858795166,-10.487451553344727,-10.43384838104248],\"yaxis\":\"y\",\"type\":\"scattergl\"},{\"hovertemplate\":\"\\u0412\\u0438\\u0434 \\u041d\\u041f\\u0410=\\u0420\\u0430\\u0441\\u043f\\u043e\\u0440\\u044f\\u0436\\u0435\\u043d\\u0438\\u0435, \\u0440\\u0435\\u0433\\u0438\\u043e\\u043d\\u0430\\u043b\\u044c\\u043d\\u044b\\u0439 \\u0443\\u0440\\u043e\\u0432\\u0435\\u043d\\u044c, \\u0433\\u043b\\u0430\\u0432\\u0430 \\u0438\\u0441\\u043f\\u043e\\u043b\\u043d\\u0438\\u0442\\u0435\\u043b\\u044c\\u043d\\u043e\\u0439 \\u0432\\u043b\\u0430\\u0441\\u0442\\u0438\\u003cbr\\u003e0=%{x}\\u003cbr\\u003e1=%{y}\\u003cextra\\u003e\\u003c\\u002fextra\\u003e\",\"legendgroup\":\"\\u0420\\u0430\\u0441\\u043f\\u043e\\u0440\\u044f\\u0436\\u0435\\u043d\\u0438\\u0435, \\u0440\\u0435\\u0433\\u0438\\u043e\\u043d\\u0430\\u043b\\u044c\\u043d\\u044b\\u0439 \\u0443\\u0440\\u043e\\u0432\\u0435\\u043d\\u044c, \\u0433\\u043b\\u0430\\u0432\\u0430 \\u0438\\u0441\\u043f\\u043e\\u043b\\u043d\\u0438\\u0442\\u0435\\u043b\\u044c\\u043d\\u043e\\u0439 \\u0432\\u043b\\u0430\\u0441\\u0442\\u0438\",\"marker\":{\"color\":\"#00cc96\",\"symbol\":\"circle\"},\"mode\":\"markers\",\"name\":\"\\u0420\\u0430\\u0441\\u043f\\u043e\\u0440\\u044f\\u0436\\u0435\\u043d\\u0438\\u0435, \\u0440\\u0435\\u0433\\u0438\\u043e\\u043d\\u0430\\u043b\\u044c\\u043d\\u044b\\u0439 \\u0443\\u0440\\u043e\\u0432\\u0435\\u043d\\u044c, \\u0433\\u043b\\u0430\\u0432\\u0430 \\u0438\\u0441\\u043f\\u043e\\u043b\\u043d\\u0438\\u0442\\u0435\\u043b\\u044c\\u043d\\u043e\\u0439 \\u0432\\u043b\\u0430\\u0441\\u0442\\u0438\",\"showlegend\":true,\"x\":[3.664067029953003,4.319634437561035,3.3331480026245117,3.409914970397949,0.0314810536801815,4.374217510223389,1.0690494775772095,4.461716175079346,4.441225051879883,2.0720202922821045,3.3166444301605225,4.559876441955566,4.101608753204346,3.6740076541900635,0.46253225207328796,-0.03152751922607422,4.350111484527588,4.007929801940918,4.415831565856934,-0.7310928702354431,-0.845205545425415,3.2760462760925293,1.8705464601516724,4.692878723144531,2.07646107673645,2.7362060546875,-0.9133913516998291,4.358747959136963,2.0859646797180176,-2.99176287651062,4.440442085266113,1.6645194292068481,5.033323764801025,4.930620193481445,4.586202621459961,3.4290261268615723,4.215754985809326,3.64142107963562,4.3881731033325195,3.634232759475708,3.0226080417633057,0.16082166135311127,0.9371176958084106,4.169051170349121,4.490482330322266,4.5145697593688965,2.2115859985351562,4.62380838394165,1.584834337234497,4.501877307891846,3.979490280151367,3.2977969646453857,4.768202781677246,1.9190771579742432,4.4528703689575195,0.14224137365818024,4.464175701141357,4.459395408630371,-0.7497866153717041,4.35024881362915,4.261746883392334,4.3961873054504395,0.6094987988471985,4.4400153160095215,4.670834064483643,3.3175439834594727,4.40748929977417,1.0163867473602295,1.870100975036621,4.185274600982666,0.07439595460891724,3.022251605987549,4.386524677276611,4.1032795906066895,1.8961023092269897,4.977609634399414,3.3197224140167236,4.577147960662842,4.065213203430176,4.394845962524414,3.709960460662842,-3.3540995121002197,2.3770713806152344,4.176907062530518,0.5688881874084473,3.0219032764434814,4.178628921508789,4.384492874145508,4.610252380371094,0.03141019865870476,4.193325996398926,1.7588664293289185,1.0649144649505615,5.106732368469238,3.3838915824890137,-0.8531768321990967,4.392914772033691,4.91337776184082,0.07894487679004669,1.6146032810211182,4.3067145347595215,3.446577787399292,3.3185908794403076,4.179591178894043,2.9947962760925293,4.09079122543335,4.212198734283447,3.4351377487182617,-0.4609677195549011,4.226124286651611,3.3687779903411865,4.357617378234863,0.604566752910614,4.097827911376953,4.477252006530762,2.691848039627075],\"xaxis\":\"x\",\"y\":[4.9828925132751465,3.4467804431915283,2.4065120220184326,2.6073453426361084,0.32418662309646606,4.241100788116455,-4.377267360687256,5.093998908996582,5.07629919052124,0.8650219440460205,2.435647964477539,5.134599685668945,3.2231040000915527,3.744492769241333,-2.958306312561035,-2.0495455265045166,3.428497314453125,3.274432897567749,5.130804061889648,-2.9056689739227295,-2.806793451309204,5.087851524353027,0.1544313132762909,4.775941371917725,-3.792290449142456,1.7582381963729858,-2.5848748683929443,4.200825214385986,0.7136796712875366,-0.6027482748031616,4.302323818206787,-2.58732533454895,5.913874626159668,5.836964130401611,4.7412261962890625,2.64557147026062,4.686559677124023,3.864555835723877,5.214673042297363,5.231130123138428,5.055312633514404,-3.354879140853882,-1.3367793560028076,4.747488975524902,5.087676525115967,5.396316051483154,0.6284981369972229,-0.5004798769950867,0.12759751081466675,5.094433307647705,2.9907915592193604,2.4132556915283203,4.847296237945557,-2.374229907989502,4.127134323120117,-1.8954401016235352,5.040944576263428,4.221261978149414,-2.919192314147949,3.448198080062866,5.273549556732178,5.217957973480225,-1.871251106262207,5.170449733734131,4.723118782043457,2.307657480239868,5.223133563995361,-1.2219898700714111,0.739121675491333,3.619476318359375,0.3523368537425995,5.0577592849731445,5.30389928817749,3.4184584617614746,-2.378117322921753,5.858611106872559,2.3063573837280273,4.756988525390625,5.3394317626953125,3.4329185485839844,4.851263999938965,-2.0033907890319824,0.2860707938671112,4.765780925750732,1.1381816864013672,5.070878982543945,3.3854289054870605,5.090498924255371,4.6489057540893555,0.2968654930591583,4.732094764709473,0.6961567997932434,1.15849769115448,5.929231643676758,2.545780897140503,-4.078367233276367,3.333669424057007,5.818065166473389,-1.2378275394439697,0.5880534648895264,3.4726510047912598,5.257711887359619,2.3043112754821777,4.71372652053833,5.0011982917785645,4.764100074768066,4.705086708068848,2.6516897678375244,-2.7844316959381104,4.708225250244141,2.407374858856201,4.214094638824463,1.1397665739059448,4.7925825119018555,5.180305480957031,1.7399423122406006],\"yaxis\":\"y\",\"type\":\"scattergl\"},{\"hovertemplate\":\"\\u0412\\u0438\\u0434 \\u041d\\u041f\\u0410=\\u0417\\u0430\\u043a\\u043e\\u043d, \\u0444\\u0435\\u0434\\u0435\\u0440\\u0430\\u043b\\u044c\\u043d\\u044b\\u0439 \\u0443\\u0440\\u043e\\u0432\\u0435\\u043d\\u044c, \\u0437\\u0430\\u043a\\u043e\\u043d\\u043e\\u0434\\u0430\\u0442\\u0435\\u043b\\u044c\\u043d\\u044b\\u0439 \\u043e\\u0440\\u0433\\u0430\\u043d\\u003cbr\\u003e0=%{x}\\u003cbr\\u003e1=%{y}\\u003cextra\\u003e\\u003c\\u002fextra\\u003e\",\"legendgroup\":\"\\u0417\\u0430\\u043a\\u043e\\u043d, \\u0444\\u0435\\u0434\\u0435\\u0440\\u0430\\u043b\\u044c\\u043d\\u044b\\u0439 \\u0443\\u0440\\u043e\\u0432\\u0435\\u043d\\u044c, \\u0437\\u0430\\u043a\\u043e\\u043d\\u043e\\u0434\\u0430\\u0442\\u0435\\u043b\\u044c\\u043d\\u044b\\u0439 \\u043e\\u0440\\u0433\\u0430\\u043d\",\"marker\":{\"color\":\"#ab63fa\",\"symbol\":\"circle\"},\"mode\":\"markers\",\"name\":\"\\u0417\\u0430\\u043a\\u043e\\u043d, \\u0444\\u0435\\u0434\\u0435\\u0440\\u0430\\u043b\\u044c\\u043d\\u044b\\u0439 \\u0443\\u0440\\u043e\\u0432\\u0435\\u043d\\u044c, \\u0437\\u0430\\u043a\\u043e\\u043d\\u043e\\u0434\\u0430\\u0442\\u0435\\u043b\\u044c\\u043d\\u044b\\u0439 \\u043e\\u0440\\u0433\\u0430\\u043d\",\"showlegend\":true,\"x\":[10.41076374053955,10.621459007263184,11.104208946228027,11.106621742248535,12.229804039001465,12.091432571411133,8.361237525939941,9.68298625946045,11.412550926208496,9.87344741821289,11.087339401245117,11.679555892944336,8.12441635131836,9.822237014770508,11.199898719787598,9.76689624786377,10.536166191101074,11.309375762939453,11.16576862335205,12.879875183105469,8.333499908447266,12.157262802124023,11.794391632080078,9.920571327209473,9.639527320861816,12.291728019714355,12.064669609069824,12.32157039642334,12.922861099243164,8.171272277832031,10.459712982177734,11.54894733428955,12.492705345153809,12.381932258605957,12.390094757080078,9.570446014404297,12.071395874023438,8.083833694458008,11.629785537719727,9.63578987121582,11.484435081481934,10.913549423217773,11.156302452087402,11.045186996459961,11.33405876159668,8.114580154418945,10.973616600036621,10.915457725524902,12.409903526306152,9.686448097229004,9.836859703063965,11.17311954498291,8.346939086914062,9.31729793548584,12.024534225463867,11.739251136779785,10.766996383666992,12.422800064086914,8.146591186523438,9.687508583068848,9.797491073608398,8.184473037719727,12.312134742736816,12.71973705291748,8.639677047729492,9.609870910644531,8.29175853729248,11.280714988708496,8.47143840789795,12.899465560913086,9.80982494354248,9.610372543334961,11.9473876953125,10.534173011779785,12.05793285369873,11.988813400268555,10.73874568939209,9.330777168273926,12.227744102478027,12.596508026123047,12.359221458435059,11.393943786621094,9.980226516723633,9.843342781066895,11.450901985168457,11.016728401184082,9.873847961425781,9.686922073364258,9.616287231445312,9.564679145812988,9.14287281036377,9.754435539245605,12.287323951721191,11.464975357055664,11.498266220092773,11.369794845581055,11.914154052734375,12.022832870483398,9.716168403625488,12.034808158874512,12.50610065460205,9.619009971618652,9.701547622680664,11.911189079284668,9.696247100830078,10.134822845458984,11.304708480834961,9.881979942321777,9.552671432495117,10.972746849060059,8.13498306274414,10.155923843383789,9.481916427612305,8.726255416870117,12.19029426574707],\"xaxis\":\"x\",\"y\":[-1.048799753189087,-1.7533693313598633,-1.8103998899459839,0.20344321429729462,-1.2662029266357422,-0.31774958968162537,-2.8095204830169678,-2.3960883617401123,-0.9248730540275574,-2.2014498710632324,-0.6488742232322693,-0.3946295976638794,-2.7764132022857666,-2.3374760150909424,-0.9169093370437622,-2.344961404800415,-1.5628329515457153,-0.9277628660202026,-1.314098596572876,-1.9167944192886353,-2.853328227996826,-0.5021646618843079,-1.6884735822677612,-2.1975293159484863,-2.4830381870269775,-1.5374977588653564,-0.8326098322868347,-0.9245734214782715,-1.7246719598770142,-2.779240846633911,-2.1051502227783203,-1.1884570121765137,-1.6011868715286255,-1.537812352180481,-0.3162439465522766,-2.4567959308624268,-1.0483759641647339,-2.8676905632019043,-0.6236268877983093,-2.5124123096466064,-0.7633028626441956,-1.4530218839645386,-1.3316528797149658,-1.4089840650558472,-0.9058276414871216,-2.7539825439453125,-1.9665913581848145,-1.4830964803695679,-1.7370476722717285,-2.4962499141693115,-2.2809154987335205,-2.1856911182403564,-2.843751907348633,-1.7708611488342285,-1.6144756078720093,-0.5213003754615784,-0.7175251841545105,-1.5445609092712402,-2.757807970046997,-2.4137015342712402,-2.66465425491333,-2.714195966720581,-1.542524814605713,-2.4930641651153564,-3.1891002655029297,-2.5182459354400635,-2.7874486446380615,-0.9678281545639038,-2.8945629596710205,-1.7419195175170898,-2.6020336151123047,-2.3314638137817383,-1.5997506380081177,-1.6115520000457764,-1.4565365314483643,-0.9264969229698181,-1.6927528381347656,-1.6631418466567993,-1.2660691738128662,-0.5203347206115723,-0.35300517082214355,-0.18339061737060547,-1.5190562009811401,-2.253200054168701,-0.550128161907196,-1.5735924243927002,-2.5726304054260254,-2.335026264190674,-2.4424076080322266,-2.4775173664093018,-2.057168483734131,-2.308908700942993,-1.4718388319015503,-1.7213702201843262,-0.8077152371406555,0.11027835309505463,-0.9267544746398926,-0.7300064563751221,-2.4672434329986572,-0.7148659825325012,-1.5626335144042969,-2.4917452335357666,-2.496825695037842,-1.8839832544326782,-2.4882194995880127,-2.045461654663086,0.15774111449718475,-2.284254789352417,-2.5653796195983887,-1.0207527875900269,-2.7469258308410645,-2.0706143379211426,-1.7852528095245361,-2.686046838760376,-1.759678602218628],\"yaxis\":\"y\",\"type\":\"scattergl\"},{\"hovertemplate\":\"\\u0412\\u0438\\u0434 \\u041d\\u041f\\u0410=\\u041f\\u043e\\u0441\\u0442\\u0430\\u043d\\u043e\\u0432\\u043b\\u0435\\u043d\\u0438\\u0435, \\u0440\\u0435\\u0433\\u0438\\u043e\\u043d\\u0430\\u043b\\u044c\\u043d\\u044b\\u0439 \\u0443\\u0440\\u043e\\u0432\\u0435\\u043d\\u044c, \\u043f\\u0440\\u0430\\u0432\\u0438\\u0442\\u0435\\u043b\\u044c\\u0441\\u0442\\u0432\\u043e\\u003cbr\\u003e0=%{x}\\u003cbr\\u003e1=%{y}\\u003cextra\\u003e\\u003c\\u002fextra\\u003e\",\"legendgroup\":\"\\u041f\\u043e\\u0441\\u0442\\u0430\\u043d\\u043e\\u0432\\u043b\\u0435\\u043d\\u0438\\u0435, \\u0440\\u0435\\u0433\\u0438\\u043e\\u043d\\u0430\\u043b\\u044c\\u043d\\u044b\\u0439 \\u0443\\u0440\\u043e\\u0432\\u0435\\u043d\\u044c, \\u043f\\u0440\\u0430\\u0432\\u0438\\u0442\\u0435\\u043b\\u044c\\u0441\\u0442\\u0432\\u043e\",\"marker\":{\"color\":\"#FFA15A\",\"symbol\":\"circle\"},\"mode\":\"markers\",\"name\":\"\\u041f\\u043e\\u0441\\u0442\\u0430\\u043d\\u043e\\u0432\\u043b\\u0435\\u043d\\u0438\\u0435, \\u0440\\u0435\\u0433\\u0438\\u043e\\u043d\\u0430\\u043b\\u044c\\u043d\\u044b\\u0439 \\u0443\\u0440\\u043e\\u0432\\u0435\\u043d\\u044c, \\u043f\\u0440\\u0430\\u0432\\u0438\\u0442\\u0435\\u043b\\u044c\\u0441\\u0442\\u0432\\u043e\",\"showlegend\":true,\"x\":[1.1400948762893677,-4.910667419433594,0.7807868123054504,-2.937560558319092,-2.9947726726531982,-1.7868385314941406,-5.824645519256592,-0.010052485391497612,-4.474343299865723,-2.9513092041015625,-2.55989933013916,-4.324073791503906,1.2372872829437256,-2.013733148574829,-4.947380065917969,-4.552477836608887,-4.272150993347168,-2.898392915725708,-2.7963621616363525,-4.2450852394104,-4.428197383880615,-5.087451457977295,-4.741505146026611,-3.2872042655944824,-5.9682183265686035,-2.677103042602539,-4.359146595001221,-5.459303855895996,-4.22432279586792,-4.658087253570557,-4.929164886474609,-3.2102291584014893,-3.0400259494781494,-3.7396554946899414,-4.313399314880371,-0.5817568302154541,-3.591458320617676,-3.076942205429077,-4.366217613220215,-2.0387744903564453,-2.7385964393615723,-4.988640308380127,-3.0326786041259766,-3.2239863872528076,-0.8465748429298401,-5.336174488067627,-2.126795530319214,-3.7461929321289062,-3.696007251739502,-3.783906936645508,-3.227799415588379,-4.466146469116211,-2.1861910820007324,-4.6304707527160645,-3.2135677337646484,-4.591460704803467,-1.756023645401001,-4.420564651489258,-4.727305889129639,-1.8191332817077637,-2.9404919147491455,-2.7612497806549072,-1.6902458667755127,-0.26305732131004333,-2.7945573329925537,-2.4996285438537598,-5.381696701049805,-4.139112949371338,-5.132321357727051,-2.77902889251709,-3.0605804920196533,-0.6895040273666382,-2.690844774246216,-3.217043876647949,-3.033726453781128,-1.8057832717895508,-3.3875558376312256,-3.9587509632110596,-3.176910877227783,-2.8663480281829834,-1.0549026727676392,0.5429835319519043,-0.009931972250342369,-2.3016395568847656,-1.3482067584991455,-3.3792455196380615,-5.891330242156982,-3.256563186645508,-4.2282562255859375,-3.9547369480133057,-2.75911021232605,-3.2575442790985107,-3.543109655380249,-3.652193307876587,-2.6872973442077637,-3.5780506134033203,-4.2895050048828125,-2.7504405975341797],\"xaxis\":\"x\",\"y\":[-2.929741382598877,5.496978759765625,-4.151611328125,3.7770066261291504,3.7604520320892334,3.2060959339141846,3.7631373405456543,3.0092878341674805,5.204020977020264,3.79244065284729,-3.0478930473327637,6.237412452697754,-1.97221040725708,3.1552493572235107,5.462717056274414,5.883889675140381,5.627677917480469,4.837406635284424,3.833394765853882,5.893416881561279,5.021409034729004,5.537705421447754,5.595987796783447,4.614972114562988,3.8024730682373047,3.6817827224731445,5.941995620727539,5.612526893615723,5.978100776672363,5.671824932098389,5.65572452545166,4.8643598556518555,3.9397196769714355,4.931931018829346,5.357600212097168,-0.7720755338668823,5.056946277618408,4.9364752769470215,5.332297325134277,3.8383429050445557,3.738208055496216,5.50842809677124,3.3497564792633057,3.818251609802246,0.43474966287612915,5.6167497634887695,3.35170578956604,4.955179691314697,5.304040431976318,5.445609092712402,4.788660049438477,5.431363105773926,3.2619845867156982,5.225037574768066,4.601957321166992,5.717466354370117,3.1580522060394287,5.362800598144531,6.144721031188965,4.08472204208374,3.7998533248901367,3.977579355239868,4.206551551818848,-3.5408694744110107,4.231356143951416,3.41544508934021,5.616633415222168,6.118978977203369,5.139051914215088,4.158973217010498,3.6991653442382812,0.20174935460090637,2.821282386779785,4.820734977722168,3.813218116760254,3.69285249710083,4.802816390991211,5.591004371643066,4.695980548858643,3.7080044746398926,1.0275373458862305,-3.779423713684082,-1.416991949081421,3.7699882984161377,2.004441976547241,4.732851982116699,5.238089084625244,3.52443528175354,4.616294860839844,5.9595112800598145,3.8158047199249268,4.692336082458496,5.237225532531738,5.536920070648193,3.5442092418670654,4.656435012817383,4.9485602378845215,4.046932220458984],\"yaxis\":\"y\",\"type\":\"scattergl\"}],                        {\"template\":{\"data\":{\"histogram2dcontour\":[{\"type\":\"histogram2dcontour\",\"colorbar\":{\"outlinewidth\":0,\"ticks\":\"\"},\"colorscale\":[[0.0,\"#0d0887\"],[0.1111111111111111,\"#46039f\"],[0.2222222222222222,\"#7201a8\"],[0.3333333333333333,\"#9c179e\"],[0.4444444444444444,\"#bd3786\"],[0.5555555555555556,\"#d8576b\"],[0.6666666666666666,\"#ed7953\"],[0.7777777777777778,\"#fb9f3a\"],[0.8888888888888888,\"#fdca26\"],[1.0,\"#f0f921\"]]}],\"choropleth\":[{\"type\":\"choropleth\",\"colorbar\":{\"outlinewidth\":0,\"ticks\":\"\"}}],\"histogram2d\":[{\"type\":\"histogram2d\",\"colorbar\":{\"outlinewidth\":0,\"ticks\":\"\"},\"colorscale\":[[0.0,\"#0d0887\"],[0.1111111111111111,\"#46039f\"],[0.2222222222222222,\"#7201a8\"],[0.3333333333333333,\"#9c179e\"],[0.4444444444444444,\"#bd3786\"],[0.5555555555555556,\"#d8576b\"],[0.6666666666666666,\"#ed7953\"],[0.7777777777777778,\"#fb9f3a\"],[0.8888888888888888,\"#fdca26\"],[1.0,\"#f0f921\"]]}],\"heatmap\":[{\"type\":\"heatmap\",\"colorbar\":{\"outlinewidth\":0,\"ticks\":\"\"},\"colorscale\":[[0.0,\"#0d0887\"],[0.1111111111111111,\"#46039f\"],[0.2222222222222222,\"#7201a8\"],[0.3333333333333333,\"#9c179e\"],[0.4444444444444444,\"#bd3786\"],[0.5555555555555556,\"#d8576b\"],[0.6666666666666666,\"#ed7953\"],[0.7777777777777778,\"#fb9f3a\"],[0.8888888888888888,\"#fdca26\"],[1.0,\"#f0f921\"]]}],\"heatmapgl\":[{\"type\":\"heatmapgl\",\"colorbar\":{\"outlinewidth\":0,\"ticks\":\"\"},\"colorscale\":[[0.0,\"#0d0887\"],[0.1111111111111111,\"#46039f\"],[0.2222222222222222,\"#7201a8\"],[0.3333333333333333,\"#9c179e\"],[0.4444444444444444,\"#bd3786\"],[0.5555555555555556,\"#d8576b\"],[0.6666666666666666,\"#ed7953\"],[0.7777777777777778,\"#fb9f3a\"],[0.8888888888888888,\"#fdca26\"],[1.0,\"#f0f921\"]]}],\"contourcarpet\":[{\"type\":\"contourcarpet\",\"colorbar\":{\"outlinewidth\":0,\"ticks\":\"\"}}],\"contour\":[{\"type\":\"contour\",\"colorbar\":{\"outlinewidth\":0,\"ticks\":\"\"},\"colorscale\":[[0.0,\"#0d0887\"],[0.1111111111111111,\"#46039f\"],[0.2222222222222222,\"#7201a8\"],[0.3333333333333333,\"#9c179e\"],[0.4444444444444444,\"#bd3786\"],[0.5555555555555556,\"#d8576b\"],[0.6666666666666666,\"#ed7953\"],[0.7777777777777778,\"#fb9f3a\"],[0.8888888888888888,\"#fdca26\"],[1.0,\"#f0f921\"]]}],\"surface\":[{\"type\":\"surface\",\"colorbar\":{\"outlinewidth\":0,\"ticks\":\"\"},\"colorscale\":[[0.0,\"#0d0887\"],[0.1111111111111111,\"#46039f\"],[0.2222222222222222,\"#7201a8\"],[0.3333333333333333,\"#9c179e\"],[0.4444444444444444,\"#bd3786\"],[0.5555555555555556,\"#d8576b\"],[0.6666666666666666,\"#ed7953\"],[0.7777777777777778,\"#fb9f3a\"],[0.8888888888888888,\"#fdca26\"],[1.0,\"#f0f921\"]]}],\"mesh3d\":[{\"type\":\"mesh3d\",\"colorbar\":{\"outlinewidth\":0,\"ticks\":\"\"}}],\"scatter\":[{\"fillpattern\":{\"fillmode\":\"overlay\",\"size\":10,\"solidity\":0.2},\"type\":\"scatter\"}],\"parcoords\":[{\"type\":\"parcoords\",\"line\":{\"colorbar\":{\"outlinewidth\":0,\"ticks\":\"\"}}}],\"scatterpolargl\":[{\"type\":\"scatterpolargl\",\"marker\":{\"colorbar\":{\"outlinewidth\":0,\"ticks\":\"\"}}}],\"bar\":[{\"error_x\":{\"color\":\"#2a3f5f\"},\"error_y\":{\"color\":\"#2a3f5f\"},\"marker\":{\"line\":{\"color\":\"#E5ECF6\",\"width\":0.5},\"pattern\":{\"fillmode\":\"overlay\",\"size\":10,\"solidity\":0.2}},\"type\":\"bar\"}],\"scattergeo\":[{\"type\":\"scattergeo\",\"marker\":{\"colorbar\":{\"outlinewidth\":0,\"ticks\":\"\"}}}],\"scatterpolar\":[{\"type\":\"scatterpolar\",\"marker\":{\"colorbar\":{\"outlinewidth\":0,\"ticks\":\"\"}}}],\"histogram\":[{\"marker\":{\"pattern\":{\"fillmode\":\"overlay\",\"size\":10,\"solidity\":0.2}},\"type\":\"histogram\"}],\"scattergl\":[{\"type\":\"scattergl\",\"marker\":{\"colorbar\":{\"outlinewidth\":0,\"ticks\":\"\"}}}],\"scatter3d\":[{\"type\":\"scatter3d\",\"line\":{\"colorbar\":{\"outlinewidth\":0,\"ticks\":\"\"}},\"marker\":{\"colorbar\":{\"outlinewidth\":0,\"ticks\":\"\"}}}],\"scattermapbox\":[{\"type\":\"scattermapbox\",\"marker\":{\"colorbar\":{\"outlinewidth\":0,\"ticks\":\"\"}}}],\"scatterternary\":[{\"type\":\"scatterternary\",\"marker\":{\"colorbar\":{\"outlinewidth\":0,\"ticks\":\"\"}}}],\"scattercarpet\":[{\"type\":\"scattercarpet\",\"marker\":{\"colorbar\":{\"outlinewidth\":0,\"ticks\":\"\"}}}],\"carpet\":[{\"aaxis\":{\"endlinecolor\":\"#2a3f5f\",\"gridcolor\":\"white\",\"linecolor\":\"white\",\"minorgridcolor\":\"white\",\"startlinecolor\":\"#2a3f5f\"},\"baxis\":{\"endlinecolor\":\"#2a3f5f\",\"gridcolor\":\"white\",\"linecolor\":\"white\",\"minorgridcolor\":\"white\",\"startlinecolor\":\"#2a3f5f\"},\"type\":\"carpet\"}],\"table\":[{\"cells\":{\"fill\":{\"color\":\"#EBF0F8\"},\"line\":{\"color\":\"white\"}},\"header\":{\"fill\":{\"color\":\"#C8D4E3\"},\"line\":{\"color\":\"white\"}},\"type\":\"table\"}],\"barpolar\":[{\"marker\":{\"line\":{\"color\":\"#E5ECF6\",\"width\":0.5},\"pattern\":{\"fillmode\":\"overlay\",\"size\":10,\"solidity\":0.2}},\"type\":\"barpolar\"}],\"pie\":[{\"automargin\":true,\"type\":\"pie\"}]},\"layout\":{\"autotypenumbers\":\"strict\",\"colorway\":[\"#636efa\",\"#EF553B\",\"#00cc96\",\"#ab63fa\",\"#FFA15A\",\"#19d3f3\",\"#FF6692\",\"#B6E880\",\"#FF97FF\",\"#FECB52\"],\"font\":{\"color\":\"#2a3f5f\"},\"hovermode\":\"closest\",\"hoverlabel\":{\"align\":\"left\"},\"paper_bgcolor\":\"white\",\"plot_bgcolor\":\"#E5ECF6\",\"polar\":{\"bgcolor\":\"#E5ECF6\",\"angularaxis\":{\"gridcolor\":\"white\",\"linecolor\":\"white\",\"ticks\":\"\"},\"radialaxis\":{\"gridcolor\":\"white\",\"linecolor\":\"white\",\"ticks\":\"\"}},\"ternary\":{\"bgcolor\":\"#E5ECF6\",\"aaxis\":{\"gridcolor\":\"white\",\"linecolor\":\"white\",\"ticks\":\"\"},\"baxis\":{\"gridcolor\":\"white\",\"linecolor\":\"white\",\"ticks\":\"\"},\"caxis\":{\"gridcolor\":\"white\",\"linecolor\":\"white\",\"ticks\":\"\"}},\"coloraxis\":{\"colorbar\":{\"outlinewidth\":0,\"ticks\":\"\"}},\"colorscale\":{\"sequential\":[[0.0,\"#0d0887\"],[0.1111111111111111,\"#46039f\"],[0.2222222222222222,\"#7201a8\"],[0.3333333333333333,\"#9c179e\"],[0.4444444444444444,\"#bd3786\"],[0.5555555555555556,\"#d8576b\"],[0.6666666666666666,\"#ed7953\"],[0.7777777777777778,\"#fb9f3a\"],[0.8888888888888888,\"#fdca26\"],[1.0,\"#f0f921\"]],\"sequentialminus\":[[0.0,\"#0d0887\"],[0.1111111111111111,\"#46039f\"],[0.2222222222222222,\"#7201a8\"],[0.3333333333333333,\"#9c179e\"],[0.4444444444444444,\"#bd3786\"],[0.5555555555555556,\"#d8576b\"],[0.6666666666666666,\"#ed7953\"],[0.7777777777777778,\"#fb9f3a\"],[0.8888888888888888,\"#fdca26\"],[1.0,\"#f0f921\"]],\"diverging\":[[0,\"#8e0152\"],[0.1,\"#c51b7d\"],[0.2,\"#de77ae\"],[0.3,\"#f1b6da\"],[0.4,\"#fde0ef\"],[0.5,\"#f7f7f7\"],[0.6,\"#e6f5d0\"],[0.7,\"#b8e186\"],[0.8,\"#7fbc41\"],[0.9,\"#4d9221\"],[1,\"#276419\"]]},\"xaxis\":{\"gridcolor\":\"white\",\"linecolor\":\"white\",\"ticks\":\"\",\"title\":{\"standoff\":15},\"zerolinecolor\":\"white\",\"automargin\":true,\"zerolinewidth\":2},\"yaxis\":{\"gridcolor\":\"white\",\"linecolor\":\"white\",\"ticks\":\"\",\"title\":{\"standoff\":15},\"zerolinecolor\":\"white\",\"automargin\":true,\"zerolinewidth\":2},\"scene\":{\"xaxis\":{\"backgroundcolor\":\"#E5ECF6\",\"gridcolor\":\"white\",\"linecolor\":\"white\",\"showbackground\":true,\"ticks\":\"\",\"zerolinecolor\":\"white\",\"gridwidth\":2},\"yaxis\":{\"backgroundcolor\":\"#E5ECF6\",\"gridcolor\":\"white\",\"linecolor\":\"white\",\"showbackground\":true,\"ticks\":\"\",\"zerolinecolor\":\"white\",\"gridwidth\":2},\"zaxis\":{\"backgroundcolor\":\"#E5ECF6\",\"gridcolor\":\"white\",\"linecolor\":\"white\",\"showbackground\":true,\"ticks\":\"\",\"zerolinecolor\":\"white\",\"gridwidth\":2}},\"shapedefaults\":{\"line\":{\"color\":\"#2a3f5f\"}},\"annotationdefaults\":{\"arrowcolor\":\"#2a3f5f\",\"arrowhead\":0,\"arrowwidth\":1},\"geo\":{\"bgcolor\":\"white\",\"landcolor\":\"#E5ECF6\",\"subunitcolor\":\"white\",\"showland\":true,\"showlakes\":true,\"lakecolor\":\"white\"},\"title\":{\"x\":0.05},\"mapbox\":{\"style\":\"light\"}}},\"xaxis\":{\"anchor\":\"y\",\"domain\":[0.0,1.0],\"title\":{\"text\":\"0\"}},\"yaxis\":{\"anchor\":\"x\",\"domain\":[0.0,1.0],\"title\":{\"text\":\"1\"}},\"legend\":{\"title\":{\"text\":\"\\u0412\\u0438\\u0434 \\u041d\\u041f\\u0410\"},\"tracegroupgap\":0},\"margin\":{\"t\":60}},                        {\"responsive\": true}                    ).then(function(){\n",
              "                            \n",
              "var gd = document.getElementById('917b69e9-01d8-45c5-97a4-e85905e605a5');\n",
              "var x = new MutationObserver(function (mutations, observer) {{\n",
              "        var display = window.getComputedStyle(gd).display;\n",
              "        if (!display || display === 'none') {{\n",
              "            console.log([gd, 'removed!']);\n",
              "            Plotly.purge(gd);\n",
              "            observer.disconnect();\n",
              "        }}\n",
              "}});\n",
              "\n",
              "// Listen for the removal of the full notebook cells\n",
              "var notebookContainer = gd.closest('#notebook-container');\n",
              "if (notebookContainer) {{\n",
              "    x.observe(notebookContainer, {childList: true});\n",
              "}}\n",
              "\n",
              "// Listen for the clearing of the current output cell\n",
              "var outputEl = gd.closest('.output');\n",
              "if (outputEl) {{\n",
              "    x.observe(outputEl, {childList: true});\n",
              "}}\n",
              "\n",
              "                        })                };                            </script>        </div>\n",
              "</body>\n",
              "</html>"
            ]
          },
          "metadata": {}
        }
      ]
    }
  ]
}